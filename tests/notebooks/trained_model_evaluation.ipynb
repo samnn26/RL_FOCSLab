{
 "cells": [
  {
   "cell_type": "code",
   "execution_count": 18,
   "id": "095687c7",
   "metadata": {},
   "outputs": [],
   "source": [
    "import os\n",
    "import pickle\n",
    "import numpy as np\n",
    "import pandas as pd\n",
    "from IPython.display import clear_output\n",
    "\n",
    "import matplotlib\n",
    "import matplotlib.pyplot as plt\n",
    "#import config InlineBackend.figure_format = 'svg'\n",
    "import tensorflow as tf\n",
    "\n",
    "# silencing tensorflow warnings\n",
    "import logging\n",
    "logging.getLogger('tensorflow').setLevel(logging.FATAL)\n",
    "from datetime import datetime\n",
    "\n",
    "tf.__version__ # printint out tensorflow version used\n",
    "import stable_baselines\n",
    "from stable_baselines.common.callbacks import BaseCallback\n",
    "from stable_baselines.results_plotter import load_results, ts2xy\n",
    "from stable_baselines import PPO2\n",
    "from stable_baselines.bench import Monitor\n",
    "from stable_baselines.common.policies import MlpPolicy\n",
    "from stable_baselines import results_plotter\n",
    "from stable_baselines.common.evaluation import evaluate_policy\n",
    "#stable_baselines.__version__ # printing out stable_baselines version used\n",
    "import gym"
   ]
  },
  {
   "cell_type": "code",
   "execution_count": 2,
   "id": "10c56eb7",
   "metadata": {},
   "outputs": [],
   "source": [
    "with open('/Users/joshnevin/RL_FOCSLab/topologies/nsfnet_chen_5-paths_directional.h5', 'rb') as f:\n",
    "    topology = pickle.load(f)\n",
    "# node probabilities from https://github.com/xiaoliangchenUCD/DeepRMSA/blob/6708e9a023df1ec05bfdc77804b6829e33cacfe4/Deep_RMSA_A3C.py#L77\n",
    "node_request_probabilities = np.array([0.01801802, 0.04004004, 0.05305305, 0.01901902, 0.04504505,\n",
    "       0.02402402, 0.06706707, 0.08908909, 0.13813814, 0.12212212,\n",
    "       0.07607608, 0.12012012, 0.01901902, 0.16916917])\n",
    "load = int(1e10)\n",
    "env_args = dict(topology=topology, seed=1, load = load,\n",
    "                allow_rejection=False, # the agent cannot proactively reject a request\n",
    "                mean_service_holding_time=1e6, # value is not set as in the paper to achieve comparable reward values\n",
    "                episode_length=1000, node_request_probabilities=node_request_probabilities)"
   ]
  },
  {
   "cell_type": "code",
   "execution_count": 3,
   "id": "5bdae816",
   "metadata": {},
   "outputs": [],
   "source": [
    "env = gym.make('RWAFOCS-v2', **env_args)"
   ]
  },
  {
   "cell_type": "code",
   "execution_count": 5,
   "id": "e677cb19",
   "metadata": {},
   "outputs": [
    {
     "name": "stderr",
     "output_type": "stream",
     "text": [
      "/Users/joshnevin/.pyenv/versions/3.7.12/envs/rlenv37/lib/python3.7/site-packages/cloudpickle/cloudpickle.py:821: UserWarning: A pickle file created using an old (<=1.4.1) version of cloudpickle is currently being loaded. This is not supported by cloudpickle and will break in cloudpickle 1.7\n",
      "  \"will break in cloudpickle 1.7\", category=UserWarning\n"
     ]
    }
   ],
   "source": [
    "model = PPO2.load('/Users/joshnevin/RL_FOCSLab/tmp/RWAFOCS-ppo/2021-12-30_3/best_model')"
   ]
  },
  {
   "cell_type": "code",
   "execution_count": 6,
   "id": "9922c4c0",
   "metadata": {},
   "outputs": [],
   "source": [
    "mean_reward, std_reward = evaluate_policy(model, env, n_eval_episodes=1,deterministic =False)"
   ]
  },
  {
   "cell_type": "code",
   "execution_count": 7,
   "id": "996345d5",
   "metadata": {},
   "outputs": [
    {
     "data": {
      "text/plain": [
       "711.0"
      ]
     },
     "execution_count": 7,
     "metadata": {},
     "output_type": "execute_result"
    }
   ],
   "source": [
    "mean_reward"
   ]
  },
  {
   "cell_type": "code",
   "execution_count": 8,
   "id": "dab5efc8",
   "metadata": {},
   "outputs": [
    {
     "data": {
      "text/plain": [
       "0.0"
      ]
     },
     "execution_count": 8,
     "metadata": {},
     "output_type": "execute_result"
    }
   ],
   "source": [
    "std_reward"
   ]
  },
  {
   "cell_type": "code",
   "execution_count": 9,
   "id": "9d91cef1",
   "metadata": {},
   "outputs": [
    {
     "name": "stdout",
     "output_type": "stream",
     "text": [
      "Whole training process statistics:\n",
      "Path action probability: [0.697609   0.30098453 0.         0.00140647 0.        ]\n",
      "Wavelength action probability: [0.00562588 0.00843882 0.00281294 0.01125176 0.00421941 0.01547117\n",
      " 0.01265823 0.00984529 0.00843882 0.01265823 0.01125176 0.00421941\n",
      " 0.0140647  0.0140647  0.0140647  0.00843882 0.00984529 0.01547117\n",
      " 0.00843882 0.00421941 0.00562588 0.00984529 0.00703235 0.00562588\n",
      " 0.00843882 0.01125176 0.00843882 0.00281294 0.00984529 0.00562588\n",
      " 0.00843882 0.00703235 0.01125176 0.01125176 0.00281294 0.01547117\n",
      " 0.00843882 0.01547117 0.01125176 0.01547117 0.01125176 0.01125176\n",
      " 0.0140647  0.02672293 0.00984529 0.0140647  0.01547117 0.00984529\n",
      " 0.01125176 0.01125176 0.01265823 0.00703235 0.00703235 0.00421941\n",
      " 0.00703235 0.00703235 0.00703235 0.01969058 0.00843882 0.00984529\n",
      " 0.00421941 0.01125176 0.0140647  0.00843882 0.00140647 0.00843882\n",
      " 0.00562588 0.00984529 0.00562588 0.00843882 0.00843882 0.00984529\n",
      " 0.02390999 0.01547117 0.00984529 0.00843882 0.01125176 0.01547117\n",
      " 0.01265823 0.01125176 0.00703235 0.00562588 0.01125176 0.00843882\n",
      " 0.0140647  0.0140647  0.00703235 0.00843882 0.01687764 0.00562588\n",
      " 0.00843882 0.01125176 0.00703235 0.01265823 0.01125176 0.00984529\n",
      " 0.00703235 0.01125176 0.00843882 0.00843882]\n",
      "Load (Erlangs): 10000000000\n",
      "Service bit rate (Gb/s): 25.0\n",
      "Total number of services: 1000\n",
      "Total number of accepted services: 711\n",
      "Blocking probability: 0.28900000000000003\n",
      "Number of services on existing lightpaths: 52\n",
      "Number of services released: 0\n",
      "Number of transmitters on each node: [ 15.  30.  31.  18.  35.  11.  46.  65.  86.  86.  48.  68.  12. 108.]\n",
      "Number of receivers on each node: [16. 31. 31. 10. 28. 24. 47. 68. 83. 97. 50. 66. 11. 97.]\n"
     ]
    }
   ],
   "source": [
    "print(\"Whole training process statistics:\")\n",
    "rnd_path_action_probability = np.sum(env.actions_output, axis=1) / np.sum(env.actions_output)\n",
    "rnd_wavelength_action_probability = np.sum(env.actions_output, axis=0) / np.sum(env.actions_output)\n",
    "print('Path action probability:', np.sum(env.actions_output, axis=1) / np.sum(env.actions_output))\n",
    "print('Wavelength action probability:', np.sum(env.actions_output, axis=0) / np.sum(env.actions_output))\n",
    "num_lps_reused = env.num_lightpaths_reused\n",
    "print('Load (Erlangs):', load)\n",
    "print('Service bit rate (Gb/s):', env.service.bit_rate/1e9)\n",
    "print('Total number of services:', env.services_processed)\n",
    "print('Total number of accepted services:', env.services_accepted)\n",
    "print('Blocking probability:', 1 - env.services_accepted/env.services_processed)\n",
    "print('Number of services on existing lightpaths:', num_lps_reused)\n",
    "print('Number of services released:', env.num_lightpaths_released)\n",
    "print('Number of transmitters on each node:', env.num_transmitters)\n",
    "print('Number of receivers on each node:', env.num_receivers)"
   ]
  },
  {
   "cell_type": "code",
   "execution_count": 16,
   "id": "a6ce4321",
   "metadata": {},
   "outputs": [
    {
     "data": {
      "text/html": [
       "<div>\n",
       "<style scoped>\n",
       "    .dataframe tbody tr th:only-of-type {\n",
       "        vertical-align: middle;\n",
       "    }\n",
       "\n",
       "    .dataframe tbody tr th {\n",
       "        vertical-align: top;\n",
       "    }\n",
       "\n",
       "    .dataframe thead th {\n",
       "        text-align: right;\n",
       "    }\n",
       "</style>\n",
       "<table border=\"1\" class=\"dataframe\">\n",
       "  <thead>\n",
       "    <tr style=\"text-align: right;\">\n",
       "      <th></th>\n",
       "      <th>r</th>\n",
       "      <th>l</th>\n",
       "      <th>t</th>\n",
       "      <th>episode_service_blocking_rate</th>\n",
       "      <th>service_blocking_rate</th>\n",
       "    </tr>\n",
       "  </thead>\n",
       "  <tbody>\n",
       "    <tr>\n",
       "      <th>0</th>\n",
       "      <td>488</td>\n",
       "      <td>1000</td>\n",
       "      <td>8.738966</td>\n",
       "      <td>0.512</td>\n",
       "      <td>0.512</td>\n",
       "    </tr>\n",
       "    <tr>\n",
       "      <th>1</th>\n",
       "      <td>503</td>\n",
       "      <td>1000</td>\n",
       "      <td>13.898430</td>\n",
       "      <td>0.497</td>\n",
       "      <td>0.497</td>\n",
       "    </tr>\n",
       "    <tr>\n",
       "      <th>2</th>\n",
       "      <td>469</td>\n",
       "      <td>1000</td>\n",
       "      <td>18.994478</td>\n",
       "      <td>0.531</td>\n",
       "      <td>0.531</td>\n",
       "    </tr>\n",
       "    <tr>\n",
       "      <th>3</th>\n",
       "      <td>507</td>\n",
       "      <td>1000</td>\n",
       "      <td>24.047845</td>\n",
       "      <td>0.493</td>\n",
       "      <td>0.493</td>\n",
       "    </tr>\n",
       "    <tr>\n",
       "      <th>4</th>\n",
       "      <td>568</td>\n",
       "      <td>1000</td>\n",
       "      <td>29.460352</td>\n",
       "      <td>0.432</td>\n",
       "      <td>0.432</td>\n",
       "    </tr>\n",
       "    <tr>\n",
       "      <th>...</th>\n",
       "      <td>...</td>\n",
       "      <td>...</td>\n",
       "      <td>...</td>\n",
       "      <td>...</td>\n",
       "      <td>...</td>\n",
       "    </tr>\n",
       "    <tr>\n",
       "      <th>994</th>\n",
       "      <td>678</td>\n",
       "      <td>1000</td>\n",
       "      <td>5101.263800</td>\n",
       "      <td>0.322</td>\n",
       "      <td>0.322</td>\n",
       "    </tr>\n",
       "    <tr>\n",
       "      <th>995</th>\n",
       "      <td>686</td>\n",
       "      <td>1000</td>\n",
       "      <td>5106.395336</td>\n",
       "      <td>0.314</td>\n",
       "      <td>0.314</td>\n",
       "    </tr>\n",
       "    <tr>\n",
       "      <th>996</th>\n",
       "      <td>702</td>\n",
       "      <td>1000</td>\n",
       "      <td>5111.486787</td>\n",
       "      <td>0.298</td>\n",
       "      <td>0.298</td>\n",
       "    </tr>\n",
       "    <tr>\n",
       "      <th>997</th>\n",
       "      <td>681</td>\n",
       "      <td>1000</td>\n",
       "      <td>5116.575552</td>\n",
       "      <td>0.319</td>\n",
       "      <td>0.319</td>\n",
       "    </tr>\n",
       "    <tr>\n",
       "      <th>998</th>\n",
       "      <td>721</td>\n",
       "      <td>1000</td>\n",
       "      <td>5121.670667</td>\n",
       "      <td>0.279</td>\n",
       "      <td>0.279</td>\n",
       "    </tr>\n",
       "  </tbody>\n",
       "</table>\n",
       "<p>999 rows × 5 columns</p>\n",
       "</div>"
      ],
      "text/plain": [
       "       r     l            t  episode_service_blocking_rate  \\\n",
       "0    488  1000     8.738966                          0.512   \n",
       "1    503  1000    13.898430                          0.497   \n",
       "2    469  1000    18.994478                          0.531   \n",
       "3    507  1000    24.047845                          0.493   \n",
       "4    568  1000    29.460352                          0.432   \n",
       "..   ...   ...          ...                            ...   \n",
       "994  678  1000  5101.263800                          0.322   \n",
       "995  686  1000  5106.395336                          0.314   \n",
       "996  702  1000  5111.486787                          0.298   \n",
       "997  681  1000  5116.575552                          0.319   \n",
       "998  721  1000  5121.670667                          0.279   \n",
       "\n",
       "     service_blocking_rate  \n",
       "0                    0.512  \n",
       "1                    0.497  \n",
       "2                    0.531  \n",
       "3                    0.493  \n",
       "4                    0.432  \n",
       "..                     ...  \n",
       "994                  0.322  \n",
       "995                  0.314  \n",
       "996                  0.298  \n",
       "997                  0.319  \n",
       "998                  0.279  \n",
       "\n",
       "[999 rows x 5 columns]"
      ]
     },
     "execution_count": 16,
     "metadata": {},
     "output_type": "execute_result"
    }
   ],
   "source": [
    "df = pd.read_csv(\"/Users/joshnevin/RL_FOCSLab/tmp/RWAFOCS-ppo/2021-12-30_3/training.monitor.csv\", skiprows=1)\n",
    "df"
   ]
  },
  {
   "cell_type": "code",
   "execution_count": 17,
   "id": "7fd88264",
   "metadata": {},
   "outputs": [],
   "source": [
    "rewards = df['r'].to_numpy()\n",
    "time = df['t'].to_numpy()\n",
    "blocking_rate_ep = df['episode_service_blocking_rate']\n",
    "blocking_rate = df['service_blocking_rate']"
   ]
  },
  {
   "cell_type": "code",
   "execution_count": 22,
   "id": "ffb8fbc4",
   "metadata": {},
   "outputs": [
    {
     "data": {
      "image/png": "[encoded data removed]",
      "text/plain": [
       "<Figure size 432x288 with 1 Axes>"
      ]
     },
     "metadata": {
      "needs_background": "light"
     },
     "output_type": "display_data"
    }
   ],
   "source": [
    "plt.plot(time, rewards, '+')\n",
    "plt.xlim([0,time[-1]])\n",
    "plt.xlabel(\"Timesteps\")\n",
    "plt.ylabel(\"Reward\")\n",
    "plt.show()"
   ]
  },
  {
   "cell_type": "code",
   "execution_count": 28,
   "id": "7d83c5e7",
   "metadata": {},
   "outputs": [
    {
     "data": {
      "image/png": "[encoded data removed]",
      "text/plain": [
       "<Figure size 432x288 with 1 Axes>"
      ]
     },
     "metadata": {
      "needs_background": "light"
     },
     "output_type": "display_data"
    }
   ],
   "source": [
    "plt.plot(time, blocking_rate, '+')\n",
    "plt.xlim([0,time[-1]])\n",
    "plt.xlabel(\"Timesteps\")\n",
    "plt.ylabel(\"Blocking probability\")\n",
    "plt.show()"
   ]
  },
  {
   "cell_type": "code",
   "execution_count": 29,
   "id": "8c60b9fa",
   "metadata": {},
   "outputs": [],
   "source": [
    "# test and visualize\n",
    "obs = env.reset()\n",
    "done = False\n",
    "total_reward = []\n",
    "while not done:\n",
    "    action, _states = model.predict(obs)\n",
    "    obs, rewards, done, info = env.step(action)\n",
    "    total_reward.append(rewards)"
   ]
  },
  {
   "cell_type": "code",
   "execution_count": 30,
   "id": "f8d4e8fa",
   "metadata": {
    "scrolled": true
   },
   "outputs": [
    {
     "data": {
      "text/plain": [
       "707"
      ]
     },
     "execution_count": 30,
     "metadata": {},
     "output_type": "execute_result"
    }
   ],
   "source": [
    "sum(total_reward)"
   ]
  },
  {
   "cell_type": "code",
   "execution_count": 32,
   "id": "8623f3c1",
   "metadata": {},
   "outputs": [],
   "source": [
    "#total_reward"
   ]
  },
  {
   "cell_type": "code",
   "execution_count": null,
   "id": "ab1e3a7d",
   "metadata": {},
   "outputs": [],
   "source": []
  }
 ],
 "metadata": {
  "kernelspec": {
   "display_name": "Python 3 (ipykernel)",
   "language": "python",
   "name": "python3"
  },
  "language_info": {
   "codemirror_mode": {
    "name": "ipython",
    "version": 3
   },
   "file_extension": ".py",
   "mimetype": "text/x-python",
   "name": "python",
   "nbconvert_exporter": "python",
   "pygments_lexer": "ipython3",
   "version": "3.7.12"
  }
 },
 "nbformat": 4,
 "nbformat_minor": 5
}
