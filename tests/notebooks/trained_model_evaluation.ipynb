{
 "cells": [
  {
   "cell_type": "code",
   "execution_count": 66,
   "id": "537e6c33",
   "metadata": {},
   "outputs": [],
   "source": [
    "import os\n",
    "import pickle\n",
    "import numpy as np\n",
    "import pandas as pd\n",
    "from IPython.display import clear_output\n",
    "import time\n",
    "import matplotlib\n",
    "import matplotlib.pyplot as plt\n",
    "#import config InlineBackend.figure_format = 'svg'\n",
    "import tensorflow as tf\n",
    "\n",
    "# silencing tensorflow warnings\n",
    "import logging\n",
    "logging.getLogger('tensorflow').setLevel(logging.FATAL)\n",
    "from datetime import datetime\n",
    "\n",
    "tf.__version__ # printint out tensorflow version used\n",
    "import stable_baselines\n",
    "from stable_baselines.common.callbacks import BaseCallback\n",
    "from stable_baselines.results_plotter import load_results, ts2xy\n",
    "from stable_baselines import PPO2\n",
    "from stable_baselines.bench import Monitor\n",
    "from stable_baselines.common.policies import MlpPolicy\n",
    "from stable_baselines import results_plotter\n",
    "from stable_baselines.common.evaluation import evaluate_policy\n",
    "#stable_baselines.__version__ # printing out stable_baselines version used\n",
    "import gym\n",
    "import cProfile \n",
    "font = { 'family' : 'sans-serif',\n",
    "                'weight' : 'normal',\n",
    "                'size'   : 14}\n",
    "matplotlib.rc('font', **font)"
   ]
  },
  {
   "cell_type": "code",
   "execution_count": 34,
   "id": "85929a8b",
   "metadata": {},
   "outputs": [],
   "source": [
    "def print_service_stats(env):\n",
    "    print(\"Whole training process statistics:\")\n",
    "    rnd_path_action_probability = np.sum(env.actions_output, axis=1) / np.sum(env.actions_output)\n",
    "    rnd_wavelength_action_probability = np.sum(env.actions_output, axis=0) / np.sum(env.actions_output)\n",
    "    print('Path action probability:', np.sum(env.actions_output, axis=1) / np.sum(env.actions_output))\n",
    "    print('Wavelength action probability:', np.sum(env.actions_output, axis=0) / np.sum(env.actions_output))\n",
    "    num_lps_reused = env.num_lightpaths_reused\n",
    "    print('Load (Erlangs):', load)\n",
    "    print('Service bit rate (Gb/s):', env.service.bit_rate/1e9)\n",
    "    print('Total number of services:', env.services_processed)\n",
    "    print('Total number of accepted services:', env.services_accepted)\n",
    "    print('Blocking probability:', 1 - env.services_accepted/env.services_processed)\n",
    "    print('Number of services on existing lightpaths:', num_lps_reused)\n",
    "    print('Number of services released:', env.num_lightpaths_released)\n",
    "    print('Number of transmitters on each node:', env.num_transmitters)\n",
    "    print('Number of receivers on each node:', env.num_receivers)\n",
    "    print('Final throughput (TB/s):', env.get_throughput()/1e12)\n",
    "def get_service_utils(env):\n",
    "    path_id_util = []\n",
    "    num_paths = env.topology.number_of_nodes() * (env.topology.number_of_nodes() - 1) * env.k_paths\n",
    "    for id in range(num_paths):\n",
    "        path_id_util.append(np.sum(env.lightpath_service_allocation[id,:]))\n",
    "    return path_id_util, num_paths"
   ]
  },
  {
   "cell_type": "code",
   "execution_count": 36,
   "id": "b07abb9d",
   "metadata": {},
   "outputs": [],
   "source": [
    "with open('/Users/joshnevin/RL_FOCSLab/topologies/nsfnet_chen_5-paths_directional.h5', 'rb') as f:\n",
    "    topology = pickle.load(f)\n",
    "# node probabilities from https://github.com/xiaoliangchenUCD/DeepRMSA/blob/6708e9a023df1ec05bfdc77804b6829e33cacfe4/Deep_RMSA_A3C.py#L77\n",
    "node_request_probabilities = np.array([0.01801802, 0.04004004, 0.05305305, 0.01901902, 0.04504505,\n",
    "       0.02402402, 0.06706707, 0.08908909, 0.13813814, 0.12212212,\n",
    "       0.07607608, 0.12012012, 0.01901902, 0.16916917])\n",
    "load = int(1e10)\n",
    "env_args = dict(topology=topology, seed=3, load = load,\n",
    "                allow_rejection=False, # the agent cannot proactively reject a request\n",
    "                mean_service_holding_time=1e8, # value is not set as in the paper to achieve comparable reward values\n",
    "                episode_length=3000, node_request_probabilities=node_request_probabilities)"
   ]
  },
  {
   "cell_type": "code",
   "execution_count": 37,
   "id": "f451858a",
   "metadata": {},
   "outputs": [],
   "source": [
    "env = gym.make('RWAFOCS-v2', **env_args)"
   ]
  },
  {
   "cell_type": "code",
   "execution_count": 38,
   "id": "c33aac8e",
   "metadata": {},
   "outputs": [],
   "source": [
    "model_dir = \"2022-01-05_0\"\n",
    "model = PPO2.load('/Users/joshnevin/RL_FOCSLab/tmp/RWAFOCS-ppo/'+model_dir+'/best_model')"
   ]
  },
  {
   "cell_type": "code",
   "execution_count": 39,
   "id": "f7fb39dd",
   "metadata": {},
   "outputs": [],
   "source": [
    "mean_reward, std_reward = evaluate_policy(model, env, n_eval_episodes=1,deterministic =False)"
   ]
  },
  {
   "cell_type": "code",
   "execution_count": 40,
   "id": "631bad13",
   "metadata": {},
   "outputs": [
    {
     "data": {
      "text/plain": [
       "1416.0"
      ]
     },
     "execution_count": 40,
     "metadata": {},
     "output_type": "execute_result"
    }
   ],
   "source": [
    "mean_reward"
   ]
  },
  {
   "cell_type": "code",
   "execution_count": 41,
   "id": "07f683bb",
   "metadata": {},
   "outputs": [
    {
     "data": {
      "text/plain": [
       "0.0"
      ]
     },
     "execution_count": 41,
     "metadata": {},
     "output_type": "execute_result"
    }
   ],
   "source": [
    "std_reward"
   ]
  },
  {
   "cell_type": "code",
   "execution_count": 42,
   "id": "c52f0692",
   "metadata": {},
   "outputs": [
    {
     "name": "stdout",
     "output_type": "stream",
     "text": [
      "Whole training process statistics:\n",
      "Path action probability: [7.40819209e-01 2.58474576e-01 0.00000000e+00 0.00000000e+00\n",
      " 7.06214689e-04]\n",
      "Wavelength action probability: [0.00918079 0.01341808 0.01271186 0.01059322 0.01271186 0.01059322\n",
      " 0.01059322 0.00141243 0.00918079 0.00635593 0.00847458 0.01271186\n",
      " 0.00918079 0.01059322 0.01059322 0.01271186 0.00988701 0.01200565\n",
      " 0.00918079 0.00918079 0.00847458 0.00918079 0.01059322 0.00776836\n",
      " 0.00776836 0.00918079 0.00918079 0.01341808 0.00918079 0.00918079\n",
      " 0.01341808 0.00423729 0.00988701 0.01200565 0.01059322 0.00988701\n",
      " 0.00635593 0.01059322 0.01129944 0.00988701 0.00918079 0.01059322\n",
      " 0.00988701 0.01059322 0.00988701 0.01059322 0.01059322 0.00988701\n",
      " 0.01059322 0.00706215 0.00918079 0.00988701 0.01200565 0.00423729\n",
      " 0.00776836 0.00706215 0.00847458 0.00847458 0.01129944 0.01059322\n",
      " 0.00988701 0.01341808 0.00988701 0.00988701 0.01200565 0.00918079\n",
      " 0.01059322 0.01271186 0.01129944 0.00847458 0.01059322 0.00918079\n",
      " 0.00847458 0.01200565 0.01271186 0.01059322 0.00847458 0.00918079\n",
      " 0.01059322 0.00918079 0.00988701 0.01129944 0.00918079 0.01271186\n",
      " 0.01271186 0.00776836 0.01059322 0.00918079 0.01271186 0.00706215\n",
      " 0.00847458 0.00918079 0.00918079 0.01271186 0.01129944 0.01271186\n",
      " 0.01200565 0.01200565 0.00918079 0.01059322]\n",
      "Load (Erlangs): 10000000000\n",
      "Service bit rate (Gb/s): 25.0\n",
      "Total number of services: 3000\n",
      "Total number of accepted services: 1416\n",
      "Blocking probability: 0.528\n",
      "Number of services on existing lightpaths: 673\n",
      "Number of services released: 0\n",
      "Number of transmitters on each node: [22. 26. 47. 17. 41. 28. 64. 77. 87. 78. 53. 85. 27. 91.]\n",
      "Number of receivers on each node: [ 19.  37.  54.  24.  42.  25.  52.  71.  91.  80.  54.  70.  20. 104.]\n",
      "Final throughput (TB/s): 55.6\n"
     ]
    }
   ],
   "source": [
    "print_service_stats(env)"
   ]
  },
  {
   "cell_type": "code",
   "execution_count": 44,
   "id": "f24b55bc",
   "metadata": {},
   "outputs": [
    {
     "data": {
      "text/html": [
       "<div>\n",
       "<style scoped>\n",
       "    .dataframe tbody tr th:only-of-type {\n",
       "        vertical-align: middle;\n",
       "    }\n",
       "\n",
       "    .dataframe tbody tr th {\n",
       "        vertical-align: top;\n",
       "    }\n",
       "\n",
       "    .dataframe thead th {\n",
       "        text-align: right;\n",
       "    }\n",
       "</style>\n",
       "<table border=\"1\" class=\"dataframe\">\n",
       "  <thead>\n",
       "    <tr style=\"text-align: right;\">\n",
       "      <th></th>\n",
       "      <th>r</th>\n",
       "      <th>l</th>\n",
       "      <th>t</th>\n",
       "      <th>episode_service_blocking_rate</th>\n",
       "      <th>service_blocking_rate</th>\n",
       "      <th>throughput</th>\n",
       "    </tr>\n",
       "  </thead>\n",
       "  <tbody>\n",
       "    <tr>\n",
       "      <th>0</th>\n",
       "      <td>888</td>\n",
       "      <td>3000</td>\n",
       "      <td>19.501088</td>\n",
       "      <td>0.704000</td>\n",
       "      <td>0.704000</td>\n",
       "      <td>34000000000000</td>\n",
       "    </tr>\n",
       "    <tr>\n",
       "      <th>1</th>\n",
       "      <td>1072</td>\n",
       "      <td>3000</td>\n",
       "      <td>34.607380</td>\n",
       "      <td>0.642667</td>\n",
       "      <td>0.642667</td>\n",
       "      <td>41450000000000</td>\n",
       "    </tr>\n",
       "    <tr>\n",
       "      <th>2</th>\n",
       "      <td>1132</td>\n",
       "      <td>3000</td>\n",
       "      <td>49.088218</td>\n",
       "      <td>0.622667</td>\n",
       "      <td>0.622667</td>\n",
       "      <td>43800000000000</td>\n",
       "    </tr>\n",
       "    <tr>\n",
       "      <th>3</th>\n",
       "      <td>1177</td>\n",
       "      <td>3000</td>\n",
       "      <td>63.042873</td>\n",
       "      <td>0.607667</td>\n",
       "      <td>0.607667</td>\n",
       "      <td>46750000000000</td>\n",
       "    </tr>\n",
       "    <tr>\n",
       "      <th>4</th>\n",
       "      <td>1149</td>\n",
       "      <td>3000</td>\n",
       "      <td>76.942460</td>\n",
       "      <td>0.617000</td>\n",
       "      <td>0.617000</td>\n",
       "      <td>46600000000000</td>\n",
       "    </tr>\n",
       "    <tr>\n",
       "      <th>...</th>\n",
       "      <td>...</td>\n",
       "      <td>...</td>\n",
       "      <td>...</td>\n",
       "      <td>...</td>\n",
       "      <td>...</td>\n",
       "      <td>...</td>\n",
       "    </tr>\n",
       "    <tr>\n",
       "      <th>1661</th>\n",
       "      <td>1435</td>\n",
       "      <td>3000</td>\n",
       "      <td>23708.139138</td>\n",
       "      <td>0.521667</td>\n",
       "      <td>0.521667</td>\n",
       "      <td>55100000000000</td>\n",
       "    </tr>\n",
       "    <tr>\n",
       "      <th>1662</th>\n",
       "      <td>1425</td>\n",
       "      <td>3000</td>\n",
       "      <td>23720.775418</td>\n",
       "      <td>0.525000</td>\n",
       "      <td>0.525000</td>\n",
       "      <td>54575000000000</td>\n",
       "    </tr>\n",
       "    <tr>\n",
       "      <th>1663</th>\n",
       "      <td>1437</td>\n",
       "      <td>3000</td>\n",
       "      <td>23733.276542</td>\n",
       "      <td>0.521000</td>\n",
       "      <td>0.521000</td>\n",
       "      <td>54825000000000</td>\n",
       "    </tr>\n",
       "    <tr>\n",
       "      <th>1664</th>\n",
       "      <td>1414</td>\n",
       "      <td>3000</td>\n",
       "      <td>23745.908640</td>\n",
       "      <td>0.528667</td>\n",
       "      <td>0.528667</td>\n",
       "      <td>54175000000000</td>\n",
       "    </tr>\n",
       "    <tr>\n",
       "      <th>1665</th>\n",
       "      <td>1416</td>\n",
       "      <td>3000</td>\n",
       "      <td>23758.358810</td>\n",
       "      <td>0.528000</td>\n",
       "      <td>0.528000</td>\n",
       "      <td>54450000000000</td>\n",
       "    </tr>\n",
       "  </tbody>\n",
       "</table>\n",
       "<p>1666 rows × 6 columns</p>\n",
       "</div>"
      ],
      "text/plain": [
       "         r     l             t  episode_service_blocking_rate  \\\n",
       "0      888  3000     19.501088                       0.704000   \n",
       "1     1072  3000     34.607380                       0.642667   \n",
       "2     1132  3000     49.088218                       0.622667   \n",
       "3     1177  3000     63.042873                       0.607667   \n",
       "4     1149  3000     76.942460                       0.617000   \n",
       "...    ...   ...           ...                            ...   \n",
       "1661  1435  3000  23708.139138                       0.521667   \n",
       "1662  1425  3000  23720.775418                       0.525000   \n",
       "1663  1437  3000  23733.276542                       0.521000   \n",
       "1664  1414  3000  23745.908640                       0.528667   \n",
       "1665  1416  3000  23758.358810                       0.528000   \n",
       "\n",
       "      service_blocking_rate      throughput  \n",
       "0                  0.704000  34000000000000  \n",
       "1                  0.642667  41450000000000  \n",
       "2                  0.622667  43800000000000  \n",
       "3                  0.607667  46750000000000  \n",
       "4                  0.617000  46600000000000  \n",
       "...                     ...             ...  \n",
       "1661               0.521667  55100000000000  \n",
       "1662               0.525000  54575000000000  \n",
       "1663               0.521000  54825000000000  \n",
       "1664               0.528667  54175000000000  \n",
       "1665               0.528000  54450000000000  \n",
       "\n",
       "[1666 rows x 6 columns]"
      ]
     },
     "execution_count": 44,
     "metadata": {},
     "output_type": "execute_result"
    }
   ],
   "source": [
    "df = pd.read_csv(\"/Users/joshnevin/RL_FOCSLab/tmp/RWAFOCS-ppo/\"+model_dir+\"/training.monitor.csv\", skiprows=1)\n",
    "df"
   ]
  },
  {
   "cell_type": "code",
   "execution_count": 75,
   "id": "e753a633",
   "metadata": {},
   "outputs": [],
   "source": [
    "rewards = df['r'].to_numpy()\n",
    "sim_time = df['t'].to_numpy()\n",
    "blocking_rate_ep = df['episode_service_blocking_rate']\n",
    "blocking_rate = df['service_blocking_rate']\n",
    "throughput = df['throughput']/1e12"
   ]
  },
  {
   "cell_type": "code",
   "execution_count": 71,
   "id": "3a8e9bce",
   "metadata": {},
   "outputs": [
    {
     "data": {
      "image/png": "[encoded data removed]",
      "text/plain": [
       "<Figure size 432x288 with 1 Axes>"
      ]
     },
     "metadata": {
      "needs_background": "light"
     },
     "output_type": "display_data"
    }
   ],
   "source": [
    "ca_mu_result_reward = np.ones([len(sim_time),])*1439\n",
    "plt.plot(sim_time, rewards, '+', label='Agent')\n",
    "plt.xlim([0,sim_time[-1]])\n",
    "plt.xlabel(\"Time\")\n",
    "plt.ylabel(\"Reward\")\n",
    "plt.plot(sim_time, ca_mu_result_reward, 'r', label ='CA-MU')\n",
    "plt.legend()\n",
    "plt.savefig('figures/rl_agent_vs_ca_mu_reward.jpeg', dpi=300,bbox_inches='tight')\n",
    "plt.show()"
   ]
  },
  {
   "cell_type": "code",
   "execution_count": 72,
   "id": "16ac2334",
   "metadata": {},
   "outputs": [
    {
     "data": {
      "image/png": "[encoded data removed]",
      "text/plain": [
       "<Figure size 432x288 with 1 Axes>"
      ]
     },
     "metadata": {
      "needs_background": "light"
     },
     "output_type": "display_data"
    }
   ],
   "source": [
    "ca_mu_result_bp = np.ones([len(sim_time),])*0.52\n",
    "plt.plot(sim_time, blocking_rate, '+', label='Agent')\n",
    "plt.xlim([0,sim_time[-1]])\n",
    "plt.xlabel(\"Time\")\n",
    "plt.ylabel(\"Blocking probability\")\n",
    "plt.plot(sim_time, ca_mu_result_bp, 'r', label='CA-MU')\n",
    "plt.legend()\n",
    "plt.savefig('figures/rl_agent_vs_ca_mu_blocking_prob.jpeg', dpi=300,bbox_inches='tight')\n",
    "plt.show()"
   ]
  },
  {
   "cell_type": "code",
   "execution_count": 76,
   "id": "613f9db9",
   "metadata": {},
   "outputs": [
    {
     "data": {
      "image/png": "[encoded data removed]",
      "text/plain": [
       "<Figure size 432x288 with 1 Axes>"
      ]
     },
     "metadata": {
      "needs_background": "light"
     },
     "output_type": "display_data"
    }
   ],
   "source": [
    "ca_mu_result_thru = np.ones([len(sim_time),])*57.5\n",
    "plt.plot(sim_time, throughput, '+', label='Agent')\n",
    "plt.xlim([0,sim_time[-1]])\n",
    "plt.xlabel(\"Time\")\n",
    "plt.ylabel(\"Throughput (Tb/s)\")\n",
    "plt.plot(sim_time, ca_mu_result_thru, 'r', label='CA-MU')\n",
    "plt.legend()\n",
    "plt.savefig('figures/rl_agent_vs_ca_mu_throughput.jpeg', dpi=300,bbox_inches='tight')\n",
    "plt.show()"
   ]
  },
  {
   "cell_type": "code",
   "execution_count": 32,
   "id": "ff9967f3",
   "metadata": {},
   "outputs": [],
   "source": [
    "# test and visualize\n",
    "obs = env.reset()\n",
    "done = False\n",
    "total_reward = []\n",
    "while not done:\n",
    "    action, _states = model.predict(obs)\n",
    "    obs, rewards, done, info = env.step(action)\n",
    "    total_reward.append(rewards)"
   ]
  },
  {
   "cell_type": "code",
   "execution_count": 33,
   "id": "79eb5700",
   "metadata": {
    "scrolled": true
   },
   "outputs": [
    {
     "data": {
      "text/plain": [
       "1408"
      ]
     },
     "execution_count": 33,
     "metadata": {},
     "output_type": "execute_result"
    }
   ],
   "source": [
    "sum(total_reward)"
   ]
  },
  {
   "cell_type": "code",
   "execution_count": null,
   "id": "0e791540",
   "metadata": {},
   "outputs": [],
   "source": [
    "action"
   ]
  },
  {
   "cell_type": "code",
   "execution_count": null,
   "id": "c90e0c2e",
   "metadata": {},
   "outputs": [],
   "source": [
    "start = time.time()\n",
    "env.observation()\n",
    "end = time.time()\n",
    "end - start"
   ]
  },
  {
   "cell_type": "code",
   "execution_count": null,
   "id": "fa5c4e61",
   "metadata": {},
   "outputs": [],
   "source": [
    "env.service.source"
   ]
  },
  {
   "cell_type": "code",
   "execution_count": null,
   "id": "afc1cf2c",
   "metadata": {},
   "outputs": [],
   "source": [
    "env.service.destination"
   ]
  },
  {
   "cell_type": "code",
   "execution_count": null,
   "id": "7e4eba0c",
   "metadata": {},
   "outputs": [],
   "source": [
    "env.lightpath_service_allocation"
   ]
  },
  {
   "cell_type": "code",
   "execution_count": null,
   "id": "c45cd54d",
   "metadata": {},
   "outputs": [],
   "source": [
    "cProfile.run('env.step(np.array([0,0]))')"
   ]
  },
  {
   "cell_type": "code",
   "execution_count": null,
   "id": "758d5b19",
   "metadata": {},
   "outputs": [],
   "source": [
    "optimal_params_file = \"2022-01-04exp_num.pkl\"\n",
    "model_params = pickle.load(open(\"./tmp/RWAFOCS-ppo/best_params/\"+optimal_params_file, 'rb'))"
   ]
  },
  {
   "cell_type": "code",
   "execution_count": null,
   "id": "81fef74a",
   "metadata": {},
   "outputs": [],
   "source": [
    "pwd"
   ]
  },
  {
   "cell_type": "code",
   "execution_count": null,
   "id": "edbf9182",
   "metadata": {},
   "outputs": [],
   "source": []
  }
 ],
 "metadata": {
  "kernelspec": {
   "display_name": "Python 3 (ipykernel)",
   "language": "python",
   "name": "python3"
  },
  "language_info": {
   "codemirror_mode": {
    "name": "ipython",
    "version": 3
   },
   "file_extension": ".py",
   "mimetype": "text/x-python",
   "name": "python",
   "nbconvert_exporter": "python",
   "pygments_lexer": "ipython3",
   "version": "3.7.12"
  }
 },
 "nbformat": 4,
 "nbformat_minor": 5
}
