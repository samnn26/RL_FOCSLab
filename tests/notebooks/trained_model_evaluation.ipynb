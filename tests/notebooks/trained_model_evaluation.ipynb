{
 "cells": [
  {
   "cell_type": "code",
   "execution_count": 1,
   "id": "537e6c33",
   "metadata": {},
   "outputs": [
    {
     "name": "stderr",
     "output_type": "stream",
     "text": [
      "/Users/joshnevin/.pyenv/versions/3.7.12/envs/rlenv37/lib/python3.7/site-packages/ale_py/roms/utils.py:90: DeprecationWarning: SelectableGroups dict interface is deprecated. Use select.\n",
      "  for external in metadata.entry_points().get(self.group, []):\n",
      "/Users/joshnevin/.pyenv/versions/3.7.12/envs/rlenv37/lib/python3.7/site-packages/stable_baselines/__init__.py:33: UserWarning: stable-baselines is in maintenance mode, please use [Stable-Baselines3 (SB3)](https://github.com/DLR-RM/stable-baselines3) for an up-to-date version. You can find a [migration guide](https://stable-baselines3.readthedocs.io/en/master/guide/migration.html) in SB3 documentation.\n",
      "  \"stable-baselines is in maintenance mode, please use [Stable-Baselines3 (SB3)](https://github.com/DLR-RM/stable-baselines3) for an up-to-date version. You can find a [migration guide](https://stable-baselines3.readthedocs.io/en/master/guide/migration.html) in SB3 documentation.\"\n"
     ]
    }
   ],
   "source": [
    "import os\n",
    "import pickle\n",
    "import numpy as np\n",
    "import pandas as pd\n",
    "from IPython.display import clear_output\n",
    "import time\n",
    "import matplotlib\n",
    "import matplotlib.pyplot as plt\n",
    "#import config InlineBackend.figure_format = 'svg'\n",
    "import tensorflow as tf\n",
    "\n",
    "# silencing tensorflow warnings\n",
    "import logging\n",
    "logging.getLogger('tensorflow').setLevel(logging.FATAL)\n",
    "from datetime import datetime\n",
    "\n",
    "tf.__version__ # printint out tensorflow version used\n",
    "import stable_baselines\n",
    "from stable_baselines.common.callbacks import BaseCallback\n",
    "from stable_baselines.results_plotter import load_results, ts2xy\n",
    "from stable_baselines import PPO2\n",
    "from stable_baselines.bench import Monitor\n",
    "from stable_baselines.common.policies import MlpPolicy\n",
    "from stable_baselines import results_plotter\n",
    "from stable_baselines.common.evaluation import evaluate_policy\n",
    "#stable_baselines.__version__ # printing out stable_baselines version used\n",
    "import gym\n",
    "import cProfile \n",
    "font = { 'family' : 'sans-serif',\n",
    "                'weight' : 'normal',\n",
    "                'size'   : 14}\n",
    "matplotlib.rc('font', **font)"
   ]
  },
  {
   "cell_type": "code",
   "execution_count": 2,
   "id": "85929a8b",
   "metadata": {},
   "outputs": [],
   "source": [
    "def print_service_stats(env):\n",
    "    print(\"Whole training process statistics:\")\n",
    "    rnd_path_action_probability = np.sum(env.actions_output, axis=1) / np.sum(env.actions_output)\n",
    "    rnd_wavelength_action_probability = np.sum(env.actions_output, axis=0) / np.sum(env.actions_output)\n",
    "    print('Path action probability:', np.sum(env.actions_output, axis=1) / np.sum(env.actions_output))\n",
    "    print('Wavelength action probability:', np.sum(env.actions_output, axis=0) / np.sum(env.actions_output))\n",
    "    num_lps_reused = env.num_lightpaths_reused\n",
    "    print('Load (Erlangs):', load)\n",
    "    print('Service bit rate (Gb/s):', env.service.bit_rate/1e9)\n",
    "    print('Total number of services:', env.services_processed)\n",
    "    print('Total number of accepted services:', env.services_accepted)\n",
    "    print('Proportion of services provisioned:', env.services_accepted/env.services_processed)\n",
    "    print('Number of services on existing lightpaths:', num_lps_reused)\n",
    "    print('Number of services released:', env.num_lightpaths_released)\n",
    "    print('Number of transmitters on each node:', env.num_transmitters)\n",
    "    print('Number of receivers on each node:', env.num_receivers)\n",
    "    print('Final throughput (TB/s):', env.get_throughput()/1e12)\n",
    "def get_service_utils(env):\n",
    "    path_id_util = []\n",
    "    num_paths = env.topology.number_of_nodes() * (env.topology.number_of_nodes() - 1) * env.k_paths\n",
    "    for id in range(num_paths):\n",
    "        path_id_util.append(np.sum(env.lightpath_service_allocation[id,:]))\n",
    "    return path_id_util, num_paths"
   ]
  },
  {
   "cell_type": "code",
   "execution_count": 3,
   "id": "b07abb9d",
   "metadata": {},
   "outputs": [],
   "source": [
    "with open('/Users/joshnevin/RL_FOCSLab/topologies/nsfnet_chen_5-paths_directional.h5', 'rb') as f:\n",
    "    topology = pickle.load(f)\n",
    "# node probabilities from https://github.com/xiaoliangchenUCD/DeepRMSA/blob/6708e9a023df1ec05bfdc77804b6829e33cacfe4/Deep_RMSA_A3C.py#L77\n",
    "node_request_probabilities = np.array([0.01801802, 0.04004004, 0.05305305, 0.01901902, 0.04504505,\n",
    "       0.02402402, 0.06706707, 0.08908909, 0.13813814, 0.12212212,\n",
    "       0.07607608, 0.12012012, 0.01901902, 0.16916917])\n",
    "load = int(1e10)\n",
    "env_args = dict(topology=topology, seed=3, load = load,\n",
    "                allow_rejection=False, # the agent cannot proactively reject a request\n",
    "                mean_service_holding_time=1e8, # value is not set as in the paper to achieve comparable reward values\n",
    "                episode_length=1500, node_request_probabilities=node_request_probabilities, exp_request_res=25e9,\n",
    "                exp_request_lambda=1, term_on_first_block=False)"
   ]
  },
  {
   "cell_type": "code",
   "execution_count": 4,
   "id": "f451858a",
   "metadata": {},
   "outputs": [],
   "source": [
    "env = gym.make('RWAFOCS-v22', **env_args)"
   ]
  },
  {
   "cell_type": "code",
   "execution_count": 5,
   "id": "c33aac8e",
   "metadata": {},
   "outputs": [],
   "source": [
    "model_dir = \"2022-01-10_model2_2_10m_noearlyterm\"\n",
    "# model_dir = \"2022-01-11_ohobs_0rew/2022-01-11_1_core_0\"\n",
    "# model_dir = \"2022-01-11_oldobs_-1rew/2022-01-11_1_core_0\"\n",
    "model = PPO2.load('/Users/joshnevin/RL_FOCSLab/tmp/RWAFOCS-ppo/'+model_dir+'/best_model')"
   ]
  },
  {
   "cell_type": "code",
   "execution_count": 6,
   "id": "f7fb39dd",
   "metadata": {},
   "outputs": [
    {
     "name": "stdout",
     "output_type": "stream",
     "text": [
      "343.2\n",
      "16.569852141766386\n"
     ]
    }
   ],
   "source": [
    "mean_reward, std_reward = evaluate_policy(model, env, n_eval_episodes=5,deterministic =False)\n",
    "print(mean_reward)\n",
    "print(std_reward)"
   ]
  },
  {
   "cell_type": "code",
   "execution_count": 7,
   "id": "c52f0692",
   "metadata": {},
   "outputs": [
    {
     "name": "stdout",
     "output_type": "stream",
     "text": [
      "Whole training process statistics:\n",
      "Path action probability: [0.80448718 0.19551282 0.         0.         0.        ]\n",
      "Wavelength action probability: [0.01175214 0.01068376 0.00854701 0.01068376 0.01068376 0.01068376\n",
      " 0.00961538 0.00961538 0.00747863 0.01388889 0.00854701 0.00534188\n",
      " 0.01495726 0.01282051 0.00747863 0.01388889 0.01175214 0.01388889\n",
      " 0.01282051 0.01175214 0.0042735  0.01068376 0.01068376 0.00747863\n",
      " 0.00961538 0.01282051 0.00961538 0.01068376 0.01282051 0.01068376\n",
      " 0.01282051 0.01068376 0.00854701 0.01709402 0.00641026 0.01068376\n",
      " 0.01068376 0.00641026 0.00641026 0.00534188 0.00641026 0.01175214\n",
      " 0.00747863 0.01068376 0.01175214 0.00747863 0.01282051 0.01175214\n",
      " 0.01495726 0.00854701 0.00961538 0.01068376 0.01175214 0.01388889\n",
      " 0.01068376 0.00854701 0.0042735  0.01175214 0.00747863 0.01175214\n",
      " 0.01282051 0.01175214 0.01068376 0.01175214 0.00747863 0.01495726\n",
      " 0.00747863 0.00854701 0.01068376 0.00854701 0.00534188 0.01175214\n",
      " 0.00641026 0.00961538 0.00641026 0.00641026 0.01068376 0.00854701\n",
      " 0.00961538 0.00747863 0.00641026 0.00641026 0.01495726 0.01602564\n",
      " 0.00747863 0.01175214 0.00641026 0.00747863 0.00534188 0.01068376\n",
      " 0.01175214 0.0042735  0.00641026 0.01175214 0.01388889 0.01175214\n",
      " 0.01282051 0.01282051 0.01175214 0.00747863]\n",
      "Load (Erlangs): 10000000000\n",
      "Service bit rate (Gb/s): 50.0\n",
      "Total number of services: 1500\n",
      "Total number of accepted services: 936\n",
      "Proportion of services provisioned: 0.624\n",
      "Number of services on existing lightpaths: 84\n",
      "Number of services released: 0\n",
      "Number of transmitters on each node: [ 16.  33.  51.  20.  39.  26.  51.  73. 133.  91.  61.  96.  17. 145.]\n",
      "Number of receivers on each node: [ 22.  45.  29.  23.  45.  19.  60.  63. 131. 101.  76.  86.  20. 132.]\n",
      "Final throughput (TB/s): 38.225\n"
     ]
    }
   ],
   "source": [
    "print_service_stats(env)"
   ]
  },
  {
   "cell_type": "code",
   "execution_count": 8,
   "id": "f24b55bc",
   "metadata": {},
   "outputs": [
    {
     "data": {
      "text/html": [
       "<div>\n",
       "<style scoped>\n",
       "    .dataframe tbody tr th:only-of-type {\n",
       "        vertical-align: middle;\n",
       "    }\n",
       "\n",
       "    .dataframe tbody tr th {\n",
       "        vertical-align: top;\n",
       "    }\n",
       "\n",
       "    .dataframe thead th {\n",
       "        text-align: right;\n",
       "    }\n",
       "</style>\n",
       "<table border=\"1\" class=\"dataframe\">\n",
       "  <thead>\n",
       "    <tr style=\"text-align: right;\">\n",
       "      <th></th>\n",
       "      <th>r</th>\n",
       "      <th>l</th>\n",
       "      <th>t</th>\n",
       "      <th>episode_service_blocking_rate</th>\n",
       "      <th>service_blocking_rate</th>\n",
       "      <th>throughput</th>\n",
       "    </tr>\n",
       "  </thead>\n",
       "  <tbody>\n",
       "    <tr>\n",
       "      <th>0</th>\n",
       "      <td>-258</td>\n",
       "      <td>1500</td>\n",
       "      <td>19.802191</td>\n",
       "      <td>0.586000</td>\n",
       "      <td>0.586000</td>\n",
       "      <td>23475000000000</td>\n",
       "    </tr>\n",
       "    <tr>\n",
       "      <th>1</th>\n",
       "      <td>-214</td>\n",
       "      <td>1500</td>\n",
       "      <td>31.229247</td>\n",
       "      <td>0.571333</td>\n",
       "      <td>0.571333</td>\n",
       "      <td>24950000000000</td>\n",
       "    </tr>\n",
       "    <tr>\n",
       "      <th>2</th>\n",
       "      <td>-222</td>\n",
       "      <td>1500</td>\n",
       "      <td>42.408845</td>\n",
       "      <td>0.574000</td>\n",
       "      <td>0.574000</td>\n",
       "      <td>25525000000000</td>\n",
       "    </tr>\n",
       "    <tr>\n",
       "      <th>3</th>\n",
       "      <td>-178</td>\n",
       "      <td>1500</td>\n",
       "      <td>53.069086</td>\n",
       "      <td>0.559333</td>\n",
       "      <td>0.559333</td>\n",
       "      <td>26275000000000</td>\n",
       "    </tr>\n",
       "    <tr>\n",
       "      <th>4</th>\n",
       "      <td>-106</td>\n",
       "      <td>1500</td>\n",
       "      <td>63.931008</td>\n",
       "      <td>0.535333</td>\n",
       "      <td>0.535333</td>\n",
       "      <td>26725000000000</td>\n",
       "    </tr>\n",
       "    <tr>\n",
       "      <th>...</th>\n",
       "      <td>...</td>\n",
       "      <td>...</td>\n",
       "      <td>...</td>\n",
       "      <td>...</td>\n",
       "      <td>...</td>\n",
       "      <td>...</td>\n",
       "    </tr>\n",
       "    <tr>\n",
       "      <th>3926</th>\n",
       "      <td>316</td>\n",
       "      <td>1500</td>\n",
       "      <td>43147.960697</td>\n",
       "      <td>0.394667</td>\n",
       "      <td>0.394667</td>\n",
       "      <td>36650000000000</td>\n",
       "    </tr>\n",
       "    <tr>\n",
       "      <th>3927</th>\n",
       "      <td>384</td>\n",
       "      <td>1500</td>\n",
       "      <td>43158.816092</td>\n",
       "      <td>0.372000</td>\n",
       "      <td>0.372000</td>\n",
       "      <td>37000000000000</td>\n",
       "    </tr>\n",
       "    <tr>\n",
       "      <th>3928</th>\n",
       "      <td>268</td>\n",
       "      <td>1500</td>\n",
       "      <td>43169.723825</td>\n",
       "      <td>0.410667</td>\n",
       "      <td>0.410667</td>\n",
       "      <td>36025000000000</td>\n",
       "    </tr>\n",
       "    <tr>\n",
       "      <th>3929</th>\n",
       "      <td>298</td>\n",
       "      <td>1500</td>\n",
       "      <td>43181.105164</td>\n",
       "      <td>0.400667</td>\n",
       "      <td>0.400667</td>\n",
       "      <td>35725000000000</td>\n",
       "    </tr>\n",
       "    <tr>\n",
       "      <th>3930</th>\n",
       "      <td>340</td>\n",
       "      <td>1500</td>\n",
       "      <td>43192.828994</td>\n",
       "      <td>0.386667</td>\n",
       "      <td>0.386667</td>\n",
       "      <td>35750000000000</td>\n",
       "    </tr>\n",
       "  </tbody>\n",
       "</table>\n",
       "<p>3931 rows × 6 columns</p>\n",
       "</div>"
      ],
      "text/plain": [
       "        r     l             t  episode_service_blocking_rate  \\\n",
       "0    -258  1500     19.802191                       0.586000   \n",
       "1    -214  1500     31.229247                       0.571333   \n",
       "2    -222  1500     42.408845                       0.574000   \n",
       "3    -178  1500     53.069086                       0.559333   \n",
       "4    -106  1500     63.931008                       0.535333   \n",
       "...   ...   ...           ...                            ...   \n",
       "3926  316  1500  43147.960697                       0.394667   \n",
       "3927  384  1500  43158.816092                       0.372000   \n",
       "3928  268  1500  43169.723825                       0.410667   \n",
       "3929  298  1500  43181.105164                       0.400667   \n",
       "3930  340  1500  43192.828994                       0.386667   \n",
       "\n",
       "      service_blocking_rate      throughput  \n",
       "0                  0.586000  23475000000000  \n",
       "1                  0.571333  24950000000000  \n",
       "2                  0.574000  25525000000000  \n",
       "3                  0.559333  26275000000000  \n",
       "4                  0.535333  26725000000000  \n",
       "...                     ...             ...  \n",
       "3926               0.394667  36650000000000  \n",
       "3927               0.372000  37000000000000  \n",
       "3928               0.410667  36025000000000  \n",
       "3929               0.400667  35725000000000  \n",
       "3930               0.386667  35750000000000  \n",
       "\n",
       "[3931 rows x 6 columns]"
      ]
     },
     "execution_count": 8,
     "metadata": {},
     "output_type": "execute_result"
    }
   ],
   "source": [
    "df = pd.read_csv(\"/Users/joshnevin/RL_FOCSLab/tmp/RWAFOCS-ppo/\"+model_dir+\"/training.monitor.csv\", skiprows=1)\n",
    "df"
   ]
  },
  {
   "cell_type": "code",
   "execution_count": 9,
   "id": "e753a633",
   "metadata": {},
   "outputs": [],
   "source": [
    "rewards = df['r'].to_numpy()\n",
    "sim_time = df['t'].to_numpy()\n",
    "blocking_rate_ep = df['episode_service_blocking_rate']\n",
    "blocking_rate = df['service_blocking_rate']\n",
    "throughput = df['throughput']/1e12"
   ]
  },
  {
   "cell_type": "code",
   "execution_count": 12,
   "id": "3a8e9bce",
   "metadata": {},
   "outputs": [
    {
     "data": {
      "image/png": "[encoded data removed]",
      "text/plain": [
       "<Figure size 432x288 with 1 Axes>"
      ]
     },
     "metadata": {
      "needs_background": "light"
     },
     "output_type": "display_data"
    }
   ],
   "source": [
    "ca_mu_result_reward = np.ones([len(sim_time),])*1439\n",
    "plt.plot(sim_time, rewards, '+', label='Agent')\n",
    "plt.xlim([0,sim_time[-1]])\n",
    "plt.xlabel(\"Time\")\n",
    "plt.ylabel(\"Reward\")\n",
    "# plt.plot(sim_time, ca_mu_result_reward, 'r', label ='CA-MU')\n",
    "plt.legend()\n",
    "# plt.savefig('figures/rl_agent_vs_ca_mu_reward_contlearn.jpeg', dpi=300,bbox_inches='tight')\n",
    "plt.show()"
   ]
  },
  {
   "cell_type": "code",
   "execution_count": 13,
   "id": "16ac2334",
   "metadata": {},
   "outputs": [
    {
     "data": {
      "image/png": "[encoded data removed]",
      "text/plain": [
       "<Figure size 432x288 with 1 Axes>"
      ]
     },
     "metadata": {
      "needs_background": "light"
     },
     "output_type": "display_data"
    }
   ],
   "source": [
    "ca_mu_result_bp = np.ones([len(sim_time),])*0.52\n",
    "plt.plot(sim_time, blocking_rate, '+', label='Agent')\n",
    "plt.xlim([0,sim_time[-1]])\n",
    "plt.xlabel(\"Time\")\n",
    "plt.ylabel(\"Blocking probability\")\n",
    "# plt.plot(sim_time, ca_mu_result_bp, 'r', label='CA-MU')\n",
    "plt.legend()\n",
    "# plt.savefig('figures/rl_agent_vs_ca_mu_blocking_prob_contlearn.jpeg', dpi=300,bbox_inches='tight')\n",
    "plt.show()"
   ]
  },
  {
   "cell_type": "code",
   "execution_count": 14,
   "id": "613f9db9",
   "metadata": {},
   "outputs": [
    {
     "data": {
      "image/png": "[encoded data removed]",
      "text/plain": [
       "<Figure size 432x288 with 1 Axes>"
      ]
     },
     "metadata": {
      "needs_background": "light"
     },
     "output_type": "display_data"
    }
   ],
   "source": [
    "ca_mu_result_thru = np.ones([len(sim_time),])*57.5\n",
    "plt.plot(sim_time, throughput, '+', label='Agent')\n",
    "plt.xlim([0,sim_time[-1]])\n",
    "plt.xlabel(\"Time\")\n",
    "plt.ylabel(\"Throughput (Tb/s)\")\n",
    "# plt.plot(sim_time, ca_mu_result_thru, 'r', label='CA-MU')\n",
    "plt.legend()\n",
    "# plt.savefig('figures/rl_agent_vs_ca_mu_throughput_contlearn.jpeg', dpi=300,bbox_inches='tight')\n",
    "plt.show()"
   ]
  },
  {
   "cell_type": "code",
   "execution_count": 16,
   "id": "ff9967f3",
   "metadata": {},
   "outputs": [
    {
     "data": {
      "text/plain": [
       "362"
      ]
     },
     "execution_count": 16,
     "metadata": {},
     "output_type": "execute_result"
    }
   ],
   "source": [
    "obs = env.reset()\n",
    "done = False\n",
    "total_reward = []\n",
    "while not done:\n",
    "    action, _states = model.predict(obs, deterministic=False)\n",
    "    obs, rewards, done, info = env.step(action)\n",
    "    total_reward.append(rewards)\n",
    "sum(total_reward)"
   ]
  },
  {
   "cell_type": "code",
   "execution_count": 18,
   "id": "92673804",
   "metadata": {},
   "outputs": [],
   "source": [
    "# total_reward"
   ]
  },
  {
   "cell_type": "code",
   "execution_count": null,
   "id": "ab8214e0",
   "metadata": {},
   "outputs": [],
   "source": [
    "plt.plot(total_reward, '+')\n",
    "plt.show()"
   ]
  },
  {
   "cell_type": "code",
   "execution_count": null,
   "id": "0e791540",
   "metadata": {},
   "outputs": [],
   "source": [
    "action"
   ]
  },
  {
   "cell_type": "code",
   "execution_count": null,
   "id": "c90e0c2e",
   "metadata": {},
   "outputs": [],
   "source": [
    "start = time.time()\n",
    "env.observation()\n",
    "end = time.time()\n",
    "end - start"
   ]
  },
  {
   "cell_type": "code",
   "execution_count": null,
   "id": "fa5c4e61",
   "metadata": {},
   "outputs": [],
   "source": [
    "env.service.source"
   ]
  },
  {
   "cell_type": "code",
   "execution_count": null,
   "id": "afc1cf2c",
   "metadata": {},
   "outputs": [],
   "source": [
    "env.service.destination"
   ]
  },
  {
   "cell_type": "code",
   "execution_count": null,
   "id": "7e4eba0c",
   "metadata": {},
   "outputs": [],
   "source": [
    "env.lightpath_service_allocation"
   ]
  },
  {
   "cell_type": "code",
   "execution_count": null,
   "id": "c45cd54d",
   "metadata": {},
   "outputs": [],
   "source": [
    "cProfile.run('env.step(np.array([0,0]))')"
   ]
  },
  {
   "cell_type": "code",
   "execution_count": null,
   "id": "758d5b19",
   "metadata": {},
   "outputs": [],
   "source": [
    "optimal_params_file = \"2022-01-04exp_num.pkl\"\n",
    "model_params = pickle.load(open(\"./tmp/RWAFOCS-ppo/best_params/\"+optimal_params_file, 'rb'))"
   ]
  },
  {
   "cell_type": "code",
   "execution_count": 46,
   "id": "81fef74a",
   "metadata": {},
   "outputs": [
    {
     "data": {
      "text/plain": [
       "(1528,)"
      ]
     },
     "execution_count": 46,
     "metadata": {},
     "output_type": "execute_result"
    }
   ],
   "source": [
    "env.observation_space.sample().shape"
   ]
  },
  {
   "cell_type": "code",
   "execution_count": 45,
   "id": "edbf9182",
   "metadata": {},
   "outputs": [
    {
     "data": {
      "text/plain": [
       "[0, 0, 0, 0, 0, 0, 0, 0, 0, 0, 0, 0, 1]"
      ]
     },
     "execution_count": 45,
     "metadata": {},
     "output_type": "execute_result"
    }
   ],
   "source": [
    "env.observation()[14:27]"
   ]
  },
  {
   "cell_type": "code",
   "execution_count": 42,
   "id": "a764cb60",
   "metadata": {},
   "outputs": [
    {
     "data": {
      "text/plain": [
       "'1'"
      ]
     },
     "execution_count": 42,
     "metadata": {},
     "output_type": "execute_result"
    }
   ],
   "source": [
    "env.service.source"
   ]
  },
  {
   "cell_type": "code",
   "execution_count": 43,
   "id": "72d8d814",
   "metadata": {},
   "outputs": [
    {
     "data": {
      "text/plain": [
       "'14'"
      ]
     },
     "execution_count": 43,
     "metadata": {},
     "output_type": "execute_result"
    }
   ],
   "source": [
    "env.service.destination"
   ]
  },
  {
   "cell_type": "code",
   "execution_count": null,
   "id": "79f2a035",
   "metadata": {},
   "outputs": [],
   "source": []
  }
 ],
 "metadata": {
  "kernelspec": {
   "display_name": "Python 3 (ipykernel)",
   "language": "python",
   "name": "python3"
  },
  "language_info": {
   "codemirror_mode": {
    "name": "ipython",
    "version": 3
   },
   "file_extension": ".py",
   "mimetype": "text/x-python",
   "name": "python",
   "nbconvert_exporter": "python",
   "pygments_lexer": "ipython3",
   "version": "3.7.12"
  }
 },
 "nbformat": 4,
 "nbformat_minor": 5
}
