{
 "cells": [
  {
   "cell_type": "code",
   "execution_count": 1,
   "id": "537e6c33",
   "metadata": {},
   "outputs": [
    {
     "name": "stderr",
     "output_type": "stream",
     "text": [
      "/Users/joshnevin/.pyenv/versions/3.7.12/envs/rlenv37/lib/python3.7/site-packages/ale_py/roms/utils.py:90: DeprecationWarning: SelectableGroups dict interface is deprecated. Use select.\n",
      "  for external in metadata.entry_points().get(self.group, []):\n",
      "/Users/joshnevin/.pyenv/versions/3.7.12/envs/rlenv37/lib/python3.7/site-packages/stable_baselines/__init__.py:33: UserWarning: stable-baselines is in maintenance mode, please use [Stable-Baselines3 (SB3)](https://github.com/DLR-RM/stable-baselines3) for an up-to-date version. You can find a [migration guide](https://stable-baselines3.readthedocs.io/en/master/guide/migration.html) in SB3 documentation.\n",
      "  \"stable-baselines is in maintenance mode, please use [Stable-Baselines3 (SB3)](https://github.com/DLR-RM/stable-baselines3) for an up-to-date version. You can find a [migration guide](https://stable-baselines3.readthedocs.io/en/master/guide/migration.html) in SB3 documentation.\"\n"
     ]
    }
   ],
   "source": [
    "import os\n",
    "import pickle\n",
    "import numpy as np\n",
    "import pandas as pd\n",
    "from IPython.display import clear_output\n",
    "import time\n",
    "import matplotlib\n",
    "import matplotlib.pyplot as plt\n",
    "#import config InlineBackend.figure_format = 'svg'\n",
    "import tensorflow as tf\n",
    "\n",
    "# silencing tensorflow warnings\n",
    "import logging\n",
    "logging.getLogger('tensorflow').setLevel(logging.FATAL)\n",
    "from datetime import datetime\n",
    "\n",
    "tf.__version__ # printint out tensorflow version used\n",
    "import stable_baselines\n",
    "from stable_baselines.common.callbacks import BaseCallback\n",
    "from stable_baselines.results_plotter import load_results, ts2xy\n",
    "from stable_baselines import PPO2\n",
    "from stable_baselines.bench import Monitor\n",
    "from stable_baselines.common.policies import MlpPolicy\n",
    "from stable_baselines import results_plotter\n",
    "from stable_baselines.common.evaluation import evaluate_policy\n",
    "#stable_baselines.__version__ # printing out stable_baselines version used\n",
    "import gym\n",
    "import cProfile \n",
    "font = { 'family' : 'sans-serif',\n",
    "                'weight' : 'normal',\n",
    "                'size'   : 14}\n",
    "matplotlib.rc('font', **font)"
   ]
  },
  {
   "cell_type": "code",
   "execution_count": 2,
   "id": "85929a8b",
   "metadata": {},
   "outputs": [],
   "source": [
    "def print_service_stats(env):\n",
    "    print(\"Whole training process statistics:\")\n",
    "    rnd_path_action_probability = np.sum(env.actions_output, axis=1) / np.sum(env.actions_output)\n",
    "    rnd_wavelength_action_probability = np.sum(env.actions_output, axis=0) / np.sum(env.actions_output)\n",
    "    print('Path action probability:', np.sum(env.actions_output, axis=1) / np.sum(env.actions_output))\n",
    "    print('Wavelength action probability:', np.sum(env.actions_output, axis=0) / np.sum(env.actions_output))\n",
    "    num_lps_reused = env.num_lightpaths_reused\n",
    "    print('Load (Erlangs):', load)\n",
    "    print('Service bit rate (Gb/s):', env.service.bit_rate/1e9)\n",
    "    print('Total number of services:', env.services_processed)\n",
    "    print('Total number of accepted services:', env.services_accepted)\n",
    "    print('Proportion of services provisioned:', env.services_accepted/env.services_processed)\n",
    "    print('Number of services on existing lightpaths:', num_lps_reused)\n",
    "    print('Number of services released:', env.num_lightpaths_released)\n",
    "    print('Number of transmitters on each node:', env.num_transmitters)\n",
    "    print('Number of receivers on each node:', env.num_receivers)\n",
    "    print('Final throughput (TB/s):', env.get_throughput()/1e12)\n",
    "def get_service_utils(env):\n",
    "    path_id_util = []\n",
    "    num_paths = env.topology.number_of_nodes() * (env.topology.number_of_nodes() - 1) * env.k_paths\n",
    "    for id in range(num_paths):\n",
    "        path_id_util.append(np.sum(env.lightpath_service_allocation[id,:]))\n",
    "    return path_id_util, num_paths"
   ]
  },
  {
   "cell_type": "code",
   "execution_count": 3,
   "id": "b07abb9d",
   "metadata": {},
   "outputs": [],
   "source": [
    "with open('/Users/joshnevin/RL_FOCSLab/topologies/nsfnet_chen_5-paths_directional.h5', 'rb') as f:\n",
    "    topology = pickle.load(f)\n",
    "# node probabilities from https://github.com/xiaoliangchenUCD/DeepRMSA/blob/6708e9a023df1ec05bfdc77804b6829e33cacfe4/Deep_RMSA_A3C.py#L77\n",
    "node_request_probabilities = np.array([0.01801802, 0.04004004, 0.05305305, 0.01901902, 0.04504505,\n",
    "       0.02402402, 0.06706707, 0.08908909, 0.13813814, 0.12212212,\n",
    "       0.07607608, 0.12012012, 0.01901902, 0.16916917])\n",
    "load = int(1e10)\n",
    "env_args = dict(topology=topology, seed=3, load = load,\n",
    "                allow_rejection=False, # the agent cannot proactively reject a request\n",
    "                mean_service_holding_time=1e8, # value is not set as in the paper to achieve comparable reward values\n",
    "                episode_length=3000, node_request_probabilities=node_request_probabilities)"
   ]
  },
  {
   "cell_type": "code",
   "execution_count": 4,
   "id": "f451858a",
   "metadata": {},
   "outputs": [],
   "source": [
    "env = gym.make('RWAFOCS-v2', **env_args)"
   ]
  },
  {
   "cell_type": "code",
   "execution_count": 5,
   "id": "c33aac8e",
   "metadata": {},
   "outputs": [],
   "source": [
    "model_dir = \"2022-01-06_contlearn\"\n",
    "model = PPO2.load('/Users/joshnevin/RL_FOCSLab/tmp/RWAFOCS-ppo/'+model_dir+'/best_model')"
   ]
  },
  {
   "cell_type": "code",
   "execution_count": 12,
   "id": "f7fb39dd",
   "metadata": {},
   "outputs": [],
   "source": [
    "mean_reward, std_reward = evaluate_policy(model, env, n_eval_episodes=1,deterministic =True)"
   ]
  },
  {
   "cell_type": "code",
   "execution_count": 13,
   "id": "631bad13",
   "metadata": {},
   "outputs": [
    {
     "data": {
      "text/plain": [
       "1.0"
      ]
     },
     "execution_count": 13,
     "metadata": {},
     "output_type": "execute_result"
    }
   ],
   "source": [
    "mean_reward"
   ]
  },
  {
   "cell_type": "code",
   "execution_count": 14,
   "id": "07f683bb",
   "metadata": {},
   "outputs": [
    {
     "data": {
      "text/plain": [
       "0.0"
      ]
     },
     "execution_count": 14,
     "metadata": {},
     "output_type": "execute_result"
    }
   ],
   "source": [
    "std_reward"
   ]
  },
  {
   "cell_type": "code",
   "execution_count": 27,
   "id": "c52f0692",
   "metadata": {},
   "outputs": [
    {
     "name": "stdout",
     "output_type": "stream",
     "text": [
      "Whole training process statistics:\n",
      "Path action probability: [8.56462585e-01 1.42857143e-01 0.00000000e+00 6.80272109e-04\n",
      " 0.00000000e+00]\n",
      "Wavelength action probability: [0.01088435 0.00884354 0.01020408 0.0122449  0.00952381 0.01020408\n",
      " 0.00952381 0.00952381 0.01088435 0.01088435 0.01156463 0.01156463\n",
      " 0.00952381 0.01088435 0.0122449  0.00952381 0.0122449  0.00952381\n",
      " 0.01088435 0.00884354 0.00952381 0.00952381 0.01020408 0.01156463\n",
      " 0.01088435 0.00816327 0.01088435 0.00748299 0.01088435 0.00952381\n",
      " 0.01020408 0.01020408 0.0122449  0.00884354 0.01088435 0.00884354\n",
      " 0.01020408 0.01156463 0.00816327 0.00952381 0.00952381 0.01020408\n",
      " 0.00884354 0.00952381 0.01020408 0.00816327 0.01156463 0.01156463\n",
      " 0.00884354 0.00952381 0.01020408 0.01156463 0.01020408 0.01020408\n",
      " 0.00952381 0.00884354 0.00068027 0.01088435 0.01156463 0.00816327\n",
      " 0.01088435 0.01020408 0.00748299 0.00816327 0.01088435 0.00952381\n",
      " 0.01020408 0.00952381 0.00952381 0.01020408 0.00884354 0.01020408\n",
      " 0.01156463 0.01020408 0.01156463 0.00884354 0.01088435 0.01020408\n",
      " 0.01360544 0.00884354 0.01088435 0.00952381 0.00952381 0.00748299\n",
      " 0.01156463 0.00816327 0.01020408 0.01020408 0.01360544 0.01020408\n",
      " 0.01088435 0.01088435 0.00884354 0.00816327 0.00816327 0.01020408\n",
      " 0.01020408 0.01292517 0.00884354 0.00952381]\n",
      "Load (Erlangs): 10000000000\n",
      "Service bit rate (Gb/s): 50.0\n",
      "Total number of services: 3000\n",
      "Total number of accepted services: 1470\n",
      "Blocking probability: 0.51\n",
      "Number of services on existing lightpaths: 777\n",
      "Number of services released: 0\n",
      "Number of transmitters on each node: [23. 34. 53. 19. 40. 21. 49. 58. 86. 81. 66. 61. 20. 82.]\n",
      "Number of receivers on each node: [23. 37. 43. 22. 37. 27. 54. 64. 86. 88. 57. 58. 21. 76.]\n",
      "Final throughput (TB/s): 56.925\n"
     ]
    }
   ],
   "source": [
    "print_service_stats(env)"
   ]
  },
  {
   "cell_type": "code",
   "execution_count": 10,
   "id": "f24b55bc",
   "metadata": {},
   "outputs": [
    {
     "data": {
      "text/html": [
       "<div>\n",
       "<style scoped>\n",
       "    .dataframe tbody tr th:only-of-type {\n",
       "        vertical-align: middle;\n",
       "    }\n",
       "\n",
       "    .dataframe tbody tr th {\n",
       "        vertical-align: top;\n",
       "    }\n",
       "\n",
       "    .dataframe thead th {\n",
       "        text-align: right;\n",
       "    }\n",
       "</style>\n",
       "<table border=\"1\" class=\"dataframe\">\n",
       "  <thead>\n",
       "    <tr style=\"text-align: right;\">\n",
       "      <th></th>\n",
       "      <th>r</th>\n",
       "      <th>l</th>\n",
       "      <th>t</th>\n",
       "      <th>episode_service_blocking_rate</th>\n",
       "      <th>service_blocking_rate</th>\n",
       "      <th>throughput</th>\n",
       "    </tr>\n",
       "  </thead>\n",
       "  <tbody>\n",
       "    <tr>\n",
       "      <th>0</th>\n",
       "      <td>1443</td>\n",
       "      <td>3000</td>\n",
       "      <td>16.336042</td>\n",
       "      <td>0.519000</td>\n",
       "      <td>0.519000</td>\n",
       "      <td>54750000000000</td>\n",
       "    </tr>\n",
       "    <tr>\n",
       "      <th>1</th>\n",
       "      <td>1412</td>\n",
       "      <td>3000</td>\n",
       "      <td>28.916371</td>\n",
       "      <td>0.529333</td>\n",
       "      <td>0.529333</td>\n",
       "      <td>54975000000000</td>\n",
       "    </tr>\n",
       "    <tr>\n",
       "      <th>2</th>\n",
       "      <td>1415</td>\n",
       "      <td>3000</td>\n",
       "      <td>41.593959</td>\n",
       "      <td>0.528333</td>\n",
       "      <td>0.528333</td>\n",
       "      <td>53700000000000</td>\n",
       "    </tr>\n",
       "    <tr>\n",
       "      <th>3</th>\n",
       "      <td>1386</td>\n",
       "      <td>3000</td>\n",
       "      <td>54.287709</td>\n",
       "      <td>0.538000</td>\n",
       "      <td>0.538000</td>\n",
       "      <td>53875000000000</td>\n",
       "    </tr>\n",
       "    <tr>\n",
       "      <th>4</th>\n",
       "      <td>1340</td>\n",
       "      <td>3000</td>\n",
       "      <td>66.904321</td>\n",
       "      <td>0.553333</td>\n",
       "      <td>0.553333</td>\n",
       "      <td>54300000000000</td>\n",
       "    </tr>\n",
       "    <tr>\n",
       "      <th>...</th>\n",
       "      <td>...</td>\n",
       "      <td>...</td>\n",
       "      <td>...</td>\n",
       "      <td>...</td>\n",
       "      <td>...</td>\n",
       "      <td>...</td>\n",
       "    </tr>\n",
       "    <tr>\n",
       "      <th>661</th>\n",
       "      <td>1479</td>\n",
       "      <td>3000</td>\n",
       "      <td>8146.211681</td>\n",
       "      <td>0.507000</td>\n",
       "      <td>0.507000</td>\n",
       "      <td>57375000000000</td>\n",
       "    </tr>\n",
       "    <tr>\n",
       "      <th>662</th>\n",
       "      <td>1464</td>\n",
       "      <td>3000</td>\n",
       "      <td>8158.416345</td>\n",
       "      <td>0.512000</td>\n",
       "      <td>0.512000</td>\n",
       "      <td>57075000000000</td>\n",
       "    </tr>\n",
       "    <tr>\n",
       "      <th>663</th>\n",
       "      <td>1452</td>\n",
       "      <td>3000</td>\n",
       "      <td>8170.320996</td>\n",
       "      <td>0.516000</td>\n",
       "      <td>0.516000</td>\n",
       "      <td>57300000000000</td>\n",
       "    </tr>\n",
       "    <tr>\n",
       "      <th>664</th>\n",
       "      <td>1430</td>\n",
       "      <td>3000</td>\n",
       "      <td>8182.199903</td>\n",
       "      <td>0.523333</td>\n",
       "      <td>0.523333</td>\n",
       "      <td>57450000000000</td>\n",
       "    </tr>\n",
       "    <tr>\n",
       "      <th>665</th>\n",
       "      <td>1464</td>\n",
       "      <td>3000</td>\n",
       "      <td>8194.299558</td>\n",
       "      <td>0.512000</td>\n",
       "      <td>0.512000</td>\n",
       "      <td>57200000000000</td>\n",
       "    </tr>\n",
       "  </tbody>\n",
       "</table>\n",
       "<p>666 rows × 6 columns</p>\n",
       "</div>"
      ],
      "text/plain": [
       "        r     l            t  episode_service_blocking_rate  \\\n",
       "0    1443  3000    16.336042                       0.519000   \n",
       "1    1412  3000    28.916371                       0.529333   \n",
       "2    1415  3000    41.593959                       0.528333   \n",
       "3    1386  3000    54.287709                       0.538000   \n",
       "4    1340  3000    66.904321                       0.553333   \n",
       "..    ...   ...          ...                            ...   \n",
       "661  1479  3000  8146.211681                       0.507000   \n",
       "662  1464  3000  8158.416345                       0.512000   \n",
       "663  1452  3000  8170.320996                       0.516000   \n",
       "664  1430  3000  8182.199903                       0.523333   \n",
       "665  1464  3000  8194.299558                       0.512000   \n",
       "\n",
       "     service_blocking_rate      throughput  \n",
       "0                 0.519000  54750000000000  \n",
       "1                 0.529333  54975000000000  \n",
       "2                 0.528333  53700000000000  \n",
       "3                 0.538000  53875000000000  \n",
       "4                 0.553333  54300000000000  \n",
       "..                     ...             ...  \n",
       "661               0.507000  57375000000000  \n",
       "662               0.512000  57075000000000  \n",
       "663               0.516000  57300000000000  \n",
       "664               0.523333  57450000000000  \n",
       "665               0.512000  57200000000000  \n",
       "\n",
       "[666 rows x 6 columns]"
      ]
     },
     "execution_count": 10,
     "metadata": {},
     "output_type": "execute_result"
    }
   ],
   "source": [
    "df = pd.read_csv(\"/Users/joshnevin/RL_FOCSLab/tmp/RWAFOCS-ppo/\"+model_dir+\"/training.monitor.csv\", skiprows=1)\n",
    "df"
   ]
  },
  {
   "cell_type": "code",
   "execution_count": 11,
   "id": "e753a633",
   "metadata": {},
   "outputs": [],
   "source": [
    "rewards = df['r'].to_numpy()\n",
    "sim_time = df['t'].to_numpy()\n",
    "blocking_rate_ep = df['episode_service_blocking_rate']\n",
    "blocking_rate = df['service_blocking_rate']\n",
    "throughput = df['throughput']/1e12"
   ]
  },
  {
   "cell_type": "code",
   "execution_count": 15,
   "id": "3a8e9bce",
   "metadata": {},
   "outputs": [
    {
     "data": {
      "image/png": "[encoded data removed]",
      "text/plain": [
       "<Figure size 432x288 with 1 Axes>"
      ]
     },
     "metadata": {
      "needs_background": "light"
     },
     "output_type": "display_data"
    }
   ],
   "source": [
    "ca_mu_result_reward = np.ones([len(sim_time),])*1439\n",
    "plt.plot(sim_time, rewards, '+', label='Agent')\n",
    "plt.xlim([0,sim_time[-1]])\n",
    "plt.xlabel(\"Time\")\n",
    "plt.ylabel(\"Reward\")\n",
    "plt.plot(sim_time, ca_mu_result_reward, 'r', label ='CA-MU')\n",
    "plt.legend()\n",
    "plt.savefig('figures/rl_agent_vs_ca_mu_reward_contlearn.jpeg', dpi=300,bbox_inches='tight')\n",
    "plt.show()"
   ]
  },
  {
   "cell_type": "code",
   "execution_count": 16,
   "id": "16ac2334",
   "metadata": {},
   "outputs": [
    {
     "data": {
      "image/png": "[encoded data removed]",
      "text/plain": [
       "<Figure size 432x288 with 1 Axes>"
      ]
     },
     "metadata": {
      "needs_background": "light"
     },
     "output_type": "display_data"
    }
   ],
   "source": [
    "ca_mu_result_bp = np.ones([len(sim_time),])*0.52\n",
    "plt.plot(sim_time, blocking_rate, '+', label='Agent')\n",
    "plt.xlim([0,sim_time[-1]])\n",
    "plt.xlabel(\"Time\")\n",
    "plt.ylabel(\"Blocking probability\")\n",
    "plt.plot(sim_time, ca_mu_result_bp, 'r', label='CA-MU')\n",
    "plt.legend()\n",
    "plt.savefig('figures/rl_agent_vs_ca_mu_blocking_prob_contlearn.jpeg', dpi=300,bbox_inches='tight')\n",
    "plt.show()"
   ]
  },
  {
   "cell_type": "code",
   "execution_count": 17,
   "id": "613f9db9",
   "metadata": {},
   "outputs": [
    {
     "data": {
      "image/png": "[encoded data removed]",
      "text/plain": [
       "<Figure size 432x288 with 1 Axes>"
      ]
     },
     "metadata": {
      "needs_background": "light"
     },
     "output_type": "display_data"
    }
   ],
   "source": [
    "ca_mu_result_thru = np.ones([len(sim_time),])*57.5\n",
    "plt.plot(sim_time, throughput, '+', label='Agent')\n",
    "plt.xlim([0,sim_time[-1]])\n",
    "plt.xlabel(\"Time\")\n",
    "plt.ylabel(\"Throughput (Tb/s)\")\n",
    "plt.plot(sim_time, ca_mu_result_thru, 'r', label='CA-MU')\n",
    "plt.legend()\n",
    "plt.savefig('figures/rl_agent_vs_ca_mu_throughput_contlearn.jpeg', dpi=300,bbox_inches='tight')\n",
    "plt.show()"
   ]
  },
  {
   "cell_type": "code",
   "execution_count": 6,
   "id": "ff9967f3",
   "metadata": {},
   "outputs": [
    {
     "name": "stdout",
     "output_type": "stream",
     "text": [
      "3000\n"
     ]
    },
    {
     "data": {
      "text/plain": [
       "11"
      ]
     },
     "execution_count": 6,
     "metadata": {},
     "output_type": "execute_result"
    }
   ],
   "source": [
    "obs = env.reset()\n",
    "done = False\n",
    "total_reward = []\n",
    "while not done:\n",
    "    action, _states = model.predict(obs, deterministic=True)\n",
    "    obs, rewards, done, info = env.step(action)\n",
    "    total_reward.append(rewards)\n",
    "sum(total_reward)"
   ]
  },
  {
   "cell_type": "code",
   "execution_count": 8,
   "id": "333bc4c9",
   "metadata": {},
   "outputs": [],
   "source": [
    "#total_reward"
   ]
  },
  {
   "cell_type": "code",
   "execution_count": 47,
   "id": "44e9e6f3",
   "metadata": {},
   "outputs": [
    {
     "data": {
      "image/png": "[encoded data removed]",
      "text/plain": [
       "<Figure size 432x288 with 1 Axes>"
      ]
     },
     "metadata": {
      "needs_background": "light"
     },
     "output_type": "display_data"
    }
   ],
   "source": [
    "plt.plot(total_reward, '+')\n",
    "plt.show()"
   ]
  },
  {
   "cell_type": "code",
   "execution_count": null,
   "id": "0e791540",
   "metadata": {},
   "outputs": [],
   "source": [
    "action"
   ]
  },
  {
   "cell_type": "code",
   "execution_count": null,
   "id": "c90e0c2e",
   "metadata": {},
   "outputs": [],
   "source": [
    "start = time.time()\n",
    "env.observation()\n",
    "end = time.time()\n",
    "end - start"
   ]
  },
  {
   "cell_type": "code",
   "execution_count": null,
   "id": "fa5c4e61",
   "metadata": {},
   "outputs": [],
   "source": [
    "env.service.source"
   ]
  },
  {
   "cell_type": "code",
   "execution_count": null,
   "id": "afc1cf2c",
   "metadata": {},
   "outputs": [],
   "source": [
    "env.service.destination"
   ]
  },
  {
   "cell_type": "code",
   "execution_count": null,
   "id": "7e4eba0c",
   "metadata": {},
   "outputs": [],
   "source": [
    "env.lightpath_service_allocation"
   ]
  },
  {
   "cell_type": "code",
   "execution_count": null,
   "id": "c45cd54d",
   "metadata": {},
   "outputs": [],
   "source": [
    "cProfile.run('env.step(np.array([0,0]))')"
   ]
  },
  {
   "cell_type": "code",
   "execution_count": null,
   "id": "758d5b19",
   "metadata": {},
   "outputs": [],
   "source": [
    "optimal_params_file = \"2022-01-04exp_num.pkl\"\n",
    "model_params = pickle.load(open(\"./tmp/RWAFOCS-ppo/best_params/\"+optimal_params_file, 'rb'))"
   ]
  },
  {
   "cell_type": "code",
   "execution_count": null,
   "id": "81fef74a",
   "metadata": {},
   "outputs": [],
   "source": [
    "pwd"
   ]
  },
  {
   "cell_type": "code",
   "execution_count": null,
   "id": "edbf9182",
   "metadata": {},
   "outputs": [],
   "source": []
  }
 ],
 "metadata": {
  "kernelspec": {
   "display_name": "Python 3 (ipykernel)",
   "language": "python",
   "name": "python3"
  },
  "language_info": {
   "codemirror_mode": {
    "name": "ipython",
    "version": 3
   },
   "file_extension": ".py",
   "mimetype": "text/x-python",
   "name": "python",
   "nbconvert_exporter": "python",
   "pygments_lexer": "ipython3",
   "version": "3.7.12"
  }
 },
 "nbformat": 4,
 "nbformat_minor": 5
}
