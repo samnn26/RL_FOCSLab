{
 "cells": [
  {
   "cell_type": "code",
   "execution_count": 1,
   "id": "167319ef",
   "metadata": {},
   "outputs": [
    {
     "name": "stderr",
     "output_type": "stream",
     "text": [
      "/Users/joshnevin/.pyenv/versions/3.7.12/envs/rlenv37/lib/python3.7/site-packages/ale_py/roms/utils.py:90: DeprecationWarning: SelectableGroups dict interface is deprecated. Use select.\n",
      "  for external in metadata.entry_points().get(self.group, []):\n"
     ]
    }
   ],
   "source": [
    "import os\n",
    "import pickle\n",
    "import numpy as np\n",
    "from IPython.display import clear_output\n",
    "import matplotlib\n",
    "import matplotlib.pyplot as plt\n",
    "import gym\n",
    "from optical_rl_gym.utils import evaluate_heuristic\n",
    "from optical_rl_gym.envs.rwa_env_focs_v2 import kSP_FF, FF_kSP, kSP_MU, CA_MU"
   ]
  },
  {
   "cell_type": "code",
   "execution_count": 2,
   "id": "b7f254ba",
   "metadata": {},
   "outputs": [],
   "source": [
    "with open('/Users/joshnevin/RL_FOCSLab/topologies/nsfnet_chen_5-paths_directional.h5', 'rb') as f:\n",
    "    topology = pickle.load(f)\n",
    "# node probabilities from https://github.com/xiaoliangchenUCD/DeepRMSA/blob/6708e9a023df1ec05bfdc77804b6829e33cacfe4/Deep_RMSA_A3C.py#L77\n",
    "node_request_probabilities = np.array([0.01801802, 0.04004004, 0.05305305, 0.01901902, 0.04504505,\n",
    "       0.02402402, 0.06706707, 0.08908909, 0.13813814, 0.12212212,\n",
    "       0.07607608, 0.12012012, 0.01901902, 0.16916917])"
   ]
  },
  {
   "cell_type": "code",
   "execution_count": 3,
   "id": "def8db6d",
   "metadata": {},
   "outputs": [],
   "source": [
    "# with open('/Users/joshnevin/RL_FOCSLab/topologies/3_node_network_sym.h5', 'rb') as f:\n",
    "#     topology = pickle.load(f)\n",
    "# node_request_probabilities = np.array([0.333333,0.333333,0.333333])"
   ]
  },
  {
   "cell_type": "code",
   "execution_count": 4,
   "id": "13c96e8a",
   "metadata": {},
   "outputs": [],
   "source": [
    "load = int(1e10)\n",
    "env_args = dict(topology=topology, seed=10, load = load,\n",
    "                allow_rejection=False, # the agent cannot proactively reject a request\n",
    "                mean_service_holding_time=int(1e6),\n",
    "                episode_length=5000, node_request_probabilities=node_request_probabilities)\n",
    "env_1 = gym.make('RWAFOCS-v2', **env_args)\n",
    "env_2 = gym.make('RWAFOCS-v2', **env_args)\n",
    "env_3 = gym.make('RWAFOCS-v2', **env_args)"
   ]
  },
  {
   "cell_type": "code",
   "execution_count": 6,
   "id": "234f4b41",
   "metadata": {},
   "outputs": [
    {
     "name": "stdout",
     "output_type": "stream",
     "text": [
      "mean reward: 3500.0\n",
      "Std reward: 0.0\n"
     ]
    }
   ],
   "source": [
    "heuristic = kSP_FF\n",
    "mean_reward, std_reward = evaluate_heuristic(env_1, heuristic, n_eval_episodes=1,\n",
    "                       render=False, callback=None, reward_threshold=None,\n",
    "                       return_episode_rewards=False)\n",
    "print(\"mean reward:\", mean_reward)\n",
    "print(\"Std reward:\", std_reward)"
   ]
  },
  {
   "cell_type": "code",
   "execution_count": 7,
   "id": "2379c8f9",
   "metadata": {},
   "outputs": [
    {
     "name": "stdout",
     "output_type": "stream",
     "text": [
      "mean reward: 3500.0\n",
      "Std reward: 0.0\n"
     ]
    }
   ],
   "source": [
    "heuristic = FF_kSP\n",
    "mean_reward, std_reward = evaluate_heuristic(env_2, heuristic, n_eval_episodes=1,\n",
    "                       render=False, callback=None, reward_threshold=None,\n",
    "                       return_episode_rewards=False)\n",
    "print(\"mean reward:\", mean_reward)\n",
    "print(\"Std reward:\", std_reward)"
   ]
  },
  {
   "cell_type": "code",
   "execution_count": 5,
   "id": "81ed55de",
   "metadata": {},
   "outputs": [
    {
     "name": "stdout",
     "output_type": "stream",
     "text": [
      "mean reward: 3500.0\n",
      "Std reward: 0.0\n"
     ]
    }
   ],
   "source": [
    "heuristic = CA_MU\n",
    "mean_reward, std_reward = evaluate_heuristic(env_3, heuristic, n_eval_episodes=1,\n",
    "                       render=False, callback=None, reward_threshold=None,\n",
    "                       return_episode_rewards=False)\n",
    "print(\"mean reward:\", mean_reward)\n",
    "print(\"Std reward:\", std_reward)"
   ]
  },
  {
   "cell_type": "code",
   "execution_count": 6,
   "id": "01f112dc",
   "metadata": {},
   "outputs": [
    {
     "name": "stdout",
     "output_type": "stream",
     "text": [
      "mean reward: 3500.0\n",
      "Std reward: 0.0\n"
     ]
    }
   ],
   "source": [
    "heuristic = kSP_MU\n",
    "mean_reward, std_reward = evaluate_heuristic(env_2, heuristic, n_eval_episodes=1,\n",
    "                       render=False, callback=None, reward_threshold=None,\n",
    "                       return_episode_rewards=False)\n",
    "print(\"mean reward:\", mean_reward)\n",
    "print(\"Std reward:\", std_reward)"
   ]
  },
  {
   "cell_type": "code",
   "execution_count": 8,
   "id": "7d97c3e1",
   "metadata": {},
   "outputs": [
    {
     "name": "stdout",
     "output_type": "stream",
     "text": [
      "Whole training process statistics:\n",
      "Path action probability: [1. 0.]\n",
      "Wavelength action probability: [0.01 0.01 0.01 0.01 0.01 0.01 0.01 0.01 0.01 0.01 0.01 0.01 0.01 0.01\n",
      " 0.01 0.01 0.01 0.01 0.01 0.01 0.01 0.01 0.01 0.01 0.01 0.01 0.01 0.01\n",
      " 0.01 0.01 0.01 0.01 0.01 0.01 0.01 0.01 0.01 0.01 0.01 0.01 0.01 0.01\n",
      " 0.01 0.01 0.01 0.01 0.01 0.01 0.01 0.01 0.01 0.01 0.01 0.01 0.01 0.01\n",
      " 0.01 0.01 0.01 0.01 0.01 0.01 0.01 0.01 0.01 0.01 0.01 0.01 0.01 0.01\n",
      " 0.01 0.01 0.01 0.01 0.01 0.01 0.01 0.01 0.01 0.01 0.01 0.01 0.01 0.01\n",
      " 0.01 0.01 0.01 0.01 0.01 0.01 0.01 0.01 0.01 0.01 0.01 0.01 0.01 0.01\n",
      " 0.01 0.01]\n",
      "Load (Erlangs): 10000000000\n",
      "Service bit rate (Gb/s): 25.0\n",
      "Total number of services: 5000\n",
      "Total number of accepted services: 3500\n",
      "Blocking probability: 0.30000000000000004\n",
      "Number of services on existing lightpaths: 2900\n",
      "Number of services released: 0\n",
      "Number of transmitters on each node: [200. 200. 200.]\n",
      "Number of receivers on each node: [200. 200. 200.]\n"
     ]
    }
   ],
   "source": [
    "print(\"Whole training process statistics:\")\n",
    "rnd_path_action_probability = np.sum(env_1.actions_output, axis=1) / np.sum(env_1.actions_output)\n",
    "rnd_wavelength_action_probability = np.sum(env_1.actions_output, axis=0) / np.sum(env_1.actions_output)\n",
    "print('Path action probability:', np.sum(env_1.actions_output, axis=1) / np.sum(env_1.actions_output))\n",
    "print('Wavelength action probability:', np.sum(env_1.actions_output, axis=0) / np.sum(env_1.actions_output))\n",
    "num_lps_reused = env_1.num_lightpaths_reused\n",
    "print('Load (Erlangs):', load)\n",
    "print('Service bit rate (Gb/s):', env_1.service.bit_rate/1e9)\n",
    "print('Total number of services:', env_1.services_processed)\n",
    "print('Total number of accepted services:', env_1.services_accepted)\n",
    "print('Blocking probability:', 1 - env_1.services_accepted/env_1.services_processed)\n",
    "print('Number of services on existing lightpaths:', num_lps_reused)\n",
    "print('Number of services released:', env_1.num_lightpaths_released)\n",
    "print('Number of transmitters on each node:', env_1.num_transmitters)\n",
    "print('Number of receivers on each node:', env_1.num_receivers)"
   ]
  },
  {
   "cell_type": "code",
   "execution_count": 7,
   "id": "0cd22217",
   "metadata": {},
   "outputs": [
    {
     "name": "stdout",
     "output_type": "stream",
     "text": [
      "Whole training process statistics:\n",
      "Path action probability: [1. 0.]\n",
      "Wavelength action probability: [0.01 0.01 0.01 0.01 0.01 0.01 0.01 0.01 0.01 0.01 0.01 0.01 0.01 0.01\n",
      " 0.01 0.01 0.01 0.01 0.01 0.01 0.01 0.01 0.01 0.01 0.01 0.01 0.01 0.01\n",
      " 0.01 0.01 0.01 0.01 0.01 0.01 0.01 0.01 0.01 0.01 0.01 0.01 0.01 0.01\n",
      " 0.01 0.01 0.01 0.01 0.01 0.01 0.01 0.01 0.01 0.01 0.01 0.01 0.01 0.01\n",
      " 0.01 0.01 0.01 0.01 0.01 0.01 0.01 0.01 0.01 0.01 0.01 0.01 0.01 0.01\n",
      " 0.01 0.01 0.01 0.01 0.01 0.01 0.01 0.01 0.01 0.01 0.01 0.01 0.01 0.01\n",
      " 0.01 0.01 0.01 0.01 0.01 0.01 0.01 0.01 0.01 0.01 0.01 0.01 0.01 0.01\n",
      " 0.01 0.01]\n",
      "Load (Erlangs): 10000000000\n",
      "Service bit rate (Gb/s): 25.0\n",
      "Total number of services: 5000\n",
      "Total number of accepted services: 3500\n",
      "Blocking probability: 0.30000000000000004\n",
      "Number of services on existing lightpaths: 2900\n",
      "Number of services released: 0\n",
      "Number of transmitters on each node: [200. 200. 200.]\n",
      "Number of receivers on each node: [200. 200. 200.]\n"
     ]
    }
   ],
   "source": [
    "print(\"Whole training process statistics:\")\n",
    "rnd_path_action_probability = np.sum(env_2.actions_output, axis=1) / np.sum(env_2.actions_output)\n",
    "rnd_wavelength_action_probability = np.sum(env_2.actions_output, axis=0) / np.sum(env_2.actions_output)\n",
    "print('Path action probability:', np.sum(env_2.actions_output, axis=1) / np.sum(env_2.actions_output))\n",
    "print('Wavelength action probability:', np.sum(env_2.actions_output, axis=0) / np.sum(env_2.actions_output))\n",
    "num_lps_reused = env_2.num_lightpaths_reused\n",
    "print('Load (Erlangs):', load)\n",
    "print('Service bit rate (Gb/s):', env_2.service.bit_rate/1e9)\n",
    "print('Total number of services:', env_2.services_processed)\n",
    "print('Total number of accepted services:', env_2.services_accepted)\n",
    "print('Blocking probability:', 1 - env_2.services_accepted/env_2.services_processed)\n",
    "print('Number of services on existing lightpaths:', num_lps_reused)\n",
    "print('Number of services released:', env_2.num_lightpaths_released)\n",
    "print('Number of transmitters on each node:', env_2.num_transmitters)\n",
    "print('Number of receivers on each node:', env_2.num_receivers)"
   ]
  },
  {
   "cell_type": "code",
   "execution_count": 8,
   "id": "a3361ea8",
   "metadata": {},
   "outputs": [
    {
     "name": "stdout",
     "output_type": "stream",
     "text": [
      "Whole training process statistics:\n",
      "Path action probability: [1. 0.]\n",
      "Wavelength action probability: [0.01 0.01 0.01 0.01 0.01 0.01 0.01 0.01 0.01 0.01 0.01 0.01 0.01 0.01\n",
      " 0.01 0.01 0.01 0.01 0.01 0.01 0.01 0.01 0.01 0.01 0.01 0.01 0.01 0.01\n",
      " 0.01 0.01 0.01 0.01 0.01 0.01 0.01 0.01 0.01 0.01 0.01 0.01 0.01 0.01\n",
      " 0.01 0.01 0.01 0.01 0.01 0.01 0.01 0.01 0.01 0.01 0.01 0.01 0.01 0.01\n",
      " 0.01 0.01 0.01 0.01 0.01 0.01 0.01 0.01 0.01 0.01 0.01 0.01 0.01 0.01\n",
      " 0.01 0.01 0.01 0.01 0.01 0.01 0.01 0.01 0.01 0.01 0.01 0.01 0.01 0.01\n",
      " 0.01 0.01 0.01 0.01 0.01 0.01 0.01 0.01 0.01 0.01 0.01 0.01 0.01 0.01\n",
      " 0.01 0.01]\n",
      "Load (Erlangs): 10000000000\n",
      "Service bit rate (Gb/s): 25.0\n",
      "Total number of services: 5000\n",
      "Total number of accepted services: 3500\n",
      "Blocking probability: 0.30000000000000004\n",
      "Number of services on existing lightpaths: 2900\n",
      "Number of services released: 0\n",
      "Number of transmitters on each node: [200. 200. 200.]\n",
      "Number of receivers on each node: [200. 200. 200.]\n"
     ]
    }
   ],
   "source": [
    "print(\"Whole training process statistics:\")\n",
    "rnd_path_action_probability = np.sum(env_3.actions_output, axis=1) / np.sum(env_3.actions_output)\n",
    "rnd_wavelength_action_probability = np.sum(env_3.actions_output, axis=0) / np.sum(env_3.actions_output)\n",
    "print('Path action probability:', np.sum(env_3.actions_output, axis=1) / np.sum(env_3.actions_output))\n",
    "print('Wavelength action probability:', np.sum(env_3.actions_output, axis=0) / np.sum(env_3.actions_output))\n",
    "num_lps_reused = env_3.num_lightpaths_reused\n",
    "print('Load (Erlangs):', load)\n",
    "print('Service bit rate (Gb/s):', env_3.service.bit_rate/1e9)\n",
    "print('Total number of services:', env_3.services_processed)\n",
    "print('Total number of accepted services:', env_3.services_accepted)\n",
    "print('Blocking probability:', 1 - env_3.services_accepted/env_3.services_processed)\n",
    "print('Number of services on existing lightpaths:', num_lps_reused)\n",
    "print('Number of services released:', env_3.num_lightpaths_released)\n",
    "print('Number of transmitters on each node:', env_3.num_transmitters)\n",
    "print('Number of receivers on each node:', env_3.num_receivers)"
   ]
  },
  {
   "cell_type": "code",
   "execution_count": 10,
   "id": "91c14eca",
   "metadata": {},
   "outputs": [],
   "source": [
    "path_id_util_1 = []\n",
    "num_paths = env_1.topology.number_of_nodes() * (env_1.topology.number_of_nodes() - 1) * env_1.k_paths\n",
    "for id in range(num_paths):\n",
    "    path_id_util_1.append(np.sum(env_1.lightpath_service_allocation[id,:]))"
   ]
  },
  {
   "cell_type": "code",
   "execution_count": 11,
   "id": "485abba7",
   "metadata": {},
   "outputs": [],
   "source": [
    "path_id_util_2 = []\n",
    "num_paths = env_2.topology.number_of_nodes() * (env_2.topology.number_of_nodes() - 1) * env_2.k_paths\n",
    "for id in range(num_paths):\n",
    "    path_id_util_2.append(np.sum(env_2.lightpath_service_allocation[id,:]))"
   ]
  },
  {
   "cell_type": "code",
   "execution_count": 12,
   "id": "6fccfd15",
   "metadata": {},
   "outputs": [
    {
     "data": {
      "image/png": "[encoded data removed]",
      "text/plain": [
       "<Figure size 432x288 with 1 Axes>"
      ]
     },
     "metadata": {
      "needs_background": "light"
     },
     "output_type": "display_data"
    }
   ],
   "source": [
    "x = np.arange(num_paths)\n",
    "plt.plot(x, path_id_util_1)\n",
    "plt.xlabel(\"Path ID\")\n",
    "plt.ylabel(\"Number of services\")\n",
    "#plt.savefig('figures/pathid_services_kspff.pdf', dpi=200,bbox_inches='tight')\n",
    "plt.show()"
   ]
  },
  {
   "cell_type": "code",
   "execution_count": 13,
   "id": "c05e7572",
   "metadata": {},
   "outputs": [
    {
     "data": {
      "image/png": "[encoded data removed]",
      "text/plain": [
       "<Figure size 432x288 with 1 Axes>"
      ]
     },
     "metadata": {
      "needs_background": "light"
     },
     "output_type": "display_data"
    }
   ],
   "source": [
    "x = np.arange(num_paths)\n",
    "plt.plot(x, path_id_util_2)\n",
    "plt.xlabel(\"Path ID\")\n",
    "plt.ylabel(\"Number of services\")\n",
    "#plt.savefig('figures/pathid_services_ffksp.pdf', dpi=200,bbox_inches='tight')\n",
    "plt.show()"
   ]
  },
  {
   "cell_type": "code",
   "execution_count": 14,
   "id": "471a92bb",
   "metadata": {},
   "outputs": [
    {
     "data": {
      "image/png": "[encoded data removed]",
      "text/plain": [
       "<Figure size 432x288 with 1 Axes>"
      ]
     },
     "metadata": {
      "needs_background": "light"
     },
     "output_type": "display_data"
    }
   ],
   "source": [
    "x = np.arange(num_paths)\n",
    "plt.plot(x, path_id_util_1, 'r+')\n",
    "plt.plot(x, path_id_util_2, 'bx')\n",
    "plt.xlabel(\"Path ID\")\n",
    "plt.ylabel(\"Number of services\")\n",
    "plt.show()"
   ]
  },
  {
   "cell_type": "code",
   "execution_count": 15,
   "id": "cda69abd",
   "metadata": {},
   "outputs": [
    {
     "data": {
      "image/png": "[encoded data removed]",
      "text/plain": [
       "<Figure size 432x288 with 1 Axes>"
      ]
     },
     "metadata": {
      "needs_background": "light"
     },
     "output_type": "display_data"
    }
   ],
   "source": [
    "x = np.arange(num_paths)\n",
    "plt.plot(x, abs(np.array(path_id_util_1) - np.array(path_id_util_2)))\n",
    "plt.xlabel(\"Path ID\")\n",
    "plt.ylabel(\"Number of services\")\n",
    "#plt.savefig('figures/pathid_services_ffksp.pdf', dpi=200,bbox_inches='tight')\n",
    "plt.show()"
   ]
  },
  {
   "cell_type": "code",
   "execution_count": 58,
   "id": "879dec5a",
   "metadata": {},
   "outputs": [
    {
     "data": {
      "text/plain": [
       "array([0, 0, 0, 0, 0, 0, 0, 0, 0, 0, 0, 0])"
      ]
     },
     "execution_count": 58,
     "metadata": {},
     "output_type": "execute_result"
    }
   ],
   "source": [
    "(np.array(path_id_util_1) - np.array(path_id_util_2))"
   ]
  },
  {
   "cell_type": "code",
   "execution_count": 59,
   "id": "39d2b731",
   "metadata": {},
   "outputs": [
    {
     "data": {
      "text/plain": [
       "array([494,   0, 525,   0, 579,   0, 544,   0, 533,   0, 525,   0])"
      ]
     },
     "execution_count": 59,
     "metadata": {},
     "output_type": "execute_result"
    }
   ],
   "source": [
    "np.array(path_id_util_1)"
   ]
  },
  {
   "cell_type": "code",
   "execution_count": 60,
   "id": "1f98e380",
   "metadata": {},
   "outputs": [
    {
     "data": {
      "text/plain": [
       "array([494,   0, 525,   0, 579,   0, 544,   0, 533,   0, 525,   0])"
      ]
     },
     "execution_count": 60,
     "metadata": {},
     "output_type": "execute_result"
    }
   ],
   "source": [
    "np.array(path_id_util_2)"
   ]
  },
  {
   "cell_type": "markdown",
   "id": "669d2986",
   "metadata": {},
   "source": [
    "Look at ksp ordering:"
   ]
  },
  {
   "cell_type": "code",
   "execution_count": 41,
   "id": "48b55638",
   "metadata": {},
   "outputs": [
    {
     "data": {
      "text/plain": [
       "'3'"
      ]
     },
     "execution_count": 41,
     "metadata": {},
     "output_type": "execute_result"
    }
   ],
   "source": [
    "env_1.service.source"
   ]
  },
  {
   "cell_type": "code",
   "execution_count": 49,
   "id": "a8db46fc",
   "metadata": {},
   "outputs": [
    {
     "data": {
      "text/plain": [
       "2"
      ]
     },
     "execution_count": 49,
     "metadata": {},
     "output_type": "execute_result"
    }
   ],
   "source": [
    "paths_test = env_1.topology.graph['ksp']['2','3']\n",
    "len(paths_test)"
   ]
  },
  {
   "cell_type": "code",
   "execution_count": 50,
   "id": "fb711b2a",
   "metadata": {},
   "outputs": [
    {
     "data": {
      "text/plain": [
       "1800"
      ]
     },
     "execution_count": 50,
     "metadata": {},
     "output_type": "execute_result"
    }
   ],
   "source": [
    "paths_test[0].length"
   ]
  },
  {
   "cell_type": "code",
   "execution_count": 51,
   "id": "1d05c609",
   "metadata": {},
   "outputs": [
    {
     "data": {
      "text/plain": [
       "2500"
      ]
     },
     "execution_count": 51,
     "metadata": {},
     "output_type": "execute_result"
    }
   ],
   "source": [
    "paths_test[1].length"
   ]
  },
  {
   "cell_type": "code",
   "execution_count": 21,
   "id": "48c93c9f",
   "metadata": {},
   "outputs": [
    {
     "ename": "IndexError",
     "evalue": "list index out of range",
     "output_type": "error",
     "traceback": [
      "\u001b[0;31m---------------------------------------------------------------------------\u001b[0m",
      "\u001b[0;31mIndexError\u001b[0m                                Traceback (most recent call last)",
      "\u001b[0;32m/var/folders/yy/jh80d4jd7mq917bdprz9ftlw0000gn/T/ipykernel_29926/3883933896.py\u001b[0m in \u001b[0;36m<module>\u001b[0;34m\u001b[0m\n\u001b[0;32m----> 1\u001b[0;31m \u001b[0mpaths_test\u001b[0m\u001b[0;34m[\u001b[0m\u001b[0;36m2\u001b[0m\u001b[0;34m]\u001b[0m\u001b[0;34m.\u001b[0m\u001b[0mlength\u001b[0m\u001b[0;34m\u001b[0m\u001b[0;34m\u001b[0m\u001b[0m\n\u001b[0m",
      "\u001b[0;31mIndexError\u001b[0m: list index out of range"
     ]
    }
   ],
   "source": [
    "paths_test[2].length"
   ]
  },
  {
   "cell_type": "code",
   "execution_count": null,
   "id": "b2269373",
   "metadata": {},
   "outputs": [],
   "source": []
  },
  {
   "cell_type": "code",
   "execution_count": 48,
   "id": "00e2a97d",
   "metadata": {},
   "outputs": [
    {
     "data": {
      "text/plain": [
       "1950"
      ]
     },
     "execution_count": 48,
     "metadata": {},
     "output_type": "execute_result"
    }
   ],
   "source": [
    "paths_test[3].length"
   ]
  },
  {
   "cell_type": "code",
   "execution_count": 49,
   "id": "3dc1e167",
   "metadata": {},
   "outputs": [
    {
     "data": {
      "text/plain": [
       "1800"
      ]
     },
     "execution_count": 49,
     "metadata": {},
     "output_type": "execute_result"
    }
   ],
   "source": [
    "paths_test[4].length"
   ]
  },
  {
   "cell_type": "code",
   "execution_count": null,
   "id": "b4b2febc",
   "metadata": {},
   "outputs": [],
   "source": []
  }
 ],
 "metadata": {
  "kernelspec": {
   "display_name": "Python 3 (ipykernel)",
   "language": "python",
   "name": "python3"
  },
  "language_info": {
   "codemirror_mode": {
    "name": "ipython",
    "version": 3
   },
   "file_extension": ".py",
   "mimetype": "text/x-python",
   "name": "python",
   "nbconvert_exporter": "python",
   "pygments_lexer": "ipython3",
   "version": "3.7.12"
  }
 },
 "nbformat": 4,
 "nbformat_minor": 5
}
