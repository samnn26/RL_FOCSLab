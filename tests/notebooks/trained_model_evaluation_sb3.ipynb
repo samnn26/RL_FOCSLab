{
 "cells": [
  {
   "cell_type": "code",
   "execution_count": 1,
   "id": "537e6c33",
   "metadata": {},
   "outputs": [],
   "source": [
    "import os\n",
    "import pickle\n",
    "import numpy as np\n",
    "import time\n",
    "from IPython.display import clear_output\n",
    "\n",
    "import matplotlib\n",
    "import matplotlib.pyplot as plt\n",
    "#import config InlineBackend.figure_format = 'svg'\n",
    "import tensorflow as tf\n",
    "\n",
    "# silencing tensorflow warnings\n",
    "import logging\n",
    "logging.getLogger('tensorflow').setLevel(logging.FATAL)\n",
    "from datetime import datetime\n",
    "\n",
    "tf.__version__ # printint out tensorflow version used\n",
    "import stable_baselines3\n",
    "import sb3_contrib\n",
    "from stable_baselines3.common.callbacks import BaseCallback\n",
    "# from stable_baselines3.results_plotter import load_results, ts2xy\n",
    "from stable_baselines3.common.results_plotter import load_results, ts2xy\n",
    "import optuna\n",
    "# from stable_baselines3.bench import Monitor\n",
    "from stable_baselines3.common.monitor import Monitor\n",
    "#from stable_baselines3.common.policies import MlpPolicy\n",
    "from stable_baselines3.common import results_plotter\n",
    "\n",
    "from sb3_contrib import MaskablePPO\n",
    "from stable_baselines3 import PPO\n",
    "from stable_baselines3.common.vec_env import DummyVecEnv\n",
    "#stable_baselines.__version__ # printing out stable_baselines version used\n",
    "import gym\n",
    "import pickle\n",
    "import cProfile \n",
    "import pandas as pd\n",
    "font = { 'family' : 'sans-serif',\n",
    "                'weight' : 'normal',\n",
    "                'size'   : 14}\n",
    "matplotlib.rc('font', **font)\n",
    "import ast"
   ]
  },
  {
   "cell_type": "code",
   "execution_count": 2,
   "id": "ef72c3fc",
   "metadata": {},
   "outputs": [],
   "source": [
    "# def make_env(env_args, log_dir):\n",
    "#     def maker():\n",
    "#         env = gym.make('RWAFOCS-v2111', **env_args)\n",
    "#         env = Monitor(env, log_dir + 'evaluation', info_keywords=('episode_services_accepted',\n",
    "# 'episode_services_processed', 'services_accepted', 'services_processed', 'episode_cum_services_accepted',\n",
    "# 'episode_cum_services_processed', 'throughput'))\n",
    "#         return env\n",
    "#     return maker"
   ]
  },
  {
   "cell_type": "code",
   "execution_count": 5,
   "id": "b07abb9d",
   "metadata": {},
   "outputs": [],
   "source": [
    "with open('/Users/joshnevin/RL_FOCSLab/topologies/nsfnet_chen_5-paths_rounded.h5', 'rb') as f:\n",
    "    topology = pickle.load(f)\n",
    "# node probabilities from https://github.com/xiaoliangchenUCD/DeepRMSA/blob/6708e9a023df1ec05bfdc77804b6829e33cacfe4/Deep_RMSA_A3C.py#L77\n",
    "# node_request_probabilities = np.array([0.01801802, 0.04004004, 0.05305305, 0.01901902, 0.04504505,\n",
    "#        0.02402402, 0.06706707, 0.08908909, 0.13813814, 0.12212212,\n",
    "#        0.07607608, 0.12012012, 0.01901902, 0.16916917])\n",
    "node_request_probabilities = pickle.load(open('/Users/joshnevin/RL_FOCSLab/node_req_probs/14_node_uniform.pkl','rb'))\n",
    "load = 1e10\n",
    "env_args = dict(topology=topology, seed=10, load = load,\n",
    "                allow_rejection=False, # the agent cannot proactively reject a request\n",
    "                mean_service_holding_time=1e8, # value is not set as in the paper to achieve comparable reward values\n",
    "                episode_length=2000, node_request_probabilities=node_request_probabilities, exp_request_res=25e9,\n",
    "                term_on_first_block=False)"
   ]
  },
  {
   "cell_type": "code",
   "execution_count": 43,
   "id": "f451858a",
   "metadata": {},
   "outputs": [],
   "source": [
    "# current_directory = os.getcwd()\n",
    "# exp_id = \"2022-03-02v45nsf100GR2\"\n",
    "exp_id = \"2022-03-02v45nsfUp5100GR2\"\n",
    "env_id = \"RWAFOCS-v45\"\n",
    "model_dir = \"/Users/joshnevin/RL_FOCSLab/tmp/RWAFOCS-ppo/\"+exp_id+\"/_core_0/\"\n",
    "masks = True\n",
    "# env = DummyVecEnv([make_env(env_args, log_dir)])\n",
    "# os.makedirs(model_dir, exist_ok=True)\n",
    "env = gym.make(env_id, **env_args)\n",
    "env = Monitor(env, model_dir + 'training', info_keywords=('episode_services_accepted',\n",
    "'episode_services_processed', 'services_accepted', 'services_processed', 'episode_cum_services_accepted',\n",
    "'episode_cum_services_processed', 'throughput'))\n",
    "# from sb3_contrib.common.maskable.evaluation import evaluate_policy\n",
    "# from stable_baselines3.common.evaluation import evaluate_policy\n",
    "if masks:\n",
    "    from sb3_contrib.common.maskable.evaluation import evaluate_policy\n",
    "    model = MaskablePPO.load(model_dir+'best_model')\n",
    "else:\n",
    "    from stable_baselines3.common.evaluation import evaluate_policy\n",
    "    model = PPO.load(model_dir+'best_model')"
   ]
  },
  {
   "cell_type": "code",
   "execution_count": 44,
   "id": "18b70740",
   "metadata": {},
   "outputs": [],
   "source": [
    "# # current_directory = os.getcwd()\n",
    "# exp_id = \"2022-02-17_v43test\"\n",
    "# env_id = \"RWAFOCS-v45\"\n",
    "# model_dir = \"/Users/joshnevin/RL_FOCSLab/tmp/RWAFOCS-ppo/\"+exp_id+\"/\"\n",
    "# # env = DummyVecEnv([make_env(env_args, log_dir)])\n",
    "# # os.makedirs(model_dir, exist_ok=True)\n",
    "# env = gym.make(env_id, **env_args)\n",
    "# env = Monitor(env, model_dir + 'training', info_keywords=('episode_services_accepted',\n",
    "# 'episode_services_processed', 'services_accepted', 'services_processed', 'episode_cum_services_accepted',\n",
    "# 'episode_cum_services_processed', 'throughput','service_distribution'))\n",
    "# #model = MaskablePPO.load(model_dir+'best_model')\n",
    "# model = MaskablePPO.load(model_dir+'best_model')\n",
    "# # model = PPO.load(model_dir+'best_model')"
   ]
  },
  {
   "cell_type": "code",
   "execution_count": 31,
   "id": "f7fb39dd",
   "metadata": {},
   "outputs": [
    {
     "ename": "KeyboardInterrupt",
     "evalue": "",
     "output_type": "error",
     "traceback": [
      "\u001b[0;31m---------------------------------------------------------------------------\u001b[0m",
      "\u001b[0;31mKeyboardInterrupt\u001b[0m                         Traceback (most recent call last)",
      "\u001b[0;32m/var/folders/yy/jh80d4jd7mq917bdprz9ftlw0000gn/T/ipykernel_30664/1144237674.py\u001b[0m in \u001b[0;36m<module>\u001b[0;34m\u001b[0m\n\u001b[0;32m----> 1\u001b[0;31m \u001b[0mmean_reward\u001b[0m\u001b[0;34m,\u001b[0m \u001b[0mstd_reward\u001b[0m \u001b[0;34m=\u001b[0m \u001b[0mevaluate_policy\u001b[0m\u001b[0;34m(\u001b[0m\u001b[0mmodel\u001b[0m\u001b[0;34m,\u001b[0m \u001b[0menv\u001b[0m\u001b[0;34m,\u001b[0m \u001b[0mn_eval_episodes\u001b[0m\u001b[0;34m=\u001b[0m\u001b[0;36m1\u001b[0m\u001b[0;34m,\u001b[0m \u001b[0mdeterministic\u001b[0m \u001b[0;34m=\u001b[0m \u001b[0;32mFalse\u001b[0m\u001b[0;34m)\u001b[0m\u001b[0;34m\u001b[0m\u001b[0;34m\u001b[0m\u001b[0m\n\u001b[0m\u001b[1;32m      2\u001b[0m \u001b[0mprint\u001b[0m\u001b[0;34m(\u001b[0m\u001b[0mmean_reward\u001b[0m\u001b[0;34m)\u001b[0m\u001b[0;34m\u001b[0m\u001b[0;34m\u001b[0m\u001b[0m\n\u001b[1;32m      3\u001b[0m \u001b[0mprint\u001b[0m\u001b[0;34m(\u001b[0m\u001b[0mstd_reward\u001b[0m\u001b[0;34m)\u001b[0m\u001b[0;34m\u001b[0m\u001b[0;34m\u001b[0m\u001b[0m\n",
      "\u001b[0;32m~/.pyenv/versions/3.7.12/envs/rlenvsb3cont/lib/python3.7/site-packages/sb3_contrib/common/maskable/evaluation.py\u001b[0m in \u001b[0;36mevaluate_policy\u001b[0;34m(model, env, n_eval_episodes, deterministic, render, callback, reward_threshold, return_episode_rewards, warn, use_masking)\u001b[0m\n\u001b[1;32m     92\u001b[0m     \u001b[0;32mwhile\u001b[0m \u001b[0;34m(\u001b[0m\u001b[0mepisode_counts\u001b[0m \u001b[0;34m<\u001b[0m \u001b[0mepisode_count_targets\u001b[0m\u001b[0;34m)\u001b[0m\u001b[0;34m.\u001b[0m\u001b[0many\u001b[0m\u001b[0;34m(\u001b[0m\u001b[0;34m)\u001b[0m\u001b[0;34m:\u001b[0m\u001b[0;34m\u001b[0m\u001b[0;34m\u001b[0m\u001b[0m\n\u001b[1;32m     93\u001b[0m         \u001b[0;32mif\u001b[0m \u001b[0muse_masking\u001b[0m\u001b[0;34m:\u001b[0m\u001b[0;34m\u001b[0m\u001b[0;34m\u001b[0m\u001b[0m\n\u001b[0;32m---> 94\u001b[0;31m             \u001b[0maction_masks\u001b[0m \u001b[0;34m=\u001b[0m \u001b[0mget_action_masks\u001b[0m\u001b[0;34m(\u001b[0m\u001b[0menv\u001b[0m\u001b[0;34m)\u001b[0m\u001b[0;34m\u001b[0m\u001b[0;34m\u001b[0m\u001b[0m\n\u001b[0m\u001b[1;32m     95\u001b[0m             actions, state = model.predict(\n\u001b[1;32m     96\u001b[0m                 \u001b[0mobservations\u001b[0m\u001b[0;34m,\u001b[0m\u001b[0;34m\u001b[0m\u001b[0;34m\u001b[0m\u001b[0m\n",
      "\u001b[0;32m~/.pyenv/versions/3.7.12/envs/rlenvsb3cont/lib/python3.7/site-packages/sb3_contrib/common/maskable/utils.py\u001b[0m in \u001b[0;36mget_action_masks\u001b[0;34m(env)\u001b[0m\n\u001b[1;32m     15\u001b[0m \u001b[0;34m\u001b[0m\u001b[0m\n\u001b[1;32m     16\u001b[0m     \u001b[0;32mif\u001b[0m \u001b[0misinstance\u001b[0m\u001b[0;34m(\u001b[0m\u001b[0menv\u001b[0m\u001b[0;34m,\u001b[0m \u001b[0mVecEnv\u001b[0m\u001b[0;34m)\u001b[0m\u001b[0;34m:\u001b[0m\u001b[0;34m\u001b[0m\u001b[0;34m\u001b[0m\u001b[0m\n\u001b[0;32m---> 17\u001b[0;31m         \u001b[0;32mreturn\u001b[0m \u001b[0mnp\u001b[0m\u001b[0;34m.\u001b[0m\u001b[0mstack\u001b[0m\u001b[0;34m(\u001b[0m\u001b[0menv\u001b[0m\u001b[0;34m.\u001b[0m\u001b[0menv_method\u001b[0m\u001b[0;34m(\u001b[0m\u001b[0mEXPECTED_METHOD_NAME\u001b[0m\u001b[0;34m)\u001b[0m\u001b[0;34m)\u001b[0m\u001b[0;34m\u001b[0m\u001b[0;34m\u001b[0m\u001b[0m\n\u001b[0m\u001b[1;32m     18\u001b[0m     \u001b[0;32melse\u001b[0m\u001b[0;34m:\u001b[0m\u001b[0;34m\u001b[0m\u001b[0;34m\u001b[0m\u001b[0m\n\u001b[1;32m     19\u001b[0m         \u001b[0;32mreturn\u001b[0m \u001b[0mgetattr\u001b[0m\u001b[0;34m(\u001b[0m\u001b[0menv\u001b[0m\u001b[0;34m,\u001b[0m \u001b[0mEXPECTED_METHOD_NAME\u001b[0m\u001b[0;34m)\u001b[0m\u001b[0;34m(\u001b[0m\u001b[0;34m)\u001b[0m\u001b[0;34m\u001b[0m\u001b[0;34m\u001b[0m\u001b[0m\n",
      "\u001b[0;32m~/.pyenv/versions/3.7.12/envs/rlenvsb3cont/lib/python3.7/site-packages/stable_baselines3/common/vec_env/dummy_vec_env.py\u001b[0m in \u001b[0;36menv_method\u001b[0;34m(self, method_name, indices, *method_args, **method_kwargs)\u001b[0m\n\u001b[1;32m    111\u001b[0m         \u001b[0;34m\"\"\"Call instance methods of vectorized environments.\"\"\"\u001b[0m\u001b[0;34m\u001b[0m\u001b[0;34m\u001b[0m\u001b[0m\n\u001b[1;32m    112\u001b[0m         \u001b[0mtarget_envs\u001b[0m \u001b[0;34m=\u001b[0m \u001b[0mself\u001b[0m\u001b[0;34m.\u001b[0m\u001b[0m_get_target_envs\u001b[0m\u001b[0;34m(\u001b[0m\u001b[0mindices\u001b[0m\u001b[0;34m)\u001b[0m\u001b[0;34m\u001b[0m\u001b[0;34m\u001b[0m\u001b[0m\n\u001b[0;32m--> 113\u001b[0;31m         \u001b[0;32mreturn\u001b[0m \u001b[0;34m[\u001b[0m\u001b[0mgetattr\u001b[0m\u001b[0;34m(\u001b[0m\u001b[0menv_i\u001b[0m\u001b[0;34m,\u001b[0m \u001b[0mmethod_name\u001b[0m\u001b[0;34m)\u001b[0m\u001b[0;34m(\u001b[0m\u001b[0;34m*\u001b[0m\u001b[0mmethod_args\u001b[0m\u001b[0;34m,\u001b[0m \u001b[0;34m**\u001b[0m\u001b[0mmethod_kwargs\u001b[0m\u001b[0;34m)\u001b[0m \u001b[0;32mfor\u001b[0m \u001b[0menv_i\u001b[0m \u001b[0;32min\u001b[0m \u001b[0mtarget_envs\u001b[0m\u001b[0;34m]\u001b[0m\u001b[0;34m\u001b[0m\u001b[0;34m\u001b[0m\u001b[0m\n\u001b[0m\u001b[1;32m    114\u001b[0m \u001b[0;34m\u001b[0m\u001b[0m\n\u001b[1;32m    115\u001b[0m     \u001b[0;32mdef\u001b[0m \u001b[0menv_is_wrapped\u001b[0m\u001b[0;34m(\u001b[0m\u001b[0mself\u001b[0m\u001b[0;34m,\u001b[0m \u001b[0mwrapper_class\u001b[0m\u001b[0;34m:\u001b[0m \u001b[0mType\u001b[0m\u001b[0;34m[\u001b[0m\u001b[0mgym\u001b[0m\u001b[0;34m.\u001b[0m\u001b[0mWrapper\u001b[0m\u001b[0;34m]\u001b[0m\u001b[0;34m,\u001b[0m \u001b[0mindices\u001b[0m\u001b[0;34m:\u001b[0m \u001b[0mVecEnvIndices\u001b[0m \u001b[0;34m=\u001b[0m \u001b[0;32mNone\u001b[0m\u001b[0;34m)\u001b[0m \u001b[0;34m->\u001b[0m \u001b[0mList\u001b[0m\u001b[0;34m[\u001b[0m\u001b[0mbool\u001b[0m\u001b[0;34m]\u001b[0m\u001b[0;34m:\u001b[0m\u001b[0;34m\u001b[0m\u001b[0;34m\u001b[0m\u001b[0m\n",
      "\u001b[0;32m~/.pyenv/versions/3.7.12/envs/rlenvsb3cont/lib/python3.7/site-packages/stable_baselines3/common/vec_env/dummy_vec_env.py\u001b[0m in \u001b[0;36m<listcomp>\u001b[0;34m(.0)\u001b[0m\n\u001b[1;32m    111\u001b[0m         \u001b[0;34m\"\"\"Call instance methods of vectorized environments.\"\"\"\u001b[0m\u001b[0;34m\u001b[0m\u001b[0;34m\u001b[0m\u001b[0m\n\u001b[1;32m    112\u001b[0m         \u001b[0mtarget_envs\u001b[0m \u001b[0;34m=\u001b[0m \u001b[0mself\u001b[0m\u001b[0;34m.\u001b[0m\u001b[0m_get_target_envs\u001b[0m\u001b[0;34m(\u001b[0m\u001b[0mindices\u001b[0m\u001b[0;34m)\u001b[0m\u001b[0;34m\u001b[0m\u001b[0;34m\u001b[0m\u001b[0m\n\u001b[0;32m--> 113\u001b[0;31m         \u001b[0;32mreturn\u001b[0m \u001b[0;34m[\u001b[0m\u001b[0mgetattr\u001b[0m\u001b[0;34m(\u001b[0m\u001b[0menv_i\u001b[0m\u001b[0;34m,\u001b[0m \u001b[0mmethod_name\u001b[0m\u001b[0;34m)\u001b[0m\u001b[0;34m(\u001b[0m\u001b[0;34m*\u001b[0m\u001b[0mmethod_args\u001b[0m\u001b[0;34m,\u001b[0m \u001b[0;34m**\u001b[0m\u001b[0mmethod_kwargs\u001b[0m\u001b[0;34m)\u001b[0m \u001b[0;32mfor\u001b[0m \u001b[0menv_i\u001b[0m \u001b[0;32min\u001b[0m \u001b[0mtarget_envs\u001b[0m\u001b[0;34m]\u001b[0m\u001b[0;34m\u001b[0m\u001b[0;34m\u001b[0m\u001b[0m\n\u001b[0m\u001b[1;32m    114\u001b[0m \u001b[0;34m\u001b[0m\u001b[0m\n\u001b[1;32m    115\u001b[0m     \u001b[0;32mdef\u001b[0m \u001b[0menv_is_wrapped\u001b[0m\u001b[0;34m(\u001b[0m\u001b[0mself\u001b[0m\u001b[0;34m,\u001b[0m \u001b[0mwrapper_class\u001b[0m\u001b[0;34m:\u001b[0m \u001b[0mType\u001b[0m\u001b[0;34m[\u001b[0m\u001b[0mgym\u001b[0m\u001b[0;34m.\u001b[0m\u001b[0mWrapper\u001b[0m\u001b[0;34m]\u001b[0m\u001b[0;34m,\u001b[0m \u001b[0mindices\u001b[0m\u001b[0;34m:\u001b[0m \u001b[0mVecEnvIndices\u001b[0m \u001b[0;34m=\u001b[0m \u001b[0;32mNone\u001b[0m\u001b[0;34m)\u001b[0m \u001b[0;34m->\u001b[0m \u001b[0mList\u001b[0m\u001b[0;34m[\u001b[0m\u001b[0mbool\u001b[0m\u001b[0;34m]\u001b[0m\u001b[0;34m:\u001b[0m\u001b[0;34m\u001b[0m\u001b[0;34m\u001b[0m\u001b[0m\n",
      "\u001b[0;32m~/RL_FOCSLab/optical_rl_gym/envs/rwa_env_focs_v4_5.py\u001b[0m in \u001b[0;36maction_masks\u001b[0;34m(self)\u001b[0m\n\u001b[1;32m    428\u001b[0m     \u001b[0;32mdef\u001b[0m \u001b[0maction_masks\u001b[0m\u001b[0;34m(\u001b[0m\u001b[0mself\u001b[0m\u001b[0;34m)\u001b[0m\u001b[0;34m:\u001b[0m\u001b[0;34m\u001b[0m\u001b[0;34m\u001b[0m\u001b[0m\n\u001b[1;32m    429\u001b[0m \u001b[0;34m\u001b[0m\u001b[0m\n\u001b[0;32m--> 430\u001b[0;31m         \u001b[0mlp_classes\u001b[0m \u001b[0;34m=\u001b[0m \u001b[0mself\u001b[0m\u001b[0;34m.\u001b[0m\u001b[0mget_lightpath_classification\u001b[0m\u001b[0;34m(\u001b[0m\u001b[0mself\u001b[0m\u001b[0;34m.\u001b[0m\u001b[0mservice\u001b[0m\u001b[0;34m.\u001b[0m\u001b[0msource\u001b[0m\u001b[0;34m,\u001b[0m \u001b[0mself\u001b[0m\u001b[0;34m.\u001b[0m\u001b[0mservice\u001b[0m\u001b[0;34m.\u001b[0m\u001b[0mdestination\u001b[0m\u001b[0;34m)\u001b[0m\u001b[0;34m\u001b[0m\u001b[0;34m\u001b[0m\u001b[0m\n\u001b[0m\u001b[1;32m    431\u001b[0m         \u001b[0;32mif\u001b[0m \u001b[0mself\u001b[0m\u001b[0;34m.\u001b[0m\u001b[0mreject_action\u001b[0m \u001b[0;34m==\u001b[0m \u001b[0;36m1\u001b[0m\u001b[0;34m:\u001b[0m\u001b[0;34m\u001b[0m\u001b[0;34m\u001b[0m\u001b[0m\n\u001b[1;32m    432\u001b[0m             \u001b[0;32mreturn\u001b[0m \u001b[0;34m[\u001b[0m\u001b[0mi\u001b[0m \u001b[0;34m!=\u001b[0m \u001b[0;36m0\u001b[0m \u001b[0;32mfor\u001b[0m \u001b[0mi\u001b[0m \u001b[0;32min\u001b[0m \u001b[0mlp_classes\u001b[0m\u001b[0;34m]\u001b[0m \u001b[0;34m+\u001b[0m \u001b[0;34m[\u001b[0m\u001b[0;32mTrue\u001b[0m\u001b[0;34m]\u001b[0m \u001b[0;31m# always possible to reject!\u001b[0m\u001b[0;34m\u001b[0m\u001b[0;34m\u001b[0m\u001b[0m\n",
      "\u001b[0;32m~/RL_FOCSLab/optical_rl_gym/envs/rwa_env_focs_v4_5.py\u001b[0m in \u001b[0;36mget_lightpath_classification\u001b[0;34m(self, source, destination)\u001b[0m\n\u001b[1;32m    418\u001b[0m                 \u001b[0;32mif\u001b[0m \u001b[0mself\u001b[0m\u001b[0;34m.\u001b[0m\u001b[0mget_available_lightpath_capacity\u001b[0m\u001b[0;34m(\u001b[0m\u001b[0mp\u001b[0m\u001b[0;34m,\u001b[0m \u001b[0mchannel\u001b[0m\u001b[0;34m)\u001b[0m \u001b[0;34m<\u001b[0m \u001b[0mself\u001b[0m\u001b[0;34m.\u001b[0m\u001b[0mservice\u001b[0m\u001b[0;34m.\u001b[0m\u001b[0mbit_rate\u001b[0m\u001b[0;34m:\u001b[0m\u001b[0;34m\u001b[0m\u001b[0;34m\u001b[0m\u001b[0m\n\u001b[1;32m    419\u001b[0m                     \u001b[0mlp_classes\u001b[0m\u001b[0;34m.\u001b[0m\u001b[0mappend\u001b[0m\u001b[0;34m(\u001b[0m\u001b[0;36m0\u001b[0m\u001b[0;34m)\u001b[0m\u001b[0;34m\u001b[0m\u001b[0;34m\u001b[0m\u001b[0m\n\u001b[0;32m--> 420\u001b[0;31m                 \u001b[0;32melif\u001b[0m \u001b[0mself\u001b[0m\u001b[0;34m.\u001b[0m\u001b[0mis_lightpath_free\u001b[0m\u001b[0;34m(\u001b[0m\u001b[0mp\u001b[0m\u001b[0;34m,\u001b[0m \u001b[0mchannel\u001b[0m\u001b[0;34m)\u001b[0m\u001b[0;34m:\u001b[0m\u001b[0;34m\u001b[0m\u001b[0;34m\u001b[0m\u001b[0m\n\u001b[0m\u001b[1;32m    421\u001b[0m                     \u001b[0mlp_classes\u001b[0m\u001b[0;34m.\u001b[0m\u001b[0mappend\u001b[0m\u001b[0;34m(\u001b[0m\u001b[0;36m1\u001b[0m\u001b[0;34m)\u001b[0m\u001b[0;34m\u001b[0m\u001b[0;34m\u001b[0m\u001b[0m\n\u001b[1;32m    422\u001b[0m                 \u001b[0;32melif\u001b[0m \u001b[0mself\u001b[0m\u001b[0;34m.\u001b[0m\u001b[0mdoes_lightpath_exist\u001b[0m\u001b[0;34m(\u001b[0m\u001b[0mp\u001b[0m\u001b[0;34m,\u001b[0m \u001b[0mchannel\u001b[0m\u001b[0;34m)\u001b[0m\u001b[0;34m:\u001b[0m\u001b[0;34m\u001b[0m\u001b[0;34m\u001b[0m\u001b[0m\n",
      "\u001b[0;32m~/RL_FOCSLab/optical_rl_gym/envs/rwa_env_focs_v4_5.py\u001b[0m in \u001b[0;36mis_lightpath_free\u001b[0;34m(self, path, wavelength)\u001b[0m\n\u001b[1;32m    522\u001b[0m         \u001b[0;32mfor\u001b[0m \u001b[0mi\u001b[0m \u001b[0;32min\u001b[0m \u001b[0mrange\u001b[0m\u001b[0;34m(\u001b[0m\u001b[0mlen\u001b[0m\u001b[0;34m(\u001b[0m\u001b[0mpath\u001b[0m\u001b[0;34m.\u001b[0m\u001b[0mnode_list\u001b[0m\u001b[0;34m)\u001b[0m \u001b[0;34m-\u001b[0m \u001b[0;36m1\u001b[0m\u001b[0;34m)\u001b[0m\u001b[0;34m:\u001b[0m\u001b[0;34m\u001b[0m\u001b[0;34m\u001b[0m\u001b[0m\n\u001b[1;32m    523\u001b[0m             if self.topology.graph['available_wavelengths'][\n\u001b[0;32m--> 524\u001b[0;31m                       \u001b[0mself\u001b[0m\u001b[0;34m.\u001b[0m\u001b[0mtopology\u001b[0m\u001b[0;34m[\u001b[0m\u001b[0mpath\u001b[0m\u001b[0;34m.\u001b[0m\u001b[0mnode_list\u001b[0m\u001b[0;34m[\u001b[0m\u001b[0mi\u001b[0m\u001b[0;34m]\u001b[0m\u001b[0;34m]\u001b[0m\u001b[0;34m[\u001b[0m\u001b[0mpath\u001b[0m\u001b[0;34m.\u001b[0m\u001b[0mnode_list\u001b[0m\u001b[0;34m[\u001b[0m\u001b[0mi\u001b[0m \u001b[0;34m+\u001b[0m \u001b[0;36m1\u001b[0m\u001b[0;34m]\u001b[0m\u001b[0;34m]\u001b[0m\u001b[0;34m[\u001b[0m\u001b[0;34m'index'\u001b[0m\u001b[0;34m]\u001b[0m\u001b[0;34m,\u001b[0m\u001b[0;34m\u001b[0m\u001b[0;34m\u001b[0m\u001b[0m\n\u001b[0m\u001b[1;32m    525\u001b[0m                       wavelength] != 0: # 0 means completely unoccupied\n\u001b[1;32m    526\u001b[0m                 \u001b[0;32mreturn\u001b[0m \u001b[0;32mFalse\u001b[0m\u001b[0;34m\u001b[0m\u001b[0;34m\u001b[0m\u001b[0m\n",
      "\u001b[0;32m~/.pyenv/versions/3.7.12/envs/rlenvsb3cont/lib/python3.7/site-packages/networkx/classes/graph.py\u001b[0m in \u001b[0;36m__getitem__\u001b[0;34m(self, n)\u001b[0m\n\u001b[1;32m    474\u001b[0m         \u001b[0mAtlasView\u001b[0m\u001b[0;34m(\u001b[0m\u001b[0;34m{\u001b[0m\u001b[0;36m1\u001b[0m\u001b[0;34m:\u001b[0m \u001b[0;34m{\u001b[0m\u001b[0;34m}\u001b[0m\u001b[0;34m}\u001b[0m\u001b[0;34m)\u001b[0m\u001b[0;34m\u001b[0m\u001b[0;34m\u001b[0m\u001b[0m\n\u001b[1;32m    475\u001b[0m         \"\"\"\n\u001b[0;32m--> 476\u001b[0;31m         \u001b[0;32mreturn\u001b[0m \u001b[0mself\u001b[0m\u001b[0;34m.\u001b[0m\u001b[0madj\u001b[0m\u001b[0;34m[\u001b[0m\u001b[0mn\u001b[0m\u001b[0;34m]\u001b[0m\u001b[0;34m\u001b[0m\u001b[0;34m\u001b[0m\u001b[0m\n\u001b[0m\u001b[1;32m    477\u001b[0m \u001b[0;34m\u001b[0m\u001b[0m\n\u001b[1;32m    478\u001b[0m     \u001b[0;32mdef\u001b[0m \u001b[0madd_node\u001b[0m\u001b[0;34m(\u001b[0m\u001b[0mself\u001b[0m\u001b[0;34m,\u001b[0m \u001b[0mnode_for_adding\u001b[0m\u001b[0;34m,\u001b[0m \u001b[0;34m**\u001b[0m\u001b[0mattr\u001b[0m\u001b[0;34m)\u001b[0m\u001b[0;34m:\u001b[0m\u001b[0;34m\u001b[0m\u001b[0;34m\u001b[0m\u001b[0m\n",
      "\u001b[0;32m~/.pyenv/versions/3.7.12/envs/rlenvsb3cont/lib/python3.7/site-packages/networkx/classes/coreviews.py\u001b[0m in \u001b[0;36m__getitem__\u001b[0;34m(self, name)\u001b[0m\n\u001b[1;32m     79\u001b[0m     \u001b[0m__slots__\u001b[0m \u001b[0;34m=\u001b[0m \u001b[0;34m(\u001b[0m\u001b[0;34m)\u001b[0m  \u001b[0;31m# Still uses AtlasView slots names _atlas\u001b[0m\u001b[0;34m\u001b[0m\u001b[0;34m\u001b[0m\u001b[0m\n\u001b[1;32m     80\u001b[0m \u001b[0;34m\u001b[0m\u001b[0m\n\u001b[0;32m---> 81\u001b[0;31m     \u001b[0;32mdef\u001b[0m \u001b[0m__getitem__\u001b[0m\u001b[0;34m(\u001b[0m\u001b[0mself\u001b[0m\u001b[0;34m,\u001b[0m \u001b[0mname\u001b[0m\u001b[0;34m)\u001b[0m\u001b[0;34m:\u001b[0m\u001b[0;34m\u001b[0m\u001b[0;34m\u001b[0m\u001b[0m\n\u001b[0m\u001b[1;32m     82\u001b[0m         \u001b[0;32mreturn\u001b[0m \u001b[0mAtlasView\u001b[0m\u001b[0;34m(\u001b[0m\u001b[0mself\u001b[0m\u001b[0;34m.\u001b[0m\u001b[0m_atlas\u001b[0m\u001b[0;34m[\u001b[0m\u001b[0mname\u001b[0m\u001b[0;34m]\u001b[0m\u001b[0;34m)\u001b[0m\u001b[0;34m\u001b[0m\u001b[0;34m\u001b[0m\u001b[0m\n\u001b[1;32m     83\u001b[0m \u001b[0;34m\u001b[0m\u001b[0m\n",
      "\u001b[0;31mKeyboardInterrupt\u001b[0m: "
     ]
    }
   ],
   "source": [
    "mean_reward, std_reward = evaluate_policy(model, env, n_eval_episodes=1, deterministic = False)\n",
    "print(mean_reward)\n",
    "print(std_reward)"
   ]
  },
  {
   "cell_type": "code",
   "execution_count": null,
   "id": "b9add5c3",
   "metadata": {},
   "outputs": [],
   "source": [
    "2293- (2500 - 2293)"
   ]
  },
  {
   "cell_type": "code",
   "execution_count": null,
   "id": "46961f25",
   "metadata": {},
   "outputs": [],
   "source": [
    "env"
   ]
  },
  {
   "cell_type": "code",
   "execution_count": 45,
   "id": "ac08e032",
   "metadata": {},
   "outputs": [],
   "source": [
    "model_corex_dir = \"/Users/joshnevin/RL_FOCSLab/tmp/RWAFOCS-ppo/\"+exp_id+\"/_core_4/\"\n",
    "# model_corex_dir = \"/Users/joshnevin/RL_FOCSLab/tmp/RWAFOCS-ppo/\"+exp_id+\"/\"\n",
    "df = pd.read_csv(model_corex_dir+\"/training.monitor.csv\", skiprows=1)\n",
    "rewards = df['r'].to_numpy()\n",
    "sim_time = df['t'].to_numpy()\n",
    "episodes = df.index.values\n",
    "# services_accepted_ep = df['episode_services_accepted']\n",
    "# services_processed_ep = df['episode_services_processed']\n",
    "services_accepted = df['services_accepted']\n",
    "# services_processed = df['services_processed']\n",
    "throughput = df['throughput']/1e12\n",
    "# service_dist = df['service_distribution']\n",
    "# service_dist = service_dist[0]\n",
    "# service_dist = ast.literal_eval(service_dist)\n",
    "# service_dist = np.array(service_dist).reshape(22,100)\n",
    "# np.array(service_dist).reshape(22,100)\n",
    "# cum_services_accepted = df['episode_cum_services_accepted']\n",
    "# cum_services_accepted = cum_services_accepted[0]\n",
    "# cum_services_accepted = ast.literal_eval(cum_services_accepted)"
   ]
  },
  {
   "cell_type": "code",
   "execution_count": 46,
   "id": "55e8ac85",
   "metadata": {},
   "outputs": [
    {
     "data": {
      "text/plain": [
       "99"
      ]
     },
     "execution_count": 46,
     "metadata": {},
     "output_type": "execute_result"
    }
   ],
   "source": [
    "episodes[-1]"
   ]
  },
  {
   "cell_type": "code",
   "execution_count": 47,
   "id": "3a8e9bce",
   "metadata": {},
   "outputs": [
    {
     "data": {
      "image/png": "[encoded data removed]",
      "text/plain": [
       "<Figure size 432x288 with 1 Axes>"
      ]
     },
     "metadata": {
      "needs_background": "light"
     },
     "output_type": "display_data"
    }
   ],
   "source": [
    "ca_mu_result_reward = np.ones([len(episodes),])*1465\n",
    "plt.plot(sim_time, rewards, '+', label='Agent')\n",
    "plt.xlim([0,sim_time[-1]])\n",
    "plt.xlabel(\"Episodes\")\n",
    "plt.ylabel(\"Reward\")\n",
    "#plt.plot(sim_time, ca_mu_result_reward, 'r', label ='CA-MU')\n",
    "plt.legend()\n",
    "# plt.savefig('figures/rl_agent_vs_ca_mu_reward_'+plot_name+'.jpeg', dpi=300,bbox_inches='tight')\n",
    "# plt.savefig('figures/learning_curve_ppo.jpeg', dpi=300,bbox_inches='tight')\n",
    "plt.show()"
   ]
  },
  {
   "cell_type": "code",
   "execution_count": 48,
   "id": "2423ab5a",
   "metadata": {},
   "outputs": [
    {
     "data": {
      "image/png": "[encoded data removed]",
      "text/plain": [
       "<Figure size 432x288 with 1 Axes>"
      ]
     },
     "metadata": {
      "needs_background": "light"
     },
     "output_type": "display_data"
    }
   ],
   "source": [
    "plt.plot(sim_time, services_accepted, '+', label='Agent')\n",
    "plt.xlim([0,sim_time[-1]])\n",
    "plt.xlabel(\"Episodes\")\n",
    "plt.ylabel(\"Services accepted\")\n",
    "#plt.plot(sim_time, ca_mu_result_reward, 'r', label ='CA-MU')\n",
    "plt.legend()\n",
    "plt.savefig('figures/learning_curve'+exp_id+'.jpeg', dpi=300,bbox_inches='tight')\n",
    "plt.show()"
   ]
  },
  {
   "cell_type": "code",
   "execution_count": 23,
   "id": "5ed54cbe",
   "metadata": {},
   "outputs": [
    {
     "data": {
      "image/png": "[encoded data removed]",
      "text/plain": [
       "<Figure size 432x288 with 1 Axes>"
      ]
     },
     "metadata": {
      "needs_background": "light"
     },
     "output_type": "display_data"
    }
   ],
   "source": [
    "plt.plot(episodes, sim_time, '+', label='Agent')\n",
    "plt.xlim([0,episodes[-1]])\n",
    "plt.xlabel(\"Episodes\")\n",
    "plt.ylabel(\"Simulation time\")\n",
    "plt.legend()\n",
    "#plt.savefig('figures/rl_agent_vs_ca_mu_reward_'+plot_name+'.jpeg', dpi=300,bbox_inches='tight')\n",
    "plt.show()"
   ]
  },
  {
   "cell_type": "markdown",
   "id": "c94a1344",
   "metadata": {},
   "source": [
    "Optuna Results"
   ]
  },
  {
   "cell_type": "code",
   "execution_count": null,
   "id": "eca2c746",
   "metadata": {},
   "outputs": [],
   "source": [
    "study_name = 'studyhypv2112frGam'\n",
    "with open('/Users/joshnevin/RL_FOCSLab/optuna_results/'+study_name+'.pkl', 'rb') as f:\n",
    "    study = pickle.load(f)"
   ]
  },
  {
   "cell_type": "code",
   "execution_count": null,
   "id": "ffd55b21",
   "metadata": {},
   "outputs": [],
   "source": [
    "study.best_trial.params"
   ]
  },
  {
   "cell_type": "code",
   "execution_count": null,
   "id": "691e8dee",
   "metadata": {},
   "outputs": [],
   "source": [
    "0.0004404/1e-4"
   ]
  },
  {
   "cell_type": "code",
   "execution_count": null,
   "id": "61b6ef8f",
   "metadata": {},
   "outputs": [],
   "source": [
    "obs = env.reset()"
   ]
  },
  {
   "cell_type": "code",
   "execution_count": null,
   "id": "ff9967f3",
   "metadata": {},
   "outputs": [],
   "source": [
    "def speed_testing():\n",
    "    total_time = 0\n",
    "    obs = env.reset()\n",
    "    done = False\n",
    "    total_reward = []\n",
    "    while not done:\n",
    "        start = time.time()\n",
    "        action, _states = model.predict(obs, deterministic=True)\n",
    "        end = time.time()\n",
    "        total_time += end-start\n",
    "        obs, rewards, done, info = env.step(action)\n",
    "        total_reward.append(rewards)\n",
    "    return total_time, sum(total_reward)"
   ]
  },
  {
   "cell_type": "code",
   "execution_count": null,
   "id": "4fa561dc",
   "metadata": {},
   "outputs": [],
   "source": [
    "total_time, total_reward = speed_testing()"
   ]
  },
  {
   "cell_type": "code",
   "execution_count": null,
   "id": "38a2dc3a",
   "metadata": {},
   "outputs": [],
   "source": [
    "total_time"
   ]
  },
  {
   "cell_type": "code",
   "execution_count": null,
   "id": "c647373d",
   "metadata": {},
   "outputs": [],
   "source": [
    "total_reward"
   ]
  },
  {
   "cell_type": "code",
   "execution_count": null,
   "id": "8679ef43",
   "metadata": {},
   "outputs": [],
   "source": [
    "cProfile.run('speed_testing()')"
   ]
  },
  {
   "cell_type": "code",
   "execution_count": null,
   "id": "64b6d2e4",
   "metadata": {},
   "outputs": [],
   "source": [
    "total_reward"
   ]
  },
  {
   "cell_type": "code",
   "execution_count": null,
   "id": "1e9915bf",
   "metadata": {},
   "outputs": [],
   "source": [
    "plt.plot(total_reward, '+')\n",
    "plt.show()"
   ]
  },
  {
   "cell_type": "code",
   "execution_count": null,
   "id": "0e791540",
   "metadata": {},
   "outputs": [],
   "source": [
    "action"
   ]
  },
  {
   "cell_type": "code",
   "execution_count": null,
   "id": "c90e0c2e",
   "metadata": {},
   "outputs": [],
   "source": [
    "start = time.time()\n",
    "env.observation()\n",
    "end = time.time()\n",
    "end - start"
   ]
  },
  {
   "cell_type": "code",
   "execution_count": null,
   "id": "fa5c4e61",
   "metadata": {},
   "outputs": [],
   "source": [
    "env.service.source"
   ]
  },
  {
   "cell_type": "code",
   "execution_count": null,
   "id": "afc1cf2c",
   "metadata": {},
   "outputs": [],
   "source": [
    "env.service.destination"
   ]
  },
  {
   "cell_type": "code",
   "execution_count": null,
   "id": "7e4eba0c",
   "metadata": {},
   "outputs": [],
   "source": [
    "env.lightpath_service_allocation"
   ]
  },
  {
   "cell_type": "code",
   "execution_count": null,
   "id": "c45cd54d",
   "metadata": {},
   "outputs": [],
   "source": [
    "cProfile.run('env.step(np.array([0,0]))')"
   ]
  },
  {
   "cell_type": "code",
   "execution_count": null,
   "id": "758d5b19",
   "metadata": {},
   "outputs": [],
   "source": [
    "optimal_params_file = \"2022-01-04exp_num.pkl\"\n",
    "model_params = pickle.load(open(\"./tmp/RWAFOCS-ppo/best_params/\"+optimal_params_file, 'rb'))"
   ]
  },
  {
   "cell_type": "code",
   "execution_count": null,
   "id": "81fef74a",
   "metadata": {},
   "outputs": [],
   "source": [
    "pwd"
   ]
  },
  {
   "cell_type": "code",
   "execution_count": null,
   "id": "edbf9182",
   "metadata": {},
   "outputs": [],
   "source": []
  }
 ],
 "metadata": {
  "kernelspec": {
   "display_name": "Python 3 (ipykernel)",
   "language": "python",
   "name": "python3"
  },
  "language_info": {
   "codemirror_mode": {
    "name": "ipython",
    "version": 3
   },
   "file_extension": ".py",
   "mimetype": "text/x-python",
   "name": "python",
   "nbconvert_exporter": "python",
   "pygments_lexer": "ipython3",
   "version": "3.7.12"
  }
 },
 "nbformat": 4,
 "nbformat_minor": 5
}
