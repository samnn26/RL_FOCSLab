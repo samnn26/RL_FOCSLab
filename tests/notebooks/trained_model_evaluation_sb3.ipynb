{
 "cells": [
  {
   "cell_type": "code",
   "execution_count": 1,
   "id": "537e6c33",
   "metadata": {},
   "outputs": [],
   "source": [
    "import os\n",
    "import pickle\n",
    "import numpy as np\n",
    "\n",
    "from IPython.display import clear_output\n",
    "\n",
    "import matplotlib\n",
    "import matplotlib.pyplot as plt\n",
    "#import config InlineBackend.figure_format = 'svg'\n",
    "import tensorflow as tf\n",
    "\n",
    "# silencing tensorflow warnings\n",
    "import logging\n",
    "logging.getLogger('tensorflow').setLevel(logging.FATAL)\n",
    "from datetime import datetime\n",
    "\n",
    "tf.__version__ # printint out tensorflow version used\n",
    "import stable_baselines3\n",
    "import sb3_contrib\n",
    "from stable_baselines3.common.callbacks import BaseCallback\n",
    "# from stable_baselines3.results_plotter import load_results, ts2xy\n",
    "from stable_baselines3.common.results_plotter import load_results, ts2xy\n",
    "\n",
    "# from stable_baselines3.bench import Monitor\n",
    "from stable_baselines3.common.monitor import Monitor\n",
    "#from stable_baselines3.common.policies import MlpPolicy\n",
    "from stable_baselines3.common import results_plotter\n",
    "from sb3_contrib.common.maskable.evaluation import evaluate_policy\n",
    "from sb3_contrib import MaskablePPO\n",
    "from stable_baselines3.common.vec_env import DummyVecEnv\n",
    "#stable_baselines.__version__ # printing out stable_baselines version used\n",
    "import gym\n",
    "import pickle\n",
    "import cProfile \n",
    "import pandas as pd\n",
    "font = { 'family' : 'sans-serif',\n",
    "                'weight' : 'normal',\n",
    "                'size'   : 14}\n",
    "matplotlib.rc('font', **font)"
   ]
  },
  {
   "cell_type": "code",
   "execution_count": 2,
   "id": "751fc7ff",
   "metadata": {},
   "outputs": [],
   "source": [
    "def make_env(env_args, log_dir):\n",
    "    def maker():\n",
    "        env = gym.make('RWAFOCS-v4', **env_args)\n",
    "        env = Monitor(env, log_dir + 'evaluation', info_keywords=('episode_services_accepted',\n",
    "'episode_services_processed', 'services_accepted', 'services_processed', 'episode_cum_services_accepted',\n",
    "'episode_cum_services_processed', 'throughput'))\n",
    "        return env\n",
    "    return maker"
   ]
  },
  {
   "cell_type": "code",
   "execution_count": 3,
   "id": "b07abb9d",
   "metadata": {},
   "outputs": [],
   "source": [
    "with open('/Users/joshnevin/RL_FOCSLab/topologies/nsfnet_chen_5-paths_directional.h5', 'rb') as f:\n",
    "    topology = pickle.load(f)\n",
    "# node probabilities from https://github.com/xiaoliangchenUCD/DeepRMSA/blob/6708e9a023df1ec05bfdc77804b6829e33cacfe4/Deep_RMSA_A3C.py#L77\n",
    "node_request_probabilities = np.array([0.01801802, 0.04004004, 0.05305305, 0.01901902, 0.04504505,\n",
    "       0.02402402, 0.06706707, 0.08908909, 0.13813814, 0.12212212,\n",
    "       0.07607608, 0.12012012, 0.01901902, 0.16916917])\n",
    "load = int(1e10)\n",
    "env_args = dict(topology=topology, seed=5, load = load,\n",
    "                allow_rejection=False, # the agent cannot proactively reject a request\n",
    "                mean_service_holding_time=1e8, # value is not set as in the paper to achieve comparable reward values\n",
    "                episode_length=1600, node_request_probabilities=node_request_probabilities, exp_request_res=25e9,\n",
    "                exp_request_lambda=1, term_on_first_block=False)"
   ]
  },
  {
   "cell_type": "code",
   "execution_count": 22,
   "id": "f451858a",
   "metadata": {},
   "outputs": [],
   "source": [
    "# current_directory = os.getcwd()\n",
    "model_dir = \"/Users/joshnevin/RL_FOCSLab/tmp/RWAFOCS-ppo/2022-01-15_maskedppomulproc/_core_0/\"\n",
    "# env = DummyVecEnv([make_env(env_args, log_dir)])\n",
    "# os.makedirs(model_dir, exist_ok=True)\n",
    "env = gym.make('RWAFOCS-v4', **env_args)\n",
    "env = Monitor(env, model_dir + 'evaluation', info_keywords=('episode_services_accepted',\n",
    "'episode_services_processed', 'services_accepted', 'services_processed', 'episode_cum_services_accepted',\n",
    "'episode_cum_services_processed', 'throughput'))\n",
    "model = MaskablePPO.load(model_dir+'best_model')"
   ]
  },
  {
   "cell_type": "code",
   "execution_count": 23,
   "id": "f7fb39dd",
   "metadata": {},
   "outputs": [
    {
     "name": "stdout",
     "output_type": "stream",
     "text": [
      "1358.0\n",
      "0.0\n"
     ]
    }
   ],
   "source": [
    "mean_reward, std_reward = evaluate_policy(model, env, n_eval_episodes=1,deterministic =True)\n",
    "print(mean_reward)\n",
    "print(std_reward)"
   ]
  },
  {
   "cell_type": "code",
   "execution_count": 26,
   "id": "f24b55bc",
   "metadata": {},
   "outputs": [
    {
     "data": {
      "text/html": [
       "<div>\n",
       "<style scoped>\n",
       "    .dataframe tbody tr th:only-of-type {\n",
       "        vertical-align: middle;\n",
       "    }\n",
       "\n",
       "    .dataframe tbody tr th {\n",
       "        vertical-align: top;\n",
       "    }\n",
       "\n",
       "    .dataframe thead th {\n",
       "        text-align: right;\n",
       "    }\n",
       "</style>\n",
       "<table border=\"1\" class=\"dataframe\">\n",
       "  <thead>\n",
       "    <tr style=\"text-align: right;\">\n",
       "      <th></th>\n",
       "      <th>r</th>\n",
       "      <th>l</th>\n",
       "      <th>t</th>\n",
       "      <th>episode_service_blocking_rate</th>\n",
       "      <th>service_blocking_rate</th>\n",
       "      <th>throughput</th>\n",
       "    </tr>\n",
       "  </thead>\n",
       "  <tbody>\n",
       "    <tr>\n",
       "      <th>0</th>\n",
       "      <td>1397</td>\n",
       "      <td>1399</td>\n",
       "      <td>121.825259</td>\n",
       "      <td>0.000715</td>\n",
       "      <td>0.000715</td>\n",
       "      <td>53775000000000</td>\n",
       "    </tr>\n",
       "    <tr>\n",
       "      <th>1</th>\n",
       "      <td>1358</td>\n",
       "      <td>1360</td>\n",
       "      <td>355.156262</td>\n",
       "      <td>0.000735</td>\n",
       "      <td>0.000735</td>\n",
       "      <td>54375000000000</td>\n",
       "    </tr>\n",
       "    <tr>\n",
       "      <th>2</th>\n",
       "      <td>1346</td>\n",
       "      <td>1348</td>\n",
       "      <td>581.445898</td>\n",
       "      <td>0.000742</td>\n",
       "      <td>0.000742</td>\n",
       "      <td>52750000000000</td>\n",
       "    </tr>\n",
       "    <tr>\n",
       "      <th>3</th>\n",
       "      <td>1245</td>\n",
       "      <td>1247</td>\n",
       "      <td>629.275050</td>\n",
       "      <td>0.000802</td>\n",
       "      <td>0.000802</td>\n",
       "      <td>49300000000000</td>\n",
       "    </tr>\n",
       "    <tr>\n",
       "      <th>4</th>\n",
       "      <td>1355</td>\n",
       "      <td>1357</td>\n",
       "      <td>878.314359</td>\n",
       "      <td>0.000737</td>\n",
       "      <td>0.000737</td>\n",
       "      <td>53625000000000</td>\n",
       "    </tr>\n",
       "    <tr>\n",
       "      <th>...</th>\n",
       "      <td>...</td>\n",
       "      <td>...</td>\n",
       "      <td>...</td>\n",
       "      <td>...</td>\n",
       "      <td>...</td>\n",
       "      <td>...</td>\n",
       "    </tr>\n",
       "    <tr>\n",
       "      <th>237</th>\n",
       "      <td>1417</td>\n",
       "      <td>1419</td>\n",
       "      <td>42607.370466</td>\n",
       "      <td>0.000705</td>\n",
       "      <td>0.000705</td>\n",
       "      <td>56625000000000</td>\n",
       "    </tr>\n",
       "    <tr>\n",
       "      <th>238</th>\n",
       "      <td>1459</td>\n",
       "      <td>1461</td>\n",
       "      <td>42661.465340</td>\n",
       "      <td>0.000684</td>\n",
       "      <td>0.000684</td>\n",
       "      <td>57100000000000</td>\n",
       "    </tr>\n",
       "    <tr>\n",
       "      <th>239</th>\n",
       "      <td>1391</td>\n",
       "      <td>1393</td>\n",
       "      <td>42902.295135</td>\n",
       "      <td>0.000718</td>\n",
       "      <td>0.000718</td>\n",
       "      <td>56425000000000</td>\n",
       "    </tr>\n",
       "    <tr>\n",
       "      <th>240</th>\n",
       "      <td>1431</td>\n",
       "      <td>1433</td>\n",
       "      <td>43145.006085</td>\n",
       "      <td>0.000698</td>\n",
       "      <td>0.000698</td>\n",
       "      <td>56300000000000</td>\n",
       "    </tr>\n",
       "    <tr>\n",
       "      <th>241</th>\n",
       "      <td>1401</td>\n",
       "      <td>1403</td>\n",
       "      <td>43196.777786</td>\n",
       "      <td>0.000713</td>\n",
       "      <td>0.000713</td>\n",
       "      <td>56800000000000</td>\n",
       "    </tr>\n",
       "  </tbody>\n",
       "</table>\n",
       "<p>242 rows × 6 columns</p>\n",
       "</div>"
      ],
      "text/plain": [
       "        r     l             t  episode_service_blocking_rate  \\\n",
       "0    1397  1399    121.825259                       0.000715   \n",
       "1    1358  1360    355.156262                       0.000735   \n",
       "2    1346  1348    581.445898                       0.000742   \n",
       "3    1245  1247    629.275050                       0.000802   \n",
       "4    1355  1357    878.314359                       0.000737   \n",
       "..    ...   ...           ...                            ...   \n",
       "237  1417  1419  42607.370466                       0.000705   \n",
       "238  1459  1461  42661.465340                       0.000684   \n",
       "239  1391  1393  42902.295135                       0.000718   \n",
       "240  1431  1433  43145.006085                       0.000698   \n",
       "241  1401  1403  43196.777786                       0.000713   \n",
       "\n",
       "     service_blocking_rate      throughput  \n",
       "0                 0.000715  53775000000000  \n",
       "1                 0.000735  54375000000000  \n",
       "2                 0.000742  52750000000000  \n",
       "3                 0.000802  49300000000000  \n",
       "4                 0.000737  53625000000000  \n",
       "..                     ...             ...  \n",
       "237               0.000705  56625000000000  \n",
       "238               0.000684  57100000000000  \n",
       "239               0.000718  56425000000000  \n",
       "240               0.000698  56300000000000  \n",
       "241               0.000713  56800000000000  \n",
       "\n",
       "[242 rows x 6 columns]"
      ]
     },
     "execution_count": 26,
     "metadata": {},
     "output_type": "execute_result"
    }
   ],
   "source": [
    "df = pd.read_csv(model_dir+\"/training.monitor.csv\", skiprows=1)\n",
    "df"
   ]
  },
  {
   "cell_type": "code",
   "execution_count": 27,
   "id": "e753a633",
   "metadata": {},
   "outputs": [],
   "source": [
    "rewards = df['r'].to_numpy()\n",
    "sim_time = df['t'].to_numpy()\n",
    "blocking_rate_ep = df['episode_service_blocking_rate']\n",
    "blocking_rate = df['service_blocking_rate']\n",
    "throughput = df['throughput']/1e12"
   ]
  },
  {
   "cell_type": "code",
   "execution_count": 28,
   "id": "3a8e9bce",
   "metadata": {},
   "outputs": [
    {
     "data": {
      "image/png": "[encoded data removed]",
      "text/plain": [
       "<Figure size 432x288 with 1 Axes>"
      ]
     },
     "metadata": {
      "needs_background": "light"
     },
     "output_type": "display_data"
    }
   ],
   "source": [
    "ca_mu_result_reward = np.ones([len(sim_time),])*1380\n",
    "plt.plot(sim_time, rewards, '+', label='Agent')\n",
    "plt.xlim([0,sim_time[-1]])\n",
    "plt.xlabel(\"Time\")\n",
    "plt.ylabel(\"Reward\")\n",
    "plt.plot(sim_time, ca_mu_result_reward, 'r', label ='CA-MU')\n",
    "plt.legend()\n",
    "#plt.savefig('figures/rl_agent_vs_ca_mu_reward_contlearn.jpeg', dpi=300,bbox_inches='tight')\n",
    "plt.show()"
   ]
  },
  {
   "cell_type": "code",
   "execution_count": 29,
   "id": "16ac2334",
   "metadata": {},
   "outputs": [
    {
     "data": {
      "image/png": "[encoded data removed]",
      "text/plain": [
       "<Figure size 432x288 with 1 Axes>"
      ]
     },
     "metadata": {
      "needs_background": "light"
     },
     "output_type": "display_data"
    }
   ],
   "source": [
    "ca_mu_result_frs = np.ones([len(sim_time),])*(1 - 0.93125)\n",
    "f, ax = plt.subplots()\n",
    "ax.set_yscale('log')\n",
    "plt.plot(sim_time, blocking_rate, '+', label='Agent')\n",
    "plt.xlim([0,sim_time[-1]])\n",
    "plt.xlabel(\"Time\")\n",
    "plt.ylabel(\"Fraction of requests serviced\")\n",
    "plt.plot(sim_time, ca_mu_result_frs, 'r', label='CA-MU')\n",
    "plt.legend()\n",
    "#plt.savefig('figures/rl_agent_vs_ca_mu_blocking_prob_contlearn.jpeg', dpi=300,bbox_inches='tight')\n",
    "plt.show()"
   ]
  },
  {
   "cell_type": "code",
   "execution_count": 30,
   "id": "613f9db9",
   "metadata": {},
   "outputs": [
    {
     "data": {
      "image/png": "[encoded data removed]",
      "text/plain": [
       "<Figure size 432x288 with 1 Axes>"
      ]
     },
     "metadata": {
      "needs_background": "light"
     },
     "output_type": "display_data"
    }
   ],
   "source": [
    "ca_mu_result_thru = np.ones([len(sim_time),])*57.5\n",
    "plt.plot(sim_time, throughput, '+', label='Agent')\n",
    "plt.xlim([0,sim_time[-1]])\n",
    "plt.xlabel(\"Time\")\n",
    "plt.ylabel(\"Throughput (Tb/s)\")\n",
    "plt.plot(sim_time, ca_mu_result_thru, 'r', label='CA-MU')\n",
    "plt.legend()\n",
    "#plt.savefig('figures/rl_agent_vs_ca_mu_throughput_contlearn.jpeg', dpi=300,bbox_inches='tight')\n",
    "plt.show()"
   ]
  },
  {
   "cell_type": "code",
   "execution_count": null,
   "id": "ff9967f3",
   "metadata": {},
   "outputs": [],
   "source": [
    "obs = env.envs[0].reset()\n",
    "done = False\n",
    "total_reward = []\n",
    "while not done:\n",
    "    action, _states = model.predict(obs, deterministic=True)\n",
    "    obs, rewards, done, info = env.envs[0].step(action)\n",
    "    total_reward.append(rewards)\n",
    "sum(total_reward)"
   ]
  },
  {
   "cell_type": "code",
   "execution_count": null,
   "id": "64b6d2e4",
   "metadata": {},
   "outputs": [],
   "source": [
    "total_reward"
   ]
  },
  {
   "cell_type": "code",
   "execution_count": null,
   "id": "1e9915bf",
   "metadata": {},
   "outputs": [],
   "source": [
    "plt.plot(total_reward, '+')\n",
    "plt.show()"
   ]
  },
  {
   "cell_type": "code",
   "execution_count": null,
   "id": "0e791540",
   "metadata": {},
   "outputs": [],
   "source": [
    "action"
   ]
  },
  {
   "cell_type": "code",
   "execution_count": null,
   "id": "c90e0c2e",
   "metadata": {},
   "outputs": [],
   "source": [
    "start = time.time()\n",
    "env.observation()\n",
    "end = time.time()\n",
    "end - start"
   ]
  },
  {
   "cell_type": "code",
   "execution_count": null,
   "id": "fa5c4e61",
   "metadata": {},
   "outputs": [],
   "source": [
    "env.service.source"
   ]
  },
  {
   "cell_type": "code",
   "execution_count": null,
   "id": "afc1cf2c",
   "metadata": {},
   "outputs": [],
   "source": [
    "env.service.destination"
   ]
  },
  {
   "cell_type": "code",
   "execution_count": null,
   "id": "7e4eba0c",
   "metadata": {},
   "outputs": [],
   "source": [
    "env.lightpath_service_allocation"
   ]
  },
  {
   "cell_type": "code",
   "execution_count": null,
   "id": "c45cd54d",
   "metadata": {},
   "outputs": [],
   "source": [
    "cProfile.run('env.step(np.array([0,0]))')"
   ]
  },
  {
   "cell_type": "code",
   "execution_count": null,
   "id": "758d5b19",
   "metadata": {},
   "outputs": [],
   "source": [
    "optimal_params_file = \"2022-01-04exp_num.pkl\"\n",
    "model_params = pickle.load(open(\"./tmp/RWAFOCS-ppo/best_params/\"+optimal_params_file, 'rb'))"
   ]
  },
  {
   "cell_type": "code",
   "execution_count": null,
   "id": "81fef74a",
   "metadata": {},
   "outputs": [],
   "source": [
    "pwd"
   ]
  },
  {
   "cell_type": "code",
   "execution_count": null,
   "id": "edbf9182",
   "metadata": {},
   "outputs": [],
   "source": []
  }
 ],
 "metadata": {
  "kernelspec": {
   "display_name": "Python 3 (ipykernel)",
   "language": "python",
   "name": "python3"
  },
  "language_info": {
   "codemirror_mode": {
    "name": "ipython",
    "version": 3
   },
   "file_extension": ".py",
   "mimetype": "text/x-python",
   "name": "python",
   "nbconvert_exporter": "python",
   "pygments_lexer": "ipython3",
   "version": "3.7.12"
  }
 },
 "nbformat": 4,
 "nbformat_minor": 5
}
