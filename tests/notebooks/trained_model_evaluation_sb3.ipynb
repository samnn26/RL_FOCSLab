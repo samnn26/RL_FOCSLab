{
 "cells": [
  {
   "cell_type": "code",
   "execution_count": 3,
   "id": "537e6c33",
   "metadata": {},
   "outputs": [],
   "source": [
    "import os\n",
    "import pickle\n",
    "import numpy as np\n",
    "import time\n",
    "from IPython.display import clear_output\n",
    "\n",
    "import matplotlib\n",
    "import matplotlib.pyplot as plt\n",
    "#import config InlineBackend.figure_format = 'svg'\n",
    "import tensorflow as tf\n",
    "\n",
    "# silencing tensorflow warnings\n",
    "# import logging\n",
    "# logging.getLogger('tensorflow').setLevel(logging.FATAL)\n",
    "from datetime import datetime\n",
    "\n",
    "# tf.__version__ # printint out tensorflow version used\n",
    "import stable_baselines3\n",
    "import sb3_contrib\n",
    "from stable_baselines3.common.callbacks import BaseCallback\n",
    "# from stable_baselines3.results_plotter import load_results, ts2xy\n",
    "from stable_baselines3.common.results_plotter import load_results, ts2xy\n",
    "import optuna\n",
    "# from stable_baselines3.bench import Monitor\n",
    "from stable_baselines3.common.monitor import Monitor\n",
    "#from stable_baselines3.common.policies import MlpPolicy\n",
    "from stable_baselines3.common import results_plotter\n",
    "\n",
    "from sb3_contrib import MaskablePPO\n",
    "from stable_baselines3 import PPO\n",
    "from stable_baselines3.common.vec_env import DummyVecEnv\n",
    "#stable_baselines.__version__ # printing out stable_baselines version used\n",
    "import gym\n",
    "import pickle\n",
    "import cProfile \n",
    "import pandas as pd\n",
    "font = { 'family' : 'sans-serif',\n",
    "                'weight' : 'normal',\n",
    "                'size'   : 14}\n",
    "matplotlib.rc('font', **font)\n",
    "import ast"
   ]
  },
  {
   "cell_type": "code",
   "execution_count": 4,
   "id": "ef72c3fc",
   "metadata": {},
   "outputs": [],
   "source": [
    "# def make_env(env_args, log_dir):\n",
    "#     def maker():\n",
    "#         env = gym.make('RWAFOCS-v2111', **env_args)\n",
    "#         env = Monitor(env, log_dir + 'evaluation', info_keywords=('episode_services_accepted',\n",
    "# 'episode_services_processed', 'services_accepted', 'services_processed', 'episode_cum_services_accepted',\n",
    "# 'episode_cum_services_processed', 'throughput'))\n",
    "#         return env\n",
    "#     return maker"
   ]
  },
  {
   "cell_type": "code",
   "execution_count": 5,
   "id": "b07abb9d",
   "metadata": {},
   "outputs": [],
   "source": [
    "with open('/Users/joshnevin/RL_FOCSLab/topologies/nsfnet_chen_5-paths_rounded.h5', 'rb') as f:\n",
    "    topology = pickle.load(f)\n",
    "# node probabilities from https://github.com/xiaoliangchenUCD/DeepRMSA/blob/6708e9a023df1ec05bfdc77804b6829e33cacfe4/Deep_RMSA_A3C.py#L77\n",
    "# node_request_probabilities = np.array([0.01801802, 0.04004004, 0.05305305, 0.01901902, 0.04504505,\n",
    "#        0.02402402, 0.06706707, 0.08908909, 0.13813814, 0.12212212,\n",
    "#        0.07607608, 0.12012012, 0.01901902, 0.16916917])\n",
    "node_request_probabilities = pickle.load(open('/Users/joshnevin/RL_FOCSLab/node_req_probs/14_node_uniform_pert50.pkl','rb'))\n",
    "load = 1e10\n",
    "env_args = dict(topology=topology, seed=10, load = load,\n",
    "                allow_rejection=False, # the agent cannot proactively reject a request\n",
    "                mean_service_holding_time=1e8, # value is not set as in the paper to achieve comparable reward values\n",
    "                episode_length=2000, node_request_probabilities=node_request_probabilities, exp_request_res=25e9,\n",
    "                term_on_first_block=False)"
   ]
  },
  {
   "cell_type": "code",
   "execution_count": 6,
   "id": "f451858a",
   "metadata": {},
   "outputs": [],
   "source": [
    "# current_directory = os.getcwd()\n",
    "exp_id = \"2022-03-09v7nsfU100Grewm1R3\"\n",
    "# exp_id = \"2022-03-10v45nsfU100GR2\"\n",
    "env_id = \"RWAFOCS-v7\"\n",
    "model_dir = \"/Users/joshnevin/RL_FOCSLab/tmp/RWAFOCS-ppo/\"+exp_id+\"/_core_0/\"\n",
    "masks = True\n",
    "# env = DummyVecEnv([make_env(env_args, log_dir)])\n",
    "# os.makedirs(model_dir, exist_ok=True)\n",
    "env = gym.make(env_id, **env_args)\n",
    "env = Monitor(env, model_dir + 'training', info_keywords=('episode_services_accepted',\n",
    "'episode_services_processed', 'services_accepted', 'services_processed', 'episode_cum_services_accepted',\n",
    "'episode_cum_services_processed', 'throughput'))\n",
    "# from sb3_contrib.common.maskable.evaluation import evaluate_policy\n",
    "# from stable_baselines3.common.evaluation import evaluate_policy\n",
    "if masks:\n",
    "    from sb3_contrib.common.maskable.evaluation import evaluate_policy\n",
    "    model = MaskablePPO.load(model_dir+'best_model')\n",
    "else:\n",
    "    from stable_baselines3.common.evaluation import evaluate_policy\n",
    "    model = PPO.load(model_dir+'best_model')"
   ]
  },
  {
   "cell_type": "code",
   "execution_count": 7,
   "id": "18b70740",
   "metadata": {},
   "outputs": [],
   "source": [
    "# # current_directory = os.getcwd()\n",
    "# exp_id = \"2022-02-17_v43test\"\n",
    "# env_id = \"RWAFOCS-v45\"\n",
    "# model_dir = \"/Users/joshnevin/RL_FOCSLab/tmp/RWAFOCS-ppo/\"+exp_id+\"/\"\n",
    "# # env = DummyVecEnv([make_env(env_args, log_dir)])\n",
    "# # os.makedirs(model_dir, exist_ok=True)\n",
    "# env = gym.make(env_id, **env_args)\n",
    "# env = Monitor(env, model_dir + 'training', info_keywords=('episode_services_accepted',\n",
    "# 'episode_services_processed', 'services_accepted', 'services_processed', 'episode_cum_services_accepted',\n",
    "# 'episode_cum_services_processed', 'throughput','service_distribution'))\n",
    "# #model = MaskablePPO.load(model_dir+'best_model')\n",
    "# model = MaskablePPO.load(model_dir+'best_model')\n",
    "# # model = PPO.load(model_dir+'best_model')"
   ]
  },
  {
   "cell_type": "code",
   "execution_count": 8,
   "id": "f7fb39dd",
   "metadata": {},
   "outputs": [],
   "source": [
    "# mean_reward, std_reward = evaluate_policy(model, env, n_eval_episodes=1, deterministic = False)\n",
    "# print(mean_reward)\n",
    "# print(std_reward)"
   ]
  },
  {
   "cell_type": "code",
   "execution_count": 15,
   "id": "ac08e032",
   "metadata": {},
   "outputs": [],
   "source": [
    "model_corex_dir = \"/Users/joshnevin/RL_FOCSLab/tmp/RWAFOCS-ppo/\"+exp_id+\"/_core_8/\"\n",
    "# model_corex_dir = \"/Users/joshnevin/RL_FOCSLab/tmp/RWAFOCS-ppo/\"+exp_id+\"/\"\n",
    "df = pd.read_csv(model_corex_dir+\"/training.monitor.csv\", skiprows=1)\n",
    "rewards = df['r'].to_numpy()\n",
    "sim_time = df['t'].to_numpy()\n",
    "episodes = df.index.values\n",
    "# services_accepted_ep = df['episode_services_accepted']\n",
    "# services_processed_ep = df['episode_services_processed']\n",
    "services_accepted = df['services_accepted']\n",
    "# services_processed = df['services_processed']\n",
    "throughput = df['throughput']/1e12\n",
    "# service_dist = df['service_distribution']\n",
    "# service_dist = service_dist[0]\n",
    "# service_dist = ast.literal_eval(service_dist)\n",
    "# service_dist = np.array(service_dist).reshape(22,100)\n",
    "# np.array(service_dist).reshape(22,100)\n",
    "# cum_services_accepted = df['episode_cum_services_accepted']\n",
    "# cum_services_accepted = cum_services_accepted[0]\n",
    "# cum_services_accepted = ast.literal_eval(cum_services_accepted)"
   ]
  },
  {
   "cell_type": "code",
   "execution_count": 16,
   "id": "55e8ac85",
   "metadata": {},
   "outputs": [
    {
     "data": {
      "text/plain": [
       "99"
      ]
     },
     "execution_count": 16,
     "metadata": {},
     "output_type": "execute_result"
    }
   ],
   "source": [
    "episodes[-1]"
   ]
  },
  {
   "cell_type": "code",
   "execution_count": 17,
   "id": "2423ab5a",
   "metadata": {},
   "outputs": [
    {
     "data": {
      "image/png": "[encoded data removed]",
      "text/plain": [
       "<Figure size 432x288 with 1 Axes>"
      ]
     },
     "metadata": {
      "needs_background": "light"
     },
     "output_type": "display_data"
    }
   ],
   "source": [
    "plt.plot(episodes, services_accepted, '+', label='Agent')\n",
    "plt.xlim([0,episodes[-1]+1])\n",
    "# plt.x_ticklabels(['0', '200', '400', '600', '800', '1000'])\n",
    "plt.xlabel(\"Episodes\")\n",
    "plt.ylabel(\"Services accepted\")\n",
    "#plt.plot(sim_time, ca_mu_result_reward, 'r', label ='CA-MU')\n",
    "# plt.legend()\n",
    "plt.savefig('figures/learning_curve'+exp_id+'.jpeg', dpi=300,bbox_inches='tight')\n",
    "plt.show()"
   ]
  },
  {
   "cell_type": "code",
   "execution_count": null,
   "id": "5ed54cbe",
   "metadata": {},
   "outputs": [],
   "source": [
    "plt.plot(episodes, sim_time, '+', label='Agent')\n",
    "plt.xlim([0,episodes[-1]])\n",
    "plt.xlabel(\"Episodes\")\n",
    "plt.ylabel(\"Simulation time\")\n",
    "plt.legend()\n",
    "#plt.savefig('figures/rl_agent_vs_ca_mu_reward_'+plot_name+'.jpeg', dpi=300,bbox_inches='tight')\n",
    "plt.show()"
   ]
  },
  {
   "cell_type": "markdown",
   "id": "c94a1344",
   "metadata": {},
   "source": [
    "Optuna Results"
   ]
  },
  {
   "cell_type": "code",
   "execution_count": null,
   "id": "eca2c746",
   "metadata": {},
   "outputs": [],
   "source": [
    "study_name = 'studyhypv2112frGam'\n",
    "with open('/Users/joshnevin/RL_FOCSLab/optuna_results/'+study_name+'.pkl', 'rb') as f:\n",
    "    study = pickle.load(f)"
   ]
  },
  {
   "cell_type": "code",
   "execution_count": null,
   "id": "ffd55b21",
   "metadata": {},
   "outputs": [],
   "source": [
    "study.best_trial.params"
   ]
  },
  {
   "cell_type": "code",
   "execution_count": null,
   "id": "691e8dee",
   "metadata": {},
   "outputs": [],
   "source": [
    "0.0004404/1e-4"
   ]
  },
  {
   "cell_type": "code",
   "execution_count": null,
   "id": "61b6ef8f",
   "metadata": {},
   "outputs": [],
   "source": [
    "obs = env.reset()"
   ]
  },
  {
   "cell_type": "code",
   "execution_count": null,
   "id": "ff9967f3",
   "metadata": {},
   "outputs": [],
   "source": [
    "def speed_testing():\n",
    "    total_time = 0\n",
    "    obs = env.reset()\n",
    "    done = False\n",
    "    total_reward = []\n",
    "    while not done:\n",
    "        start = time.time()\n",
    "        action, _states = model.predict(obs, deterministic=True)\n",
    "        end = time.time()\n",
    "        total_time += end-start\n",
    "        obs, rewards, done, info = env.step(action)\n",
    "        total_reward.append(rewards)\n",
    "    return total_time, sum(total_reward)"
   ]
  },
  {
   "cell_type": "code",
   "execution_count": null,
   "id": "4fa561dc",
   "metadata": {},
   "outputs": [],
   "source": [
    "total_time, total_reward = speed_testing()"
   ]
  },
  {
   "cell_type": "code",
   "execution_count": null,
   "id": "38a2dc3a",
   "metadata": {},
   "outputs": [],
   "source": [
    "total_time"
   ]
  },
  {
   "cell_type": "code",
   "execution_count": null,
   "id": "c647373d",
   "metadata": {},
   "outputs": [],
   "source": [
    "total_reward"
   ]
  },
  {
   "cell_type": "code",
   "execution_count": null,
   "id": "8679ef43",
   "metadata": {},
   "outputs": [],
   "source": [
    "cProfile.run('speed_testing()')"
   ]
  },
  {
   "cell_type": "code",
   "execution_count": null,
   "id": "64b6d2e4",
   "metadata": {},
   "outputs": [],
   "source": [
    "total_reward"
   ]
  },
  {
   "cell_type": "code",
   "execution_count": null,
   "id": "1e9915bf",
   "metadata": {},
   "outputs": [],
   "source": [
    "plt.plot(total_reward, '+')\n",
    "plt.show()"
   ]
  },
  {
   "cell_type": "code",
   "execution_count": null,
   "id": "0e791540",
   "metadata": {},
   "outputs": [],
   "source": [
    "action"
   ]
  },
  {
   "cell_type": "code",
   "execution_count": null,
   "id": "c90e0c2e",
   "metadata": {},
   "outputs": [],
   "source": [
    "start = time.time()\n",
    "env.observation()\n",
    "end = time.time()\n",
    "end - start"
   ]
  },
  {
   "cell_type": "code",
   "execution_count": null,
   "id": "fa5c4e61",
   "metadata": {},
   "outputs": [],
   "source": [
    "env.service.source"
   ]
  },
  {
   "cell_type": "code",
   "execution_count": null,
   "id": "afc1cf2c",
   "metadata": {},
   "outputs": [],
   "source": [
    "env.service.destination"
   ]
  },
  {
   "cell_type": "code",
   "execution_count": null,
   "id": "7e4eba0c",
   "metadata": {},
   "outputs": [],
   "source": [
    "env.lightpath_service_allocation"
   ]
  },
  {
   "cell_type": "code",
   "execution_count": null,
   "id": "c45cd54d",
   "metadata": {},
   "outputs": [],
   "source": [
    "cProfile.run('env.step(np.array([0,0]))')"
   ]
  },
  {
   "cell_type": "code",
   "execution_count": null,
   "id": "758d5b19",
   "metadata": {},
   "outputs": [],
   "source": [
    "optimal_params_file = \"2022-01-04exp_num.pkl\"\n",
    "model_params = pickle.load(open(\"./tmp/RWAFOCS-ppo/best_params/\"+optimal_params_file, 'rb'))"
   ]
  },
  {
   "cell_type": "code",
   "execution_count": null,
   "id": "81fef74a",
   "metadata": {},
   "outputs": [],
   "source": [
    "pwd"
   ]
  },
  {
   "cell_type": "code",
   "execution_count": null,
   "id": "edbf9182",
   "metadata": {},
   "outputs": [],
   "source": []
  }
 ],
 "metadata": {
  "kernelspec": {
   "display_name": "Python 3 (ipykernel)",
   "language": "python",
   "name": "python3"
  },
  "language_info": {
   "codemirror_mode": {
    "name": "ipython",
    "version": 3
   },
   "file_extension": ".py",
   "mimetype": "text/x-python",
   "name": "python",
   "nbconvert_exporter": "python",
   "pygments_lexer": "ipython3",
   "version": "3.7.12"
  }
 },
 "nbformat": 4,
 "nbformat_minor": 5
}
