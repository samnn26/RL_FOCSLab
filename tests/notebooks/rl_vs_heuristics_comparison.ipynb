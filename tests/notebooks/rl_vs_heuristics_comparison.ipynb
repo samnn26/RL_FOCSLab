{
 "cells": [
  {
   "cell_type": "code",
   "execution_count": 1,
   "id": "3731ce5d",
   "metadata": {},
   "outputs": [],
   "source": [
    "import os\n",
    "import pickle\n",
    "import numpy as np\n",
    "from IPython.display import clear_output\n",
    "import matplotlib\n",
    "import matplotlib.pyplot as plt\n",
    "#import config InlineBackend.figure_format = 'svg'\n",
    "import tensorflow as tf\n",
    "# silencing tensorflow warnings\n",
    "import logging\n",
    "logging.getLogger('tensorflow').setLevel(logging.FATAL)\n",
    "from datetime import datetime\n",
    "tf.__version__ # printint out tensorflow version used\n",
    "import stable_baselines3\n",
    "import sb3_contrib\n",
    "from stable_baselines3.common.callbacks import BaseCallback\n",
    "# from stable_baselines3.results_plotter import load_results, ts2xy\n",
    "from stable_baselines3.common.results_plotter import load_results, ts2xy\n",
    "import optuna\n",
    "# from stable_baselines3.bench import Monitor\n",
    "from stable_baselines3.common.monitor import Monitor\n",
    "#from stable_baselines3.common.policies import MlpPolicy\n",
    "from stable_baselines3.common import results_plotter\n",
    "from sb3_contrib.common.maskable.evaluation import evaluate_policy\n",
    "from sb3_contrib import MaskablePPO\n",
    "from stable_baselines3.common.vec_env import DummyVecEnv\n",
    "#stable_baselines.__version__ # printing out stable_baselines version used\n",
    "import gym\n",
    "import pickle\n",
    "import cProfile \n",
    "import pandas as pd\n",
    "import ast\n",
    "font = { 'family' : 'sans-serif',\n",
    "                'weight' : 'normal',\n",
    "                'size'   : 11}\n",
    "matplotlib.rc('font', **font)"
   ]
  },
  {
   "cell_type": "code",
   "execution_count": 331,
   "id": "08d1e420",
   "metadata": {},
   "outputs": [],
   "source": [
    "current_directory = os.getcwd()\n",
    "\n",
    "# exp_id = \"2022-02-23v45nsfnotfbR3\"  # best results so far\n",
    "exp_id = \"2022-02-25v45nsfnotfbk3R2\"\n",
    "eval_name = \"_no_tfb\"\n",
    "# eval_name = \"_tfb_2500\"\n",
    "# eval_name = \"\"\n",
    "eval_dir = \"/Users/joshnevin/RL_FOCSLab/tmp/RWAFOCS-ppo/\"+exp_id+\"/_core_0/eval_results\"+eval_name\n",
    "# eval_dir_h = \"/Users/joshnevin/RL_FOCSLab/tmp/RWAFOCS-ppo/\"+\"2022-02-23v42nsftfb\"+\"/_core_0/eval_results\"+\"_tfb\"\n",
    "# eval_dir_h = \"/Users/joshnevin/RL_FOCSLab/tmp/RWAFOCS-ppo/\"+\"2022-02-23v42nsftfbR3\"+\"/_core_0/eval_results\"+\"_no_tfb\"\n",
    "# eval_dir_h = \"/Users/joshnevin/RL_FOCSLab/tmp/RWAFOCS-ppo/\"+\"2022-02-24nsfnotfbuniheuristics_eval/eval_results_no_tfb\"\n",
    "# eval_dir_h = \"/Users/joshnevin/RL_FOCSLab/tmp/RWAFOCS-ppo/\"+\"2022-02-24nsfunik3heuristics_eval/eval_results_no_tfb\"\n",
    "eval_dir_h = \"/Users/joshnevin/RL_FOCSLab/tmp/RWAFOCS-ppo/\"+\"2022-02-24nsfgravityk3heuristics_eval/eval_results_no_tfb\"\n",
    "# eval_dir_h = \"/Users/joshnevin/RL_FOCSLab/tmp/RWAFOCS-ppo/\"+\"2022-02-24dtagnotfbuniheuristics_eval/eval_results_no_tfb\"\n",
    "# eval_dir_h = \"/Users/joshnevin/RL_FOCSLab/tmp/RWAFOCS-ppo/\"+\"2022-02-24dtagunik3heuristics_eval/eval_results_no_tfb\"\n",
    "# eval_dir_h = \"/Users/joshnevin/RL_FOCSLab/tmp/RWAFOCS-ppo/\"+\"2022-03-01dtaguni200Gheuristics_eval/eval_results_no_tfb\"\n",
    "# eval_dir_h = \"/Users/joshnevin/RL_FOCSLab/tmp/RWAFOCS-ppo/\"+\"2022-03-01dtaguni200Gk3heuristics_eval/eval_results_no_tfb\"\n",
    "# eval_dir_h = \"/Users/joshnevin/RL_FOCSLab/tmp/RWAFOCS-ppo/\"+\"2022-03-01nsfuni200Gk3heuristics_eval/eval_results_no_tfb\""
   ]
  },
  {
   "cell_type": "code",
   "execution_count": 332,
   "id": "244e7857",
   "metadata": {},
   "outputs": [],
   "source": [
    "def get_info(eval_dir, model):\n",
    "    df = pd.read_csv(eval_dir+\"/evaluation_\"+model+\".monitor.csv\", skiprows=1)\n",
    "    eval_eps = df.index.values\n",
    "    rewards = df['r'].to_numpy()\n",
    "    sim_time = df['t'].to_numpy()\n",
    "    services_accepted_ep = df['episode_services_accepted'].to_numpy()\n",
    "    services_processed_ep = df['episode_services_processed'].to_numpy()\n",
    "    services_accepted = df['services_accepted'].to_numpy()\n",
    "    services_processed = df['services_processed'].to_numpy()\n",
    "    throughput = df['throughput']/1e12\n",
    "#     service_dist = df['service_distribution']\n",
    "#     service_dist = service_dist[0]\n",
    "#     service_dist = ast.literal_eval(service_dist)\n",
    "#     service_dist = np.array(service_dist).reshape(22,100)  # NOTE! HAVE HARD CODED NUMBER OF EDGES AND CHANNELS!\n",
    "    #cum_services_accepted_ep = df['episode_cum_services_accepted']\n",
    "    return rewards, eval_eps, sim_time, services_accepted_ep, services_processed_ep, services_accepted, services_processed, throughput\n",
    "def get_cum_results(eval_dir, model):\n",
    "    df = pd.read_csv(eval_dir+\"/evaluation_\"+model+\".monitor.csv\", skiprows=1)\n",
    "    cum_services_accepted = df['episode_cum_services_accepted'].to_numpy()\n",
    "    cum_services_processed = df['episode_cum_services_processed'].to_numpy()\n",
    "    return cum_services_accepted, cum_services_processed"
   ]
  },
  {
   "cell_type": "code",
   "execution_count": 333,
   "id": "f04575da",
   "metadata": {},
   "outputs": [],
   "source": [
    "# tfb_test = pickle.load(open(eval_dir+\"/tfb_test.pkl\",'rb'))\n",
    "# tfb_test"
   ]
  },
  {
   "cell_type": "code",
   "execution_count": 334,
   "id": "0e2b948e",
   "metadata": {},
   "outputs": [],
   "source": [
    "rewards_rl, eval_eps_rl, sim_time_rl, services_accepted_ep_rl, services_processed_ep_rl, services_accepted_rl, services_processed_rl, throughput_rl = get_info(eval_dir, 'rl')\n",
    "rewards_kspff, eval_eps_kspff, sim_time_kspff, services_accepted_ep_kspff, services_processed_ep_kspff, services_accepted_kspff, services_processed_kspff, throughput_kspff = get_info(eval_dir_h, 'kspff')\n",
    "rewards_ffksp, eval_eps_ffksp, sim_time_ffksp, services_accepted_ep_ffksp, services_processed_ep_ffksp, services_accepted_ffksp, services_processed_ffksp, throughput_ffksp = get_info(eval_dir_h, 'ffksp')\n",
    "rewards_camu, eval_eps_camu, sim_time_camu, services_accepted_ep_camu, services_processed_ep_camu, services_accepted_camu, services_processed_camu, throughput_camu = get_info(eval_dir_h, 'camu')\n",
    "rewards_kspmu, eval_eps_kspmu, sim_time_kspmu, services_accepted_ep_kspmu, services_processed_ep_kspmu, services_accepted_kspmu, services_processed_kspmu, throughput_kspmu = get_info(eval_dir_h, 'kspmu')"
   ]
  },
  {
   "cell_type": "code",
   "execution_count": 335,
   "id": "1848cf0b",
   "metadata": {},
   "outputs": [],
   "source": [
    "# service_dist_rl[0]\n",
    "# cum_services_accepted_rl, cum_services_processed_rl = get_cum_results(eval_dir, 'rl')\n",
    "# test = ast.literal_eval(cum_services_accepted_rl[0])\n",
    "# test2 = ast.literal_eval(cum_services_processed_rl[0])"
   ]
  },
  {
   "cell_type": "code",
   "execution_count": 336,
   "id": "789a6873",
   "metadata": {
    "scrolled": false
   },
   "outputs": [
    {
     "name": "stdout",
     "output_type": "stream",
     "text": [
      "Mean: 6338.44\n",
      "Median: 6333.5\n",
      "Std: 57.1559830638928\n"
     ]
    }
   ],
   "source": [
    "print(\"Mean:\",np.mean(services_accepted_ep_rl))\n",
    "print(\"Median:\",np.median(services_accepted_ep_rl))\n",
    "print(\"Std:\",np.std(services_accepted_ep_rl))"
   ]
  },
  {
   "cell_type": "code",
   "execution_count": 337,
   "id": "bfae3c9e",
   "metadata": {},
   "outputs": [
    {
     "name": "stdout",
     "output_type": "stream",
     "text": [
      "RL: 6338.44\n",
      "kSP-FF: 6329.95\n",
      "FF-kSP: 6309.74\n",
      "CA-MU: 6273.51\n",
      "kSP-MU: 6326.7\n"
     ]
    }
   ],
   "source": [
    "print(\"RL:\",np.mean(services_accepted_ep_rl))\n",
    "print(\"kSP-FF:\",np.mean(services_accepted_ep_kspff))\n",
    "print(\"FF-kSP:\",np.mean(services_accepted_ep_ffksp))\n",
    "print(\"CA-MU:\",np.mean(services_accepted_ep_camu))\n",
    "print(\"kSP-MU:\",np.mean(services_accepted_ep_kspmu))"
   ]
  },
  {
   "cell_type": "code",
   "execution_count": 338,
   "id": "59f8adc2",
   "metadata": {},
   "outputs": [
    {
     "name": "stdout",
     "output_type": "stream",
     "text": [
      "RL: 6333.5\n",
      "kSP-FF: 6332.0\n",
      "FF-kSP: 6318.0\n",
      "CA-MU: 6271.5\n",
      "kSP-MU: 6342.0\n"
     ]
    }
   ],
   "source": [
    "print(\"RL:\",np.median(services_accepted_ep_rl))\n",
    "print(\"kSP-FF:\",np.median(services_accepted_ep_kspff))\n",
    "print(\"FF-kSP:\",np.median(services_accepted_ep_ffksp))\n",
    "print(\"CA-MU:\",np.median(services_accepted_ep_camu))\n",
    "print(\"kSP-MU:\",np.median(services_accepted_ep_kspmu))"
   ]
  },
  {
   "cell_type": "code",
   "execution_count": 339,
   "id": "54798c54",
   "metadata": {},
   "outputs": [
    {
     "name": "stdout",
     "output_type": "stream",
     "text": [
      "RL: 57.1559830638928\n",
      "kSP-FF: 54.16998707771676\n",
      "FF-kSP: 62.07328249738369\n",
      "CA-MU: 64.27122139807209\n",
      "kSP-MU: 89.26203000156337\n"
     ]
    }
   ],
   "source": [
    "print(\"RL:\",np.std(services_accepted_ep_rl))\n",
    "print(\"kSP-FF:\",np.std(services_accepted_ep_kspff))\n",
    "print(\"FF-kSP:\",np.std(services_accepted_ep_ffksp))\n",
    "print(\"CA-MU:\",np.std(services_accepted_ep_camu))\n",
    "print(\"kSP-MU:\",np.std(services_accepted_ep_kspmu))"
   ]
  },
  {
   "cell_type": "code",
   "execution_count": 340,
   "id": "d347bae4",
   "metadata": {},
   "outputs": [
    {
     "name": "stdout",
     "output_type": "stream",
     "text": [
      "RL: 2676.88\n",
      "kSP-FF: 2659.9\n",
      "FF-kSP: 2619.48\n",
      "CA-MU: 2547.02\n",
      "kSP-MU: 2653.4\n"
     ]
    }
   ],
   "source": [
    "print(\"RL:\",np.mean(rewards_rl))\n",
    "print(\"kSP-FF:\",np.mean(rewards_kspff))\n",
    "print(\"FF-kSP:\",np.mean(rewards_ffksp))\n",
    "print(\"CA-MU:\",np.mean(rewards_camu))\n",
    "print(\"kSP-MU:\",np.mean(rewards_kspmu))"
   ]
  },
  {
   "cell_type": "code",
   "execution_count": 316,
   "id": "f84179a2",
   "metadata": {},
   "outputs": [
    {
     "data": {
      "text/plain": [
       "-200.66999999999916"
      ]
     },
     "execution_count": 316,
     "metadata": {},
     "output_type": "execute_result"
    }
   ],
   "source": [
    "np.mean(services_accepted_ep_rl) - np.mean(services_accepted_ffksp)"
   ]
  },
  {
   "cell_type": "code",
   "execution_count": 341,
   "id": "de437192",
   "metadata": {},
   "outputs": [
    {
     "data": {
      "image/png": "[encoded data removed]",
      "text/plain": [
       "<Figure size 432x288 with 1 Axes>"
      ]
     },
     "metadata": {},
     "output_type": "display_data"
    }
   ],
   "source": [
    "f, ax = plt.subplots()\n",
    "dict_plt = {'kSP-FF':services_accepted_ep_kspff,'kSP-MU':services_accepted_ep_kspmu,'FF-kSP':services_accepted_ep_ffksp, 'RL':services_accepted_ep_rl}\n",
    "#dict_plt = {'FF-kSP':services_accepted_ep_ffksp, 'RL':services_accepted_ep_rl}\n",
    "plt.boxplot(dict_plt.values(),showfliers=False,showmeans=True)\n",
    "ax.set_xticklabels(dict_plt.keys())\n",
    "plt.ylabel(\"Services accepted\")\n",
    "# ax.set_aspect(1.0/ax.get_data_ratio(), adjustable='box')\n",
    "f.patch.set_facecolor('w')\n",
    "# plt.ylim([2285, 2305])\n",
    "plt.grid()\n",
    "plt.savefig('figures/'+exp_id+eval_name+'boxplot.jpeg', dpi=300,bbox_inches='tight')\n",
    "plt.show()"
   ]
  },
  {
   "cell_type": "markdown",
   "id": "350b6b89",
   "metadata": {},
   "source": [
    "Plotting for multiple RL agents:"
   ]
  },
  {
   "cell_type": "code",
   "execution_count": null,
   "id": "9ea86445",
   "metadata": {},
   "outputs": [],
   "source": [
    "# exp_id_1 = \"2022-02-03v42frR3\"  # old top best res\n",
    "# exp_id_2 = \"2022-02-04v2112frR3cont\" # old top with v2112 bug best res\n",
    "\n",
    "# exp_id_1 = \"2022-02-08v42frfixedrdR2\"  # best res with rounded NSFNET and v2112 fixed tfb = false training\n",
    "# exp_id_2 = \"2022-02-09v2112frfixedrdcont\"\n",
    "\n",
    "# exp_id_4 = \"2022-02-09v2112tfbnsf\"\n",
    "\n",
    "\n",
    "exp_id_1 = \"2022-02-09v42tfbnsfR2\"  # best res with rounded NSFNET and v2112 fixed tfb = True training\n",
    "exp_id_h = \"2022-02-08v42frfixedrd\"  # NSFNET\n",
    "\n",
    "# exp_id_1 = \"2022-02-09v42frfixeddtagcont\"  # best res with DTAG and v2112 fixed tfb = false training\n",
    "# exp_id_2 = \"2022-02-08v2112frfixeddtagR2\"\n",
    "# # exp_id_2 = \"2022-02-09v2112tfbdtagR3\"\n",
    "\n",
    "\n",
    "# exp_id_1 = \"2022-02-09v42tfbdtagR3\"  # best res with DTAG and v2112 fixed tfb = True training\n",
    "# exp_id_h = \"2022-02-08v42frfixeddtagR3\" # DTAG\n",
    "\n",
    "# exp_id_3 = \"2022-02-09v42frfixeddtagcont\"  # best res with DTAG and v2112 fixed tfb = false training\n",
    "# exp_id_4 = \"2022-02-08v2112frfixeddtagR2\"\n",
    "\n",
    "eval_name_plot = \"_tfb_2500\"\n",
    "eval_dir_1 = \"/Users/joshnevin/RL_FOCSLab/tmp/RWAFOCS-ppo/\"+exp_id_1+\"/_core_0/eval_results\"+eval_name_plot\n",
    "# eval_dir_2 = \"/Users/joshnevin/RL_FOCSLab/tmp/RWAFOCS-ppo/\"+exp_id_2+\"/_core_0/eval_results\"+eval_name_plot\n",
    "# eval_dir_3 = \"/Users/joshnevin/RL_FOCSLab/tmp/RWAFOCS-ppo/\"+exp_id_3+\"/_core_0/eval_results\"+eval_name_plot\n",
    "# eval_dir_4 = \"/Users/joshnevin/RL_FOCSLab/tmp/RWAFOCS-ppo/\"+exp_id_4+\"/_core_0/eval_results\"+eval_name_plot\n",
    "eval_dir_h = \"/Users/joshnevin/RL_FOCSLab/tmp/RWAFOCS-ppo/\"+exp_id_h+\"/_core_0/eval_results\"+eval_name_plot"
   ]
  },
  {
   "cell_type": "code",
   "execution_count": null,
   "id": "41831db7",
   "metadata": {},
   "outputs": [],
   "source": [
    "rewards_rl_1, eval_eps_rl_1, sim_time_rl_1, services_accepted_ep_rl_1, services_processed_ep_rl_1, services_accepted_rl_1, services_processed_rl_1, throughput_rl_1 = get_info(eval_dir_1, 'rl')\n",
    "# rewards_rl_2, eval_eps_rl_2, sim_time_rl_2, services_accepted_ep_rl_2, services_processed_ep_rl_2, services_accepted_rl_2, services_processed_rl_2, throughput_rl_2 = get_info(eval_dir_2, 'rl')\n",
    "# rewards_rl_3, eval_eps_rl_3, sim_time_rl_3, services_accepted_ep_rl_3, services_processed_ep_rl_3, services_accepted_rl_3, services_processed_rl_3, throughput_rl_3 = get_info(eval_dir_3, 'rl')\n",
    "# rewards_rl_4, eval_eps_rl_4, sim_time_rl_4, services_accepted_ep_rl_4, services_processed_ep_rl_4, services_accepted_rl_4, services_processed_rl_4, throughput_rl_4 = get_info(eval_dir_4, 'rl')\n",
    "\n",
    "# rewards_rl_3, eval_eps_rl_3, sim_time_rl_3, services_accepted_ep_rl_3, services_processed_ep_rl_3, services_accepted_rl_3, services_processed_rl_3, throughput_rl_3 = get_info(eval_dir_3, 'rl')\n",
    "rewards_kspff, eval_eps_kspff, sim_time_kspff, services_accepted_ep_kspff, services_processed_ep_kspff, services_accepted_kspff, services_processed_kspff, throughput_kspff = get_info(eval_dir_h, 'kspff')\n",
    "rewards_ffksp, eval_eps_ffksp, sim_time_ffksp, services_accepted_ep_ffksp, services_processed_ep_ffksp, services_accepted_ffksp, services_processed_ffksp, throughput_ffksp = get_info(eval_dir_h, 'ffksp')\n",
    "rewards_camu, eval_eps_camu, sim_time_camu, services_accepted_ep_camu, services_processed_ep_camu, services_accepted_camu, services_processed_camu, throughput_camu = get_info(eval_dir_h, 'camu')\n",
    "rewards_kspmu, eval_eps_kspmu, sim_time_kspmu, services_accepted_ep_kspmu, services_processed_ep_kspmu, services_accepted_kspmu, services_processed_kspmu, throughput_kspmu = get_info(eval_dir_h, 'kspmu')"
   ]
  },
  {
   "cell_type": "code",
   "execution_count": null,
   "id": "e0e184be",
   "metadata": {},
   "outputs": [],
   "source": [
    "topology = 'nsfnet'\n",
    "f, ax = plt.subplots()\n",
    "bp = dict_plt = {'kSP-FF':services_accepted_ep_kspff,'kSP-MU':services_accepted_ep_kspmu,'FF-kSP':services_accepted_ep_ffksp,\n",
    "            'RL':services_accepted_ep_rl_1}\n",
    "bp = plt.boxplot(dict_plt.values(),showfliers=False,showmeans=True)\n",
    "ax.set_xticklabels(dict_plt.keys())\n",
    "plt.ylabel(\"Services accepted\")\n",
    "# ax.set_aspect(1.0/ax.get_data_ratio(), adjustable='box')\n",
    "f.patch.set_facecolor('w')\n",
    "# plt.legend([bp[\"boxes\"][0]], ['A'], loc='upper right')\n",
    "plt.grid()\n",
    "#plt.savefig('figures/servicesaccepted_bestresults'+topology+eval_name_plot+'modelA.png', dpi=500,bbox_inches='tight')\n",
    "plt.show()"
   ]
  },
  {
   "cell_type": "code",
   "execution_count": null,
   "id": "a1c83001",
   "metadata": {},
   "outputs": [],
   "source": [
    "topology = 'dtag'\n",
    "f, ax = plt.subplots()\n",
    "bp = dict_plt = {'kSP-FF':services_accepted_ep_kspff,'kSP-MU':services_accepted_ep_kspmu,'FF-kSP':services_accepted_ep_ffksp,\n",
    "            'RL':services_accepted_ep_rl_1, 'RL-TFB':services_accepted_ep_rl_2}\n",
    "bp = plt.boxplot(dict_plt.values(),showfliers=False,showmeans=True)\n",
    "ax.set_xticklabels(dict_plt.keys())\n",
    "plt.ylabel(\"Services accepted\")\n",
    "# ax.set_aspect(1.0/ax.get_data_ratio(), adjustable='box')\n",
    "f.patch.set_facecolor('w')\n",
    "# plt.legend([bp[\"boxes\"][0]], ['A'], loc='upper right')\n",
    "plt.grid()\n",
    "plt.savefig('figures/servicesaccepted_bestresults'+topology+eval_name_plot+'besttraintypes.png', dpi=500,bbox_inches='tight')\n",
    "plt.show()"
   ]
  },
  {
   "cell_type": "code",
   "execution_count": null,
   "id": "64c0e05f",
   "metadata": {},
   "outputs": [],
   "source": [
    "topology = 'dtag'\n",
    "f, ax = plt.subplots()\n",
    "bp = dict_plt = {'kSP-FF':services_accepted_ep_kspff,'kSP-MU':services_accepted_ep_kspmu,'FF-kSP':services_accepted_ep_ffksp,\n",
    "            'A':services_accepted_ep_rl_1, 'B':services_accepted_ep_rl_2,\n",
    "                'A TFB':services_accepted_ep_rl_3, 'B TFB':services_accepted_ep_rl_4}\n",
    "bp = plt.boxplot(dict_plt.values(),showfliers=False,showmeans=True)\n",
    "ax.set_xticklabels(dict_plt.keys())\n",
    "plt.ylabel(\"Services accepted\")\n",
    "# ax.set_aspect(1.0/ax.get_data_ratio(), adjustable='box')\n",
    "f.patch.set_facecolor('w')\n",
    "# plt.legend([bp[\"boxes\"][0]], ['A'], loc='upper right')\n",
    "plt.grid()\n",
    "#plt.savefig('figures/servicesaccepted_bestresults'+topology+eval_name+'bothtraintypes.png', dpi=500,bbox_inches='tight')\n",
    "plt.show()"
   ]
  },
  {
   "cell_type": "code",
   "execution_count": null,
   "id": "23106bf5",
   "metadata": {},
   "outputs": [],
   "source": [
    "medians = [item.get_ydata()[0] for item in bp['medians']]\n",
    "means = [item.get_ydata()[0] for item in bp['means']]\n",
    "print(f'Medians: {medians}\\n'\n",
    "      f'Means:   {means}')"
   ]
  },
  {
   "cell_type": "code",
   "execution_count": null,
   "id": "f6b5bcd1",
   "metadata": {},
   "outputs": [],
   "source": [
    "minimums = [round(item.get_ydata()[0], 1) for item in bp['caps']][::2]\n",
    "maximums = [round(item.get_ydata()[0], 1) for item in bp['caps']][1::2]\n",
    "print(f'Minimums: {minimums}\\n'\n",
    "      f'Maximums: {maximums}')"
   ]
  },
  {
   "cell_type": "code",
   "execution_count": null,
   "id": "fa1d3aba",
   "metadata": {},
   "outputs": [],
   "source": [
    "q1 = [round(min(item.get_ydata()), 1) for item in bp['boxes']]\n",
    "q3 = [round(max(item.get_ydata()), 1) for item in bp['boxes']]\n",
    "# print(f'Q1: {q1}\\n'\n",
    "#       f'Q3: {q3}')\n",
    "IQR = [q3[i] - q1[i] for i in range(len(q1))]\n",
    "print(IQR)"
   ]
  },
  {
   "cell_type": "code",
   "execution_count": null,
   "id": "1b4390e9",
   "metadata": {},
   "outputs": [],
   "source": [
    "print(\"RL A:\",np.std(services_accepted_ep_rl_1))\n",
    "print(\"RL B:\",np.std(services_accepted_ep_rl_2))\n",
    "print(\"RL A TFB:\",np.std(services_accepted_ep_rl_3))\n",
    "print(\"RL B TFB:\",np.std(services_accepted_ep_rl_4))"
   ]
  },
  {
   "cell_type": "code",
   "execution_count": null,
   "id": "f986ceb1",
   "metadata": {},
   "outputs": [],
   "source": [
    "print(\"kSP-FF:\",np.std(services_accepted_ep_kspff))\n",
    "print(\"FF-kSP:\",np.std(services_accepted_ep_ffksp))\n",
    "print(\"CA-MU:\",np.std(services_accepted_ep_camu))\n",
    "print(\"kSP-MU:\",np.std(services_accepted_ep_kspmu))"
   ]
  },
  {
   "cell_type": "code",
   "execution_count": null,
   "id": "af0be1d2",
   "metadata": {},
   "outputs": [],
   "source": [
    "print(\"RL:\",np.mean(services_accepted_ep_rl) + np.std(services_accepted_ep_rl))\n",
    "print(\"kSP-FF:\",np.mean(services_accepted_ep_kspff) +np.std(services_accepted_ep_kspff))\n",
    "print(\"FF-kSP:\",np.mean(services_accepted_ep_ffksp) +np.std(services_accepted_ep_ffksp))\n",
    "print(\"CA-MU:\",np.mean(services_accepted_ep_camu) +np.std(services_accepted_ep_camu))\n",
    "print(\"kSP-MU:\",np.mean(services_accepted_ep_kspmu) +np.std(services_accepted_ep_kspmu))"
   ]
  },
  {
   "cell_type": "code",
   "execution_count": null,
   "id": "a4315ba4",
   "metadata": {},
   "outputs": [],
   "source": [
    "100*(2159-2151)/2159"
   ]
  },
  {
   "cell_type": "code",
   "execution_count": null,
   "id": "1331c28c",
   "metadata": {},
   "outputs": [],
   "source": [
    "100*(2156-2151)/2156"
   ]
  },
  {
   "cell_type": "code",
   "execution_count": null,
   "id": "0d11c768",
   "metadata": {},
   "outputs": [],
   "source": [
    "((341-21)/2156)*100"
   ]
  },
  {
   "cell_type": "code",
   "execution_count": null,
   "id": "a254acb9",
   "metadata": {},
   "outputs": [],
   "source": [
    "((2158-2099)/2099)*100"
   ]
  },
  {
   "cell_type": "code",
   "execution_count": null,
   "id": "d23c9e52",
   "metadata": {},
   "outputs": [],
   "source": [
    "((2151-2092)*25)/1000"
   ]
  },
  {
   "cell_type": "code",
   "execution_count": null,
   "id": "474906b7",
   "metadata": {},
   "outputs": [],
   "source": [
    "2151-2099"
   ]
  },
  {
   "cell_type": "code",
   "execution_count": null,
   "id": "1056ad98",
   "metadata": {},
   "outputs": [],
   "source": [
    "((2151-2099)*25)/1000"
   ]
  },
  {
   "cell_type": "code",
   "execution_count": null,
   "id": "6ce34e20",
   "metadata": {},
   "outputs": [],
   "source": [
    "((3416-3256)*25)/1000"
   ]
  },
  {
   "cell_type": "code",
   "execution_count": null,
   "id": "3d83e502",
   "metadata": {},
   "outputs": [],
   "source": [
    "((3416-3256)/3256)*100"
   ]
  },
  {
   "cell_type": "code",
   "execution_count": null,
   "id": "062957c2",
   "metadata": {},
   "outputs": [],
   "source": [
    "3416-3256"
   ]
  },
  {
   "cell_type": "code",
   "execution_count": null,
   "id": "43035a22",
   "metadata": {},
   "outputs": [],
   "source": [
    "((2158-2156)/2156)*100"
   ]
  },
  {
   "cell_type": "code",
   "execution_count": null,
   "id": "2db54a74",
   "metadata": {},
   "outputs": [],
   "source": [
    "y_max = 25\n",
    "f, ax = plt.subplots()\n",
    "plt.hist(services_accepted_ep_kspff, label='kSP-FF')\n",
    "plt.hist(services_accepted_ep_camu, label='CA-MU')\n",
    "plt.hist(services_accepted_ep_kspmu, label='kSP-MU')\n",
    "plt.hist(services_accepted_ep_ffksp, label='FF-kSP')\n",
    "plt.hist(services_accepted_ep_rl, label='RL')\n",
    "plt.vlines(np.mean(services_accepted_ep_rl), 0, y_max, color='k',linestyles='--', label='RL mean')\n",
    "plt.vlines(np.mean(services_accepted_ep_ffksp), 0, y_max, color='k',linestyles='-.', label='FF-kSP mean')\n",
    "plt.xlabel(\"Services accepted\")\n",
    "plt.ylabel(\"Frequency density\")\n",
    "plt.ylim([0,y_max])\n",
    "plt.grid()\n",
    "ax.set_aspect(1.0/ax.get_data_ratio(), adjustable='box')\n",
    "f.patch.set_facecolor('w')\n",
    "plt.legend(ncol = 2,loc='upper center', prop = {'size':10})\n",
    "# plt.savefig('figures/servicesacceptedv2111f25Gbid.jpeg', dpi=300,bbox_inches='tight')\n",
    "plt.show()"
   ]
  },
  {
   "cell_type": "code",
   "execution_count": null,
   "id": "cf598eae",
   "metadata": {},
   "outputs": [],
   "source": [
    "plt.plot(eval_eps_kspff, throughput_kspff, '+', label='kSP-FF')\n",
    "plt.plot(eval_eps_ffksp, throughput_ffksp, '+', label='FF-kSP')\n",
    "plt.plot(eval_eps_camu, throughput_camu, '+', label='CA-MU')\n",
    "plt.plot(eval_eps_kspmu, throughput_kspmu, '+', label='kSP-MU')\n",
    "plt.plot(eval_eps_rl, throughput_rl, '+', label='RL')\n",
    "plt.xlabel(\"Evaluation episodes\")\n",
    "plt.ylabel(\"Throughput\")\n",
    "plt.legend()\n",
    "plt.show()"
   ]
  },
  {
   "cell_type": "code",
   "execution_count": null,
   "id": "81c135cb",
   "metadata": {},
   "outputs": [],
   "source": [
    "plt.plot(eval_eps_kspff, services_accepted_ep_kspff, 'rx', label='kSP-FF')\n",
    "# plt.plot(eval_eps_ffksp, services_accepted_ep_ffksp, 'rP', label='FF-kSP')\n",
    "# plt.plot(eval_eps_camu, services_accepted_ep_camu, 'k.', label='CA-MU')\n",
    "# plt.plot(eval_eps_kspmu, services_accepted_ep_kspmu, 'm*', label='kSP-MU')\n",
    "plt.plot(eval_eps_rl, services_accepted_ep_rl, 'b-', label='RL')\n",
    "plt.xlabel(\"Evaluation episodes\")\n",
    "plt.ylabel(\"Services accepted\")\n",
    "plt.legend()\n",
    "plt.show()"
   ]
  },
  {
   "cell_type": "markdown",
   "id": "7f91e38d",
   "metadata": {},
   "source": [
    "Timing results"
   ]
  },
  {
   "cell_type": "code",
   "execution_count": null,
   "id": "3edeeed0",
   "metadata": {},
   "outputs": [],
   "source": [
    "rl_time = pickle.load(open(\"/Users/joshnevin/RL_FOCSLab/eval_timing/\"+exp_id+\"_RL.pkl\", 'rb'))\n",
    "kspff_time = pickle.load(open(\"/Users/joshnevin/RL_FOCSLab/eval_timing/\"+exp_id+\"_kspff.pkl\", 'rb'))\n",
    "ffksp_time = pickle.load(open(\"/Users/joshnevin/RL_FOCSLab/eval_timing/\"+exp_id+\"_ffksp.pkl\", 'rb'))\n",
    "camu_time = pickle.load(open(\"/Users/joshnevin/RL_FOCSLab/eval_timing/\"+exp_id+\"_camu.pkl\", 'rb'))\n",
    "kspmu_time = pickle.load(open(\"/Users/joshnevin/RL_FOCSLab/eval_timing/\"+exp_id+\"_kspmu.pkl\", 'rb'))"
   ]
  },
  {
   "cell_type": "code",
   "execution_count": null,
   "id": "7cd60d25",
   "metadata": {},
   "outputs": [],
   "source": [
    "print(rl_time)\n",
    "print(kspff_time)\n",
    "print(ffksp_time)\n",
    "print(camu_time)\n",
    "print(kspmu_time)"
   ]
  },
  {
   "cell_type": "code",
   "execution_count": null,
   "id": "9841b643",
   "metadata": {},
   "outputs": [],
   "source": []
  }
 ],
 "metadata": {
  "kernelspec": {
   "display_name": "Python 3 (ipykernel)",
   "language": "python",
   "name": "python3"
  },
  "language_info": {
   "codemirror_mode": {
    "name": "ipython",
    "version": 3
   },
   "file_extension": ".py",
   "mimetype": "text/x-python",
   "name": "python",
   "nbconvert_exporter": "python",
   "pygments_lexer": "ipython3",
   "version": "3.7.12"
  }
 },
 "nbformat": 4,
 "nbformat_minor": 5
}
