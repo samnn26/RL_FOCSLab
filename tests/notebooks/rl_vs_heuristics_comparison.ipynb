{
 "cells": [
  {
   "cell_type": "code",
   "execution_count": 2,
   "id": "3731ce5d",
   "metadata": {},
   "outputs": [],
   "source": [
    "import os\n",
    "import pickle\n",
    "import numpy as np\n",
    "from scipy.special import kl_div\n",
    "from scipy.stats import pearsonr\n",
    "from IPython.display import clear_output\n",
    "import matplotlib\n",
    "import matplotlib.pyplot as plt\n",
    "#import config InlineBackend.figure_format = 'svg'\n",
    "# import tensorflow as tf\n",
    "# # silencing tensorflow warnings\n",
    "# import logging\n",
    "# logging.getLogger('tensorflow').setLevel(logging.FATAL)\n",
    "from datetime import datetime\n",
    "# tf.__version__ # printint out tensorflow version used\n",
    "import stable_baselines3\n",
    "import sb3_contrib\n",
    "from stable_baselines3.common.callbacks import BaseCallback\n",
    "# from stable_baselines3.results_plotter import load_results, ts2xy\n",
    "from stable_baselines3.common.results_plotter import load_results, ts2xy\n",
    "import optuna\n",
    "# from stable_baselines3.bench import Monitor\n",
    "from stable_baselines3.common.monitor import Monitor\n",
    "#from stable_baselines3.common.policies import MlpPolicy\n",
    "from stable_baselines3.common import results_plotter\n",
    "from sb3_contrib.common.maskable.evaluation import evaluate_policy\n",
    "from sb3_contrib import MaskablePPO\n",
    "from stable_baselines3.common.vec_env import DummyVecEnv\n",
    "#stable_baselines.__version__ # printing out stable_baselines version used\n",
    "import gym\n",
    "import pickle\n",
    "import cProfile \n",
    "import pandas as pd\n",
    "import ast\n",
    "import seaborn as sns\n",
    "font = { 'family' : 'sans-serif',\n",
    "                'weight' : 'normal',\n",
    "                'size'   : 11}\n",
    "matplotlib.rc('font', **font)"
   ]
  },
  {
   "cell_type": "code",
   "execution_count": 94,
   "id": "08d1e420",
   "metadata": {},
   "outputs": [],
   "source": [
    "current_directory = os.getcwd()\n",
    "\n",
    "# exp_id = \"2022-03-18v45nsfU100GboR2\"  \n",
    "# exp_id = \"2022-03-18v45nsfU100GboR3\"\n",
    "# exp_id = \"2022-03-22v45nsfUp50100G7500R3\"\n",
    "exp_id = \"2022-03-10v45nsfU100GR2\" # best uniform\n",
    "# exp_id = \"2022-03-15v45nsfUp5100GR3\" # best non-uniform\n",
    "eval_name = \"_no_tfb_more_snaps\"\n",
    "route_dir = \"/Users/joshnevin/RL_FOCSLab/tmp/RWAFOCS-ppo/\"\n",
    "eval_dir = route_dir+exp_id+\"/_core_0/eval_results\"+eval_name\n",
    "\n",
    "# JOCN results \n",
    "# uniform no tfb\n",
    "# eval_dir_h = route_dir+\"2022-02-24nsfnotfbuniheuristics_eval/eval_results_no_tfb\"  # 100G, k=5, 10k requests\n",
    "# eval_dir_h = route_dir+\"2022-03-11nsfU100Gheuristics_eval/eval_results_no_tfb\" # with service distribution\n",
    "eval_dir_h = route_dir+\"2022-03-11nsfU100Gheuristics_eval/eval_results_no_tfb_more_snaps\" # with service distribution\n",
    "\n",
    "# eval_dir_h = route_dir+\"2022-03-23nsfU100Gbo10chheuristics_eval/eval_results_no_tfb\" # with 12.5%, 25%, 37.5%, 50%, 62.5%, 75%, 87.5%, 100% service distribution\n",
    "\n",
    "# binary occupancy results, uniform no tfb\n",
    "# eval_dir_h = route_dir+\"2022-03-18nsfU100Gbofxdheuristics_eval/eval_results_no_tfb\"  # binary occupancy\n",
    "# eval_dir_h = route_dir+\"2022-03-18nsfU100Gbofxdheuristics_eval/eval_results_no_tfb\"  # binary occupancy\n",
    "\n",
    "# uniform tfb\n",
    "# eval_dir_h = route_dir+\"2022-03-11nsfU100Gheuristics_eval/eval_results_tfb\" # with service distribution\n",
    "\n",
    "# non-uniform no tfb\n",
    "# eval_dir_h = route_dir+\"2022-03-04nsfUp50100G10kRheuristics_eval/eval_results_no_tfb\" # 100G, k=5, 10k requests\n",
    "# eval_dir_h = route_dir+\"2022-03-11nsfU50100Gheuristics_eval/eval_results_no_tfb\" # with service distribution\n",
    "# non-uniform tfb\n",
    "# eval_dir_h = route_dir+\"2022-03-11nsfU50100Gheuristics_eval/eval_results_tfb\" # with service distribution\n",
    "\n",
    "# eval_dir_h = route_dir+\"2022-02-24nsfunik3heuristics_eval/eval_results_no_tfb\"\n",
    "# eval_dir_h = route_dir+\"2022-03-01nsfuni200Gk3heuristics_eval/eval_results_no_tfb\"\n",
    "# eval_dir_h = route_dir+\"2022-03-03nsfuni500G2kRk5heuristics_eval/eval_results_no_tfb\" # 500G, k=5, 2k requests \n",
    "\n",
    "# UNIFORM 50% perturbation NSFNET\n",
    "# eval_dir_h = route_dir+\"2022-03-04nsfUp50500G2kRheuristics_eval/eval_results_no_tfb\" \n",
    "\n",
    "# \"GRAVITY\" NSFNET \n",
    "# eval_dir_h = route_dir+\"2022-02-23v42nsftfb\"+\"/_core_0/eval_results\"+\"_tfb\"\n",
    "# eval_dir_h = route_dir+\"2022-02-23v42nsftfbR3\"+\"/_core_0/eval_results\"+\"_no_tfb\"\n",
    "# eval_dir_h = route_dir+\"2022-02-24nsfgravityk3heuristics_eval/eval_results_no_tfb\"\n",
    "\n",
    "# UNIFORM DTAG\n",
    "# eval_dir_h = route_dir+\"2022-02-24dtagnotfbuniheuristics_eval/eval_results_no_tfb\" # 100G, k=5, 10k requests\n",
    "# eval_dir_h = route_dir+\"2022-02-24dtagunik3heuristics_eval/eval_results_no_tfb\"  # 100G, k=3, 10k requests\n",
    "# eval_dir_h = route_dir+\"2022-03-01dtaguni200Gheuristics_eval/eval_results_no_tfb\"  # 200G, k=5, 5k requests\n",
    "# eval_dir_h = route_dir+\"2022-03-01dtaguni200Gk3heuristics_eval/eval_results_no_tfb\" # 200G, k=3, 5k requests\n",
    "# eval_dir_h = route_dir+\"2022-03-01dtaguni200G75kRk3heuristics_eval/eval_results_no_tfb\" # 200G, k=5, 7.5k requests\n",
    "# UNIFORM 50% perturbation DTAG\n",
    "# eval_dir_h = route_dir+\"2022-03-04dtagUp50500G2kRheuristics_eval/eval_results_no_tfb\" # 500G, k=5, 2k requests "
   ]
  },
  {
   "cell_type": "code",
   "execution_count": 95,
   "id": "244e7857",
   "metadata": {},
   "outputs": [],
   "source": [
    "def get_info(eval_dir, model, get_dist):\n",
    "    df = pd.read_csv(eval_dir+\"/evaluation_\"+model+\".monitor.csv\", skiprows=1)\n",
    "    eval_eps = df.index.values\n",
    "    rewards = df['r'].to_numpy()\n",
    "    sim_time = df['t'].to_numpy()\n",
    "    services_accepted_ep = df['episode_services_accepted'].to_numpy()\n",
    "    services_processed_ep = df['episode_services_processed'].to_numpy()\n",
    "    services_accepted = df['services_accepted'].to_numpy()\n",
    "    services_processed = df['services_processed'].to_numpy()\n",
    "    throughput = df['throughput']/1e12\n",
    "    if get_dist:\n",
    "        service_dist_125pc = df['service_distribution_125pc']\n",
    "        service_dist_25pc = df['service_distribution_25pc']\n",
    "        service_dist_375pc = df['service_distribution_375pc']\n",
    "        service_dist_50pc = df['service_distribution_50pc']\n",
    "        service_dist_625pc = df['service_distribution_625pc']\n",
    "        service_dist_75pc = df['service_distribution_75pc']\n",
    "        service_dist_875pc = df['service_distribution_875pc']\n",
    "        service_dist = df['service_distribution']\n",
    "        return rewards, eval_eps, sim_time, services_accepted_ep, services_processed_ep, services_accepted, services_processed, throughput, service_dist, service_dist_125pc, service_dist_25pc, service_dist_375pc, service_dist_50pc, service_dist_625pc, service_dist_75pc, service_dist_875pc\n",
    "    else:\n",
    "        return rewards, eval_eps, sim_time, services_accepted_ep, services_processed_ep, services_accepted, services_processed, throughput\n",
    "def get_cum_results(eval_dir, model):\n",
    "    df = pd.read_csv(eval_dir+\"/evaluation_\"+model+\".monitor.csv\", skiprows=1)\n",
    "#     cum_services_accepted = df['episode_cum_services_accepted'].to_numpy()\n",
    "#     cum_services_processed = df['episode_cum_services_processed'].to_numpy()\n",
    "    cum_services_accepted = df['episode_cum_services_accepted']\n",
    "    cum_services_processed = df['episode_cum_services_processed']\n",
    "    return cum_services_accepted, cum_services_processed\n",
    "def get_services(service_dist, iter):\n",
    "    service_dist = service_dist[iter]\n",
    "    service_dist = ast.literal_eval(service_dist)\n",
    "    service_dist = np.array(service_dist).reshape(22,100)  # NOTE! HAVE HARD CODED NUMBER OF EDGES AND CHANNELS!\n",
    "    return service_dist\n",
    "def reorder_edges(serdist, edge_inds):\n",
    "    idx = np.array(edge_inds)\n",
    "    idx[edge_inds] = np.arange(len(edge_inds))\n",
    "    return serdist[idx, :]\n",
    "def get_all_services(service_dist_rl, num_edges, num_channels, num_evals):\n",
    "    arr = np.zeros([num_edges,num_channels,num_evals])\n",
    "    for i in range(num_evals):\n",
    "        arr[:,:,i] = get_services(service_dist_rl, i)\n",
    "    return arr\n",
    "def get_services_accepted_snapshots(cum_services_accepted, snap_inds, eval_ind):\n",
    "    cum_services_accepted = ast.literal_eval(cum_services_accepted[eval_ind])\n",
    "    services_accepted_snaps = []\n",
    "    for i in snap_inds:\n",
    "        services_accepted_snaps.append(cum_services_accepted[i])\n",
    "    return services_accepted_snaps\n",
    "def get_all_accepted_snaps(cum_services_accepted, snap_inds, n_evals):\n",
    "    services_accepted_snaps = np.zeros([n_evals, len(snap_inds)])\n",
    "    for i in range(n_evals):\n",
    "        services_accepted_snaps[i,:] = get_services_accepted_snapshots(cum_services_accepted, snap_inds, i)\n",
    "    return services_accepted_snaps"
   ]
  },
  {
   "cell_type": "code",
   "execution_count": 96,
   "id": "0e2b948e",
   "metadata": {},
   "outputs": [],
   "source": [
    "get_service_dist = True\n",
    "if not get_service_dist:\n",
    "    rewards_rl, eval_eps_rl, sim_time_rl, services_accepted_ep_rl, services_processed_ep_rl, services_accepted_rl, services_processed_rl, throughput_rl = get_info(eval_dir, 'rl', False)\n",
    "    rewards_kspff, eval_eps_kspff, sim_time_kspff, services_accepted_ep_kspff, services_processed_ep_kspff, services_accepted_kspff, services_processed_kspff, throughput_kspff = get_info(eval_dir_h, 'kspff', False)\n",
    "    rewards_ffksp, eval_eps_ffksp, sim_time_ffksp, services_accepted_ep_ffksp, services_processed_ep_ffksp, services_accepted_ffksp, services_processed_ffksp, throughput_ffksp = get_info(eval_dir_h, 'ffksp', False)\n",
    "    rewards_camu, eval_eps_camu, sim_time_camu, services_accepted_ep_camu, services_processed_ep_camu, services_accepted_camu, services_processed_camu, throughput_camu = get_info(eval_dir_h, 'camu', False)\n",
    "    rewards_kspmu, eval_eps_kspmu, sim_time_kspmu, services_accepted_ep_kspmu, services_processed_ep_kspmu, services_accepted_kspmu, services_processed_kspmu, throughput_kspmu = get_info(eval_dir_h, 'kspmu', False)\n",
    "else:\n",
    "    rewards_rl, eval_eps_rl, sim_time_rl, services_accepted_ep_rl, services_processed_ep_rl, services_accepted_rl, services_processed_rl, throughput_rl, service_dist_rl, service_dist_rl_125pc, service_dist_rl_25pc, service_dist_rl_375pc,service_dist_rl_50pc, service_dist_rl_625pc, service_dist_rl_75pc, service_dist_rl_875pc = get_info(eval_dir, 'rl', True)\n",
    "    rewards_kspff, eval_eps_kspff, sim_time_kspff, services_accepted_ep_kspff, services_processed_ep_kspff, services_accepted_kspff, services_processed_kspff, throughput_kspff, service_dist_kspff, service_dist_kspff_125pc, service_dist_kspff_25pc, service_dist_kspff_375pc, service_dist_kspff_50pc, service_dist_kspff_625pc, service_dist_kspff_75pc, service_dist_kspff_875pc = get_info(eval_dir_h, 'kspff', True)\n",
    "    rewards_ffksp, eval_eps_ffksp, sim_time_ffksp, services_accepted_ep_ffksp, services_processed_ep_ffksp, services_accepted_ffksp, services_processed_ffksp, throughput_ffksp, service_dist_ffksp, service_dist_ffksp_125pc, service_dist_ffksp_25pc, service_dist_ffksp_375pc, service_dist_ffksp_50pc, service_dist_ffksp_625pc, service_dist_ffksp_75pc, service_dist_ffksp_875pc  = get_info(eval_dir_h, 'ffksp', True)\n",
    "#     rewards_camu, eval_eps_camu, sim_time_camu, services_accepted_ep_camu, services_processed_ep_camu, services_accepted_camu, services_processed_camu, throughput_camu, service_dist_camu, service_dist_camu_25pc, service_dist_camu_50pc, service_dist_camu_75pc  = get_info(eval_dir_h, 'camu', True)\n",
    "    rewards_kspmu, eval_eps_kspmu, sim_time_kspmu, services_accepted_ep_kspmu, services_processed_ep_kspmu, services_accepted_kspmu, services_processed_kspmu, throughput_kspmu, service_dist_kspmu, service_dist_kspmu_125pc, service_dist_kspmu_25pc, service_dist_kspmu_375pc, service_dist_kspmu_50pc, service_dist_kspmu_625pc, service_dist_kspmu_75pc, service_dist_kspmu_875pc  = get_info(eval_dir_h, 'kspmu', True)"
   ]
  },
  {
   "cell_type": "code",
   "execution_count": 97,
   "id": "901ad8cc",
   "metadata": {},
   "outputs": [],
   "source": [
    "cum_services_accepted_rl, cum_services_processed_rl = get_cum_results(eval_dir, 'rl')\n",
    "cum_services_accepted_kspff, cum_services_processed_kspff = get_cum_results(eval_dir_h, 'kspff')\n",
    "cum_services_accepted_ffksp, cum_services_processed_ffksp = get_cum_results(eval_dir_h, 'ffksp')\n",
    "cum_services_accepted_kspmu, cum_services_processed_kspmu = get_cum_results(eval_dir_h, 'kspmu')"
   ]
  },
  {
   "cell_type": "code",
   "execution_count": 64,
   "id": "f5f34daf",
   "metadata": {},
   "outputs": [],
   "source": [
    "# snap_inds = [1249, 2499, 3749, 4999, 6249, 7499, 8749]\n",
    "snap_inds = [1249, 2499, 3749, 4999, 6249, 7499]\n",
    "\n",
    "n_evals = 100\n",
    "services_accepted_snaps_mean_rl = np.mean(get_all_accepted_snaps(cum_services_accepted_rl, snap_inds, n_evals), axis=0)\n",
    "services_accepted_snaps_mean_kspff = np.mean(get_all_accepted_snaps(cum_services_accepted_kspff, snap_inds, n_evals),axis=0)\n",
    "services_accepted_snaps_mean_ffksp = np.mean(get_all_accepted_snaps(cum_services_accepted_ffksp, snap_inds, n_evals), axis=0)\n",
    "services_accepted_snaps_mean_kspmu = np.mean(get_all_accepted_snaps(cum_services_accepted_kspmu, snap_inds, n_evals), axis=0)"
   ]
  },
  {
   "cell_type": "code",
   "execution_count": 54,
   "id": "7d8f5e9f",
   "metadata": {},
   "outputs": [
    {
     "name": "stdout",
     "output_type": "stream",
     "text": [
      "[1250.   2500.   3750.   4983.8  5711.8  6159.38]\n",
      "[1250.   2500.   3713.87 4740.21 5490.19 5988.07]\n",
      "[1250.   2500.   3750.   5000.   5903.59 6264.14]\n",
      "[1250.   2500.   3749.71 4868.79 5609.83 6102.58]\n"
     ]
    }
   ],
   "source": [
    "print(services_accepted_snaps_mean_rl)\n",
    "print(services_accepted_snaps_mean_kspff)\n",
    "print(services_accepted_snaps_mean_ffksp)\n",
    "print(services_accepted_snaps_mean_kspmu)"
   ]
  },
  {
   "cell_type": "code",
   "execution_count": 55,
   "id": "81dc13e1",
   "metadata": {},
   "outputs": [
    {
     "data": {
      "text/plain": [
       "0.8352"
      ]
     },
     "execution_count": 55,
     "metadata": {},
     "output_type": "execute_result"
    }
   ],
   "source": [
    "6264/7500"
   ]
  },
  {
   "cell_type": "code",
   "execution_count": 56,
   "id": "da635b6e",
   "metadata": {},
   "outputs": [
    {
     "data": {
      "text/plain": [
       "0.94448"
      ]
     },
     "execution_count": 56,
     "metadata": {},
     "output_type": "execute_result"
    }
   ],
   "source": [
    "5903/6250"
   ]
  },
  {
   "cell_type": "code",
   "execution_count": 89,
   "id": "70d16308",
   "metadata": {},
   "outputs": [],
   "source": [
    "pickle.dump(np.mean(services_accepted_ep_rl), open(\"results/\"+exp_id+\"_mean.pkl\",'wb'))\n",
    "pickle.dump(np.median(services_accepted_ep_rl), open(\"results/\"+exp_id+\"_median.pkl\",'wb'))\n",
    "pickle.dump(np.std(services_accepted_ep_rl), open(\"results/\"+exp_id+\"_std.pkl\",'wb'))"
   ]
  },
  {
   "cell_type": "code",
   "execution_count": 90,
   "id": "46f8994e",
   "metadata": {
    "scrolled": false
   },
   "outputs": [
    {
     "name": "stdout",
     "output_type": "stream",
     "text": [
      "Mean: 6130.0\n",
      "Median: 6126.0\n",
      "Std: 64.38151908739029\n"
     ]
    }
   ],
   "source": [
    "print(\"Mean:\",np.mean(services_accepted_ep_rl))\n",
    "print(\"Median:\",np.median(services_accepted_ep_rl))\n",
    "print(\"Std:\",np.std(services_accepted_ep_rl))"
   ]
  },
  {
   "cell_type": "code",
   "execution_count": 59,
   "id": "bfae3c9e",
   "metadata": {},
   "outputs": [
    {
     "name": "stdout",
     "output_type": "stream",
     "text": [
      "RL: 6159.38\n",
      "kSP-FF: 6701.0\n",
      "FF-kSP: 6819.64\n",
      "kSP-MU: 6805.04\n"
     ]
    }
   ],
   "source": [
    "print(\"RL:\",np.mean(services_accepted_ep_rl))\n",
    "print(\"kSP-FF:\",np.mean(services_accepted_ep_kspff))\n",
    "print(\"FF-kSP:\",np.mean(services_accepted_ep_ffksp))\n",
    "# print(\"CA-MU:\",np.mean(services_accepted_ep_camu))\n",
    "print(\"kSP-MU:\",np.mean(services_accepted_ep_kspmu))"
   ]
  },
  {
   "cell_type": "code",
   "execution_count": 7,
   "id": "1d659ba0",
   "metadata": {},
   "outputs": [
    {
     "name": "stdout",
     "output_type": "stream",
     "text": [
      "RL: 6872.0\n",
      "kSP-FF: 74.0\n",
      "FF-kSP: 76.0\n",
      "kSP-MU: 72.0\n"
     ]
    }
   ],
   "source": [
    "print(\"RL:\",np.median(services_accepted_ep_rl))\n",
    "print(\"kSP-FF:\",np.median(services_accepted_ep_kspff))\n",
    "print(\"FF-kSP:\",np.median(services_accepted_ep_ffksp))\n",
    "# print(\"CA-MU:\",np.median(services_accepted_ep_camu))\n",
    "print(\"kSP-MU:\",np.median(services_accepted_ep_kspmu))"
   ]
  },
  {
   "cell_type": "code",
   "execution_count": 8,
   "id": "54798c54",
   "metadata": {},
   "outputs": [
    {
     "name": "stdout",
     "output_type": "stream",
     "text": [
      "RL: 71.17267663928342\n",
      "kSP-FF: 3.8257548274817608\n",
      "FF-kSP: 3.4484199280250074\n",
      "kSP-MU: 3.510142447251963\n"
     ]
    }
   ],
   "source": [
    "print(\"RL:\",np.std(services_accepted_ep_rl))\n",
    "print(\"kSP-FF:\",np.std(services_accepted_ep_kspff))\n",
    "print(\"FF-kSP:\",np.std(services_accepted_ep_ffksp))\n",
    "# print(\"CA-MU:\",np.std(services_accepted_ep_camu))\n",
    "print(\"kSP-MU:\",np.std(services_accepted_ep_kspmu))"
   ]
  },
  {
   "cell_type": "code",
   "execution_count": null,
   "id": "8c87bac3",
   "metadata": {},
   "outputs": [],
   "source": [
    "print(\"RL:\",np.mean(rewards_rl))\n",
    "print(\"kSP-FF:\",np.mean(rewards_kspff))\n",
    "print(\"FF-kSP:\",np.mean(rewards_ffksp))\n",
    "# print(\"CA-MU:\",np.mean(rewards_camu))\n",
    "print(\"kSP-MU:\",np.mean(rewards_kspmu))"
   ]
  },
  {
   "cell_type": "code",
   "execution_count": null,
   "id": "8a895523",
   "metadata": {},
   "outputs": [],
   "source": [
    "f, ax = plt.subplots()\n",
    "dict_plt = {'kSP-FF':services_accepted_ep_kspff,'kSP-MU':services_accepted_ep_kspmu,'FF-kSP':services_accepted_ep_ffksp, 'RL':services_accepted_ep_rl}\n",
    "#dict_plt = {'FF-kSP':services_accepted_ep_ffksp, 'RL':services_accepted_ep_rl}\n",
    "bp = plt.boxplot(dict_plt.values(),showfliers=False,showmeans=True)\n",
    "ax.set_xticklabels(dict_plt.keys())\n",
    "plt.ylabel(\"Services accepted\")\n",
    "# ax.set_aspect(1.0/ax.get_data_ratio(), adjustable='box')\n",
    "f.patch.set_facecolor('w')\n",
    "# plt.ylim([2285, 2305])\n",
    "plt.grid()\n",
    "plt.savefig('figures/'+exp_id+eval_name+'boxplot.jpeg', dpi=300,bbox_inches='tight')\n",
    "plt.show()"
   ]
  },
  {
   "cell_type": "code",
   "execution_count": null,
   "id": "9f4f0683",
   "metadata": {},
   "outputs": [],
   "source": [
    "medians = [item.get_ydata()[0] for item in bp['medians']]\n",
    "means = [item.get_ydata()[0] for item in bp['means']]\n",
    "print(f'Medians: {medians}\\n'\n",
    "      f'Means:   {means}')"
   ]
  },
  {
   "cell_type": "code",
   "execution_count": null,
   "id": "388ec0d1",
   "metadata": {},
   "outputs": [],
   "source": [
    "minimums = [round(item.get_ydata()[0], 1) for item in bp['caps']][::2]\n",
    "maximums = [round(item.get_ydata()[0], 1) for item in bp['caps']][1::2]\n",
    "print(f'Minimums: {minimums}\\n'\n",
    "      f'Maximums: {maximums}')"
   ]
  },
  {
   "cell_type": "code",
   "execution_count": null,
   "id": "133d7f66",
   "metadata": {},
   "outputs": [],
   "source": [
    "q1 = [round(min(item.get_ydata()), 1) for item in bp['boxes']]\n",
    "q3 = [round(max(item.get_ydata()), 1) for item in bp['boxes']]\n",
    "IQR = [q3[i] - q1[i] for i in range(len(q1))]\n",
    "print(IQR)"
   ]
  },
  {
   "cell_type": "code",
   "execution_count": null,
   "id": "96921ea1",
   "metadata": {},
   "outputs": [],
   "source": [
    "((6872-6818)/6818)*100"
   ]
  },
  {
   "cell_type": "code",
   "execution_count": null,
   "id": "3b058a7e",
   "metadata": {},
   "outputs": [],
   "source": [
    "(6872-6818)*100"
   ]
  },
  {
   "cell_type": "code",
   "execution_count": null,
   "id": "8a4b408d",
   "metadata": {},
   "outputs": [],
   "source": [
    "6643-6497"
   ]
  },
  {
   "cell_type": "code",
   "execution_count": null,
   "id": "7003dc82",
   "metadata": {},
   "outputs": [],
   "source": [
    "7019-6964"
   ]
  },
  {
   "cell_type": "code",
   "execution_count": null,
   "id": "9b61100e",
   "metadata": {},
   "outputs": [],
   "source": [
    "((6818-6710)/6710)*100"
   ]
  },
  {
   "cell_type": "code",
   "execution_count": null,
   "id": "539d3db8",
   "metadata": {},
   "outputs": [],
   "source": [
    "800 - (1000-800) "
   ]
  },
  {
   "cell_type": "markdown",
   "id": "dddeec58",
   "metadata": {},
   "source": [
    "**Service distribution stuff!**  \n",
    "Questions to answer:  \n",
    "* how consistent is the placement of services across evaluation runs? Do any patterns emerge?\n",
    "* How similar is the RL agent allocation of services to the heuristics?\n",
    "* What is the trend with respect to edge length? "
   ]
  },
  {
   "cell_type": "code",
   "execution_count": 98,
   "id": "945d56c2",
   "metadata": {},
   "outputs": [],
   "source": [
    "serdist_rl = get_all_services(service_dist_rl, 22, 100, 100)\n",
    "serdist_kspff = get_all_services(service_dist_kspff, 22, 100, 100)\n",
    "serdist_ffksp = get_all_services(service_dist_ffksp, 22, 100, 100)\n",
    "serdist_kspmu = get_all_services(service_dist_kspmu, 22, 100, 100)\n",
    "\n",
    "serdist_rl_125pc = get_all_services(service_dist_rl_125pc, 22, 100, 100)\n",
    "serdist_kspff_125pc = get_all_services(service_dist_kspff_125pc, 22, 100, 100)\n",
    "serdist_ffksp_125pc = get_all_services(service_dist_ffksp_125pc, 22, 100, 100)\n",
    "serdist_kspmu_125pc = get_all_services(service_dist_kspmu_125pc, 22, 100, 100)\n",
    "\n",
    "serdist_rl_25pc = get_all_services(service_dist_rl_25pc, 22, 100, 100)\n",
    "serdist_kspff_25pc = get_all_services(service_dist_kspff_25pc, 22, 100, 100)\n",
    "serdist_ffksp_25pc = get_all_services(service_dist_ffksp_25pc, 22, 100, 100)\n",
    "serdist_kspmu_25pc = get_all_services(service_dist_kspmu_25pc, 22, 100, 100)\n",
    "\n",
    "serdist_rl_375pc = get_all_services(service_dist_rl_375pc, 22, 100, 100)\n",
    "serdist_kspff_375pc = get_all_services(service_dist_kspff_375pc, 22, 100, 100)\n",
    "serdist_ffksp_375pc = get_all_services(service_dist_ffksp_375pc, 22, 100, 100)\n",
    "serdist_kspmu_375pc = get_all_services(service_dist_kspmu_375pc, 22, 100, 100)\n",
    "\n",
    "serdist_rl_50pc = get_all_services(service_dist_rl_50pc, 22, 100, 100)\n",
    "serdist_kspff_50pc = get_all_services(service_dist_kspff_50pc, 22, 100, 100)\n",
    "serdist_ffksp_50pc = get_all_services(service_dist_ffksp_50pc, 22, 100, 100)\n",
    "serdist_kspmu_50pc = get_all_services(service_dist_kspmu_50pc, 22, 100, 100)\n",
    "\n",
    "serdist_rl_625pc = get_all_services(service_dist_rl_625pc, 22, 100, 100)\n",
    "serdist_kspff_625pc = get_all_services(service_dist_kspff_625pc, 22, 100, 100)\n",
    "serdist_ffksp_625pc = get_all_services(service_dist_ffksp_625pc, 22, 100, 100)\n",
    "serdist_kspmu_625pc = get_all_services(service_dist_kspmu_625pc, 22, 100, 100)\n",
    "\n",
    "serdist_rl_75pc = get_all_services(service_dist_rl_75pc, 22, 100, 100)\n",
    "serdist_kspff_75pc = get_all_services(service_dist_kspff_75pc, 22, 100, 100)\n",
    "serdist_ffksp_75pc = get_all_services(service_dist_ffksp_75pc, 22, 100, 100)\n",
    "serdist_kspmu_75pc = get_all_services(service_dist_kspmu_75pc, 22, 100, 100)\n",
    "\n",
    "serdist_rl_875pc = get_all_services(service_dist_rl_875pc, 22, 100, 100)\n",
    "serdist_kspff_875pc = get_all_services(service_dist_kspff_875pc, 22, 100, 100)\n",
    "serdist_ffksp_875pc = get_all_services(service_dist_ffksp_875pc, 22, 100, 100)\n",
    "serdist_kspmu_875pc = get_all_services(service_dist_kspmu_875pc, 22, 100, 100)"
   ]
  },
  {
   "cell_type": "code",
   "execution_count": 99,
   "id": "bbfac135",
   "metadata": {},
   "outputs": [],
   "source": [
    "# serdist_rl_mean = np.mean(serdist_rl, axis=2)\n",
    "# serdist_kspff_mean = np.mean(serdist_kspff, axis=2)\n",
    "# serdist_ffksp_mean = np.mean(serdist_ffksp, axis=2)\n",
    "# serdist_kspmu_mean = np.mean(serdist_kspmu, axis=2)\n",
    "len_ordered_edge_inds = [21,20,17,16,18,9,6,3,19,15,14,12,4,10,0,8,13,1,11,5,7,2]\n",
    "serdist_rl_mean = reorder_edges(np.mean(serdist_rl, axis=2), len_ordered_edge_inds)\n",
    "serdist_kspff_mean = reorder_edges(np.mean(serdist_kspff, axis=2), len_ordered_edge_inds)\n",
    "serdist_ffksp_mean = reorder_edges(np.mean(serdist_ffksp, axis=2), len_ordered_edge_inds)\n",
    "serdist_kspmu_mean = reorder_edges(np.mean(serdist_kspmu, axis=2), len_ordered_edge_inds)\n",
    "\n",
    "serdist_rl_mean_125pc = reorder_edges(np.mean(serdist_rl_125pc, axis=2), len_ordered_edge_inds)\n",
    "serdist_kspff_mean_125pc = reorder_edges(np.mean(serdist_kspff_125pc, axis=2), len_ordered_edge_inds)\n",
    "serdist_ffksp_mean_125pc = reorder_edges(np.mean(serdist_ffksp_125pc, axis=2), len_ordered_edge_inds)\n",
    "serdist_kspmu_mean_125pc = reorder_edges(np.mean(serdist_kspmu_125pc, axis=2), len_ordered_edge_inds)\n",
    "\n",
    "serdist_rl_mean_25pc = reorder_edges(np.mean(serdist_rl_25pc, axis=2), len_ordered_edge_inds)\n",
    "serdist_kspff_mean_25pc = reorder_edges(np.mean(serdist_kspff_25pc, axis=2), len_ordered_edge_inds)\n",
    "serdist_ffksp_mean_25pc = reorder_edges(np.mean(serdist_ffksp_25pc, axis=2), len_ordered_edge_inds)\n",
    "serdist_kspmu_mean_25pc = reorder_edges(np.mean(serdist_kspmu_25pc, axis=2), len_ordered_edge_inds)\n",
    "\n",
    "serdist_rl_mean_375pc = reorder_edges(np.mean(serdist_rl_375pc, axis=2), len_ordered_edge_inds)\n",
    "serdist_kspff_mean_375pc = reorder_edges(np.mean(serdist_kspff_375pc, axis=2), len_ordered_edge_inds)\n",
    "serdist_ffksp_mean_375pc = reorder_edges(np.mean(serdist_ffksp_375pc, axis=2), len_ordered_edge_inds)\n",
    "serdist_kspmu_mean_375pc = reorder_edges(np.mean(serdist_kspmu_375pc, axis=2), len_ordered_edge_inds)\n",
    "\n",
    "serdist_rl_mean_50pc = reorder_edges(np.mean(serdist_rl_50pc, axis=2), len_ordered_edge_inds)\n",
    "serdist_kspff_mean_50pc = reorder_edges(np.mean(serdist_kspff_50pc, axis=2), len_ordered_edge_inds)\n",
    "serdist_ffksp_mean_50pc = reorder_edges(np.mean(serdist_ffksp_50pc, axis=2), len_ordered_edge_inds)\n",
    "serdist_kspmu_mean_50pc = reorder_edges(np.mean(serdist_kspmu_50pc, axis=2), len_ordered_edge_inds)\n",
    "\n",
    "serdist_rl_mean_625pc = reorder_edges(np.mean(serdist_rl_625pc, axis=2), len_ordered_edge_inds)\n",
    "serdist_kspff_mean_625pc = reorder_edges(np.mean(serdist_kspff_625pc, axis=2), len_ordered_edge_inds)\n",
    "serdist_ffksp_mean_625pc = reorder_edges(np.mean(serdist_ffksp_625pc, axis=2), len_ordered_edge_inds)\n",
    "serdist_kspmu_mean_625pc = reorder_edges(np.mean(serdist_kspmu_625pc, axis=2), len_ordered_edge_inds)\n",
    "\n",
    "serdist_rl_mean_75pc = reorder_edges(np.mean(serdist_rl_75pc, axis=2), len_ordered_edge_inds)\n",
    "serdist_kspff_mean_75pc = reorder_edges(np.mean(serdist_kspff_75pc, axis=2), len_ordered_edge_inds)\n",
    "serdist_ffksp_mean_75pc = reorder_edges(np.mean(serdist_ffksp_75pc, axis=2), len_ordered_edge_inds)\n",
    "serdist_kspmu_mean_75pc = reorder_edges(np.mean(serdist_kspmu_75pc, axis=2), len_ordered_edge_inds)\n",
    "\n",
    "serdist_rl_mean_875pc = reorder_edges(np.mean(serdist_rl_875pc, axis=2), len_ordered_edge_inds)\n",
    "serdist_kspff_mean_875pc = reorder_edges(np.mean(serdist_kspff_875pc, axis=2), len_ordered_edge_inds)\n",
    "serdist_ffksp_mean_875pc = reorder_edges(np.mean(serdist_ffksp_875pc, axis=2), len_ordered_edge_inds)\n",
    "serdist_kspmu_mean_875pc = reorder_edges(np.mean(serdist_kspmu_875pc, axis=2), len_ordered_edge_inds)"
   ]
  },
  {
   "cell_type": "code",
   "execution_count": 100,
   "id": "b6509d1e",
   "metadata": {},
   "outputs": [],
   "source": [
    "eval_ind = 4\n",
    "serdist_rl_single_eval = reorder_edges(serdist_rl[:,:,eval_ind], len_ordered_edge_inds)\n",
    "serdist_kspff_single_eval = reorder_edges(serdist_kspff[:,:,eval_ind], len_ordered_edge_inds)\n",
    "serdist_kspmu_single_eval = reorder_edges(serdist_kspmu[:,:,eval_ind], len_ordered_edge_inds)\n",
    "serdist_ffksp_single_eval = reorder_edges(serdist_ffksp[:,:,eval_ind], len_ordered_edge_inds)"
   ]
  },
  {
   "cell_type": "code",
   "execution_count": null,
   "id": "55569720",
   "metadata": {},
   "outputs": [],
   "source": [
    "ax = sns.heatmap(serdist_rl_single_eval, linewidth=0.)\n",
    "ax.set_xlabel(\"Channel ID\")\n",
    "ax.set_ylabel(\"Link ID\")\n",
    "plt.savefig('figures/heatmap_'+str(eval_ind)+exp_id+'.jpeg', dpi=300,bbox_inches='tight')\n",
    "plt.show()"
   ]
  },
  {
   "cell_type": "code",
   "execution_count": null,
   "id": "be0bb96d",
   "metadata": {},
   "outputs": [],
   "source": [
    "ax = sns.heatmap(serdist_ffksp_single_eval, linewidth=0.)\n",
    "ax.set_xlabel(\"Channel ID\")\n",
    "ax.set_ylabel(\"Link ID\")\n",
    "plt.savefig('figures/heatmap_uniform_'+str(eval_ind)+'_ffksp.jpeg', dpi=300,bbox_inches='tight')\n",
    "plt.show()"
   ]
  },
  {
   "cell_type": "code",
   "execution_count": null,
   "id": "24ca47c6",
   "metadata": {},
   "outputs": [],
   "source": [
    "ax = sns.heatmap(serdist_kspff_single_eval, linewidth=0.)\n",
    "ax.set_xlabel(\"Channel ID\")\n",
    "ax.set_ylabel(\"Link ID\")\n",
    "plt.savefig('figures/heatmap_uniform_'+str(eval_ind)+'_kspff.jpeg', dpi=300,bbox_inches='tight')\n",
    "plt.show()"
   ]
  },
  {
   "cell_type": "code",
   "execution_count": null,
   "id": "f5031600",
   "metadata": {},
   "outputs": [],
   "source": [
    "ax = sns.heatmap(serdist_kspmu_single_eval, linewidth=0.)\n",
    "ax.set_xlabel(\"Channel ID\")\n",
    "ax.set_ylabel(\"Link ID\")\n",
    "plt.savefig('figures/heatmap_uniform_'+str(eval_ind)+'_kspmu.jpeg', dpi=300,bbox_inches='tight')\n",
    "plt.show()"
   ]
  },
  {
   "cell_type": "markdown",
   "id": "86622529",
   "metadata": {},
   "source": [
    "**Look at service distribution after 12.5% of the episode:**"
   ]
  },
  {
   "cell_type": "code",
   "execution_count": null,
   "id": "b9721b55",
   "metadata": {},
   "outputs": [],
   "source": [
    "ax = sns.heatmap(serdist_rl_mean_125pc, linewidth=0.)\n",
    "ax.invert_yaxis()\n",
    "ax.set_xlabel(\"Channel ID\")\n",
    "ax.set_ylabel(\"Link ID\")\n",
    "plt.savefig('figures/heatmap_125pc_'+exp_id+'.jpeg', dpi=300,bbox_inches='tight')\n",
    "plt.show()"
   ]
  },
  {
   "cell_type": "code",
   "execution_count": null,
   "id": "9b1926f1",
   "metadata": {},
   "outputs": [],
   "source": [
    "ax = sns.heatmap(serdist_kspff_mean_125pc, linewidth=0.)\n",
    "ax.invert_yaxis()\n",
    "ax.set_xlabel(\"Channel ID\")\n",
    "ax.set_ylabel(\"Link ID\")\n",
    "plt.savefig('figures/heatmap_125pc_uniform_kspff.jpeg', dpi=300,bbox_inches='tight')\n",
    "plt.show()"
   ]
  },
  {
   "cell_type": "code",
   "execution_count": null,
   "id": "02b35b2e",
   "metadata": {},
   "outputs": [],
   "source": [
    "ax = sns.heatmap(serdist_ffksp_mean_125pc, linewidth=0.)\n",
    "ax.invert_yaxis()\n",
    "ax.set_xlabel(\"Channel ID\")\n",
    "ax.set_ylabel(\"Link ID\")\n",
    "plt.savefig('figures/heatmap_125pc_uniform_ffksp.jpeg', dpi=300,bbox_inches='tight')\n",
    "plt.show()"
   ]
  },
  {
   "cell_type": "code",
   "execution_count": null,
   "id": "ed47b39b",
   "metadata": {},
   "outputs": [],
   "source": [
    "ax = sns.heatmap(serdist_kspmu_mean_125pc, linewidth=0.)\n",
    "ax.invert_yaxis()\n",
    "ax.set_xlabel(\"Channel ID\")\n",
    "ax.set_ylabel(\"Link ID\")\n",
    "plt.savefig('figures/heatmap_125pc_uniform_kspmu.jpeg', dpi=300,bbox_inches='tight')\n",
    "plt.show()"
   ]
  },
  {
   "cell_type": "markdown",
   "id": "24d71719",
   "metadata": {},
   "source": [
    "**Look at service distribution after 25% of the episode:**"
   ]
  },
  {
   "cell_type": "code",
   "execution_count": null,
   "id": "4effc426",
   "metadata": {},
   "outputs": [],
   "source": [
    "ax = sns.heatmap(serdist_rl_mean_25pc, linewidth=0.)\n",
    "ax.invert_yaxis()\n",
    "ax.set_xlabel(\"Channel ID\")\n",
    "ax.set_ylabel(\"Link ID\")\n",
    "plt.savefig('figures/heatmap_25pc_'+exp_id+'.jpeg', dpi=300,bbox_inches='tight')\n",
    "plt.show()"
   ]
  },
  {
   "cell_type": "code",
   "execution_count": null,
   "id": "f0eed28b",
   "metadata": {},
   "outputs": [],
   "source": [
    "ax = sns.heatmap(serdist_kspff_mean_25pc, linewidth=0.)\n",
    "ax.invert_yaxis()\n",
    "ax.set_xlabel(\"Channel ID\")\n",
    "ax.set_ylabel(\"Link ID\")\n",
    "plt.savefig('figures/heatmap_25pc_uniform_kspff.jpeg', dpi=300,bbox_inches='tight')\n",
    "plt.show()"
   ]
  },
  {
   "cell_type": "code",
   "execution_count": null,
   "id": "0d8eb2ce",
   "metadata": {},
   "outputs": [],
   "source": [
    "ax = sns.heatmap(serdist_ffksp_mean_25pc, linewidth=0.)\n",
    "ax.invert_yaxis()\n",
    "ax.set_xlabel(\"Channel ID\")\n",
    "ax.set_ylabel(\"Link ID\")\n",
    "plt.savefig('figures/heatmap_25pc_uniform_ffksp.jpeg', dpi=300,bbox_inches='tight')\n",
    "plt.show()"
   ]
  },
  {
   "cell_type": "code",
   "execution_count": null,
   "id": "db5ddcf4",
   "metadata": {},
   "outputs": [],
   "source": [
    "ax = sns.heatmap(serdist_kspmu_mean_25pc, linewidth=0.)\n",
    "ax.invert_yaxis()\n",
    "ax.set_xlabel(\"Channel ID\")\n",
    "ax.set_ylabel(\"Link ID\")\n",
    "plt.savefig('figures/heatmap_25pc_uniform_kspmu.jpeg', dpi=300,bbox_inches='tight')\n",
    "plt.show()"
   ]
  },
  {
   "cell_type": "markdown",
   "id": "b9053965",
   "metadata": {},
   "source": [
    "**Look at service distribution after 35.7% of the episode**"
   ]
  },
  {
   "cell_type": "code",
   "execution_count": null,
   "id": "94e098d7",
   "metadata": {},
   "outputs": [],
   "source": [
    "ax = sns.heatmap(serdist_rl_mean_375pc, linewidth=0.)\n",
    "ax.invert_yaxis()\n",
    "ax.set_xlabel(\"Channel ID\")\n",
    "ax.set_ylabel(\"Link ID\")\n",
    "plt.savefig('figures/heatmap_375pc_'+exp_id+'.jpeg', dpi=300,bbox_inches='tight')\n",
    "plt.show()"
   ]
  },
  {
   "cell_type": "code",
   "execution_count": null,
   "id": "da19f4b1",
   "metadata": {},
   "outputs": [],
   "source": [
    "ax = sns.heatmap(serdist_kspff_mean_375pc, linewidth=0.)\n",
    "ax.invert_yaxis()\n",
    "ax.set_xlabel(\"Channel ID\")\n",
    "ax.set_ylabel(\"Link ID\")\n",
    "plt.savefig('figures/heatmap_375pc_uniform_kspff.jpeg', dpi=300,bbox_inches='tight')\n",
    "plt.show()"
   ]
  },
  {
   "cell_type": "code",
   "execution_count": null,
   "id": "9d9dd891",
   "metadata": {},
   "outputs": [],
   "source": [
    "ax = sns.heatmap(serdist_ffksp_mean_375pc, linewidth=0.)\n",
    "ax.invert_yaxis()\n",
    "ax.set_xlabel(\"Channel ID\")\n",
    "ax.set_ylabel(\"Link ID\")\n",
    "plt.savefig('figures/heatmap_375pc_uniform_ffksp.jpeg', dpi=300,bbox_inches='tight')\n",
    "plt.show()"
   ]
  },
  {
   "cell_type": "code",
   "execution_count": null,
   "id": "c37ace37",
   "metadata": {},
   "outputs": [],
   "source": [
    "ax = sns.heatmap(serdist_kspmu_mean_375pc, linewidth=0.)\n",
    "ax.invert_yaxis()\n",
    "ax.set_xlabel(\"Channel ID\")\n",
    "ax.set_ylabel(\"Link ID\")\n",
    "plt.savefig('figures/heatmap_375pc_uniform_kspmu.jpeg', dpi=300,bbox_inches='tight')\n",
    "plt.show()"
   ]
  },
  {
   "cell_type": "markdown",
   "id": "4ec05325",
   "metadata": {},
   "source": [
    "**Look at service distribution after 50% of the episode**"
   ]
  },
  {
   "cell_type": "code",
   "execution_count": null,
   "id": "a2a95918",
   "metadata": {},
   "outputs": [],
   "source": [
    "ax = sns.heatmap(serdist_rl_mean_50pc, linewidth=0.)\n",
    "ax.invert_yaxis()\n",
    "ax.set_xlabel(\"Channel ID\")\n",
    "ax.set_ylabel(\"Link ID\")\n",
    "plt.savefig('figures/heatmap_50pc'+exp_id+'.jpeg', dpi=300,bbox_inches='tight')\n",
    "plt.show()"
   ]
  },
  {
   "cell_type": "code",
   "execution_count": null,
   "id": "071e6064",
   "metadata": {},
   "outputs": [],
   "source": [
    "ax = sns.heatmap(serdist_kspff_mean_50pc, linewidth=0.)\n",
    "ax.invert_yaxis()\n",
    "ax.set_xlabel(\"Channel ID\")\n",
    "ax.set_ylabel(\"Link ID\")\n",
    "plt.savefig('figures/heatmap_50pc_uniform_kspff.jpeg', dpi=300,bbox_inches='tight')\n",
    "plt.show()"
   ]
  },
  {
   "cell_type": "code",
   "execution_count": null,
   "id": "83ffaed5",
   "metadata": {},
   "outputs": [],
   "source": [
    "ax = sns.heatmap(serdist_ffksp_mean_50pc, linewidth=0.)\n",
    "ax.invert_yaxis()\n",
    "ax.set_xlabel(\"Channel ID\")\n",
    "ax.set_ylabel(\"Link ID\")\n",
    "plt.savefig('figures/heatmap_50pc_uniform_ffksp.jpeg', dpi=300,bbox_inches='tight')\n",
    "plt.show()"
   ]
  },
  {
   "cell_type": "code",
   "execution_count": null,
   "id": "f6661076",
   "metadata": {},
   "outputs": [],
   "source": [
    "ax = sns.heatmap(serdist_kspmu_mean_50pc, linewidth=0.)\n",
    "ax.invert_yaxis()\n",
    "ax.set_xlabel(\"Channel ID\")\n",
    "ax.set_ylabel(\"Link ID\")\n",
    "plt.savefig('figures/heatmap_50pc_uniform_kspmu.jpeg', dpi=300,bbox_inches='tight')\n",
    "plt.show()"
   ]
  },
  {
   "cell_type": "markdown",
   "id": "23653519",
   "metadata": {},
   "source": [
    "**Look at service distribution after 62.5% of the episode**"
   ]
  },
  {
   "cell_type": "code",
   "execution_count": null,
   "id": "53ffd926",
   "metadata": {},
   "outputs": [],
   "source": [
    "ax = sns.heatmap(serdist_rl_mean_625pc, linewidth=0.)\n",
    "ax.invert_yaxis()\n",
    "ax.set_xlabel(\"Channel ID\")\n",
    "ax.set_ylabel(\"Link ID\")\n",
    "plt.savefig('figures/heatmap_625pc'+exp_id+'.jpeg', dpi=300,bbox_inches='tight')\n",
    "plt.show()"
   ]
  },
  {
   "cell_type": "code",
   "execution_count": null,
   "id": "81c9eb8a",
   "metadata": {},
   "outputs": [],
   "source": [
    "ax = sns.heatmap(serdist_kspff_mean_625pc, linewidth=0.)\n",
    "ax.invert_yaxis()\n",
    "ax.set_xlabel(\"Channel ID\")\n",
    "ax.set_ylabel(\"Link ID\")\n",
    "plt.savefig('figures/heatmap_625pc_uniform_kspff.jpeg', dpi=300,bbox_inches='tight')\n",
    "plt.show()"
   ]
  },
  {
   "cell_type": "code",
   "execution_count": null,
   "id": "b0b49669",
   "metadata": {},
   "outputs": [],
   "source": [
    "ax = sns.heatmap(serdist_ffksp_mean_625pc, linewidth=0.)\n",
    "ax.invert_yaxis()\n",
    "ax.set_xlabel(\"Channel ID\")\n",
    "ax.set_ylabel(\"Link ID\")\n",
    "plt.savefig('figures/heatmap_625pc_uniform_ffksp.jpeg', dpi=300,bbox_inches='tight')\n",
    "plt.show()"
   ]
  },
  {
   "cell_type": "code",
   "execution_count": null,
   "id": "ff9f4c15",
   "metadata": {},
   "outputs": [],
   "source": [
    "ax = sns.heatmap(serdist_kspmu_mean_625pc, linewidth=0.)\n",
    "ax.invert_yaxis()\n",
    "ax.set_xlabel(\"Channel ID\")\n",
    "ax.set_ylabel(\"Link ID\")\n",
    "plt.savefig('figures/heatmap_625pc_uniform_kspmu.jpeg', dpi=300,bbox_inches='tight')\n",
    "plt.show()"
   ]
  },
  {
   "cell_type": "markdown",
   "id": "f648def9",
   "metadata": {},
   "source": [
    "**Look at service distribution after 75% of the episode**"
   ]
  },
  {
   "cell_type": "code",
   "execution_count": null,
   "id": "462fe7c1",
   "metadata": {},
   "outputs": [],
   "source": [
    "ax = sns.heatmap(serdist_rl_mean_75pc, linewidth=0.)\n",
    "ax.invert_yaxis()\n",
    "ax.set_xlabel(\"Channel ID\")\n",
    "ax.set_ylabel(\"Link ID\")\n",
    "plt.savefig('figures/heatmap_75pc'+exp_id+'.jpeg', dpi=300,bbox_inches='tight')\n",
    "plt.show()"
   ]
  },
  {
   "cell_type": "code",
   "execution_count": null,
   "id": "20b33cbd",
   "metadata": {},
   "outputs": [],
   "source": [
    "ax = sns.heatmap(serdist_kspff_mean_75pc, linewidth=0.)\n",
    "ax.invert_yaxis()\n",
    "ax.set_xlabel(\"Channel ID\")\n",
    "ax.set_ylabel(\"Link ID\")\n",
    "plt.savefig('figures/heatmap_75pc_uniform_kspff.jpeg', dpi=300,bbox_inches='tight')\n",
    "plt.show()"
   ]
  },
  {
   "cell_type": "code",
   "execution_count": null,
   "id": "c48e3001",
   "metadata": {},
   "outputs": [],
   "source": [
    "ax = sns.heatmap(serdist_ffksp_mean_75pc, linewidth=0.)\n",
    "ax.invert_yaxis()\n",
    "ax.set_xlabel(\"Channel ID\")\n",
    "ax.set_ylabel(\"Link ID\")\n",
    "plt.savefig('figures/heatmap_75pc_uniform_ffksp.jpeg', dpi=300,bbox_inches='tight')\n",
    "plt.show()"
   ]
  },
  {
   "cell_type": "code",
   "execution_count": null,
   "id": "5987cad9",
   "metadata": {},
   "outputs": [],
   "source": [
    "ax = sns.heatmap(serdist_kspmu_mean_75pc, linewidth=0.)\n",
    "ax.invert_yaxis()\n",
    "ax.set_xlabel(\"Channel ID\")\n",
    "ax.set_ylabel(\"Link ID\")\n",
    "plt.savefig('figures/heatmap_75pc_uniform_kspmu.jpeg', dpi=300,bbox_inches='tight')\n",
    "plt.show()"
   ]
  },
  {
   "cell_type": "markdown",
   "id": "47ab3d4d",
   "metadata": {},
   "source": [
    "**Look at service distribution after 87.5% of the episode**"
   ]
  },
  {
   "cell_type": "code",
   "execution_count": null,
   "id": "7d8b6a27",
   "metadata": {},
   "outputs": [],
   "source": [
    "ax = sns.heatmap(serdist_rl_mean_875pc, linewidth=0.)\n",
    "ax.invert_yaxis()\n",
    "ax.set_xlabel(\"Channel ID\")\n",
    "ax.set_ylabel(\"Link ID\")\n",
    "plt.savefig('figures/heatmap_875pc'+exp_id+'.jpeg', dpi=300,bbox_inches='tight')\n",
    "plt.show()"
   ]
  },
  {
   "cell_type": "code",
   "execution_count": null,
   "id": "fd158bcf",
   "metadata": {},
   "outputs": [],
   "source": [
    "ax = sns.heatmap(serdist_kspff_mean_875pc, linewidth=0.)\n",
    "ax.invert_yaxis()\n",
    "ax.set_xlabel(\"Channel ID\")\n",
    "ax.set_ylabel(\"Link ID\")\n",
    "plt.savefig('figures/heatmap_875pc_uniform_kspff.jpeg', dpi=300,bbox_inches='tight')\n",
    "plt.show()"
   ]
  },
  {
   "cell_type": "code",
   "execution_count": null,
   "id": "e312e874",
   "metadata": {},
   "outputs": [],
   "source": [
    "ax = sns.heatmap(serdist_ffksp_mean_875pc, linewidth=0.)\n",
    "ax.invert_yaxis()\n",
    "ax.set_xlabel(\"Channel ID\")\n",
    "ax.set_ylabel(\"Link ID\")\n",
    "plt.savefig('figures/heatmap_875pc_uniform_ffksp.jpeg', dpi=300,bbox_inches='tight')\n",
    "plt.show()"
   ]
  },
  {
   "cell_type": "code",
   "execution_count": null,
   "id": "2d0c8fd7",
   "metadata": {},
   "outputs": [],
   "source": [
    "ax = sns.heatmap(serdist_kspmu_mean_875pc, linewidth=0.)\n",
    "ax.invert_yaxis()\n",
    "ax.set_xlabel(\"Channel ID\")\n",
    "ax.set_ylabel(\"Link ID\")\n",
    "plt.savefig('figures/heatmap_875pc_uniform_kspmu.jpeg', dpi=300,bbox_inches='tight')\n",
    "plt.show()"
   ]
  },
  {
   "cell_type": "markdown",
   "id": "3b1e8b63",
   "metadata": {},
   "source": [
    "**Service distribution at the end of the episode:**"
   ]
  },
  {
   "cell_type": "code",
   "execution_count": null,
   "id": "350533e9",
   "metadata": {},
   "outputs": [],
   "source": [
    "ax = sns.heatmap(serdist_rl_mean, linewidth=0.)\n",
    "ax.invert_yaxis()\n",
    "ax.set_xlabel(\"Channel ID\")\n",
    "ax.set_ylabel(\"Link ID\")\n",
    "plt.savefig('figures/heatmap'+exp_id+'.jpeg', dpi=300,bbox_inches='tight')\n",
    "plt.show()"
   ]
  },
  {
   "cell_type": "code",
   "execution_count": null,
   "id": "8ed135e1",
   "metadata": {},
   "outputs": [],
   "source": [
    "ax = sns.heatmap(serdist_kspff_mean, linewidth=0.)\n",
    "ax.invert_yaxis()\n",
    "ax.set_xlabel(\"Channel ID\")\n",
    "ax.set_ylabel(\"Link ID\")\n",
    "plt.savefig('figures/heatmap_uniform_kspff.jpeg', dpi=300,bbox_inches='tight')\n",
    "plt.show()"
   ]
  },
  {
   "cell_type": "code",
   "execution_count": null,
   "id": "f7628b5d",
   "metadata": {},
   "outputs": [],
   "source": [
    "ax = sns.heatmap(serdist_ffksp_mean, linewidth=0.)\n",
    "ax.invert_yaxis()\n",
    "ax.set_xlabel(\"Channel ID\")\n",
    "ax.set_ylabel(\"Link ID\")\n",
    "plt.savefig('figures/heatmap_uniform_ffksp.jpeg', dpi=300,bbox_inches='tight')\n",
    "plt.show()"
   ]
  },
  {
   "cell_type": "code",
   "execution_count": null,
   "id": "936acea3",
   "metadata": {},
   "outputs": [],
   "source": [
    "ax = sns.heatmap(serdist_kspmu_mean, linewidth=0.)\n",
    "ax.invert_yaxis()\n",
    "ax.set_xlabel(\"Channel ID\")\n",
    "ax.set_ylabel(\"Link ID\")\n",
    "plt.savefig('figures/heatmap_uniform_kspmu.jpeg', dpi=300,bbox_inches='tight')\n",
    "plt.show()"
   ]
  },
  {
   "cell_type": "markdown",
   "id": "9f5fb9f8",
   "metadata": {},
   "source": [
    "**Look at distribution across the channels - is it uniform?**"
   ]
  },
  {
   "cell_type": "code",
   "execution_count": 101,
   "id": "e69ec458",
   "metadata": {},
   "outputs": [],
   "source": [
    "mean_channel_dist_125pc = np.mean(serdist_rl_mean_125pc, axis=0) / np.max(np.mean(serdist_rl_mean_125pc, axis=0))\n",
    "mean_channel_dist_25pc = np.mean(serdist_rl_mean_25pc, axis=0) / np.max(np.mean(serdist_rl_mean_25pc, axis=0))\n",
    "mean_channel_dist_375pc = np.mean(serdist_rl_mean_375pc, axis=0) / np.max(np.mean(serdist_rl_mean_375pc, axis=0))\n",
    "mean_channel_dist_50pc = np.mean(serdist_rl_mean_50pc, axis=0) / np.max(np.mean(serdist_rl_mean_50pc, axis=0))\n",
    "mean_channel_dist_625pc = np.mean(serdist_rl_mean_625pc, axis=0) / np.max(np.mean(serdist_rl_mean_625pc, axis=0))\n",
    "mean_channel_dist_75pc = np.mean(serdist_rl_mean_75pc, axis=0) / np.max(np.mean(serdist_rl_mean_75pc, axis=0))\n",
    "mean_channel_dist_875pc = np.mean(serdist_rl_mean_875pc, axis=0) / np.max(np.mean(serdist_rl_mean_875pc, axis=0))\n",
    "mean_channel_dist = np.mean(serdist_rl_mean, axis=0) / np.max(np.mean(serdist_rl_mean, axis=0))"
   ]
  },
  {
   "cell_type": "code",
   "execution_count": 102,
   "id": "a4693a50",
   "metadata": {},
   "outputs": [],
   "source": [
    "mean_channel_dist_ffksp_125pc = np.mean(serdist_ffksp_mean_125pc, axis=0) / np.max(np.mean(serdist_ffksp_mean_125pc, axis=0))\n",
    "mean_channel_dist_kspff_125pc = np.mean(serdist_kspff_mean_125pc, axis=0) / np.max(np.mean(serdist_kspff_mean_125pc, axis=0))\n",
    "mean_channel_dist_kspmu_125pc = np.mean(serdist_kspmu_mean_125pc, axis=0) / np.max(np.mean(serdist_kspmu_mean_125pc, axis=0))\n",
    "mean_channel_dist_ffksp_25pc = np.mean(serdist_ffksp_mean_25pc, axis=0) / np.max(np.mean(serdist_ffksp_mean_25pc, axis=0))\n",
    "mean_channel_dist_kspff_25pc = np.mean(serdist_kspff_mean_25pc, axis=0) / np.max(np.mean(serdist_kspff_mean_25pc, axis=0))\n",
    "mean_channel_dist_kspmu_25pc = np.mean(serdist_kspmu_mean_25pc, axis=0) / np.max(np.mean(serdist_kspmu_mean_25pc, axis=0))\n",
    "mean_channel_dist_ffksp = np.mean(serdist_ffksp_mean, axis=0) / np.max(np.mean(serdist_ffksp_mean, axis=0))\n",
    "mean_channel_dist_kspff = np.mean(serdist_kspff_mean, axis=0) / np.max(np.mean(serdist_kspff_mean, axis=0))\n",
    "mean_channel_dist_kspmu = np.mean(serdist_kspmu_mean, axis=0) / np.max(np.mean(serdist_kspmu_mean, axis=0))"
   ]
  },
  {
   "cell_type": "code",
   "execution_count": 103,
   "id": "3a197b9f",
   "metadata": {},
   "outputs": [
    {
     "data": {
      "image/png": "[encoded data removed]",
      "text/plain": [
       "<Figure size 432x288 with 1 Axes>"
      ]
     },
     "metadata": {
      "needs_background": "light"
     },
     "output_type": "display_data"
    }
   ],
   "source": [
    "plt.plot(mean_channel_dist_125pc, 'x', label='RL')\n",
    "plt.plot(mean_channel_dist_kspff_125pc, '+', label='kSP-FF')\n",
    "plt.plot(mean_channel_dist_ffksp_125pc, '.', label='FF-kSP')\n",
    "plt.plot(mean_channel_dist_kspmu_125pc, '*', label='kSP-MU')\n",
    "plt.legend(ncol=2)\n",
    "plt.xlabel(\"Channel ID\")\n",
    "plt.ylabel(\"Normalised number of services\")\n",
    "# plt.savefig('figures/channel_distribution_comp_125pc', dpi=500,bbox_inches='tight')\n",
    "plt.show() "
   ]
  },
  {
   "cell_type": "code",
   "execution_count": 104,
   "id": "65237535",
   "metadata": {},
   "outputs": [
    {
     "data": {
      "image/png": "[encoded data removed]",
      "text/plain": [
       "<Figure size 432x288 with 1 Axes>"
      ]
     },
     "metadata": {
      "needs_background": "light"
     },
     "output_type": "display_data"
    }
   ],
   "source": [
    "plt.plot(mean_channel_dist_25pc, 'x', label='RL')\n",
    "plt.plot(mean_channel_dist_kspff_25pc, '+', label='kSP-FF')\n",
    "plt.plot(mean_channel_dist_ffksp_25pc, '.', label='FF-kSP')\n",
    "plt.plot(mean_channel_dist_kspmu_25pc, '*', label='kSP-MU')\n",
    "plt.legend(ncol=2)\n",
    "plt.xlabel(\"Channel ID\")\n",
    "plt.ylabel(\"Normalised number of services\")\n",
    "plt.savefig('figures/channel_distribution_comp_25pc', dpi=500,bbox_inches='tight')\n",
    "plt.show() "
   ]
  },
  {
   "cell_type": "code",
   "execution_count": 105,
   "id": "8246b152",
   "metadata": {},
   "outputs": [
    {
     "data": {
      "image/png": "[encoded data removed]",
      "text/plain": [
       "<Figure size 432x288 with 1 Axes>"
      ]
     },
     "metadata": {
      "needs_background": "light"
     },
     "output_type": "display_data"
    }
   ],
   "source": [
    "plt.plot(mean_channel_dist, 'x', label='RL')\n",
    "plt.plot(mean_channel_dist_kspff, '+', label='kSP-FF')\n",
    "plt.plot(mean_channel_dist_ffksp, '.', label='FF-kSP')\n",
    "plt.plot(mean_channel_dist_kspmu, '*', label='kSP-MU')\n",
    "plt.legend(ncol=2)\n",
    "plt.xlabel(\"Channel ID\")\n",
    "plt.ylabel(\"Normalised number of services\")\n",
    "plt.savefig('figures/channel_distribution_comp', dpi=500,bbox_inches='tight')\n",
    "plt.show() "
   ]
  },
  {
   "cell_type": "code",
   "execution_count": 38,
   "id": "f9aff2c4",
   "metadata": {},
   "outputs": [
    {
     "name": "stdout",
     "output_type": "stream",
     "text": [
      "0.09737882052991405\n",
      "0.10510227709456843\n",
      "0.07973139361544469\n",
      "0.08925654663635565\n"
     ]
    }
   ],
   "source": [
    "print(np.std(mean_channel_dist))\n",
    "print(np.std(mean_channel_dist_kspff))\n",
    "print(np.std(mean_channel_dist_kspmu))\n",
    "print(np.std(mean_channel_dist_ffksp))"
   ]
  },
  {
   "cell_type": "markdown",
   "id": "f44cd095",
   "metadata": {},
   "source": [
    "**Look at distribution across links**"
   ]
  },
  {
   "cell_type": "code",
   "execution_count": 108,
   "id": "2a2da705",
   "metadata": {},
   "outputs": [],
   "source": [
    "mean_link_dist_125pc = np.mean(serdist_rl_mean_125pc, axis=1) / np.max(np.mean(serdist_rl_mean_125pc, axis=1))\n",
    "mean_link_dist_25pc = np.mean(serdist_rl_mean_25pc, axis=1) / np.max(np.mean(serdist_rl_mean_25pc, axis=1))\n",
    "mean_link_dist = np.mean(serdist_rl_mean, axis=1) / np.max(np.mean(serdist_rl_mean, axis=1))"
   ]
  },
  {
   "cell_type": "code",
   "execution_count": 111,
   "id": "622fae4f",
   "metadata": {},
   "outputs": [],
   "source": [
    "mean_link_dist_ffksp_125pc = np.mean(serdist_ffksp_mean_125pc, axis=1) / np.max(np.mean(serdist_ffksp_mean_125pc, axis=1))\n",
    "mean_link_dist_kspff_125pc = np.mean(serdist_kspff_mean_125pc, axis=1) / np.max(np.mean(serdist_kspff_mean_125pc, axis=1))\n",
    "mean_link_dist_kspmu_125pc = np.mean(serdist_kspmu_mean_125pc, axis=1) / np.max(np.mean(serdist_kspmu_mean_125pc, axis=1))\n",
    "mean_link_dist_ffksp_25pc = np.mean(serdist_ffksp_mean_25pc, axis=1) / np.max(np.mean(serdist_ffksp_mean_25pc, axis=1))\n",
    "mean_link_dist_kspff_25pc = np.mean(serdist_kspff_mean_25pc, axis=1) / np.max(np.mean(serdist_kspff_mean_25pc, axis=1))\n",
    "mean_link_dist_kspmu_25pc = np.mean(serdist_kspmu_mean_25pc, axis=1) / np.max(np.mean(serdist_kspmu_mean_25pc, axis=1))\n",
    "mean_link_dist_ffksp = np.mean(serdist_ffksp_mean, axis=1) / np.max(np.mean(serdist_ffksp_mean, axis=1))\n",
    "mean_link_dist_kspff = np.mean(serdist_kspff_mean, axis=1) / np.max(np.mean(serdist_kspff_mean, axis=1))\n",
    "mean_link_dist_kspmu = np.mean(serdist_kspmu_mean, axis=1) / np.max(np.mean(serdist_kspmu_mean, axis=1))"
   ]
  },
  {
   "cell_type": "markdown",
   "id": "a7bd10c1",
   "metadata": {},
   "source": [
    "MAE of link distribution for RL vs heuristics - very different to FF-kSP at the start, similar at the end..."
   ]
  },
  {
   "cell_type": "code",
   "execution_count": 139,
   "id": "71c57f99",
   "metadata": {},
   "outputs": [
    {
     "name": "stdout",
     "output_type": "stream",
     "text": [
      "0.25132878279074294\n",
      "0.04602490560843608\n",
      "0.08043849285032943\n",
      "0.0374748391058462\n",
      "0.08044573030328896\n",
      "0.04571236604631053\n"
     ]
    }
   ],
   "source": [
    "print(np.mean(abs(mean_link_dist_25pc - mean_link_dist_ffksp_25pc)))\n",
    "print(np.mean(abs(mean_link_dist - mean_link_dist_ffksp)))\n",
    "print(np.mean(abs(mean_link_dist_25pc - mean_link_dist_kspff_25pc)))\n",
    "print(np.mean(abs(mean_link_dist - mean_link_dist_kspff)))\n",
    "print(np.mean(abs(mean_link_dist_25pc - mean_link_dist_kspmu_25pc)))\n",
    "print(np.mean(abs(mean_link_dist - mean_link_dist_kspmu)))"
   ]
  },
  {
   "cell_type": "code",
   "execution_count": 131,
   "id": "5f280620",
   "metadata": {},
   "outputs": [
    {
     "data": {
      "image/png": "[encoded data removed]",
      "text/plain": [
       "<Figure size 432x288 with 1 Axes>"
      ]
     },
     "metadata": {
      "needs_background": "light"
     },
     "output_type": "display_data"
    }
   ],
   "source": [
    "link_ids = np.arange(1,23,1)\n",
    "plt.plot(link_ids, mean_link_dist_125pc, 'x', label='RL')\n",
    "plt.plot(link_ids, mean_link_dist_kspff_125pc, '+', label='kSP-FF')\n",
    "plt.plot(link_ids, mean_link_dist_ffksp_125pc, '.', label='FF-kSP')\n",
    "plt.plot(link_ids, mean_link_dist_kspmu_125pc, '*', label='kSP-MU')\n",
    "plt.legend(ncol=2)\n",
    "plt.xlabel(\"Link ID\")\n",
    "plt.ylabel(\"Normalised number of services\")\n",
    "plt.xlim([0,23])\n",
    "# plt.savefig('figures/link_distribution_comp_125pc', dpi=500,bbox_inches='tight')\n",
    "plt.show() "
   ]
  },
  {
   "cell_type": "code",
   "execution_count": 129,
   "id": "9e145c10",
   "metadata": {},
   "outputs": [
    {
     "data": {
      "image/png": "[encoded data removed]",
      "text/plain": [
       "<Figure size 432x288 with 1 Axes>"
      ]
     },
     "metadata": {
      "needs_background": "light"
     },
     "output_type": "display_data"
    }
   ],
   "source": [
    "link_ids = np.arange(1,23,1)\n",
    "plt.plot(link_ids, mean_link_dist_25pc, 'x', label='RL')\n",
    "plt.plot(link_ids, mean_link_dist_kspff_25pc, '+', label='kSP-FF')\n",
    "plt.plot(link_ids, mean_link_dist_ffksp_25pc, '.', label='FF-kSP')\n",
    "plt.plot(link_ids, mean_link_dist_kspmu_25pc, '*', label='kSP-MU')\n",
    "plt.legend(ncol=2)\n",
    "plt.xlabel(\"Link ID\")\n",
    "plt.ylabel(\"Normalised number of services\")\n",
    "plt.xlim([0,23])\n",
    "plt.savefig('figures/link_distribution_comp_25pc', dpi=500,bbox_inches='tight')\n",
    "plt.show() "
   ]
  },
  {
   "cell_type": "code",
   "execution_count": 128,
   "id": "8bce0057",
   "metadata": {},
   "outputs": [
    {
     "data": {
      "image/png": "[encoded data removed]",
      "text/plain": [
       "<Figure size 432x288 with 1 Axes>"
      ]
     },
     "metadata": {
      "needs_background": "light"
     },
     "output_type": "display_data"
    }
   ],
   "source": [
    "link_ids = np.arange(1,23,1)\n",
    "plt.plot(link_ids, mean_link_dist, 'x', label='RL')\n",
    "plt.plot(link_ids, mean_link_dist_kspff, '+', label='kSP-FF')\n",
    "plt.plot(link_ids, mean_link_dist_ffksp, '.', label='FF-kSP')\n",
    "plt.plot(link_ids, mean_link_dist_kspmu, '*', label='kSP-MU')\n",
    "plt.legend(ncol=2)\n",
    "plt.xlabel(\"Link ID\")\n",
    "plt.ylabel(\"Normalised number of services\")\n",
    "plt.xlim([0,23])\n",
    "# plt.grid()\n",
    "plt.savefig('figures/link_distribution_comp', dpi=500,bbox_inches='tight')\n",
    "plt.show() "
   ]
  },
  {
   "cell_type": "code",
   "execution_count": null,
   "id": "81cc32eb",
   "metadata": {},
   "outputs": [],
   "source": [
    "# serdist_rl_mean_25pc[0]/np.max(serdist_rl_mean_25pc[0])"
   ]
  },
  {
   "cell_type": "code",
   "execution_count": null,
   "id": "700f4082",
   "metadata": {},
   "outputs": [],
   "source": [
    "plt.plot(np.random.uniform(min(mean_channel_dist_125pc),max(mean_channel_dist_125pc),100), '+')\n",
    "plt.plot(mean_channel_dist_125pc, 'x')\n",
    "plt.show() "
   ]
  },
  {
   "cell_type": "code",
   "execution_count": null,
   "id": "a7522537",
   "metadata": {},
   "outputs": [],
   "source": [
    "plt.plot(np.random.uniform(min(mean_channel_dist_25pc),max(mean_channel_dist_25pc),100), '+')\n",
    "plt.plot(mean_channel_dist_25pc, 'x')\n",
    "plt.show() "
   ]
  },
  {
   "cell_type": "code",
   "execution_count": null,
   "id": "06d7f22f",
   "metadata": {},
   "outputs": [],
   "source": [
    "plt.plot(np.random.uniform(min(mean_channel_dist_375pc),max(mean_channel_dist_375pc),100), '+')\n",
    "plt.plot(mean_channel_dist_375pc, 'x')\n",
    "plt.show() "
   ]
  },
  {
   "cell_type": "code",
   "execution_count": null,
   "id": "3728a085",
   "metadata": {},
   "outputs": [],
   "source": [
    "plt.plot(np.random.uniform(min(mean_channel_dist_50pc),max(mean_channel_dist_50pc),100), '+')\n",
    "plt.plot(mean_channel_dist_50pc, 'x')\n",
    "plt.show()"
   ]
  },
  {
   "cell_type": "code",
   "execution_count": null,
   "id": "c448ed50",
   "metadata": {},
   "outputs": [],
   "source": [
    "plt.plot(np.random.uniform(min(mean_channel_dist_625pc),max(mean_channel_dist_625pc),100), '+')\n",
    "plt.plot(mean_channel_dist_625pc, 'x')\n",
    "plt.show() "
   ]
  },
  {
   "cell_type": "code",
   "execution_count": null,
   "id": "8704cf01",
   "metadata": {},
   "outputs": [],
   "source": [
    "plt.plot(np.random.uniform(min(mean_channel_dist_75pc),max(mean_channel_dist_75pc),100), '+')\n",
    "plt.plot(mean_channel_dist_75pc, 'x')\n",
    "plt.show()"
   ]
  },
  {
   "cell_type": "code",
   "execution_count": null,
   "id": "9f8dd7e3",
   "metadata": {},
   "outputs": [],
   "source": [
    "plt.plot(np.random.uniform(min(mean_channel_dist_875pc),max(mean_channel_dist_875pc),100), '+')\n",
    "plt.plot(mean_channel_dist_875pc, 'x')\n",
    "plt.show() "
   ]
  },
  {
   "cell_type": "code",
   "execution_count": null,
   "id": "8e71f14f",
   "metadata": {},
   "outputs": [],
   "source": [
    "plt.plot(np.random.uniform(min(mean_channel_dist),max(mean_channel_dist),100), '+')\n",
    "plt.plot(mean_channel_dist, 'x')\n",
    "plt.show()"
   ]
  },
  {
   "cell_type": "code",
   "execution_count": null,
   "id": "c905b4a7",
   "metadata": {},
   "outputs": [],
   "source": [
    "kl_div(mean_channel_dist, np.random.uniform(0,100,100))"
   ]
  },
  {
   "cell_type": "markdown",
   "id": "d10f30f8",
   "metadata": {},
   "source": [
    "Mapping of topology to edge indices and then to length ordered edge indices:  \n",
    "S D Length Original length-ordered  \n",
    "1 2 1000 -->   0  --> 14  \n",
    "1 3 1500 -->   1  --> 17  \n",
    "1 8 2400 -->   2  --> 21  \n",
    "2 3 600  -->   3   --> 7  \n",
    "2 4 700  -->   4   --> 12  \n",
    "3 6 1800 -->   5   --> 19  \n",
    "4 5 600  -->   6   --> 6  \n",
    "4 11 1900-->   7   --> 20  \n",
    "5 6 1200 -->   8   --> 15  \n",
    "5 7 600  -->   9   --> 5  \n",
    "6 10 1000-->   10  --> 13  \n",
    "6 14 1800-->   11  --> 18  \n",
    "7 8 700  -->   12  --> 11  \n",
    "7 10 1300-->   13  --> 16  \n",
    "8 9 700  -->   14  --> 10  \n",
    "9 10 700 -->   15  --> 9  \n",
    "9 12 300 -->   16  --> 3  \n",
    "9 13 300 -->   17  --> 2  \n",
    "11 12 600-->   18  --> 4  \n",
    "11 13 700-->   19  --> 8  \n",
    "12 14 300-->   20  --> 1  \n",
    "13 14 100-->   21  --> 0  "
   ]
  },
  {
   "cell_type": "code",
   "execution_count": null,
   "id": "120bd564",
   "metadata": {},
   "outputs": [],
   "source": [
    "len_ordered_edge_inds = [21,20,17,16,18,9,6,3,19,15,14,12,4,10,0,8,13,1,11,5,7,2]\n",
    "len(len_ordered_edge_inds)"
   ]
  },
  {
   "cell_type": "markdown",
   "id": "76fd89ee",
   "metadata": {},
   "source": [
    "Calculate average over multiple runs"
   ]
  },
  {
   "cell_type": "code",
   "execution_count": null,
   "id": "3af017eb",
   "metadata": {},
   "outputs": [],
   "source": [
    "exp_id_r1 = \"2022-03-07v7nsfU100G\"\n",
    "exp_id_r2 = \"2022-03-07v7nsfU100GR2\"\n",
    "exp_id_r3 = \"2022-03-07v7nsfU100GR3\"\n",
    "exp_id_r4 = \"2022-03-07v7nsfU100GR4\"\n",
    "exp_id_r5 = \"2022-03-07v7nsfU100GR5\"\n",
    "\n",
    "R1_mean = pickle.load(open(\"results/\"+exp_id_r1+\"_mean.pkl\",'rb'))\n",
    "R2_mean = pickle.load(open(\"results/\"+exp_id_r2+\"_mean.pkl\",'rb'))\n",
    "R3_mean = pickle.load(open(\"results/\"+exp_id_r3+\"_mean.pkl\",'rb'))\n",
    "R4_mean = pickle.load(open(\"results/\"+exp_id_r4+\"_mean.pkl\",'rb'))\n",
    "# R5_mean = pickle.load(open(\"results/\"+exp_id_r5+\"_mean.pkl\",'rb'))\n",
    "ave_mean = np.mean([R1_mean,R2_mean,R3_mean,R4_mean])\n",
    "R1_median = pickle.load(open(\"results/\"+exp_id_r1+\"_median.pkl\",'rb'))\n",
    "R2_median = pickle.load(open(\"results/\"+exp_id_r2+\"_median.pkl\",'rb'))\n",
    "R3_median = pickle.load(open(\"results/\"+exp_id_r3+\"_median.pkl\",'rb'))\n",
    "R4_median = pickle.load(open(\"results/\"+exp_id_r4+\"_median.pkl\",'rb'))\n",
    "# R5_median = pickle.load(open(\"results/\"+exp_id_r5+\"_median.pkl\",'rb'))\n",
    "ave_median = np.mean([R1_median,R2_median,R3_median,R4_median])\n",
    "R1_std = pickle.load(open(\"results/\"+exp_id_r1+\"_std.pkl\",'rb'))\n",
    "R2_std = pickle.load(open(\"results/\"+exp_id_r2+\"_std.pkl\",'rb'))\n",
    "R3_std = pickle.load(open(\"results/\"+exp_id_r3+\"_std.pkl\",'rb'))\n",
    "R4_std = pickle.load(open(\"results/\"+exp_id_r4+\"_std.pkl\",'rb'))\n",
    "# R5_std = pickle.load(open(\"results/\"+exp_id_r5+\"_std.pkl\",'rb'))\n",
    "ave_std = np.mean([R1_std,R2_std,R3_std,R4_std])"
   ]
  },
  {
   "cell_type": "code",
   "execution_count": null,
   "id": "a1c326c5",
   "metadata": {},
   "outputs": [],
   "source": [
    "print(\"Mean:\",ave_mean)\n",
    "print(\"Median:\",ave_median)\n",
    "print(\"Std:\",ave_std)"
   ]
  },
  {
   "cell_type": "markdown",
   "id": "45ee32f2",
   "metadata": {},
   "source": [
    "Plotting for multiple RL agents:"
   ]
  },
  {
   "cell_type": "code",
   "execution_count": null,
   "id": "87795532",
   "metadata": {},
   "outputs": [],
   "source": [
    "current_directory = os.getcwd()\n",
    "\n",
    "exp_id_m_u = \"2022-03-10v45nsfU100GR2\"  \n",
    "exp_id_nm_u = \"2022-03-15v45nsfU100GnomaskR3\"\n",
    "\n",
    "exp_id_m_nu = \"2022-03-15v45nsfUp5100GR3\"\n",
    "exp_id_nm_nu = \"2022-03-16v45nsfUp50100GnomaskR5\"  \n",
    "\n",
    "eval_name = \"_no_tfb\"\n",
    "route_dir = \"/Users/joshnevin/RL_FOCSLab/tmp/RWAFOCS-ppo/\"\n",
    "eval_dir_m_u = route_dir+exp_id_m_u+\"/_core_0/eval_results\"+eval_name\n",
    "eval_dir_nm_u = route_dir+exp_id_nm_u+\"/_core_0/eval_results\"+eval_name\n",
    "eval_dir_m_nu = route_dir+exp_id_m_nu+\"/_core_0/eval_results\"+eval_name\n",
    "eval_dir_nm_nu = route_dir+exp_id_nm_nu+\"/_core_0/eval_results\"+eval_name"
   ]
  },
  {
   "cell_type": "code",
   "execution_count": null,
   "id": "313597ed",
   "metadata": {},
   "outputs": [],
   "source": [
    "rewards_rl_m_u, eval_eps_rl_m_u, sim_time_rl_m_u, services_accepted_ep_rl_m_u, services_processed_ep_rl_m_u, services_accepted_rl_m_u, services_processed_rl_m_u, throughput_rl_m_u = get_info(eval_dir_m_u, 'rl', False)\n",
    "rewards_rl_nm_u, eval_eps_rl_nm_u, sim_time_rl_nm_u, services_accepted_ep_rl_nm_u, services_processed_ep_rl_nm_u, services_accepted_rl_nm_u, services_processed_rl_nm_u, throughput_rl_nm_u = get_info(eval_dir_nm_u, 'rl', False)\n",
    "rewards_rl_m_nu, eval_eps_rl_m_nu, sim_time_rl_m_nu, services_accepted_ep_rl_m_nu, services_processed_ep_rl_m_nu, services_accepted_rl_m_nu, services_processed_rl_m_nu, throughput_rl_m_nu = get_info(eval_dir_m_nu, 'rl', False)\n",
    "rewards_rl_nm_nu, eval_eps_rl_nm_nu, sim_time_rl_nm_nu, services_accepted_ep_rl_nm_nu, services_processed_ep_rl_nm_nu, services_accepted_rl_nm_nu, services_processed_rl_nm_nu, throughput_rl_nm_nu = get_info(eval_dir_nm_nu, 'rl', False)"
   ]
  },
  {
   "cell_type": "code",
   "execution_count": null,
   "id": "e4c0be28",
   "metadata": {},
   "outputs": [],
   "source": [
    "f, ax_1 = plt.subplots()\n",
    "dict_plt_m = {'IAM RL':services_accepted_ep_rl_m_u}\n",
    "dict_plt_nm = {'Standard RL':services_accepted_ep_rl_nm_u}\n",
    "plt.boxplot(dict_plt_m.values(),showfliers=False,showmeans=True)\n",
    "\n",
    "\n",
    "ax_2 = ax_1.twinx() \n",
    "plt.boxplot(dict_plt_nm.values(),showfliers=False,showmeans=True)\n",
    "\n",
    "# ax_1.set_xticklabels(dict_plt_m.keys())\n",
    "# ax_2.set_xticklabels(dict_plt_nm.keys())\n",
    "\n",
    "plt.ylabel(\"Services accepted\")\n",
    "# ax.set_aspect(1.0/ax.get_data_ratio(), adjustable='box')\n",
    "f.patch.set_facecolor('w')\n",
    "plt.grid()\n",
    "# plt.savefig('figures/masked_vs_unmasked_nonuniform_boxplot.png', dpi=500,bbox_inches='tight')\n",
    "# plt.savefig('figures/masked_vs_unmasked_uniform_boxplot.png', dpi=500,bbox_inches='tight')\n",
    "# plt.savefig('figures/masked_vs_unmasked_both_traffic_boxplot.png', dpi=500,bbox_inches='tight')\n",
    "plt.show()"
   ]
  },
  {
   "cell_type": "code",
   "execution_count": null,
   "id": "8cbdea88",
   "metadata": {},
   "outputs": [],
   "source": [
    "f, ax = plt.subplots()\n",
    "dict_plt = {'IAM RL U':services_accepted_ep_rl_m_u,'Stan. RL U':services_accepted_ep_rl_nm_u,\n",
    "                'IAM RL non-U':services_accepted_ep_rl_m_nu,'Stan. RL non-U':services_accepted_ep_rl_nm_nu}\n",
    "bp = plt.boxplot(dict_plt.values(),showfliers=False,showmeans=True)\n",
    "ax.set_xticklabels(dict_plt.keys())\n",
    "plt.ylabel(\"Services accepted\")\n",
    "# ax.set_aspect(1.0/ax.get_data_ratio(), adjustable='box')\n",
    "f.patch.set_facecolor('w')\n",
    "plt.grid()\n",
    "# plt.savefig('figures/masked_vs_unmasked_nonuniform_boxplot.png', dpi=500,bbox_inches='tight')\n",
    "# plt.savefig('figures/masked_vs_unmasked_uniform_boxplot.png', dpi=500,bbox_inches='tight')\n",
    "plt.savefig('figures/masked_vs_unmasked_both_traffic_boxplot.png', dpi=500,bbox_inches='tight')\n",
    "plt.show()"
   ]
  },
  {
   "cell_type": "code",
   "execution_count": null,
   "id": "3b26a31f",
   "metadata": {},
   "outputs": [],
   "source": [
    "topology = 'nsfnet'\n",
    "f, ax = plt.subplots()\n",
    "bp = dict_plt = {'kSP-FF':services_accepted_ep_kspff,'kSP-MU':services_accepted_ep_kspmu,'FF-kSP':services_accepted_ep_ffksp,\n",
    "            'RL':services_accepted_ep_rl_1}\n",
    "bp = plt.boxplot(dict_plt.values(),showfliers=False,showmeans=True)\n",
    "ax.set_xticklabels(dict_plt.keys())\n",
    "plt.ylabel(\"Services accepted\")\n",
    "# ax.set_aspect(1.0/ax.get_data_ratio(), adjustable='box')\n",
    "f.patch.set_facecolor('w')\n",
    "# plt.legend([bp[\"boxes\"][0]], ['A'], loc='upper right')\n",
    "plt.grid()\n",
    "#plt.savefig('figures/servicesaccepted_bestresults'+topology+eval_name_plot+'modelA.png', dpi=500,bbox_inches='tight')\n",
    "plt.show()"
   ]
  },
  {
   "cell_type": "code",
   "execution_count": null,
   "id": "45270b2f",
   "metadata": {},
   "outputs": [],
   "source": [
    "medians = [item.get_ydata()[0] for item in bp['medians']]\n",
    "means = [item.get_ydata()[0] for item in bp['means']]\n",
    "print(f'Medians: {medians}\\n'\n",
    "      f'Means:   {means}')"
   ]
  },
  {
   "cell_type": "code",
   "execution_count": null,
   "id": "737ca830",
   "metadata": {},
   "outputs": [],
   "source": [
    "minimums = [round(item.get_ydata()[0], 1) for item in bp['caps']][::2]\n",
    "maximums = [round(item.get_ydata()[0], 1) for item in bp['caps']][1::2]\n",
    "print(f'Minimums: {minimums}\\n'\n",
    "      f'Maximums: {maximums}')\n",
    "q1 = [round(min(item.get_ydata()), 1) for item in bp['boxes']]\n",
    "q3 = [round(max(item.get_ydata()), 1) for item in bp['boxes']]\n",
    "# print(f'Q1: {q1}\\n'\n",
    "#       f'Q3: {q3}')\n",
    "IQR = [q3[i] - q1[i] for i in range(len(q1))]\n",
    "print(IQR)"
   ]
  },
  {
   "cell_type": "markdown",
   "id": "672d5ec8",
   "metadata": {},
   "source": [
    "Timing results"
   ]
  },
  {
   "cell_type": "code",
   "execution_count": null,
   "id": "ed63cb68",
   "metadata": {},
   "outputs": [],
   "source": [
    "rl_time = pickle.load(open(\"/Users/joshnevin/RL_FOCSLab/eval_timing/\"+exp_id+\"_RL.pkl\", 'rb'))\n",
    "kspff_time = pickle.load(open(\"/Users/joshnevin/RL_FOCSLab/eval_timing/\"+exp_id+\"_kspff.pkl\", 'rb'))\n",
    "ffksp_time = pickle.load(open(\"/Users/joshnevin/RL_FOCSLab/eval_timing/\"+exp_id+\"_ffksp.pkl\", 'rb'))\n",
    "camu_time = pickle.load(open(\"/Users/joshnevin/RL_FOCSLab/eval_timing/\"+exp_id+\"_camu.pkl\", 'rb'))\n",
    "kspmu_time = pickle.load(open(\"/Users/joshnevin/RL_FOCSLab/eval_timing/\"+exp_id+\"_kspmu.pkl\", 'rb'))"
   ]
  },
  {
   "cell_type": "code",
   "execution_count": null,
   "id": "d87e85e1",
   "metadata": {},
   "outputs": [],
   "source": [
    "print(rl_time)\n",
    "print(kspff_time)\n",
    "print(ffksp_time)\n",
    "print(camu_time)\n",
    "print(kspmu_time)"
   ]
  },
  {
   "cell_type": "code",
   "execution_count": null,
   "id": "7601ce50",
   "metadata": {},
   "outputs": [],
   "source": []
  }
 ],
 "metadata": {
  "kernelspec": {
   "display_name": "Python 3 (ipykernel)",
   "language": "python",
   "name": "python3"
  },
  "language_info": {
   "codemirror_mode": {
    "name": "ipython",
    "version": 3
   },
   "file_extension": ".py",
   "mimetype": "text/x-python",
   "name": "python",
   "nbconvert_exporter": "python",
   "pygments_lexer": "ipython3",
   "version": "3.7.12"
  }
 },
 "nbformat": 4,
 "nbformat_minor": 5
}
