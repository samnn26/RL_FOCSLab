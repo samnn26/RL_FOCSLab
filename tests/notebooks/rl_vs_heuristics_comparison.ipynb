{
 "cells": [
  {
   "cell_type": "code",
   "execution_count": 1,
   "id": "3731ce5d",
   "metadata": {},
   "outputs": [],
   "source": [
    "import os\n",
    "import pickle\n",
    "import numpy as np\n",
    "from scipy.special import kl_div\n",
    "from scipy.stats import pearsonr\n",
    "from IPython.display import clear_output\n",
    "import matplotlib\n",
    "import matplotlib.pyplot as plt\n",
    "#import config InlineBackend.figure_format = 'svg'\n",
    "import tensorflow as tf\n",
    "# silencing tensorflow warnings\n",
    "import logging\n",
    "logging.getLogger('tensorflow').setLevel(logging.FATAL)\n",
    "from datetime import datetime\n",
    "tf.__version__ # printint out tensorflow version used\n",
    "import stable_baselines3\n",
    "import sb3_contrib\n",
    "from stable_baselines3.common.callbacks import BaseCallback\n",
    "# from stable_baselines3.results_plotter import load_results, ts2xy\n",
    "from stable_baselines3.common.results_plotter import load_results, ts2xy\n",
    "import optuna\n",
    "# from stable_baselines3.bench import Monitor\n",
    "from stable_baselines3.common.monitor import Monitor\n",
    "#from stable_baselines3.common.policies import MlpPolicy\n",
    "from stable_baselines3.common import results_plotter\n",
    "from sb3_contrib.common.maskable.evaluation import evaluate_policy\n",
    "from sb3_contrib import MaskablePPO\n",
    "from stable_baselines3.common.vec_env import DummyVecEnv\n",
    "#stable_baselines.__version__ # printing out stable_baselines version used\n",
    "import gym\n",
    "import pickle\n",
    "import cProfile \n",
    "import pandas as pd\n",
    "import ast\n",
    "import seaborn as sns\n",
    "font = { 'family' : 'sans-serif',\n",
    "                'weight' : 'normal',\n",
    "                'size'   : 11}\n",
    "matplotlib.rc('font', **font)"
   ]
  },
  {
   "cell_type": "code",
   "execution_count": 17,
   "id": "08d1e420",
   "metadata": {},
   "outputs": [],
   "source": [
    "current_directory = os.getcwd()\n",
    "\n",
    "# exp_id = \"2022-03-18v45nsfU100GboR2\"  \n",
    "# exp_id = \"2022-03-18v45nsfU100GboR3\"\n",
    "\n",
    "exp_id = \"2022-03-10v45nsfU100GR2\" # best uniform\n",
    "# exp_id = \"2022-03-15v45nsfUp5100GR3\" # best non-uniform\n",
    "eval_name = \"_no_tfb_snaps\"\n",
    "route_dir = \"/Users/joshnevin/RL_FOCSLab/tmp/RWAFOCS-ppo/\"\n",
    "eval_dir = route_dir+exp_id+\"/_core_0/eval_results\"+eval_name\n",
    "\n",
    "# JOCN results \n",
    "# uniform no tfb\n",
    "# eval_dir_h = route_dir+\"2022-02-24nsfnotfbuniheuristics_eval/eval_results_no_tfb\"  # 100G, k=5, 10k requests\n",
    "# eval_dir_h = route_dir+\"2022-03-11nsfU100Gheuristics_eval/eval_results_no_tfb\" # with service distribution\n",
    "eval_dir_h = route_dir+\"2022-03-11nsfU100Gheuristics_eval/eval_results_no_tfb_snaps\" # with 25%, 50% and 75% service distribution\n",
    "# eval_dir_h = route_dir+\"2022-03-18nsfU100Gbofxdheuristics_eval/eval_results_no_tfb\"  # binary occupancy\n",
    "# uniform tfb\n",
    "# eval_dir_h = route_dir+\"2022-03-11nsfU100Gheuristics_eval/eval_results_tfb\" # with service distribution\n",
    "\n",
    "# non-uniform no tfb\n",
    "# eval_dir_h = route_dir+\"2022-03-04nsfUp50100G10kRheuristics_eval/eval_results_no_tfb\" # 100G, k=5, 10k requests\n",
    "# eval_dir_h = route_dir+\"2022-03-11nsfU50100Gheuristics_eval/eval_results_no_tfb\" # with service distribution\n",
    "# non-uniform tfb\n",
    "# eval_dir_h = route_dir+\"2022-03-11nsfU50100Gheuristics_eval/eval_results_tfb\" # with service distribution\n",
    "\n",
    "# eval_dir_h = route_dir+\"2022-02-24nsfunik3heuristics_eval/eval_results_no_tfb\"\n",
    "# eval_dir_h = route_dir+\"2022-03-01nsfuni200Gk3heuristics_eval/eval_results_no_tfb\"\n",
    "# eval_dir_h = route_dir+\"2022-03-03nsfuni500G2kRk5heuristics_eval/eval_results_no_tfb\" # 500G, k=5, 2k requests \n",
    "\n",
    "# UNIFORM 50% perturbation NSFNET\n",
    "# eval_dir_h = route_dir+\"2022-03-04nsfUp50500G2kRheuristics_eval/eval_results_no_tfb\" \n",
    "\n",
    "# \"GRAVITY\" NSFNET \n",
    "# eval_dir_h = route_dir+\"2022-02-23v42nsftfb\"+\"/_core_0/eval_results\"+\"_tfb\"\n",
    "# eval_dir_h = route_dir+\"2022-02-23v42nsftfbR3\"+\"/_core_0/eval_results\"+\"_no_tfb\"\n",
    "# eval_dir_h = route_dir+\"2022-02-24nsfgravityk3heuristics_eval/eval_results_no_tfb\"\n",
    "\n",
    "# UNIFORM DTAG\n",
    "# eval_dir_h = route_dir+\"2022-02-24dtagnotfbuniheuristics_eval/eval_results_no_tfb\" # 100G, k=5, 10k requests\n",
    "# eval_dir_h = route_dir+\"2022-02-24dtagunik3heuristics_eval/eval_results_no_tfb\"  # 100G, k=3, 10k requests\n",
    "# eval_dir_h = route_dir+\"2022-03-01dtaguni200Gheuristics_eval/eval_results_no_tfb\"  # 200G, k=5, 5k requests\n",
    "# eval_dir_h = route_dir+\"2022-03-01dtaguni200Gk3heuristics_eval/eval_results_no_tfb\" # 200G, k=3, 5k requests\n",
    "# eval_dir_h = route_dir+\"2022-03-01dtaguni200G75kRk3heuristics_eval/eval_results_no_tfb\" # 200G, k=5, 7.5k requests\n",
    "# UNIFORM 50% perturbation DTAG\n",
    "# eval_dir_h = route_dir+\"2022-03-04dtagUp50500G2kRheuristics_eval/eval_results_no_tfb\" # 500G, k=5, 2k requests "
   ]
  },
  {
   "cell_type": "code",
   "execution_count": 18,
   "id": "244e7857",
   "metadata": {},
   "outputs": [],
   "source": [
    "def get_info(eval_dir, model, get_dist):\n",
    "    df = pd.read_csv(eval_dir+\"/evaluation_\"+model+\".monitor.csv\", skiprows=1)\n",
    "    eval_eps = df.index.values\n",
    "    rewards = df['r'].to_numpy()\n",
    "    sim_time = df['t'].to_numpy()\n",
    "    services_accepted_ep = df['episode_services_accepted'].to_numpy()\n",
    "    services_processed_ep = df['episode_services_processed'].to_numpy()\n",
    "    services_accepted = df['services_accepted'].to_numpy()\n",
    "    services_processed = df['services_processed'].to_numpy()\n",
    "    throughput = df['throughput']/1e12\n",
    "    if get_dist:\n",
    "        service_dist_25pc = df['service_distribution_25pc']\n",
    "        service_dist_50pc = df['service_distribution_50pc']\n",
    "        service_dist_75pc = df['service_distribution_75pc']\n",
    "        service_dist = df['service_distribution']\n",
    "        return rewards, eval_eps, sim_time, services_accepted_ep, services_processed_ep, services_accepted, services_processed, throughput, service_dist, service_dist_25pc, service_dist_50pc, service_dist_75pc\n",
    "    else:\n",
    "        return rewards, eval_eps, sim_time, services_accepted_ep, services_processed_ep, services_accepted, services_processed, throughput\n",
    "def get_cum_results(eval_dir, model):\n",
    "    df = pd.read_csv(eval_dir+\"/evaluation_\"+model+\".monitor.csv\", skiprows=1)\n",
    "#     cum_services_accepted = df['episode_cum_services_accepted'].to_numpy()\n",
    "#     cum_services_processed = df['episode_cum_services_processed'].to_numpy()\n",
    "    cum_services_accepted = df['episode_cum_services_accepted']\n",
    "    cum_services_processed = df['episode_cum_services_processed']\n",
    "    return cum_services_accepted, cum_services_processed\n",
    "def get_services(service_dist, iter):\n",
    "    service_dist = service_dist[iter]\n",
    "    service_dist = ast.literal_eval(service_dist)\n",
    "    service_dist = np.array(service_dist).reshape(22,100)  # NOTE! HAVE HARD CODED NUMBER OF EDGES AND CHANNELS!\n",
    "    return service_dist\n",
    "def reorder_edges(serdist, edge_inds):\n",
    "    idx = np.array(edge_inds)\n",
    "    idx[edge_inds] = np.arange(len(edge_inds))\n",
    "    return serdist[idx, :]\n",
    "def get_all_services(service_dist_rl, num_edges, num_channels, num_evals):\n",
    "    arr = np.zeros([num_edges,num_channels,num_evals])\n",
    "    for i in range(num_evals):\n",
    "        arr[:,:,i] = get_services(service_dist_rl, i)\n",
    "    return arr"
   ]
  },
  {
   "cell_type": "code",
   "execution_count": 19,
   "id": "79808d76",
   "metadata": {},
   "outputs": [],
   "source": [
    "# tfb_test = pickle.load(open(eval_dir+\"/tfb_test.pkl\",'rb'))\n",
    "# tfb_test"
   ]
  },
  {
   "cell_type": "code",
   "execution_count": 26,
   "id": "0e2b948e",
   "metadata": {},
   "outputs": [],
   "source": [
    "get_service_dist = True\n",
    "if not get_service_dist:\n",
    "    rewards_rl, eval_eps_rl, sim_time_rl, services_accepted_ep_rl, services_processed_ep_rl, services_accepted_rl, services_processed_rl, throughput_rl = get_info(eval_dir, 'rl', False)\n",
    "    rewards_kspff, eval_eps_kspff, sim_time_kspff, services_accepted_ep_kspff, services_processed_ep_kspff, services_accepted_kspff, services_processed_kspff, throughput_kspff = get_info(eval_dir_h, 'kspff', False)\n",
    "    rewards_ffksp, eval_eps_ffksp, sim_time_ffksp, services_accepted_ep_ffksp, services_processed_ep_ffksp, services_accepted_ffksp, services_processed_ffksp, throughput_ffksp = get_info(eval_dir_h, 'ffksp', False)\n",
    "    rewards_camu, eval_eps_camu, sim_time_camu, services_accepted_ep_camu, services_processed_ep_camu, services_accepted_camu, services_processed_camu, throughput_camu = get_info(eval_dir_h, 'camu', False)\n",
    "    rewards_kspmu, eval_eps_kspmu, sim_time_kspmu, services_accepted_ep_kspmu, services_processed_ep_kspmu, services_accepted_kspmu, services_processed_kspmu, throughput_kspmu = get_info(eval_dir_h, 'kspmu', False)\n",
    "else:\n",
    "    rewards_rl, eval_eps_rl, sim_time_rl, services_accepted_ep_rl, services_processed_ep_rl, services_accepted_rl, services_processed_rl, throughput_rl, service_dist_rl, service_dist_rl_25pc, service_dist_rl_50pc, service_dist_rl_75pc  = get_info(eval_dir, 'rl', True)\n",
    "    rewards_kspff, eval_eps_kspff, sim_time_kspff, services_accepted_ep_kspff, services_processed_ep_kspff, services_accepted_kspff, services_processed_kspff, throughput_kspff, service_dist_kspff, service_dist_kspff_25pc, service_dist_kspff_50pc, service_dist_kspff_75pc = get_info(eval_dir_h, 'kspff', True)\n",
    "    rewards_ffksp, eval_eps_ffksp, sim_time_ffksp, services_accepted_ep_ffksp, services_processed_ep_ffksp, services_accepted_ffksp, services_processed_ffksp, throughput_ffksp, service_dist_ffksp, service_dist_ffksp_25pc, service_dist_ffksp_50pc, service_dist_ffksp_75pc  = get_info(eval_dir_h, 'ffksp', True)\n",
    "    rewards_camu, eval_eps_camu, sim_time_camu, services_accepted_ep_camu, services_processed_ep_camu, services_accepted_camu, services_processed_camu, throughput_camu, service_dist_camu, service_dist_camu_25pc, service_dist_camu_50pc, service_dist_camu_75pc  = get_info(eval_dir_h, 'camu', True)\n",
    "    rewards_kspmu, eval_eps_kspmu, sim_time_kspmu, services_accepted_ep_kspmu, services_processed_ep_kspmu, services_accepted_kspmu, services_processed_kspmu, throughput_kspmu, service_dist_kspmu, service_dist_kspmu_25pc, service_dist_kspmu_50pc, service_dist_kspmu_75pc  = get_info(eval_dir_h, 'kspmu', True)"
   ]
  },
  {
   "cell_type": "code",
   "execution_count": 21,
   "id": "be3912f1",
   "metadata": {},
   "outputs": [],
   "source": [
    "cum_services_accepted, cum_services_processed = get_cum_results(eval_dir, 'rl')"
   ]
  },
  {
   "cell_type": "code",
   "execution_count": null,
   "id": "f7a91ca9",
   "metadata": {},
   "outputs": [],
   "source": [
    "cum_services_accepted_test = ast.literal_eval(cum_services_accepted[0])\n",
    "cum_services_processed_test = ast.literal_eval(cum_services_processed[0])"
   ]
  },
  {
   "cell_type": "code",
   "execution_count": null,
   "id": "4243200d",
   "metadata": {},
   "outputs": [],
   "source": [
    "len(cum_services_accepted_test)"
   ]
  },
  {
   "cell_type": "code",
   "execution_count": null,
   "id": "432fe760",
   "metadata": {},
   "outputs": [],
   "source": [
    "cum_services_accepted_test[-6]"
   ]
  },
  {
   "cell_type": "code",
   "execution_count": null,
   "id": "1bbb4048",
   "metadata": {},
   "outputs": [],
   "source": [
    "len(cum_services_processed_test)"
   ]
  },
  {
   "cell_type": "code",
   "execution_count": null,
   "id": "bd693c4c",
   "metadata": {},
   "outputs": [],
   "source": [
    "services_accepted_ep_rl[0]"
   ]
  },
  {
   "cell_type": "code",
   "execution_count": 22,
   "id": "70d16308",
   "metadata": {},
   "outputs": [],
   "source": [
    "pickle.dump(np.mean(services_accepted_ep_rl), open(\"results/\"+exp_id+\"_mean.pkl\",'wb'))\n",
    "pickle.dump(np.median(services_accepted_ep_rl), open(\"results/\"+exp_id+\"_median.pkl\",'wb'))\n",
    "pickle.dump(np.std(services_accepted_ep_rl), open(\"results/\"+exp_id+\"_std.pkl\",'wb'))"
   ]
  },
  {
   "cell_type": "code",
   "execution_count": 23,
   "id": "46f8994e",
   "metadata": {
    "scrolled": false
   },
   "outputs": [
    {
     "name": "stdout",
     "output_type": "stream",
     "text": [
      "Mean: 6869.01\n",
      "Median: 6872.0\n",
      "Std: 71.17267663928342\n"
     ]
    }
   ],
   "source": [
    "print(\"Mean:\",np.mean(services_accepted_ep_rl))\n",
    "print(\"Median:\",np.median(services_accepted_ep_rl))\n",
    "print(\"Std:\",np.std(services_accepted_ep_rl))"
   ]
  },
  {
   "cell_type": "code",
   "execution_count": 24,
   "id": "bfae3c9e",
   "metadata": {},
   "outputs": [
    {
     "name": "stdout",
     "output_type": "stream",
     "text": [
      "RL: 6869.01\n",
      "kSP-FF: 6701.0\n",
      "FF-kSP: 6819.64\n",
      "kSP-MU: 6805.04\n"
     ]
    }
   ],
   "source": [
    "print(\"RL:\",np.mean(services_accepted_ep_rl))\n",
    "print(\"kSP-FF:\",np.mean(services_accepted_ep_kspff))\n",
    "print(\"FF-kSP:\",np.mean(services_accepted_ep_ffksp))\n",
    "# print(\"CA-MU:\",np.mean(services_accepted_ep_camu))\n",
    "print(\"kSP-MU:\",np.mean(services_accepted_ep_kspmu))"
   ]
  },
  {
   "cell_type": "code",
   "execution_count": null,
   "id": "1d659ba0",
   "metadata": {},
   "outputs": [],
   "source": [
    "print(\"RL:\",np.median(services_accepted_ep_rl))\n",
    "print(\"kSP-FF:\",np.median(services_accepted_ep_kspff))\n",
    "print(\"FF-kSP:\",np.median(services_accepted_ep_ffksp))\n",
    "# print(\"CA-MU:\",np.median(services_accepted_ep_camu))\n",
    "print(\"kSP-MU:\",np.median(services_accepted_ep_kspmu))"
   ]
  },
  {
   "cell_type": "code",
   "execution_count": null,
   "id": "54798c54",
   "metadata": {},
   "outputs": [],
   "source": [
    "print(\"RL:\",np.std(services_accepted_ep_rl))\n",
    "print(\"kSP-FF:\",np.std(services_accepted_ep_kspff))\n",
    "print(\"FF-kSP:\",np.std(services_accepted_ep_ffksp))\n",
    "# print(\"CA-MU:\",np.std(services_accepted_ep_camu))\n",
    "print(\"kSP-MU:\",np.std(services_accepted_ep_kspmu))"
   ]
  },
  {
   "cell_type": "code",
   "execution_count": null,
   "id": "8c87bac3",
   "metadata": {},
   "outputs": [],
   "source": [
    "print(\"RL:\",np.mean(rewards_rl))\n",
    "print(\"kSP-FF:\",np.mean(rewards_kspff))\n",
    "print(\"FF-kSP:\",np.mean(rewards_ffksp))\n",
    "# print(\"CA-MU:\",np.mean(rewards_camu))\n",
    "print(\"kSP-MU:\",np.mean(rewards_kspmu))"
   ]
  },
  {
   "cell_type": "code",
   "execution_count": null,
   "id": "8a895523",
   "metadata": {},
   "outputs": [],
   "source": [
    "f, ax = plt.subplots()\n",
    "dict_plt = {'kSP-FF':services_accepted_ep_kspff,'kSP-MU':services_accepted_ep_kspmu,'FF-kSP':services_accepted_ep_ffksp, 'RL':services_accepted_ep_rl}\n",
    "#dict_plt = {'FF-kSP':services_accepted_ep_ffksp, 'RL':services_accepted_ep_rl}\n",
    "bp = plt.boxplot(dict_plt.values(),showfliers=False,showmeans=True)\n",
    "ax.set_xticklabels(dict_plt.keys())\n",
    "plt.ylabel(\"Services accepted\")\n",
    "# ax.set_aspect(1.0/ax.get_data_ratio(), adjustable='box')\n",
    "f.patch.set_facecolor('w')\n",
    "# plt.ylim([2285, 2305])\n",
    "plt.grid()\n",
    "plt.savefig('figures/'+exp_id+eval_name+'boxplot.jpeg', dpi=300,bbox_inches='tight')\n",
    "plt.show()"
   ]
  },
  {
   "cell_type": "code",
   "execution_count": null,
   "id": "f65b611e",
   "metadata": {},
   "outputs": [],
   "source": [
    "medians = [item.get_ydata()[0] for item in bp['medians']]\n",
    "means = [item.get_ydata()[0] for item in bp['means']]\n",
    "print(f'Medians: {medians}\\n'\n",
    "      f'Means:   {means}')"
   ]
  },
  {
   "cell_type": "code",
   "execution_count": null,
   "id": "50b3d3af",
   "metadata": {},
   "outputs": [],
   "source": [
    "minimums = [round(item.get_ydata()[0], 1) for item in bp['caps']][::2]\n",
    "maximums = [round(item.get_ydata()[0], 1) for item in bp['caps']][1::2]\n",
    "print(f'Minimums: {minimums}\\n'\n",
    "      f'Maximums: {maximums}')"
   ]
  },
  {
   "cell_type": "code",
   "execution_count": null,
   "id": "7935ac4e",
   "metadata": {},
   "outputs": [],
   "source": [
    "q1 = [round(min(item.get_ydata()), 1) for item in bp['boxes']]\n",
    "q3 = [round(max(item.get_ydata()), 1) for item in bp['boxes']]\n",
    "IQR = [q3[i] - q1[i] for i in range(len(q1))]\n",
    "print(IQR)"
   ]
  },
  {
   "cell_type": "code",
   "execution_count": null,
   "id": "9c108fce",
   "metadata": {},
   "outputs": [],
   "source": [
    "((6872-6818)/6818)*100"
   ]
  },
  {
   "cell_type": "code",
   "execution_count": null,
   "id": "263528b9",
   "metadata": {},
   "outputs": [],
   "source": [
    "(6872-6818)*100"
   ]
  },
  {
   "cell_type": "code",
   "execution_count": null,
   "id": "2f287a53",
   "metadata": {},
   "outputs": [],
   "source": [
    "6643-6497"
   ]
  },
  {
   "cell_type": "code",
   "execution_count": null,
   "id": "9756355d",
   "metadata": {},
   "outputs": [],
   "source": [
    "7019-6964"
   ]
  },
  {
   "cell_type": "code",
   "execution_count": null,
   "id": "089c4d17",
   "metadata": {},
   "outputs": [],
   "source": [
    "((6818-6710)/6710)*100"
   ]
  },
  {
   "cell_type": "code",
   "execution_count": null,
   "id": "b4878386",
   "metadata": {},
   "outputs": [],
   "source": [
    "800 - (1000-800) "
   ]
  },
  {
   "cell_type": "markdown",
   "id": "dddeec58",
   "metadata": {},
   "source": [
    "**Service distribution stuff!**  \n",
    "Questions to answer:  \n",
    "* how consistent is the placement of services across evaluation runs? Do any patterns emerge?\n",
    "* How similar is the RL agent allocation of services to the heuristics?\n",
    "* What is the trend with respect to edge length? "
   ]
  },
  {
   "cell_type": "code",
   "execution_count": 27,
   "id": "945d56c2",
   "metadata": {},
   "outputs": [],
   "source": [
    "serdist_rl = get_all_services(service_dist_rl, 22, 100, 100)\n",
    "serdist_kspff = get_all_services(service_dist_kspff, 22, 100, 100)\n",
    "serdist_ffksp = get_all_services(service_dist_ffksp, 22, 100, 100)\n",
    "serdist_kspmu = get_all_services(service_dist_kspmu, 22, 100, 100)\n",
    "\n",
    "serdist_rl_25pc = get_all_services(service_dist_rl_25pc, 22, 100, 100)\n",
    "serdist_kspff_25pc = get_all_services(service_dist_kspff_25pc, 22, 100, 100)\n",
    "serdist_ffksp_25pc = get_all_services(service_dist_ffksp_25pc, 22, 100, 100)\n",
    "serdist_kspmu_25pc = get_all_services(service_dist_kspmu_25pc, 22, 100, 100)\n",
    "\n",
    "serdist_rl_50pc = get_all_services(service_dist_rl_50pc, 22, 100, 100)\n",
    "serdist_kspff_50pc = get_all_services(service_dist_kspff_50pc, 22, 100, 100)\n",
    "serdist_ffksp_50pc = get_all_services(service_dist_ffksp_50pc, 22, 100, 100)\n",
    "serdist_kspmu_50pc = get_all_services(service_dist_kspmu_50pc, 22, 100, 100)\n",
    "\n",
    "serdist_rl_75pc = get_all_services(service_dist_rl_75pc, 22, 100, 100)\n",
    "serdist_kspff_75pc = get_all_services(service_dist_kspff_75pc, 22, 100, 100)\n",
    "serdist_ffksp_75pc = get_all_services(service_dist_ffksp_75pc, 22, 100, 100)\n",
    "serdist_kspmu_75pc = get_all_services(service_dist_kspmu_75pc, 22, 100, 100)"
   ]
  },
  {
   "cell_type": "code",
   "execution_count": 28,
   "id": "bbfac135",
   "metadata": {},
   "outputs": [],
   "source": [
    "# serdist_rl_mean = np.mean(serdist_rl, axis=2)\n",
    "# serdist_kspff_mean = np.mean(serdist_kspff, axis=2)\n",
    "# serdist_ffksp_mean = np.mean(serdist_ffksp, axis=2)\n",
    "# serdist_kspmu_mean = np.mean(serdist_kspmu, axis=2)\n",
    "len_ordered_edge_inds = [21,20,17,16,18,9,6,3,19,15,14,12,4,10,0,8,13,1,11,5,7,2]\n",
    "serdist_rl_mean = reorder_edges(np.mean(serdist_rl, axis=2), len_ordered_edge_inds)\n",
    "serdist_kspff_mean = reorder_edges(np.mean(serdist_kspff, axis=2), len_ordered_edge_inds)\n",
    "serdist_ffksp_mean = reorder_edges(np.mean(serdist_ffksp, axis=2), len_ordered_edge_inds)\n",
    "serdist_kspmu_mean = reorder_edges(np.mean(serdist_kspmu, axis=2), len_ordered_edge_inds)\n",
    "\n",
    "serdist_rl_mean_25pc = reorder_edges(np.mean(serdist_rl_25pc, axis=2), len_ordered_edge_inds)\n",
    "serdist_kspff_mean_25pc = reorder_edges(np.mean(serdist_kspff_25pc, axis=2), len_ordered_edge_inds)\n",
    "serdist_ffksp_mean_25pc = reorder_edges(np.mean(serdist_ffksp_25pc, axis=2), len_ordered_edge_inds)\n",
    "serdist_kspmu_mean_25pc = reorder_edges(np.mean(serdist_kspmu_25pc, axis=2), len_ordered_edge_inds)\n",
    "\n",
    "serdist_rl_mean_50pc = reorder_edges(np.mean(serdist_rl_50pc, axis=2), len_ordered_edge_inds)\n",
    "serdist_kspff_mean_50pc = reorder_edges(np.mean(serdist_kspff_50pc, axis=2), len_ordered_edge_inds)\n",
    "serdist_ffksp_mean_50pc = reorder_edges(np.mean(serdist_ffksp_50pc, axis=2), len_ordered_edge_inds)\n",
    "serdist_kspmu_mean_50pc = reorder_edges(np.mean(serdist_kspmu_50pc, axis=2), len_ordered_edge_inds)\n",
    "\n",
    "serdist_rl_mean_75pc = reorder_edges(np.mean(serdist_rl_75pc, axis=2), len_ordered_edge_inds)\n",
    "serdist_kspff_mean_75pc = reorder_edges(np.mean(serdist_kspff_75pc, axis=2), len_ordered_edge_inds)\n",
    "serdist_ffksp_mean_75pc = reorder_edges(np.mean(serdist_ffksp_75pc, axis=2), len_ordered_edge_inds)\n",
    "serdist_kspmu_mean_75pc = reorder_edges(np.mean(serdist_kspmu_75pc, axis=2), len_ordered_edge_inds)"
   ]
  },
  {
   "cell_type": "code",
   "execution_count": 29,
   "id": "b6509d1e",
   "metadata": {},
   "outputs": [],
   "source": [
    "eval_ind = 4\n",
    "serdist_rl_single_eval = reorder_edges(serdist_rl[:,:,eval_ind], len_ordered_edge_inds)\n",
    "serdist_kspff_single_eval = reorder_edges(serdist_kspff[:,:,eval_ind], len_ordered_edge_inds)\n",
    "serdist_kspmu_single_eval = reorder_edges(serdist_kspmu[:,:,eval_ind], len_ordered_edge_inds)\n",
    "serdist_ffksp_single_eval = reorder_edges(serdist_ffksp[:,:,eval_ind], len_ordered_edge_inds)"
   ]
  },
  {
   "cell_type": "code",
   "execution_count": null,
   "id": "55569720",
   "metadata": {},
   "outputs": [],
   "source": [
    "ax = sns.heatmap(serdist_rl_single_eval, linewidth=0.)\n",
    "ax.set_xlabel(\"Channel ID\")\n",
    "ax.set_ylabel(\"Link ID\")\n",
    "plt.savefig('figures/heatmap_'+str(eval_ind)+exp_id+'.jpeg', dpi=300,bbox_inches='tight')\n",
    "plt.show()"
   ]
  },
  {
   "cell_type": "code",
   "execution_count": null,
   "id": "be0bb96d",
   "metadata": {},
   "outputs": [],
   "source": [
    "ax = sns.heatmap(serdist_ffksp_single_eval, linewidth=0.)\n",
    "ax.set_xlabel(\"Channel ID\")\n",
    "ax.set_ylabel(\"Link ID\")\n",
    "plt.savefig('figures/heatmap_uniform_'+str(eval_ind)+'_ffksp.jpeg', dpi=300,bbox_inches='tight')\n",
    "plt.show()"
   ]
  },
  {
   "cell_type": "code",
   "execution_count": null,
   "id": "24ca47c6",
   "metadata": {},
   "outputs": [],
   "source": [
    "ax = sns.heatmap(serdist_kspff_single_eval, linewidth=0.)\n",
    "ax.set_xlabel(\"Channel ID\")\n",
    "ax.set_ylabel(\"Link ID\")\n",
    "plt.savefig('figures/heatmap_uniform_'+str(eval_ind)+'_kspff.jpeg', dpi=300,bbox_inches='tight')\n",
    "plt.show()"
   ]
  },
  {
   "cell_type": "code",
   "execution_count": null,
   "id": "f5031600",
   "metadata": {},
   "outputs": [],
   "source": [
    "ax = sns.heatmap(serdist_kspmu_single_eval, linewidth=0.)\n",
    "ax.set_xlabel(\"Channel ID\")\n",
    "ax.set_ylabel(\"Link ID\")\n",
    "plt.savefig('figures/heatmap_uniform_'+str(eval_ind)+'_kspmu.jpeg', dpi=300,bbox_inches='tight')\n",
    "plt.show()"
   ]
  },
  {
   "cell_type": "markdown",
   "id": "76f072b3",
   "metadata": {},
   "source": [
    "**Look at service distribution after 25% of the episode:**"
   ]
  },
  {
   "cell_type": "code",
   "execution_count": 30,
   "id": "d039b70c",
   "metadata": {},
   "outputs": [
    {
     "data": {
      "image/png": "[encoded data removed]",
      "text/plain": [
       "<Figure size 432x288 with 2 Axes>"
      ]
     },
     "metadata": {
      "needs_background": "light"
     },
     "output_type": "display_data"
    }
   ],
   "source": [
    "ax = sns.heatmap(serdist_rl_mean_25pc, linewidth=0.)\n",
    "ax.invert_yaxis()\n",
    "ax.set_xlabel(\"Channel ID\")\n",
    "ax.set_ylabel(\"Link ID\")\n",
    "plt.savefig('figures/heatmap_25pc_'+exp_id+'.jpeg', dpi=300,bbox_inches='tight')\n",
    "plt.show()"
   ]
  },
  {
   "cell_type": "code",
   "execution_count": null,
   "id": "b6f08942",
   "metadata": {},
   "outputs": [],
   "source": [
    "ax = sns.heatmap(serdist_kspff_mean_25pc, linewidth=0.)\n",
    "ax.invert_yaxis()\n",
    "ax.set_xlabel(\"Channel ID\")\n",
    "ax.set_ylabel(\"Link ID\")\n",
    "plt.savefig('figures/heatmap_25pc_uniform_kspff.jpeg', dpi=300,bbox_inches='tight')\n",
    "plt.show()"
   ]
  },
  {
   "cell_type": "code",
   "execution_count": null,
   "id": "bb25c7d6",
   "metadata": {},
   "outputs": [],
   "source": [
    "ax = sns.heatmap(serdist_ffksp_mean_25pc, linewidth=0.)\n",
    "ax.invert_yaxis()\n",
    "ax.set_xlabel(\"Channel ID\")\n",
    "ax.set_ylabel(\"Link ID\")\n",
    "plt.savefig('figures/heatmap_25pc_uniform_ffksp.jpeg', dpi=300,bbox_inches='tight')\n",
    "plt.show()"
   ]
  },
  {
   "cell_type": "code",
   "execution_count": null,
   "id": "0f7cc3b4",
   "metadata": {},
   "outputs": [],
   "source": [
    "ax = sns.heatmap(serdist_kspmu_mean_25pc, linewidth=0.)\n",
    "ax.invert_yaxis()\n",
    "ax.set_xlabel(\"Channel ID\")\n",
    "ax.set_ylabel(\"Link ID\")\n",
    "plt.savefig('figures/heatmap_25pc_uniform_kspmu.jpeg', dpi=300,bbox_inches='tight')\n",
    "plt.show()"
   ]
  },
  {
   "cell_type": "markdown",
   "id": "1c651853",
   "metadata": {},
   "source": [
    "**Look at service distribution after 50% of the episode**"
   ]
  },
  {
   "cell_type": "code",
   "execution_count": null,
   "id": "6e1eba28",
   "metadata": {},
   "outputs": [],
   "source": [
    "ax = sns.heatmap(serdist_rl_mean_50pc, linewidth=0.)\n",
    "ax.invert_yaxis()\n",
    "ax.set_xlabel(\"Channel ID\")\n",
    "ax.set_ylabel(\"Link ID\")\n",
    "plt.savefig('figures/heatmap_50pc'+exp_id+'.jpeg', dpi=300,bbox_inches='tight')\n",
    "plt.show()"
   ]
  },
  {
   "cell_type": "code",
   "execution_count": null,
   "id": "12ec5a1b",
   "metadata": {},
   "outputs": [],
   "source": [
    "ax = sns.heatmap(serdist_kspff_mean_50pc, linewidth=0.)\n",
    "ax.invert_yaxis()\n",
    "ax.set_xlabel(\"Channel ID\")\n",
    "ax.set_ylabel(\"Link ID\")\n",
    "plt.savefig('figures/heatmap_50pc_uniform_kspff.jpeg', dpi=300,bbox_inches='tight')\n",
    "plt.show()"
   ]
  },
  {
   "cell_type": "code",
   "execution_count": null,
   "id": "ce0ad1ef",
   "metadata": {},
   "outputs": [],
   "source": [
    "ax = sns.heatmap(serdist_ffksp_mean_50pc, linewidth=0.)\n",
    "ax.invert_yaxis()\n",
    "ax.set_xlabel(\"Channel ID\")\n",
    "ax.set_ylabel(\"Link ID\")\n",
    "plt.savefig('figures/heatmap_50pc_uniform_ffksp.jpeg', dpi=300,bbox_inches='tight')\n",
    "plt.show()"
   ]
  },
  {
   "cell_type": "code",
   "execution_count": null,
   "id": "f427ad77",
   "metadata": {},
   "outputs": [],
   "source": [
    "ax = sns.heatmap(serdist_kspmu_mean_50pc, linewidth=0.)\n",
    "ax.invert_yaxis()\n",
    "ax.set_xlabel(\"Channel ID\")\n",
    "ax.set_ylabel(\"Link ID\")\n",
    "plt.savefig('figures/heatmap_50pc_uniform_kspmu.jpeg', dpi=300,bbox_inches='tight')\n",
    "plt.show()"
   ]
  },
  {
   "cell_type": "markdown",
   "id": "30ff0a39",
   "metadata": {},
   "source": [
    "**Look at service distribution after 75% episode**"
   ]
  },
  {
   "cell_type": "code",
   "execution_count": null,
   "id": "1c4c6955",
   "metadata": {},
   "outputs": [],
   "source": [
    "ax = sns.heatmap(serdist_rl_mean_75pc, linewidth=0.)\n",
    "ax.invert_yaxis()\n",
    "ax.set_xlabel(\"Channel ID\")\n",
    "ax.set_ylabel(\"Link ID\")\n",
    "plt.savefig('figures/heatmap_75pc'+exp_id+'.jpeg', dpi=300,bbox_inches='tight')\n",
    "plt.show()"
   ]
  },
  {
   "cell_type": "code",
   "execution_count": null,
   "id": "a0b5730b",
   "metadata": {},
   "outputs": [],
   "source": [
    "ax = sns.heatmap(serdist_kspff_mean_75pc, linewidth=0.)\n",
    "ax.invert_yaxis()\n",
    "ax.set_xlabel(\"Channel ID\")\n",
    "ax.set_ylabel(\"Link ID\")\n",
    "plt.savefig('figures/heatmap_75pc_uniform_kspff.jpeg', dpi=300,bbox_inches='tight')\n",
    "plt.show()"
   ]
  },
  {
   "cell_type": "code",
   "execution_count": null,
   "id": "a37673a6",
   "metadata": {},
   "outputs": [],
   "source": [
    "ax = sns.heatmap(serdist_ffksp_mean_75pc, linewidth=0.)\n",
    "ax.invert_yaxis()\n",
    "ax.set_xlabel(\"Channel ID\")\n",
    "ax.set_ylabel(\"Link ID\")\n",
    "plt.savefig('figures/heatmap_75pc_uniform_ffksp.jpeg', dpi=300,bbox_inches='tight')\n",
    "plt.show()"
   ]
  },
  {
   "cell_type": "code",
   "execution_count": null,
   "id": "99e19654",
   "metadata": {},
   "outputs": [],
   "source": [
    "ax = sns.heatmap(serdist_kspmu_mean_75pc, linewidth=0.)\n",
    "ax.invert_yaxis()\n",
    "ax.set_xlabel(\"Channel ID\")\n",
    "ax.set_ylabel(\"Link ID\")\n",
    "plt.savefig('figures/heatmap_75pc_uniform_kspmu.jpeg', dpi=300,bbox_inches='tight')\n",
    "plt.show()"
   ]
  },
  {
   "cell_type": "markdown",
   "id": "d021e069",
   "metadata": {},
   "source": [
    "**Service distribution at the end of the episode:**"
   ]
  },
  {
   "cell_type": "code",
   "execution_count": null,
   "id": "350533e9",
   "metadata": {},
   "outputs": [],
   "source": [
    "ax = sns.heatmap(serdist_rl_mean, linewidth=0.)\n",
    "ax.invert_yaxis()\n",
    "ax.set_xlabel(\"Channel ID\")\n",
    "ax.set_ylabel(\"Link ID\")\n",
    "plt.savefig('figures/heatmap'+exp_id+'.jpeg', dpi=300,bbox_inches='tight')\n",
    "plt.show()"
   ]
  },
  {
   "cell_type": "code",
   "execution_count": null,
   "id": "8ed135e1",
   "metadata": {},
   "outputs": [],
   "source": [
    "ax = sns.heatmap(serdist_kspff_mean, linewidth=0.)\n",
    "ax.invert_yaxis()\n",
    "ax.set_xlabel(\"Channel ID\")\n",
    "ax.set_ylabel(\"Link ID\")\n",
    "plt.savefig('figures/heatmap_uniform_kspff.jpeg', dpi=300,bbox_inches='tight')\n",
    "plt.show()"
   ]
  },
  {
   "cell_type": "code",
   "execution_count": null,
   "id": "f7628b5d",
   "metadata": {},
   "outputs": [],
   "source": [
    "ax = sns.heatmap(serdist_ffksp_mean, linewidth=0.)\n",
    "ax.invert_yaxis()\n",
    "ax.set_xlabel(\"Channel ID\")\n",
    "ax.set_ylabel(\"Link ID\")\n",
    "plt.savefig('figures/heatmap_uniform_ffksp.jpeg', dpi=300,bbox_inches='tight')\n",
    "plt.show()"
   ]
  },
  {
   "cell_type": "code",
   "execution_count": null,
   "id": "936acea3",
   "metadata": {},
   "outputs": [],
   "source": [
    "ax = sns.heatmap(serdist_kspmu_mean, linewidth=0.)\n",
    "ax.invert_yaxis()\n",
    "ax.set_xlabel(\"Channel ID\")\n",
    "ax.set_ylabel(\"Link ID\")\n",
    "plt.savefig('figures/heatmap_uniform_kspmu.jpeg', dpi=300,bbox_inches='tight')\n",
    "plt.show()"
   ]
  },
  {
   "cell_type": "markdown",
   "id": "714da5ac",
   "metadata": {},
   "source": [
    "**Look at distribution across the channels - is it uniform?**"
   ]
  },
  {
   "cell_type": "code",
   "execution_count": 57,
   "id": "334f7315",
   "metadata": {},
   "outputs": [],
   "source": [
    "mean_channel_dist = np.mean(serdist_rl_mean_25pc, axis=0) / np.max(np.mean(serdist_rl_mean_25pc, axis=0))"
   ]
  },
  {
   "cell_type": "code",
   "execution_count": 58,
   "id": "e3ae8a66",
   "metadata": {},
   "outputs": [],
   "source": [
    "# serdist_rl_mean_25pc[0]/np.max(serdist_rl_mean_25pc[0])"
   ]
  },
  {
   "cell_type": "code",
   "execution_count": 59,
   "id": "7071bd4c",
   "metadata": {},
   "outputs": [
    {
     "data": {
      "image/png": "[encoded data removed]",
      "text/plain": [
       "<Figure size 432x288 with 1 Axes>"
      ]
     },
     "metadata": {
      "needs_background": "light"
     },
     "output_type": "display_data"
    }
   ],
   "source": [
    "plt.plot(np.random.uniform(0,1,100), '+')\n",
    "plt.plot(mean_channel_dist, 'x')\n",
    "plt.show()"
   ]
  },
  {
   "cell_type": "code",
   "execution_count": 67,
   "id": "13376fe0",
   "metadata": {},
   "outputs": [
    {
     "data": {
      "image/png": "[encoded data removed]",
      "text/plain": [
       "<Figure size 432x288 with 1 Axes>"
      ]
     },
     "metadata": {
      "needs_background": "light"
     },
     "output_type": "display_data"
    }
   ],
   "source": [
    "plt.bar(np.arange(0,100,1), np.random.uniform(0,100,100))\n",
    "plt.show()"
   ]
  },
  {
   "cell_type": "code",
   "execution_count": 68,
   "id": "90481536",
   "metadata": {},
   "outputs": [
    {
     "data": {
      "image/png": "[encoded data removed]",
      "text/plain": [
       "<Figure size 432x288 with 1 Axes>"
      ]
     },
     "metadata": {
      "needs_background": "light"
     },
     "output_type": "display_data"
    }
   ],
   "source": [
    "plt.bar(np.arange(0,100,1), mean_channel_dist)\n",
    "plt.show()"
   ]
  },
  {
   "cell_type": "code",
   "execution_count": null,
   "id": "bcc17dfb",
   "metadata": {},
   "outputs": [],
   "source": [
    "mean_edge_occ_rl = np.sum(np.mean(serdist_rl, axis=2), axis=1)\n",
    "mean_edge_occ_ffksp = np.sum(np.mean(serdist_ffksp, axis=2), axis=1)\n",
    "mean_edge_occ_kspff = np.sum(np.mean(serdist_kspff, axis=2), axis=1)\n",
    "mean_edge_occ_kspmu = np.sum(np.mean(serdist_kspmu, axis=2), axis=1)"
   ]
  },
  {
   "cell_type": "code",
   "execution_count": null,
   "id": "14494f2d",
   "metadata": {},
   "outputs": [],
   "source": [
    "edge_occ_rl = serdist_rl\n",
    "edge_occ_rl"
   ]
  },
  {
   "cell_type": "code",
   "execution_count": null,
   "id": "10e9c381",
   "metadata": {},
   "outputs": [],
   "source": [
    "pearsonr(mean_edge_occ_rl, mean_edge_occ_ffksp)"
   ]
  },
  {
   "cell_type": "code",
   "execution_count": null,
   "id": "3b089a78",
   "metadata": {},
   "outputs": [],
   "source": [
    "pearsonr(mean_edge_occ_rl, mean_edge_occ_kspff)"
   ]
  },
  {
   "cell_type": "code",
   "execution_count": null,
   "id": "364e66bb",
   "metadata": {},
   "outputs": [],
   "source": [
    "pearsonr(mean_edge_occ_rl, mean_edge_occ_kspmu)"
   ]
  },
  {
   "cell_type": "code",
   "execution_count": null,
   "id": "cc96b331",
   "metadata": {},
   "outputs": [],
   "source": [
    "pearsonr(mean_edge_occ_rl, mean_edge_occ_ffksp)"
   ]
  },
  {
   "cell_type": "code",
   "execution_count": null,
   "id": "36c8b9e4",
   "metadata": {},
   "outputs": [],
   "source": [
    "np.std(serdist_rl, axis=2)[0]"
   ]
  },
  {
   "cell_type": "code",
   "execution_count": null,
   "id": "d5b1e36d",
   "metadata": {},
   "outputs": [],
   "source": [
    "np.sum(np.mean(serdist_rl, axis=2), axis=0)"
   ]
  },
  {
   "cell_type": "code",
   "execution_count": null,
   "id": "c9065c97",
   "metadata": {},
   "outputs": [],
   "source": [
    "kl_div(serdist_rl[0,0,:], serdist_ffksp[0,0,:])"
   ]
  },
  {
   "cell_type": "markdown",
   "id": "f1c06bb7",
   "metadata": {},
   "source": [
    "Occpuation of each wavelength slot"
   ]
  },
  {
   "cell_type": "code",
   "execution_count": null,
   "id": "1c61c0d9",
   "metadata": {},
   "outputs": [],
   "source": [
    "kl_div(channel_occ_rl, channel_occ_ffksp)"
   ]
  },
  {
   "cell_type": "code",
   "execution_count": null,
   "id": "9a775fbc",
   "metadata": {},
   "outputs": [],
   "source": [
    "plt.bar(np.arange(0,100,1), (channel_occ_rl))\n",
    "plt.show()"
   ]
  },
  {
   "cell_type": "code",
   "execution_count": null,
   "id": "84d36fb1",
   "metadata": {},
   "outputs": [],
   "source": [
    "plt.bar(np.arange(0,100,1), (channel_occ_kspff))\n",
    "plt.show()"
   ]
  },
  {
   "cell_type": "code",
   "execution_count": null,
   "id": "0810b790",
   "metadata": {},
   "outputs": [],
   "source": [
    "plt.bar(np.arange(0,100,1), (channel_occ_ffksp))\n",
    "plt.show()"
   ]
  },
  {
   "cell_type": "code",
   "execution_count": null,
   "id": "5028c237",
   "metadata": {},
   "outputs": [],
   "source": [
    "plt.bar(np.arange(0,100,1), (channel_occ_kspmu))\n",
    "plt.show()"
   ]
  },
  {
   "cell_type": "markdown",
   "id": "587568b2",
   "metadata": {},
   "source": [
    "Occupation of each edge"
   ]
  },
  {
   "cell_type": "code",
   "execution_count": null,
   "id": "2ba9d202",
   "metadata": {},
   "outputs": [],
   "source": [
    "edge_occ_rl = np.sum(serdist_rl, axis=1)\n",
    "edge_occ_kspff = np.sum(serdist_kspff, axis=1)\n",
    "edge_occ_ffksp = np.sum(serdist_ffksp, axis=1)\n",
    "edge_occ_kspmu = np.sum(serdist_kspmu, axis=1)"
   ]
  },
  {
   "cell_type": "markdown",
   "id": "52934d23",
   "metadata": {},
   "source": [
    "Most to least occupied edges:"
   ]
  },
  {
   "cell_type": "code",
   "execution_count": null,
   "id": "84f1689c",
   "metadata": {},
   "outputs": [],
   "source": [
    "edge_occ_rl[len_ordered_edge_inds]"
   ]
  },
  {
   "cell_type": "code",
   "execution_count": null,
   "id": "9b36a8d3",
   "metadata": {},
   "outputs": [],
   "source": [
    "plt.bar(np.arange(0,22,1), (edge_occ_rl[len_ordered_edge_inds]))\n",
    "plt.show()"
   ]
  },
  {
   "cell_type": "code",
   "execution_count": null,
   "id": "0bc442b1",
   "metadata": {},
   "outputs": [],
   "source": [
    "plt.bar(np.arange(0,22,1), (edge_occ_ffksp[len_ordered_edge_inds]))\n",
    "plt.show()"
   ]
  },
  {
   "cell_type": "code",
   "execution_count": null,
   "id": "58553b6a",
   "metadata": {},
   "outputs": [],
   "source": [
    "plt.bar(np.arange(0,22,1), (edge_occ_kspff[len_ordered_edge_inds]))\n",
    "plt.show()"
   ]
  },
  {
   "cell_type": "code",
   "execution_count": null,
   "id": "7de62211",
   "metadata": {},
   "outputs": [],
   "source": [
    "plt.bar(np.arange(0,22,1), (edge_occ_kspmu[len_ordered_edge_inds]))\n",
    "plt.show()"
   ]
  },
  {
   "cell_type": "markdown",
   "id": "d10f30f8",
   "metadata": {},
   "source": [
    "Mapping of topology to edge indices and then to length ordered edge indices:  \n",
    "S D Length Original length-ordered  \n",
    "1 2 1000 -->   0  --> 14  \n",
    "1 3 1500 -->   1  --> 17  \n",
    "1 8 2400 -->   2  --> 21  \n",
    "2 3 600  -->   3   --> 7  \n",
    "2 4 700  -->   4   --> 12  \n",
    "3 6 1800 -->   5   --> 19  \n",
    "4 5 600  -->   6   --> 6  \n",
    "4 11 1900-->   7   --> 20  \n",
    "5 6 1200 -->   8   --> 15  \n",
    "5 7 600  -->   9   --> 5  \n",
    "6 10 1000-->   10  --> 13  \n",
    "6 14 1800-->   11  --> 18  \n",
    "7 8 700  -->   12  --> 11  \n",
    "7 10 1300-->   13  --> 16  \n",
    "8 9 700  -->   14  --> 10  \n",
    "9 10 700 -->   15  --> 9  \n",
    "9 12 300 -->   16  --> 3  \n",
    "9 13 300 -->   17  --> 2  \n",
    "11 12 600-->   18  --> 4  \n",
    "11 13 700-->   19  --> 8  \n",
    "12 14 300-->   20  --> 1  \n",
    "13 14 100-->   21  --> 0  "
   ]
  },
  {
   "cell_type": "code",
   "execution_count": null,
   "id": "120bd564",
   "metadata": {},
   "outputs": [],
   "source": [
    "len_ordered_edge_inds = [21,20,17,16,18,9,6,3,19,15,14,12,4,10,0,8,13,1,11,5,7,2]\n",
    "len(len_ordered_edge_inds)"
   ]
  },
  {
   "cell_type": "markdown",
   "id": "76fd89ee",
   "metadata": {},
   "source": [
    "Calculate average over multiple runs"
   ]
  },
  {
   "cell_type": "code",
   "execution_count": null,
   "id": "3af017eb",
   "metadata": {},
   "outputs": [],
   "source": [
    "exp_id_r1 = \"2022-03-07v7nsfU100G\"\n",
    "exp_id_r2 = \"2022-03-07v7nsfU100GR2\"\n",
    "exp_id_r3 = \"2022-03-07v7nsfU100GR3\"\n",
    "exp_id_r4 = \"2022-03-07v7nsfU100GR4\"\n",
    "exp_id_r5 = \"2022-03-07v7nsfU100GR5\"\n",
    "\n",
    "R1_mean = pickle.load(open(\"results/\"+exp_id_r1+\"_mean.pkl\",'rb'))\n",
    "R2_mean = pickle.load(open(\"results/\"+exp_id_r2+\"_mean.pkl\",'rb'))\n",
    "R3_mean = pickle.load(open(\"results/\"+exp_id_r3+\"_mean.pkl\",'rb'))\n",
    "R4_mean = pickle.load(open(\"results/\"+exp_id_r4+\"_mean.pkl\",'rb'))\n",
    "# R5_mean = pickle.load(open(\"results/\"+exp_id_r5+\"_mean.pkl\",'rb'))\n",
    "ave_mean = np.mean([R1_mean,R2_mean,R3_mean,R4_mean])\n",
    "R1_median = pickle.load(open(\"results/\"+exp_id_r1+\"_median.pkl\",'rb'))\n",
    "R2_median = pickle.load(open(\"results/\"+exp_id_r2+\"_median.pkl\",'rb'))\n",
    "R3_median = pickle.load(open(\"results/\"+exp_id_r3+\"_median.pkl\",'rb'))\n",
    "R4_median = pickle.load(open(\"results/\"+exp_id_r4+\"_median.pkl\",'rb'))\n",
    "# R5_median = pickle.load(open(\"results/\"+exp_id_r5+\"_median.pkl\",'rb'))\n",
    "ave_median = np.mean([R1_median,R2_median,R3_median,R4_median])\n",
    "R1_std = pickle.load(open(\"results/\"+exp_id_r1+\"_std.pkl\",'rb'))\n",
    "R2_std = pickle.load(open(\"results/\"+exp_id_r2+\"_std.pkl\",'rb'))\n",
    "R3_std = pickle.load(open(\"results/\"+exp_id_r3+\"_std.pkl\",'rb'))\n",
    "R4_std = pickle.load(open(\"results/\"+exp_id_r4+\"_std.pkl\",'rb'))\n",
    "# R5_std = pickle.load(open(\"results/\"+exp_id_r5+\"_std.pkl\",'rb'))\n",
    "ave_std = np.mean([R1_std,R2_std,R3_std,R4_std])"
   ]
  },
  {
   "cell_type": "code",
   "execution_count": null,
   "id": "a1c326c5",
   "metadata": {},
   "outputs": [],
   "source": [
    "print(\"Mean:\",ave_mean)\n",
    "print(\"Median:\",ave_median)\n",
    "print(\"Std:\",ave_std)"
   ]
  },
  {
   "cell_type": "markdown",
   "id": "45ee32f2",
   "metadata": {},
   "source": [
    "Plotting for multiple RL agents:"
   ]
  },
  {
   "cell_type": "code",
   "execution_count": null,
   "id": "87795532",
   "metadata": {},
   "outputs": [],
   "source": [
    "current_directory = os.getcwd()\n",
    "\n",
    "exp_id_m_u = \"2022-03-10v45nsfU100GR2\"  \n",
    "exp_id_nm_u = \"2022-03-15v45nsfU100GnomaskR3\"\n",
    "\n",
    "exp_id_m_nu = \"2022-03-15v45nsfUp5100GR3\"\n",
    "exp_id_nm_nu = \"2022-03-16v45nsfUp50100GnomaskR5\"  \n",
    "\n",
    "eval_name = \"_no_tfb\"\n",
    "route_dir = \"/Users/joshnevin/RL_FOCSLab/tmp/RWAFOCS-ppo/\"\n",
    "eval_dir_m_u = route_dir+exp_id_m_u+\"/_core_0/eval_results\"+eval_name\n",
    "eval_dir_nm_u = route_dir+exp_id_nm_u+\"/_core_0/eval_results\"+eval_name\n",
    "eval_dir_m_nu = route_dir+exp_id_m_nu+\"/_core_0/eval_results\"+eval_name\n",
    "eval_dir_nm_nu = route_dir+exp_id_nm_nu+\"/_core_0/eval_results\"+eval_name"
   ]
  },
  {
   "cell_type": "code",
   "execution_count": null,
   "id": "58d71fd9",
   "metadata": {},
   "outputs": [],
   "source": [
    "rewards_rl_m_u, eval_eps_rl_m_u, sim_time_rl_m_u, services_accepted_ep_rl_m_u, services_processed_ep_rl_m_u, services_accepted_rl_m_u, services_processed_rl_m_u, throughput_rl_m_u = get_info(eval_dir_m_u, 'rl', False)\n",
    "rewards_rl_nm_u, eval_eps_rl_nm_u, sim_time_rl_nm_u, services_accepted_ep_rl_nm_u, services_processed_ep_rl_nm_u, services_accepted_rl_nm_u, services_processed_rl_nm_u, throughput_rl_nm_u = get_info(eval_dir_nm_u, 'rl', False)\n",
    "rewards_rl_m_nu, eval_eps_rl_m_nu, sim_time_rl_m_nu, services_accepted_ep_rl_m_nu, services_processed_ep_rl_m_nu, services_accepted_rl_m_nu, services_processed_rl_m_nu, throughput_rl_m_nu = get_info(eval_dir_m_nu, 'rl', False)\n",
    "rewards_rl_nm_nu, eval_eps_rl_nm_nu, sim_time_rl_nm_nu, services_accepted_ep_rl_nm_nu, services_processed_ep_rl_nm_nu, services_accepted_rl_nm_nu, services_processed_rl_nm_nu, throughput_rl_nm_nu = get_info(eval_dir_nm_nu, 'rl', False)"
   ]
  },
  {
   "cell_type": "code",
   "execution_count": null,
   "id": "e967db35",
   "metadata": {},
   "outputs": [],
   "source": [
    "f, ax_1 = plt.subplots()\n",
    "dict_plt_m = {'IAM RL':services_accepted_ep_rl_m_u}\n",
    "dict_plt_nm = {'Standard RL':services_accepted_ep_rl_nm_u}\n",
    "plt.boxplot(dict_plt_m.values(),showfliers=False,showmeans=True)\n",
    "\n",
    "\n",
    "ax_2 = ax_1.twinx() \n",
    "plt.boxplot(dict_plt_nm.values(),showfliers=False,showmeans=True)\n",
    "\n",
    "# ax_1.set_xticklabels(dict_plt_m.keys())\n",
    "# ax_2.set_xticklabels(dict_plt_nm.keys())\n",
    "\n",
    "plt.ylabel(\"Services accepted\")\n",
    "# ax.set_aspect(1.0/ax.get_data_ratio(), adjustable='box')\n",
    "f.patch.set_facecolor('w')\n",
    "plt.grid()\n",
    "# plt.savefig('figures/masked_vs_unmasked_nonuniform_boxplot.png', dpi=500,bbox_inches='tight')\n",
    "# plt.savefig('figures/masked_vs_unmasked_uniform_boxplot.png', dpi=500,bbox_inches='tight')\n",
    "# plt.savefig('figures/masked_vs_unmasked_both_traffic_boxplot.png', dpi=500,bbox_inches='tight')\n",
    "plt.show()"
   ]
  },
  {
   "cell_type": "code",
   "execution_count": null,
   "id": "cf1a5d08",
   "metadata": {},
   "outputs": [],
   "source": [
    "f, ax = plt.subplots()\n",
    "dict_plt = {'IAM RL U':services_accepted_ep_rl_m_u,'Stan. RL U':services_accepted_ep_rl_nm_u,\n",
    "                'IAM RL non-U':services_accepted_ep_rl_m_nu,'Stan. RL non-U':services_accepted_ep_rl_nm_nu}\n",
    "bp = plt.boxplot(dict_plt.values(),showfliers=False,showmeans=True)\n",
    "ax.set_xticklabels(dict_plt.keys())\n",
    "plt.ylabel(\"Services accepted\")\n",
    "# ax.set_aspect(1.0/ax.get_data_ratio(), adjustable='box')\n",
    "f.patch.set_facecolor('w')\n",
    "plt.grid()\n",
    "# plt.savefig('figures/masked_vs_unmasked_nonuniform_boxplot.png', dpi=500,bbox_inches='tight')\n",
    "# plt.savefig('figures/masked_vs_unmasked_uniform_boxplot.png', dpi=500,bbox_inches='tight')\n",
    "plt.savefig('figures/masked_vs_unmasked_both_traffic_boxplot.png', dpi=500,bbox_inches='tight')\n",
    "plt.show()"
   ]
  },
  {
   "cell_type": "code",
   "execution_count": null,
   "id": "3b26a31f",
   "metadata": {},
   "outputs": [],
   "source": [
    "topology = 'nsfnet'\n",
    "f, ax = plt.subplots()\n",
    "bp = dict_plt = {'kSP-FF':services_accepted_ep_kspff,'kSP-MU':services_accepted_ep_kspmu,'FF-kSP':services_accepted_ep_ffksp,\n",
    "            'RL':services_accepted_ep_rl_1}\n",
    "bp = plt.boxplot(dict_plt.values(),showfliers=False,showmeans=True)\n",
    "ax.set_xticklabels(dict_plt.keys())\n",
    "plt.ylabel(\"Services accepted\")\n",
    "# ax.set_aspect(1.0/ax.get_data_ratio(), adjustable='box')\n",
    "f.patch.set_facecolor('w')\n",
    "# plt.legend([bp[\"boxes\"][0]], ['A'], loc='upper right')\n",
    "plt.grid()\n",
    "#plt.savefig('figures/servicesaccepted_bestresults'+topology+eval_name_plot+'modelA.png', dpi=500,bbox_inches='tight')\n",
    "plt.show()"
   ]
  },
  {
   "cell_type": "code",
   "execution_count": null,
   "id": "45270b2f",
   "metadata": {},
   "outputs": [],
   "source": [
    "medians = [item.get_ydata()[0] for item in bp['medians']]\n",
    "means = [item.get_ydata()[0] for item in bp['means']]\n",
    "print(f'Medians: {medians}\\n'\n",
    "      f'Means:   {means}')"
   ]
  },
  {
   "cell_type": "code",
   "execution_count": null,
   "id": "737ca830",
   "metadata": {},
   "outputs": [],
   "source": [
    "minimums = [round(item.get_ydata()[0], 1) for item in bp['caps']][::2]\n",
    "maximums = [round(item.get_ydata()[0], 1) for item in bp['caps']][1::2]\n",
    "print(f'Minimums: {minimums}\\n'\n",
    "      f'Maximums: {maximums}')\n",
    "q1 = [round(min(item.get_ydata()), 1) for item in bp['boxes']]\n",
    "q3 = [round(max(item.get_ydata()), 1) for item in bp['boxes']]\n",
    "# print(f'Q1: {q1}\\n'\n",
    "#       f'Q3: {q3}')\n",
    "IQR = [q3[i] - q1[i] for i in range(len(q1))]\n",
    "print(IQR)"
   ]
  },
  {
   "cell_type": "markdown",
   "id": "672d5ec8",
   "metadata": {},
   "source": [
    "Timing results"
   ]
  },
  {
   "cell_type": "code",
   "execution_count": null,
   "id": "ed63cb68",
   "metadata": {},
   "outputs": [],
   "source": [
    "rl_time = pickle.load(open(\"/Users/joshnevin/RL_FOCSLab/eval_timing/\"+exp_id+\"_RL.pkl\", 'rb'))\n",
    "kspff_time = pickle.load(open(\"/Users/joshnevin/RL_FOCSLab/eval_timing/\"+exp_id+\"_kspff.pkl\", 'rb'))\n",
    "ffksp_time = pickle.load(open(\"/Users/joshnevin/RL_FOCSLab/eval_timing/\"+exp_id+\"_ffksp.pkl\", 'rb'))\n",
    "camu_time = pickle.load(open(\"/Users/joshnevin/RL_FOCSLab/eval_timing/\"+exp_id+\"_camu.pkl\", 'rb'))\n",
    "kspmu_time = pickle.load(open(\"/Users/joshnevin/RL_FOCSLab/eval_timing/\"+exp_id+\"_kspmu.pkl\", 'rb'))"
   ]
  },
  {
   "cell_type": "code",
   "execution_count": null,
   "id": "d87e85e1",
   "metadata": {},
   "outputs": [],
   "source": [
    "print(rl_time)\n",
    "print(kspff_time)\n",
    "print(ffksp_time)\n",
    "print(camu_time)\n",
    "print(kspmu_time)"
   ]
  },
  {
   "cell_type": "code",
   "execution_count": null,
   "id": "7601ce50",
   "metadata": {},
   "outputs": [],
   "source": []
  }
 ],
 "metadata": {
  "kernelspec": {
   "display_name": "Python 3 (ipykernel)",
   "language": "python",
   "name": "python3"
  },
  "language_info": {
   "codemirror_mode": {
    "name": "ipython",
    "version": 3
   },
   "file_extension": ".py",
   "mimetype": "text/x-python",
   "name": "python",
   "nbconvert_exporter": "python",
   "pygments_lexer": "ipython3",
   "version": "3.7.12"
  }
 },
 "nbformat": 4,
 "nbformat_minor": 5
}
