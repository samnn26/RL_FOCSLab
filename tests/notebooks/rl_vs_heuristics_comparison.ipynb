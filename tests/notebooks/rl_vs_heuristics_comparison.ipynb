{
 "cells": [
  {
   "cell_type": "code",
   "execution_count": 356,
   "id": "3731ce5d",
   "metadata": {},
   "outputs": [],
   "source": [
    "import os\n",
    "import pickle\n",
    "import numpy as np\n",
    "from scipy.special import kl_div\n",
    "from scipy.stats import pearsonr\n",
    "from IPython.display import clear_output\n",
    "import matplotlib\n",
    "import matplotlib.pyplot as plt\n",
    "#import config InlineBackend.figure_format = 'svg'\n",
    "import tensorflow as tf\n",
    "# silencing tensorflow warnings\n",
    "import logging\n",
    "logging.getLogger('tensorflow').setLevel(logging.FATAL)\n",
    "from datetime import datetime\n",
    "tf.__version__ # printint out tensorflow version used\n",
    "import stable_baselines3\n",
    "import sb3_contrib\n",
    "from stable_baselines3.common.callbacks import BaseCallback\n",
    "# from stable_baselines3.results_plotter import load_results, ts2xy\n",
    "from stable_baselines3.common.results_plotter import load_results, ts2xy\n",
    "import optuna\n",
    "# from stable_baselines3.bench import Monitor\n",
    "from stable_baselines3.common.monitor import Monitor\n",
    "#from stable_baselines3.common.policies import MlpPolicy\n",
    "from stable_baselines3.common import results_plotter\n",
    "from sb3_contrib.common.maskable.evaluation import evaluate_policy\n",
    "from sb3_contrib import MaskablePPO\n",
    "from stable_baselines3.common.vec_env import DummyVecEnv\n",
    "#stable_baselines.__version__ # printing out stable_baselines version used\n",
    "import gym\n",
    "import pickle\n",
    "import cProfile \n",
    "import pandas as pd\n",
    "import ast\n",
    "import seaborn as sns\n",
    "font = { 'family' : 'sans-serif',\n",
    "                'weight' : 'normal',\n",
    "                'size'   : 11}\n",
    "matplotlib.rc('font', **font)"
   ]
  },
  {
   "cell_type": "code",
   "execution_count": 152,
   "id": "08d1e420",
   "metadata": {},
   "outputs": [],
   "source": [
    "current_directory = os.getcwd()\n",
    "\n",
    "exp_id = \"2022-03-09v7nsfU100Grewm1R3\"\n",
    "eval_name = \"_no_tfb\"\n",
    "# eval_name = \"_tfb_2500\"\n",
    "# eval_name = \"\"\n",
    "route_dir = \"/Users/joshnevin/RL_FOCSLab/tmp/RWAFOCS-ppo/\"\n",
    "eval_dir = route_dir+exp_id+\"/_core_0/eval_results\"+eval_name\n",
    "# \"GRAVITY\" NSFNET \n",
    "# eval_dir_h = route_dir+\"2022-02-23v42nsftfb\"+\"/_core_0/eval_results\"+\"_tfb\"\n",
    "# eval_dir_h = route_dir+\"2022-02-23v42nsftfbR3\"+\"/_core_0/eval_results\"+\"_no_tfb\"\n",
    "# eval_dir_h = route_dir+\"2022-02-24nsfgravityk3heuristics_eval/eval_results_no_tfb\"\n",
    "\n",
    "# JOCN results \n",
    "# uniform no tfb\n",
    "# eval_dir_h = route_dir+\"2022-02-24nsfnotfbuniheuristics_eval/eval_results_no_tfb\"  # 100G, k=5, 10k requests\n",
    "eval_dir_h = route_dir+\"2022-03-11nsfU100Gheuristics_eval/eval_results_no_tfb\" # with service distribution\n",
    "# uniform tfb\n",
    "# eval_dir_h = route_dir+\"2022-03-11nsfU100Gheuristics_eval/eval_results_tfb\" # with service distribution\n",
    "\n",
    "# non-uniform no tfb\n",
    "# eval_dir_h = route_dir+\"2022-03-04nsfUp50100G10kRheuristics_eval/eval_results_no_tfb\" # 100G, k=5, 10k requests\n",
    "# eval_dir_h = route_dir+\"2022-03-11nsfU50100Gheuristics_eval/eval_results_no_tfb\" # with service distribution\n",
    "# uniform tfb\n",
    "# eval_dir_h = route_dir+\"2022-03-11nsfU50100Gheuristics_eval/eval_results_tfb\" # with service distribution\n",
    "\n",
    "# eval_dir_h = route_dir+\"2022-02-24nsfunik3heuristics_eval/eval_results_no_tfb\"\n",
    "# eval_dir_h = route_dir+\"2022-03-01nsfuni200Gk3heuristics_eval/eval_results_no_tfb\"\n",
    "# eval_dir_h = route_dir+\"2022-03-03nsfuni500G2kRk5heuristics_eval/eval_results_no_tfb\" # 500G, k=5, 2k requests \n",
    "\n",
    "# UNIFORM 50% perturbation NSFNET\n",
    "\n",
    "# eval_dir_h = route_dir+\"2022-03-04nsfUp50500G2kRheuristics_eval/eval_results_no_tfb\" \n",
    "\n",
    "# UNIFORM DTAG\n",
    "# eval_dir_h = route_dir+\"2022-02-24dtagnotfbuniheuristics_eval/eval_results_no_tfb\" # 100G, k=5, 10k requests\n",
    "# eval_dir_h = route_dir+\"2022-02-24dtagunik3heuristics_eval/eval_results_no_tfb\"  # 100G, k=3, 10k requests\n",
    "# eval_dir_h = route_dir+\"2022-03-01dtaguni200Gheuristics_eval/eval_results_no_tfb\"  # 200G, k=5, 5k requests\n",
    "# eval_dir_h = route_dir+\"2022-03-01dtaguni200Gk3heuristics_eval/eval_results_no_tfb\" # 200G, k=3, 5k requests\n",
    "# eval_dir_h = route_dir+\"2022-03-01dtaguni200G75kRk3heuristics_eval/eval_results_no_tfb\" # 200G, k=5, 7.5k requests\n",
    "# UNIFORM 50% perturbation DTAG\n",
    "# eval_dir_h = route_dir+\"2022-03-04dtagUp50500G2kRheuristics_eval/eval_results_no_tfb\" # 500G, k=5, 2k requests "
   ]
  },
  {
   "cell_type": "code",
   "execution_count": 277,
   "id": "244e7857",
   "metadata": {},
   "outputs": [],
   "source": [
    "def get_info(eval_dir, model, get_dist):\n",
    "    df = pd.read_csv(eval_dir+\"/evaluation_\"+model+\".monitor.csv\", skiprows=1)\n",
    "    eval_eps = df.index.values\n",
    "    rewards = df['r'].to_numpy()\n",
    "    sim_time = df['t'].to_numpy()\n",
    "    services_accepted_ep = df['episode_services_accepted'].to_numpy()\n",
    "    services_processed_ep = df['episode_services_processed'].to_numpy()\n",
    "    services_accepted = df['services_accepted'].to_numpy()\n",
    "    services_processed = df['services_processed'].to_numpy()\n",
    "    throughput = df['throughput']/1e12\n",
    "    if get_dist:\n",
    "        service_dist = df['service_distribution']\n",
    "#         service_dist = service_dist[0]\n",
    "#         service_dist = ast.literal_eval(service_dist)\n",
    "#         service_dist = np.array(service_dist).reshape(22,100)  # NOTE! HAVE HARD CODED NUMBER OF EDGES AND CHANNELS!\n",
    "    #cum_services_accepted_ep = df['episode_cum_services_accepted']\n",
    "    #     return rewards, eval_eps, sim_time, services_accepted_ep, services_processed_ep, services_accepted, services_processed, throughput, service_dist\n",
    "        return rewards, eval_eps, sim_time, services_accepted_ep, services_processed_ep, services_accepted, services_processed, throughput, service_dist\n",
    "    else:\n",
    "        return rewards, eval_eps, sim_time, services_accepted_ep, services_processed_ep, services_accepted, services_processed, throughput\n",
    "def get_cum_results(eval_dir, model):\n",
    "    df = pd.read_csv(eval_dir+\"/evaluation_\"+model+\".monitor.csv\", skiprows=1)\n",
    "    cum_services_accepted = df['episode_cum_services_accepted'].to_numpy()\n",
    "    cum_services_processed = df['episode_cum_services_processed'].to_numpy()\n",
    "    return cum_services_accepted, cum_services_processed\n",
    "def get_services(service_dist, iter):\n",
    "    service_dist = service_dist[iter]\n",
    "    service_dist = ast.literal_eval(service_dist)\n",
    "    service_dist = np.array(service_dist).reshape(22,100)  # NOTE! HAVE HARD CODED NUMBER OF EDGES AND CHANNELS!\n",
    "    return service_dist"
   ]
  },
  {
   "cell_type": "code",
   "execution_count": 154,
   "id": "79808d76",
   "metadata": {},
   "outputs": [],
   "source": [
    "# tfb_test = pickle.load(open(eval_dir+\"/tfb_test.pkl\",'rb'))\n",
    "# tfb_test"
   ]
  },
  {
   "cell_type": "code",
   "execution_count": 170,
   "id": "0e2b948e",
   "metadata": {},
   "outputs": [],
   "source": [
    "# rewards_rl, eval_eps_rl, sim_time_rl, services_accepted_ep_rl, services_processed_ep_rl, services_accepted_rl, services_processed_rl, throughput_rl = get_info(eval_dir, 'rl', False)\n",
    "# rewards_kspff, eval_eps_kspff, sim_time_kspff, services_accepted_ep_kspff, services_processed_ep_kspff, services_accepted_kspff, services_processed_kspff, throughput_kspff = get_info(eval_dir_h, 'kspff', False)\n",
    "# rewards_ffksp, eval_eps_ffksp, sim_time_ffksp, services_accepted_ep_ffksp, services_processed_ep_ffksp, services_accepted_ffksp, services_processed_ffksp, throughput_ffksp = get_info(eval_dir_h, 'ffksp', False)\n",
    "# rewards_camu, eval_eps_camu, sim_time_camu, services_accepted_ep_camu, services_processed_ep_camu, services_accepted_camu, services_processed_camu, throughput_camu = get_info(eval_dir_h, 'camu', False)\n",
    "# rewards_kspmu, eval_eps_kspmu, sim_time_kspmu, services_accepted_ep_kspmu, services_processed_ep_kspmu, services_accepted_kspmu, services_processed_kspmu, throughput_kspmu = get_info(eval_dir_h, 'kspmu', False)\n",
    "# service distribution:\n",
    "rewards_rl, eval_eps_rl, sim_time_rl, services_accepted_ep_rl, services_processed_ep_rl, services_accepted_rl, services_processed_rl, throughput_rl, service_dist_rl = get_info(eval_dir, 'rl', True)\n",
    "rewards_kspff, eval_eps_kspff, sim_time_kspff, services_accepted_ep_kspff, services_processed_ep_kspff, services_accepted_kspff, services_processed_kspff, throughput_kspff, service_dist_kspff = get_info(eval_dir_h, 'kspff', True)\n",
    "rewards_ffksp, eval_eps_ffksp, sim_time_ffksp, services_accepted_ep_ffksp, services_processed_ep_ffksp, services_accepted_ffksp, services_processed_ffksp, throughput_ffksp, service_dist_ffksp  = get_info(eval_dir_h, 'ffksp', True)\n",
    "rewards_camu, eval_eps_camu, sim_time_camu, services_accepted_ep_camu, services_processed_ep_camu, services_accepted_camu, services_processed_camu, throughput_camu, service_dist_camu  = get_info(eval_dir_h, 'camu', True)\n",
    "rewards_kspmu, eval_eps_kspmu, sim_time_kspmu, services_accepted_ep_kspmu, services_processed_ep_kspmu, services_accepted_kspmu, services_processed_kspmu, throughput_kspmu, service_dist_kspmu  = get_info(eval_dir_h, 'kspmu', True)"
   ]
  },
  {
   "cell_type": "code",
   "execution_count": 164,
   "id": "ff28d1de",
   "metadata": {},
   "outputs": [],
   "source": [
    "# service_dist_rl[0]\n",
    "# cum_services_accepted_rl, cum_services_processed_rl = get_cum_results(eval_dir, 'rl')\n",
    "# test = ast.literal_eval(cum_services_accepted_rl[0])\n",
    "# test2 = ast.literal_eval(cum_services_processed_rl[0])"
   ]
  },
  {
   "cell_type": "code",
   "execution_count": 165,
   "id": "dcc582e1",
   "metadata": {},
   "outputs": [],
   "source": [
    "pickle.dump(np.mean(services_accepted_ep_rl), open(\"results/\"+exp_id+\"_mean.pkl\",'wb'))\n",
    "pickle.dump(np.median(services_accepted_ep_rl), open(\"results/\"+exp_id+\"_median.pkl\",'wb'))\n",
    "pickle.dump(np.std(services_accepted_ep_rl), open(\"results/\"+exp_id+\"_std.pkl\",'wb'))"
   ]
  },
  {
   "cell_type": "code",
   "execution_count": 166,
   "id": "46f8994e",
   "metadata": {
    "scrolled": false
   },
   "outputs": [
    {
     "name": "stdout",
     "output_type": "stream",
     "text": [
      "Mean: 6850.27\n",
      "Median: 6849.0\n",
      "Std: 63.44507151859788\n"
     ]
    }
   ],
   "source": [
    "print(\"Mean:\",np.mean(services_accepted_ep_rl))\n",
    "print(\"Median:\",np.median(services_accepted_ep_rl))\n",
    "print(\"Std:\",np.std(services_accepted_ep_rl))"
   ]
  },
  {
   "cell_type": "code",
   "execution_count": 167,
   "id": "bfae3c9e",
   "metadata": {},
   "outputs": [
    {
     "name": "stdout",
     "output_type": "stream",
     "text": [
      "RL: 6850.27\n",
      "kSP-FF: 6701.0\n",
      "FF-kSP: 6819.64\n",
      "CA-MU: 6652.92\n",
      "kSP-MU: 6805.04\n"
     ]
    }
   ],
   "source": [
    "print(\"RL:\",np.mean(services_accepted_ep_rl))\n",
    "print(\"kSP-FF:\",np.mean(services_accepted_ep_kspff))\n",
    "print(\"FF-kSP:\",np.mean(services_accepted_ep_ffksp))\n",
    "print(\"CA-MU:\",np.mean(services_accepted_ep_camu))\n",
    "print(\"kSP-MU:\",np.mean(services_accepted_ep_kspmu))"
   ]
  },
  {
   "cell_type": "code",
   "execution_count": 136,
   "id": "1d659ba0",
   "metadata": {},
   "outputs": [
    {
     "name": "stdout",
     "output_type": "stream",
     "text": [
      "RL: 4631.5\n",
      "kSP-FF: 3287.5\n",
      "FF-kSP: 5456.5\n",
      "CA-MU: 3370.0\n",
      "kSP-MU: 4154.0\n"
     ]
    }
   ],
   "source": [
    "print(\"RL:\",np.median(services_accepted_ep_rl))\n",
    "print(\"kSP-FF:\",np.median(services_accepted_ep_kspff))\n",
    "print(\"FF-kSP:\",np.median(services_accepted_ep_ffksp))\n",
    "print(\"CA-MU:\",np.median(services_accepted_ep_camu))\n",
    "print(\"kSP-MU:\",np.median(services_accepted_ep_kspmu))"
   ]
  },
  {
   "cell_type": "code",
   "execution_count": 48,
   "id": "54798c54",
   "metadata": {},
   "outputs": [
    {
     "name": "stdout",
     "output_type": "stream",
     "text": [
      "RL: 71.17267663928342\n",
      "kSP-FF: 54.843595797504015\n",
      "FF-kSP: 63.342327080712785\n",
      "CA-MU: 66.88313389786695\n",
      "kSP-MU: 80.27638756197243\n"
     ]
    }
   ],
   "source": [
    "print(\"RL:\",np.std(services_accepted_ep_rl))\n",
    "print(\"kSP-FF:\",np.std(services_accepted_ep_kspff))\n",
    "print(\"FF-kSP:\",np.std(services_accepted_ep_ffksp))\n",
    "print(\"CA-MU:\",np.std(services_accepted_ep_camu))\n",
    "print(\"kSP-MU:\",np.std(services_accepted_ep_kspmu))"
   ]
  },
  {
   "cell_type": "code",
   "execution_count": 49,
   "id": "8c87bac3",
   "metadata": {},
   "outputs": [
    {
     "name": "stdout",
     "output_type": "stream",
     "text": [
      "RL: 3738.02\n",
      "kSP-FF: 3402.0\n",
      "FF-kSP: 3639.28\n",
      "CA-MU: 3305.84\n",
      "kSP-MU: 3610.08\n"
     ]
    }
   ],
   "source": [
    "print(\"RL:\",np.mean(rewards_rl))\n",
    "print(\"kSP-FF:\",np.mean(rewards_kspff))\n",
    "print(\"FF-kSP:\",np.mean(rewards_ffksp))\n",
    "print(\"CA-MU:\",np.mean(rewards_camu))\n",
    "print(\"kSP-MU:\",np.mean(rewards_kspmu))"
   ]
  },
  {
   "cell_type": "code",
   "execution_count": null,
   "id": "97f8de1f",
   "metadata": {},
   "outputs": [],
   "source": [
    "np.mean(services_accepted_ep_rl) - np.mean(services_accepted_ffksp)"
   ]
  },
  {
   "cell_type": "code",
   "execution_count": 50,
   "id": "8a895523",
   "metadata": {},
   "outputs": [
    {
     "data": {
      "image/png": "[encoded data removed]",
      "text/plain": [
       "<Figure size 432x288 with 1 Axes>"
      ]
     },
     "metadata": {},
     "output_type": "display_data"
    }
   ],
   "source": [
    "f, ax = plt.subplots()\n",
    "dict_plt = {'kSP-FF':services_accepted_ep_kspff,'kSP-MU':services_accepted_ep_kspmu,'FF-kSP':services_accepted_ep_ffksp, 'RL':services_accepted_ep_rl}\n",
    "#dict_plt = {'FF-kSP':services_accepted_ep_ffksp, 'RL':services_accepted_ep_rl}\n",
    "plt.boxplot(dict_plt.values(),showfliers=False,showmeans=True)\n",
    "ax.set_xticklabels(dict_plt.keys())\n",
    "plt.ylabel(\"Services accepted\")\n",
    "# ax.set_aspect(1.0/ax.get_data_ratio(), adjustable='box')\n",
    "f.patch.set_facecolor('w')\n",
    "# plt.ylim([2285, 2305])\n",
    "plt.grid()\n",
    "plt.savefig('figures/'+exp_id+eval_name+'boxplot.jpeg', dpi=300,bbox_inches='tight')\n",
    "plt.show()"
   ]
  },
  {
   "cell_type": "markdown",
   "id": "a1cefae0",
   "metadata": {},
   "source": [
    "**Service distribution stuff!**  \n",
    "Questions to answer:  \n",
    "* how consistent is the placement of services across evaluation runs? Do any patterns emerge?\n",
    "* How similar is the RL agent allocation of services to the heuristics?\n",
    "* What is the trend with respect to edge length? "
   ]
  },
  {
   "cell_type": "code",
   "execution_count": 280,
   "id": "df42d8a0",
   "metadata": {},
   "outputs": [],
   "source": [
    "def get_all_services(service_dist_rl, num_edges, num_channels, num_evals):\n",
    "    arr = np.zeros([num_edges,num_channels,num_evals])\n",
    "    for i in range(num_evals):\n",
    "        arr[:,:,i] = get_services(service_dist_rl, i)\n",
    "    return arr"
   ]
  },
  {
   "cell_type": "code",
   "execution_count": 281,
   "id": "23a4403d",
   "metadata": {},
   "outputs": [],
   "source": [
    "serdist_rl = get_all_services(service_dist_rl, 22, 100, 100)\n",
    "serdist_kspff = get_all_services(service_dist_kspff, 22, 100, 100)\n",
    "serdist_ffksp = get_all_services(service_dist_ffksp, 22, 100, 100)\n",
    "serdist_kspmu = get_all_services(service_dist_kspmu, 22, 100, 100)"
   ]
  },
  {
   "cell_type": "code",
   "execution_count": 282,
   "id": "225fc443",
   "metadata": {},
   "outputs": [],
   "source": [
    "eval_ind = 0\n",
    "channel_occ_rl = np.sum(serdist_rl[:,:,eval_ind], axis=0)\n",
    "channel_occ_kspff = np.sum(serdist_kspff[:,:,eval_ind], axis=0)\n",
    "channel_occ_ffksp = np.sum(serdist_ffksp[:,:,eval_ind], axis=0)\n",
    "channel_occ_kspmu = np.sum(serdist_kspmu[:,:,eval_ind], axis=0)\n",
    "edge_occ_rl = np.sum(serdist_rl[:,:,eval_ind], axis=1)\n",
    "edge_occ_kspff = np.sum(serdist_kspff[:,:,eval_ind], axis=1)\n",
    "edge_occ_ffksp = np.sum(serdist_ffksp[:,:,eval_ind], axis=1)\n",
    "edge_occ_kspmu = np.sum(serdist_kspmu[:,:,eval_ind], axis=1)"
   ]
  },
  {
   "cell_type": "code",
   "execution_count": 369,
   "id": "dbfd4886",
   "metadata": {},
   "outputs": [],
   "source": [
    "serdist_rl_mean = np.mean(serdist_rl, axis=2)\n",
    "serdist_kspff_mean = np.mean(serdist_kspff, axis=2)\n",
    "serdist_ffksp_mean = np.mean(serdist_ffksp, axis=2)\n",
    "serdist_kspmu_mean = np.mean(serdist_kspmu, axis=2)"
   ]
  },
  {
   "cell_type": "code",
   "execution_count": 370,
   "id": "cab04e1f",
   "metadata": {},
   "outputs": [
    {
     "data": {
      "text/plain": [
       "(22, 100)"
      ]
     },
     "execution_count": 370,
     "metadata": {},
     "output_type": "execute_result"
    }
   ],
   "source": [
    "serdist_rl_mean.shape"
   ]
  },
  {
   "cell_type": "code",
   "execution_count": 380,
   "id": "1206adc2",
   "metadata": {},
   "outputs": [
    {
     "data": {
      "image/png": "[encoded data removed]",
      "text/plain": [
       "<Figure size 432x288 with 2 Axes>"
      ]
     },
     "metadata": {
      "needs_background": "light"
     },
     "output_type": "display_data"
    }
   ],
   "source": [
    "ax = sns.heatmap(serdist_rl_mean, linewidth=0.)\n",
    "ax.set_xlabel(\"Channel ID\")\n",
    "ax.set_ylabel(\"Link ID\")\n",
    "plt.savefig('figures/heatmap'+exp_id+'.jpeg', dpi=300,bbox_inches='tight')\n",
    "plt.show()"
   ]
  },
  {
   "cell_type": "code",
   "execution_count": 381,
   "id": "d3ce53a9",
   "metadata": {},
   "outputs": [
    {
     "data": {
      "image/png": "[encoded data removed]",
      "text/plain": [
       "<Figure size 432x288 with 2 Axes>"
      ]
     },
     "metadata": {
      "needs_background": "light"
     },
     "output_type": "display_data"
    }
   ],
   "source": [
    "ax = sns.heatmap(serdist_kspff_mean, linewidth=0.)\n",
    "ax.set_xlabel(\"Channel ID\")\n",
    "ax.set_ylabel(\"Link ID\")\n",
    "plt.savefig('figures/heatmap_uniform_kspff.jpeg', dpi=300,bbox_inches='tight')\n",
    "plt.show()"
   ]
  },
  {
   "cell_type": "code",
   "execution_count": 382,
   "id": "87418b47",
   "metadata": {},
   "outputs": [
    {
     "data": {
      "image/png": "[encoded data removed]",
      "text/plain": [
       "<Figure size 432x288 with 2 Axes>"
      ]
     },
     "metadata": {
      "needs_background": "light"
     },
     "output_type": "display_data"
    }
   ],
   "source": [
    "ax = sns.heatmap(serdist_ffksp_mean, linewidth=0.)\n",
    "ax.set_xlabel(\"Channel ID\")\n",
    "ax.set_ylabel(\"Link ID\")\n",
    "plt.savefig('figures/heatmap_uniform_ffksp.jpeg', dpi=300,bbox_inches='tight')\n",
    "plt.show()"
   ]
  },
  {
   "cell_type": "code",
   "execution_count": 383,
   "id": "2c583063",
   "metadata": {},
   "outputs": [
    {
     "data": {
      "image/png": "[encoded data removed]",
      "text/plain": [
       "<Figure size 432x288 with 2 Axes>"
      ]
     },
     "metadata": {
      "needs_background": "light"
     },
     "output_type": "display_data"
    }
   ],
   "source": [
    "ax = sns.heatmap(serdist_kspmu_mean, linewidth=0.)\n",
    "ax.set_xlabel(\"Channel ID\")\n",
    "ax.set_ylabel(\"Link ID\")\n",
    "plt.savefig('figures/heatmap_uniform_kspmu.jpeg', dpi=300,bbox_inches='tight')\n",
    "plt.show()"
   ]
  },
  {
   "cell_type": "code",
   "execution_count": null,
   "id": "89818dee",
   "metadata": {},
   "outputs": [],
   "source": [
    "ax = sns.heatmap(channel_occ_kspmu_mean, linewidth=0.)\n",
    "plt.show()"
   ]
  },
  {
   "cell_type": "code",
   "execution_count": 338,
   "id": "a8b02754",
   "metadata": {},
   "outputs": [],
   "source": [
    "mean_edge_occ_rl = np.sum(np.mean(serdist_rl, axis=2), axis=1)\n",
    "mean_edge_occ_ffksp = np.sum(np.mean(serdist_ffksp, axis=2), axis=1)\n",
    "mean_edge_occ_kspff = np.sum(np.mean(serdist_kspff, axis=2), axis=1)\n",
    "mean_edge_occ_kspmu = np.sum(np.mean(serdist_kspmu, axis=2), axis=1)"
   ]
  },
  {
   "cell_type": "code",
   "execution_count": 354,
   "id": "c71bbe6d",
   "metadata": {},
   "outputs": [
    {
     "data": {
      "text/plain": [
       "array([[ 536.,  231.,  285., ...,  418.,  463.,  872.],\n",
       "       [ 462.,  399.,  213., ...,  353.,  446.,  848.],\n",
       "       [ 618.,  655.,  580., ...,  688.,  399.,  741.],\n",
       "       ...,\n",
       "       [ 555.,  477.,  396., ...,  519.,  468.,  947.],\n",
       "       [ 676.,  169.,  643., ...,  571.,  592., 1384.],\n",
       "       [ 881.,  811.,  837., ...,  904.,  783., 1011.]])"
      ]
     },
     "execution_count": 354,
     "metadata": {},
     "output_type": "execute_result"
    }
   ],
   "source": [
    "edge_occ_rl = serdist_rl\n",
    "edge_occ_rl"
   ]
  },
  {
   "cell_type": "code",
   "execution_count": 339,
   "id": "e8057eef",
   "metadata": {},
   "outputs": [
    {
     "data": {
      "text/plain": [
       "(0.9491740409206229, 1.6821626771979175e-11)"
      ]
     },
     "execution_count": 339,
     "metadata": {},
     "output_type": "execute_result"
    }
   ],
   "source": [
    "pearsonr(mean_edge_occ_rl, mean_edge_occ_ffksp)"
   ]
  },
  {
   "cell_type": "code",
   "execution_count": 340,
   "id": "46515a3d",
   "metadata": {},
   "outputs": [
    {
     "data": {
      "text/plain": [
       "(0.9837456229788554, 2.172818351350987e-16)"
      ]
     },
     "execution_count": 340,
     "metadata": {},
     "output_type": "execute_result"
    }
   ],
   "source": [
    "pearsonr(mean_edge_occ_rl, mean_edge_occ_kspff)"
   ]
  },
  {
   "cell_type": "code",
   "execution_count": 341,
   "id": "918fdd95",
   "metadata": {},
   "outputs": [
    {
     "data": {
      "text/plain": [
       "(0.9827703489361407, 3.875607950069653e-16)"
      ]
     },
     "execution_count": 341,
     "metadata": {},
     "output_type": "execute_result"
    }
   ],
   "source": [
    "pearsonr(mean_edge_occ_rl, mean_edge_occ_kspmu)"
   ]
  },
  {
   "cell_type": "code",
   "execution_count": null,
   "id": "cd0de70b",
   "metadata": {},
   "outputs": [],
   "source": [
    "pearsonr(mean_edge_occ_rl, mean_edge_occ_ffksp)"
   ]
  },
  {
   "cell_type": "code",
   "execution_count": 352,
   "id": "3e5c7229",
   "metadata": {},
   "outputs": [
    {
     "data": {
      "text/plain": [
       "array([2.71484806, 3.54314832, 3.43329288, 1.76915234, 1.89132229,\n",
       "       3.24374783, 3.68239053, 3.24177421, 3.1329858 , 3.16977917,\n",
       "       3.3763886 , 3.07382498, 1.75416647, 2.93625612, 3.6537515 ,\n",
       "       2.51109538, 3.57114827, 3.60137474, 3.21521383, 1.87325919,\n",
       "       0.83090312, 3.49479613, 0.95057877, 3.39640987, 1.85321343,\n",
       "       1.92028644, 3.4478254 , 3.1750748 , 3.67200218, 1.4427751 ,\n",
       "       2.67751751, 3.59583092, 1.08715224, 1.67332005, 1.14415908,\n",
       "       2.85830369, 2.02926095, 3.48394891, 3.55554497, 3.66518758,\n",
       "       2.42866218, 3.1822005 , 3.21463839, 2.38419798, 3.13049517,\n",
       "       3.08227189, 3.30302891, 3.28102118, 4.03360881, 3.35105953,\n",
       "       3.2975597 , 3.16257806, 3.38554279, 3.01257365, 1.04359954,\n",
       "       3.58574957, 3.29622511, 3.60909961, 3.53304401, 2.61401989,\n",
       "       3.03860165, 2.97743178, 3.40838672, 2.6471683 , 3.15168209,\n",
       "       3.62767143, 3.16455368, 1.67508209, 2.83511905, 3.29622511,\n",
       "       3.54359986, 1.41901374, 3.70203998, 1.47594038, 3.48153702,\n",
       "       3.28913362, 3.08951452, 3.34321701, 3.47050429, 3.27603419,\n",
       "       3.01403384, 3.344488  , 3.02778797, 3.21824486, 3.20961057,\n",
       "       3.24916912, 3.19687347, 2.88      , 2.9718008 , 3.33460642,\n",
       "       3.46121366, 3.50158536, 3.31932222, 2.81069386, 4.21875574,\n",
       "       2.6362663 , 3.33982035, 3.5139152 , 2.94501273, 1.4427751 ])"
      ]
     },
     "execution_count": 352,
     "metadata": {},
     "output_type": "execute_result"
    }
   ],
   "source": [
    "np.std(serdist_rl, axis=2)[0]"
   ]
  },
  {
   "cell_type": "code",
   "execution_count": 351,
   "id": "3a947bf4",
   "metadata": {},
   "outputs": [
    {
     "data": {
      "text/plain": [
       "array([148.75, 142.47, 143.28, 177.93, 186.7 , 137.79, 158.06, 133.38,\n",
       "       126.47, 153.46, 153.46, 144.35, 196.1 , 150.75, 145.38, 137.68,\n",
       "       150.01, 133.86, 143.97, 142.77, 211.92, 145.71, 207.54, 146.6 ,\n",
       "       186.36, 139.14, 152.95, 136.85, 152.05, 199.47, 182.06, 154.32,\n",
       "       205.15, 198.82, 190.21, 139.39, 136.43, 153.99, 138.8 , 151.86,\n",
       "       131.98, 154.  , 151.31, 140.61, 141.88, 132.61, 140.93, 137.52,\n",
       "       168.05, 135.29, 140.04, 139.77, 147.16, 144.85, 195.54, 154.39,\n",
       "       141.78, 146.04, 144.14, 141.15, 176.5 , 131.93, 146.47, 154.26,\n",
       "       149.97, 154.05, 139.61, 145.55, 136.9 , 143.75, 147.55, 139.66,\n",
       "       158.83, 198.89, 155.71, 136.02, 134.53, 148.98, 151.07, 135.94,\n",
       "       142.93, 157.21, 140.24, 139.82, 140.21, 178.46, 150.95, 139.25,\n",
       "       150.47, 143.28, 154.08, 144.62, 145.73, 131.46, 161.73, 141.57,\n",
       "       147.1 , 150.49, 136.53, 201.22])"
      ]
     },
     "execution_count": 351,
     "metadata": {},
     "output_type": "execute_result"
    }
   ],
   "source": [
    "np.sum(np.mean(serdist_rl, axis=2), axis=0)"
   ]
  },
  {
   "cell_type": "code",
   "execution_count": 287,
   "id": "bd842692",
   "metadata": {},
   "outputs": [
    {
     "data": {
      "text/plain": [
       "array([ 0.50327539,  0.50327539,  0.50327539,  0.07509592,  0.        ,\n",
       "        0.06528025,  0.        ,  0.50327539,  0.07509592,  0.06528025,\n",
       "        0.50327539,  0.50327539,  0.21485159,  0.        , 10.        ,\n",
       "        0.        ,  0.93504626,  8.        ,  7.        ,  0.07905476,\n",
       "        0.240799  ,  9.        ,  0.56720935,  0.50327539,  0.        ,\n",
       "        0.        ,  0.93504626, 10.        ,  0.        ,  0.50327539,\n",
       "        0.93504626,  0.93504626,  0.07509592,  0.50327539,  8.        ,\n",
       "        0.50327539,  0.        ,  9.        ,  0.93504626,  0.50327539,\n",
       "        0.93504626,  0.06528025,  0.50327539,  0.50327539,  0.        ,\n",
       "       10.        ,  0.93504626,  0.56720935,  0.07509592,  0.50327539,\n",
       "        0.50327539, 10.        ,  0.27390757,  0.93504626, 10.        ,\n",
       "        0.50327539,  0.93504626,  7.        ,  0.        ,  0.50327539,\n",
       "       10.        ,  0.240799  ,  0.        ,  0.        ,  0.50327539,\n",
       "        0.        ,  0.93504626,  8.        ,  0.        ,  0.        ,\n",
       "        0.        ,  0.06528025,  0.        ,  8.        ,  0.07905476,\n",
       "        0.240799  ,  0.50327539,  0.07905476,  0.        , 10.        ,\n",
       "        0.50327539,  0.93504626,  6.        ,  0.93504626,  0.        ,\n",
       "        0.        ,  7.        ,  8.        ,  0.240799  ,  0.93504626,\n",
       "        0.50327539,  0.56720935,  0.240799  , 10.        ,  6.        ,\n",
       "        0.        ,  0.07905476,  0.50327539,  0.07905476,  0.56720935])"
      ]
     },
     "execution_count": 287,
     "metadata": {},
     "output_type": "execute_result"
    }
   ],
   "source": [
    "kl_div(serdist_rl[0,0,:], serdist_ffksp[0,0,:])"
   ]
  },
  {
   "cell_type": "markdown",
   "id": "aacf822f",
   "metadata": {},
   "source": [
    "Occpuation of each wavelength slot"
   ]
  },
  {
   "cell_type": "code",
   "execution_count": 204,
   "id": "b763fb83",
   "metadata": {},
   "outputs": [
    {
     "data": {
      "text/plain": [
       "array([7.17830246e+00, 5.81325050e+00, 6.01224245e+00, 2.25031469e-01,\n",
       "       2.88514491e-01, 4.25090049e+00, 7.01032405e-01, 1.35646413e+01,\n",
       "       1.10127124e+01, 6.29987400e+00, 1.37947016e+00, 6.63094767e+00,\n",
       "       4.33224322e-02, 2.51725610e+00, 6.26241702e+00, 1.72657330e+00,\n",
       "       3.52946496e+00, 1.33908065e+01, 8.14727548e+00, 7.91804578e+00,\n",
       "       3.91874132e+00, 1.96747580e-01, 9.79880760e+00, 1.18431360e-01,\n",
       "       2.27793640e+00, 3.48454611e+00, 2.46992856e-01, 1.51562271e-01,\n",
       "       6.57113747e-01, 1.39738480e+00, 4.01071661e+00, 6.11030893e+00,\n",
       "       1.75603340e+01, 2.46774436e+00, 1.18618247e+01, 1.45280151e-02,\n",
       "       5.34542447e-02, 4.02158845e+00, 2.35578525e+00, 3.55551050e-01,\n",
       "       3.39195498e+00, 1.98374390e-01, 3.33973514e+00, 5.38138314e-02,\n",
       "       5.77699194e-01, 2.25217516e+00, 3.16494027e-01, 7.09107628e+00,\n",
       "       2.76078803e-02, 3.00074777e-01, 3.48122450e-01, 3.72785927e-01,\n",
       "       2.16925273e+00, 5.05281014e-02, 6.69598162e+00, 1.14920788e+01,\n",
       "       9.23771436e-01, 2.66009127e+00, 2.09129466e+00, 7.08842859e-01,\n",
       "       1.76896332e+00, 4.54342387e+00, 2.35501196e-01, 2.31462823e-01,\n",
       "       8.37105944e-02, 2.38272666e-01, 1.40188444e-02, 1.44977339e+00,\n",
       "       2.75567138e-01, 0.00000000e+00, 5.20627042e-02, 3.16909289e-02,\n",
       "       1.16296914e+00, 3.59706763e+00, 1.97636897e+00, 6.85552691e-01,\n",
       "       7.22780787e-01, 2.77455369e-01, 6.52203058e-01, 6.07626220e-02,\n",
       "       8.46472436e-01, 2.19923996e+00, 4.95324755e+00, 3.85605389e-03,\n",
       "       5.33570473e-01, 8.94662965e+00, 1.30448564e-01, 3.28228356e-03,\n",
       "       1.93835371e+00, 3.13419915e+00, 1.32871303e+00, 2.44948567e-01,\n",
       "       3.80456462e+00, 3.27511698e-03, 5.72767501e+00, 1.79294608e-01,\n",
       "       2.90006853e+00, 4.57925409e+00, 1.81958202e-01, 1.68048865e+01])"
      ]
     },
     "execution_count": 204,
     "metadata": {},
     "output_type": "execute_result"
    }
   ],
   "source": [
    "kl_div(channel_occ_rl, channel_occ_ffksp)"
   ]
  },
  {
   "cell_type": "code",
   "execution_count": 192,
   "id": "0d5d7a46",
   "metadata": {},
   "outputs": [
    {
     "data": {
      "image/png": "[encoded data removed]",
      "text/plain": [
       "<Figure size 432x288 with 1 Axes>"
      ]
     },
     "metadata": {
      "needs_background": "light"
     },
     "output_type": "display_data"
    }
   ],
   "source": [
    "plt.bar(np.arange(0,100,1), (channel_occ_rl))\n",
    "plt.show()"
   ]
  },
  {
   "cell_type": "code",
   "execution_count": 193,
   "id": "4f66e95b",
   "metadata": {},
   "outputs": [
    {
     "data": {
      "image/png": "[encoded data removed]",
      "text/plain": [
       "<Figure size 432x288 with 1 Axes>"
      ]
     },
     "metadata": {
      "needs_background": "light"
     },
     "output_type": "display_data"
    }
   ],
   "source": [
    "plt.bar(np.arange(0,100,1), (channel_occ_kspff))\n",
    "plt.show()"
   ]
  },
  {
   "cell_type": "code",
   "execution_count": 194,
   "id": "e8fcbccc",
   "metadata": {},
   "outputs": [
    {
     "data": {
      "image/png": "[encoded data removed]",
      "text/plain": [
       "<Figure size 432x288 with 1 Axes>"
      ]
     },
     "metadata": {
      "needs_background": "light"
     },
     "output_type": "display_data"
    }
   ],
   "source": [
    "plt.bar(np.arange(0,100,1), (channel_occ_ffksp))\n",
    "plt.show()"
   ]
  },
  {
   "cell_type": "code",
   "execution_count": 195,
   "id": "c75f8f90",
   "metadata": {},
   "outputs": [
    {
     "data": {
      "image/png": "[encoded data removed]",
      "text/plain": [
       "<Figure size 432x288 with 1 Axes>"
      ]
     },
     "metadata": {
      "needs_background": "light"
     },
     "output_type": "display_data"
    }
   ],
   "source": [
    "plt.bar(np.arange(0,100,1), (channel_occ_kspmu))\n",
    "plt.show()"
   ]
  },
  {
   "cell_type": "markdown",
   "id": "abd522f3",
   "metadata": {},
   "source": [
    "Occupation of each edge"
   ]
  },
  {
   "cell_type": "code",
   "execution_count": 196,
   "id": "ca92a4df",
   "metadata": {},
   "outputs": [],
   "source": [
    "edge_occ_rl = np.sum(serdist_rl, axis=1)\n",
    "edge_occ_kspff = np.sum(serdist_kspff, axis=1)\n",
    "edge_occ_ffksp = np.sum(serdist_ffksp, axis=1)\n",
    "edge_occ_kspmu = np.sum(serdist_kspmu, axis=1)"
   ]
  },
  {
   "cell_type": "markdown",
   "id": "aed278fa",
   "metadata": {},
   "source": [
    "Most to least occupied edges:"
   ]
  },
  {
   "cell_type": "code",
   "execution_count": 292,
   "id": "5ef97bcd",
   "metadata": {},
   "outputs": [
    {
     "data": {
      "text/plain": [
       "array([850., 563., 750., 826., 770., 833., 741., 497., 591., 837., 808.,\n",
       "       791., 750., 747., 443., 667., 602., 377., 726., 695., 734., 605.])"
      ]
     },
     "execution_count": 292,
     "metadata": {},
     "output_type": "execute_result"
    }
   ],
   "source": [
    "edge_occ_rl[len_ordered_edge_inds]"
   ]
  },
  {
   "cell_type": "code",
   "execution_count": 293,
   "id": "62946443",
   "metadata": {},
   "outputs": [
    {
     "data": {
      "image/png": "[encoded data removed]",
      "text/plain": [
       "<Figure size 432x288 with 1 Axes>"
      ]
     },
     "metadata": {
      "needs_background": "light"
     },
     "output_type": "display_data"
    }
   ],
   "source": [
    "plt.bar(np.arange(0,22,1), (edge_occ_rl[len_ordered_edge_inds]))\n",
    "plt.show()"
   ]
  },
  {
   "cell_type": "code",
   "execution_count": 294,
   "id": "99c8d851",
   "metadata": {},
   "outputs": [
    {
     "data": {
      "image/png": "[encoded data removed]",
      "text/plain": [
       "<Figure size 432x288 with 1 Axes>"
      ]
     },
     "metadata": {
      "needs_background": "light"
     },
     "output_type": "display_data"
    }
   ],
   "source": [
    "plt.bar(np.arange(0,22,1), (edge_occ_ffksp[len_ordered_edge_inds]))\n",
    "plt.show()"
   ]
  },
  {
   "cell_type": "code",
   "execution_count": 295,
   "id": "23063e97",
   "metadata": {},
   "outputs": [
    {
     "data": {
      "image/png": "[encoded data removed]",
      "text/plain": [
       "<Figure size 432x288 with 1 Axes>"
      ]
     },
     "metadata": {
      "needs_background": "light"
     },
     "output_type": "display_data"
    }
   ],
   "source": [
    "plt.bar(np.arange(0,22,1), (edge_occ_kspff[len_ordered_edge_inds]))\n",
    "plt.show()"
   ]
  },
  {
   "cell_type": "code",
   "execution_count": 296,
   "id": "0c6e369b",
   "metadata": {},
   "outputs": [
    {
     "data": {
      "image/png": "[encoded data removed]",
      "text/plain": [
       "<Figure size 432x288 with 1 Axes>"
      ]
     },
     "metadata": {
      "needs_background": "light"
     },
     "output_type": "display_data"
    }
   ],
   "source": [
    "plt.bar(np.arange(0,22,1), (edge_occ_kspmu[len_ordered_edge_inds]))\n",
    "plt.show()"
   ]
  },
  {
   "cell_type": "markdown",
   "id": "8493e108",
   "metadata": {},
   "source": [
    "Mapping of topology to edge indices:  \n",
    "1 2 1000 --> 0  \n",
    "1 3 1500 --> 1  \n",
    "1 8 2400 --> 2  \n",
    "2 3 600  --> 3  \n",
    "2 4 700  --> 4  \n",
    "3 6 1800 --> 5  \n",
    "4 5 600  --> 6  \n",
    "4 11 1900--> 7  \n",
    "5 6 1200 --> 8  \n",
    "5 7 600  --> 9  \n",
    "6 10 1000--> 10  \n",
    "6 14 1800--> 11  \n",
    "7 8 700  --> 12  \n",
    "7 10 1300--> 13  \n",
    "8 9 700  --> 14  \n",
    "9 10 700 --> 15  \n",
    "9 12 300 --> 16  \n",
    "9 13 300 --> 17   \n",
    "11 12 600--> 18  \n",
    "11 13 700--> 19  \n",
    "12 14 300--> 20  \n",
    "13 14 100--> 21  "
   ]
  },
  {
   "cell_type": "code",
   "execution_count": 290,
   "id": "017d4706",
   "metadata": {},
   "outputs": [
    {
     "data": {
      "text/plain": [
       "22"
      ]
     },
     "execution_count": 290,
     "metadata": {},
     "output_type": "execute_result"
    }
   ],
   "source": [
    "len_ordered_edge_inds = [21,20,17,16,18,9,6,3,19,15,14,12,4,10,0,8,13,1,11,5,7,2]\n",
    "len(len_ordered_edge_inds)"
   ]
  },
  {
   "cell_type": "markdown",
   "id": "c62ed369",
   "metadata": {},
   "source": [
    "Calculate average over multiple runs"
   ]
  },
  {
   "cell_type": "code",
   "execution_count": null,
   "id": "c5af22e9",
   "metadata": {},
   "outputs": [],
   "source": [
    "exp_id_r1 = \"2022-03-07v7nsfU100G\"\n",
    "exp_id_r2 = \"2022-03-07v7nsfU100GR2\"\n",
    "exp_id_r3 = \"2022-03-07v7nsfU100GR3\"\n",
    "exp_id_r4 = \"2022-03-07v7nsfU100GR4\"\n",
    "exp_id_r5 = \"2022-03-07v7nsfU100GR5\"\n",
    "\n",
    "R1_mean = pickle.load(open(\"results/\"+exp_id_r1+\"_mean.pkl\",'rb'))\n",
    "R2_mean = pickle.load(open(\"results/\"+exp_id_r2+\"_mean.pkl\",'rb'))\n",
    "R3_mean = pickle.load(open(\"results/\"+exp_id_r3+\"_mean.pkl\",'rb'))\n",
    "R4_mean = pickle.load(open(\"results/\"+exp_id_r4+\"_mean.pkl\",'rb'))\n",
    "# R5_mean = pickle.load(open(\"results/\"+exp_id_r5+\"_mean.pkl\",'rb'))\n",
    "ave_mean = np.mean([R1_mean,R2_mean,R3_mean,R4_mean])\n",
    "R1_median = pickle.load(open(\"results/\"+exp_id_r1+\"_median.pkl\",'rb'))\n",
    "R2_median = pickle.load(open(\"results/\"+exp_id_r2+\"_median.pkl\",'rb'))\n",
    "R3_median = pickle.load(open(\"results/\"+exp_id_r3+\"_median.pkl\",'rb'))\n",
    "R4_median = pickle.load(open(\"results/\"+exp_id_r4+\"_median.pkl\",'rb'))\n",
    "# R5_median = pickle.load(open(\"results/\"+exp_id_r5+\"_median.pkl\",'rb'))\n",
    "ave_median = np.mean([R1_median,R2_median,R3_median,R4_median])\n",
    "R1_std = pickle.load(open(\"results/\"+exp_id_r1+\"_std.pkl\",'rb'))\n",
    "R2_std = pickle.load(open(\"results/\"+exp_id_r2+\"_std.pkl\",'rb'))\n",
    "R3_std = pickle.load(open(\"results/\"+exp_id_r3+\"_std.pkl\",'rb'))\n",
    "R4_std = pickle.load(open(\"results/\"+exp_id_r4+\"_std.pkl\",'rb'))\n",
    "# R5_std = pickle.load(open(\"results/\"+exp_id_r5+\"_std.pkl\",'rb'))\n",
    "ave_std = np.mean([R1_std,R2_std,R3_std,R4_std])"
   ]
  },
  {
   "cell_type": "code",
   "execution_count": null,
   "id": "f4fb16c2",
   "metadata": {},
   "outputs": [],
   "source": [
    "print(\"Mean:\",ave_mean)\n",
    "print(\"Median:\",ave_median)\n",
    "print(\"Std:\",ave_std)"
   ]
  },
  {
   "cell_type": "code",
   "execution_count": null,
   "id": "c22a6017",
   "metadata": {},
   "outputs": [],
   "source": [
    "f, ax = plt.subplots()\n",
    "dict_plt = {'kSP-FF':services_accepted_ep_kspff,'kSP-MU':services_accepted_ep_kspmu,'FF-kSP':services_accepted_ep_ffksp, 'RL':services_accepted_ep_rl}\n",
    "#dict_plt = {'FF-kSP':services_accepted_ep_ffksp, 'RL':services_accepted_ep_rl}\n",
    "plt.boxplot(dict_plt.values(),showfliers=False,showmeans=True)\n",
    "ax.set_xticklabels(dict_plt.keys())\n",
    "plt.ylabel(\"Services accepted\")\n",
    "# ax.set_aspect(1.0/ax.get_data_ratio(), adjustable='box')\n",
    "f.patch.set_facecolor('w')\n",
    "# plt.ylim([2285, 2305])\n",
    "plt.grid()\n",
    "# plt.savefig('figures/'+exp_id+eval_name+'boxplot.jpeg', dpi=300,bbox_inches='tight')\n",
    "plt.show()"
   ]
  },
  {
   "cell_type": "markdown",
   "id": "45ee32f2",
   "metadata": {},
   "source": [
    "Plotting for multiple RL agents:"
   ]
  },
  {
   "cell_type": "code",
   "execution_count": null,
   "id": "87795532",
   "metadata": {},
   "outputs": [],
   "source": [
    "# exp_id_1 = \"2022-02-03v42frR3\"  # old top best res\n",
    "# exp_id_2 = \"2022-02-04v2112frR3cont\" # old top with v2112 bug best res\n",
    "\n",
    "# exp_id_1 = \"2022-02-08v42frfixedrdR2\"  # best res with rounded NSFNET and v2112 fixed tfb = false training\n",
    "# exp_id_2 = \"2022-02-09v2112frfixedrdcont\"\n",
    "\n",
    "# exp_id_4 = \"2022-02-09v2112tfbnsf\"\n",
    "\n",
    "\n",
    "exp_id_1 = \"2022-02-09v42tfbnsfR2\"  # best res with rounded NSFNET and v2112 fixed tfb = True training\n",
    "exp_id_h = \"2022-02-08v42frfixedrd\"  # NSFNET\n",
    "\n",
    "# exp_id_1 = \"2022-02-09v42frfixeddtagcont\"  # best res with DTAG and v2112 fixed tfb = false training\n",
    "# exp_id_2 = \"2022-02-08v2112frfixeddtagR2\"\n",
    "# # exp_id_2 = \"2022-02-09v2112tfbdtagR3\"\n",
    "\n",
    "\n",
    "# exp_id_1 = \"2022-02-09v42tfbdtagR3\"  # best res with DTAG and v2112 fixed tfb = True training\n",
    "# exp_id_h = \"2022-02-08v42frfixeddtagR3\" # DTAG\n",
    "\n",
    "# exp_id_3 = \"2022-02-09v42frfixeddtagcont\"  # best res with DTAG and v2112 fixed tfb = false training\n",
    "# exp_id_4 = \"2022-02-08v2112frfixeddtagR2\"\n",
    "\n",
    "eval_name_plot = \"_tfb_2500\"\n",
    "eval_dir_1 = \"/Users/joshnevin/RL_FOCSLab/tmp/RWAFOCS-ppo/\"+exp_id_1+\"/_core_0/eval_results\"+eval_name_plot\n",
    "# eval_dir_2 = \"/Users/joshnevin/RL_FOCSLab/tmp/RWAFOCS-ppo/\"+exp_id_2+\"/_core_0/eval_results\"+eval_name_plot\n",
    "# eval_dir_3 = \"/Users/joshnevin/RL_FOCSLab/tmp/RWAFOCS-ppo/\"+exp_id_3+\"/_core_0/eval_results\"+eval_name_plot\n",
    "# eval_dir_4 = \"/Users/joshnevin/RL_FOCSLab/tmp/RWAFOCS-ppo/\"+exp_id_4+\"/_core_0/eval_results\"+eval_name_plot\n",
    "eval_dir_h = \"/Users/joshnevin/RL_FOCSLab/tmp/RWAFOCS-ppo/\"+exp_id_h+\"/_core_0/eval_results\"+eval_name_plot"
   ]
  },
  {
   "cell_type": "code",
   "execution_count": null,
   "id": "9cc8e763",
   "metadata": {},
   "outputs": [],
   "source": [
    "rewards_rl_1, eval_eps_rl_1, sim_time_rl_1, services_accepted_ep_rl_1, services_processed_ep_rl_1, services_accepted_rl_1, services_processed_rl_1, throughput_rl_1 = get_info(eval_dir_1, 'rl')\n",
    "# rewards_rl_2, eval_eps_rl_2, sim_time_rl_2, services_accepted_ep_rl_2, services_processed_ep_rl_2, services_accepted_rl_2, services_processed_rl_2, throughput_rl_2 = get_info(eval_dir_2, 'rl')\n",
    "# rewards_rl_3, eval_eps_rl_3, sim_time_rl_3, services_accepted_ep_rl_3, services_processed_ep_rl_3, services_accepted_rl_3, services_processed_rl_3, throughput_rl_3 = get_info(eval_dir_3, 'rl')\n",
    "# rewards_rl_4, eval_eps_rl_4, sim_time_rl_4, services_accepted_ep_rl_4, services_processed_ep_rl_4, services_accepted_rl_4, services_processed_rl_4, throughput_rl_4 = get_info(eval_dir_4, 'rl')\n",
    "\n",
    "# rewards_rl_3, eval_eps_rl_3, sim_time_rl_3, services_accepted_ep_rl_3, services_processed_ep_rl_3, services_accepted_rl_3, services_processed_rl_3, throughput_rl_3 = get_info(eval_dir_3, 'rl')\n",
    "rewards_kspff, eval_eps_kspff, sim_time_kspff, services_accepted_ep_kspff, services_processed_ep_kspff, services_accepted_kspff, services_processed_kspff, throughput_kspff = get_info(eval_dir_h, 'kspff')\n",
    "rewards_ffksp, eval_eps_ffksp, sim_time_ffksp, services_accepted_ep_ffksp, services_processed_ep_ffksp, services_accepted_ffksp, services_processed_ffksp, throughput_ffksp = get_info(eval_dir_h, 'ffksp')\n",
    "rewards_camu, eval_eps_camu, sim_time_camu, services_accepted_ep_camu, services_processed_ep_camu, services_accepted_camu, services_processed_camu, throughput_camu = get_info(eval_dir_h, 'camu')\n",
    "rewards_kspmu, eval_eps_kspmu, sim_time_kspmu, services_accepted_ep_kspmu, services_processed_ep_kspmu, services_accepted_kspmu, services_processed_kspmu, throughput_kspmu = get_info(eval_dir_h, 'kspmu')"
   ]
  },
  {
   "cell_type": "code",
   "execution_count": null,
   "id": "3b26a31f",
   "metadata": {},
   "outputs": [],
   "source": [
    "topology = 'nsfnet'\n",
    "f, ax = plt.subplots()\n",
    "bp = dict_plt = {'kSP-FF':services_accepted_ep_kspff,'kSP-MU':services_accepted_ep_kspmu,'FF-kSP':services_accepted_ep_ffksp,\n",
    "            'RL':services_accepted_ep_rl_1}\n",
    "bp = plt.boxplot(dict_plt.values(),showfliers=False,showmeans=True)\n",
    "ax.set_xticklabels(dict_plt.keys())\n",
    "plt.ylabel(\"Services accepted\")\n",
    "# ax.set_aspect(1.0/ax.get_data_ratio(), adjustable='box')\n",
    "f.patch.set_facecolor('w')\n",
    "# plt.legend([bp[\"boxes\"][0]], ['A'], loc='upper right')\n",
    "plt.grid()\n",
    "#plt.savefig('figures/servicesaccepted_bestresults'+topology+eval_name_plot+'modelA.png', dpi=500,bbox_inches='tight')\n",
    "plt.show()"
   ]
  },
  {
   "cell_type": "code",
   "execution_count": null,
   "id": "17604fef",
   "metadata": {},
   "outputs": [],
   "source": [
    "topology = 'dtag'\n",
    "f, ax = plt.subplots()\n",
    "bp = dict_plt = {'kSP-FF':services_accepted_ep_kspff,'kSP-MU':services_accepted_ep_kspmu,'FF-kSP':services_accepted_ep_ffksp,\n",
    "            'RL':services_accepted_ep_rl_1, 'RL-TFB':services_accepted_ep_rl_2}\n",
    "bp = plt.boxplot(dict_plt.values(),showfliers=False,showmeans=True)\n",
    "ax.set_xticklabels(dict_plt.keys())\n",
    "plt.ylabel(\"Services accepted\")\n",
    "# ax.set_aspect(1.0/ax.get_data_ratio(), adjustable='box')\n",
    "f.patch.set_facecolor('w')\n",
    "# plt.legend([bp[\"boxes\"][0]], ['A'], loc='upper right')\n",
    "plt.grid()\n",
    "plt.savefig('figures/servicesaccepted_bestresults'+topology+eval_name_plot+'besttraintypes.png', dpi=500,bbox_inches='tight')\n",
    "plt.show()"
   ]
  },
  {
   "cell_type": "code",
   "execution_count": null,
   "id": "05fb2f67",
   "metadata": {},
   "outputs": [],
   "source": [
    "topology = 'dtag'\n",
    "f, ax = plt.subplots()\n",
    "bp = dict_plt = {'kSP-FF':services_accepted_ep_kspff,'kSP-MU':services_accepted_ep_kspmu,'FF-kSP':services_accepted_ep_ffksp,\n",
    "            'A':services_accepted_ep_rl_1, 'B':services_accepted_ep_rl_2,\n",
    "                'A TFB':services_accepted_ep_rl_3, 'B TFB':services_accepted_ep_rl_4}\n",
    "bp = plt.boxplot(dict_plt.values(),showfliers=False,showmeans=True)\n",
    "ax.set_xticklabels(dict_plt.keys())\n",
    "plt.ylabel(\"Services accepted\")\n",
    "# ax.set_aspect(1.0/ax.get_data_ratio(), adjustable='box')\n",
    "f.patch.set_facecolor('w')\n",
    "# plt.legend([bp[\"boxes\"][0]], ['A'], loc='upper right')\n",
    "plt.grid()\n",
    "#plt.savefig('figures/servicesaccepted_bestresults'+topology+eval_name+'bothtraintypes.png', dpi=500,bbox_inches='tight')\n",
    "plt.show()"
   ]
  },
  {
   "cell_type": "code",
   "execution_count": null,
   "id": "45270b2f",
   "metadata": {},
   "outputs": [],
   "source": [
    "medians = [item.get_ydata()[0] for item in bp['medians']]\n",
    "means = [item.get_ydata()[0] for item in bp['means']]\n",
    "print(f'Medians: {medians}\\n'\n",
    "      f'Means:   {means}')"
   ]
  },
  {
   "cell_type": "code",
   "execution_count": null,
   "id": "737ca830",
   "metadata": {},
   "outputs": [],
   "source": [
    "minimums = [round(item.get_ydata()[0], 1) for item in bp['caps']][::2]\n",
    "maximums = [round(item.get_ydata()[0], 1) for item in bp['caps']][1::2]\n",
    "print(f'Minimums: {minimums}\\n'\n",
    "      f'Maximums: {maximums}')"
   ]
  },
  {
   "cell_type": "code",
   "execution_count": null,
   "id": "f05b6ba9",
   "metadata": {},
   "outputs": [],
   "source": [
    "q1 = [round(min(item.get_ydata()), 1) for item in bp['boxes']]\n",
    "q3 = [round(max(item.get_ydata()), 1) for item in bp['boxes']]\n",
    "# print(f'Q1: {q1}\\n'\n",
    "#       f'Q3: {q3}')\n",
    "IQR = [q3[i] - q1[i] for i in range(len(q1))]\n",
    "print(IQR)"
   ]
  },
  {
   "cell_type": "code",
   "execution_count": null,
   "id": "9c0d0e99",
   "metadata": {},
   "outputs": [],
   "source": [
    "print(\"RL A:\",np.std(services_accepted_ep_rl_1))\n",
    "print(\"RL B:\",np.std(services_accepted_ep_rl_2))\n",
    "print(\"RL A TFB:\",np.std(services_accepted_ep_rl_3))\n",
    "print(\"RL B TFB:\",np.std(services_accepted_ep_rl_4))"
   ]
  },
  {
   "cell_type": "code",
   "execution_count": null,
   "id": "8de7cd49",
   "metadata": {},
   "outputs": [],
   "source": [
    "print(\"kSP-FF:\",np.std(services_accepted_ep_kspff))\n",
    "print(\"FF-kSP:\",np.std(services_accepted_ep_ffksp))\n",
    "print(\"CA-MU:\",np.std(services_accepted_ep_camu))\n",
    "print(\"kSP-MU:\",np.std(services_accepted_ep_kspmu))"
   ]
  },
  {
   "cell_type": "code",
   "execution_count": null,
   "id": "af0be1d2",
   "metadata": {},
   "outputs": [],
   "source": [
    "print(\"RL:\",np.mean(services_accepted_ep_rl) + np.std(services_accepted_ep_rl))\n",
    "print(\"kSP-FF:\",np.mean(services_accepted_ep_kspff) +np.std(services_accepted_ep_kspff))\n",
    "print(\"FF-kSP:\",np.mean(services_accepted_ep_ffksp) +np.std(services_accepted_ep_ffksp))\n",
    "print(\"CA-MU:\",np.mean(services_accepted_ep_camu) +np.std(services_accepted_ep_camu))\n",
    "print(\"kSP-MU:\",np.mean(services_accepted_ep_kspmu) +np.std(services_accepted_ep_kspmu))"
   ]
  },
  {
   "cell_type": "code",
   "execution_count": null,
   "id": "abbfbc3b",
   "metadata": {},
   "outputs": [],
   "source": [
    "100*(2159-2151)/2159"
   ]
  },
  {
   "cell_type": "code",
   "execution_count": null,
   "id": "19bb545c",
   "metadata": {},
   "outputs": [],
   "source": [
    "100*(2156-2151)/2156"
   ]
  },
  {
   "cell_type": "code",
   "execution_count": null,
   "id": "9c63679e",
   "metadata": {},
   "outputs": [],
   "source": [
    "((341-21)/2156)*100"
   ]
  },
  {
   "cell_type": "code",
   "execution_count": null,
   "id": "6efd4f10",
   "metadata": {},
   "outputs": [],
   "source": [
    "((2158-2099)/2099)*100"
   ]
  },
  {
   "cell_type": "code",
   "execution_count": null,
   "id": "293b426e",
   "metadata": {},
   "outputs": [],
   "source": [
    "((2151-2092)*25)/1000"
   ]
  },
  {
   "cell_type": "code",
   "execution_count": null,
   "id": "229df88b",
   "metadata": {},
   "outputs": [],
   "source": [
    "2151-2099"
   ]
  },
  {
   "cell_type": "code",
   "execution_count": null,
   "id": "53027865",
   "metadata": {},
   "outputs": [],
   "source": [
    "((2151-2099)*25)/1000"
   ]
  },
  {
   "cell_type": "code",
   "execution_count": null,
   "id": "9539c10e",
   "metadata": {},
   "outputs": [],
   "source": [
    "((3416-3256)*25)/1000"
   ]
  },
  {
   "cell_type": "code",
   "execution_count": null,
   "id": "dadf5176",
   "metadata": {},
   "outputs": [],
   "source": [
    "((3416-3256)/3256)*100"
   ]
  },
  {
   "cell_type": "code",
   "execution_count": null,
   "id": "3ad09e2a",
   "metadata": {},
   "outputs": [],
   "source": [
    "3416-3256"
   ]
  },
  {
   "cell_type": "code",
   "execution_count": null,
   "id": "06c342ee",
   "metadata": {},
   "outputs": [],
   "source": [
    "((2158-2156)/2156)*100"
   ]
  },
  {
   "cell_type": "code",
   "execution_count": null,
   "id": "2db54a74",
   "metadata": {},
   "outputs": [],
   "source": [
    "y_max = 25\n",
    "f, ax = plt.subplots()\n",
    "plt.hist(services_accepted_ep_kspff, label='kSP-FF')\n",
    "plt.hist(services_accepted_ep_camu, label='CA-MU')\n",
    "plt.hist(services_accepted_ep_kspmu, label='kSP-MU')\n",
    "plt.hist(services_accepted_ep_ffksp, label='FF-kSP')\n",
    "plt.hist(services_accepted_ep_rl, label='RL')\n",
    "plt.vlines(np.mean(services_accepted_ep_rl), 0, y_max, color='k',linestyles='--', label='RL mean')\n",
    "plt.vlines(np.mean(services_accepted_ep_ffksp), 0, y_max, color='k',linestyles='-.', label='FF-kSP mean')\n",
    "plt.xlabel(\"Services accepted\")\n",
    "plt.ylabel(\"Frequency density\")\n",
    "plt.ylim([0,y_max])\n",
    "plt.grid()\n",
    "ax.set_aspect(1.0/ax.get_data_ratio(), adjustable='box')\n",
    "f.patch.set_facecolor('w')\n",
    "plt.legend(ncol = 2,loc='upper center', prop = {'size':10})\n",
    "# plt.savefig('figures/servicesacceptedv2111f25Gbid.jpeg', dpi=300,bbox_inches='tight')\n",
    "plt.show()"
   ]
  },
  {
   "cell_type": "code",
   "execution_count": null,
   "id": "cf598eae",
   "metadata": {},
   "outputs": [],
   "source": [
    "plt.plot(eval_eps_kspff, throughput_kspff, '+', label='kSP-FF')\n",
    "plt.plot(eval_eps_ffksp, throughput_ffksp, '+', label='FF-kSP')\n",
    "plt.plot(eval_eps_camu, throughput_camu, '+', label='CA-MU')\n",
    "plt.plot(eval_eps_kspmu, throughput_kspmu, '+', label='kSP-MU')\n",
    "plt.plot(eval_eps_rl, throughput_rl, '+', label='RL')\n",
    "plt.xlabel(\"Evaluation episodes\")\n",
    "plt.ylabel(\"Throughput\")\n",
    "plt.legend()\n",
    "plt.show()"
   ]
  },
  {
   "cell_type": "code",
   "execution_count": null,
   "id": "81c135cb",
   "metadata": {},
   "outputs": [],
   "source": [
    "plt.plot(eval_eps_kspff, services_accepted_ep_kspff, 'rx', label='kSP-FF')\n",
    "# plt.plot(eval_eps_ffksp, services_accepted_ep_ffksp, 'rP', label='FF-kSP')\n",
    "# plt.plot(eval_eps_camu, services_accepted_ep_camu, 'k.', label='CA-MU')\n",
    "# plt.plot(eval_eps_kspmu, services_accepted_ep_kspmu, 'm*', label='kSP-MU')\n",
    "plt.plot(eval_eps_rl, services_accepted_ep_rl, 'b-', label='RL')\n",
    "plt.xlabel(\"Evaluation episodes\")\n",
    "plt.ylabel(\"Services accepted\")\n",
    "plt.legend()\n",
    "plt.show()"
   ]
  },
  {
   "cell_type": "markdown",
   "id": "672d5ec8",
   "metadata": {},
   "source": [
    "Timing results"
   ]
  },
  {
   "cell_type": "code",
   "execution_count": null,
   "id": "ed63cb68",
   "metadata": {},
   "outputs": [],
   "source": [
    "rl_time = pickle.load(open(\"/Users/joshnevin/RL_FOCSLab/eval_timing/\"+exp_id+\"_RL.pkl\", 'rb'))\n",
    "kspff_time = pickle.load(open(\"/Users/joshnevin/RL_FOCSLab/eval_timing/\"+exp_id+\"_kspff.pkl\", 'rb'))\n",
    "ffksp_time = pickle.load(open(\"/Users/joshnevin/RL_FOCSLab/eval_timing/\"+exp_id+\"_ffksp.pkl\", 'rb'))\n",
    "camu_time = pickle.load(open(\"/Users/joshnevin/RL_FOCSLab/eval_timing/\"+exp_id+\"_camu.pkl\", 'rb'))\n",
    "kspmu_time = pickle.load(open(\"/Users/joshnevin/RL_FOCSLab/eval_timing/\"+exp_id+\"_kspmu.pkl\", 'rb'))"
   ]
  },
  {
   "cell_type": "code",
   "execution_count": null,
   "id": "d87e85e1",
   "metadata": {},
   "outputs": [],
   "source": [
    "print(rl_time)\n",
    "print(kspff_time)\n",
    "print(ffksp_time)\n",
    "print(camu_time)\n",
    "print(kspmu_time)"
   ]
  },
  {
   "cell_type": "code",
   "execution_count": null,
   "id": "7601ce50",
   "metadata": {},
   "outputs": [],
   "source": []
  }
 ],
 "metadata": {
  "kernelspec": {
   "display_name": "Python 3 (ipykernel)",
   "language": "python",
   "name": "python3"
  },
  "language_info": {
   "codemirror_mode": {
    "name": "ipython",
    "version": 3
   },
   "file_extension": ".py",
   "mimetype": "text/x-python",
   "name": "python",
   "nbconvert_exporter": "python",
   "pygments_lexer": "ipython3",
   "version": "3.7.12"
  }
 },
 "nbformat": 4,
 "nbformat_minor": 5
}
