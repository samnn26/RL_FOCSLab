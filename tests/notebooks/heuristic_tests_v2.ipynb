{
 "cells": [
  {
   "cell_type": "code",
   "execution_count": 1,
   "id": "ba41ff64",
   "metadata": {},
   "outputs": [],
   "source": [
    "import os\n",
    "import pickle\n",
    "import numpy as np\n",
    "from IPython.display import clear_output\n",
    "import matplotlib\n",
    "import matplotlib.pyplot as plt\n",
    "import gym\n",
    "from optical_rl_gym.utils import evaluate_heuristic, random_policy\n",
    "# from optical_rl_gym.envs.rwa_env_focs_v2 import kSP_FF, FF_kSP, kSP_MU, CA_MU\n",
    "from optical_rl_gym.heuristics import kSP_FF, FF_kSP, kSP_MU, CA_MU\n",
    "from optical_rl_gym.envs.rwa_env_focs_v2 import PathOnlyFirstFitAction\n",
    "from GN_model import calculate_lightpath_capacity"
   ]
  },
  {
   "cell_type": "code",
   "execution_count": 2,
   "id": "9d9115ff",
   "metadata": {},
   "outputs": [],
   "source": [
    "def print_service_stats(env):\n",
    "    print(\"Whole training process statistics:\")\n",
    "    rnd_path_action_probability = np.sum(env.actions_output, axis=1) / np.sum(env.actions_output)\n",
    "    rnd_wavelength_action_probability = np.sum(env.actions_output, axis=0) / np.sum(env.actions_output)\n",
    "    print('Path action probability:', np.sum(env.actions_output, axis=1) / np.sum(env.actions_output))\n",
    "    print('Wavelength action probability:', np.sum(env.actions_output, axis=0) / np.sum(env.actions_output))\n",
    "    num_lps_reused = env.num_lightpaths_reused\n",
    "    print('Load (Erlangs):', load)\n",
    "    print('Service bit rate (Gb/s):', env.service.bit_rate/1e9)\n",
    "    print('Total number of services:', env.services_processed)\n",
    "    print('Total number of services per ep:', env.episode_services_processed)\n",
    "    print('Total number of accepted services:', env.services_accepted)\n",
    "    print('Proportion of services provisioned:', env.services_accepted/env.services_processed)\n",
    "    print('Number of services on existing lightpaths:', num_lps_reused)\n",
    "    print('Number of services released:', env.num_lightpaths_released)\n",
    "    print('Number of transmitters on each node:', env.num_transmitters)\n",
    "    print('Number of receivers on each node:', env.num_receivers)\n",
    "    print('Final throughput (TB/s):', env.get_throughput()/1e12)\n",
    "def get_service_utils(env):\n",
    "    path_id_util = []\n",
    "    num_paths = env.topology.number_of_nodes() * (env.topology.number_of_nodes() - 1) * env.k_paths\n",
    "    for id in range(num_paths):\n",
    "        path_id_util.append(np.sum(env.lightpath_service_allocation[id,:]))\n",
    "    return path_id_util, num_paths"
   ]
  },
  {
   "cell_type": "code",
   "execution_count": 3,
   "id": "97946a07",
   "metadata": {},
   "outputs": [],
   "source": [
    "# with open('/Users/joshnevin/RL_FOCSLab/topologies/3_node_network_sym.h5', 'rb') as f:\n",
    "#     topology = pickle.load(f)\n",
    "# node_request_probabilities = np.array([0.333333,0.333333,0.333333])"
   ]
  },
  {
   "cell_type": "code",
   "execution_count": 4,
   "id": "f73b42c8",
   "metadata": {},
   "outputs": [],
   "source": [
    "with open('/Users/joshnevin/RL_FOCSLab/topologies/nsfnet_chen_1-paths_rounded.h5', 'rb') as f:\n",
    "# with open('/Users/joshnevin/RL_FOCSLab/topologies/dtag_5-paths.h5', 'rb') as f:\n",
    "    topology_1 = pickle.load(f)\n",
    "with open('/Users/joshnevin/RL_FOCSLab/topologies/nsfnet_chen_2-paths_rounded.h5', 'rb') as f:\n",
    "# with open('/Users/joshnevin/RL_FOCSLab/topologies/dtag_5-paths.h5', 'rb') as f:\n",
    "    topology_2 = pickle.load(f)\n",
    "with open('/Users/joshnevin/RL_FOCSLab/topologies/nsfnet_chen_3-paths_rounded.h5', 'rb') as f:\n",
    "# with open('/Users/joshnevin/RL_FOCSLab/topologies/dtag_5-paths.h5', 'rb') as f:\n",
    "    topology_3 = pickle.load(f)\n",
    "with open('/Users/joshnevin/RL_FOCSLab/topologies/nsfnet_chen_5-paths_rounded.h5', 'rb') as f:\n",
    "# with open('/Users/joshnevin/RL_FOCSLab/topologies/dtag_5-paths.h5', 'rb') as f:\n",
    "    topology_5 = pickle.load(f)\n",
    "# node probabilities from https://github.com/xiaoliangchenUCD/DeepRMSA/blob/6708e9a023df1ec05bfdc77804b6829e33cacfe4/Deep_RMSA_A3C.py#L77\n",
    "node_request_probabilities = np.array([0.01801802, 0.04004004, 0.05305305, 0.01901902, 0.04504505,\n",
    "       0.02402402, 0.06706707, 0.08908909, 0.13813814, 0.12212212,\n",
    "       0.07607608, 0.12012012, 0.01901902, 0.16916917])"
   ]
  },
  {
   "cell_type": "code",
   "execution_count": 5,
   "id": "d9f204c9",
   "metadata": {},
   "outputs": [
    {
     "name": "stdout",
     "output_type": "stream",
     "text": [
      "initialise_lightpath_capacities\n",
      "initialise_lightpath_capacities1: 1074198970849.9735\n",
      "initialise_lightpath_capacities1: 1074198970849.9735\n",
      "initialise_lightpath_capacities1: 1074198970849.9735\n",
      "initialise_lightpath_capacities1: 960671712287.7697\n",
      "initialise_lightpath_capacities1: 960671712287.7697\n",
      "initialise_lightpath_capacities1: 960671712287.7697\n",
      "initialise_lightpath_capacities1: 925931790613.6082\n",
      "initialise_lightpath_capacities1: 925931790613.6082\n",
      "initialise_lightpath_capacities1: 925931790613.6082\n",
      "initialise_lightpath_capacities1: 842796693934.1656\n",
      "initialise_lightpath_capacities1: 842796693934.1656\n",
      "initialise_lightpath_capacities1: 842796693934.1656\n",
      "initialise_lightpath_capacities1: 745312206385.6809\n",
      "initialise_lightpath_capacities1: 745312206385.6809\n",
      "initialise_lightpath_capacities1: 745312206385.6809\n",
      "initialise_lightpath_capacities1: 779940592899.557\n",
      "initialise_lightpath_capacities1: 779940592899.557\n",
      "initialise_lightpath_capacities1: 779940592899.557\n",
      "initialise_lightpath_capacities1: 831191785935.6453\n",
      "initialise_lightpath_capacities1: 831191785935.6453\n",
      "initialise_lightpath_capacities1: 831191785935.6453\n",
      "initialise_lightpath_capacities1: 762027701008.5881\n",
      "initialise_lightpath_capacities1: 762027701008.5881\n",
      "initialise_lightpath_capacities1: 762027701008.5881\n",
      "initialise_lightpath_capacities1: 707889354632.9108\n",
      "initialise_lightpath_capacities1: 707889354632.9108\n",
      "initialise_lightpath_capacities1: 707889354632.9108\n",
      "initialise_lightpath_capacities1: 722180807523.4894\n",
      "initialise_lightpath_capacities1: 722180807523.4894\n",
      "initialise_lightpath_capacities1: 722180807523.4894\n",
      "initialise_lightpath_capacities1: 737358224053.4213\n",
      "initialise_lightpath_capacities1: 737358224053.4213\n",
      "initialise_lightpath_capacities1: 737358224053.4213\n",
      "initialise_lightpath_capacities1: 737358224053.4213\n",
      "initialise_lightpath_capacities1: 737358224053.4213\n",
      "initialise_lightpath_capacities1: 737358224053.4213\n",
      "initialise_lightpath_capacities1: 729652445815.3944\n",
      "initialise_lightpath_capacities1: 729652445815.3944\n",
      "initialise_lightpath_capacities1: 729652445815.3944\n",
      "initialise_lightpath_capacities1: 1218789617363.0742\n",
      "initialise_lightpath_capacities1: 1218789617363.0742\n",
      "initialise_lightpath_capacities1: 1218789617363.0742\n",
      "initialise_lightpath_capacities1: 1175014307120.3843\n",
      "initialise_lightpath_capacities1: 1175014307120.3843\n",
      "initialise_lightpath_capacities1: 1175014307120.3843\n",
      "initialise_lightpath_capacities1: 1000580781068.626\n",
      "initialise_lightpath_capacities1: 1000580781068.626\n",
      "initialise_lightpath_capacities1: 1000580781068.626\n",
      "initialise_lightpath_capacities1: 831191785935.6453\n",
      "initialise_lightpath_capacities1: 831191785935.6453\n",
      "initialise_lightpath_capacities1: 831191785935.6453\n",
      "initialise_lightpath_capacities1: 895206866757.6487\n",
      "initialise_lightpath_capacities1: 895206866757.6487\n",
      "initialise_lightpath_capacities1: 895206866757.6487\n",
      "initialise_lightpath_capacities1: 809442022678.796\n",
      "initialise_lightpath_capacities1: 809442022678.796\n",
      "initialise_lightpath_capacities1: 809442022678.796\n",
      "initialise_lightpath_capacities1: 745312206385.6809\n",
      "initialise_lightpath_capacities1: 745312206385.6809\n",
      "initialise_lightpath_capacities1: 745312206385.6809\n",
      "initialise_lightpath_capacities1: 753529756167.0417\n",
      "initialise_lightpath_capacities1: 753529756167.0417\n",
      "initialise_lightpath_capacities1: 753529756167.0417\n",
      "initialise_lightpath_capacities1: 809442022678.796\n",
      "initialise_lightpath_capacities1: 809442022678.796\n",
      "initialise_lightpath_capacities1: 809442022678.796\n",
      "initialise_lightpath_capacities1: 753529756167.0417\n",
      "initialise_lightpath_capacities1: 753529756167.0417\n",
      "initialise_lightpath_capacities1: 753529756167.0417\n",
      "initialise_lightpath_capacities1: 745312206385.6809\n",
      "initialise_lightpath_capacities1: 745312206385.6809\n",
      "initialise_lightpath_capacities1: 745312206385.6809\n",
      "initialise_lightpath_capacities1: 737358224053.4213\n",
      "initialise_lightpath_capacities1: 737358224053.4213\n",
      "initialise_lightpath_capacities1: 737358224053.4213\n",
      "initialise_lightpath_capacities1: 1000580781068.626\n",
      "initialise_lightpath_capacities1: 1000580781068.626\n",
      "initialise_lightpath_capacities1: 1000580781068.626\n",
      "initialise_lightpath_capacities1: 895206866757.6487\n",
      "initialise_lightpath_capacities1: 895206866757.6487\n",
      "initialise_lightpath_capacities1: 895206866757.6487\n",
      "initialise_lightpath_capacities1: 910124174611.0109\n",
      "initialise_lightpath_capacities1: 910124174611.0109\n",
      "initialise_lightpath_capacities1: 910124174611.0109\n",
      "initialise_lightpath_capacities1: 820086672731.0565\n",
      "initialise_lightpath_capacities1: 820086672731.0565\n",
      "initialise_lightpath_capacities1: 820086672731.0565\n",
      "initialise_lightpath_capacities1: 753529756167.0417\n",
      "initialise_lightpath_capacities1: 753529756167.0417\n",
      "initialise_lightpath_capacities1: 753529756167.0417\n",
      "initialise_lightpath_capacities1: 729652445815.3944\n",
      "initialise_lightpath_capacities1: 729652445815.3944\n",
      "initialise_lightpath_capacities1: 729652445815.3944\n",
      "initialise_lightpath_capacities1: 789398415298.9874\n",
      "initialise_lightpath_capacities1: 789398415298.9874\n",
      "initialise_lightpath_capacities1: 789398415298.9874\n",
      "initialise_lightpath_capacities1: 753529756167.0417\n",
      "initialise_lightpath_capacities1: 753529756167.0417\n",
      "initialise_lightpath_capacities1: 753529756167.0417\n",
      "initialise_lightpath_capacities1: 707889354632.9108\n",
      "initialise_lightpath_capacities1: 707889354632.9108\n",
      "initialise_lightpath_capacities1: 707889354632.9108\n",
      "initialise_lightpath_capacities1: 714930401805.5939\n",
      "initialise_lightpath_capacities1: 714930401805.5939\n",
      "initialise_lightpath_capacities1: 714930401805.5939\n",
      "initialise_lightpath_capacities1: 722180807523.4894\n",
      "initialise_lightpath_capacities1: 722180807523.4894\n",
      "initialise_lightpath_capacities1: 722180807523.4894\n",
      "initialise_lightpath_capacities1: 1218789617363.0742\n",
      "initialise_lightpath_capacities1: 1218789617363.0742\n",
      "initialise_lightpath_capacities1: 1218789617363.0742\n",
      "initialise_lightpath_capacities1: 910124174611.0109\n",
      "initialise_lightpath_capacities1: 910124174611.0109\n",
      "initialise_lightpath_capacities1: 910124174611.0109\n",
      "initialise_lightpath_capacities1: 1022983184232.8116\n",
      "initialise_lightpath_capacities1: 1022983184232.8116\n",
      "initialise_lightpath_capacities1: 1022983184232.8116\n",
      "initialise_lightpath_capacities1: 895206866757.6487\n",
      "initialise_lightpath_capacities1: 895206866757.6487\n",
      "initialise_lightpath_capacities1: 895206866757.6487\n",
      "initialise_lightpath_capacities1: 809442022678.796\n",
      "initialise_lightpath_capacities1: 809442022678.796\n",
      "initialise_lightpath_capacities1: 809442022678.796\n",
      "initialise_lightpath_capacities1: 820086672731.0565\n",
      "initialise_lightpath_capacities1: 820086672731.0565\n",
      "initialise_lightpath_capacities1: 820086672731.0565\n",
      "initialise_lightpath_capacities1: 895206866757.6487\n",
      "initialise_lightpath_capacities1: 895206866757.6487\n",
      "initialise_lightpath_capacities1: 895206866757.6487\n",
      "initialise_lightpath_capacities1: 820086672731.0565\n",
      "initialise_lightpath_capacities1: 820086672731.0565\n",
      "initialise_lightpath_capacities1: 820086672731.0565\n",
      "initialise_lightpath_capacities1: 809442022678.796\n",
      "initialise_lightpath_capacities1: 809442022678.796\n",
      "initialise_lightpath_capacities1: 809442022678.796\n",
      "initialise_lightpath_capacities1: 799222959802.1016\n",
      "initialise_lightpath_capacities1: 799222959802.1016\n",
      "initialise_lightpath_capacities1: 799222959802.1016\n",
      "initialise_lightpath_capacities1: 1022983184232.8116\n",
      "initialise_lightpath_capacities1: 1022983184232.8116\n",
      "initialise_lightpath_capacities1: 1022983184232.8116\n",
      "initialise_lightpath_capacities1: 1218789617363.0742\n",
      "initialise_lightpath_capacities1: 1218789617363.0742\n",
      "initialise_lightpath_capacities1: 1218789617363.0742\n",
      "initialise_lightpath_capacities1: 1000580781068.626\n",
      "initialise_lightpath_capacities1: 1000580781068.626\n",
      "initialise_lightpath_capacities1: 1000580781068.626\n",
      "initialise_lightpath_capacities1: 881088331187.3816\n",
      "initialise_lightpath_capacities1: 881088331187.3816\n",
      "initialise_lightpath_capacities1: 881088331187.3816\n",
      "initialise_lightpath_capacities1: 895206866757.6487\n",
      "initialise_lightpath_capacities1: 895206866757.6487\n",
      "initialise_lightpath_capacities1: 895206866757.6487\n",
      "initialise_lightpath_capacities1: 820086672731.0565\n",
      "initialise_lightpath_capacities1: 820086672731.0565\n",
      "initialise_lightpath_capacities1: 820086672731.0565\n",
      "initialise_lightpath_capacities1: 842796693934.1656\n",
      "initialise_lightpath_capacities1: 842796693934.1656\n",
      "initialise_lightpath_capacities1: 842796693934.1656\n",
      "initialise_lightpath_capacities1: 842796693934.1656\n",
      "initialise_lightpath_capacities1: 842796693934.1656\n",
      "initialise_lightpath_capacities1: 842796693934.1656\n",
      "initialise_lightpath_capacities1: 831191785935.6453\n",
      "initialise_lightpath_capacities1: 831191785935.6453\n",
      "initialise_lightpath_capacities1: 831191785935.6453\n",
      "initialise_lightpath_capacities1: 910124174611.0109\n",
      "initialise_lightpath_capacities1: 910124174611.0109\n",
      "initialise_lightpath_capacities1: 910124174611.0109\n",
      "initialise_lightpath_capacities1: 831191785935.6453\n",
      "initialise_lightpath_capacities1: 831191785935.6453\n",
      "initialise_lightpath_capacities1: 831191785935.6453\n",
      "initialise_lightpath_capacities1: 925931790613.6082\n",
      "initialise_lightpath_capacities1: 925931790613.6082\n",
      "initialise_lightpath_capacities1: 925931790613.6082\n",
      "initialise_lightpath_capacities1: 1074198970849.9735\n",
      "initialise_lightpath_capacities1: 1074198970849.9735\n",
      "initialise_lightpath_capacities1: 1074198970849.9735\n",
      "initialise_lightpath_capacities1: 809442022678.796\n",
      "initialise_lightpath_capacities1: 809442022678.796\n",
      "initialise_lightpath_capacities1: 809442022678.796\n",
      "initialise_lightpath_capacities1: 881088331187.3816\n",
      "initialise_lightpath_capacities1: 881088331187.3816\n",
      "initialise_lightpath_capacities1: 881088331187.3816\n",
      "initialise_lightpath_capacities1: 895206866757.6487\n",
      "initialise_lightpath_capacities1: 895206866757.6487\n",
      "initialise_lightpath_capacities1: 895206866757.6487\n",
      "initialise_lightpath_capacities1: 910124174611.0109\n",
      "initialise_lightpath_capacities1: 910124174611.0109\n",
      "initialise_lightpath_capacities1: 910124174611.0109\n",
      "initialise_lightpath_capacities1: 1175014307120.3843\n",
      "initialise_lightpath_capacities1: 1175014307120.3843\n",
      "initialise_lightpath_capacities1: 1175014307120.3843\n",
      "initialise_lightpath_capacities1: 979889119983.0845\n",
      "initialise_lightpath_capacities1: 979889119983.0845\n",
      "initialise_lightpath_capacities1: 979889119983.0845\n",
      "initialise_lightpath_capacities1: 1000580781068.626\n",
      "initialise_lightpath_capacities1: 1000580781068.626\n",
      "initialise_lightpath_capacities1: 1000580781068.626\n",
      "initialise_lightpath_capacities1: 842796693934.1656\n",
      "initialise_lightpath_capacities1: 842796693934.1656\n",
      "initialise_lightpath_capacities1: 842796693934.1656\n",
      "initialise_lightpath_capacities1: 925931790613.6082\n",
      "initialise_lightpath_capacities1: 925931790613.6082\n",
      "initialise_lightpath_capacities1: 925931790613.6082\n",
      "initialise_lightpath_capacities1: 925931790613.6082\n",
      "initialise_lightpath_capacities1: 925931790613.6082\n",
      "initialise_lightpath_capacities1: 925931790613.6082\n",
      "initialise_lightpath_capacities1: 910124174611.0109\n",
      "initialise_lightpath_capacities1: 910124174611.0109\n",
      "initialise_lightpath_capacities1: 910124174611.0109\n",
      "initialise_lightpath_capacities1: 1175014307120.3843\n",
      "initialise_lightpath_capacities1: 1175014307120.3843\n",
      "initialise_lightpath_capacities1: 1175014307120.3843\n",
      "initialise_lightpath_capacities1: 979889119983.0845\n",
      "initialise_lightpath_capacities1: 979889119983.0845\n",
      "initialise_lightpath_capacities1: 979889119983.0845\n",
      "initialise_lightpath_capacities1: 942737913623.7994\n",
      "initialise_lightpath_capacities1: 942737913623.7994\n",
      "initialise_lightpath_capacities1: 942737913623.7994\n",
      "initialise_lightpath_capacities1: 1074198970849.9735\n",
      "initialise_lightpath_capacities1: 1074198970849.9735\n",
      "initialise_lightpath_capacities1: 1074198970849.9735\n",
      "initialise_lightpath_capacities1: 1074198970849.9735\n",
      "initialise_lightpath_capacities1: 1074198970849.9735\n",
      "initialise_lightpath_capacities1: 1074198970849.9735\n",
      "initialise_lightpath_capacities1: 1047394651711.2478\n",
      "initialise_lightpath_capacities1: 1047394651711.2478\n",
      "initialise_lightpath_capacities1: 1047394651711.2478\n",
      "initialise_lightpath_capacities1: 1175014307120.3843\n",
      "initialise_lightpath_capacities1: 1175014307120.3843\n",
      "initialise_lightpath_capacities1: 1175014307120.3843\n",
      "initialise_lightpath_capacities1: 1103901519141.9468\n",
      "initialise_lightpath_capacities1: 1103901519141.9468\n",
      "initialise_lightpath_capacities1: 1103901519141.9468\n",
      "initialise_lightpath_capacities1: 1416669754572.893\n",
      "initialise_lightpath_capacities1: 1416669754572.893\n",
      "initialise_lightpath_capacities1: 1416669754572.893\n",
      "initialise_lightpath_capacities1: 1416669754572.893\n",
      "initialise_lightpath_capacities1: 1416669754572.893\n",
      "initialise_lightpath_capacities1: 1416669754572.893\n",
      "initialise_lightpath_capacities1: 1334370607544.6882\n",
      "initialise_lightpath_capacities1: 1334370607544.6882\n",
      "initialise_lightpath_capacities1: 1334370607544.6882\n",
      "initialise_lightpath_capacities1: 942737913623.7994\n",
      "initialise_lightpath_capacities1: 942737913623.7994\n",
      "initialise_lightpath_capacities1: 942737913623.7994\n",
      "initialise_lightpath_capacities1: 1074198970849.9735\n",
      "initialise_lightpath_capacities1: 1074198970849.9735\n",
      "initialise_lightpath_capacities1: 1074198970849.9735\n",
      "initialise_lightpath_capacities1: 1074198970849.9735\n",
      "initialise_lightpath_capacities1: 1074198970849.9735\n",
      "initialise_lightpath_capacities1: 1074198970849.9735\n",
      "initialise_lightpath_capacities1: 1047394651711.2478\n",
      "initialise_lightpath_capacities1: 1047394651711.2478\n",
      "initialise_lightpath_capacities1: 1047394651711.2478\n",
      "initialise_lightpath_capacities1: 1218789617363.0742\n",
      "initialise_lightpath_capacities1: 1218789617363.0742\n",
      "initialise_lightpath_capacities1: 1218789617363.0742\n",
      "initialise_lightpath_capacities1: 1175014307120.3843\n",
      "initialise_lightpath_capacities1: 1175014307120.3843\n",
      "initialise_lightpath_capacities1: 1175014307120.3843\n",
      "initialise_lightpath_capacities1: 1137186756075.721\n",
      "initialise_lightpath_capacities1: 1137186756075.721\n",
      "initialise_lightpath_capacities1: 1137186756075.721\n",
      "initialise_lightpath_capacities1: 1334370607544.6882\n",
      "initialise_lightpath_capacities1: 1334370607544.6882\n",
      "initialise_lightpath_capacities1: 1334370607544.6882\n",
      "initialise_lightpath_capacities1: 1416669754572.893\n",
      "initialise_lightpath_capacities1: 1416669754572.893\n",
      "initialise_lightpath_capacities1: 1416669754572.893\n",
      "initialise_lightpath_capacities1: 1732240310677.2039\n",
      "initialise_lightpath_capacities1: 1732240310677.2039\n",
      "initialise_lightpath_capacities1: 1732240310677.2039\n",
      "get_available_lightpath_capacity 1732240310677.2039\n",
      "initialise_lightpath_capacities\n",
      "initialise_lightpath_capacities1: 1074198970849.9735\n",
      "initialise_lightpath_capacities1: 1074198970849.9735\n",
      "initialise_lightpath_capacities1: 1074198970849.9735\n",
      "initialise_lightpath_capacities1: 867690440105.5276\n",
      "initialise_lightpath_capacities1: 867690440105.5276\n",
      "initialise_lightpath_capacities1: 867690440105.5276\n",
      "initialise_lightpath_capacities1: 960671712287.7697\n",
      "initialise_lightpath_capacities1: 960671712287.7697\n",
      "initialise_lightpath_capacities1: 960671712287.7697\n",
      "initialise_lightpath_capacities1: 942737913623.7994\n",
      "initialise_lightpath_capacities1: 942737913623.7994\n",
      "initialise_lightpath_capacities1: 942737913623.7994\n",
      "initialise_lightpath_capacities1: 925931790613.6082\n",
      "initialise_lightpath_capacities1: 925931790613.6082\n",
      "initialise_lightpath_capacities1: 925931790613.6082\n",
      "initialise_lightpath_capacities1: 789398415298.9874\n",
      "initialise_lightpath_capacities1: 789398415298.9874\n",
      "initialise_lightpath_capacities1: 789398415298.9874\n",
      "initialise_lightpath_capacities1: 842796693934.1656\n",
      "initialise_lightpath_capacities1: 842796693934.1656\n",
      "initialise_lightpath_capacities1: 842796693934.1656\n",
      "initialise_lightpath_capacities1: 737358224053.4213\n",
      "initialise_lightpath_capacities1: 737358224053.4213\n",
      "initialise_lightpath_capacities1: 737358224053.4213\n",
      "initialise_lightpath_capacities1: 745312206385.6809\n",
      "initialise_lightpath_capacities1: 745312206385.6809\n",
      "initialise_lightpath_capacities1: 745312206385.6809\n",
      "initialise_lightpath_capacities1: 737358224053.4213\n",
      "initialise_lightpath_capacities1: 737358224053.4213\n",
      "initialise_lightpath_capacities1: 737358224053.4213\n",
      "initialise_lightpath_capacities1: 779940592899.557\n",
      "initialise_lightpath_capacities1: 779940592899.557\n",
      "initialise_lightpath_capacities1: 779940592899.557\n",
      "initialise_lightpath_capacities1: 762027701008.5881\n",
      "initialise_lightpath_capacities1: 762027701008.5881\n",
      "initialise_lightpath_capacities1: 762027701008.5881\n",
      "initialise_lightpath_capacities1: 831191785935.6453\n",
      "initialise_lightpath_capacities1: 831191785935.6453\n",
      "initialise_lightpath_capacities1: 831191785935.6453\n",
      "initialise_lightpath_capacities1: 722180807523.4894\n",
      "initialise_lightpath_capacities1: 722180807523.4894\n",
      "initialise_lightpath_capacities1: 722180807523.4894\n",
      "initialise_lightpath_capacities1: 762027701008.5881\n",
      "initialise_lightpath_capacities1: 762027701008.5881\n",
      "initialise_lightpath_capacities1: 762027701008.5881\n",
      "initialise_lightpath_capacities1: 675468780771.8717\n",
      "initialise_lightpath_capacities1: 675468780771.8717\n",
      "initialise_lightpath_capacities1: 675468780771.8717\n",
      "initialise_lightpath_capacities1: 707889354632.9108\n",
      "initialise_lightpath_capacities1: 707889354632.9108\n",
      "initialise_lightpath_capacities1: 707889354632.9108\n",
      "initialise_lightpath_capacities1: 681611788618.1013\n",
      "initialise_lightpath_capacities1: 681611788618.1013\n",
      "initialise_lightpath_capacities1: 681611788618.1013\n",
      "initialise_lightpath_capacities1: 722180807523.4894\n",
      "initialise_lightpath_capacities1: 722180807523.4894\n",
      "initialise_lightpath_capacities1: 722180807523.4894\n",
      "initialise_lightpath_capacities1: 694392375744.0691\n",
      "initialise_lightpath_capacities1: 694392375744.0691\n",
      "initialise_lightpath_capacities1: 694392375744.0691\n",
      "initialise_lightpath_capacities1: 737358224053.4213\n",
      "initialise_lightpath_capacities1: 737358224053.4213\n",
      "initialise_lightpath_capacities1: 737358224053.4213\n",
      "initialise_lightpath_capacities1: 707889354632.9108\n",
      "initialise_lightpath_capacities1: 707889354632.9108\n",
      "initialise_lightpath_capacities1: 707889354632.9108\n",
      "initialise_lightpath_capacities1: 737358224053.4213\n",
      "initialise_lightpath_capacities1: 737358224053.4213\n",
      "initialise_lightpath_capacities1: 737358224053.4213\n",
      "initialise_lightpath_capacities1: 707889354632.9108\n",
      "initialise_lightpath_capacities1: 707889354632.9108\n",
      "initialise_lightpath_capacities1: 707889354632.9108\n",
      "initialise_lightpath_capacities1: 729652445815.3944\n",
      "initialise_lightpath_capacities1: 729652445815.3944\n",
      "initialise_lightpath_capacities1: 729652445815.3944\n",
      "initialise_lightpath_capacities1: 714930401805.5939\n",
      "initialise_lightpath_capacities1: 714930401805.5939\n",
      "initialise_lightpath_capacities1: 714930401805.5939\n",
      "initialise_lightpath_capacities1: 1218789617363.0742\n",
      "initialise_lightpath_capacities1: 1218789617363.0742\n",
      "initialise_lightpath_capacities1: 1218789617363.0742\n",
      "initialise_lightpath_capacities1: 820086672731.0565\n",
      "initialise_lightpath_capacities1: 820086672731.0565\n",
      "initialise_lightpath_capacities1: 820086672731.0565\n",
      "initialise_lightpath_capacities1: 1175014307120.3843\n",
      "initialise_lightpath_capacities1: 1175014307120.3843\n",
      "initialise_lightpath_capacities1: 1175014307120.3843\n",
      "initialise_lightpath_capacities1: 681611788618.1013\n",
      "initialise_lightpath_capacities1: 681611788618.1013\n",
      "initialise_lightpath_capacities1: 681611788618.1013\n",
      "initialise_lightpath_capacities1: 1000580781068.626\n",
      "initialise_lightpath_capacities1: 1000580781068.626\n",
      "initialise_lightpath_capacities1: 1000580781068.626\n",
      "initialise_lightpath_capacities1: 722180807523.4894\n",
      "initialise_lightpath_capacities1: 722180807523.4894\n",
      "initialise_lightpath_capacities1: 722180807523.4894\n",
      "initialise_lightpath_capacities1: 831191785935.6453\n",
      "initialise_lightpath_capacities1: 831191785935.6453\n",
      "initialise_lightpath_capacities1: 831191785935.6453\n",
      "initialise_lightpath_capacities1: 820086672731.0565\n",
      "initialise_lightpath_capacities1: 820086672731.0565\n",
      "initialise_lightpath_capacities1: 820086672731.0565\n",
      "initialise_lightpath_capacities1: 895206866757.6487\n",
      "initialise_lightpath_capacities1: 895206866757.6487\n",
      "initialise_lightpath_capacities1: 895206866757.6487\n",
      "initialise_lightpath_capacities1: 687916962097.931\n",
      "initialise_lightpath_capacities1: 687916962097.931\n",
      "initialise_lightpath_capacities1: 687916962097.931\n",
      "initialise_lightpath_capacities1: 809442022678.796\n",
      "initialise_lightpath_capacities1: 809442022678.796\n",
      "initialise_lightpath_capacities1: 809442022678.796\n",
      "initialise_lightpath_capacities1: 737358224053.4213\n",
      "initialise_lightpath_capacities1: 737358224053.4213\n",
      "initialise_lightpath_capacities1: 737358224053.4213\n",
      "initialise_lightpath_capacities1: 745312206385.6809\n",
      "initialise_lightpath_capacities1: 745312206385.6809\n",
      "initialise_lightpath_capacities1: 745312206385.6809\n",
      "initialise_lightpath_capacities1: 729652445815.3944\n",
      "initialise_lightpath_capacities1: 729652445815.3944\n",
      "initialise_lightpath_capacities1: 729652445815.3944\n",
      "initialise_lightpath_capacities1: 753529756167.0417\n",
      "initialise_lightpath_capacities1: 753529756167.0417\n",
      "initialise_lightpath_capacities1: 753529756167.0417\n",
      "initialise_lightpath_capacities1: 737358224053.4213\n",
      "initialise_lightpath_capacities1: 737358224053.4213\n",
      "initialise_lightpath_capacities1: 737358224053.4213\n",
      "initialise_lightpath_capacities1: 809442022678.796\n",
      "initialise_lightpath_capacities1: 809442022678.796\n",
      "initialise_lightpath_capacities1: 809442022678.796\n",
      "initialise_lightpath_capacities1: 681611788618.1013\n",
      "initialise_lightpath_capacities1: 681611788618.1013\n",
      "initialise_lightpath_capacities1: 681611788618.1013\n",
      "initialise_lightpath_capacities1: 753529756167.0417\n",
      "initialise_lightpath_capacities1: 753529756167.0417\n",
      "initialise_lightpath_capacities1: 753529756167.0417\n",
      "initialise_lightpath_capacities1: 722180807523.4894\n",
      "initialise_lightpath_capacities1: 722180807523.4894\n",
      "initialise_lightpath_capacities1: 722180807523.4894\n",
      "initialise_lightpath_capacities1: 745312206385.6809\n",
      "initialise_lightpath_capacities1: 745312206385.6809\n",
      "initialise_lightpath_capacities1: 745312206385.6809\n",
      "initialise_lightpath_capacities1: 722180807523.4894\n",
      "initialise_lightpath_capacities1: 722180807523.4894\n",
      "initialise_lightpath_capacities1: 722180807523.4894\n",
      "initialise_lightpath_capacities1: 737358224053.4213\n",
      "initialise_lightpath_capacities1: 737358224053.4213\n",
      "initialise_lightpath_capacities1: 737358224053.4213\n",
      "initialise_lightpath_capacities1: 729652445815.3944\n",
      "initialise_lightpath_capacities1: 729652445815.3944\n",
      "initialise_lightpath_capacities1: 729652445815.3944\n",
      "initialise_lightpath_capacities1: 1000580781068.626\n",
      "initialise_lightpath_capacities1: 1000580781068.626\n",
      "initialise_lightpath_capacities1: 1000580781068.626\n",
      "initialise_lightpath_capacities1: 753529756167.0417\n",
      "initialise_lightpath_capacities1: 753529756167.0417\n",
      "initialise_lightpath_capacities1: 753529756167.0417\n",
      "initialise_lightpath_capacities1: 895206866757.6487\n",
      "initialise_lightpath_capacities1: 895206866757.6487\n",
      "initialise_lightpath_capacities1: 895206866757.6487\n",
      "initialise_lightpath_capacities1: 770824524897.9158\n",
      "initialise_lightpath_capacities1: 770824524897.9158\n",
      "initialise_lightpath_capacities1: 770824524897.9158\n",
      "initialise_lightpath_capacities1: 910124174611.0109\n",
      "initialise_lightpath_capacities1: 910124174611.0109\n",
      "initialise_lightpath_capacities1: 910124174611.0109\n",
      "initialise_lightpath_capacities1: 762027701008.5881\n",
      "initialise_lightpath_capacities1: 762027701008.5881\n",
      "initialise_lightpath_capacities1: 762027701008.5881\n",
      "initialise_lightpath_capacities1: 820086672731.0565\n",
      "initialise_lightpath_capacities1: 820086672731.0565\n",
      "initialise_lightpath_capacities1: 820086672731.0565\n",
      "initialise_lightpath_capacities1: 722180807523.4894\n",
      "initialise_lightpath_capacities1: 722180807523.4894\n",
      "initialise_lightpath_capacities1: 722180807523.4894\n",
      "initialise_lightpath_capacities1: 753529756167.0417\n",
      "initialise_lightpath_capacities1: 753529756167.0417\n",
      "initialise_lightpath_capacities1: 753529756167.0417\n",
      "initialise_lightpath_capacities1: 701046717923.3384\n",
      "initialise_lightpath_capacities1: 701046717923.3384\n",
      "initialise_lightpath_capacities1: 701046717923.3384\n",
      "initialise_lightpath_capacities1: 729652445815.3944\n",
      "initialise_lightpath_capacities1: 729652445815.3944\n",
      "initialise_lightpath_capacities1: 729652445815.3944\n",
      "initialise_lightpath_capacities1: 701046717923.3384\n",
      "initialise_lightpath_capacities1: 701046717923.3384\n",
      "initialise_lightpath_capacities1: 701046717923.3384\n",
      "initialise_lightpath_capacities1: 789398415298.9874\n",
      "initialise_lightpath_capacities1: 789398415298.9874\n",
      "initialise_lightpath_capacities1: 789398415298.9874\n",
      "initialise_lightpath_capacities1: 707889354632.9108\n",
      "initialise_lightpath_capacities1: 707889354632.9108\n",
      "initialise_lightpath_capacities1: 707889354632.9108\n",
      "initialise_lightpath_capacities1: 753529756167.0417\n",
      "initialise_lightpath_capacities1: 753529756167.0417\n",
      "initialise_lightpath_capacities1: 753529756167.0417\n",
      "initialise_lightpath_capacities1: 669480421399.4164\n",
      "initialise_lightpath_capacities1: 669480421399.4164\n",
      "initialise_lightpath_capacities1: 669480421399.4164\n",
      "initialise_lightpath_capacities1: 707889354632.9108\n",
      "initialise_lightpath_capacities1: 707889354632.9108\n",
      "initialise_lightpath_capacities1: 707889354632.9108\n",
      "initialise_lightpath_capacities1: 707889354632.9108\n",
      "initialise_lightpath_capacities1: 707889354632.9108\n",
      "initialise_lightpath_capacities1: 707889354632.9108\n",
      "initialise_lightpath_capacities1: 714930401805.5939\n",
      "initialise_lightpath_capacities1: 714930401805.5939\n",
      "initialise_lightpath_capacities1: 714930401805.5939\n",
      "initialise_lightpath_capacities1: 707889354632.9108\n",
      "initialise_lightpath_capacities1: 707889354632.9108\n",
      "initialise_lightpath_capacities1: 707889354632.9108\n",
      "initialise_lightpath_capacities1: 722180807523.4894\n",
      "initialise_lightpath_capacities1: 722180807523.4894\n",
      "initialise_lightpath_capacities1: 722180807523.4894\n",
      "initialise_lightpath_capacities1: 701046717923.3384\n",
      "initialise_lightpath_capacities1: 701046717923.3384\n",
      "initialise_lightpath_capacities1: 701046717923.3384\n",
      "initialise_lightpath_capacities1: 1218789617363.0742\n",
      "initialise_lightpath_capacities1: 1218789617363.0742\n",
      "initialise_lightpath_capacities1: 1218789617363.0742\n",
      "initialise_lightpath_capacities1: 675468780771.8717\n",
      "initialise_lightpath_capacities1: 675468780771.8717\n",
      "initialise_lightpath_capacities1: 675468780771.8717\n",
      "initialise_lightpath_capacities1: 910124174611.0109\n",
      "initialise_lightpath_capacities1: 910124174611.0109\n",
      "initialise_lightpath_capacities1: 910124174611.0109\n",
      "initialise_lightpath_capacities1: 762027701008.5881\n",
      "initialise_lightpath_capacities1: 762027701008.5881\n",
      "initialise_lightpath_capacities1: 762027701008.5881\n",
      "initialise_lightpath_capacities1: 1022983184232.8116\n",
      "initialise_lightpath_capacities1: 1022983184232.8116\n",
      "initialise_lightpath_capacities1: 1022983184232.8116\n",
      "initialise_lightpath_capacities1: 687916962097.931\n",
      "initialise_lightpath_capacities1: 687916962097.931\n",
      "initialise_lightpath_capacities1: 687916962097.931\n",
      "initialise_lightpath_capacities1: 895206866757.6487\n",
      "initialise_lightpath_capacities1: 895206866757.6487\n",
      "initialise_lightpath_capacities1: 895206866757.6487\n",
      "initialise_lightpath_capacities1: 729652445815.3944\n",
      "initialise_lightpath_capacities1: 729652445815.3944\n",
      "initialise_lightpath_capacities1: 729652445815.3944\n",
      "initialise_lightpath_capacities1: 809442022678.796\n",
      "initialise_lightpath_capacities1: 809442022678.796\n",
      "initialise_lightpath_capacities1: 809442022678.796\n",
      "initialise_lightpath_capacities1: 789398415298.9874\n",
      "initialise_lightpath_capacities1: 789398415298.9874\n",
      "initialise_lightpath_capacities1: 789398415298.9874\n",
      "initialise_lightpath_capacities1: 820086672731.0565\n",
      "initialise_lightpath_capacities1: 820086672731.0565\n",
      "initialise_lightpath_capacities1: 820086672731.0565\n",
      "initialise_lightpath_capacities1: 789398415298.9874\n",
      "initialise_lightpath_capacities1: 789398415298.9874\n",
      "initialise_lightpath_capacities1: 789398415298.9874\n",
      "initialise_lightpath_capacities1: 895206866757.6487\n",
      "initialise_lightpath_capacities1: 895206866757.6487\n",
      "initialise_lightpath_capacities1: 895206866757.6487\n",
      "initialise_lightpath_capacities1: 729652445815.3944\n",
      "initialise_lightpath_capacities1: 729652445815.3944\n",
      "initialise_lightpath_capacities1: 729652445815.3944\n",
      "initialise_lightpath_capacities1: 820086672731.0565\n",
      "initialise_lightpath_capacities1: 820086672731.0565\n",
      "initialise_lightpath_capacities1: 820086672731.0565\n",
      "initialise_lightpath_capacities1: 779940592899.557\n",
      "initialise_lightpath_capacities1: 779940592899.557\n",
      "initialise_lightpath_capacities1: 779940592899.557\n",
      "initialise_lightpath_capacities1: 809442022678.796\n",
      "initialise_lightpath_capacities1: 809442022678.796\n",
      "initialise_lightpath_capacities1: 809442022678.796\n",
      "initialise_lightpath_capacities1: 779940592899.557\n",
      "initialise_lightpath_capacities1: 779940592899.557\n",
      "initialise_lightpath_capacities1: 779940592899.557\n",
      "initialise_lightpath_capacities1: 799222959802.1016\n",
      "initialise_lightpath_capacities1: 799222959802.1016\n",
      "initialise_lightpath_capacities1: 799222959802.1016\n",
      "initialise_lightpath_capacities1: 789398415298.9874\n",
      "initialise_lightpath_capacities1: 789398415298.9874\n",
      "initialise_lightpath_capacities1: 789398415298.9874\n",
      "initialise_lightpath_capacities1: 1022983184232.8116\n",
      "initialise_lightpath_capacities1: 1022983184232.8116\n",
      "initialise_lightpath_capacities1: 1022983184232.8116\n",
      "initialise_lightpath_capacities1: 779940592899.557\n",
      "initialise_lightpath_capacities1: 779940592899.557\n",
      "initialise_lightpath_capacities1: 779940592899.557\n",
      "initialise_lightpath_capacities1: 1218789617363.0742\n",
      "initialise_lightpath_capacities1: 1218789617363.0742\n",
      "initialise_lightpath_capacities1: 1218789617363.0742\n",
      "initialise_lightpath_capacities1: 729652445815.3944\n",
      "initialise_lightpath_capacities1: 729652445815.3944\n",
      "initialise_lightpath_capacities1: 729652445815.3944\n",
      "initialise_lightpath_capacities1: 1000580781068.626\n",
      "initialise_lightpath_capacities1: 1000580781068.626\n",
      "initialise_lightpath_capacities1: 1000580781068.626\n",
      "initialise_lightpath_capacities1: 745312206385.6809\n",
      "initialise_lightpath_capacities1: 745312206385.6809\n",
      "initialise_lightpath_capacities1: 745312206385.6809\n",
      "initialise_lightpath_capacities1: 881088331187.3816\n",
      "initialise_lightpath_capacities1: 881088331187.3816\n",
      "initialise_lightpath_capacities1: 881088331187.3816\n",
      "initialise_lightpath_capacities1: 809442022678.796\n",
      "initialise_lightpath_capacities1: 809442022678.796\n",
      "initialise_lightpath_capacities1: 809442022678.796\n",
      "initialise_lightpath_capacities1: 895206866757.6487\n",
      "initialise_lightpath_capacities1: 895206866757.6487\n",
      "initialise_lightpath_capacities1: 895206866757.6487\n",
      "initialise_lightpath_capacities1: 854945976760.876\n",
      "initialise_lightpath_capacities1: 854945976760.876\n",
      "initialise_lightpath_capacities1: 854945976760.876\n",
      "initialise_lightpath_capacities1: 820086672731.0565\n",
      "initialise_lightpath_capacities1: 820086672731.0565\n",
      "initialise_lightpath_capacities1: 820086672731.0565\n",
      "initialise_lightpath_capacities1: 779940592899.557\n",
      "initialise_lightpath_capacities1: 779940592899.557\n",
      "initialise_lightpath_capacities1: 779940592899.557\n",
      "initialise_lightpath_capacities1: 842796693934.1656\n",
      "initialise_lightpath_capacities1: 842796693934.1656\n",
      "initialise_lightpath_capacities1: 842796693934.1656\n",
      "initialise_lightpath_capacities1: 799222959802.1016\n",
      "initialise_lightpath_capacities1: 799222959802.1016\n",
      "initialise_lightpath_capacities1: 799222959802.1016\n",
      "initialise_lightpath_capacities1: 842796693934.1656\n",
      "initialise_lightpath_capacities1: 842796693934.1656\n",
      "initialise_lightpath_capacities1: 842796693934.1656\n",
      "initialise_lightpath_capacities1: 799222959802.1016\n",
      "initialise_lightpath_capacities1: 799222959802.1016\n",
      "initialise_lightpath_capacities1: 799222959802.1016\n",
      "initialise_lightpath_capacities1: 831191785935.6453\n",
      "initialise_lightpath_capacities1: 831191785935.6453\n",
      "initialise_lightpath_capacities1: 831191785935.6453\n",
      "initialise_lightpath_capacities1: 809442022678.796\n",
      "initialise_lightpath_capacities1: 809442022678.796\n",
      "initialise_lightpath_capacities1: 809442022678.796\n",
      "initialise_lightpath_capacities1: 910124174611.0109\n",
      "initialise_lightpath_capacities1: 910124174611.0109\n",
      "initialise_lightpath_capacities1: 910124174611.0109\n",
      "initialise_lightpath_capacities1: 842796693934.1656\n",
      "initialise_lightpath_capacities1: 842796693934.1656\n",
      "initialise_lightpath_capacities1: 842796693934.1656\n",
      "initialise_lightpath_capacities1: 831191785935.6453\n",
      "initialise_lightpath_capacities1: 831191785935.6453\n",
      "initialise_lightpath_capacities1: 831191785935.6453\n",
      "initialise_lightpath_capacities1: 820086672731.0565\n",
      "initialise_lightpath_capacities1: 820086672731.0565\n",
      "initialise_lightpath_capacities1: 820086672731.0565\n",
      "initialise_lightpath_capacities1: 925931790613.6082\n",
      "initialise_lightpath_capacities1: 925931790613.6082\n",
      "initialise_lightpath_capacities1: 925931790613.6082\n",
      "initialise_lightpath_capacities1: 854945976760.876\n",
      "initialise_lightpath_capacities1: 854945976760.876\n",
      "initialise_lightpath_capacities1: 854945976760.876\n",
      "initialise_lightpath_capacities1: 1074198970849.9735\n",
      "initialise_lightpath_capacities1: 1074198970849.9735\n",
      "initialise_lightpath_capacities1: 1074198970849.9735\n",
      "initialise_lightpath_capacities1: 779940592899.557\n",
      "initialise_lightpath_capacities1: 779940592899.557\n",
      "initialise_lightpath_capacities1: 779940592899.557\n",
      "initialise_lightpath_capacities1: 809442022678.796\n",
      "initialise_lightpath_capacities1: 809442022678.796\n",
      "initialise_lightpath_capacities1: 809442022678.796\n",
      "initialise_lightpath_capacities1: 809442022678.796\n",
      "initialise_lightpath_capacities1: 809442022678.796\n",
      "initialise_lightpath_capacities1: 809442022678.796\n",
      "initialise_lightpath_capacities1: 881088331187.3816\n",
      "initialise_lightpath_capacities1: 881088331187.3816\n",
      "initialise_lightpath_capacities1: 881088331187.3816\n",
      "initialise_lightpath_capacities1: 867690440105.5276\n",
      "initialise_lightpath_capacities1: 867690440105.5276\n",
      "initialise_lightpath_capacities1: 867690440105.5276\n",
      "initialise_lightpath_capacities1: 895206866757.6487\n",
      "initialise_lightpath_capacities1: 895206866757.6487\n",
      "initialise_lightpath_capacities1: 895206866757.6487\n",
      "initialise_lightpath_capacities1: 881088331187.3816\n",
      "initialise_lightpath_capacities1: 881088331187.3816\n",
      "initialise_lightpath_capacities1: 881088331187.3816\n",
      "initialise_lightpath_capacities1: 910124174611.0109\n",
      "initialise_lightpath_capacities1: 910124174611.0109\n",
      "initialise_lightpath_capacities1: 910124174611.0109\n",
      "initialise_lightpath_capacities1: 867690440105.5276\n",
      "initialise_lightpath_capacities1: 867690440105.5276\n",
      "initialise_lightpath_capacities1: 867690440105.5276\n",
      "initialise_lightpath_capacities1: 1175014307120.3843\n",
      "initialise_lightpath_capacities1: 1175014307120.3843\n",
      "initialise_lightpath_capacities1: 1175014307120.3843\n",
      "initialise_lightpath_capacities1: 799222959802.1016\n",
      "initialise_lightpath_capacities1: 799222959802.1016\n",
      "initialise_lightpath_capacities1: 799222959802.1016\n",
      "initialise_lightpath_capacities1: 979889119983.0845\n",
      "initialise_lightpath_capacities1: 979889119983.0845\n",
      "initialise_lightpath_capacities1: 979889119983.0845\n",
      "initialise_lightpath_capacities1: 881088331187.3816\n",
      "initialise_lightpath_capacities1: 881088331187.3816\n",
      "initialise_lightpath_capacities1: 881088331187.3816\n",
      "initialise_lightpath_capacities1: 1000580781068.626\n",
      "initialise_lightpath_capacities1: 1000580781068.626\n",
      "initialise_lightpath_capacities1: 1000580781068.626\n",
      "initialise_lightpath_capacities1: 867690440105.5276\n",
      "initialise_lightpath_capacities1: 867690440105.5276\n",
      "initialise_lightpath_capacities1: 867690440105.5276\n",
      "initialise_lightpath_capacities1: 842796693934.1656\n",
      "initialise_lightpath_capacities1: 842796693934.1656\n",
      "initialise_lightpath_capacities1: 842796693934.1656\n",
      "initialise_lightpath_capacities1: 831191785935.6453\n",
      "initialise_lightpath_capacities1: 831191785935.6453\n",
      "initialise_lightpath_capacities1: 831191785935.6453\n",
      "initialise_lightpath_capacities1: 925931790613.6082\n",
      "initialise_lightpath_capacities1: 925931790613.6082\n",
      "initialise_lightpath_capacities1: 925931790613.6082\n",
      "initialise_lightpath_capacities1: 867690440105.5276\n",
      "initialise_lightpath_capacities1: 867690440105.5276\n",
      "initialise_lightpath_capacities1: 867690440105.5276\n",
      "initialise_lightpath_capacities1: 925931790613.6082\n",
      "initialise_lightpath_capacities1: 925931790613.6082\n",
      "initialise_lightpath_capacities1: 925931790613.6082\n",
      "initialise_lightpath_capacities1: 867690440105.5276\n",
      "initialise_lightpath_capacities1: 867690440105.5276\n",
      "initialise_lightpath_capacities1: 867690440105.5276\n",
      "initialise_lightpath_capacities1: 910124174611.0109\n",
      "initialise_lightpath_capacities1: 910124174611.0109\n",
      "initialise_lightpath_capacities1: 910124174611.0109\n",
      "initialise_lightpath_capacities1: 881088331187.3816\n",
      "initialise_lightpath_capacities1: 881088331187.3816\n",
      "initialise_lightpath_capacities1: 881088331187.3816\n",
      "initialise_lightpath_capacities1: 1175014307120.3843\n",
      "initialise_lightpath_capacities1: 1175014307120.3843\n",
      "initialise_lightpath_capacities1: 1175014307120.3843\n",
      "initialise_lightpath_capacities1: 799222959802.1016\n",
      "initialise_lightpath_capacities1: 799222959802.1016\n",
      "initialise_lightpath_capacities1: 799222959802.1016\n",
      "initialise_lightpath_capacities1: 979889119983.0845\n",
      "initialise_lightpath_capacities1: 979889119983.0845\n",
      "initialise_lightpath_capacities1: 979889119983.0845\n",
      "initialise_lightpath_capacities1: 881088331187.3816\n",
      "initialise_lightpath_capacities1: 881088331187.3816\n",
      "initialise_lightpath_capacities1: 881088331187.3816\n",
      "initialise_lightpath_capacities1: 942737913623.7994\n",
      "initialise_lightpath_capacities1: 942737913623.7994\n",
      "initialise_lightpath_capacities1: 942737913623.7994\n",
      "initialise_lightpath_capacities1: 925931790613.6082\n",
      "initialise_lightpath_capacities1: 925931790613.6082\n",
      "initialise_lightpath_capacities1: 925931790613.6082\n",
      "initialise_lightpath_capacities1: 1074198970849.9735\n",
      "initialise_lightpath_capacities1: 1074198970849.9735\n",
      "initialise_lightpath_capacities1: 1074198970849.9735\n",
      "initialise_lightpath_capacities1: 979889119983.0845\n",
      "initialise_lightpath_capacities1: 979889119983.0845\n",
      "initialise_lightpath_capacities1: 979889119983.0845\n",
      "initialise_lightpath_capacities1: 1074198970849.9735\n",
      "initialise_lightpath_capacities1: 1074198970849.9735\n",
      "initialise_lightpath_capacities1: 1074198970849.9735\n",
      "initialise_lightpath_capacities1: 979889119983.0845\n",
      "initialise_lightpath_capacities1: 979889119983.0845\n",
      "initialise_lightpath_capacities1: 979889119983.0845\n",
      "initialise_lightpath_capacities1: 1047394651711.2478\n",
      "initialise_lightpath_capacities1: 1047394651711.2478\n",
      "initialise_lightpath_capacities1: 1047394651711.2478\n",
      "initialise_lightpath_capacities1: 1000580781068.626\n",
      "initialise_lightpath_capacities1: 1000580781068.626\n"
     ]
    },
    {
     "name": "stdout",
     "output_type": "stream",
     "text": [
      "initialise_lightpath_capacities1: 1000580781068.626\n",
      "initialise_lightpath_capacities1: 1175014307120.3843\n",
      "initialise_lightpath_capacities1: 1175014307120.3843\n",
      "initialise_lightpath_capacities1: 1175014307120.3843\n",
      "initialise_lightpath_capacities1: 799222959802.1016\n",
      "initialise_lightpath_capacities1: 799222959802.1016\n",
      "initialise_lightpath_capacities1: 799222959802.1016\n",
      "initialise_lightpath_capacities1: 1103901519141.9468\n",
      "initialise_lightpath_capacities1: 1103901519141.9468\n",
      "initialise_lightpath_capacities1: 1103901519141.9468\n",
      "initialise_lightpath_capacities1: 1074198970849.9735\n",
      "initialise_lightpath_capacities1: 1074198970849.9735\n",
      "initialise_lightpath_capacities1: 1074198970849.9735\n",
      "initialise_lightpath_capacities1: 1416669754572.893\n",
      "initialise_lightpath_capacities1: 1416669754572.893\n",
      "initialise_lightpath_capacities1: 1416669754572.893\n",
      "initialise_lightpath_capacities1: 1175014307120.3843\n",
      "initialise_lightpath_capacities1: 1175014307120.3843\n",
      "initialise_lightpath_capacities1: 1175014307120.3843\n",
      "initialise_lightpath_capacities1: 1416669754572.893\n",
      "initialise_lightpath_capacities1: 1416669754572.893\n",
      "initialise_lightpath_capacities1: 1416669754572.893\n",
      "initialise_lightpath_capacities1: 1175014307120.3843\n",
      "initialise_lightpath_capacities1: 1175014307120.3843\n",
      "initialise_lightpath_capacities1: 1175014307120.3843\n",
      "initialise_lightpath_capacities1: 1334370607544.6882\n",
      "initialise_lightpath_capacities1: 1334370607544.6882\n",
      "initialise_lightpath_capacities1: 1334370607544.6882\n",
      "initialise_lightpath_capacities1: 1218789617363.0742\n",
      "initialise_lightpath_capacities1: 1218789617363.0742\n",
      "initialise_lightpath_capacities1: 1218789617363.0742\n",
      "initialise_lightpath_capacities1: 942737913623.7994\n",
      "initialise_lightpath_capacities1: 942737913623.7994\n",
      "initialise_lightpath_capacities1: 942737913623.7994\n",
      "initialise_lightpath_capacities1: 925931790613.6082\n",
      "initialise_lightpath_capacities1: 925931790613.6082\n",
      "initialise_lightpath_capacities1: 925931790613.6082\n",
      "initialise_lightpath_capacities1: 1074198970849.9735\n",
      "initialise_lightpath_capacities1: 1074198970849.9735\n",
      "initialise_lightpath_capacities1: 1074198970849.9735\n",
      "initialise_lightpath_capacities1: 979889119983.0845\n",
      "initialise_lightpath_capacities1: 979889119983.0845\n",
      "initialise_lightpath_capacities1: 979889119983.0845\n",
      "initialise_lightpath_capacities1: 1074198970849.9735\n",
      "initialise_lightpath_capacities1: 1074198970849.9735\n",
      "initialise_lightpath_capacities1: 1074198970849.9735\n",
      "initialise_lightpath_capacities1: 979889119983.0845\n",
      "initialise_lightpath_capacities1: 979889119983.0845\n",
      "initialise_lightpath_capacities1: 979889119983.0845\n",
      "initialise_lightpath_capacities1: 1047394651711.2478\n",
      "initialise_lightpath_capacities1: 1047394651711.2478\n",
      "initialise_lightpath_capacities1: 1047394651711.2478\n",
      "initialise_lightpath_capacities1: 1000580781068.626\n",
      "initialise_lightpath_capacities1: 1000580781068.626\n",
      "initialise_lightpath_capacities1: 1000580781068.626\n",
      "initialise_lightpath_capacities1: 1218789617363.0742\n",
      "initialise_lightpath_capacities1: 1218789617363.0742\n",
      "initialise_lightpath_capacities1: 1218789617363.0742\n",
      "initialise_lightpath_capacities1: 1047394651711.2478\n",
      "initialise_lightpath_capacities1: 1047394651711.2478\n",
      "initialise_lightpath_capacities1: 1047394651711.2478\n",
      "initialise_lightpath_capacities1: 1175014307120.3843\n",
      "initialise_lightpath_capacities1: 1175014307120.3843\n",
      "initialise_lightpath_capacities1: 1175014307120.3843\n",
      "initialise_lightpath_capacities1: 1074198970849.9735\n",
      "initialise_lightpath_capacities1: 1074198970849.9735\n",
      "initialise_lightpath_capacities1: 1074198970849.9735\n",
      "initialise_lightpath_capacities1: 1137186756075.721\n",
      "initialise_lightpath_capacities1: 1137186756075.721\n",
      "initialise_lightpath_capacities1: 1137186756075.721\n",
      "initialise_lightpath_capacities1: 1103901519141.9468\n",
      "initialise_lightpath_capacities1: 1103901519141.9468\n",
      "initialise_lightpath_capacities1: 1103901519141.9468\n",
      "initialise_lightpath_capacities1: 1334370607544.6882\n",
      "initialise_lightpath_capacities1: 1334370607544.6882\n",
      "initialise_lightpath_capacities1: 1334370607544.6882\n",
      "initialise_lightpath_capacities1: 1218789617363.0742\n",
      "initialise_lightpath_capacities1: 1218789617363.0742\n",
      "initialise_lightpath_capacities1: 1218789617363.0742\n",
      "initialise_lightpath_capacities1: 1416669754572.893\n",
      "initialise_lightpath_capacities1: 1416669754572.893\n",
      "initialise_lightpath_capacities1: 1416669754572.893\n",
      "initialise_lightpath_capacities1: 1175014307120.3843\n",
      "initialise_lightpath_capacities1: 1175014307120.3843\n",
      "initialise_lightpath_capacities1: 1175014307120.3843\n",
      "initialise_lightpath_capacities1: 1732240310677.2039\n",
      "initialise_lightpath_capacities1: 1732240310677.2039\n",
      "initialise_lightpath_capacities1: 1732240310677.2039\n",
      "initialise_lightpath_capacities1: 1103901519141.9468\n",
      "initialise_lightpath_capacities1: 1103901519141.9468\n",
      "initialise_lightpath_capacities1: 1103901519141.9468\n",
      "get_available_lightpath_capacity 1103901519141.9468\n"
     ]
    }
   ],
   "source": [
    "load = int(1e10)\n",
    "req_bitrate = 500e9\n",
    "ep_len = 10\n",
    "env_args_1 = dict(topology=topology_1, seed=10, load = load,\n",
    "                allow_rejection=False, # the agent cannot proactively reject a request\n",
    "                mean_service_holding_time=1e8,\n",
    "                episode_length=ep_len, node_request_probabilities=node_request_probabilities, exp_request_res = req_bitrate,\n",
    "                term_on_first_block=False, num_spectrum_resources=3)\n",
    "env_args_2 = dict(topology=topology_2, seed=10, load = load,\n",
    "                allow_rejection=False, # the agent cannot proactively reject a request\n",
    "                mean_service_holding_time=1e8,\n",
    "                episode_length=ep_len, node_request_probabilities=node_request_probabilities, exp_request_res = req_bitrate,\n",
    "                term_on_first_block=False, num_spectrum_resources=3)\n",
    "# env_args_3 = dict(topology=topology_3, seed=10, load = load,\n",
    "#                 allow_rejection=False, # the agent cannot proactively reject a request\n",
    "#                 mean_service_holding_time=1e8,\n",
    "#                 episode_length=ep_len, node_request_probabilities=node_request_probabilities, exp_request_res = req_bitrate,\n",
    "#                 term_on_first_block=False, num_spectrum_resources=3)\n",
    "# env_args_5 = dict(topology=topology_5, seed=10, load = load,\n",
    "#                 allow_rejection=False, # the agent cannot proactively reject a request\n",
    "#                 mean_service_holding_time=1e8,\n",
    "#                 episode_length=ep_len, node_request_probabilities=node_request_probabilities, exp_request_res = req_bitrate,\n",
    "#                 term_on_first_block=False, num_spectrum_resources=3)\n",
    "# env_args_1 = dict(topology=topology, seed=5, load = load,\n",
    "#                 allow_rejection=False, # the agent cannot proactively reject a request\n",
    "#                 mean_service_holding_time=1e1,\n",
    "#                 episode_length=3000, node_request_probabilities=node_request_probabilities,\n",
    "#                 term_on_first_block=False)\n",
    "# env_0 = PathOnlyFirstFitAction(gym.make('RWAFOCS-v2', **env_args))\n",
    "# env_0 = gym.make('RWAFOCS-v41', **env_args)\n",
    "# env_1 = gym.make('RWAFOCS-v21', **env_args_1)\n",
    "env_1 = gym.make('RWAFOCS-v22', **env_args_1)\n",
    "env_2 = gym.make('RWAFOCS-v22', **env_args_2)\n",
    "# env_3 = gym.make('RWAFOCS-v22', **env_args_3)\n",
    "# env_5 = gym.make('RWAFOCS-v22', **env_args_5)"
   ]
  },
  {
   "cell_type": "code",
   "execution_count": 6,
   "id": "d09c7455",
   "metadata": {},
   "outputs": [],
   "source": [
    "# mean_reward, std_reward = evaluate_heuristic(env_0, random_policy, n_eval_episodes=10,\n",
    "#                        render=False, callback=None, reward_threshold=None,\n",
    "#                        return_episode_rewards=False)\n",
    "# print(\"mean reward:\", mean_reward)\n",
    "# print(\"Std reward:\", std_reward)\n",
    "# print(\"1 std best case:\", mean_reward + std_reward)"
   ]
  },
  {
   "cell_type": "code",
   "execution_count": 7,
   "id": "48f694a9",
   "metadata": {},
   "outputs": [],
   "source": [
    "# env_0.services_accepted"
   ]
  },
  {
   "cell_type": "code",
   "execution_count": 9,
   "id": "537ef48c",
   "metadata": {},
   "outputs": [
    {
     "data": {
      "text/plain": [
       "100"
      ]
     },
     "execution_count": 9,
     "metadata": {},
     "output_type": "execute_result"
    }
   ],
   "source": [
    "env_1.topology.graph['ksp']['13','14'][0].length"
   ]
  },
  {
   "cell_type": "code",
   "execution_count": 10,
   "id": "591cefa2",
   "metadata": {},
   "outputs": [
    {
     "data": {
      "text/plain": [
       "0.8200866727310565"
      ]
     },
     "execution_count": 10,
     "metadata": {},
     "output_type": "execute_result"
    }
   ],
   "source": [
    "calculate_lightpath_capacity(2500, 0)"
   ]
  },
  {
   "cell_type": "code",
   "execution_count": 11,
   "id": "0240e658",
   "metadata": {},
   "outputs": [
    {
     "data": {
      "text/plain": [
       "1.7322403106772037"
      ]
     },
     "execution_count": 11,
     "metadata": {},
     "output_type": "execute_result"
    }
   ],
   "source": [
    "calculate_lightpath_capacity(env_1.topology.graph['ksp']['13','14'][0].length, 0)"
   ]
  },
  {
   "cell_type": "code",
   "execution_count": 12,
   "id": "1eadf1a5",
   "metadata": {},
   "outputs": [
    {
     "data": {
      "text/plain": [
       "1732240310677.2039"
      ]
     },
     "execution_count": 12,
     "metadata": {},
     "output_type": "execute_result"
    }
   ],
   "source": [
    "env_1.get_available_lightpath_capacity(env_1.topology.graph['ksp']['2','4'][0], 0)"
   ]
  },
  {
   "cell_type": "code",
   "execution_count": 13,
   "id": "fec92566",
   "metadata": {},
   "outputs": [
    {
     "data": {
      "text/plain": [
       "1732240310677.2039"
      ]
     },
     "execution_count": 13,
     "metadata": {},
     "output_type": "execute_result"
    }
   ],
   "source": [
    "env_2.get_available_lightpath_capacity(env_1.topology.graph['ksp']['5','8'][0], 0)"
   ]
  },
  {
   "cell_type": "code",
   "execution_count": 14,
   "id": "2494ac32",
   "metadata": {},
   "outputs": [
    {
     "data": {
      "text/plain": [
       "1732240310677.2039"
      ]
     },
     "execution_count": 14,
     "metadata": {},
     "output_type": "execute_result"
    }
   ],
   "source": [
    "env_1.get_available_lightpath_capacity(env_1.k_shortest_paths['2','4'][0], 0)"
   ]
  },
  {
   "cell_type": "code",
   "execution_count": 15,
   "id": "863ba52a",
   "metadata": {},
   "outputs": [
    {
     "data": {
      "text/plain": [
       "1732240310677.2039"
      ]
     },
     "execution_count": 15,
     "metadata": {},
     "output_type": "execute_result"
    }
   ],
   "source": [
    "env_1.get_available_lightpath_capacity(env_1.k_shortest_paths['5','8'][0], 0)"
   ]
  },
  {
   "cell_type": "code",
   "execution_count": null,
   "id": "a4c4b0a6",
   "metadata": {
    "scrolled": false
   },
   "outputs": [],
   "source": [
    "mean_reward, std_reward = evaluate_heuristic(env_1, kSP_FF, n_eval_episodes=1,\n",
    "                       render=False, callback=None, reward_threshold=None,\n",
    "                       return_episode_rewards=False)\n",
    "print(\"mean reward:\", mean_reward)\n",
    "print(\"Std reward:\", std_reward)\n",
    "env_1.services_accepted"
   ]
  },
  {
   "cell_type": "code",
   "execution_count": null,
   "id": "c2c8425f",
   "metadata": {},
   "outputs": [],
   "source": [
    "mean_reward, std_reward = evaluate_heuristic(env_2, kSP_FF, n_eval_episodes=1,\n",
    "                       render=False, callback=None, reward_threshold=None,\n",
    "                       return_episode_rewards=False)\n",
    "print(\"mean reward:\", mean_reward)\n",
    "print(\"Std reward:\", std_reward)\n",
    "env_2.services_accepted"
   ]
  },
  {
   "cell_type": "code",
   "execution_count": null,
   "id": "e7002057",
   "metadata": {},
   "outputs": [],
   "source": [
    "mean_reward, std_reward = evaluate_heuristic(env_3, kSP_FF, n_eval_episodes=1,\n",
    "                       render=False, callback=None, reward_threshold=None,\n",
    "                       return_episode_rewards=False)\n",
    "print(\"mean reward:\", mean_reward)\n",
    "print(\"Std reward:\", std_reward)\n",
    "env_3.services_accepted"
   ]
  },
  {
   "cell_type": "code",
   "execution_count": null,
   "id": "50461e24",
   "metadata": {},
   "outputs": [],
   "source": [
    "mean_reward, std_reward = evaluate_heuristic(env_5, kSP_FF, n_eval_episodes=1,\n",
    "                       render=False, callback=None, reward_threshold=None,\n",
    "                       return_episode_rewards=False)\n",
    "print(\"mean reward:\", mean_reward)\n",
    "print(\"Std reward:\", std_reward)\n",
    "env_5.services_accepted"
   ]
  },
  {
   "cell_type": "code",
   "execution_count": null,
   "id": "190e30d4",
   "metadata": {},
   "outputs": [],
   "source": [
    "mean_reward, std_reward = evaluate_heuristic(env_2, FF_kSP, n_eval_episodes=1,\n",
    "                       render=False, callback=None, reward_threshold=None,\n",
    "                       return_episode_rewards=False)\n",
    "print(\"mean reward:\", mean_reward)\n",
    "print(\"Std reward:\", std_reward)"
   ]
  },
  {
   "cell_type": "code",
   "execution_count": null,
   "id": "adb0b3c3",
   "metadata": {},
   "outputs": [],
   "source": [
    "mean_reward, std_reward = evaluate_heuristic(env_3, CA_MU, n_eval_episodes=1,\n",
    "                       render=False, callback=None, reward_threshold=None,\n",
    "                       return_episode_rewards=False)\n",
    "print(\"mean reward:\", mean_reward)\n",
    "print(\"Std reward:\", std_reward)"
   ]
  },
  {
   "cell_type": "code",
   "execution_count": null,
   "id": "9e08d1e6",
   "metadata": {},
   "outputs": [],
   "source": [
    "mean_reward, std_reward = evaluate_heuristic(env_4, kSP_MU, n_eval_episodes=1,\n",
    "                       render=False, callback=None, reward_threshold=None,\n",
    "                       return_episode_rewards=False)\n",
    "print(\"mean reward:\", mean_reward)\n",
    "print(\"Std reward:\", std_reward)"
   ]
  },
  {
   "cell_type": "markdown",
   "id": "8b2d9970",
   "metadata": {},
   "source": [
    "kSP-FF:"
   ]
  },
  {
   "cell_type": "code",
   "execution_count": null,
   "id": "2d843184",
   "metadata": {},
   "outputs": [],
   "source": [
    "print_service_stats(env_1)"
   ]
  },
  {
   "cell_type": "markdown",
   "id": "ee5c31da",
   "metadata": {},
   "source": [
    "FF-kSP:"
   ]
  },
  {
   "cell_type": "code",
   "execution_count": null,
   "id": "d20b3faf",
   "metadata": {},
   "outputs": [],
   "source": [
    "print_service_stats(env_2)"
   ]
  },
  {
   "cell_type": "markdown",
   "id": "f72e446a",
   "metadata": {},
   "source": [
    "CA-MU:"
   ]
  },
  {
   "cell_type": "code",
   "execution_count": null,
   "id": "92ca9b43",
   "metadata": {},
   "outputs": [],
   "source": [
    "print_service_stats(env_3)"
   ]
  },
  {
   "cell_type": "code",
   "execution_count": null,
   "id": "111103a3",
   "metadata": {},
   "outputs": [],
   "source": [
    "print_service_stats(env_5)"
   ]
  },
  {
   "cell_type": "code",
   "execution_count": null,
   "id": "47c9b117",
   "metadata": {},
   "outputs": [],
   "source": [
    "occupation_comp = env_1.topology.graph['available_wavelengths'] - env_2.topology.graph['available_wavelengths']"
   ]
  },
  {
   "cell_type": "code",
   "execution_count": null,
   "id": "4dc27c3f",
   "metadata": {},
   "outputs": [],
   "source": [
    "occupation_comp[0]"
   ]
  },
  {
   "cell_type": "code",
   "execution_count": null,
   "id": "a5916553",
   "metadata": {},
   "outputs": [],
   "source": [
    "env_1.lightpath_service_allocation - env_2.lightpath_service_allocation"
   ]
  },
  {
   "cell_type": "code",
   "execution_count": null,
   "id": "047ad4ae",
   "metadata": {},
   "outputs": [],
   "source": []
  },
  {
   "cell_type": "code",
   "execution_count": null,
   "id": "478e4f5b",
   "metadata": {},
   "outputs": [],
   "source": [
    "nonzeroids = [np.count_nonzero(env_3.lightpath_service_allocation[i]) for i in range(273)]"
   ]
  },
  {
   "cell_type": "code",
   "execution_count": null,
   "id": "57a6cbdb",
   "metadata": {},
   "outputs": [],
   "source": [
    "len(nonzeroids)"
   ]
  },
  {
   "cell_type": "code",
   "execution_count": null,
   "id": "d826933a",
   "metadata": {},
   "outputs": [],
   "source": [
    "plt.plot(nonzeroids, '+')"
   ]
  },
  {
   "cell_type": "markdown",
   "id": "61dfe31f",
   "metadata": {},
   "source": [
    "kSP-MU:"
   ]
  },
  {
   "cell_type": "code",
   "execution_count": null,
   "id": "7b689692",
   "metadata": {},
   "outputs": [],
   "source": [
    "print_service_stats(env_4)"
   ]
  },
  {
   "cell_type": "code",
   "execution_count": null,
   "id": "a597a2d3",
   "metadata": {},
   "outputs": [],
   "source": [
    "path_id_util_1, num_paths = get_service_utils(env_1)\n",
    "path_id_util_2, _ = get_service_utils(env_2)\n",
    "path_id_util_3, _ = get_service_utils(env_3)\n",
    "path_id_util_4, _ = get_service_utils(env_4)"
   ]
  },
  {
   "cell_type": "code",
   "execution_count": null,
   "id": "f1da108f",
   "metadata": {},
   "outputs": [],
   "source": [
    "sum(path_id_util_1)"
   ]
  },
  {
   "cell_type": "code",
   "execution_count": null,
   "id": "f340fdd0",
   "metadata": {},
   "outputs": [],
   "source": [
    "sum(path_id_util_2)"
   ]
  },
  {
   "cell_type": "code",
   "execution_count": null,
   "id": "5459b15d",
   "metadata": {},
   "outputs": [],
   "source": [
    "sum(path_id_util_3)"
   ]
  },
  {
   "cell_type": "code",
   "execution_count": null,
   "id": "8f6f7b75",
   "metadata": {},
   "outputs": [],
   "source": [
    "sum(path_id_util_4)"
   ]
  },
  {
   "cell_type": "markdown",
   "id": "dfa85041",
   "metadata": {},
   "source": [
    "Verify that throughput is the same, despite the number of allocated requests being different!"
   ]
  },
  {
   "cell_type": "code",
   "execution_count": null,
   "id": "b48029a4",
   "metadata": {},
   "outputs": [],
   "source": [
    "req_comp = np.array([env_1.cumulative_throughput[i] - env_2.cumulative_throughput[i] for i in range(len(env_1.cumulative_throughput))])"
   ]
  },
  {
   "cell_type": "code",
   "execution_count": null,
   "id": "8d049975",
   "metadata": {},
   "outputs": [],
   "source": [
    "np.count_nonzero(req_comp)"
   ]
  },
  {
   "cell_type": "code",
   "execution_count": null,
   "id": "de2f2edc",
   "metadata": {},
   "outputs": [],
   "source": [
    "print(req_comp[-1])\n",
    "print(req_comp[-2])\n",
    "print(req_comp[-3])\n",
    "print(req_comp[-4])\n",
    "print(req_comp[-5])\n",
    "print(req_comp[-6])\n",
    "print(req_comp[-7])"
   ]
  },
  {
   "cell_type": "code",
   "execution_count": null,
   "id": "913941e5",
   "metadata": {},
   "outputs": [],
   "source": [
    "print(env_2.cumulative_throughput[-1])\n",
    "print(env_2.cumulative_throughput[-2])"
   ]
  },
  {
   "cell_type": "code",
   "execution_count": null,
   "id": "ff6c7cd9",
   "metadata": {},
   "outputs": [],
   "source": [
    "plt.plot(env_1.cumulative_throughput, '+')\n",
    "plt.show()"
   ]
  },
  {
   "cell_type": "code",
   "execution_count": null,
   "id": "6ede7e48",
   "metadata": {},
   "outputs": [],
   "source": [
    "plt.plot(env_2.cumulative_throughput, '+')\n",
    "plt.show()"
   ]
  },
  {
   "cell_type": "code",
   "execution_count": null,
   "id": "ee2aa3a0",
   "metadata": {},
   "outputs": [],
   "source": [
    "plt.plot(req_comp)\n",
    "plt.show()"
   ]
  },
  {
   "cell_type": "code",
   "execution_count": null,
   "id": "a3469afe",
   "metadata": {},
   "outputs": [],
   "source": [
    "np.sum(env_2.active_bitrates)"
   ]
  },
  {
   "cell_type": "code",
   "execution_count": null,
   "id": "3e0debc9",
   "metadata": {},
   "outputs": [],
   "source": [
    "env_2.cumulative_throughput"
   ]
  },
  {
   "cell_type": "code",
   "execution_count": null,
   "id": "1c559d7f",
   "metadata": {},
   "outputs": [],
   "source": [
    "x = np.arange(num_paths)\n",
    "plt.plot(x, path_id_util_1)\n",
    "plt.xlabel(\"Path ID\")\n",
    "plt.ylabel(\"Number of services\")\n",
    "#plt.savefig('figures/pathid_services_kspff.pdf', dpi=200,bbox_inches='tight')\n",
    "plt.show()"
   ]
  },
  {
   "cell_type": "code",
   "execution_count": null,
   "id": "c344cb50",
   "metadata": {},
   "outputs": [],
   "source": [
    "x = np.arange(num_paths)\n",
    "plt.plot(x, path_id_util_2)\n",
    "plt.xlabel(\"Path ID\")\n",
    "plt.ylabel(\"Number of services\")\n",
    "#plt.savefig('figures/pathid_services_ffksp.pdf', dpi=200,bbox_inches='tight')\n",
    "plt.show()"
   ]
  },
  {
   "cell_type": "code",
   "execution_count": null,
   "id": "29268011",
   "metadata": {},
   "outputs": [],
   "source": [
    "x = np.arange(num_paths)\n",
    "plt.plot(x, path_id_util_3)\n",
    "plt.xlabel(\"Path ID\")\n",
    "plt.ylabel(\"Number of services\")\n",
    "#plt.savefig('figures/pathid_services_ffksp.pdf', dpi=200,bbox_inches='tight')\n",
    "plt.show()"
   ]
  },
  {
   "cell_type": "code",
   "execution_count": null,
   "id": "9712ea6a",
   "metadata": {},
   "outputs": [],
   "source": [
    "x = np.arange(num_paths)\n",
    "plt.plot(x, path_id_util_4)\n",
    "plt.xlabel(\"Path ID\")\n",
    "plt.ylabel(\"Number of services\")\n",
    "#plt.savefig('figures/pathid_services_ffksp.pdf', dpi=200,bbox_inches='tight')\n",
    "plt.show()"
   ]
  },
  {
   "cell_type": "code",
   "execution_count": null,
   "id": "c6a89157",
   "metadata": {},
   "outputs": [],
   "source": [
    "x = np.arange(num_paths)\n",
    "plt.plot(x, path_id_util_1, 'r+')\n",
    "plt.plot(x, path_id_util_2, 'bx')\n",
    "plt.xlabel(\"Path ID\")\n",
    "plt.ylabel(\"Number of services\")\n",
    "plt.show()"
   ]
  },
  {
   "cell_type": "code",
   "execution_count": null,
   "id": "60adb7f4",
   "metadata": {},
   "outputs": [],
   "source": [
    "x = np.arange(num_paths)\n",
    "plt.plot(x, abs(np.array(path_id_util_1) - np.array(path_id_util_2)))\n",
    "plt.xlabel(\"Path ID\")\n",
    "plt.ylabel(\"Number of services\")\n",
    "#plt.savefig('figures/pathid_services_ffksp.pdf', dpi=200,bbox_inches='tight')\n",
    "plt.show()"
   ]
  },
  {
   "cell_type": "code",
   "execution_count": null,
   "id": "f6a0302c",
   "metadata": {},
   "outputs": [],
   "source": [
    "(np.array(path_id_util_1) - np.array(path_id_util_2))"
   ]
  },
  {
   "cell_type": "code",
   "execution_count": null,
   "id": "83166ee2",
   "metadata": {},
   "outputs": [],
   "source": [
    "np.array(path_id_util_1)"
   ]
  },
  {
   "cell_type": "code",
   "execution_count": null,
   "id": "c21a6c05",
   "metadata": {},
   "outputs": [],
   "source": [
    "np.array(path_id_util_2)"
   ]
  },
  {
   "cell_type": "markdown",
   "id": "a8c14fd2",
   "metadata": {},
   "source": [
    "Look at ksp ordering:"
   ]
  },
  {
   "cell_type": "code",
   "execution_count": null,
   "id": "e98c7607",
   "metadata": {},
   "outputs": [],
   "source": [
    "env_1.service.source"
   ]
  },
  {
   "cell_type": "code",
   "execution_count": null,
   "id": "cf67eb35",
   "metadata": {},
   "outputs": [],
   "source": [
    "paths_test = env_1.topology.graph['ksp']['2','3']\n",
    "len(paths_test)"
   ]
  },
  {
   "cell_type": "code",
   "execution_count": null,
   "id": "7bf94b58",
   "metadata": {},
   "outputs": [],
   "source": [
    "paths_test[0].length"
   ]
  },
  {
   "cell_type": "code",
   "execution_count": null,
   "id": "38c52bc8",
   "metadata": {},
   "outputs": [],
   "source": [
    "paths_test[1].length"
   ]
  },
  {
   "cell_type": "code",
   "execution_count": null,
   "id": "2d5ed228",
   "metadata": {},
   "outputs": [],
   "source": [
    "paths_test[2].length"
   ]
  },
  {
   "cell_type": "code",
   "execution_count": null,
   "id": "93d75f2a",
   "metadata": {},
   "outputs": [],
   "source": []
  },
  {
   "cell_type": "code",
   "execution_count": null,
   "id": "7bb1af14",
   "metadata": {},
   "outputs": [],
   "source": [
    "paths_test[3].length"
   ]
  },
  {
   "cell_type": "code",
   "execution_count": null,
   "id": "fb607e23",
   "metadata": {},
   "outputs": [],
   "source": [
    "paths_test[4].length"
   ]
  },
  {
   "cell_type": "code",
   "execution_count": null,
   "id": "3f2b70a7",
   "metadata": {},
   "outputs": [],
   "source": [
    "env_1.observation_space.sample()"
   ]
  },
  {
   "cell_type": "code",
   "execution_count": null,
   "id": "ab243ff1",
   "metadata": {},
   "outputs": [],
   "source": [
    "env_2.observation_space.sample()[:100]"
   ]
  },
  {
   "cell_type": "code",
   "execution_count": null,
   "id": "1ca9bcb0",
   "metadata": {},
   "outputs": [],
   "source": []
  }
 ],
 "metadata": {
  "kernelspec": {
   "display_name": "Python 3 (ipykernel)",
   "language": "python",
   "name": "python3"
  },
  "language_info": {
   "codemirror_mode": {
    "name": "ipython",
    "version": 3
   },
   "file_extension": ".py",
   "mimetype": "text/x-python",
   "name": "python",
   "nbconvert_exporter": "python",
   "pygments_lexer": "ipython3",
   "version": "3.7.12"
  }
 },
 "nbformat": 4,
 "nbformat_minor": 5
}
