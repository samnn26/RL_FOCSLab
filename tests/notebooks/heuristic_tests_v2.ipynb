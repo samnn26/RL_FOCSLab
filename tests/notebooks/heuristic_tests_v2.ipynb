{
 "cells": [
  {
   "cell_type": "code",
   "execution_count": 1,
   "id": "f2ebc643",
   "metadata": {},
   "outputs": [
    {
     "name": "stderr",
     "output_type": "stream",
     "text": [
      "/Users/joshnevin/.pyenv/versions/3.7.12/envs/rlenv37/lib/python3.7/site-packages/ale_py/roms/utils.py:90: DeprecationWarning: SelectableGroups dict interface is deprecated. Use select.\n",
      "  for external in metadata.entry_points().get(self.group, []):\n"
     ]
    }
   ],
   "source": [
    "import os\n",
    "import pickle\n",
    "import numpy as np\n",
    "from IPython.display import clear_output\n",
    "import matplotlib\n",
    "import matplotlib.pyplot as plt\n",
    "import gym\n",
    "from optical_rl_gym.utils import evaluate_heuristic\n",
    "from optical_rl_gym.envs.rwa_env_focs_v2 import kSP_FF, FF_kSP, kSP_MU, CA_MU"
   ]
  },
  {
   "cell_type": "code",
   "execution_count": 18,
   "id": "4f6449f2",
   "metadata": {},
   "outputs": [],
   "source": [
    "def print_service_stats(env):\n",
    "    print(\"Whole training process statistics:\")\n",
    "    rnd_path_action_probability = np.sum(env.actions_output, axis=1) / np.sum(env.actions_output)\n",
    "    rnd_wavelength_action_probability = np.sum(env.actions_output, axis=0) / np.sum(env.actions_output)\n",
    "    print('Path action probability:', np.sum(env.actions_output, axis=1) / np.sum(env.actions_output))\n",
    "    print('Wavelength action probability:', np.sum(env.actions_output, axis=0) / np.sum(env.actions_output))\n",
    "    num_lps_reused = env.num_lightpaths_reused\n",
    "    print('Load (Erlangs):', load)\n",
    "    print('Service bit rate (Gb/s):', env.service.bit_rate/1e9)\n",
    "    print('Total number of services:', env.services_processed)\n",
    "    print('Total number of accepted services:', env.services_accepted)\n",
    "    print('Blocking probability:', 1 - env.services_accepted/env.services_processed)\n",
    "    print('Number of services on existing lightpaths:', num_lps_reused)\n",
    "    print('Number of services released:', env.num_lightpaths_released)\n",
    "    print('Number of transmitters on each node:', env.num_transmitters)\n",
    "    print('Number of receivers on each node:', env.num_receivers)\n",
    "def get_service_utils(env):\n",
    "    path_id_util = []\n",
    "    num_paths = env.topology.number_of_nodes() * (env.topology.number_of_nodes() - 1) * env.k_paths\n",
    "    for id in range(num_paths):\n",
    "        path_id_util.append(np.sum(env.lightpath_service_allocation[id,:]))\n",
    "    return path_id_util"
   ]
  },
  {
   "cell_type": "code",
   "execution_count": 2,
   "id": "c936f98f",
   "metadata": {},
   "outputs": [],
   "source": [
    "with open('/Users/joshnevin/RL_FOCSLab/topologies/nsfnet_chen_5-paths_directional.h5', 'rb') as f:\n",
    "    topology = pickle.load(f)\n",
    "# node probabilities from https://github.com/xiaoliangchenUCD/DeepRMSA/blob/6708e9a023df1ec05bfdc77804b6829e33cacfe4/Deep_RMSA_A3C.py#L77\n",
    "node_request_probabilities = np.array([0.01801802, 0.04004004, 0.05305305, 0.01901902, 0.04504505,\n",
    "       0.02402402, 0.06706707, 0.08908909, 0.13813814, 0.12212212,\n",
    "       0.07607608, 0.12012012, 0.01901902, 0.16916917])"
   ]
  },
  {
   "cell_type": "code",
   "execution_count": 3,
   "id": "94b05c3e",
   "metadata": {},
   "outputs": [],
   "source": [
    "# with open('/Users/joshnevin/RL_FOCSLab/topologies/3_node_network_sym.h5', 'rb') as f:\n",
    "#     topology = pickle.load(f)\n",
    "# node_request_probabilities = np.array([0.333333,0.333333,0.333333])"
   ]
  },
  {
   "cell_type": "code",
   "execution_count": 29,
   "id": "8622bb8c",
   "metadata": {},
   "outputs": [],
   "source": [
    "load = 100\n",
    "env_args = dict(topology=topology, seed=10, load = load,\n",
    "                allow_rejection=False, # the agent cannot proactively reject a request\n",
    "                mean_service_holding_time=10,\n",
    "                episode_length=5000, node_request_probabilities=node_request_probabilities)\n",
    "env_1 = gym.make('RWAFOCS-v2', **env_args)\n",
    "env_2 = gym.make('RWAFOCS-v2', **env_args)\n",
    "env_3 = gym.make('RWAFOCS-v2', **env_args)\n",
    "env_4 = gym.make('RWAFOCS-v2', **env_args)"
   ]
  },
  {
   "cell_type": "code",
   "execution_count": 6,
   "id": "132fa19b",
   "metadata": {},
   "outputs": [
    {
     "name": "stdout",
     "output_type": "stream",
     "text": [
      "mean reward: 5000.0\n",
      "Std reward: 0.0\n"
     ]
    }
   ],
   "source": [
    "heuristic = kSP_FF\n",
    "mean_reward, std_reward = evaluate_heuristic(env_1, heuristic, n_eval_episodes=1,\n",
    "                       render=False, callback=None, reward_threshold=None,\n",
    "                       return_episode_rewards=False)\n",
    "print(\"mean reward:\", mean_reward)\n",
    "print(\"Std reward:\", std_reward)"
   ]
  },
  {
   "cell_type": "code",
   "execution_count": 7,
   "id": "5f0186a1",
   "metadata": {},
   "outputs": [
    {
     "name": "stdout",
     "output_type": "stream",
     "text": [
      "mean reward: 5000.0\n",
      "Std reward: 0.0\n"
     ]
    }
   ],
   "source": [
    "heuristic = FF_kSP\n",
    "mean_reward, std_reward = evaluate_heuristic(env_2, heuristic, n_eval_episodes=1,\n",
    "                       render=False, callback=None, reward_threshold=None,\n",
    "                       return_episode_rewards=False)\n",
    "print(\"mean reward:\", mean_reward)\n",
    "print(\"Std reward:\", std_reward)"
   ]
  },
  {
   "cell_type": "code",
   "execution_count": 8,
   "id": "eb798597",
   "metadata": {},
   "outputs": [
    {
     "name": "stdout",
     "output_type": "stream",
     "text": [
      "mean reward: 5000.0\n",
      "Std reward: 0.0\n"
     ]
    }
   ],
   "source": [
    "heuristic = CA_MU\n",
    "mean_reward, std_reward = evaluate_heuristic(env_3, heuristic, n_eval_episodes=1,\n",
    "                       render=False, callback=None, reward_threshold=None,\n",
    "                       return_episode_rewards=False)\n",
    "print(\"mean reward:\", mean_reward)\n",
    "print(\"Std reward:\", std_reward)"
   ]
  },
  {
   "cell_type": "code",
   "execution_count": 30,
   "id": "c9c28a9a",
   "metadata": {},
   "outputs": [
    {
     "name": "stdout",
     "output_type": "stream",
     "text": [
      "mean reward: 5000.0\n",
      "Std reward: 0.0\n"
     ]
    }
   ],
   "source": [
    "heuristic = kSP_MU\n",
    "mean_reward, std_reward = evaluate_heuristic(env_4, heuristic, n_eval_episodes=1,\n",
    "                       render=False, callback=None, reward_threshold=None,\n",
    "                       return_episode_rewards=False)\n",
    "print(\"mean reward:\", mean_reward)\n",
    "print(\"Std reward:\", std_reward)"
   ]
  },
  {
   "cell_type": "code",
   "execution_count": 19,
   "id": "3adb68c9",
   "metadata": {},
   "outputs": [
    {
     "name": "stdout",
     "output_type": "stream",
     "text": [
      "Whole training process statistics:\n",
      "Path action probability: [0.6362 0.2084 0.084  0.0408 0.0306]\n",
      "Wavelength action probability: [0.218  0.1896 0.1398 0.1096 0.0816 0.0622 0.0502 0.041  0.0316 0.027\n",
      " 0.0178 0.0134 0.0092 0.0052 0.002  0.0014 0.0004 0.     0.     0.\n",
      " 0.     0.     0.     0.     0.     0.     0.     0.     0.     0.\n",
      " 0.     0.     0.     0.     0.     0.     0.     0.     0.     0.\n",
      " 0.     0.     0.     0.     0.     0.     0.     0.     0.     0.\n",
      " 0.     0.     0.     0.     0.     0.     0.     0.     0.     0.\n",
      " 0.     0.     0.     0.     0.     0.     0.     0.     0.     0.\n",
      " 0.     0.     0.     0.     0.     0.     0.     0.     0.     0.\n",
      " 0.     0.     0.     0.     0.     0.     0.     0.     0.     0.\n",
      " 0.     0.     0.     0.     0.     0.     0.     0.     0.     0.    ]\n",
      "Load (Erlangs): 100\n",
      "Service bit rate (Gb/s): 25.0\n",
      "Total number of services: 5000\n",
      "Total number of accepted services: 5000\n",
      "Blocking probability: 0.0\n",
      "Number of services on existing lightpaths: 2177\n",
      "Number of services released: 4901\n",
      "Number of transmitters on each node: [ 2.  3.  6.  1.  3.  0.  7.  5. 11.  4.  4.  4.  3.  5.]\n",
      "Number of receivers on each node: [ 1.  4.  3.  1.  4.  1.  5.  3.  8.  4.  4. 10.  1.  9.]\n"
     ]
    }
   ],
   "source": [
    "print_service_stats(env_1)"
   ]
  },
  {
   "cell_type": "code",
   "execution_count": 20,
   "id": "b024eb33",
   "metadata": {},
   "outputs": [
    {
     "name": "stdout",
     "output_type": "stream",
     "text": [
      "Whole training process statistics:\n",
      "Path action probability: [0.6158 0.2146 0.0914 0.0412 0.037 ]\n",
      "Wavelength action probability: [0.219  0.182  0.1358 0.1012 0.0832 0.067  0.05   0.043  0.0334 0.0266\n",
      " 0.0184 0.0154 0.0098 0.0064 0.006  0.002  0.0008 0.     0.     0.\n",
      " 0.     0.     0.     0.     0.     0.     0.     0.     0.     0.\n",
      " 0.     0.     0.     0.     0.     0.     0.     0.     0.     0.\n",
      " 0.     0.     0.     0.     0.     0.     0.     0.     0.     0.\n",
      " 0.     0.     0.     0.     0.     0.     0.     0.     0.     0.\n",
      " 0.     0.     0.     0.     0.     0.     0.     0.     0.     0.\n",
      " 0.     0.     0.     0.     0.     0.     0.     0.     0.     0.\n",
      " 0.     0.     0.     0.     0.     0.     0.     0.     0.     0.\n",
      " 0.     0.     0.     0.     0.     0.     0.     0.     0.     0.    ]\n",
      "Load (Erlangs): 100\n",
      "Service bit rate (Gb/s): 25.0\n",
      "Total number of services: 5000\n",
      "Total number of accepted services: 5000\n",
      "Blocking probability: 0.0\n",
      "Number of services on existing lightpaths: 2107\n",
      "Number of services released: 4901\n",
      "Number of transmitters on each node: [2. 3. 5. 1. 4. 0. 8. 4. 9. 5. 6. 4. 3. 5.]\n",
      "Number of receivers on each node: [ 1.  4.  3.  1.  4.  1.  5.  3. 10.  3.  4.  8.  2. 10.]\n"
     ]
    }
   ],
   "source": [
    "print_service_stats(env_2)"
   ]
  },
  {
   "cell_type": "code",
   "execution_count": 21,
   "id": "23d769eb",
   "metadata": {},
   "outputs": [
    {
     "name": "stdout",
     "output_type": "stream",
     "text": [
      "Whole training process statistics:\n",
      "Path action probability: [1. 0. 0. 0. 0.]\n",
      "Wavelength action probability: [2.036e-01 1.862e-01 1.658e-01 1.230e-01 9.760e-02 7.640e-02 5.740e-02\n",
      " 4.380e-02 2.560e-02 1.300e-02 5.000e-03 2.400e-03 2.000e-04 0.000e+00\n",
      " 0.000e+00 0.000e+00 0.000e+00 0.000e+00 0.000e+00 0.000e+00 0.000e+00\n",
      " 0.000e+00 0.000e+00 0.000e+00 0.000e+00 0.000e+00 0.000e+00 0.000e+00\n",
      " 0.000e+00 0.000e+00 0.000e+00 0.000e+00 0.000e+00 0.000e+00 0.000e+00\n",
      " 0.000e+00 0.000e+00 0.000e+00 0.000e+00 0.000e+00 0.000e+00 0.000e+00\n",
      " 0.000e+00 0.000e+00 0.000e+00 0.000e+00 0.000e+00 0.000e+00 0.000e+00\n",
      " 0.000e+00 0.000e+00 0.000e+00 0.000e+00 0.000e+00 0.000e+00 0.000e+00\n",
      " 0.000e+00 0.000e+00 0.000e+00 0.000e+00 0.000e+00 0.000e+00 0.000e+00\n",
      " 0.000e+00 0.000e+00 0.000e+00 0.000e+00 0.000e+00 0.000e+00 0.000e+00\n",
      " 0.000e+00 0.000e+00 0.000e+00 0.000e+00 0.000e+00 0.000e+00 0.000e+00\n",
      " 0.000e+00 0.000e+00 0.000e+00 0.000e+00 0.000e+00 0.000e+00 0.000e+00\n",
      " 0.000e+00 0.000e+00 0.000e+00 0.000e+00 0.000e+00 0.000e+00 0.000e+00\n",
      " 0.000e+00 0.000e+00 0.000e+00 0.000e+00 0.000e+00 0.000e+00 0.000e+00\n",
      " 0.000e+00 0.000e+00]\n",
      "Load (Erlangs): 100\n",
      "Service bit rate (Gb/s): 25.0\n",
      "Total number of services: 5000\n",
      "Total number of accepted services: 5000\n",
      "Blocking probability: 0.0\n",
      "Number of services on existing lightpaths: 2527\n",
      "Number of services released: 4901\n",
      "Number of transmitters on each node: [2. 3. 4. 1. 2. 0. 7. 4. 8. 4. 4. 4. 3. 3.]\n",
      "Number of receivers on each node: [1. 5. 4. 1. 3. 1. 4. 3. 5. 4. 4. 7. 1. 6.]\n"
     ]
    }
   ],
   "source": [
    "print_service_stats(env_3)"
   ]
  },
  {
   "cell_type": "code",
   "execution_count": 31,
   "id": "8d362dfa",
   "metadata": {},
   "outputs": [
    {
     "name": "stdout",
     "output_type": "stream",
     "text": [
      "Whole training process statistics:\n",
      "Path action probability: [1. 0. 0. 0. 0.]\n",
      "Wavelength action probability: [2.036e-01 1.862e-01 1.658e-01 1.230e-01 9.760e-02 7.640e-02 5.740e-02\n",
      " 4.380e-02 2.560e-02 1.300e-02 5.000e-03 2.400e-03 2.000e-04 0.000e+00\n",
      " 0.000e+00 0.000e+00 0.000e+00 0.000e+00 0.000e+00 0.000e+00 0.000e+00\n",
      " 0.000e+00 0.000e+00 0.000e+00 0.000e+00 0.000e+00 0.000e+00 0.000e+00\n",
      " 0.000e+00 0.000e+00 0.000e+00 0.000e+00 0.000e+00 0.000e+00 0.000e+00\n",
      " 0.000e+00 0.000e+00 0.000e+00 0.000e+00 0.000e+00 0.000e+00 0.000e+00\n",
      " 0.000e+00 0.000e+00 0.000e+00 0.000e+00 0.000e+00 0.000e+00 0.000e+00\n",
      " 0.000e+00 0.000e+00 0.000e+00 0.000e+00 0.000e+00 0.000e+00 0.000e+00\n",
      " 0.000e+00 0.000e+00 0.000e+00 0.000e+00 0.000e+00 0.000e+00 0.000e+00\n",
      " 0.000e+00 0.000e+00 0.000e+00 0.000e+00 0.000e+00 0.000e+00 0.000e+00\n",
      " 0.000e+00 0.000e+00 0.000e+00 0.000e+00 0.000e+00 0.000e+00 0.000e+00\n",
      " 0.000e+00 0.000e+00 0.000e+00 0.000e+00 0.000e+00 0.000e+00 0.000e+00\n",
      " 0.000e+00 0.000e+00 0.000e+00 0.000e+00 0.000e+00 0.000e+00 0.000e+00\n",
      " 0.000e+00 0.000e+00 0.000e+00 0.000e+00 0.000e+00 0.000e+00 0.000e+00\n",
      " 0.000e+00 0.000e+00]\n",
      "Load (Erlangs): 100\n",
      "Service bit rate (Gb/s): 25.0\n",
      "Total number of services: 5000\n",
      "Total number of accepted services: 5000\n",
      "Blocking probability: 0.0\n",
      "Number of services on existing lightpaths: 2527\n",
      "Number of services released: 4901\n",
      "Number of transmitters on each node: [2. 3. 4. 1. 2. 0. 7. 4. 8. 4. 4. 4. 3. 3.]\n",
      "Number of receivers on each node: [1. 5. 4. 1. 3. 1. 4. 3. 5. 4. 4. 7. 1. 6.]\n"
     ]
    }
   ],
   "source": [
    "print_service_stats(env_4)"
   ]
  },
  {
   "cell_type": "code",
   "execution_count": 24,
   "id": "00154135",
   "metadata": {},
   "outputs": [],
   "source": [
    "path_id_util_1 = get_service_utils(env_1)\n",
    "path_id_util_2 = get_service_utils(env_2)\n",
    "path_id_util_3 = get_service_utils(env_3)"
   ]
  },
  {
   "cell_type": "code",
   "execution_count": 25,
   "id": "422ee612",
   "metadata": {},
   "outputs": [
    {
     "data": {
      "image/png": "[encoded data removed]",
      "text/plain": [
       "<Figure size 432x288 with 1 Axes>"
      ]
     },
     "metadata": {
      "needs_background": "light"
     },
     "output_type": "display_data"
    }
   ],
   "source": [
    "x = np.arange(num_paths)\n",
    "plt.plot(x, path_id_util_1)\n",
    "plt.xlabel(\"Path ID\")\n",
    "plt.ylabel(\"Number of services\")\n",
    "#plt.savefig('figures/pathid_services_kspff.pdf', dpi=200,bbox_inches='tight')\n",
    "plt.show()"
   ]
  },
  {
   "cell_type": "code",
   "execution_count": 26,
   "id": "d363698b",
   "metadata": {},
   "outputs": [
    {
     "data": {
      "image/png": "[encoded data removed]",
      "text/plain": [
       "<Figure size 432x288 with 1 Axes>"
      ]
     },
     "metadata": {
      "needs_background": "light"
     },
     "output_type": "display_data"
    }
   ],
   "source": [
    "x = np.arange(num_paths)\n",
    "plt.plot(x, path_id_util_2)\n",
    "plt.xlabel(\"Path ID\")\n",
    "plt.ylabel(\"Number of services\")\n",
    "#plt.savefig('figures/pathid_services_ffksp.pdf', dpi=200,bbox_inches='tight')\n",
    "plt.show()"
   ]
  },
  {
   "cell_type": "code",
   "execution_count": 28,
   "id": "8ea98647",
   "metadata": {},
   "outputs": [
    {
     "data": {
      "image/png": "[encoded data removed]",
      "text/plain": [
       "<Figure size 432x288 with 1 Axes>"
      ]
     },
     "metadata": {
      "needs_background": "light"
     },
     "output_type": "display_data"
    }
   ],
   "source": [
    "x = np.arange(num_paths)\n",
    "plt.plot(x, path_id_util_3)\n",
    "plt.xlabel(\"Path ID\")\n",
    "plt.ylabel(\"Number of services\")\n",
    "#plt.savefig('figures/pathid_services_ffksp.pdf', dpi=200,bbox_inches='tight')\n",
    "plt.show()"
   ]
  },
  {
   "cell_type": "code",
   "execution_count": 27,
   "id": "1e9ec104",
   "metadata": {},
   "outputs": [
    {
     "data": {
      "image/png": "[encoded data removed]",
      "text/plain": [
       "<Figure size 432x288 with 1 Axes>"
      ]
     },
     "metadata": {
      "needs_background": "light"
     },
     "output_type": "display_data"
    }
   ],
   "source": [
    "x = np.arange(num_paths)\n",
    "plt.plot(x, path_id_util_1, 'r+')\n",
    "plt.plot(x, path_id_util_2, 'bx')\n",
    "plt.xlabel(\"Path ID\")\n",
    "plt.ylabel(\"Number of services\")\n",
    "plt.show()"
   ]
  },
  {
   "cell_type": "code",
   "execution_count": 15,
   "id": "10084beb",
   "metadata": {},
   "outputs": [
    {
     "data": {
      "image/png": "[encoded data removed]",
      "text/plain": [
       "<Figure size 432x288 with 1 Axes>"
      ]
     },
     "metadata": {
      "needs_background": "light"
     },
     "output_type": "display_data"
    }
   ],
   "source": [
    "x = np.arange(num_paths)\n",
    "plt.plot(x, abs(np.array(path_id_util_1) - np.array(path_id_util_2)))\n",
    "plt.xlabel(\"Path ID\")\n",
    "plt.ylabel(\"Number of services\")\n",
    "#plt.savefig('figures/pathid_services_ffksp.pdf', dpi=200,bbox_inches='tight')\n",
    "plt.show()"
   ]
  },
  {
   "cell_type": "code",
   "execution_count": 58,
   "id": "ab013f44",
   "metadata": {},
   "outputs": [
    {
     "data": {
      "text/plain": [
       "array([0, 0, 0, 0, 0, 0, 0, 0, 0, 0, 0, 0])"
      ]
     },
     "execution_count": 58,
     "metadata": {},
     "output_type": "execute_result"
    }
   ],
   "source": [
    "(np.array(path_id_util_1) - np.array(path_id_util_2))"
   ]
  },
  {
   "cell_type": "code",
   "execution_count": 59,
   "id": "3d094d71",
   "metadata": {},
   "outputs": [
    {
     "data": {
      "text/plain": [
       "array([494,   0, 525,   0, 579,   0, 544,   0, 533,   0, 525,   0])"
      ]
     },
     "execution_count": 59,
     "metadata": {},
     "output_type": "execute_result"
    }
   ],
   "source": [
    "np.array(path_id_util_1)"
   ]
  },
  {
   "cell_type": "code",
   "execution_count": 60,
   "id": "a4cbe4a8",
   "metadata": {},
   "outputs": [
    {
     "data": {
      "text/plain": [
       "array([494,   0, 525,   0, 579,   0, 544,   0, 533,   0, 525,   0])"
      ]
     },
     "execution_count": 60,
     "metadata": {},
     "output_type": "execute_result"
    }
   ],
   "source": [
    "np.array(path_id_util_2)"
   ]
  },
  {
   "cell_type": "markdown",
   "id": "b33b3109",
   "metadata": {},
   "source": [
    "Look at ksp ordering:"
   ]
  },
  {
   "cell_type": "code",
   "execution_count": 41,
   "id": "f336aa15",
   "metadata": {},
   "outputs": [
    {
     "data": {
      "text/plain": [
       "'3'"
      ]
     },
     "execution_count": 41,
     "metadata": {},
     "output_type": "execute_result"
    }
   ],
   "source": [
    "env_1.service.source"
   ]
  },
  {
   "cell_type": "code",
   "execution_count": 49,
   "id": "aa0aa33d",
   "metadata": {},
   "outputs": [
    {
     "data": {
      "text/plain": [
       "2"
      ]
     },
     "execution_count": 49,
     "metadata": {},
     "output_type": "execute_result"
    }
   ],
   "source": [
    "paths_test = env_1.topology.graph['ksp']['2','3']\n",
    "len(paths_test)"
   ]
  },
  {
   "cell_type": "code",
   "execution_count": 50,
   "id": "c09a7bb3",
   "metadata": {},
   "outputs": [
    {
     "data": {
      "text/plain": [
       "1800"
      ]
     },
     "execution_count": 50,
     "metadata": {},
     "output_type": "execute_result"
    }
   ],
   "source": [
    "paths_test[0].length"
   ]
  },
  {
   "cell_type": "code",
   "execution_count": 51,
   "id": "159f68a2",
   "metadata": {},
   "outputs": [
    {
     "data": {
      "text/plain": [
       "2500"
      ]
     },
     "execution_count": 51,
     "metadata": {},
     "output_type": "execute_result"
    }
   ],
   "source": [
    "paths_test[1].length"
   ]
  },
  {
   "cell_type": "code",
   "execution_count": 21,
   "id": "6e08be27",
   "metadata": {},
   "outputs": [
    {
     "ename": "IndexError",
     "evalue": "list index out of range",
     "output_type": "error",
     "traceback": [
      "\u001b[0;31m---------------------------------------------------------------------------\u001b[0m",
      "\u001b[0;31mIndexError\u001b[0m                                Traceback (most recent call last)",
      "\u001b[0;32m/var/folders/yy/jh80d4jd7mq917bdprz9ftlw0000gn/T/ipykernel_29926/3883933896.py\u001b[0m in \u001b[0;36m<module>\u001b[0;34m\u001b[0m\n\u001b[0;32m----> 1\u001b[0;31m \u001b[0mpaths_test\u001b[0m\u001b[0;34m[\u001b[0m\u001b[0;36m2\u001b[0m\u001b[0;34m]\u001b[0m\u001b[0;34m.\u001b[0m\u001b[0mlength\u001b[0m\u001b[0;34m\u001b[0m\u001b[0;34m\u001b[0m\u001b[0m\n\u001b[0m",
      "\u001b[0;31mIndexError\u001b[0m: list index out of range"
     ]
    }
   ],
   "source": [
    "paths_test[2].length"
   ]
  },
  {
   "cell_type": "code",
   "execution_count": null,
   "id": "39e3cc1a",
   "metadata": {},
   "outputs": [],
   "source": []
  },
  {
   "cell_type": "code",
   "execution_count": 48,
   "id": "a04f9a5d",
   "metadata": {},
   "outputs": [
    {
     "data": {
      "text/plain": [
       "1950"
      ]
     },
     "execution_count": 48,
     "metadata": {},
     "output_type": "execute_result"
    }
   ],
   "source": [
    "paths_test[3].length"
   ]
  },
  {
   "cell_type": "code",
   "execution_count": 49,
   "id": "b835dab7",
   "metadata": {},
   "outputs": [
    {
     "data": {
      "text/plain": [
       "1800"
      ]
     },
     "execution_count": 49,
     "metadata": {},
     "output_type": "execute_result"
    }
   ],
   "source": [
    "paths_test[4].length"
   ]
  },
  {
   "cell_type": "code",
   "execution_count": null,
   "id": "77d7e615",
   "metadata": {},
   "outputs": [],
   "source": []
  }
 ],
 "metadata": {
  "kernelspec": {
   "display_name": "Python 3 (ipykernel)",
   "language": "python",
   "name": "python3"
  },
  "language_info": {
   "codemirror_mode": {
    "name": "ipython",
    "version": 3
   },
   "file_extension": ".py",
   "mimetype": "text/x-python",
   "name": "python",
   "nbconvert_exporter": "python",
   "pygments_lexer": "ipython3",
   "version": "3.7.12"
  }
 },
 "nbformat": 4,
 "nbformat_minor": 5
}
