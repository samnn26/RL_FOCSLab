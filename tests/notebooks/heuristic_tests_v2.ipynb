{
 "cells": [
  {
   "cell_type": "code",
   "execution_count": 1,
   "id": "ba41ff64",
   "metadata": {},
   "outputs": [
    {
     "name": "stderr",
     "output_type": "stream",
     "text": [
      "/Users/joshnevin/.pyenv/versions/3.7.12/envs/rlenv37/lib/python3.7/site-packages/ale_py/roms/utils.py:90: DeprecationWarning: SelectableGroups dict interface is deprecated. Use select.\n",
      "  for external in metadata.entry_points().get(self.group, []):\n"
     ]
    }
   ],
   "source": [
    "import os\n",
    "import pickle\n",
    "import numpy as np\n",
    "from IPython.display import clear_output\n",
    "import matplotlib\n",
    "import matplotlib.pyplot as plt\n",
    "import gym\n",
    "from optical_rl_gym.utils import evaluate_heuristic\n",
    "# from optical_rl_gym.envs.rwa_env_focs_v2 import kSP_FF, FF_kSP, kSP_MU, CA_MU\n",
    "from optical_rl_gym.heuristics import kSP_FF, FF_kSP, kSP_MU, CA_MU"
   ]
  },
  {
   "cell_type": "code",
   "execution_count": 3,
   "id": "9d9115ff",
   "metadata": {},
   "outputs": [],
   "source": [
    "def print_service_stats(env):\n",
    "    print(\"Whole training process statistics:\")\n",
    "    rnd_path_action_probability = np.sum(env.actions_output, axis=1) / np.sum(env.actions_output)\n",
    "    rnd_wavelength_action_probability = np.sum(env.actions_output, axis=0) / np.sum(env.actions_output)\n",
    "    print('Path action probability:', np.sum(env.actions_output, axis=1) / np.sum(env.actions_output))\n",
    "    print('Wavelength action probability:', np.sum(env.actions_output, axis=0) / np.sum(env.actions_output))\n",
    "    num_lps_reused = env.num_lightpaths_reused\n",
    "    print('Load (Erlangs):', load)\n",
    "    print('Service bit rate (Gb/s):', env.service.bit_rate/1e9)\n",
    "    print('Total number of services:', env.services_processed)\n",
    "    print('Total number of accepted services:', env.services_accepted)\n",
    "    print('Blocking probability:', 1 - env.services_accepted/env.services_processed)\n",
    "    print('Number of services on existing lightpaths:', num_lps_reused)\n",
    "    print('Number of services released:', env.num_lightpaths_released)\n",
    "    print('Number of transmitters on each node:', env.num_transmitters)\n",
    "    print('Number of receivers on each node:', env.num_receivers)\n",
    "    print('Final throughput (TB/s):', env.get_throughput()/1e12)\n",
    "def get_service_utils(env):\n",
    "    path_id_util = []\n",
    "    num_paths = env.topology.number_of_nodes() * (env.topology.number_of_nodes() - 1) * env.k_paths\n",
    "    for id in range(num_paths):\n",
    "        path_id_util.append(np.sum(env.lightpath_service_allocation[id,:]))\n",
    "    return path_id_util, num_paths"
   ]
  },
  {
   "cell_type": "code",
   "execution_count": 4,
   "id": "97946a07",
   "metadata": {},
   "outputs": [],
   "source": [
    "# with open('/Users/joshnevin/RL_FOCSLab/topologies/3_node_network_sym.h5', 'rb') as f:\n",
    "#     topology = pickle.load(f)\n",
    "# node_request_probabilities = np.array([0.333333,0.333333,0.333333])"
   ]
  },
  {
   "cell_type": "code",
   "execution_count": 5,
   "id": "f73b42c8",
   "metadata": {},
   "outputs": [],
   "source": [
    "with open('/Users/joshnevin/RL_FOCSLab/topologies/nsfnet_chen_5-paths_directional.h5', 'rb') as f:\n",
    "    topology = pickle.load(f)\n",
    "# node probabilities from https://github.com/xiaoliangchenUCD/DeepRMSA/blob/6708e9a023df1ec05bfdc77804b6829e33cacfe4/Deep_RMSA_A3C.py#L77\n",
    "node_request_probabilities = np.array([0.01801802, 0.04004004, 0.05305305, 0.01901902, 0.04504505,\n",
    "       0.02402402, 0.06706707, 0.08908909, 0.13813814, 0.12212212,\n",
    "       0.07607608, 0.12012012, 0.01901902, 0.16916917])"
   ]
  },
  {
   "cell_type": "code",
   "execution_count": 6,
   "id": "d9f204c9",
   "metadata": {},
   "outputs": [],
   "source": [
    "load = int(1e10)\n",
    "env_args = dict(topology=topology, seed=3, load = load,\n",
    "                allow_rejection=False, # the agent cannot proactively reject a request\n",
    "                mean_service_holding_time=1e8,\n",
    "                episode_length=3000, node_request_probabilities=node_request_probabilities, exp_request_res = 25e9,\n",
    "               exp_request_lambda = 1)\n",
    "env_1 = gym.make('RWAFOCS-v2', **env_args)\n",
    "env_2 = gym.make('RWAFOCS-v2', **env_args)\n",
    "env_3 = gym.make('RWAFOCS-v2', **env_args)\n",
    "env_4 = gym.make('RWAFOCS-v2', **env_args)"
   ]
  },
  {
   "cell_type": "code",
   "execution_count": 7,
   "id": "a4c4b0a6",
   "metadata": {},
   "outputs": [
    {
     "name": "stdout",
     "output_type": "stream",
     "text": [
      "mean reward: 1436.0\n",
      "Std reward: 0.0\n"
     ]
    }
   ],
   "source": [
    "heuristic = kSP_FF\n",
    "mean_reward, std_reward = evaluate_heuristic(env_1, heuristic, n_eval_episodes=1,\n",
    "                       render=False, callback=None, reward_threshold=None,\n",
    "                       return_episode_rewards=False)\n",
    "print(\"mean reward:\", mean_reward)\n",
    "print(\"Std reward:\", std_reward)"
   ]
  },
  {
   "cell_type": "code",
   "execution_count": 8,
   "id": "190e30d4",
   "metadata": {},
   "outputs": [
    {
     "name": "stdout",
     "output_type": "stream",
     "text": [
      "mean reward: 1438.0\n",
      "Std reward: 0.0\n"
     ]
    }
   ],
   "source": [
    "heuristic = FF_kSP\n",
    "mean_reward, std_reward = evaluate_heuristic(env_2, heuristic, n_eval_episodes=1,\n",
    "                       render=False, callback=None, reward_threshold=None,\n",
    "                       return_episode_rewards=False)\n",
    "print(\"mean reward:\", mean_reward)\n",
    "print(\"Std reward:\", std_reward)"
   ]
  },
  {
   "cell_type": "code",
   "execution_count": 9,
   "id": "adb0b3c3",
   "metadata": {},
   "outputs": [
    {
     "name": "stdout",
     "output_type": "stream",
     "text": [
      "mean reward: 1439.0\n",
      "Std reward: 0.0\n"
     ]
    }
   ],
   "source": [
    "heuristic = CA_MU\n",
    "mean_reward, std_reward = evaluate_heuristic(env_3, heuristic, n_eval_episodes=1,\n",
    "                       render=False, callback=None, reward_threshold=None,\n",
    "                       return_episode_rewards=False)\n",
    "print(\"mean reward:\", mean_reward)\n",
    "print(\"Std reward:\", std_reward)"
   ]
  },
  {
   "cell_type": "code",
   "execution_count": 10,
   "id": "9e08d1e6",
   "metadata": {},
   "outputs": [
    {
     "name": "stdout",
     "output_type": "stream",
     "text": [
      "mean reward: 1438.0\n",
      "Std reward: 0.0\n"
     ]
    }
   ],
   "source": [
    "heuristic = kSP_MU\n",
    "mean_reward, std_reward = evaluate_heuristic(env_4, heuristic, n_eval_episodes=1,\n",
    "                       render=False, callback=None, reward_threshold=None,\n",
    "                       return_episode_rewards=False)\n",
    "print(\"mean reward:\", mean_reward)\n",
    "print(\"Std reward:\", std_reward)"
   ]
  },
  {
   "cell_type": "markdown",
   "id": "8b2d9970",
   "metadata": {},
   "source": [
    "kSP-FF:"
   ]
  },
  {
   "cell_type": "code",
   "execution_count": 11,
   "id": "2d843184",
   "metadata": {},
   "outputs": [
    {
     "name": "stdout",
     "output_type": "stream",
     "text": [
      "Whole training process statistics:\n",
      "Path action probability: [0.62256267 0.21448468 0.08147632 0.04178273 0.03969359]\n",
      "Wavelength action probability: [0.01044568 0.01183844 0.01253482 0.01044568 0.01114206 0.0097493\n",
      " 0.0097493  0.01044568 0.0132312  0.0097493  0.01183844 0.01044568\n",
      " 0.00905292 0.01044568 0.01253482 0.01114206 0.0097493  0.01114206\n",
      " 0.00905292 0.01044568 0.0097493  0.00905292 0.0097493  0.01044568\n",
      " 0.00905292 0.0097493  0.0097493  0.00766017 0.00905292 0.00905292\n",
      " 0.01183844 0.00766017 0.01044568 0.01114206 0.01253482 0.01253482\n",
      " 0.0097493  0.00905292 0.01114206 0.01044568 0.0097493  0.00905292\n",
      " 0.01044568 0.00905292 0.01044568 0.00696379 0.00905292 0.01114206\n",
      " 0.00835655 0.00905292 0.00905292 0.00905292 0.00905292 0.01044568\n",
      " 0.00766017 0.0097493  0.00905292 0.01114206 0.01044568 0.01044568\n",
      " 0.00905292 0.01044568 0.0097493  0.01114206 0.00905292 0.01044568\n",
      " 0.00905292 0.01044568 0.0097493  0.00835655 0.01044568 0.01114206\n",
      " 0.00835655 0.00766017 0.01044568 0.01044568 0.01044568 0.01114206\n",
      " 0.00766017 0.0097493  0.01044568 0.01114206 0.00696379 0.01183844\n",
      " 0.01044568 0.0097493  0.00696379 0.01044568 0.01114206 0.01044568\n",
      " 0.00835655 0.01183844 0.0097493  0.0097493  0.00905292 0.01114206\n",
      " 0.01253482 0.00766017 0.01044568 0.01044568]\n",
      "Load (Erlangs): 10000000000\n",
      "Service bit rate (Gb/s): 25.0\n",
      "Total number of services: 3000\n",
      "Total number of accepted services: 1436\n",
      "Blocking probability: 0.5213333333333333\n",
      "Number of services on existing lightpaths: 451\n",
      "Number of services released: 0\n",
      "Number of transmitters on each node: [ 26.  43.  68.  24.  57.  37.  81.  84. 119. 113.  64. 109.  24. 136.]\n",
      "Number of receivers on each node: [ 24.  53.  69.  35.  47.  34.  75.  78. 120. 110.  70.  94.  23. 153.]\n",
      "Final throughput (TB/s): 57.5\n"
     ]
    }
   ],
   "source": [
    "print_service_stats(env_1)"
   ]
  },
  {
   "cell_type": "markdown",
   "id": "ee5c31da",
   "metadata": {},
   "source": [
    "FF-kSP:"
   ]
  },
  {
   "cell_type": "code",
   "execution_count": 12,
   "id": "d20b3faf",
   "metadata": {},
   "outputs": [
    {
     "name": "stdout",
     "output_type": "stream",
     "text": [
      "Whole training process statistics:\n",
      "Path action probability: [0.53129346 0.21696801 0.13143255 0.06815021 0.05215577]\n",
      "Wavelength action probability: [0.01182197 0.01112656 0.01182197 0.00973574 0.01182197 0.00973574\n",
      " 0.01112656 0.00973574 0.01251739 0.00973574 0.01182197 0.01043115\n",
      " 0.00834492 0.01251739 0.01112656 0.00904033 0.01182197 0.01112656\n",
      " 0.01043115 0.00834492 0.01043115 0.01043115 0.01043115 0.00834492\n",
      " 0.00834492 0.01112656 0.01043115 0.01043115 0.00764951 0.00904033\n",
      " 0.00973574 0.00834492 0.01043115 0.01112656 0.01043115 0.01251739\n",
      " 0.01112656 0.00973574 0.00973574 0.00764951 0.00834492 0.01043115\n",
      " 0.01182197 0.01043115 0.00834492 0.00904033 0.01112656 0.00764951\n",
      " 0.00764951 0.01043115 0.00764951 0.01112656 0.01112656 0.00973574\n",
      " 0.00764951 0.01043115 0.00764951 0.01182197 0.01043115 0.01182197\n",
      " 0.00973574 0.01112656 0.00834492 0.00834492 0.00904033 0.00834492\n",
      " 0.01112656 0.01112656 0.00904033 0.01112656 0.01043115 0.00973574\n",
      " 0.00904033 0.00904033 0.01112656 0.0069541  0.00973574 0.01112656\n",
      " 0.01182197 0.00904033 0.00834492 0.01043115 0.00834492 0.00904033\n",
      " 0.00834492 0.00973574 0.01043115 0.00973574 0.00904033 0.00973574\n",
      " 0.01251739 0.00904033 0.00904033 0.01182197 0.01043115 0.00973574\n",
      " 0.00973574 0.00834492 0.01182197 0.01251739]\n",
      "Load (Erlangs): 10000000000\n",
      "Service bit rate (Gb/s): 25.0\n",
      "Total number of services: 3000\n",
      "Total number of accepted services: 1438\n",
      "Blocking probability: 0.5206666666666666\n",
      "Number of services on existing lightpaths: 286\n",
      "Number of services released: 0\n",
      "Number of transmitters on each node: [ 28.  45.  65.  24.  61.  35.  96. 117. 145. 136.  79. 136.  23. 162.]\n",
      "Number of receivers on each node: [ 27.  55.  71.  36.  59.  34.  90. 112. 142. 126.  86. 115.  28. 171.]\n",
      "Final throughput (TB/s): 57.5\n"
     ]
    }
   ],
   "source": [
    "print_service_stats(env_2)"
   ]
  },
  {
   "cell_type": "markdown",
   "id": "f72e446a",
   "metadata": {},
   "source": [
    "CA-MU:"
   ]
  },
  {
   "cell_type": "code",
   "execution_count": 13,
   "id": "92ca9b43",
   "metadata": {},
   "outputs": [
    {
     "name": "stdout",
     "output_type": "stream",
     "text": [
      "Whole training process statistics:\n",
      "Path action probability: [0.91104934 0.04239055 0.01389854 0.01320361 0.01945796]\n",
      "Wavelength action probability: [0.01320361 0.01042391 0.01111883 0.01181376 0.00972898 0.01250869\n",
      " 0.01042391 0.01111883 0.00972898 0.00903405 0.01250869 0.01181376\n",
      " 0.01042391 0.00903405 0.01181376 0.00972898 0.01042391 0.01042391\n",
      " 0.01042391 0.00903405 0.01042391 0.00972898 0.01250869 0.00903405\n",
      " 0.01042391 0.00972898 0.00972898 0.00833912 0.01111883 0.01042391\n",
      " 0.00833912 0.00694927 0.00903405 0.01042391 0.01042391 0.01042391\n",
      " 0.00972898 0.01042391 0.01111883 0.00972898 0.00833912 0.00972898\n",
      " 0.01042391 0.01042391 0.00833912 0.01181376 0.01111883 0.00625434\n",
      " 0.0076442  0.00903405 0.00972898 0.01250869 0.00903405 0.01042391\n",
      " 0.00833912 0.00903405 0.00903405 0.01111883 0.01042391 0.01042391\n",
      " 0.01042391 0.01320361 0.00833912 0.00903405 0.00903405 0.00903405\n",
      " 0.0076442  0.01111883 0.00972898 0.01042391 0.00972898 0.00903405\n",
      " 0.01111883 0.01042391 0.00903405 0.00972898 0.01181376 0.00972898\n",
      " 0.0076442  0.0076442  0.00903405 0.01250869 0.0076442  0.00903405\n",
      " 0.01111883 0.0076442  0.00972898 0.01042391 0.00833912 0.00972898\n",
      " 0.01111883 0.00972898 0.01111883 0.00972898 0.00972898 0.01111883\n",
      " 0.00903405 0.01320361 0.00972898 0.01042391]\n",
      "Load (Erlangs): 10000000000\n",
      "Service bit rate (Gb/s): 25.0\n",
      "Total number of services: 3000\n",
      "Total number of accepted services: 1439\n",
      "Blocking probability: 0.5203333333333333\n",
      "Number of services on existing lightpaths: 404\n",
      "Number of services released: 0\n",
      "Number of transmitters on each node: [ 28.  44.  62.  23.  59.  35.  86. 102. 129. 121.  71. 111.  24. 140.]\n",
      "Number of receivers on each node: [ 28.  55.  68.  35.  54.  32.  85.  99. 116. 117.  77. 101.  24. 144.]\n",
      "Final throughput (TB/s): 57.5\n"
     ]
    }
   ],
   "source": [
    "print_service_stats(env_3)"
   ]
  },
  {
   "cell_type": "markdown",
   "id": "61dfe31f",
   "metadata": {},
   "source": [
    "kSP-MU:"
   ]
  },
  {
   "cell_type": "code",
   "execution_count": 14,
   "id": "7b689692",
   "metadata": {},
   "outputs": [
    {
     "name": "stdout",
     "output_type": "stream",
     "text": [
      "Whole training process statistics:\n",
      "Path action probability: [0.96453408 0.02642559 0.00347705 0.00347705 0.00208623]\n",
      "Wavelength action probability: [0.01251739 0.00973574 0.01251739 0.00973574 0.01043115 0.01182197\n",
      " 0.01043115 0.01043115 0.01043115 0.01182197 0.01112656 0.01112656\n",
      " 0.01112656 0.00973574 0.00973574 0.01182197 0.01182197 0.00764951\n",
      " 0.01112656 0.01043115 0.00834492 0.01112656 0.00973574 0.00973574\n",
      " 0.01182197 0.00904033 0.00973574 0.00834492 0.00904033 0.00764951\n",
      " 0.01043115 0.01043115 0.01043115 0.01043115 0.01043115 0.00834492\n",
      " 0.01112656 0.01043115 0.01182197 0.00904033 0.00973574 0.00764951\n",
      " 0.00904033 0.01112656 0.01043115 0.00973574 0.00904033 0.00834492\n",
      " 0.00764951 0.01043115 0.01043115 0.00904033 0.01043115 0.00973574\n",
      " 0.00764951 0.01043115 0.00973574 0.00973574 0.01043115 0.00904033\n",
      " 0.01112656 0.01112656 0.00973574 0.00834492 0.01112656 0.00904033\n",
      " 0.00834492 0.01112656 0.01182197 0.00973574 0.00973574 0.00764951\n",
      " 0.00973574 0.00904033 0.01043115 0.01043115 0.00904033 0.01112656\n",
      " 0.00904033 0.00973574 0.0132128  0.00764951 0.01043115 0.00904033\n",
      " 0.0069541  0.00834492 0.01182197 0.00834492 0.01182197 0.00904033\n",
      " 0.00973574 0.01043115 0.00764951 0.01251739 0.01043115 0.01043115\n",
      " 0.00973574 0.00973574 0.01251739 0.00973574]\n",
      "Load (Erlangs): 10000000000\n",
      "Service bit rate (Gb/s): 25.0\n",
      "Total number of services: 3000\n",
      "Total number of accepted services: 1438\n",
      "Blocking probability: 0.5206666666666666\n",
      "Number of services on existing lightpaths: 416\n",
      "Number of services released: 0\n",
      "Number of transmitters on each node: [ 28.  42.  62.  24.  57.  34.  89. 102. 113. 123.  69. 114.  24. 141.]\n",
      "Number of receivers on each node: [ 27.  51.  67.  35.  57.  31.  81.  97. 124. 116.  75.  93.  25. 143.]\n",
      "Final throughput (TB/s): 57.5\n"
     ]
    }
   ],
   "source": [
    "print_service_stats(env_4)"
   ]
  },
  {
   "cell_type": "code",
   "execution_count": 15,
   "id": "a597a2d3",
   "metadata": {},
   "outputs": [],
   "source": [
    "path_id_util_1, num_paths = get_service_utils(env_1)\n",
    "path_id_util_2, _ = get_service_utils(env_2)\n",
    "path_id_util_3, _ = get_service_utils(env_3)\n",
    "path_id_util_4, _ = get_service_utils(env_4)"
   ]
  },
  {
   "cell_type": "code",
   "execution_count": 16,
   "id": "f1da108f",
   "metadata": {},
   "outputs": [
    {
     "data": {
      "text/plain": [
       "1436"
      ]
     },
     "execution_count": 16,
     "metadata": {},
     "output_type": "execute_result"
    }
   ],
   "source": [
    "sum(path_id_util_1)"
   ]
  },
  {
   "cell_type": "code",
   "execution_count": 17,
   "id": "f340fdd0",
   "metadata": {},
   "outputs": [
    {
     "data": {
      "text/plain": [
       "1438"
      ]
     },
     "execution_count": 17,
     "metadata": {},
     "output_type": "execute_result"
    }
   ],
   "source": [
    "sum(path_id_util_2)"
   ]
  },
  {
   "cell_type": "code",
   "execution_count": 18,
   "id": "5459b15d",
   "metadata": {},
   "outputs": [
    {
     "data": {
      "text/plain": [
       "1439"
      ]
     },
     "execution_count": 18,
     "metadata": {},
     "output_type": "execute_result"
    }
   ],
   "source": [
    "sum(path_id_util_3)"
   ]
  },
  {
   "cell_type": "code",
   "execution_count": 19,
   "id": "8f6f7b75",
   "metadata": {},
   "outputs": [
    {
     "data": {
      "text/plain": [
       "1438"
      ]
     },
     "execution_count": 19,
     "metadata": {},
     "output_type": "execute_result"
    }
   ],
   "source": [
    "sum(path_id_util_4)"
   ]
  },
  {
   "cell_type": "markdown",
   "id": "54838c5e",
   "metadata": {},
   "source": [
    "Verify that throughput is the same, despite the number of allocated requests being different!"
   ]
  },
  {
   "cell_type": "code",
   "execution_count": 20,
   "id": "b48029a4",
   "metadata": {},
   "outputs": [],
   "source": [
    "req_comp = np.array([env_1.cumulative_throughput[i] - env_2.cumulative_throughput[i] for i in range(len(env_1.cumulative_throughput))])"
   ]
  },
  {
   "cell_type": "code",
   "execution_count": 21,
   "id": "0575e092",
   "metadata": {},
   "outputs": [
    {
     "data": {
      "text/plain": [
       "4"
      ]
     },
     "execution_count": 21,
     "metadata": {},
     "output_type": "execute_result"
    }
   ],
   "source": [
    "np.count_nonzero(req_comp)"
   ]
  },
  {
   "cell_type": "code",
   "execution_count": 22,
   "id": "076bb63d",
   "metadata": {},
   "outputs": [
    {
     "name": "stdout",
     "output_type": "stream",
     "text": [
      "25000000000.0\n",
      "0.0\n",
      "0.0\n",
      "25000000000.0\n",
      "0.0\n",
      "-25000000000.0\n",
      "25000000000.0\n"
     ]
    }
   ],
   "source": [
    "print(req_comp[-1])\n",
    "print(req_comp[-2])\n",
    "print(req_comp[-3])\n",
    "print(req_comp[-4])\n",
    "print(req_comp[-5])\n",
    "print(req_comp[-6])\n",
    "print(req_comp[-7])"
   ]
  },
  {
   "cell_type": "code",
   "execution_count": 23,
   "id": "5e76638b",
   "metadata": {},
   "outputs": [
    {
     "name": "stdout",
     "output_type": "stream",
     "text": [
      "25000000000.0\n",
      "25000000000.0\n"
     ]
    }
   ],
   "source": [
    "print(env_2.cumulative_throughput[-1])\n",
    "print(env_2.cumulative_throughput[-2])"
   ]
  },
  {
   "cell_type": "code",
   "execution_count": null,
   "id": "ff6c7cd9",
   "metadata": {},
   "outputs": [],
   "source": [
    "plt.plot(env_1.cumulative_throughput, '+')\n",
    "plt.show()"
   ]
  },
  {
   "cell_type": "code",
   "execution_count": null,
   "id": "6ede7e48",
   "metadata": {},
   "outputs": [],
   "source": [
    "plt.plot(env_2.cumulative_throughput, '+')\n",
    "plt.show()"
   ]
  },
  {
   "cell_type": "code",
   "execution_count": null,
   "id": "b93d0ee3",
   "metadata": {},
   "outputs": [],
   "source": [
    "plt.plot(req_comp)\n",
    "plt.show()"
   ]
  },
  {
   "cell_type": "code",
   "execution_count": null,
   "id": "a3469afe",
   "metadata": {},
   "outputs": [],
   "source": [
    "np.sum(env_2.active_bitrates)"
   ]
  },
  {
   "cell_type": "code",
   "execution_count": null,
   "id": "3e0debc9",
   "metadata": {},
   "outputs": [],
   "source": [
    "env_2.cumulative_throughput"
   ]
  },
  {
   "cell_type": "code",
   "execution_count": 24,
   "id": "1c559d7f",
   "metadata": {},
   "outputs": [
    {
     "data": {
      "image/png": "[encoded data removed]",
      "text/plain": [
       "<Figure size 432x288 with 1 Axes>"
      ]
     },
     "metadata": {
      "needs_background": "light"
     },
     "output_type": "display_data"
    }
   ],
   "source": [
    "x = np.arange(num_paths)\n",
    "plt.plot(x, path_id_util_1)\n",
    "plt.xlabel(\"Path ID\")\n",
    "plt.ylabel(\"Number of services\")\n",
    "#plt.savefig('figures/pathid_services_kspff.pdf', dpi=200,bbox_inches='tight')\n",
    "plt.show()"
   ]
  },
  {
   "cell_type": "code",
   "execution_count": 25,
   "id": "c344cb50",
   "metadata": {},
   "outputs": [
    {
     "data": {
      "image/png": "[encoded data removed]",
      "text/plain": [
       "<Figure size 432x288 with 1 Axes>"
      ]
     },
     "metadata": {
      "needs_background": "light"
     },
     "output_type": "display_data"
    }
   ],
   "source": [
    "x = np.arange(num_paths)\n",
    "plt.plot(x, path_id_util_2)\n",
    "plt.xlabel(\"Path ID\")\n",
    "plt.ylabel(\"Number of services\")\n",
    "#plt.savefig('figures/pathid_services_ffksp.pdf', dpi=200,bbox_inches='tight')\n",
    "plt.show()"
   ]
  },
  {
   "cell_type": "code",
   "execution_count": 26,
   "id": "29268011",
   "metadata": {},
   "outputs": [
    {
     "data": {
      "image/png": "[encoded data removed]",
      "text/plain": [
       "<Figure size 432x288 with 1 Axes>"
      ]
     },
     "metadata": {
      "needs_background": "light"
     },
     "output_type": "display_data"
    }
   ],
   "source": [
    "x = np.arange(num_paths)\n",
    "plt.plot(x, path_id_util_3)\n",
    "plt.xlabel(\"Path ID\")\n",
    "plt.ylabel(\"Number of services\")\n",
    "#plt.savefig('figures/pathid_services_ffksp.pdf', dpi=200,bbox_inches='tight')\n",
    "plt.show()"
   ]
  },
  {
   "cell_type": "code",
   "execution_count": 28,
   "id": "6c345c53",
   "metadata": {},
   "outputs": [
    {
     "data": {
      "image/png": "[encoded data removed]",
      "text/plain": [
       "<Figure size 432x288 with 1 Axes>"
      ]
     },
     "metadata": {
      "needs_background": "light"
     },
     "output_type": "display_data"
    }
   ],
   "source": [
    "x = np.arange(num_paths)\n",
    "plt.plot(x, path_id_util_4)\n",
    "plt.xlabel(\"Path ID\")\n",
    "plt.ylabel(\"Number of services\")\n",
    "#plt.savefig('figures/pathid_services_ffksp.pdf', dpi=200,bbox_inches='tight')\n",
    "plt.show()"
   ]
  },
  {
   "cell_type": "code",
   "execution_count": 27,
   "id": "c6a89157",
   "metadata": {},
   "outputs": [
    {
     "data": {
      "image/png": "[encoded data removed]",
      "text/plain": [
       "<Figure size 432x288 with 1 Axes>"
      ]
     },
     "metadata": {
      "needs_background": "light"
     },
     "output_type": "display_data"
    }
   ],
   "source": [
    "x = np.arange(num_paths)\n",
    "plt.plot(x, path_id_util_1, 'r+')\n",
    "plt.plot(x, path_id_util_2, 'bx')\n",
    "plt.xlabel(\"Path ID\")\n",
    "plt.ylabel(\"Number of services\")\n",
    "plt.show()"
   ]
  },
  {
   "cell_type": "code",
   "execution_count": null,
   "id": "60adb7f4",
   "metadata": {},
   "outputs": [],
   "source": [
    "x = np.arange(num_paths)\n",
    "plt.plot(x, abs(np.array(path_id_util_1) - np.array(path_id_util_2)))\n",
    "plt.xlabel(\"Path ID\")\n",
    "plt.ylabel(\"Number of services\")\n",
    "#plt.savefig('figures/pathid_services_ffksp.pdf', dpi=200,bbox_inches='tight')\n",
    "plt.show()"
   ]
  },
  {
   "cell_type": "code",
   "execution_count": null,
   "id": "f6a0302c",
   "metadata": {},
   "outputs": [],
   "source": [
    "(np.array(path_id_util_1) - np.array(path_id_util_2))"
   ]
  },
  {
   "cell_type": "code",
   "execution_count": null,
   "id": "83166ee2",
   "metadata": {},
   "outputs": [],
   "source": [
    "np.array(path_id_util_1)"
   ]
  },
  {
   "cell_type": "code",
   "execution_count": null,
   "id": "c21a6c05",
   "metadata": {},
   "outputs": [],
   "source": [
    "np.array(path_id_util_2)"
   ]
  },
  {
   "cell_type": "markdown",
   "id": "a8c14fd2",
   "metadata": {},
   "source": [
    "Look at ksp ordering:"
   ]
  },
  {
   "cell_type": "code",
   "execution_count": null,
   "id": "e98c7607",
   "metadata": {},
   "outputs": [],
   "source": [
    "env_1.service.source"
   ]
  },
  {
   "cell_type": "code",
   "execution_count": null,
   "id": "cf67eb35",
   "metadata": {},
   "outputs": [],
   "source": [
    "paths_test = env_1.topology.graph['ksp']['2','3']\n",
    "len(paths_test)"
   ]
  },
  {
   "cell_type": "code",
   "execution_count": null,
   "id": "7bf94b58",
   "metadata": {},
   "outputs": [],
   "source": [
    "paths_test[0].length"
   ]
  },
  {
   "cell_type": "code",
   "execution_count": null,
   "id": "38c52bc8",
   "metadata": {},
   "outputs": [],
   "source": [
    "paths_test[1].length"
   ]
  },
  {
   "cell_type": "code",
   "execution_count": null,
   "id": "2d5ed228",
   "metadata": {},
   "outputs": [],
   "source": [
    "paths_test[2].length"
   ]
  },
  {
   "cell_type": "code",
   "execution_count": null,
   "id": "93d75f2a",
   "metadata": {},
   "outputs": [],
   "source": []
  },
  {
   "cell_type": "code",
   "execution_count": null,
   "id": "7bb1af14",
   "metadata": {},
   "outputs": [],
   "source": [
    "paths_test[3].length"
   ]
  },
  {
   "cell_type": "code",
   "execution_count": null,
   "id": "fb607e23",
   "metadata": {},
   "outputs": [],
   "source": [
    "paths_test[4].length"
   ]
  },
  {
   "cell_type": "code",
   "execution_count": null,
   "id": "3f2b70a7",
   "metadata": {},
   "outputs": [],
   "source": []
  }
 ],
 "metadata": {
  "kernelspec": {
   "display_name": "Python 3 (ipykernel)",
   "language": "python",
   "name": "python3"
  },
  "language_info": {
   "codemirror_mode": {
    "name": "ipython",
    "version": 3
   },
   "file_extension": ".py",
   "mimetype": "text/x-python",
   "name": "python",
   "nbconvert_exporter": "python",
   "pygments_lexer": "ipython3",
   "version": "3.7.12"
  }
 },
 "nbformat": 4,
 "nbformat_minor": 5
}
