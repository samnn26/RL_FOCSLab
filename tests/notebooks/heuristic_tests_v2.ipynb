{
 "cells": [
  {
   "cell_type": "code",
   "execution_count": 1,
   "id": "ba41ff64",
   "metadata": {},
   "outputs": [],
   "source": [
    "import os\n",
    "import pickle\n",
    "import numpy as np\n",
    "from IPython.display import clear_output\n",
    "import matplotlib\n",
    "import matplotlib.pyplot as plt\n",
    "import gym\n",
    "from optical_rl_gym.utils import evaluate_heuristic, random_policy\n",
    "# from optical_rl_gym.envs.rwa_env_focs_v2 import kSP_FF, FF_kSP, kSP_MU, CA_MU\n",
    "from optical_rl_gym.heuristics import kSP_FF, FF_kSP, kSP_MU, CA_MU\n",
    "from optical_rl_gym.envs.rwa_env_focs_v2 import PathOnlyFirstFitAction"
   ]
  },
  {
   "cell_type": "code",
   "execution_count": 2,
   "id": "9d9115ff",
   "metadata": {},
   "outputs": [],
   "source": [
    "def print_service_stats(env):\n",
    "    print(\"Whole training process statistics:\")\n",
    "    rnd_path_action_probability = np.sum(env.actions_output, axis=1) / np.sum(env.actions_output)\n",
    "    rnd_wavelength_action_probability = np.sum(env.actions_output, axis=0) / np.sum(env.actions_output)\n",
    "    print('Path action probability:', np.sum(env.actions_output, axis=1) / np.sum(env.actions_output))\n",
    "    print('Wavelength action probability:', np.sum(env.actions_output, axis=0) / np.sum(env.actions_output))\n",
    "    num_lps_reused = env.num_lightpaths_reused\n",
    "    print('Load (Erlangs):', load)\n",
    "    print('Service bit rate (Gb/s):', env.service.bit_rate/1e9)\n",
    "    print('Total number of services:', env.services_processed)\n",
    "    print('Total number of services per ep:', env.episode_services_processed)\n",
    "    print('Total number of accepted services:', env.services_accepted)\n",
    "    print('Proportion of services provisioned:', env.services_accepted/env.services_processed)\n",
    "    print('Number of services on existing lightpaths:', num_lps_reused)\n",
    "    print('Number of services released:', env.num_lightpaths_released)\n",
    "    print('Number of transmitters on each node:', env.num_transmitters)\n",
    "    print('Number of receivers on each node:', env.num_receivers)\n",
    "    print('Final throughput (TB/s):', env.get_throughput()/1e12)\n",
    "def get_service_utils(env):\n",
    "    path_id_util = []\n",
    "    num_paths = env.topology.number_of_nodes() * (env.topology.number_of_nodes() - 1) * env.k_paths\n",
    "    for id in range(num_paths):\n",
    "        path_id_util.append(np.sum(env.lightpath_service_allocation[id,:]))\n",
    "    return path_id_util, num_paths"
   ]
  },
  {
   "cell_type": "code",
   "execution_count": null,
   "id": "97946a07",
   "metadata": {},
   "outputs": [],
   "source": [
    "# with open('/Users/joshnevin/RL_FOCSLab/topologies/3_node_network_sym.h5', 'rb') as f:\n",
    "#     topology = pickle.load(f)\n",
    "# node_request_probabilities = np.array([0.333333,0.333333,0.333333])"
   ]
  },
  {
   "cell_type": "code",
   "execution_count": null,
   "id": "491590c3",
   "metadata": {},
   "outputs": [],
   "source": [
    "14*(14-1)*1"
   ]
  },
  {
   "cell_type": "code",
   "execution_count": 23,
   "id": "f73b42c8",
   "metadata": {},
   "outputs": [],
   "source": [
    "with open('/Users/joshnevin/RL_FOCSLab/topologies/nsfnet_chen_5-paths_rounded.h5', 'rb') as f:\n",
    "# with open('/Users/joshnevin/RL_FOCSLab/topologies/dtag_5-paths.h5', 'rb') as f:\n",
    "    topology = pickle.load(f)\n",
    "# node probabilities from https://github.com/xiaoliangchenUCD/DeepRMSA/blob/6708e9a023df1ec05bfdc77804b6829e33cacfe4/Deep_RMSA_A3C.py#L77\n",
    "node_request_probabilities = np.array([0.01801802, 0.04004004, 0.05305305, 0.01901902, 0.04504505,\n",
    "       0.02402402, 0.06706707, 0.08908909, 0.13813814, 0.12212212,\n",
    "       0.07607608, 0.12012012, 0.01901902, 0.16916917])\n",
    "# uni_prob = 1/14\n",
    "# node_request_probabilities = np.ones(14)*uni_prob"
   ]
  },
  {
   "cell_type": "code",
   "execution_count": 35,
   "id": "d9f204c9",
   "metadata": {},
   "outputs": [],
   "source": [
    "load = int(1e10)\n",
    "env_args = dict(topology=topology, seed=10, load = load,\n",
    "                allow_rejection=False, # the agent cannot proactively reject a request\n",
    "                mean_service_holding_time=1e8,\n",
    "                episode_length=5000, node_request_probabilities=node_request_probabilities, exp_request_res = 200e9,\n",
    "                term_on_first_block=False)\n",
    "# env_args_1 = dict(topology=topology, seed=5, load = load,\n",
    "#                 allow_rejection=False, # the agent cannot proactively reject a request\n",
    "#                 mean_service_holding_time=1e1,\n",
    "#                 episode_length=3000, node_request_probabilities=node_request_probabilities,\n",
    "#                 term_on_first_block=False)\n",
    "# env_0 = PathOnlyFirstFitAction(gym.make('RWAFOCS-v2', **env_args))\n",
    "env_0 = gym.make('RWAFOCS-v41', **env_args)\n",
    "# env_1 = gym.make('RWAFOCS-v21', **env_args_1)\n",
    "env_1 = gym.make('RWAFOCS-v22', **env_args)\n",
    "env_2 = gym.make('RWAFOCS-v22', **env_args)\n",
    "env_3 = gym.make('RWAFOCS-v22', **env_args)\n",
    "env_4 = gym.make('RWAFOCS-v22', **env_args)"
   ]
  },
  {
   "cell_type": "code",
   "execution_count": null,
   "id": "d09c7455",
   "metadata": {},
   "outputs": [],
   "source": [
    "mean_reward, std_reward = evaluate_heuristic(env_0, random_policy, n_eval_episodes=10,\n",
    "                       render=False, callback=None, reward_threshold=None,\n",
    "                       return_episode_rewards=False)\n",
    "print(\"mean reward:\", mean_reward)\n",
    "print(\"Std reward:\", std_reward)\n",
    "print(\"1 std best case:\", mean_reward + std_reward)"
   ]
  },
  {
   "cell_type": "code",
   "execution_count": null,
   "id": "59039e3b",
   "metadata": {},
   "outputs": [],
   "source": [
    "env_0.services_accepted"
   ]
  },
  {
   "cell_type": "code",
   "execution_count": 19,
   "id": "a4c4b0a6",
   "metadata": {},
   "outputs": [
    {
     "name": "stdout",
     "output_type": "stream",
     "text": [
      "mean reward: 442.0\n",
      "Std reward: 0.0\n"
     ]
    }
   ],
   "source": [
    "mean_reward, std_reward = evaluate_heuristic(env_1, kSP_FF, n_eval_episodes=1,\n",
    "                       render=False, callback=None, reward_threshold=None,\n",
    "                       return_episode_rewards=False)\n",
    "print(\"mean reward:\", mean_reward)\n",
    "print(\"Std reward:\", std_reward)"
   ]
  },
  {
   "cell_type": "code",
   "execution_count": 20,
   "id": "de69032e",
   "metadata": {},
   "outputs": [
    {
     "data": {
      "text/plain": [
       "5221"
      ]
     },
     "execution_count": 20,
     "metadata": {},
     "output_type": "execute_result"
    }
   ],
   "source": [
    "env_1.services_accepted"
   ]
  },
  {
   "cell_type": "code",
   "execution_count": 36,
   "id": "190e30d4",
   "metadata": {},
   "outputs": [
    {
     "name": "stdout",
     "output_type": "stream",
     "text": [
      "mean reward: 1072.0\n",
      "Std reward: 0.0\n"
     ]
    }
   ],
   "source": [
    "mean_reward, std_reward = evaluate_heuristic(env_2, FF_kSP, n_eval_episodes=1,\n",
    "                       render=False, callback=None, reward_threshold=None,\n",
    "                       return_episode_rewards=False)\n",
    "print(\"mean reward:\", mean_reward)\n",
    "print(\"Std reward:\", std_reward)"
   ]
  },
  {
   "cell_type": "code",
   "execution_count": 37,
   "id": "95fe842b",
   "metadata": {},
   "outputs": [
    {
     "data": {
      "text/plain": [
       "3036"
      ]
     },
     "execution_count": 37,
     "metadata": {},
     "output_type": "execute_result"
    }
   ],
   "source": [
    "env_2.services_accepted"
   ]
  },
  {
   "cell_type": "code",
   "execution_count": null,
   "id": "adb0b3c3",
   "metadata": {},
   "outputs": [],
   "source": [
    "mean_reward, std_reward = evaluate_heuristic(env_3, CA_MU, n_eval_episodes=1,\n",
    "                       render=False, callback=None, reward_threshold=None,\n",
    "                       return_episode_rewards=False)\n",
    "print(\"mean reward:\", mean_reward)\n",
    "print(\"Std reward:\", std_reward)"
   ]
  },
  {
   "cell_type": "code",
   "execution_count": null,
   "id": "9e08d1e6",
   "metadata": {},
   "outputs": [],
   "source": [
    "mean_reward, std_reward = evaluate_heuristic(env_4, kSP_MU, n_eval_episodes=1,\n",
    "                       render=False, callback=None, reward_threshold=None,\n",
    "                       return_episode_rewards=False)\n",
    "print(\"mean reward:\", mean_reward)\n",
    "print(\"Std reward:\", std_reward)"
   ]
  },
  {
   "cell_type": "markdown",
   "id": "8b2d9970",
   "metadata": {},
   "source": [
    "kSP-FF:"
   ]
  },
  {
   "cell_type": "code",
   "execution_count": null,
   "id": "2d843184",
   "metadata": {},
   "outputs": [],
   "source": [
    "print_service_stats(env_1)"
   ]
  },
  {
   "cell_type": "markdown",
   "id": "ee5c31da",
   "metadata": {},
   "source": [
    "FF-kSP:"
   ]
  },
  {
   "cell_type": "code",
   "execution_count": null,
   "id": "d20b3faf",
   "metadata": {},
   "outputs": [],
   "source": [
    "print_service_stats(env_2)"
   ]
  },
  {
   "cell_type": "markdown",
   "id": "f72e446a",
   "metadata": {},
   "source": [
    "CA-MU:"
   ]
  },
  {
   "cell_type": "code",
   "execution_count": null,
   "id": "92ca9b43",
   "metadata": {},
   "outputs": [],
   "source": [
    "print_service_stats(env_3)"
   ]
  },
  {
   "cell_type": "markdown",
   "id": "61dfe31f",
   "metadata": {},
   "source": [
    "kSP-MU:"
   ]
  },
  {
   "cell_type": "code",
   "execution_count": null,
   "id": "7b689692",
   "metadata": {},
   "outputs": [],
   "source": [
    "print_service_stats(env_4)"
   ]
  },
  {
   "cell_type": "code",
   "execution_count": null,
   "id": "a597a2d3",
   "metadata": {},
   "outputs": [],
   "source": [
    "path_id_util_1, num_paths = get_service_utils(env_1)\n",
    "path_id_util_2, _ = get_service_utils(env_2)\n",
    "path_id_util_3, _ = get_service_utils(env_3)\n",
    "path_id_util_4, _ = get_service_utils(env_4)"
   ]
  },
  {
   "cell_type": "code",
   "execution_count": null,
   "id": "f1da108f",
   "metadata": {},
   "outputs": [],
   "source": [
    "sum(path_id_util_1)"
   ]
  },
  {
   "cell_type": "code",
   "execution_count": null,
   "id": "f340fdd0",
   "metadata": {},
   "outputs": [],
   "source": [
    "sum(path_id_util_2)"
   ]
  },
  {
   "cell_type": "code",
   "execution_count": null,
   "id": "5459b15d",
   "metadata": {},
   "outputs": [],
   "source": [
    "sum(path_id_util_3)"
   ]
  },
  {
   "cell_type": "code",
   "execution_count": null,
   "id": "8f6f7b75",
   "metadata": {},
   "outputs": [],
   "source": [
    "sum(path_id_util_4)"
   ]
  },
  {
   "cell_type": "markdown",
   "id": "dfa85041",
   "metadata": {},
   "source": [
    "Verify that throughput is the same, despite the number of allocated requests being different!"
   ]
  },
  {
   "cell_type": "code",
   "execution_count": null,
   "id": "b48029a4",
   "metadata": {},
   "outputs": [],
   "source": [
    "req_comp = np.array([env_1.cumulative_throughput[i] - env_2.cumulative_throughput[i] for i in range(len(env_1.cumulative_throughput))])"
   ]
  },
  {
   "cell_type": "code",
   "execution_count": null,
   "id": "8d049975",
   "metadata": {},
   "outputs": [],
   "source": [
    "np.count_nonzero(req_comp)"
   ]
  },
  {
   "cell_type": "code",
   "execution_count": null,
   "id": "de2f2edc",
   "metadata": {},
   "outputs": [],
   "source": [
    "print(req_comp[-1])\n",
    "print(req_comp[-2])\n",
    "print(req_comp[-3])\n",
    "print(req_comp[-4])\n",
    "print(req_comp[-5])\n",
    "print(req_comp[-6])\n",
    "print(req_comp[-7])"
   ]
  },
  {
   "cell_type": "code",
   "execution_count": null,
   "id": "913941e5",
   "metadata": {},
   "outputs": [],
   "source": [
    "print(env_2.cumulative_throughput[-1])\n",
    "print(env_2.cumulative_throughput[-2])"
   ]
  },
  {
   "cell_type": "code",
   "execution_count": null,
   "id": "ff6c7cd9",
   "metadata": {},
   "outputs": [],
   "source": [
    "plt.plot(env_1.cumulative_throughput, '+')\n",
    "plt.show()"
   ]
  },
  {
   "cell_type": "code",
   "execution_count": null,
   "id": "6ede7e48",
   "metadata": {},
   "outputs": [],
   "source": [
    "plt.plot(env_2.cumulative_throughput, '+')\n",
    "plt.show()"
   ]
  },
  {
   "cell_type": "code",
   "execution_count": null,
   "id": "ee2aa3a0",
   "metadata": {},
   "outputs": [],
   "source": [
    "plt.plot(req_comp)\n",
    "plt.show()"
   ]
  },
  {
   "cell_type": "code",
   "execution_count": null,
   "id": "a3469afe",
   "metadata": {},
   "outputs": [],
   "source": [
    "np.sum(env_2.active_bitrates)"
   ]
  },
  {
   "cell_type": "code",
   "execution_count": null,
   "id": "3e0debc9",
   "metadata": {},
   "outputs": [],
   "source": [
    "env_2.cumulative_throughput"
   ]
  },
  {
   "cell_type": "code",
   "execution_count": null,
   "id": "1c559d7f",
   "metadata": {},
   "outputs": [],
   "source": [
    "x = np.arange(num_paths)\n",
    "plt.plot(x, path_id_util_1)\n",
    "plt.xlabel(\"Path ID\")\n",
    "plt.ylabel(\"Number of services\")\n",
    "#plt.savefig('figures/pathid_services_kspff.pdf', dpi=200,bbox_inches='tight')\n",
    "plt.show()"
   ]
  },
  {
   "cell_type": "code",
   "execution_count": null,
   "id": "c344cb50",
   "metadata": {},
   "outputs": [],
   "source": [
    "x = np.arange(num_paths)\n",
    "plt.plot(x, path_id_util_2)\n",
    "plt.xlabel(\"Path ID\")\n",
    "plt.ylabel(\"Number of services\")\n",
    "#plt.savefig('figures/pathid_services_ffksp.pdf', dpi=200,bbox_inches='tight')\n",
    "plt.show()"
   ]
  },
  {
   "cell_type": "code",
   "execution_count": null,
   "id": "29268011",
   "metadata": {},
   "outputs": [],
   "source": [
    "x = np.arange(num_paths)\n",
    "plt.plot(x, path_id_util_3)\n",
    "plt.xlabel(\"Path ID\")\n",
    "plt.ylabel(\"Number of services\")\n",
    "#plt.savefig('figures/pathid_services_ffksp.pdf', dpi=200,bbox_inches='tight')\n",
    "plt.show()"
   ]
  },
  {
   "cell_type": "code",
   "execution_count": null,
   "id": "9712ea6a",
   "metadata": {},
   "outputs": [],
   "source": [
    "x = np.arange(num_paths)\n",
    "plt.plot(x, path_id_util_4)\n",
    "plt.xlabel(\"Path ID\")\n",
    "plt.ylabel(\"Number of services\")\n",
    "#plt.savefig('figures/pathid_services_ffksp.pdf', dpi=200,bbox_inches='tight')\n",
    "plt.show()"
   ]
  },
  {
   "cell_type": "code",
   "execution_count": null,
   "id": "c6a89157",
   "metadata": {},
   "outputs": [],
   "source": [
    "x = np.arange(num_paths)\n",
    "plt.plot(x, path_id_util_1, 'r+')\n",
    "plt.plot(x, path_id_util_2, 'bx')\n",
    "plt.xlabel(\"Path ID\")\n",
    "plt.ylabel(\"Number of services\")\n",
    "plt.show()"
   ]
  },
  {
   "cell_type": "code",
   "execution_count": null,
   "id": "60adb7f4",
   "metadata": {},
   "outputs": [],
   "source": [
    "x = np.arange(num_paths)\n",
    "plt.plot(x, abs(np.array(path_id_util_1) - np.array(path_id_util_2)))\n",
    "plt.xlabel(\"Path ID\")\n",
    "plt.ylabel(\"Number of services\")\n",
    "#plt.savefig('figures/pathid_services_ffksp.pdf', dpi=200,bbox_inches='tight')\n",
    "plt.show()"
   ]
  },
  {
   "cell_type": "code",
   "execution_count": null,
   "id": "f6a0302c",
   "metadata": {},
   "outputs": [],
   "source": [
    "(np.array(path_id_util_1) - np.array(path_id_util_2))"
   ]
  },
  {
   "cell_type": "code",
   "execution_count": null,
   "id": "83166ee2",
   "metadata": {},
   "outputs": [],
   "source": [
    "np.array(path_id_util_1)"
   ]
  },
  {
   "cell_type": "code",
   "execution_count": null,
   "id": "c21a6c05",
   "metadata": {},
   "outputs": [],
   "source": [
    "np.array(path_id_util_2)"
   ]
  },
  {
   "cell_type": "markdown",
   "id": "a8c14fd2",
   "metadata": {},
   "source": [
    "Look at ksp ordering:"
   ]
  },
  {
   "cell_type": "code",
   "execution_count": null,
   "id": "e98c7607",
   "metadata": {},
   "outputs": [],
   "source": [
    "env_1.service.source"
   ]
  },
  {
   "cell_type": "code",
   "execution_count": null,
   "id": "cf67eb35",
   "metadata": {},
   "outputs": [],
   "source": [
    "paths_test = env_1.topology.graph['ksp']['2','3']\n",
    "len(paths_test)"
   ]
  },
  {
   "cell_type": "code",
   "execution_count": null,
   "id": "7bf94b58",
   "metadata": {},
   "outputs": [],
   "source": [
    "paths_test[0].length"
   ]
  },
  {
   "cell_type": "code",
   "execution_count": null,
   "id": "38c52bc8",
   "metadata": {},
   "outputs": [],
   "source": [
    "paths_test[1].length"
   ]
  },
  {
   "cell_type": "code",
   "execution_count": null,
   "id": "2d5ed228",
   "metadata": {},
   "outputs": [],
   "source": [
    "paths_test[2].length"
   ]
  },
  {
   "cell_type": "code",
   "execution_count": null,
   "id": "93d75f2a",
   "metadata": {},
   "outputs": [],
   "source": []
  },
  {
   "cell_type": "code",
   "execution_count": null,
   "id": "7bb1af14",
   "metadata": {},
   "outputs": [],
   "source": [
    "paths_test[3].length"
   ]
  },
  {
   "cell_type": "code",
   "execution_count": null,
   "id": "fb607e23",
   "metadata": {},
   "outputs": [],
   "source": [
    "paths_test[4].length"
   ]
  },
  {
   "cell_type": "code",
   "execution_count": null,
   "id": "3f2b70a7",
   "metadata": {},
   "outputs": [],
   "source": [
    "env_1.observation_space.sample()"
   ]
  },
  {
   "cell_type": "code",
   "execution_count": null,
   "id": "ab243ff1",
   "metadata": {},
   "outputs": [],
   "source": [
    "env_2.observation_space.sample()[:100]"
   ]
  },
  {
   "cell_type": "code",
   "execution_count": null,
   "id": "1ca9bcb0",
   "metadata": {},
   "outputs": [],
   "source": []
  }
 ],
 "metadata": {
  "kernelspec": {
   "display_name": "Python 3 (ipykernel)",
   "language": "python",
   "name": "python3"
  },
  "language_info": {
   "codemirror_mode": {
    "name": "ipython",
    "version": 3
   },
   "file_extension": ".py",
   "mimetype": "text/x-python",
   "name": "python",
   "nbconvert_exporter": "python",
   "pygments_lexer": "ipython3",
   "version": "3.7.12"
  }
 },
 "nbformat": 4,
 "nbformat_minor": 5
}
