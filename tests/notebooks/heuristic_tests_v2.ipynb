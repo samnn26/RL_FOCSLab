{
 "cells": [
  {
   "cell_type": "code",
   "execution_count": 20,
   "id": "ba41ff64",
   "metadata": {},
   "outputs": [],
   "source": [
    "import os\n",
    "import pickle\n",
    "import numpy as np\n",
    "from IPython.display import clear_output\n",
    "import matplotlib\n",
    "import matplotlib.pyplot as plt\n",
    "import gym\n",
    "from optical_rl_gym.utils import evaluate_heuristic, random_policy\n",
    "# from optical_rl_gym.envs.rwa_env_focs_v2 import kSP_FF, FF_kSP, kSP_MU, CA_MU\n",
    "from optical_rl_gym.heuristics import kSP_FF, FF_kSP, kSP_MU, CA_MU\n",
    "from optical_rl_gym.envs.rwa_env_focs_v2 import PathOnlyFirstFitAction"
   ]
  },
  {
   "cell_type": "code",
   "execution_count": 2,
   "id": "9d9115ff",
   "metadata": {},
   "outputs": [],
   "source": [
    "def print_service_stats(env):\n",
    "    print(\"Whole training process statistics:\")\n",
    "    rnd_path_action_probability = np.sum(env.actions_output, axis=1) / np.sum(env.actions_output)\n",
    "    rnd_wavelength_action_probability = np.sum(env.actions_output, axis=0) / np.sum(env.actions_output)\n",
    "    print('Path action probability:', np.sum(env.actions_output, axis=1) / np.sum(env.actions_output))\n",
    "    print('Wavelength action probability:', np.sum(env.actions_output, axis=0) / np.sum(env.actions_output))\n",
    "    num_lps_reused = env.num_lightpaths_reused\n",
    "    print('Load (Erlangs):', load)\n",
    "    print('Service bit rate (Gb/s):', env.service.bit_rate/1e9)\n",
    "    print('Total number of services:', env.services_processed)\n",
    "    print('Total number of accepted services:', env.services_accepted)\n",
    "    print('Proportion of services provisioned:', env.services_accepted/env.services_processed)\n",
    "    print('Number of services on existing lightpaths:', num_lps_reused)\n",
    "    print('Number of services released:', env.num_lightpaths_released)\n",
    "    print('Number of transmitters on each node:', env.num_transmitters)\n",
    "    print('Number of receivers on each node:', env.num_receivers)\n",
    "    print('Final throughput (TB/s):', env.get_throughput()/1e12)\n",
    "def get_service_utils(env):\n",
    "    path_id_util = []\n",
    "    num_paths = env.topology.number_of_nodes() * (env.topology.number_of_nodes() - 1) * env.k_paths\n",
    "    for id in range(num_paths):\n",
    "        path_id_util.append(np.sum(env.lightpath_service_allocation[id,:]))\n",
    "    return path_id_util, num_paths"
   ]
  },
  {
   "cell_type": "code",
   "execution_count": 3,
   "id": "97946a07",
   "metadata": {},
   "outputs": [],
   "source": [
    "# with open('/Users/joshnevin/RL_FOCSLab/topologies/3_node_network_sym.h5', 'rb') as f:\n",
    "#     topology = pickle.load(f)\n",
    "# node_request_probabilities = np.array([0.333333,0.333333,0.333333])"
   ]
  },
  {
   "cell_type": "code",
   "execution_count": 4,
   "id": "f73b42c8",
   "metadata": {},
   "outputs": [],
   "source": [
    "with open('/Users/joshnevin/RL_FOCSLab/topologies/nsfnet_chen_5-paths_directional.h5', 'rb') as f:\n",
    "    topology = pickle.load(f)\n",
    "# node probabilities from https://github.com/xiaoliangchenUCD/DeepRMSA/blob/6708e9a023df1ec05bfdc77804b6829e33cacfe4/Deep_RMSA_A3C.py#L77\n",
    "node_request_probabilities = np.array([0.01801802, 0.04004004, 0.05305305, 0.01901902, 0.04504505,\n",
    "       0.02402402, 0.06706707, 0.08908909, 0.13813814, 0.12212212,\n",
    "       0.07607608, 0.12012012, 0.01901902, 0.16916917])"
   ]
  },
  {
   "cell_type": "code",
   "execution_count": 21,
   "id": "d9f204c9",
   "metadata": {},
   "outputs": [],
   "source": [
    "load = int(1e10)\n",
    "env_args = dict(topology=topology, seed=5, load = load,\n",
    "                allow_rejection=False, # the agent cannot proactively reject a request\n",
    "                mean_service_holding_time=1e8,\n",
    "                episode_length=1500, node_request_probabilities=node_request_probabilities, exp_request_res = 25e9,\n",
    "               exp_request_lambda = 1, term_on_first_block=True)\n",
    "env_0 = PathOnlyFirstFitAction(gym.make('RWAFOCS-v2', **env_args))\n",
    "env_1 = gym.make('RWAFOCS-v2', **env_args)\n",
    "env_2 = gym.make('RWAFOCS-v2', **env_args)\n",
    "env_3 = gym.make('RWAFOCS-v2', **env_args)\n",
    "env_4 = gym.make('RWAFOCS-v2', **env_args)"
   ]
  },
  {
   "cell_type": "code",
   "execution_count": 23,
   "id": "2f74f0fd",
   "metadata": {},
   "outputs": [
    {
     "name": "stdout",
     "output_type": "stream",
     "text": [
      "mean reward: 348.1333333333333\n",
      "Std reward: 203.2385680808531\n"
     ]
    }
   ],
   "source": [
    "mean_reward, std_reward = evaluate_heuristic(env_0, random_policy, n_eval_episodes=30,\n",
    "                       render=False, callback=None, reward_threshold=None,\n",
    "                       return_episode_rewards=False)\n",
    "print(\"mean reward:\", mean_reward)\n",
    "print(\"Std reward:\", std_reward)"
   ]
  },
  {
   "cell_type": "code",
   "execution_count": 24,
   "id": "77ba19d9",
   "metadata": {},
   "outputs": [
    {
     "data": {
      "text/plain": [
       "551.3719014141864"
      ]
     },
     "execution_count": 24,
     "metadata": {},
     "output_type": "execute_result"
    }
   ],
   "source": [
    "mean_reward + std_reward"
   ]
  },
  {
   "cell_type": "code",
   "execution_count": 7,
   "id": "a4c4b0a6",
   "metadata": {},
   "outputs": [
    {
     "name": "stdout",
     "output_type": "stream",
     "text": [
      "mean reward: 1461.0\n",
      "Std reward: 0.0\n"
     ]
    }
   ],
   "source": [
    "heuristic = kSP_FF\n",
    "mean_reward, std_reward = evaluate_heuristic(env_1, kSP_FF, n_eval_episodes=1,\n",
    "                       render=False, callback=None, reward_threshold=None,\n",
    "                       return_episode_rewards=False)\n",
    "print(\"mean reward:\", mean_reward)\n",
    "print(\"Std reward:\", std_reward)"
   ]
  },
  {
   "cell_type": "code",
   "execution_count": 8,
   "id": "190e30d4",
   "metadata": {},
   "outputs": [
    {
     "name": "stdout",
     "output_type": "stream",
     "text": [
      "mean reward: 1463.0\n",
      "Std reward: 0.0\n"
     ]
    }
   ],
   "source": [
    "mean_reward, std_reward = evaluate_heuristic(env_2, FF_kSP, n_eval_episodes=1,\n",
    "                       render=False, callback=None, reward_threshold=None,\n",
    "                       return_episode_rewards=False)\n",
    "print(\"mean reward:\", mean_reward)\n",
    "print(\"Std reward:\", std_reward)"
   ]
  },
  {
   "cell_type": "code",
   "execution_count": 13,
   "id": "adb0b3c3",
   "metadata": {},
   "outputs": [
    {
     "name": "stdout",
     "output_type": "stream",
     "text": [
      "mean reward: 1466.0\n",
      "Std reward: 0.0\n"
     ]
    }
   ],
   "source": [
    "mean_reward, std_reward = evaluate_heuristic(env_3, CA_MU, n_eval_episodes=1,\n",
    "                       render=False, callback=None, reward_threshold=None,\n",
    "                       return_episode_rewards=False)\n",
    "print(\"mean reward:\", mean_reward)\n",
    "print(\"Std reward:\", std_reward)"
   ]
  },
  {
   "cell_type": "code",
   "execution_count": 14,
   "id": "9e08d1e6",
   "metadata": {},
   "outputs": [
    {
     "name": "stdout",
     "output_type": "stream",
     "text": [
      "mean reward: 1465.0\n",
      "Std reward: 0.0\n"
     ]
    }
   ],
   "source": [
    "mean_reward, std_reward = evaluate_heuristic(env_4, kSP_MU, n_eval_episodes=1,\n",
    "                       render=False, callback=None, reward_threshold=None,\n",
    "                       return_episode_rewards=False)\n",
    "print(\"mean reward:\", mean_reward)\n",
    "print(\"Std reward:\", std_reward)"
   ]
  },
  {
   "cell_type": "code",
   "execution_count": 15,
   "id": "f35a69d3",
   "metadata": {},
   "outputs": [
    {
     "name": "stdout",
     "output_type": "stream",
     "text": [
      "Whole training process statistics:\n",
      "Path action probability: [0.16666667 0.16666667 0.16666667 0.22222222 0.27777778]\n",
      "Wavelength action probability: [0.         0.         0.         0.         0.05555556 0.\n",
      " 0.05555556 0.         0.         0.05555556 0.         0.\n",
      " 0.         0.05555556 0.         0.         0.         0.\n",
      " 0.         0.         0.         0.         0.         0.\n",
      " 0.         0.05555556 0.         0.         0.         0.\n",
      " 0.         0.05555556 0.05555556 0.         0.05555556 0.\n",
      " 0.         0.         0.         0.         0.         0.\n",
      " 0.         0.         0.05555556 0.         0.         0.05555556\n",
      " 0.         0.         0.         0.         0.         0.\n",
      " 0.         0.         0.         0.         0.         0.\n",
      " 0.05555556 0.         0.         0.         0.05555556 0.\n",
      " 0.         0.         0.         0.         0.         0.\n",
      " 0.         0.         0.         0.         0.         0.05555556\n",
      " 0.         0.05555556 0.         0.         0.         0.\n",
      " 0.         0.         0.05555556 0.         0.         0.\n",
      " 0.         0.05555556 0.         0.         0.         0.05555556\n",
      " 0.         0.         0.05555556 0.        ]\n",
      "Load (Erlangs): 10000000000\n",
      "Service bit rate (Gb/s): 50.0\n",
      "Total number of services: 19\n",
      "Total number of accepted services: 18\n",
      "Proportion of services provisioned: 0.9473684210526315\n",
      "Number of services on existing lightpaths: 0\n",
      "Number of services released: 0\n",
      "Number of transmitters on each node: [0. 1. 1. 0. 2. 0. 2. 1. 1. 1. 1. 3. 0. 5.]\n",
      "Number of receivers on each node: [0. 0. 0. 0. 0. 2. 2. 2. 2. 2. 2. 0. 1. 5.]\n",
      "Final throughput (TB/s): 0.65\n"
     ]
    }
   ],
   "source": [
    "print_service_stats(env_0)"
   ]
  },
  {
   "cell_type": "markdown",
   "id": "8b2d9970",
   "metadata": {},
   "source": [
    "kSP-FF:"
   ]
  },
  {
   "cell_type": "code",
   "execution_count": 16,
   "id": "2d843184",
   "metadata": {},
   "outputs": [
    {
     "name": "stdout",
     "output_type": "stream",
     "text": [
      "Whole training process statistics:\n",
      "Path action probability: [0.63997262 0.19575633 0.08761123 0.04175222 0.0349076 ]\n",
      "Wavelength action probability: [0.0109514  0.00958248 0.0109514  0.01163587 0.01232033 0.0109514\n",
      " 0.01232033 0.01026694 0.00958248 0.00958248 0.01026694 0.01026694\n",
      " 0.01026694 0.01232033 0.01232033 0.0109514  0.01232033 0.00752909\n",
      " 0.00821355 0.00889802 0.00889802 0.00958248 0.01300479 0.01163587\n",
      " 0.00889802 0.00889802 0.01026694 0.00889802 0.00958248 0.01232033\n",
      " 0.00889802 0.01026694 0.0109514  0.01026694 0.00752909 0.00889802\n",
      " 0.0109514  0.00958248 0.01026694 0.01163587 0.00821355 0.00889802\n",
      " 0.00958248 0.01232033 0.0109514  0.01026694 0.00821355 0.01026694\n",
      " 0.0109514  0.00821355 0.00889802 0.00821355 0.00958248 0.01232033\n",
      " 0.00821355 0.00958248 0.01163587 0.00958248 0.01163587 0.01163587\n",
      " 0.00821355 0.00684463 0.00821355 0.00958248 0.00889802 0.01232033\n",
      " 0.01232033 0.00958248 0.00889802 0.00958248 0.0109514  0.01163587\n",
      " 0.01026694 0.00821355 0.00889802 0.01232033 0.01232033 0.01026694\n",
      " 0.01026694 0.00821355 0.00889802 0.01026694 0.01163587 0.01026694\n",
      " 0.00752909 0.00821355 0.01026694 0.00889802 0.01163587 0.01026694\n",
      " 0.01026694 0.01026694 0.01232033 0.01026694 0.00821355 0.01232033\n",
      " 0.00889802 0.00752909 0.00821355 0.00410678]\n",
      "Load (Erlangs): 10000000000\n",
      "Service bit rate (Gb/s): 25.0\n",
      "Total number of services: 1462\n",
      "Total number of accepted services: 1461\n",
      "Proportion of services provisioned: 0.9993160054719562\n",
      "Number of services on existing lightpaths: 458\n",
      "Number of services released: 0\n",
      "Number of transmitters on each node: [ 15.  54.  74.  25.  55.  32.  63.  80. 121. 123.  82. 111.  20. 148.]\n",
      "Number of receivers on each node: [ 21.  58.  72.  18.  52.  38.  68.  72. 125. 104.  78. 111.  27. 159.]\n",
      "Final throughput (TB/s): 56.925\n"
     ]
    }
   ],
   "source": [
    "print_service_stats(env_1)"
   ]
  },
  {
   "cell_type": "markdown",
   "id": "ee5c31da",
   "metadata": {},
   "source": [
    "FF-kSP:"
   ]
  },
  {
   "cell_type": "code",
   "execution_count": 17,
   "id": "d20b3faf",
   "metadata": {},
   "outputs": [
    {
     "name": "stdout",
     "output_type": "stream",
     "text": [
      "Whole training process statistics:\n",
      "Path action probability: [0.54272044 0.21804511 0.09979494 0.08065619 0.05878332]\n",
      "Wavelength action probability: [0.01367054 0.01093643 0.0102529  0.0102529  0.01230349 0.01230349\n",
      " 0.01093643 0.00956938 0.01093643 0.00615174 0.01093643 0.01093643\n",
      " 0.01093643 0.01093643 0.01161996 0.0102529  0.01093643 0.01093643\n",
      " 0.0075188  0.0075188  0.00956938 0.00820232 0.00820232 0.01161996\n",
      " 0.01230349 0.0102529  0.00956938 0.00956938 0.01093643 0.0102529\n",
      " 0.00956938 0.00888585 0.00956938 0.0102529  0.01230349 0.0102529\n",
      " 0.0102529  0.00888585 0.0102529  0.00888585 0.00888585 0.01093643\n",
      " 0.0102529  0.00956938 0.00956938 0.00956938 0.01161996 0.01093643\n",
      " 0.00888585 0.0075188  0.00956938 0.00820232 0.0102529  0.01367054\n",
      " 0.00888585 0.01230349 0.00888585 0.00888585 0.00956938 0.01161996\n",
      " 0.00683527 0.00820232 0.00888585 0.00888585 0.01161996 0.0102529\n",
      " 0.0102529  0.01161996 0.01230349 0.00956938 0.00888585 0.00956938\n",
      " 0.01161996 0.0102529  0.00956938 0.0102529  0.01298701 0.01161996\n",
      " 0.0075188  0.00820232 0.00956938 0.00956938 0.00888585 0.01093643\n",
      " 0.01093643 0.00820232 0.01161996 0.00888585 0.00888585 0.00956938\n",
      " 0.01093643 0.00956938 0.01093643 0.01093643 0.0102529  0.01230349\n",
      " 0.00820232 0.00956938 0.0075188  0.00478469]\n",
      "Load (Erlangs): 10000000000\n",
      "Service bit rate (Gb/s): 50.0\n",
      "Total number of services: 1464\n",
      "Total number of accepted services: 1463\n",
      "Proportion of services provisioned: 0.9993169398907104\n",
      "Number of services on existing lightpaths: 319\n",
      "Number of services released: 0\n",
      "Number of transmitters on each node: [ 15.  57.  75.  27.  57.  32.  75.  90. 148. 140. 103. 131.  20. 174.]\n",
      "Number of receivers on each node: [ 23.  61.  65.  21.  63.  37.  82. 105. 145. 117.  91. 127.  26. 181.]\n",
      "Final throughput (TB/s): 57.0\n"
     ]
    }
   ],
   "source": [
    "print_service_stats(env_2)"
   ]
  },
  {
   "cell_type": "markdown",
   "id": "f72e446a",
   "metadata": {},
   "source": [
    "CA-MU:"
   ]
  },
  {
   "cell_type": "code",
   "execution_count": 18,
   "id": "92ca9b43",
   "metadata": {},
   "outputs": [
    {
     "name": "stdout",
     "output_type": "stream",
     "text": [
      "Whole training process statistics:\n",
      "Path action probability: [0.91473397 0.0361528  0.01841746 0.01432469 0.01637108]\n",
      "Wavelength action probability: [0.00613915 0.0095498  0.01091405 0.01091405 0.01159618 0.01159618\n",
      " 0.01296044 0.01227831 0.00886767 0.00886767 0.01023192 0.01023192\n",
      " 0.01023192 0.01227831 0.01091405 0.01091405 0.0095498  0.01023192\n",
      " 0.0095498  0.0095498  0.00613915 0.01023192 0.01023192 0.01091405\n",
      " 0.01159618 0.00750341 0.01023192 0.01364256 0.01091405 0.01023192\n",
      " 0.00750341 0.00886767 0.01023192 0.0095498  0.00886767 0.0095498\n",
      " 0.01296044 0.01023192 0.01023192 0.00886767 0.00750341 0.00886767\n",
      " 0.01091405 0.00886767 0.01023192 0.01296044 0.01091405 0.0095498\n",
      " 0.01091405 0.01023192 0.00818554 0.00750341 0.01091405 0.01023192\n",
      " 0.01023192 0.01023192 0.01023192 0.01023192 0.00886767 0.00886767\n",
      " 0.00750341 0.00886767 0.01091405 0.00818554 0.01091405 0.01091405\n",
      " 0.01364256 0.01023192 0.00886767 0.0095498  0.01091405 0.0095498\n",
      " 0.00886767 0.01091405 0.00886767 0.01023192 0.01227831 0.01227831\n",
      " 0.01091405 0.00818554 0.0095498  0.00886767 0.0095498  0.0095498\n",
      " 0.0095498  0.01091405 0.00818554 0.0095498  0.0095498  0.01023192\n",
      " 0.0095498  0.01159618 0.01091405 0.00886767 0.01296044 0.00682128\n",
      " 0.01159618 0.0095498  0.01023192 0.00750341]\n",
      "Load (Erlangs): 10000000000\n",
      "Service bit rate (Gb/s): 25.0\n",
      "Total number of services: 1467\n",
      "Total number of accepted services: 1466\n",
      "Proportion of services provisioned: 0.9993183367416496\n",
      "Number of services on existing lightpaths: 409\n",
      "Number of services released: 0\n",
      "Number of transmitters on each node: [ 15.  61.  70.  26.  58.  32.  68.  88. 130. 129.  89. 113.  21. 157.]\n",
      "Number of receivers on each node: [ 21.  59.  66.  20.  58.  39.  84.  93. 129. 110.  82. 115.  27. 154.]\n",
      "Final throughput (TB/s): 57.125\n"
     ]
    }
   ],
   "source": [
    "print_service_stats(env_3)"
   ]
  },
  {
   "cell_type": "markdown",
   "id": "61dfe31f",
   "metadata": {},
   "source": [
    "kSP-MU:"
   ]
  },
  {
   "cell_type": "code",
   "execution_count": 19,
   "id": "7b689692",
   "metadata": {},
   "outputs": [
    {
     "name": "stdout",
     "output_type": "stream",
     "text": [
      "Whole training process statistics:\n",
      "Path action probability: [0.95358362 0.02730375 0.00955631 0.00546075 0.00409556]\n",
      "Wavelength action probability: [0.0109215  0.0116041  0.00955631 0.01296928 0.01023891 0.01296928\n",
      " 0.0116041  0.01023891 0.00955631 0.00682594 0.01228669 0.01023891\n",
      " 0.0116041  0.0109215  0.01365188 0.0109215  0.00819113 0.00819113\n",
      " 0.00955631 0.00750853 0.00750853 0.01023891 0.01023891 0.0116041\n",
      " 0.01023891 0.00819113 0.01228669 0.01023891 0.0109215  0.00819113\n",
      " 0.0109215  0.00887372 0.01023891 0.00955631 0.00887372 0.01023891\n",
      " 0.0116041  0.00887372 0.0109215  0.00887372 0.01023891 0.01023891\n",
      " 0.00819113 0.01023891 0.0109215  0.00955631 0.0109215  0.01023891\n",
      " 0.00955631 0.00955631 0.00887372 0.0109215  0.00955631 0.0109215\n",
      " 0.00955631 0.01023891 0.0109215  0.00887372 0.00682594 0.01023891\n",
      " 0.00682594 0.0116041  0.00819113 0.0116041  0.0109215  0.01023891\n",
      " 0.0116041  0.0116041  0.01023891 0.00887372 0.0116041  0.00887372\n",
      " 0.00819113 0.01023891 0.01023891 0.01228669 0.0109215  0.01228669\n",
      " 0.00887372 0.00955631 0.00955631 0.00887372 0.00819113 0.01023891\n",
      " 0.01023891 0.00955631 0.00819113 0.01023891 0.0116041  0.00955631\n",
      " 0.00955631 0.0116041  0.00955631 0.0109215  0.00955631 0.00955631\n",
      " 0.01023891 0.01023891 0.00955631 0.00341297]\n",
      "Load (Erlangs): 10000000000\n",
      "Service bit rate (Gb/s): 25.0\n",
      "Total number of services: 1466\n",
      "Total number of accepted services: 1465\n",
      "Proportion of services provisioned: 0.9993178717598908\n",
      "Number of services on existing lightpaths: 407\n",
      "Number of services released: 0\n",
      "Number of transmitters on each node: [ 15.  59.  75.  25.  56.  33.  68.  87. 129. 132.  88. 113.  21. 157.]\n",
      "Number of receivers on each node: [ 21.  61.  68.  20.  59.  38.  81.  93. 128. 110.  79. 115.  28. 157.]\n",
      "Final throughput (TB/s): 57.075\n"
     ]
    }
   ],
   "source": [
    "print_service_stats(env_4)"
   ]
  },
  {
   "cell_type": "code",
   "execution_count": null,
   "id": "a597a2d3",
   "metadata": {},
   "outputs": [],
   "source": [
    "path_id_util_1, num_paths = get_service_utils(env_1)\n",
    "path_id_util_2, _ = get_service_utils(env_2)\n",
    "path_id_util_3, _ = get_service_utils(env_3)\n",
    "path_id_util_4, _ = get_service_utils(env_4)"
   ]
  },
  {
   "cell_type": "code",
   "execution_count": null,
   "id": "f1da108f",
   "metadata": {},
   "outputs": [],
   "source": [
    "sum(path_id_util_1)"
   ]
  },
  {
   "cell_type": "code",
   "execution_count": null,
   "id": "f340fdd0",
   "metadata": {},
   "outputs": [],
   "source": [
    "sum(path_id_util_2)"
   ]
  },
  {
   "cell_type": "code",
   "execution_count": null,
   "id": "5459b15d",
   "metadata": {},
   "outputs": [],
   "source": [
    "sum(path_id_util_3)"
   ]
  },
  {
   "cell_type": "code",
   "execution_count": null,
   "id": "8f6f7b75",
   "metadata": {},
   "outputs": [],
   "source": [
    "sum(path_id_util_4)"
   ]
  },
  {
   "cell_type": "markdown",
   "id": "e2c62f6b",
   "metadata": {},
   "source": [
    "Verify that throughput is the same, despite the number of allocated requests being different!"
   ]
  },
  {
   "cell_type": "code",
   "execution_count": null,
   "id": "b48029a4",
   "metadata": {},
   "outputs": [],
   "source": [
    "req_comp = np.array([env_1.cumulative_throughput[i] - env_2.cumulative_throughput[i] for i in range(len(env_1.cumulative_throughput))])"
   ]
  },
  {
   "cell_type": "code",
   "execution_count": null,
   "id": "210e2751",
   "metadata": {},
   "outputs": [],
   "source": [
    "np.count_nonzero(req_comp)"
   ]
  },
  {
   "cell_type": "code",
   "execution_count": null,
   "id": "d55c9c64",
   "metadata": {},
   "outputs": [],
   "source": [
    "print(req_comp[-1])\n",
    "print(req_comp[-2])\n",
    "print(req_comp[-3])\n",
    "print(req_comp[-4])\n",
    "print(req_comp[-5])\n",
    "print(req_comp[-6])\n",
    "print(req_comp[-7])"
   ]
  },
  {
   "cell_type": "code",
   "execution_count": null,
   "id": "fc4ea544",
   "metadata": {},
   "outputs": [],
   "source": [
    "print(env_2.cumulative_throughput[-1])\n",
    "print(env_2.cumulative_throughput[-2])"
   ]
  },
  {
   "cell_type": "code",
   "execution_count": null,
   "id": "ff6c7cd9",
   "metadata": {},
   "outputs": [],
   "source": [
    "plt.plot(env_1.cumulative_throughput, '+')\n",
    "plt.show()"
   ]
  },
  {
   "cell_type": "code",
   "execution_count": null,
   "id": "6ede7e48",
   "metadata": {},
   "outputs": [],
   "source": [
    "plt.plot(env_2.cumulative_throughput, '+')\n",
    "plt.show()"
   ]
  },
  {
   "cell_type": "code",
   "execution_count": null,
   "id": "00181c71",
   "metadata": {},
   "outputs": [],
   "source": [
    "plt.plot(req_comp)\n",
    "plt.show()"
   ]
  },
  {
   "cell_type": "code",
   "execution_count": null,
   "id": "a3469afe",
   "metadata": {},
   "outputs": [],
   "source": [
    "np.sum(env_2.active_bitrates)"
   ]
  },
  {
   "cell_type": "code",
   "execution_count": null,
   "id": "3e0debc9",
   "metadata": {},
   "outputs": [],
   "source": [
    "env_2.cumulative_throughput"
   ]
  },
  {
   "cell_type": "code",
   "execution_count": null,
   "id": "1c559d7f",
   "metadata": {},
   "outputs": [],
   "source": [
    "x = np.arange(num_paths)\n",
    "plt.plot(x, path_id_util_1)\n",
    "plt.xlabel(\"Path ID\")\n",
    "plt.ylabel(\"Number of services\")\n",
    "#plt.savefig('figures/pathid_services_kspff.pdf', dpi=200,bbox_inches='tight')\n",
    "plt.show()"
   ]
  },
  {
   "cell_type": "code",
   "execution_count": null,
   "id": "c344cb50",
   "metadata": {},
   "outputs": [],
   "source": [
    "x = np.arange(num_paths)\n",
    "plt.plot(x, path_id_util_2)\n",
    "plt.xlabel(\"Path ID\")\n",
    "plt.ylabel(\"Number of services\")\n",
    "#plt.savefig('figures/pathid_services_ffksp.pdf', dpi=200,bbox_inches='tight')\n",
    "plt.show()"
   ]
  },
  {
   "cell_type": "code",
   "execution_count": null,
   "id": "29268011",
   "metadata": {},
   "outputs": [],
   "source": [
    "x = np.arange(num_paths)\n",
    "plt.plot(x, path_id_util_3)\n",
    "plt.xlabel(\"Path ID\")\n",
    "plt.ylabel(\"Number of services\")\n",
    "#plt.savefig('figures/pathid_services_ffksp.pdf', dpi=200,bbox_inches='tight')\n",
    "plt.show()"
   ]
  },
  {
   "cell_type": "code",
   "execution_count": null,
   "id": "a00ce31a",
   "metadata": {},
   "outputs": [],
   "source": [
    "x = np.arange(num_paths)\n",
    "plt.plot(x, path_id_util_4)\n",
    "plt.xlabel(\"Path ID\")\n",
    "plt.ylabel(\"Number of services\")\n",
    "#plt.savefig('figures/pathid_services_ffksp.pdf', dpi=200,bbox_inches='tight')\n",
    "plt.show()"
   ]
  },
  {
   "cell_type": "code",
   "execution_count": null,
   "id": "c6a89157",
   "metadata": {},
   "outputs": [],
   "source": [
    "x = np.arange(num_paths)\n",
    "plt.plot(x, path_id_util_1, 'r+')\n",
    "plt.plot(x, path_id_util_2, 'bx')\n",
    "plt.xlabel(\"Path ID\")\n",
    "plt.ylabel(\"Number of services\")\n",
    "plt.show()"
   ]
  },
  {
   "cell_type": "code",
   "execution_count": null,
   "id": "60adb7f4",
   "metadata": {},
   "outputs": [],
   "source": [
    "x = np.arange(num_paths)\n",
    "plt.plot(x, abs(np.array(path_id_util_1) - np.array(path_id_util_2)))\n",
    "plt.xlabel(\"Path ID\")\n",
    "plt.ylabel(\"Number of services\")\n",
    "#plt.savefig('figures/pathid_services_ffksp.pdf', dpi=200,bbox_inches='tight')\n",
    "plt.show()"
   ]
  },
  {
   "cell_type": "code",
   "execution_count": null,
   "id": "f6a0302c",
   "metadata": {},
   "outputs": [],
   "source": [
    "(np.array(path_id_util_1) - np.array(path_id_util_2))"
   ]
  },
  {
   "cell_type": "code",
   "execution_count": null,
   "id": "83166ee2",
   "metadata": {},
   "outputs": [],
   "source": [
    "np.array(path_id_util_1)"
   ]
  },
  {
   "cell_type": "code",
   "execution_count": null,
   "id": "c21a6c05",
   "metadata": {},
   "outputs": [],
   "source": [
    "np.array(path_id_util_2)"
   ]
  },
  {
   "cell_type": "markdown",
   "id": "a8c14fd2",
   "metadata": {},
   "source": [
    "Look at ksp ordering:"
   ]
  },
  {
   "cell_type": "code",
   "execution_count": null,
   "id": "e98c7607",
   "metadata": {},
   "outputs": [],
   "source": [
    "env_1.service.source"
   ]
  },
  {
   "cell_type": "code",
   "execution_count": null,
   "id": "cf67eb35",
   "metadata": {},
   "outputs": [],
   "source": [
    "paths_test = env_1.topology.graph['ksp']['2','3']\n",
    "len(paths_test)"
   ]
  },
  {
   "cell_type": "code",
   "execution_count": null,
   "id": "7bf94b58",
   "metadata": {},
   "outputs": [],
   "source": [
    "paths_test[0].length"
   ]
  },
  {
   "cell_type": "code",
   "execution_count": null,
   "id": "38c52bc8",
   "metadata": {},
   "outputs": [],
   "source": [
    "paths_test[1].length"
   ]
  },
  {
   "cell_type": "code",
   "execution_count": null,
   "id": "2d5ed228",
   "metadata": {},
   "outputs": [],
   "source": [
    "paths_test[2].length"
   ]
  },
  {
   "cell_type": "code",
   "execution_count": null,
   "id": "93d75f2a",
   "metadata": {},
   "outputs": [],
   "source": []
  },
  {
   "cell_type": "code",
   "execution_count": null,
   "id": "7bb1af14",
   "metadata": {},
   "outputs": [],
   "source": [
    "paths_test[3].length"
   ]
  },
  {
   "cell_type": "code",
   "execution_count": null,
   "id": "fb607e23",
   "metadata": {},
   "outputs": [],
   "source": [
    "paths_test[4].length"
   ]
  },
  {
   "cell_type": "code",
   "execution_count": null,
   "id": "3f2b70a7",
   "metadata": {},
   "outputs": [],
   "source": []
  }
 ],
 "metadata": {
  "kernelspec": {
   "display_name": "Python 3 (ipykernel)",
   "language": "python",
   "name": "python3"
  },
  "language_info": {
   "codemirror_mode": {
    "name": "ipython",
    "version": 3
   },
   "file_extension": ".py",
   "mimetype": "text/x-python",
   "name": "python",
   "nbconvert_exporter": "python",
   "pygments_lexer": "ipython3",
   "version": "3.7.12"
  }
 },
 "nbformat": 4,
 "nbformat_minor": 5
}
