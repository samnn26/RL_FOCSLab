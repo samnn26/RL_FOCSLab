{
 "cells": [
  {
   "cell_type": "code",
   "execution_count": 1,
   "id": "74eb777e",
   "metadata": {},
   "outputs": [],
   "source": [
    "import numpy as np\n",
    "import random\n",
    "import gym\n",
    "import matplotlib.pyplot as plt\n",
    "import matplotlib.cm as cm\n",
    "import matplotlib.colors as colors\n",
    "import matplotlib\n",
    "import pickle\n",
    "import pandas as pd\n",
    "from scipy.io import savemat, loadmat\n",
    "import networkx as nx"
   ]
  },
  {
   "cell_type": "code",
   "execution_count": 2,
   "id": "762273b9",
   "metadata": {},
   "outputs": [],
   "source": [
    "def generate_traffic_matrix(node_reqs):\n",
    "    probs = np.zeros([len(node_reqs),len(node_reqs)])\n",
    "    for i in range(len(node_reqs)):\n",
    "        for j in range(len(node_reqs)):\n",
    "            if i < j:\n",
    "                new_node_reqs = np.copy(node_reqs)\n",
    "                new_node_reqs[i] = 0.\n",
    "                new_node_reqs = new_node_reqs/np.sum(new_node_reqs)\n",
    "                probs[i,j] = node_reqs[i] * new_node_reqs[j]\n",
    "#             if i > j:\n",
    "#                 new_node_reqs = np.copy(node_reqs)\n",
    "#                 new_node_reqs[j] = 0.\n",
    "#                 new_node_reqs = new_node_reqs/np.sum(new_node_reqs)\n",
    "#                 probs[i,j] = node_reqs[i] * new_node_reqs[j]\n",
    "    return probs\n",
    "def traffic_mat_to_node_probs(traffic_matrix, num_nodes):\n",
    "    node_probs= []\n",
    "    col_probs =[]\n",
    "    row_probs = []\n",
    "    for row in range(num_nodes):\n",
    "        row_probs.append(np.sum(traffic_matrix[row]))\n",
    "    for col in range(num_nodes):\n",
    "        col_probs.append(np.sum(traffic_matrix[:,col]))\n",
    "    for node in range(num_nodes):\n",
    "        node_row_prob = row_probs[node]\n",
    "        node_col_prob = col_probs[node]\n",
    "        node_probs.append((node_col_prob+node_col_prob)/2)\n",
    "    return node_probs"
   ]
  },
  {
   "cell_type": "markdown",
   "id": "e0b838dd",
   "metadata": {},
   "source": [
    "Generation of uniform and perturbed uniform traffic matrices:"
   ]
  },
  {
   "cell_type": "code",
   "execution_count": null,
   "id": "d12f5646",
   "metadata": {},
   "outputs": [],
   "source": [
    "uni_prob = 1/14\n",
    "# node_request_probabilities = np.ones(14)*uni_prob + np.random.uniform(0,uni_prob*0.05, 14)"
   ]
  },
  {
   "cell_type": "code",
   "execution_count": null,
   "id": "7bbb6735",
   "metadata": {},
   "outputs": [],
   "source": [
    "node_request_probabilities_12_uni = np.ones(12)/12\n",
    "pickle.dump(node_request_probabilities_12_uni, open(\"/Users/joshnevin/RL_FOCSLab/node_req_probs/12_node_uniform.pkl\",'wb'))"
   ]
  },
  {
   "cell_type": "code",
   "execution_count": 3,
   "id": "fce7da97",
   "metadata": {},
   "outputs": [],
   "source": [
    "node_request_probabilities_28_uni = np.ones(28)/28\n",
    "pickle.dump(node_request_probabilities_28_uni, open(\"/Users/joshnevin/RL_FOCSLab/node_req_probs/28_node_uniform.pkl\",'wb'))"
   ]
  },
  {
   "cell_type": "code",
   "execution_count": 4,
   "id": "4c930fbb",
   "metadata": {},
   "outputs": [
    {
     "data": {
      "text/plain": [
       "0.9999999999999997"
      ]
     },
     "execution_count": 4,
     "metadata": {},
     "output_type": "execute_result"
    }
   ],
   "source": [
    "sum(node_request_probabilities_28_uni)"
   ]
  },
  {
   "cell_type": "markdown",
   "id": "17ef7b5c",
   "metadata": {},
   "source": [
    "Generated perturbation on first run with seed of 9"
   ]
  },
  {
   "cell_type": "code",
   "execution_count": null,
   "id": "2e038dea",
   "metadata": {},
   "outputs": [],
   "source": [
    "rng_np = np.random.default_rng(9)\n",
    "pert = 0.5\n",
    "node_request_probabilities = np.ones(14) + rng_np.uniform(-pert, pert, 14)"
   ]
  },
  {
   "cell_type": "code",
   "execution_count": null,
   "id": "f621c13a",
   "metadata": {},
   "outputs": [],
   "source": [
    "node_request_probabilities = node_request_probabilities/np.sum(node_request_probabilities)"
   ]
  },
  {
   "cell_type": "code",
   "execution_count": null,
   "id": "c9bd59f0",
   "metadata": {},
   "outputs": [],
   "source": [
    "np.sum(node_request_probabilities)"
   ]
  },
  {
   "cell_type": "code",
   "execution_count": null,
   "id": "3b45ea51",
   "metadata": {},
   "outputs": [],
   "source": [
    "node_request_probabilities"
   ]
  },
  {
   "cell_type": "code",
   "execution_count": null,
   "id": "db3cf168",
   "metadata": {},
   "outputs": [],
   "source": [
    "pickle.dump(node_request_probabilities, open(\"/Users/joshnevin/RL_FOCSLab/node_req_probs/14_node_uniform_pert\"+str(int(pert*100))+\".pkl\",'wb'))"
   ]
  },
  {
   "cell_type": "code",
   "execution_count": null,
   "id": "a403aa96",
   "metadata": {},
   "outputs": [],
   "source": [
    "non_uni = pickle.load(open(\"/Users/joshnevin/RL_FOCSLab/node_req_probs/14_node_uniform_pert50.pkl\",'rb'))\n",
    "uni = pickle.load(open(\"/Users/joshnevin/RL_FOCSLab/node_req_probs/14_node_uniform.pkl\",'rb'))\n",
    "grav = pickle.load(open(\"/Users/joshnevin/RL_FOCSLab/node_req_probs/nsfnet_chen_gravity.pkl\",'rb'))"
   ]
  },
  {
   "cell_type": "code",
   "execution_count": null,
   "id": "e92049c3",
   "metadata": {},
   "outputs": [],
   "source": [
    "non_uniform_matrix = generate_traffic_matrix(non_uni)"
   ]
  },
  {
   "cell_type": "code",
   "execution_count": null,
   "id": "374b25ec",
   "metadata": {},
   "outputs": [],
   "source": [
    "# uniform_matrix = (generate_traffic_matrix(uni).round(decimals=4)*10000).astype(dtype=int)\n",
    "# non_uniform_matrix = (generate_traffic_matrix(non_uni).round(decimals=4)*10000).astype(dtype=int)"
   ]
  },
  {
   "cell_type": "code",
   "execution_count": null,
   "id": "dd82f704",
   "metadata": {},
   "outputs": [],
   "source": [
    "non_uniform_matrix.T = np.rot90(np.fliplr(non_uniform_matrix))"
   ]
  },
  {
   "cell_type": "code",
   "execution_count": null,
   "id": "d32483ad",
   "metadata": {},
   "outputs": [],
   "source": [
    "non_uniform_matrix"
   ]
  },
  {
   "cell_type": "code",
   "execution_count": null,
   "id": "447b6ff1",
   "metadata": {},
   "outputs": [],
   "source": [
    "udf = pd.DataFrame(data=uniform_matrix[:,:],    # values\n",
    "        index=node_ids,    \n",
    "        columns=node_ids)  \n",
    "nudf = pd.DataFrame(data=non_uniform_matrix[:,:],    # values\n",
    "        index=node_ids,    \n",
    "        columns=node_ids)  "
   ]
  },
  {
   "cell_type": "code",
   "execution_count": null,
   "id": "98df51c4",
   "metadata": {},
   "outputs": [],
   "source": [
    "udf.to_latex(buf=\"results/uniform_traffic_matrix.txt\")"
   ]
  },
  {
   "cell_type": "code",
   "execution_count": null,
   "id": "b9dbc32e",
   "metadata": {},
   "outputs": [],
   "source": [
    "nudf.to_latex(buf=\"results/non_uniform_traffic_matrix.txt\")"
   ]
  },
  {
   "cell_type": "code",
   "execution_count": null,
   "id": "824916b4",
   "metadata": {},
   "outputs": [],
   "source": [
    "np.sum(generate_traffic_matrix(grav))"
   ]
  },
  {
   "cell_type": "code",
   "execution_count": null,
   "id": "9558433e",
   "metadata": {},
   "outputs": [],
   "source": [
    "np.sum(generate_traffic_matrix(uni))"
   ]
  },
  {
   "cell_type": "code",
   "execution_count": null,
   "id": "c1ea71c1",
   "metadata": {},
   "outputs": [],
   "source": [
    "np.sum(generate_traffic_matrix(non_uni))"
   ]
  },
  {
   "cell_type": "code",
   "execution_count": null,
   "id": "35ff4698",
   "metadata": {},
   "outputs": [],
   "source": [
    "sum(grav)"
   ]
  },
  {
   "cell_type": "code",
   "execution_count": null,
   "id": "d66d8594",
   "metadata": {},
   "outputs": [],
   "source": [
    "sum(uni)"
   ]
  },
  {
   "cell_type": "code",
   "execution_count": null,
   "id": "f2dc6fbf",
   "metadata": {},
   "outputs": [],
   "source": [
    "sum(non_uni)"
   ]
  },
  {
   "cell_type": "code",
   "execution_count": null,
   "id": "718ca224",
   "metadata": {},
   "outputs": [],
   "source": [
    "traffic_dis = np.array([[0, 2, 1, 1, 1, 4, 1, 1, 2, 1, 1, 1, 1, 1],\n",
    "                      [2, 0, 2, 1, 8, 2, 1, 5, 3, 5, 1, 5, 1, 4],\n",
    "                      [1, 2, 0, 2, 3, 2, 11, 20, 5, 2, 1, 1, 1, 2],\n",
    "                      [1, 1, 2, 0, 1, 1, 2, 1, 2, 2, 1, 2, 1, 2],\n",
    "                      [1, 8, 3, 1, 0, 3, 3, 7, 3, 3, 1, 5, 2, 5],\n",
    "                      [4, 2, 2, 1, 3, 0, 2, 1, 2, 2, 1, 1, 1, 2],\n",
    "                      [1, 1, 11, 2, 3, 2, 0, 9, 4, 20, 1, 8, 1, 4],\n",
    "                      [1, 5, 20, 1, 7, 1, 9, 0, 27, 7, 2, 3, 2, 4],\n",
    "                      [2, 3, 5, 2, 3, 2, 4, 27, 0, 75, 2, 9, 3, 1],\n",
    "                      [1, 5, 2, 2, 3, 2, 20, 7, 75, 0, 1, 1, 2, 1],\n",
    "                      [1, 1, 1, 1, 1, 1, 1, 2, 2, 1, 0, 2, 1, 61],\n",
    "                      [1, 5, 1, 2, 5, 1, 8, 3, 9, 1, 2, 0, 1, 81],\n",
    "                      [1, 1, 1, 1, 2, 1, 1, 2, 3, 2, 1, 1, 0, 2],\n",
    "                      [1, 4, 2, 2, 5, 2, 4, 4, 0, 1, 61, 81, 2, 0]])"
   ]
  },
  {
   "cell_type": "code",
   "execution_count": null,
   "id": "59766d6f",
   "metadata": {},
   "outputs": [],
   "source": [
    "np.sum(traffic_dis*1e-3)"
   ]
  },
  {
   "cell_type": "code",
   "execution_count": null,
   "id": "ebc9b16c",
   "metadata": {},
   "outputs": [],
   "source": [
    "cmdf = pd.DataFrame(data=traffic_dis,    # values\n",
    "        index=node_ids,    \n",
    "        columns=node_ids)  "
   ]
  },
  {
   "cell_type": "code",
   "execution_count": null,
   "id": "8dcbd858",
   "metadata": {},
   "outputs": [],
   "source": [
    "cmdf.to_latex(buf=\"results/chen_traffic_matrix.txt\")"
   ]
  },
  {
   "cell_type": "markdown",
   "id": "82402ca4",
   "metadata": {},
   "source": [
    "**Population-based traffic matrix NSFNET**"
   ]
  },
  {
   "cell_type": "code",
   "execution_count": null,
   "id": "53c55b94",
   "metadata": {},
   "outputs": [],
   "source": [
    "traffic_matrix = loadmat(\"results/T_NASFnet14.mat\")[\"T\"]"
   ]
  },
  {
   "cell_type": "code",
   "execution_count": null,
   "id": "4cb649f2",
   "metadata": {},
   "outputs": [],
   "source": [
    "np.sum(traffic_matrix)"
   ]
  },
  {
   "cell_type": "code",
   "execution_count": null,
   "id": "4c2e84e9",
   "metadata": {},
   "outputs": [],
   "source": [
    "traffic_matrix"
   ]
  },
  {
   "cell_type": "code",
   "execution_count": null,
   "id": "e5b11567",
   "metadata": {},
   "outputs": [],
   "source": [
    "node_probs_pop = traffic_mat_to_node_probs(traffic_matrix, 14)"
   ]
  },
  {
   "cell_type": "code",
   "execution_count": null,
   "id": "436cec01",
   "metadata": {},
   "outputs": [],
   "source": [
    "np.sum(node_probs_pop)"
   ]
  },
  {
   "cell_type": "code",
   "execution_count": null,
   "id": "b0711a45",
   "metadata": {},
   "outputs": [],
   "source": [
    "# pickle.dump(node_probs_pop, open(\"/Users/joshnevin/RL_FOCSLab/node_req_probs/nsfnet_population.pkl\",'wb'))"
   ]
  },
  {
   "cell_type": "markdown",
   "id": "7e3a2adb",
   "metadata": {},
   "source": [
    "**Population-based traffic matrix Google B4**"
   ]
  },
  {
   "cell_type": "code",
   "execution_count": null,
   "id": "381ef869",
   "metadata": {},
   "outputs": [],
   "source": [
    "traffic_matrix_gb4 = loadmat(\"results/GoogleB4_updated.mat\")[\"T\"]"
   ]
  },
  {
   "cell_type": "code",
   "execution_count": null,
   "id": "8c2fe97b",
   "metadata": {},
   "outputs": [],
   "source": [
    "np.sum(traffic_matrix_gb4)"
   ]
  },
  {
   "cell_type": "code",
   "execution_count": null,
   "id": "9e37a772",
   "metadata": {},
   "outputs": [],
   "source": [
    "node_probs_pop_gb4 = traffic_mat_to_node_probs(traffic_matrix_gb4, 12)"
   ]
  },
  {
   "cell_type": "code",
   "execution_count": null,
   "id": "cbc8bd76",
   "metadata": {},
   "outputs": [],
   "source": [
    "len(node_probs_pop_gb4)"
   ]
  },
  {
   "cell_type": "code",
   "execution_count": null,
   "id": "d9a6afbc",
   "metadata": {},
   "outputs": [],
   "source": [
    "np.sum(node_probs_pop_gb4)"
   ]
  },
  {
   "cell_type": "code",
   "execution_count": null,
   "id": "f2899564",
   "metadata": {},
   "outputs": [],
   "source": [
    "pickle.dump(node_probs_pop_gb4, open(\"/Users/joshnevin/RL_FOCSLab/node_req_probs/nsfnet_population_gb4.pkl\",'wb'))"
   ]
  },
  {
   "cell_type": "markdown",
   "id": "0d03715a",
   "metadata": {},
   "source": [
    "Round and generate LaTex table:"
   ]
  },
  {
   "cell_type": "code",
   "execution_count": null,
   "id": "396f134c",
   "metadata": {},
   "outputs": [],
   "source": [
    "traffic_matrix_rounded = (traffic_matrix.round(decimals=4)*1e4).astype(dtype=int)"
   ]
  },
  {
   "cell_type": "code",
   "execution_count": null,
   "id": "cd4a1d32",
   "metadata": {},
   "outputs": [],
   "source": [
    "node_ids = np.arange(1,15,1)\n",
    "pmdf = pd.DataFrame(data=traffic_matrix_rounded,    # values\n",
    "        index=node_ids,    \n",
    "        columns=node_ids)  \n",
    "pmdf.to_latex(buf=\"results/population_traffic_matrix.txt\")"
   ]
  },
  {
   "cell_type": "markdown",
   "id": "af715b9a",
   "metadata": {},
   "source": [
    "Matplotlib color stuff:"
   ]
  },
  {
   "cell_type": "code",
   "execution_count": null,
   "id": "3dad1ec2",
   "metadata": {},
   "outputs": [],
   "source": [
    "class MplColorHelper:\n",
    "\n",
    "  def __init__(self, cmap_name, start_val, stop_val):\n",
    "    self.cmap_name = cmap_name\n",
    "    self.cmap = plt.get_cmap(cmap_name)\n",
    "    self.norm = matplotlib.colors.Normalize(vmin=start_val, vmax=stop_val)\n",
    "    self.scalarMap = cm.ScalarMappable(norm=self.norm, cmap=self.cmap)\n",
    "\n",
    "  def get_rgb(self, val):\n",
    "    return self.scalarMap.to_rgba(val)"
   ]
  },
  {
   "cell_type": "code",
   "execution_count": null,
   "id": "a46b2deb",
   "metadata": {},
   "outputs": [],
   "source": [
    "# plt.rcParams[\"figure.figsize\"] = [7.00, 3.50]\n",
    "# plt.rcParams[\"figure.autolayout\"] = True\n",
    "x = np.arange(12)\n",
    "y = x**2 + 5\n",
    "# c = np.random.rand(len(x)) * 3 + 1.5\n",
    "# df = pd.DataFrame({\"x\": x, \"y\": y, \"c\": c})\n",
    "df = pd.DataFrame({\"x\": x, \"y\": y})\n",
    "\n",
    "fig, ax = plt.subplots()\n",
    "cmap = plt.cm.hot\n",
    "norm = colors.Normalize(vmin=np.min(y), vmax=np.max(y))\n",
    "ax.scatter(df.x, df.y, color=cmap(norm(df.y.values)))\n",
    "ax.set_xticks(df.x)\n",
    "sm = plt.cm.ScalarMappable(cmap=cmap, norm=norm)\n",
    "fig.colorbar(sm)\n",
    "# plt.ylim([min(y),max(y)])\n",
    "plt.show()"
   ]
  },
  {
   "cell_type": "code",
   "execution_count": null,
   "id": "1c90e6a2",
   "metadata": {},
   "outputs": [],
   "source": [
    "COL = MplColorHelper('hot', np.min(y), np.max(y))"
   ]
  },
  {
   "cell_type": "code",
   "execution_count": null,
   "id": "f18c7036",
   "metadata": {},
   "outputs": [],
   "source": [
    "COL.get_rgb(y)"
   ]
  },
  {
   "cell_type": "code",
   "execution_count": null,
   "id": "a9615c5f",
   "metadata": {},
   "outputs": [],
   "source": [
    "colours_dict = {\"local_optima\": result_m_shgo.xl}\n",
    "# savemat(\"opt_results/\"+env_id+str(int(threshold))+kernel+\".mat\", local_opt_dict)\n",
    "savemat(\"results/rgb_link_utils.mat\", local_opt_dict)"
   ]
  },
  {
   "cell_type": "code",
   "execution_count": null,
   "id": "64a46ac9",
   "metadata": {},
   "outputs": [],
   "source": [
    "fig, ax = plt.subplots()\n",
    "ax.scatter(df.x, df.y, color=COL.get_rgb(y))\n",
    "ax.set_xticks(df.x)\n",
    "plt.show()"
   ]
  },
  {
   "cell_type": "code",
   "execution_count": null,
   "id": "2fdddaa5",
   "metadata": {},
   "outputs": [],
   "source": [
    "y"
   ]
  },
  {
   "cell_type": "code",
   "execution_count": null,
   "id": "222c2e50",
   "metadata": {},
   "outputs": [],
   "source": [
    "np.min(y)"
   ]
  },
  {
   "cell_type": "code",
   "execution_count": null,
   "id": "639b5008",
   "metadata": {},
   "outputs": [],
   "source": [
    "np.max(y)"
   ]
  },
  {
   "cell_type": "code",
   "execution_count": null,
   "id": "1855f546",
   "metadata": {},
   "outputs": [],
   "source": [
    "plt.plot(x,y)"
   ]
  },
  {
   "cell_type": "code",
   "execution_count": null,
   "id": "421313b1",
   "metadata": {},
   "outputs": [],
   "source": []
  }
 ],
 "metadata": {
  "kernelspec": {
   "display_name": "Python 3 (ipykernel)",
   "language": "python",
   "name": "python3"
  },
  "language_info": {
   "codemirror_mode": {
    "name": "ipython",
    "version": 3
   },
   "file_extension": ".py",
   "mimetype": "text/x-python",
   "name": "python",
   "nbconvert_exporter": "python",
   "pygments_lexer": "ipython3",
   "version": "3.7.12"
  }
 },
 "nbformat": 4,
 "nbformat_minor": 5
}
