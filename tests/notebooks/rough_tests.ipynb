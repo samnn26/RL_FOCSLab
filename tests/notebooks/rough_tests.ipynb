{
 "cells": [
  {
   "cell_type": "code",
   "execution_count": 22,
   "id": "74eb777e",
   "metadata": {},
   "outputs": [],
   "source": [
    "import numpy as np\n",
    "import random\n",
    "import gym\n",
    "import matplotlib.pyplot as plt\n",
    "import pickle\n",
    "import pandas as pd"
   ]
  },
  {
   "cell_type": "code",
   "execution_count": null,
   "id": "3bf194b4",
   "metadata": {},
   "outputs": [],
   "source": [
    "((1.732*1000)/25)*100"
   ]
  },
  {
   "cell_type": "code",
   "execution_count": null,
   "id": "6d091ecb",
   "metadata": {},
   "outputs": [],
   "source": [
    "1250*7"
   ]
  },
  {
   "cell_type": "code",
   "execution_count": null,
   "id": "6a22c258",
   "metadata": {},
   "outputs": [],
   "source": [
    "1/14"
   ]
  },
  {
   "cell_type": "code",
   "execution_count": null,
   "id": "d12f5646",
   "metadata": {},
   "outputs": [],
   "source": [
    "uni_prob = 1/14\n",
    "# node_request_probabilities = np.ones(14)*uni_prob + np.random.uniform(0,uni_prob*0.05, 14)"
   ]
  },
  {
   "cell_type": "markdown",
   "id": "17ef7b5c",
   "metadata": {},
   "source": [
    "Generated perturbation on first run with seed of 9"
   ]
  },
  {
   "cell_type": "code",
   "execution_count": null,
   "id": "2e038dea",
   "metadata": {},
   "outputs": [],
   "source": [
    "rng_np = np.random.default_rng(9)\n",
    "pert = 0.5\n",
    "node_request_probabilities = np.ones(14) + rng_np.uniform(-pert, pert, 14)"
   ]
  },
  {
   "cell_type": "code",
   "execution_count": null,
   "id": "f621c13a",
   "metadata": {},
   "outputs": [],
   "source": [
    "node_request_probabilities = node_request_probabilities/np.sum(node_request_probabilities)"
   ]
  },
  {
   "cell_type": "code",
   "execution_count": null,
   "id": "c9bd59f0",
   "metadata": {},
   "outputs": [],
   "source": [
    "np.sum(node_request_probabilities)"
   ]
  },
  {
   "cell_type": "code",
   "execution_count": null,
   "id": "3b45ea51",
   "metadata": {},
   "outputs": [],
   "source": [
    "node_request_probabilities"
   ]
  },
  {
   "cell_type": "code",
   "execution_count": null,
   "id": "db3cf168",
   "metadata": {},
   "outputs": [],
   "source": [
    "pickle.dump(node_request_probabilities, open(\"/Users/joshnevin/RL_FOCSLab/node_req_probs/14_node_uniform_pert\"+str(int(pert*100))+\".pkl\",'wb'))"
   ]
  },
  {
   "cell_type": "code",
   "execution_count": 2,
   "id": "a403aa96",
   "metadata": {},
   "outputs": [],
   "source": [
    "non_uni = pickle.load(open(\"/Users/joshnevin/RL_FOCSLab/node_req_probs/14_node_uniform_pert50.pkl\",'rb'))\n",
    "uni = pickle.load(open(\"/Users/joshnevin/RL_FOCSLab/node_req_probs/14_node_uniform.pkl\",'rb'))\n",
    "grav = pickle.load(open(\"/Users/joshnevin/RL_FOCSLab/node_req_probs/nsfnet_chen_gravity.pkl\",'rb'))"
   ]
  },
  {
   "cell_type": "code",
   "execution_count": 9,
   "id": "cb6dfa05",
   "metadata": {},
   "outputs": [],
   "source": [
    "def generate_traffic_matrix(node_reqs):\n",
    "    probs = np.zeros([len(node_reqs),len(node_reqs)])\n",
    "    for i in range(len(node_reqs)):\n",
    "        for j in range(len(node_reqs)):\n",
    "            if i != j:\n",
    "                new_node_reqs = np.copy(node_reqs)\n",
    "                new_node_reqs[i] = 0.\n",
    "                new_node_reqs = new_node_reqs/np.sum(new_node_reqs)\n",
    "                probs[i,j] = node_reqs[i] * new_node_reqs[j]\n",
    "    return probs"
   ]
  },
  {
   "cell_type": "code",
   "execution_count": 97,
   "id": "8a39441e",
   "metadata": {},
   "outputs": [],
   "source": [
    "uniform_matrix = (generate_traffic_matrix(uni).round(decimals=4)*10000).astype(dtype=int)\n",
    "non_uniform_matrix = (generate_traffic_matrix(non_uni).round(decimals=4)*10000).astype(dtype=int)"
   ]
  },
  {
   "cell_type": "code",
   "execution_count": 99,
   "id": "a6f211e5",
   "metadata": {},
   "outputs": [],
   "source": [
    "node_ids = np.arange(1,15,1)"
   ]
  },
  {
   "cell_type": "code",
   "execution_count": 100,
   "id": "b3100819",
   "metadata": {},
   "outputs": [],
   "source": [
    "udf = pd.DataFrame(data=uniform_matrix[:,:],    # values\n",
    "        index=node_ids,    \n",
    "        columns=node_ids)  \n",
    "nudf = pd.DataFrame(data=non_uniform_matrix[:,:],    # values\n",
    "        index=node_ids,    \n",
    "        columns=node_ids)  "
   ]
  },
  {
   "cell_type": "code",
   "execution_count": 101,
   "id": "add912fb",
   "metadata": {},
   "outputs": [],
   "source": [
    "udf.to_latex(buf=\"results/uniform_traffic_matrix.txt\")"
   ]
  },
  {
   "cell_type": "code",
   "execution_count": 102,
   "id": "b42d2e7d",
   "metadata": {},
   "outputs": [],
   "source": [
    "nudf.to_latex(buf=\"results/non_uniform_traffic_matrix.txt\")"
   ]
  },
  {
   "cell_type": "code",
   "execution_count": 12,
   "id": "7b6be380",
   "metadata": {},
   "outputs": [
    {
     "data": {
      "text/plain": [
       "1.00000001"
      ]
     },
     "execution_count": 12,
     "metadata": {},
     "output_type": "execute_result"
    }
   ],
   "source": [
    "np.sum(generate_traffic_matrix(grav))"
   ]
  },
  {
   "cell_type": "code",
   "execution_count": 13,
   "id": "4bc47c10",
   "metadata": {},
   "outputs": [
    {
     "data": {
      "text/plain": [
       "1.0000000000000002"
      ]
     },
     "execution_count": 13,
     "metadata": {},
     "output_type": "execute_result"
    }
   ],
   "source": [
    "np.sum(generate_traffic_matrix(uni))"
   ]
  },
  {
   "cell_type": "code",
   "execution_count": 14,
   "id": "b02ca7dd",
   "metadata": {},
   "outputs": [
    {
     "data": {
      "text/plain": [
       "1.0000000000000002"
      ]
     },
     "execution_count": 14,
     "metadata": {},
     "output_type": "execute_result"
    }
   ],
   "source": [
    "np.sum(generate_traffic_matrix(non_uni))"
   ]
  },
  {
   "cell_type": "code",
   "execution_count": 15,
   "id": "35ff4698",
   "metadata": {},
   "outputs": [
    {
     "data": {
      "text/plain": [
       "1.00000001"
      ]
     },
     "execution_count": 15,
     "metadata": {},
     "output_type": "execute_result"
    }
   ],
   "source": [
    "sum(grav)"
   ]
  },
  {
   "cell_type": "code",
   "execution_count": 16,
   "id": "d66d8594",
   "metadata": {},
   "outputs": [
    {
     "data": {
      "text/plain": [
       "0.9999999999999997"
      ]
     },
     "execution_count": 16,
     "metadata": {},
     "output_type": "execute_result"
    }
   ],
   "source": [
    "sum(uni)"
   ]
  },
  {
   "cell_type": "code",
   "execution_count": 17,
   "id": "f2dc6fbf",
   "metadata": {},
   "outputs": [
    {
     "data": {
      "text/plain": [
       "1.0"
      ]
     },
     "execution_count": 17,
     "metadata": {},
     "output_type": "execute_result"
    }
   ],
   "source": [
    "sum(non_uni)"
   ]
  },
  {
   "cell_type": "code",
   "execution_count": null,
   "id": "56ac0db2",
   "metadata": {},
   "outputs": [],
   "source": [
    "probs = np.zeros([len(uni),len(uni)])\n",
    "for i in range(len(non_uni)):\n",
    "    for j in range(len(non_uni)):\n",
    "        if i != j:\n",
    "            probs[i,j] = non_uni[i] * non_uni[j]\n",
    "np.sum(probs)"
   ]
  },
  {
   "cell_type": "code",
   "execution_count": null,
   "id": "0f6317ea",
   "metadata": {},
   "outputs": [],
   "source": [
    "probs = np.zeros([len(uni),len(uni)])\n",
    "for i in range(len(non_uni)):\n",
    "    for j in range(len(non_uni)):\n",
    "        if i != j:\n",
    "            probs[i,j] = uni[i] * uni[j]\n",
    "np.sum(probs)"
   ]
  },
  {
   "cell_type": "code",
   "execution_count": null,
   "id": "b1a1fdda",
   "metadata": {},
   "outputs": [],
   "source": [
    "probs = np.zeros([len(uni),len(uni)])\n",
    "for i in range(len(non_uni)):\n",
    "    for j in range(len(non_uni)):\n",
    "#         if i != j:\n",
    "            probs[i,j] = grav[i] * grav[j]\n",
    "np.sum(probs)"
   ]
  },
  {
   "cell_type": "code",
   "execution_count": null,
   "id": "87908325",
   "metadata": {},
   "outputs": [],
   "source": [
    "probs = 0\n",
    "for i in range(len(non_uni)):\n",
    "    for j in range(len(non_uni)):\n",
    "        if i != j:\n",
    "            probs += grav[i] * grav[j]\n",
    "np.sum(probs)"
   ]
  },
  {
   "cell_type": "code",
   "execution_count": null,
   "id": "718ca224",
   "metadata": {},
   "outputs": [],
   "source": []
  }
 ],
 "metadata": {
  "kernelspec": {
   "display_name": "Python 3 (ipykernel)",
   "language": "python",
   "name": "python3"
  },
  "language_info": {
   "codemirror_mode": {
    "name": "ipython",
    "version": 3
   },
   "file_extension": ".py",
   "mimetype": "text/x-python",
   "name": "python",
   "nbconvert_exporter": "python",
   "pygments_lexer": "ipython3",
   "version": "3.7.12"
  }
 },
 "nbformat": 4,
 "nbformat_minor": 5
}
