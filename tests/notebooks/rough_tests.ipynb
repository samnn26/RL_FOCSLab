{
 "cells": [
  {
   "cell_type": "code",
   "execution_count": 1,
   "id": "74eb777e",
   "metadata": {},
   "outputs": [],
   "source": [
    "from collections import defaultdict\n",
    "import numpy as np"
   ]
  },
  {
   "cell_type": "code",
   "execution_count": 9,
   "id": "d39bbbe4",
   "metadata": {},
   "outputs": [],
   "source": [
    "def check_if_val_occurs_n_times(lst, n):\n",
    "        # Dictionary declaration\n",
    "        dic = defaultdict(int)\n",
    "        for i in lst:\n",
    "            dic[i]+= 1\n",
    "        flag = 0\n",
    "        # Finding from dictionary\n",
    "        for element in lst:\n",
    "            if element in dic.keys() and dic[element] == n:\n",
    "                return element\n",
    "        # if element not found.\n",
    "        if flag == 0:\n",
    "            return -1"
   ]
  },
  {
   "cell_type": "code",
   "execution_count": 2,
   "id": "1a54910d",
   "metadata": {},
   "outputs": [],
   "source": [
    "arr = np.zeros([100,10], dtype=float)"
   ]
  },
  {
   "cell_type": "code",
   "execution_count": 3,
   "id": "d91131d5",
   "metadata": {},
   "outputs": [
    {
     "data": {
      "text/plain": [
       "(100, 10)"
      ]
     },
     "execution_count": 3,
     "metadata": {},
     "output_type": "execute_result"
    }
   ],
   "source": [
    "arr.shape"
   ]
  },
  {
   "cell_type": "code",
   "execution_count": 6,
   "id": "fda5be2b",
   "metadata": {},
   "outputs": [
    {
     "data": {
      "text/plain": [
       "(1000,)"
      ]
     },
     "execution_count": 6,
     "metadata": {},
     "output_type": "execute_result"
    }
   ],
   "source": [
    "arr.flatten().shape"
   ]
  },
  {
   "cell_type": "code",
   "execution_count": 8,
   "id": "ccf5e446",
   "metadata": {},
   "outputs": [],
   "source": [
    "net_arch=5*[128]"
   ]
  },
  {
   "cell_type": "code",
   "execution_count": 9,
   "id": "f81f8b64",
   "metadata": {},
   "outputs": [
    {
     "data": {
      "text/plain": [
       "[128, 128, 128, 128, 128]"
      ]
     },
     "execution_count": 9,
     "metadata": {},
     "output_type": "execute_result"
    }
   ],
   "source": [
    "net_arch"
   ]
  },
  {
   "cell_type": "code",
   "execution_count": 18,
   "id": "b1c44e9c",
   "metadata": {},
   "outputs": [
    {
     "data": {
      "text/plain": [
       "1"
      ]
     },
     "execution_count": 18,
     "metadata": {},
     "output_type": "execute_result"
    }
   ],
   "source": [
    "np.random.poisson(lam=1.0)"
   ]
  },
  {
   "cell_type": "code",
   "execution_count": null,
   "id": "d2f81826",
   "metadata": {},
   "outputs": [],
   "source": []
  },
  {
   "cell_type": "code",
   "execution_count": null,
   "id": "0d626920",
   "metadata": {},
   "outputs": [],
   "source": []
  }
 ],
 "metadata": {
  "kernelspec": {
   "display_name": "Python 3 (ipykernel)",
   "language": "python",
   "name": "python3"
  },
  "language_info": {
   "codemirror_mode": {
    "name": "ipython",
    "version": 3
   },
   "file_extension": ".py",
   "mimetype": "text/x-python",
   "name": "python",
   "nbconvert_exporter": "python",
   "pygments_lexer": "ipython3",
   "version": "3.7.12"
  }
 },
 "nbformat": 4,
 "nbformat_minor": 5
}
