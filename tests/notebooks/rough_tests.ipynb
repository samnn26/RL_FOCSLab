{
 "cells": [
  {
   "cell_type": "code",
   "execution_count": 1,
   "id": "74eb777e",
   "metadata": {},
   "outputs": [],
   "source": [
    "import numpy as np\n",
    "import random\n",
    "import gym\n",
    "import matplotlib.pyplot as plt"
   ]
  },
  {
   "cell_type": "code",
   "execution_count": 6,
   "id": "3bf194b4",
   "metadata": {},
   "outputs": [
    {
     "data": {
      "text/plain": [
       "6928.0"
      ]
     },
     "execution_count": 6,
     "metadata": {},
     "output_type": "execute_result"
    }
   ],
   "source": [
    "((1.732*1000)/25)*100"
   ]
  },
  {
   "cell_type": "code",
   "execution_count": 20,
   "id": "9aab7783",
   "metadata": {},
   "outputs": [
    {
     "data": {
      "text/plain": [
       "array([[0.19323801, 0.62677901, 0.95796776, 0.15537337, 0.86759173,\n",
       "        0.57453128],\n",
       "       [0.69534891, 0.42064036, 0.75582526, 0.20886922, 0.85110325,\n",
       "        0.5663599 ],\n",
       "       [0.40826471, 0.1928036 , 0.12729441, 0.60901695, 0.30862346,\n",
       "        0.1871906 ],\n",
       "       [0.86387955, 0.4889984 , 0.71635671, 0.94925964, 0.40297252,\n",
       "        0.92871621]])"
      ]
     },
     "execution_count": 20,
     "metadata": {},
     "output_type": "execute_result"
    }
   ],
   "source": [
    "arr = np.random.rand(4,6)\n",
    "arr"
   ]
  },
  {
   "cell_type": "code",
   "execution_count": 22,
   "id": "ad868d24",
   "metadata": {},
   "outputs": [
    {
     "data": {
      "text/plain": [
       "[0.1932380057220553,\n",
       " 0.6267790120386201,\n",
       " 0.9579677618720887,\n",
       " 0.15537336838824456,\n",
       " 0.867591728400936,\n",
       " 0.5745312765427252,\n",
       " 0.6953489113334864,\n",
       " 0.42064035569097213,\n",
       " 0.7558252611208183,\n",
       " 0.20886922409057895,\n",
       " 0.8511032543115289,\n",
       " 0.5663598996544016,\n",
       " 0.4082647132340832,\n",
       " 0.1928036029868927,\n",
       " 0.1272944095999673,\n",
       " 0.609016949685497,\n",
       " 0.3086234615200242,\n",
       " 0.18719060404939514,\n",
       " 0.8638795542885722,\n",
       " 0.4889984031263678,\n",
       " 0.7163567059625993,\n",
       " 0.949259635704652,\n",
       " 0.4029725203401562,\n",
       " 0.9287162055455298]"
      ]
     },
     "execution_count": 22,
     "metadata": {},
     "output_type": "execute_result"
    }
   ],
   "source": [
    "arr.flatten().tolist()"
   ]
  },
  {
   "cell_type": "code",
   "execution_count": 23,
   "id": "232a2c43",
   "metadata": {},
   "outputs": [
    {
     "data": {
      "text/plain": [
       "array([[0., 0., 0., 0., 0., 0.],\n",
       "       [0., 0., 0., 0., 0., 0.],\n",
       "       [0., 0., 0., 0., 0., 0.],\n",
       "       [0., 0., 0., 0., 0., 0.]])"
      ]
     },
     "execution_count": 23,
     "metadata": {},
     "output_type": "execute_result"
    }
   ],
   "source": [
    "arr - np.array(arr.flatten().tolist()).reshape(4,6)"
   ]
  },
  {
   "cell_type": "code",
   "execution_count": 4,
   "id": "baa92bd1",
   "metadata": {},
   "outputs": [
    {
     "data": {
      "text/plain": [
       "10"
      ]
     },
     "execution_count": 4,
     "metadata": {},
     "output_type": "execute_result"
    }
   ],
   "source": [
    "int(1099/100)"
   ]
  },
  {
   "cell_type": "code",
   "execution_count": 39,
   "id": "d5a3fd58",
   "metadata": {},
   "outputs": [],
   "source": [
    "def new_feature(x):\n",
    "    if x == 0:\n",
    "        y = 0\n",
    "    else:\n",
    "        y = -x*np.log(x)\n",
    "    return y"
   ]
  },
  {
   "cell_type": "code",
   "execution_count": 40,
   "id": "a3edd16b",
   "metadata": {},
   "outputs": [],
   "source": [
    "x = np.linspace(0,1,10000)"
   ]
  },
  {
   "cell_type": "code",
   "execution_count": 41,
   "id": "a84fee39",
   "metadata": {},
   "outputs": [],
   "source": [
    "y = [new_feature(i) for i in x]"
   ]
  },
  {
   "cell_type": "code",
   "execution_count": 42,
   "id": "8d0098b0",
   "metadata": {},
   "outputs": [
    {
     "data": {
      "image/png": "[encoded data removed]",
      "text/plain": [
       "<Figure size 432x288 with 1 Axes>"
      ]
     },
     "metadata": {
      "needs_background": "light"
     },
     "output_type": "display_data"
    }
   ],
   "source": [
    "plt.plot(x,y)\n",
    "plt.show()"
   ]
  },
  {
   "cell_type": "code",
   "execution_count": 43,
   "id": "26eb0b59",
   "metadata": {},
   "outputs": [
    {
     "data": {
      "text/plain": [
       "0.36787943869817"
      ]
     },
     "execution_count": 43,
     "metadata": {},
     "output_type": "execute_result"
    }
   ],
   "source": [
    "max(y)"
   ]
  },
  {
   "cell_type": "code",
   "execution_count": 44,
   "id": "a5b5a281",
   "metadata": {},
   "outputs": [
    {
     "data": {
      "text/plain": [
       "0"
      ]
     },
     "execution_count": 44,
     "metadata": {},
     "output_type": "execute_result"
    }
   ],
   "source": [
    "min(y)"
   ]
  },
  {
   "cell_type": "code",
   "execution_count": 16,
   "id": "151f6800",
   "metadata": {},
   "outputs": [
    {
     "name": "stderr",
     "output_type": "stream",
     "text": [
      "/Users/joshnevin/.pyenv/versions/3.7.12/envs/rlenvsb3cont/lib/python3.7/site-packages/ipykernel_launcher.py:1: RuntimeWarning: divide by zero encountered in log10\n",
      "  \"\"\"Entry point for launching an IPython kernel.\n"
     ]
    },
    {
     "data": {
      "text/plain": [
       "-inf"
      ]
     },
     "execution_count": 16,
     "metadata": {},
     "output_type": "execute_result"
    }
   ],
   "source": [
    "np.log10(0)"
   ]
  },
  {
   "cell_type": "code",
   "execution_count": null,
   "id": "d66d8594",
   "metadata": {},
   "outputs": [],
   "source": []
  }
 ],
 "metadata": {
  "kernelspec": {
   "display_name": "Python 3 (ipykernel)",
   "language": "python",
   "name": "python3"
  },
  "language_info": {
   "codemirror_mode": {
    "name": "ipython",
    "version": 3
   },
   "file_extension": ".py",
   "mimetype": "text/x-python",
   "name": "python",
   "nbconvert_exporter": "python",
   "pygments_lexer": "ipython3",
   "version": "3.7.12"
  }
 },
 "nbformat": 4,
 "nbformat_minor": 5
}
