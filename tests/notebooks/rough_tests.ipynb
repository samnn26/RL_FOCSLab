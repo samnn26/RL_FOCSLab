{
 "cells": [
  {
   "cell_type": "code",
   "execution_count": 1,
   "id": "74eb777e",
   "metadata": {},
   "outputs": [],
   "source": [
    "import numpy as np\n",
    "import random\n",
    "import gym"
   ]
  },
  {
   "cell_type": "code",
   "execution_count": 26,
   "id": "ed282e16",
   "metadata": {},
   "outputs": [
    {
     "data": {
      "text/plain": [
       "(105,)"
      ]
     },
     "execution_count": 26,
     "metadata": {},
     "output_type": "execute_result"
    }
   ],
   "source": [
    "dims = [5,100]\n",
    "np.arange(sum(dims)).shape"
   ]
  },
  {
   "cell_type": "code",
   "execution_count": 29,
   "id": "c039304f",
   "metadata": {},
   "outputs": [
    {
     "data": {
      "text/plain": [
       "105"
      ]
     },
     "execution_count": 29,
     "metadata": {},
     "output_type": "execute_result"
    }
   ],
   "source": [
    "len([True]*105)"
   ]
  },
  {
   "cell_type": "code",
   "execution_count": null,
   "id": "19842e18",
   "metadata": {},
   "outputs": [],
   "source": [
    "space = gym.spaces.Discrete(500)\n",
    "samples = []\n",
    "for _ in range(20):\n",
    "    samples.append(space.sample())\n",
    "samples"
   ]
  },
  {
   "cell_type": "code",
   "execution_count": null,
   "id": "29eb26d8",
   "metadata": {},
   "outputs": [],
   "source": [
    "space = gym.spaces.MultiBinary(1528)\n",
    "samples = []\n",
    "for _ in range(10):\n",
    "    samples.append(space.sample())\n",
    "samples[0][:100]"
   ]
  },
  {
   "cell_type": "code",
   "execution_count": null,
   "id": "64e52d77",
   "metadata": {},
   "outputs": [],
   "source": [
    "lst = (np.ones(1528)*2).tolist()\n",
    "space = gym.spaces.MultiDiscrete(lst)\n",
    "samples = []\n",
    "for _ in range(10):\n",
    "    samples.append(space.sample())\n",
    "samples[0][:100]"
   ]
  },
  {
   "cell_type": "code",
   "execution_count": null,
   "id": "6c89c75f",
   "metadata": {},
   "outputs": [],
   "source": [
    "type(samples[0][0])"
   ]
  },
  {
   "cell_type": "markdown",
   "id": "08772aa1",
   "metadata": {},
   "source": [
    "Select the value of k and channel from the list of lightpaths"
   ]
  },
  {
   "cell_type": "code",
   "execution_count": 81,
   "id": "c27ebf8b",
   "metadata": {},
   "outputs": [
    {
     "data": {
      "text/plain": [
       "1"
      ]
     },
     "execution_count": 81,
     "metadata": {},
     "output_type": "execute_result"
    }
   ],
   "source": [
    "action = 0\n",
    "num_wavelengths = 5\n",
    "path = int(np.floor(action / num_wavelengths) + 1)\n",
    "path"
   ]
  },
  {
   "cell_type": "code",
   "execution_count": 75,
   "id": "946d5c40",
   "metadata": {},
   "outputs": [
    {
     "data": {
      "text/plain": [
       "0"
      ]
     },
     "execution_count": 75,
     "metadata": {},
     "output_type": "execute_result"
    }
   ],
   "source": [
    "wavelength = action - int(np.floor(action / num_wavelengths))*num_wavelengths\n",
    "wavelength"
   ]
  },
  {
   "cell_type": "code",
   "execution_count": 78,
   "id": "216bc9ac",
   "metadata": {},
   "outputs": [],
   "source": [
    "test = 0\n",
    "if test:\n",
    "    print(\"hello\")"
   ]
  },
  {
   "cell_type": "code",
   "execution_count": 2,
   "id": "dc24c5d9",
   "metadata": {},
   "outputs": [],
   "source": [
    "def get_one_hot(value, num_classes):\n",
    "        if value >= num_classes:\n",
    "            raise ValueError(\"Value exceeds number of classes.\")\n",
    "        return [1 if i==value else 0 for i in range(num_classes)]"
   ]
  },
  {
   "cell_type": "code",
   "execution_count": 4,
   "id": "b4148b01",
   "metadata": {},
   "outputs": [
    {
     "data": {
      "text/plain": [
       "[1, 0, 0, 0, 0, 0, 0, 0, 0, 0, 0, 0, 0, 0]"
      ]
     },
     "execution_count": 4,
     "metadata": {},
     "output_type": "execute_result"
    }
   ],
   "source": [
    "get_one_hot(0,14)"
   ]
  },
  {
   "cell_type": "code",
   "execution_count": 61,
   "id": "3ef852e4",
   "metadata": {},
   "outputs": [],
   "source": [
    "lst = np.ones(500,dtype=int).tolist()"
   ]
  },
  {
   "cell_type": "code",
   "execution_count": 63,
   "id": "9383d34e",
   "metadata": {},
   "outputs": [],
   "source": [
    "lstOH = []\n",
    "for i in range(len(lst)):\n",
    "    lstOH += get_one_hot(lst[i],3)"
   ]
  },
  {
   "cell_type": "code",
   "execution_count": 37,
   "id": "66711259",
   "metadata": {},
   "outputs": [
    {
     "data": {
      "text/plain": [
       "[[1, 0, 0], [0, 1, 0], [0, 0, 1], [1, 0, 0], [0, 1, 0], [0, 0, 1]]"
      ]
     },
     "execution_count": 37,
     "metadata": {},
     "output_type": "execute_result"
    }
   ],
   "source": [
    "lst = [] + [get_one_hot(i,3) for i in lst]\n",
    "lst"
   ]
  },
  {
   "cell_type": "code",
   "execution_count": 21,
   "id": "b11699da",
   "metadata": {},
   "outputs": [],
   "source": [
    "rng = random.Random(41)"
   ]
  },
  {
   "cell_type": "code",
   "execution_count": 22,
   "id": "df1f6cca",
   "metadata": {},
   "outputs": [],
   "source": [
    "lst = [0, 0, 0, 0, 0]"
   ]
  },
  {
   "cell_type": "code",
   "execution_count": 23,
   "id": "605b4294",
   "metadata": {},
   "outputs": [
    {
     "data": {
      "text/plain": [
       "[False, False, False, True, False]"
      ]
     },
     "execution_count": 23,
     "metadata": {},
     "output_type": "execute_result"
    }
   ],
   "source": [
    "lst[rng.choice(np.arange(len(lst)))] = 1\n",
    "boollst = [i != 0 for i in lst]\n",
    "boollst"
   ]
  },
  {
   "cell_type": "code",
   "execution_count": 64,
   "id": "c7929b90",
   "metadata": {},
   "outputs": [
    {
     "data": {
      "text/plain": [
       "501"
      ]
     },
     "execution_count": 64,
     "metadata": {},
     "output_type": "execute_result"
    }
   ],
   "source": [
    "5 * 100 + 1"
   ]
  },
  {
   "cell_type": "code",
   "execution_count": null,
   "id": "a3edd16b",
   "metadata": {},
   "outputs": [],
   "source": []
  }
 ],
 "metadata": {
  "kernelspec": {
   "display_name": "Python 3 (ipykernel)",
   "language": "python",
   "name": "python3"
  },
  "language_info": {
   "codemirror_mode": {
    "name": "ipython",
    "version": 3
   },
   "file_extension": ".py",
   "mimetype": "text/x-python",
   "name": "python",
   "nbconvert_exporter": "python",
   "pygments_lexer": "ipython3",
   "version": "3.7.12"
  }
 },
 "nbformat": 4,
 "nbformat_minor": 5
}
