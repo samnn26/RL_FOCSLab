{
 "cells": [
  {
   "cell_type": "code",
   "execution_count": 42,
   "id": "74eb777e",
   "metadata": {},
   "outputs": [],
   "source": [
    "import numpy as np\n",
    "import random\n",
    "import gym\n",
    "import matplotlib.pyplot as plt\n",
    "import matplotlib.cm as cm\n",
    "import matplotlib.colors as colors\n",
    "import matplotlib\n",
    "import pickle\n",
    "import pandas as pd\n",
    "from scipy.io import savemat, loadmat\n",
    "import networkx as nx"
   ]
  },
  {
   "cell_type": "code",
   "execution_count": null,
   "id": "6a22c258",
   "metadata": {},
   "outputs": [],
   "source": [
    "1/14"
   ]
  },
  {
   "cell_type": "code",
   "execution_count": null,
   "id": "d12f5646",
   "metadata": {},
   "outputs": [],
   "source": [
    "uni_prob = 1/14\n",
    "# node_request_probabilities = np.ones(14)*uni_prob + np.random.uniform(0,uni_prob*0.05, 14)"
   ]
  },
  {
   "cell_type": "markdown",
   "id": "17ef7b5c",
   "metadata": {},
   "source": [
    "Generated perturbation on first run with seed of 9"
   ]
  },
  {
   "cell_type": "code",
   "execution_count": null,
   "id": "2e038dea",
   "metadata": {},
   "outputs": [],
   "source": [
    "rng_np = np.random.default_rng(9)\n",
    "pert = 0.5\n",
    "node_request_probabilities = np.ones(14) + rng_np.uniform(-pert, pert, 14)"
   ]
  },
  {
   "cell_type": "code",
   "execution_count": null,
   "id": "f621c13a",
   "metadata": {},
   "outputs": [],
   "source": [
    "node_request_probabilities = node_request_probabilities/np.sum(node_request_probabilities)"
   ]
  },
  {
   "cell_type": "code",
   "execution_count": null,
   "id": "c9bd59f0",
   "metadata": {},
   "outputs": [],
   "source": [
    "np.sum(node_request_probabilities)"
   ]
  },
  {
   "cell_type": "code",
   "execution_count": null,
   "id": "3b45ea51",
   "metadata": {},
   "outputs": [],
   "source": [
    "node_request_probabilities"
   ]
  },
  {
   "cell_type": "code",
   "execution_count": null,
   "id": "db3cf168",
   "metadata": {},
   "outputs": [],
   "source": [
    "pickle.dump(node_request_probabilities, open(\"/Users/joshnevin/RL_FOCSLab/node_req_probs/14_node_uniform_pert\"+str(int(pert*100))+\".pkl\",'wb'))"
   ]
  },
  {
   "cell_type": "code",
   "execution_count": 33,
   "id": "a403aa96",
   "metadata": {},
   "outputs": [],
   "source": [
    "non_uni = pickle.load(open(\"/Users/joshnevin/RL_FOCSLab/node_req_probs/14_node_uniform_pert50.pkl\",'rb'))\n",
    "uni = pickle.load(open(\"/Users/joshnevin/RL_FOCSLab/node_req_probs/14_node_uniform.pkl\",'rb'))\n",
    "grav = pickle.load(open(\"/Users/joshnevin/RL_FOCSLab/node_req_probs/nsfnet_chen_gravity.pkl\",'rb'))"
   ]
  },
  {
   "cell_type": "code",
   "execution_count": null,
   "id": "762273b9",
   "metadata": {},
   "outputs": [],
   "source": [
    "def generate_traffic_matrix(node_reqs):\n",
    "    probs = np.zeros([len(node_reqs),len(node_reqs)])\n",
    "    for i in range(len(node_reqs)):\n",
    "        for j in range(len(node_reqs)):\n",
    "            if i < j:\n",
    "                new_node_reqs = np.copy(node_reqs)\n",
    "                new_node_reqs[i] = 0.\n",
    "                new_node_reqs = new_node_reqs/np.sum(new_node_reqs)\n",
    "                probs[i,j] = node_reqs[i] * new_node_reqs[j]\n",
    "#             if i > j:\n",
    "#                 new_node_reqs = np.copy(node_reqs)\n",
    "#                 new_node_reqs[j] = 0.\n",
    "#                 new_node_reqs = new_node_reqs/np.sum(new_node_reqs)\n",
    "#                 probs[i,j] = node_reqs[i] * new_node_reqs[j]\n",
    "    return probs"
   ]
  },
  {
   "cell_type": "code",
   "execution_count": null,
   "id": "e92049c3",
   "metadata": {},
   "outputs": [],
   "source": [
    "non_uniform_matrix = generate_traffic_matrix(non_uni)"
   ]
  },
  {
   "cell_type": "code",
   "execution_count": null,
   "id": "374b25ec",
   "metadata": {},
   "outputs": [],
   "source": [
    "# uniform_matrix = (generate_traffic_matrix(uni).round(decimals=4)*10000).astype(dtype=int)\n",
    "# non_uniform_matrix = (generate_traffic_matrix(non_uni).round(decimals=4)*10000).astype(dtype=int)"
   ]
  },
  {
   "cell_type": "code",
   "execution_count": null,
   "id": "dd82f704",
   "metadata": {},
   "outputs": [],
   "source": [
    "non_uniform_matrix.T = np.rot90(np.fliplr(non_uniform_matrix))"
   ]
  },
  {
   "cell_type": "code",
   "execution_count": null,
   "id": "d32483ad",
   "metadata": {},
   "outputs": [],
   "source": [
    "non_uniform_matrix"
   ]
  },
  {
   "cell_type": "code",
   "execution_count": null,
   "id": "262b7028",
   "metadata": {},
   "outputs": [],
   "source": []
  },
  {
   "cell_type": "code",
   "execution_count": null,
   "id": "447b6ff1",
   "metadata": {},
   "outputs": [],
   "source": [
    "udf = pd.DataFrame(data=uniform_matrix[:,:],    # values\n",
    "        index=node_ids,    \n",
    "        columns=node_ids)  \n",
    "nudf = pd.DataFrame(data=non_uniform_matrix[:,:],    # values\n",
    "        index=node_ids,    \n",
    "        columns=node_ids)  "
   ]
  },
  {
   "cell_type": "code",
   "execution_count": null,
   "id": "98df51c4",
   "metadata": {},
   "outputs": [],
   "source": [
    "udf.to_latex(buf=\"results/uniform_traffic_matrix.txt\")"
   ]
  },
  {
   "cell_type": "code",
   "execution_count": null,
   "id": "b9dbc32e",
   "metadata": {},
   "outputs": [],
   "source": [
    "nudf.to_latex(buf=\"results/non_uniform_traffic_matrix.txt\")"
   ]
  },
  {
   "cell_type": "code",
   "execution_count": null,
   "id": "824916b4",
   "metadata": {},
   "outputs": [],
   "source": [
    "np.sum(generate_traffic_matrix(grav))"
   ]
  },
  {
   "cell_type": "code",
   "execution_count": null,
   "id": "9558433e",
   "metadata": {},
   "outputs": [],
   "source": [
    "np.sum(generate_traffic_matrix(uni))"
   ]
  },
  {
   "cell_type": "code",
   "execution_count": null,
   "id": "c1ea71c1",
   "metadata": {},
   "outputs": [],
   "source": [
    "np.sum(generate_traffic_matrix(non_uni))"
   ]
  },
  {
   "cell_type": "code",
   "execution_count": null,
   "id": "35ff4698",
   "metadata": {},
   "outputs": [],
   "source": [
    "sum(grav)"
   ]
  },
  {
   "cell_type": "code",
   "execution_count": null,
   "id": "d66d8594",
   "metadata": {},
   "outputs": [],
   "source": [
    "sum(uni)"
   ]
  },
  {
   "cell_type": "code",
   "execution_count": null,
   "id": "f2dc6fbf",
   "metadata": {},
   "outputs": [],
   "source": [
    "sum(non_uni)"
   ]
  },
  {
   "cell_type": "code",
   "execution_count": 30,
   "id": "718ca224",
   "metadata": {},
   "outputs": [],
   "source": [
    "traffic_dis = np.array([[0, 2, 1, 1, 1, 4, 1, 1, 2, 1, 1, 1, 1, 1],\n",
    "                      [2, 0, 2, 1, 8, 2, 1, 5, 3, 5, 1, 5, 1, 4],\n",
    "                      [1, 2, 0, 2, 3, 2, 11, 20, 5, 2, 1, 1, 1, 2],\n",
    "                      [1, 1, 2, 0, 1, 1, 2, 1, 2, 2, 1, 2, 1, 2],\n",
    "                      [1, 8, 3, 1, 0, 3, 3, 7, 3, 3, 1, 5, 2, 5],\n",
    "                      [4, 2, 2, 1, 3, 0, 2, 1, 2, 2, 1, 1, 1, 2],\n",
    "                      [1, 1, 11, 2, 3, 2, 0, 9, 4, 20, 1, 8, 1, 4],\n",
    "                      [1, 5, 20, 1, 7, 1, 9, 0, 27, 7, 2, 3, 2, 4],\n",
    "                      [2, 3, 5, 2, 3, 2, 4, 27, 0, 75, 2, 9, 3, 1],\n",
    "                      [1, 5, 2, 2, 3, 2, 20, 7, 75, 0, 1, 1, 2, 1],\n",
    "                      [1, 1, 1, 1, 1, 1, 1, 2, 2, 1, 0, 2, 1, 61],\n",
    "                      [1, 5, 1, 2, 5, 1, 8, 3, 9, 1, 2, 0, 1, 81],\n",
    "                      [1, 1, 1, 1, 2, 1, 1, 2, 3, 2, 1, 1, 0, 2],\n",
    "                      [1, 4, 2, 2, 5, 2, 4, 4, 0, 1, 61, 81, 2, 0]])"
   ]
  },
  {
   "cell_type": "code",
   "execution_count": null,
   "id": "59766d6f",
   "metadata": {},
   "outputs": [],
   "source": [
    "np.sum(traffic_dis*1e-3)"
   ]
  },
  {
   "cell_type": "code",
   "execution_count": null,
   "id": "ebc9b16c",
   "metadata": {},
   "outputs": [],
   "source": [
    "cmdf = pd.DataFrame(data=traffic_dis,    # values\n",
    "        index=node_ids,    \n",
    "        columns=node_ids)  "
   ]
  },
  {
   "cell_type": "code",
   "execution_count": null,
   "id": "8dcbd858",
   "metadata": {},
   "outputs": [],
   "source": [
    "cmdf.to_latex(buf=\"results/chen_traffic_matrix.txt\")"
   ]
  },
  {
   "cell_type": "code",
   "execution_count": null,
   "id": "7bf5754e",
   "metadata": {},
   "outputs": [],
   "source": []
  },
  {
   "cell_type": "markdown",
   "id": "82402ca4",
   "metadata": {},
   "source": [
    "**Population-based traffic matrix**"
   ]
  },
  {
   "cell_type": "code",
   "execution_count": null,
   "id": "f8a994ea",
   "metadata": {},
   "outputs": [],
   "source": []
  },
  {
   "cell_type": "code",
   "execution_count": 4,
   "id": "f254b3e3",
   "metadata": {},
   "outputs": [],
   "source": [
    "with open('results/nsfnet_population_based_traffic_matrix.txt') as f:\n",
    "    lines = f.readlines()"
   ]
  },
  {
   "cell_type": "code",
   "execution_count": 6,
   "id": "17c7c83d",
   "metadata": {},
   "outputs": [
    {
     "data": {
      "text/plain": [
       "'    0         0.0047    0.0076    0.0009    0.0017    0.0094    0.0006    0.0039    0.0040    0.0032    0.0030    0.0063    0.0027    0.0002\\n'"
      ]
     },
     "execution_count": 6,
     "metadata": {},
     "output_type": "execute_result"
    }
   ],
   "source": [
    "lines[0]"
   ]
  },
  {
   "cell_type": "code",
   "execution_count": 55,
   "id": "53c55b94",
   "metadata": {},
   "outputs": [],
   "source": [
    "traffic_matrix = loadmat(\"results/T_NASFnet14.mat\")[\"T\"]"
   ]
  },
  {
   "cell_type": "code",
   "execution_count": 56,
   "id": "4cb649f2",
   "metadata": {},
   "outputs": [
    {
     "data": {
      "text/plain": [
       "1.0000000000000002"
      ]
     },
     "execution_count": 56,
     "metadata": {},
     "output_type": "execute_result"
    }
   ],
   "source": [
    "np.sum(traffic_matrix)"
   ]
  },
  {
   "cell_type": "code",
   "execution_count": 57,
   "id": "4c2e84e9",
   "metadata": {},
   "outputs": [
    {
     "data": {
      "text/plain": [
       "array([[0.00000000e+00, 4.72507286e-03, 7.55893111e-03, 9.47735873e-04,\n",
       "        1.71418259e-03, 9.43777825e-03, 5.76469254e-04, 3.87881130e-03,\n",
       "        3.96463318e-03, 3.23870419e-03, 3.04186207e-03, 6.31979131e-03,\n",
       "        2.66923956e-03, 2.02162290e-04],\n",
       "       [4.72507286e-03, 0.00000000e+00, 1.56559532e-02, 1.96640870e-03,\n",
       "        3.55593927e-03, 1.95376915e-02, 1.19620556e-03, 8.04162869e-03,\n",
       "        8.21936750e-03, 6.71569707e-03, 6.30786275e-03, 1.30937766e-02,\n",
       "        5.53571389e-03, 4.19539981e-04],\n",
       "       [7.55893111e-03, 1.56559532e-02, 0.00000000e+00, 3.14705194e-03,\n",
       "        5.68960075e-03, 3.11867124e-02, 1.91463345e-03, 1.28582345e-02,\n",
       "        1.31420835e-02, 1.07402456e-02, 1.00886193e-02, 2.09206731e-02,\n",
       "        8.85468438e-03, 6.71588513e-04],\n",
       "       [9.47735873e-04, 1.96640870e-03, 3.14705194e-03, 0.00000000e+00,\n",
       "        7.13069318e-04, 3.93034255e-03, 2.39761085e-04, 1.61402567e-03,\n",
       "        1.64975793e-03, 1.34754276e-03, 1.26560542e-03, 2.63068300e-03,\n",
       "        1.11051072e-03, 8.40773413e-05],\n",
       "       [1.71418259e-03, 3.55593927e-03, 5.68960075e-03, 7.13069318e-04,\n",
       "        0.00000000e+00, 7.10461978e-03, 4.33721154e-04, 2.91891736e-03,\n",
       "        2.98351662e-03, 2.43712193e-03, 2.28897056e-03, 4.75654025e-03,\n",
       "        2.00852960e-03, 1.52098366e-04],\n",
       "       [9.43777825e-03, 1.95376915e-02, 3.11867124e-02, 3.93034255e-03,\n",
       "        7.10461978e-03, 0.00000000e+00, 2.39135896e-03, 1.60490620e-02,\n",
       "        1.64030637e-02, 1.34072265e-02, 1.25942937e-02, 2.60993087e-02,\n",
       "        1.10547266e-02, 8.38871179e-04],\n",
       "       [5.76469254e-04, 1.19620556e-03, 1.91463345e-03, 2.39761085e-04,\n",
       "        4.33721154e-04, 2.39135896e-03, 0.00000000e+00, 9.81810216e-04,\n",
       "        1.00354962e-03, 8.19687598e-04, 7.69840323e-04, 1.60040012e-03,\n",
       "        6.75489341e-04, 5.11365087e-05],\n",
       "       [3.87881130e-03, 8.04162869e-03, 1.28582345e-02, 1.61402567e-03,\n",
       "        2.91891736e-03, 1.60490620e-02, 9.81810216e-04, 0.00000000e+00,\n",
       "        6.74833040e-03, 5.51340459e-03, 5.17848935e-03, 1.07526941e-02,\n",
       "        4.54443091e-03, 3.44334112e-04],\n",
       "       [3.96463318e-03, 8.21936750e-03, 1.31420835e-02, 1.64975793e-03,\n",
       "        2.98351662e-03, 1.64030637e-02, 1.00354962e-03, 6.74833040e-03,\n",
       "        0.00000000e+00, 5.63534234e-03, 5.29302970e-03, 1.09901898e-02,\n",
       "        4.64496311e-03, 3.51959651e-04],\n",
       "       [3.23870419e-03, 6.71569707e-03, 1.07402456e-02, 1.34754276e-03,\n",
       "        2.43712193e-03, 1.34072265e-02, 8.19687598e-04, 5.51340459e-03,\n",
       "        5.63534234e-03, 0.00000000e+00, 4.32413231e-03, 8.98075261e-03,\n",
       "        3.79458292e-03, 2.87467979e-04],\n",
       "       [3.04186207e-03, 6.30786275e-03, 1.00886193e-02, 1.26560542e-03,\n",
       "        2.28897056e-03, 1.25942937e-02, 7.69840323e-04, 5.17848935e-03,\n",
       "        5.29302970e-03, 4.32413231e-03, 0.00000000e+00, 8.43565374e-03,\n",
       "        3.56398564e-03, 2.69984146e-04],\n",
       "       [6.31979131e-03, 1.30937766e-02, 2.09206731e-02, 2.63068300e-03,\n",
       "        4.75654025e-03, 2.60993087e-02, 1.60040012e-03, 1.07526941e-02,\n",
       "        1.09901898e-02, 8.98075261e-03, 8.43565374e-03, 0.00000000e+00,\n",
       "        7.40352087e-03, 5.61337887e-04],\n",
       "       [2.66923956e-03, 5.53571389e-03, 8.85468438e-03, 1.11051072e-03,\n",
       "        2.00852960e-03, 1.10547266e-02, 6.75489341e-04, 4.54443091e-03,\n",
       "        4.64496311e-03, 3.79458292e-03, 3.56398564e-03, 7.40352087e-03,\n",
       "        0.00000000e+00, 2.36891496e-04],\n",
       "       [2.02162290e-04, 4.19539981e-04, 6.71588513e-04, 8.40773413e-05,\n",
       "        1.52098366e-04, 8.38871179e-04, 5.11365087e-05, 3.44334112e-04,\n",
       "        3.51959651e-04, 2.87467979e-04, 2.69984146e-04, 5.61337887e-04,\n",
       "        2.36891496e-04, 0.00000000e+00]])"
      ]
     },
     "execution_count": 57,
     "metadata": {},
     "output_type": "execute_result"
    }
   ],
   "source": [
    "traffic_matrix"
   ]
  },
  {
   "cell_type": "code",
   "execution_count": 27,
   "id": "68ab7ce7",
   "metadata": {},
   "outputs": [],
   "source": [
    "def traffic_mat_to_node_probs(traffic_matrix, num_nodes):\n",
    "    node_probs= []\n",
    "    col_probs =[]\n",
    "    row_probs = []\n",
    "    for row in range(num_nodes):\n",
    "        row_probs.append(np.sum(traffic_matrix[row]))\n",
    "    for col in range(num_nodes):\n",
    "        col_probs.append(np.sum(traffic_matrix[:,col]))\n",
    "    for node in range(num_nodes):\n",
    "        node_row_prob = row_probs[node]\n",
    "        node_col_prob = col_probs[node]\n",
    "        node_probs.append((node_col_prob+node_col_prob)/2)\n",
    "    return node_probs"
   ]
  },
  {
   "cell_type": "code",
   "execution_count": 39,
   "id": "e5b11567",
   "metadata": {},
   "outputs": [],
   "source": [
    "node_probs_pop = traffic_mat_to_node_probs(traffic_matrix, 14)"
   ]
  },
  {
   "cell_type": "code",
   "execution_count": 36,
   "id": "c7bf240e",
   "metadata": {},
   "outputs": [
    {
     "data": {
      "text/plain": [
       "0.0010000099999999575"
      ]
     },
     "execution_count": 36,
     "metadata": {},
     "output_type": "execute_result"
    }
   ],
   "source": [
    "sum(grav - traffic_mat_to_node_probs(traffic_dis*1e-3, 14))"
   ]
  },
  {
   "cell_type": "code",
   "execution_count": 40,
   "id": "436cec01",
   "metadata": {},
   "outputs": [
    {
     "data": {
      "text/plain": [
       "[0.04827537383225997,\n",
       " 0.09497085748716223,\n",
       " 0.14242901168299796,\n",
       " 0.020646572311125867,\n",
       " 0.03675682753012166,\n",
       " 0.1700350557615174,\n",
       " 0.012654063181249658,\n",
       " 0.07942417313305905,\n",
       " 0.0810297870742051,\n",
       " 0.06724190832958478,\n",
       " 0.06342232903675615,\n",
       " 0.1225453221543787,\n",
       " 0.05609726903570729,\n",
       " 0.004471449449874337]"
      ]
     },
     "execution_count": 40,
     "metadata": {},
     "output_type": "execute_result"
    }
   ],
   "source": [
    "node_probs_pop"
   ]
  },
  {
   "cell_type": "code",
   "execution_count": 25,
   "id": "b0711a45",
   "metadata": {},
   "outputs": [],
   "source": [
    "pickle.dump(node_probs_pop, open(\"/Users/joshnevin/RL_FOCSLab/node_req_probs/nsfnet_population.pkl\",'wb'))"
   ]
  },
  {
   "cell_type": "code",
   "execution_count": 52,
   "id": "396f134c",
   "metadata": {},
   "outputs": [],
   "source": [
    "traffic_matrix_rounded = (traffic_matrix.round(decimals=4)*1e4).astype(dtype=int)"
   ]
  },
  {
   "cell_type": "code",
   "execution_count": 53,
   "id": "cd4a1d32",
   "metadata": {},
   "outputs": [],
   "source": [
    "node_ids = np.arange(1,15,1)\n",
    "pmdf = pd.DataFrame(data=traffic_matrix_rounded,    # values\n",
    "        index=node_ids,    \n",
    "        columns=node_ids)  \n",
    "pmdf.to_latex(buf=\"results/population_traffic_matrix.txt\")"
   ]
  },
  {
   "cell_type": "code",
   "execution_count": null,
   "id": "d7d35476",
   "metadata": {},
   "outputs": [],
   "source": []
  },
  {
   "cell_type": "code",
   "execution_count": 18,
   "id": "cad2d642",
   "metadata": {},
   "outputs": [
    {
     "data": {
      "image/png": "[encoded data removed]",
      "text/plain": [
       "<Figure size 504x252 with 1 Axes>"
      ]
     },
     "metadata": {},
     "output_type": "display_data"
    }
   ],
   "source": [
    "G = nx.Graph()\n",
    "G.add_edge(1,2,length=1000,weight=1)\n",
    "G.add_edge(1,3,length=1500,weight=3.2)\n",
    "G.add_edge(1,8,length=2400,weight=2.5)\n",
    "G.add_edge(2,3,length=600,weight=2.5)\n",
    "G.add_edge(2,4,length=700,weight=2.5)\n",
    "G.add_edge(3,6,length=1800,weight=2.5)\n",
    "G.add_edge(4,5,length=600,weight=2.5)\n",
    "G.add_edge(4,11,length=1900,weight=2.5)\n",
    "G.add_edge(5,6,length=1200,weight=2.5)\n",
    "G.add_edge(5,7,length=600,weight=2.5)\n",
    "G.add_edge(6,10,length=1000,weight=2.5)\n",
    "G.add_edge(6,14,length=1800,weight=2.5)\n",
    "G.add_edge(7,8,length=700,weight=2.5)\n",
    "G.add_edge(7,10,length=1300,weight=2.5)\n",
    "G.add_edge(8,9,length=700,weight=2.5)\n",
    "G.add_edge(9,10,length=700,weight=2.5)\n",
    "G.add_edge(9,12,length=300,weight=2.5)\n",
    "G.add_edge(9,13,length=300,weight=2.5)\n",
    "G.add_edge(11,12,length=600,weight=2.5)\n",
    "G.add_edge(11,13,length=700,weight=2.5)\n",
    "G.add_edge(12,14,length=300,weight=2.5)\n",
    "G.add_edge(13,14,length=100,weight=2.5)\n",
    "\n",
    "pos = nx.circular_layout(G)\n",
    "\n",
    "edges = G.edges()\n",
    "# colors = [G[u][v]['color'] for u,v in edges]\n",
    "weights = [G[u][v]['weight'] for u,v in edges]\n",
    "\n",
    "nx.draw_networkx(G, pos, edge_color=weights)"
   ]
  },
  {
   "cell_type": "code",
   "execution_count": 40,
   "id": "3dad1ec2",
   "metadata": {},
   "outputs": [],
   "source": [
    "class MplColorHelper:\n",
    "\n",
    "  def __init__(self, cmap_name, start_val, stop_val):\n",
    "    self.cmap_name = cmap_name\n",
    "    self.cmap = plt.get_cmap(cmap_name)\n",
    "    self.norm = matplotlib.colors.Normalize(vmin=start_val, vmax=stop_val)\n",
    "    self.scalarMap = cm.ScalarMappable(norm=self.norm, cmap=self.cmap)\n",
    "\n",
    "  def get_rgb(self, val):\n",
    "    return self.scalarMap.to_rgba(val)"
   ]
  },
  {
   "cell_type": "code",
   "execution_count": 50,
   "id": "a46b2deb",
   "metadata": {},
   "outputs": [
    {
     "data": {
      "image/png": "[encoded data removed]",
      "text/plain": [
       "<Figure size 504x252 with 2 Axes>"
      ]
     },
     "metadata": {
      "needs_background": "light"
     },
     "output_type": "display_data"
    }
   ],
   "source": [
    "# plt.rcParams[\"figure.figsize\"] = [7.00, 3.50]\n",
    "# plt.rcParams[\"figure.autolayout\"] = True\n",
    "x = np.arange(12)\n",
    "y = x**2 + 5\n",
    "# c = np.random.rand(len(x)) * 3 + 1.5\n",
    "# df = pd.DataFrame({\"x\": x, \"y\": y, \"c\": c})\n",
    "df = pd.DataFrame({\"x\": x, \"y\": y})\n",
    "\n",
    "fig, ax = plt.subplots()\n",
    "cmap = plt.cm.hot\n",
    "norm = colors.Normalize(vmin=np.min(y), vmax=np.max(y))\n",
    "ax.scatter(df.x, df.y, color=cmap(norm(df.y.values)))\n",
    "ax.set_xticks(df.x)\n",
    "sm = plt.cm.ScalarMappable(cmap=cmap, norm=norm)\n",
    "fig.colorbar(sm)\n",
    "# plt.ylim([min(y),max(y)])\n",
    "plt.show()"
   ]
  },
  {
   "cell_type": "code",
   "execution_count": 51,
   "id": "1c90e6a2",
   "metadata": {},
   "outputs": [],
   "source": [
    "COL = MplColorHelper('hot', np.min(y), np.max(y))"
   ]
  },
  {
   "cell_type": "code",
   "execution_count": 52,
   "id": "f18c7036",
   "metadata": {},
   "outputs": [
    {
     "data": {
      "text/plain": [
       "array([[0.0416    , 0.        , 0.        , 1.        ],\n",
       "       [0.06218969, 0.        , 0.        , 1.        ],\n",
       "       [0.12395875, 0.        , 0.        , 1.        ],\n",
       "       [0.23720204, 0.        , 0.        , 1.        ],\n",
       "       [0.38132985, 0.        , 0.        , 1.        ],\n",
       "       [0.57693189, 0.        , 0.        , 1.        ],\n",
       "       [0.82400815, 0.        , 0.        , 1.        ],\n",
       "       [1.        , 0.10196158, 0.        , 1.        ],\n",
       "       [1.        , 0.43137281, 0.        , 1.        ],\n",
       "       [1.        , 0.80196044, 0.        , 1.        ],\n",
       "       [1.        , 1.        , 0.32058756, 1.        ],\n",
       "       [1.        , 1.        , 1.        , 1.        ]])"
      ]
     },
     "execution_count": 52,
     "metadata": {},
     "output_type": "execute_result"
    }
   ],
   "source": [
    "COL.get_rgb(y)"
   ]
  },
  {
   "cell_type": "code",
   "execution_count": null,
   "id": "a9615c5f",
   "metadata": {},
   "outputs": [],
   "source": [
    "colours_dict = {\"local_optima\": result_m_shgo.xl}\n",
    "# savemat(\"opt_results/\"+env_id+str(int(threshold))+kernel+\".mat\", local_opt_dict)\n",
    "savemat(\"results/rgb_link_utils.mat\", local_opt_dict)"
   ]
  },
  {
   "cell_type": "code",
   "execution_count": 53,
   "id": "64a46ac9",
   "metadata": {},
   "outputs": [
    {
     "data": {
      "image/png": "[encoded data removed]",
      "text/plain": [
       "<Figure size 504x252 with 1 Axes>"
      ]
     },
     "metadata": {
      "needs_background": "light"
     },
     "output_type": "display_data"
    }
   ],
   "source": [
    "fig, ax = plt.subplots()\n",
    "ax.scatter(df.x, df.y, color=COL.get_rgb(y))\n",
    "ax.set_xticks(df.x)\n",
    "plt.show()"
   ]
  },
  {
   "cell_type": "code",
   "execution_count": 33,
   "id": "2fdddaa5",
   "metadata": {},
   "outputs": [
    {
     "data": {
      "text/plain": [
       "array([11.61551928, 11.95835293, 13.28323017, 13.88009173, 13.51920649,\n",
       "        2.29779458,  3.36406663, 18.60208532, 18.46710497,  4.85476188,\n",
       "       14.13112047,  5.72647089])"
      ]
     },
     "execution_count": 33,
     "metadata": {},
     "output_type": "execute_result"
    }
   ],
   "source": [
    "y"
   ]
  },
  {
   "cell_type": "code",
   "execution_count": 29,
   "id": "222c2e50",
   "metadata": {},
   "outputs": [
    {
     "data": {
      "text/plain": [
       "1.273766706466688"
      ]
     },
     "execution_count": 29,
     "metadata": {},
     "output_type": "execute_result"
    }
   ],
   "source": [
    "np.min(y)"
   ]
  },
  {
   "cell_type": "code",
   "execution_count": 30,
   "id": "639b5008",
   "metadata": {},
   "outputs": [
    {
     "data": {
      "text/plain": [
       "16.82614334631007"
      ]
     },
     "execution_count": 30,
     "metadata": {},
     "output_type": "execute_result"
    }
   ],
   "source": [
    "np.max(y)"
   ]
  },
  {
   "cell_type": "code",
   "execution_count": 10,
   "id": "1855f546",
   "metadata": {},
   "outputs": [
    {
     "data": {
      "text/plain": [
       "[<matplotlib.lines.Line2D at 0x12c879310>]"
      ]
     },
     "execution_count": 10,
     "metadata": {},
     "output_type": "execute_result"
    },
    {
     "data": {
      "image/png": "[encoded data removed]",
      "text/plain": [
       "<Figure size 504x252 with 1 Axes>"
      ]
     },
     "metadata": {
      "needs_background": "light"
     },
     "output_type": "display_data"
    }
   ],
   "source": [
    "plt.plot(x,y)"
   ]
  },
  {
   "cell_type": "code",
   "execution_count": null,
   "id": "421313b1",
   "metadata": {},
   "outputs": [],
   "source": []
  }
 ],
 "metadata": {
  "kernelspec": {
   "display_name": "Python 3 (ipykernel)",
   "language": "python",
   "name": "python3"
  },
  "language_info": {
   "codemirror_mode": {
    "name": "ipython",
    "version": 3
   },
   "file_extension": ".py",
   "mimetype": "text/x-python",
   "name": "python",
   "nbconvert_exporter": "python",
   "pygments_lexer": "ipython3",
   "version": "3.7.12"
  }
 },
 "nbformat": 4,
 "nbformat_minor": 5
}
