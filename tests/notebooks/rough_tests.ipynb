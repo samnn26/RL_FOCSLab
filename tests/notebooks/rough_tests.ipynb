{
 "cells": [
  {
   "cell_type": "code",
   "execution_count": 1,
   "id": "74eb777e",
   "metadata": {},
   "outputs": [],
   "source": [
    "import numpy as np\n",
    "import random\n",
    "import gym\n",
    "import matplotlib.pyplot as plt\n",
    "import pickle"
   ]
  },
  {
   "cell_type": "code",
   "execution_count": 2,
   "id": "3bf194b4",
   "metadata": {},
   "outputs": [
    {
     "data": {
      "text/plain": [
       "6928.0"
      ]
     },
     "execution_count": 2,
     "metadata": {},
     "output_type": "execute_result"
    }
   ],
   "source": [
    "((1.732*1000)/25)*100"
   ]
  },
  {
   "cell_type": "code",
   "execution_count": 40,
   "id": "d12f5646",
   "metadata": {},
   "outputs": [],
   "source": [
    "uni_prob = 1/14\n",
    "# node_request_probabilities = np.ones(14)*uni_prob + np.random.uniform(0,uni_prob*0.05, 14)"
   ]
  },
  {
   "cell_type": "markdown",
   "id": "17ef7b5c",
   "metadata": {},
   "source": [
    "Generated perturbation on first run with seed of 9"
   ]
  },
  {
   "cell_type": "code",
   "execution_count": 101,
   "id": "2e038dea",
   "metadata": {},
   "outputs": [],
   "source": [
    "rng_np = np.random.default_rng(9)\n",
    "pert = 0.5\n",
    "node_request_probabilities = np.ones(14) + rng_np.uniform(-pert, pert, 14)"
   ]
  },
  {
   "cell_type": "code",
   "execution_count": 102,
   "id": "f621c13a",
   "metadata": {},
   "outputs": [],
   "source": [
    "node_request_probabilities = node_request_probabilities/np.sum(node_request_probabilities)"
   ]
  },
  {
   "cell_type": "code",
   "execution_count": 103,
   "id": "c9bd59f0",
   "metadata": {},
   "outputs": [
    {
     "data": {
      "text/plain": [
       "1.0"
      ]
     },
     "execution_count": 103,
     "metadata": {},
     "output_type": "execute_result"
    }
   ],
   "source": [
    "np.sum(node_request_probabilities)"
   ]
  },
  {
   "cell_type": "code",
   "execution_count": 104,
   "id": "3b45ea51",
   "metadata": {},
   "outputs": [
    {
     "data": {
      "text/plain": [
       "array([0.09259682, 0.05317045, 0.07454703, 0.08633144, 0.08217822,\n",
       "       0.09564661, 0.09193081, 0.09583971, 0.03558502, 0.06333606,\n",
       "       0.06655921, 0.03819121, 0.0341685 , 0.08991891])"
      ]
     },
     "execution_count": 104,
     "metadata": {},
     "output_type": "execute_result"
    }
   ],
   "source": [
    "node_request_probabilities"
   ]
  },
  {
   "cell_type": "code",
   "execution_count": 105,
   "id": "db3cf168",
   "metadata": {},
   "outputs": [],
   "source": [
    "pickle.dump(node_request_probabilities, open(\"/Users/joshnevin/RL_FOCSLab/node_req_probs/14_node_uniform_pert\"+str(int(pert*100))+\".pkl\",'wb'))"
   ]
  },
  {
   "cell_type": "code",
   "execution_count": null,
   "id": "9aab7783",
   "metadata": {},
   "outputs": [],
   "source": [
    "arr = np.random.rand(4,6)\n",
    "arr"
   ]
  },
  {
   "cell_type": "code",
   "execution_count": null,
   "id": "ad868d24",
   "metadata": {},
   "outputs": [],
   "source": [
    "arr.flatten().tolist()"
   ]
  },
  {
   "cell_type": "code",
   "execution_count": null,
   "id": "232a2c43",
   "metadata": {},
   "outputs": [],
   "source": [
    "arr - np.array(arr.flatten().tolist()).reshape(4,6)"
   ]
  },
  {
   "cell_type": "code",
   "execution_count": null,
   "id": "baa92bd1",
   "metadata": {},
   "outputs": [],
   "source": [
    "int(1099/100)"
   ]
  },
  {
   "cell_type": "code",
   "execution_count": null,
   "id": "d5a3fd58",
   "metadata": {},
   "outputs": [],
   "source": [
    "def new_feature(x):\n",
    "    if x == 0:\n",
    "        y = 0\n",
    "    else:\n",
    "        y = -x*np.log(x)\n",
    "    return y"
   ]
  },
  {
   "cell_type": "code",
   "execution_count": null,
   "id": "a3edd16b",
   "metadata": {},
   "outputs": [],
   "source": [
    "x = np.linspace(0,1,10000)"
   ]
  },
  {
   "cell_type": "code",
   "execution_count": null,
   "id": "a84fee39",
   "metadata": {},
   "outputs": [],
   "source": [
    "y = [new_feature(i) for i in x]"
   ]
  },
  {
   "cell_type": "code",
   "execution_count": null,
   "id": "8d0098b0",
   "metadata": {},
   "outputs": [],
   "source": [
    "plt.plot(x,y)\n",
    "plt.show()"
   ]
  },
  {
   "cell_type": "code",
   "execution_count": null,
   "id": "26eb0b59",
   "metadata": {},
   "outputs": [],
   "source": [
    "max(y)"
   ]
  },
  {
   "cell_type": "code",
   "execution_count": null,
   "id": "a5b5a281",
   "metadata": {},
   "outputs": [],
   "source": [
    "min(y)"
   ]
  },
  {
   "cell_type": "code",
   "execution_count": null,
   "id": "151f6800",
   "metadata": {},
   "outputs": [],
   "source": [
    "np.log10(0)"
   ]
  },
  {
   "cell_type": "code",
   "execution_count": null,
   "id": "d66d8594",
   "metadata": {},
   "outputs": [],
   "source": []
  }
 ],
 "metadata": {
  "kernelspec": {
   "display_name": "Python 3 (ipykernel)",
   "language": "python",
   "name": "python3"
  },
  "language_info": {
   "codemirror_mode": {
    "name": "ipython",
    "version": 3
   },
   "file_extension": ".py",
   "mimetype": "text/x-python",
   "name": "python",
   "nbconvert_exporter": "python",
   "pygments_lexer": "ipython3",
   "version": "3.7.12"
  }
 },
 "nbformat": 4,
 "nbformat_minor": 5
}
