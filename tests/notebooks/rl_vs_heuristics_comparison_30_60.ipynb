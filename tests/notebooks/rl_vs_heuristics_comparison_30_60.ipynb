{
 "cells": [
  {
   "cell_type": "code",
   "execution_count": 1,
   "id": "3731ce5d",
   "metadata": {},
   "outputs": [],
   "source": [
    "import os\n",
    "import pickle\n",
    "import numpy as np\n",
    "from scipy.special import kl_div\n",
    "from scipy.stats import pearsonr\n",
    "from IPython.display import clear_output\n",
    "import matplotlib\n",
    "import matplotlib.pyplot as plt\n",
    "#import config InlineBackend.figure_format = 'svg'\n",
    "# import tensorflow as tf\n",
    "# # silencing tensorflow warnings\n",
    "# import logging\n",
    "# logging.getLogger('tensorflow').setLevel(logging.FATAL)\n",
    "from datetime import datetime\n",
    "# tf.__version__ # printint out tensorflow version used\n",
    "import stable_baselines3\n",
    "import sb3_contrib\n",
    "from stable_baselines3.common.callbacks import BaseCallback\n",
    "# from stable_baselines3.results_plotter import load_results, ts2xy\n",
    "from stable_baselines3.common.results_plotter import load_results, ts2xy\n",
    "import optuna\n",
    "# from stable_baselines3.bench import Monitor\n",
    "from stable_baselines3.common.monitor import Monitor\n",
    "#from stable_baselines3.common.policies import MlpPolicy\n",
    "from stable_baselines3.common import results_plotter\n",
    "from sb3_contrib.common.maskable.evaluation import evaluate_policy\n",
    "from sb3_contrib import MaskablePPO\n",
    "from stable_baselines3.common.vec_env import DummyVecEnv\n",
    "#stable_baselines.__version__ # printing out stable_baselines version used\n",
    "import gym\n",
    "import pickle\n",
    "import cProfile \n",
    "import pandas as pd\n",
    "import ast\n",
    "import seaborn as sns\n",
    "font = { 'family' : 'sans-serif',\n",
    "                'weight' : 'normal',\n",
    "                'size'   : 11}\n",
    "matplotlib.rc('font', **font)"
   ]
  },
  {
   "cell_type": "code",
   "execution_count": 13,
   "id": "08d1e420",
   "metadata": {},
   "outputs": [],
   "source": [
    "current_directory = os.getcwd()\n",
    "\n",
    "# exp_id = \"2022-03-10v45nsfU100GR2\" # best uniform 10K\n",
    "# exp_id = \"2022-03-15v45nsfUp5100GR3\" # best non-uniform 10K\n",
    "# exp_id = \"2022-02-23v45nsfnotfbR3\" # best for Chen traffic matrix \n",
    "# exp_id = \"2022-03-25v45nsfP100GR4\" # best for population-based traffic matrix \n",
    "\n",
    "exp_id = \"2022-06-01v7dtag10Mscaledx27500reqR3\"\n",
    "\n",
    "# exp_id = \"2022-03-07v7nsfU100GnomaskR5\"\n",
    "eval_name = \"_no_tfb\"\n",
    "# eval_name = \"_no_tfb_pop\"\n",
    "# eval_name = \"_no_tfb_population\"\n",
    "# eval_name = \"_no_tfb_population_s1\"\n",
    "# eval_name = \"_no_tfb_30_60\"\n",
    "# eval_name = \"_no_tfb_30_60_acc\"\n",
    "\n",
    "# eval_name = \"_no_tfb_service_lengths\"\n",
    "# eval_name = \"_no_tfb_more_snaps\"\n",
    "\n",
    "# eval_name = \"_no_tfb\"\n",
    "route_dir = \"/Users/joshnevin/RL_FOCSLab/tmp/RWAFOCS-ppo/\"\n",
    "eval_dir = route_dir+exp_id+\"/_core_0/eval_results\"+eval_name\n",
    "\n",
    "# JOCN results \n",
    "# uniform no tfb\n",
    "# eval_dir_h = route_dir+\"2022-02-24nsfnotfbuniheuristics_eval/eval_results_no_tfb\"  # 100G, k=5, 10k requests\n",
    "# eval_dir_h = route_dir+\"2022-03-11nsfU100Gheuristics_eval/eval_results_no_tfb\" # with service distribution\n",
    "# eval_dir_h = route_dir+\"2022-03-11nsfU100Gheuristics_eval/eval_results_no_tfb_more_snaps\" # with service distribution\n",
    "# eval_dir_r = route_dir+\"2022-03-11nsf100Gheuristics_eval\" # random results (made a slight error with file naming)\n",
    "# eval_dir_h = route_dir+\"2022-03-11nsfU100Gheuristics_eval/eval_results_no_tfb_service_lengths\" # with service distribution\n",
    "# eval_dir_h = route_dir+\"2022-03-11nsfU100Gheuristics_evalheuristics_eval/eval_results_no_tfb_30_60\"\n",
    "# eval_dir_h = route_dir+\"2022-03-11nsfU100Gheuristics_evalheuristics_eval/eval_results_no_tfb_30_60_acc\"\n",
    "\n",
    "# population-based no tfb\n",
    "# eval_dir_h = route_dir+\"2022-03-25nsfP100Gheuristics_eval/eval_results_no_tfb\"\n",
    "# eval_dir_h = route_dir+\"2022-03-28nsfP100Gs1heuristics_eval/eval_results_no_tfb\"\n",
    "\n",
    "# EUROBACKBONE results:\n",
    "# eval_dir_h = route_dir+\"2022-05-24euroU10kheuristics_eval/eval_results_no_tfb\"\n",
    "\n",
    "\n",
    "\n",
    "# GOOGLE B4 results:\n",
    "# population \n",
    "# eval_dir_h = route_dir+\"2022-05-10gb4P2500heuristics_eval/eval_results_no_tfb\"\n",
    "\n",
    "# uniform \n",
    "# eval_dir_h = route_dir+\"2022-05-10gb4U2500heuristics_eval/eval_results_no_tfb\"\n",
    "\n",
    "# non-uniform no tfb\n",
    "# eval_dir_h = route_dir+\"2022-03-04nsfUp50100G10kRheuristics_eval/eval_results_no_tfb\" # 100G, k=5, 10k requests\n",
    "# eval_dir_h = route_dir+\"2022-03-11nsfU50100Gheuristics_eval/eval_results_no_tfb_more_snaps\" # with service distribution\n",
    "# eval_dir_h = route_dir+\"2022-03-11nsfU50100Gheuristics_eval/eval_results_no_tfb_rand\" # with service distribution\n",
    "# binary occupancy results, uniform no tfb\n",
    "# eval_dir_h = route_dir+\"2022-03-18nsfU100Gbofxdheuristics_eval/eval_results_no_tfb\"  # binary occupancy\n",
    "# eval_dir_h = route_dir+\"2022-03-18nsfU100Gbofxdheuristics_eval/eval_results_no_tfb\"  # binary occupancy\n",
    "# eval_dir_h = route_dir+\"2022-03-23nsfU100Gbo10chheuristics_eval/eval_results_no_tfb\" # with 12.5%, 25%, 37.5%, 50%, 62.5%, 75%, 87.5%, 100% service distribution\n",
    "\n",
    "# non-uniform tfb\n",
    "# eval_dir_h = route_dir+\"2022-03-11nsfU50100Gheuristics_eval/eval_results_tfb\" # with service distribution\n",
    "\n",
    "# uniform tfb\n",
    "# eval_dir_h = route_dir+\"2022-03-11nsfU100Gheuristics_eval/eval_results_tfb\" # with service distribution\n",
    "\n",
    "\n",
    "# eval_dir_h = route_dir+\"2022-02-24nsfunik3heuristics_eval/eval_results_no_tfb\"\n",
    "# eval_dir_h = route_dir+\"2022-03-01nsfuni200Gk3heuristics_eval/eval_results_no_tfb\"\n",
    "# eval_dir_h = route_dir+\"2022-03-03nsfuni500G2kRk5heuristics_eval/eval_results_no_tfb\" # 500G, k=5, 2k requests \n",
    "\n",
    "# UNIFORM 50% perturbation NSFNET\n",
    "# eval_dir_h = route_dir+\"2022-03-04nsfUp50500G2kRheuristics_eval/eval_results_no_tfb\" \n",
    "\n",
    "# \"GRAVITY\" NSFNET \n",
    "# eval_dir_h = route_dir+\"2022-02-23v42nsftfb\"+\"/_core_0/eval_results\"+\"_tfb\"\n",
    "# eval_dir_h = route_dir+\"2022-02-23v42nsftfbR3\"+\"/_core_0/eval_results\"+\"_no_tfb\"\n",
    "# eval_dir_h = route_dir+\"2022-02-24nsfgravityk3heuristics_eval/eval_results_no_tfb\"\n",
    "\n",
    "# UNIFORM DTAG\n",
    "# eval_dir_h = route_dir+\"2022-02-24dtagnotfbuniheuristics_eval/eval_results_no_tfb\" # 100G, k=5, 10k requests\n",
    "eval_dir_h = route_dir+\"2022-05-18dtagU10kheuristics_eval/eval_results_no_tfb\" # 100G, k=5, 10k requests\n",
    "# eval_dir_h = route_dir+\"2022-05-11dtagU15kheuristics_eval/eval_results_no_tfb\" # 100G, k=5, 15k requests\n",
    "\n",
    "# UNIFORM 50% perturbation DTAG\n",
    "# eval_dir_h = route_dir+\"2022-03-04dtagUp50500G2kRheuristics_eval/eval_results_no_tfb\" # 500G, k=5, 2k requests "
   ]
  },
  {
   "cell_type": "code",
   "execution_count": 14,
   "id": "244e7857",
   "metadata": {},
   "outputs": [],
   "source": [
    "def get_info(eval_dir, model, get_dist):\n",
    "    df = pd.read_csv(eval_dir+\"/evaluation_\"+model+\".monitor.csv\", skiprows=1)\n",
    "    eval_eps = df.index.values\n",
    "    rewards = df['r'].to_numpy()\n",
    "    sim_time = df['t'].to_numpy()\n",
    "    services_accepted_ep = df['episode_services_accepted'].to_numpy()\n",
    "    services_processed_ep = df['episode_services_processed'].to_numpy()\n",
    "    services_accepted = df['services_accepted'].to_numpy()\n",
    "    services_processed = df['services_processed'].to_numpy()\n",
    "    throughput = df['throughput']/1e12\n",
    "    if get_dist:\n",
    "#         service_dist_125pc = df['service_distribution_125pc']\n",
    "#         service_dist_25pc = df['service_distribution_25pc']\n",
    "#         service_dist_375pc = df['service_distribution_375pc']\n",
    "#         service_dist_50pc = df['service_distribution_50pc']\n",
    "#         service_dist_625pc = df['service_distribution_625pc']\n",
    "#         service_dist_75pc = df['service_distribution_75pc']\n",
    "#         service_dist_875pc = df['service_distribution_875pc']\n",
    "        service_dist_30pc = df['service_distribution_30pc']\n",
    "        service_dist_60pc = df['service_distribution_60pc']\n",
    "        service_dist = df['service_distribution']\n",
    "#         accepted_service_lengths = df['accepted_service_lengths']\n",
    "#         return rewards, eval_eps, sim_time, services_accepted_ep, services_processed_ep, services_accepted, services_processed, throughput, service_dist, service_dist_125pc, service_dist_25pc, service_dist_375pc, service_dist_50pc, service_dist_625pc, service_dist_75pc, service_dist_875pc, accepted_service_lengths\n",
    "        return rewards, eval_eps, sim_time, services_accepted_ep, services_processed_ep, services_accepted, services_processed, throughput, service_dist, service_dist_30pc, service_dist_60pc   \n",
    "    else:\n",
    "        return rewards, eval_eps, sim_time, services_accepted_ep, services_processed_ep, services_accepted, services_processed, throughput\n",
    "def get_cum_results(eval_dir, model):\n",
    "    df = pd.read_csv(eval_dir+\"/evaluation_\"+model+\".monitor.csv\", skiprows=1)\n",
    "#     cum_services_accepted = df['episode_cum_services_accepted'].to_numpy()\n",
    "#     cum_services_processed = df['episode_cum_services_processed'].to_numpy()\n",
    "    cum_services_accepted = df['episode_cum_services_accepted']\n",
    "    cum_services_processed = df['episode_cum_services_processed']\n",
    "    return cum_services_accepted, cum_services_processed\n",
    "def get_services(service_dist, iter_num, num_edges, num_channels):\n",
    "    service_dist = service_dist[iter_num]\n",
    "    service_dist = ast.literal_eval(service_dist)\n",
    "    service_dist = np.array(service_dist).reshape(num_edges,num_channels)  # NOTE! HAVE HARD CODED NUMBER OF EDGES AND CHANNELS!\n",
    "    return service_dist\n",
    "def reorder_edges(serdist, edge_inds):\n",
    "    idx = np.array(edge_inds)\n",
    "    idx[edge_inds] = np.arange(len(edge_inds))\n",
    "    return serdist[idx, :]\n",
    "def get_all_services(service_dist_rl, num_edges, num_channels, num_evals):\n",
    "    arr = np.zeros([num_edges,num_channels,num_evals])\n",
    "    for i in range(num_evals):\n",
    "        arr[:,:,i] = get_services(service_dist_rl, i, num_edges, num_channels)\n",
    "    return arr\n",
    "def get_services_accepted_snapshots(cum_services_accepted, snap_inds, eval_ind):\n",
    "    cum_services_accepted = ast.literal_eval(cum_services_accepted[eval_ind])\n",
    "    services_accepted_snaps = []\n",
    "    for i in snap_inds:\n",
    "        services_accepted_snaps.append(cum_services_accepted[i])\n",
    "    return services_accepted_snaps\n",
    "def get_all_accepted_snaps(cum_services_accepted, snap_inds, n_evals):\n",
    "    services_accepted_snaps = np.zeros([n_evals, len(snap_inds)])\n",
    "    for i in range(n_evals):\n",
    "        services_accepted_snaps[i,:] = get_services_accepted_snapshots(cum_services_accepted, snap_inds, i)\n",
    "    return services_accepted_snaps\n",
    "def get_accepted_service_lengths(accepted_service_lengths, iter_num):\n",
    "    return ast.literal_eval(accepted_service_lengths[iter_num])\n",
    "def get_all_accepted_service_lengths(accepted_service_lengths, num_accepted, num_evals):\n",
    "    arr = []\n",
    "    for i in range(num_evals):\n",
    "        arr.append(get_accepted_service_lengths(accepted_service_lengths, i))\n",
    "    return arr"
   ]
  },
  {
   "cell_type": "code",
   "execution_count": 15,
   "id": "0e2b948e",
   "metadata": {},
   "outputs": [],
   "source": [
    "get_service_dist = False\n",
    "if not get_service_dist:\n",
    "    rewards_rl, eval_eps_rl, sim_time_rl, services_accepted_ep_rl, services_processed_ep_rl, services_accepted_rl, services_processed_rl, throughput_rl = get_info(eval_dir, 'rl', False)\n",
    "    rewards_kspff, eval_eps_kspff, sim_time_kspff, services_accepted_ep_kspff, services_processed_ep_kspff, services_accepted_kspff, services_processed_kspff, throughput_kspff = get_info(eval_dir_h, 'kspff', False)\n",
    "    rewards_ffksp, eval_eps_ffksp, sim_time_ffksp, services_accepted_ep_ffksp, services_processed_ep_ffksp, services_accepted_ffksp, services_processed_ffksp, throughput_ffksp = get_info(eval_dir_h, 'ffksp', False)\n",
    "#     rewards_camu, eval_eps_camu, sim_time_camu, services_accepted_ep_camu, services_processed_ep_camu, services_accepted_camu, services_processed_camu, throughput_camu = get_info(eval_dir_h, 'camu', False)\n",
    "    rewards_kspmu, eval_eps_kspmu, sim_time_kspmu, services_accepted_ep_kspmu, services_processed_ep_kspmu, services_accepted_kspmu, services_processed_kspmu, throughput_kspmu = get_info(eval_dir_h, 'kspmu', False)\n",
    "else:\n",
    "    rewards_rl, eval_eps_rl, sim_time_rl, services_accepted_ep_rl, services_processed_ep_rl, services_accepted_rl, services_processed_rl, throughput_rl, service_dist_rl, service_dist_rl_30pc, service_dist_rl_60pc = get_info(eval_dir, 'rl', True)\n",
    "    rewards_kspff, eval_eps_kspff, sim_time_kspff, services_accepted_ep_kspff, services_processed_ep_kspff, services_accepted_kspff, services_processed_kspff, throughput_kspff, service_dist_kspff, service_dist_kspff_30pc, service_dist_kspff_60pc = get_info(eval_dir_h, 'kspff', True)\n",
    "    rewards_ffksp, eval_eps_ffksp, sim_time_ffksp, services_accepted_ep_ffksp, services_processed_ep_ffksp, services_accepted_ffksp, services_processed_ffksp, throughput_ffksp, service_dist_ffksp, service_dist_ffksp_30pc, service_dist_ffksp_60pc  = get_info(eval_dir_h, 'ffksp', True)\n",
    "#     rewards_camu, eval_eps_camu, sim_time_camu, services_accepted_ep_camu, services_processed_ep_camu, services_accepted_camu, services_processed_camu, throughput_camu, service_dist_camu, service_dist_camu_25pc, service_dist_camu_50pc, service_dist_camu_75pc  = get_info(eval_dir_h, 'camu', True)\n",
    "    rewards_kspmu, eval_eps_kspmu, sim_time_kspmu, services_accepted_ep_kspmu, services_processed_ep_kspmu, services_accepted_kspmu, services_processed_kspmu, throughput_kspmu, service_dist_kspmu, service_dist_kspmu_30pc, service_dist_kspmu_60pc  = get_info(eval_dir_h, 'kspmu', True)"
   ]
  },
  {
   "cell_type": "code",
   "execution_count": 16,
   "id": "70d16308",
   "metadata": {},
   "outputs": [],
   "source": [
    "pickle.dump(np.mean(services_accepted_ep_rl), open(\"results/\"+exp_id+\"_mean.pkl\",'wb'))\n",
    "pickle.dump(np.median(services_accepted_ep_rl), open(\"results/\"+exp_id+\"_median.pkl\",'wb'))\n",
    "pickle.dump(np.std(services_accepted_ep_rl), open(\"results/\"+exp_id+\"_std.pkl\",'wb'))"
   ]
  },
  {
   "cell_type": "code",
   "execution_count": 17,
   "id": "46f8994e",
   "metadata": {
    "scrolled": false
   },
   "outputs": [
    {
     "name": "stdout",
     "output_type": "stream",
     "text": [
      "Mean: 8370.57\n",
      "Median: 8365.5\n",
      "Std: 58.78286399963853\n"
     ]
    }
   ],
   "source": [
    "print(\"Mean:\",np.mean(services_accepted_ep_rl))\n",
    "print(\"Median:\",np.median(services_accepted_ep_rl))\n",
    "print(\"Std:\",np.std(services_accepted_ep_rl))"
   ]
  },
  {
   "cell_type": "code",
   "execution_count": 18,
   "id": "bfae3c9e",
   "metadata": {},
   "outputs": [
    {
     "name": "stdout",
     "output_type": "stream",
     "text": [
      "RL: 8370.57\n",
      "kSP-FF: 8598.32\n",
      "FF-kSP: 8362.63\n",
      "kSP-MU: 8417.9\n"
     ]
    }
   ],
   "source": [
    "print(\"RL:\",np.mean(services_accepted_ep_rl))\n",
    "print(\"kSP-FF:\",np.mean(services_accepted_ep_kspff))\n",
    "print(\"FF-kSP:\",np.mean(services_accepted_ep_ffksp))\n",
    "# print(\"CA-MU:\",np.mean(services_accepted_ep_camu))\n",
    "print(\"kSP-MU:\",np.mean(services_accepted_ep_kspmu))"
   ]
  },
  {
   "cell_type": "code",
   "execution_count": null,
   "id": "1d659ba0",
   "metadata": {},
   "outputs": [],
   "source": [
    "print(\"RL:\",np.median(services_accepted_ep_rl))\n",
    "print(\"kSP-FF:\",np.median(services_accepted_ep_kspff))\n",
    "print(\"FF-kSP:\",np.median(services_accepted_ep_ffksp))\n",
    "# print(\"CA-MU:\",np.median(services_accepted_ep_camu))\n",
    "print(\"kSP-MU:\",np.median(services_accepted_ep_kspmu))"
   ]
  },
  {
   "cell_type": "code",
   "execution_count": null,
   "id": "54798c54",
   "metadata": {},
   "outputs": [],
   "source": [
    "print(\"RL:\",np.std(services_accepted_ep_rl))\n",
    "print(\"kSP-FF:\",np.std(services_accepted_ep_kspff))\n",
    "print(\"FF-kSP:\",np.std(services_accepted_ep_ffksp))\n",
    "# print(\"CA-MU:\",np.std(services_accepted_ep_camu))\n",
    "print(\"kSP-MU:\",np.std(services_accepted_ep_kspmu))"
   ]
  },
  {
   "cell_type": "code",
   "execution_count": null,
   "id": "8c87bac3",
   "metadata": {},
   "outputs": [],
   "source": [
    "print(\"RL:\",np.mean(rewards_rl))\n",
    "print(\"kSP-FF:\",np.mean(rewards_kspff))\n",
    "print(\"FF-kSP:\",np.mean(rewards_ffksp))\n",
    "# print(\"CA-MU:\",np.mean(rewards_camu))\n",
    "print(\"kSP-MU:\",np.mean(rewards_kspmu))"
   ]
  },
  {
   "cell_type": "code",
   "execution_count": null,
   "id": "8a895523",
   "metadata": {},
   "outputs": [],
   "source": [
    "f, ax = plt.subplots()\n",
    "dict_plt = {'kSP-FF':services_accepted_ep_kspff,'kSP-MU':services_accepted_ep_kspmu,'FF-kSP':services_accepted_ep_ffksp, 'RL':services_accepted_ep_rl}\n",
    "#dict_plt = {'FF-kSP':services_accepted_ep_ffksp, 'RL':services_accepted_ep_rl}\n",
    "bp = plt.boxplot(dict_plt.values(),showfliers=False,showmeans=True)\n",
    "ax.set_xticklabels(dict_plt.keys())\n",
    "plt.ylabel(\"Services accepted\")\n",
    "# ax.set_aspect(1.0/ax.get_data_ratio(), adjustable='box')\n",
    "f.patch.set_facecolor('w')\n",
    "# plt.ylim([2285, 2305])\n",
    "plt.grid()\n",
    "# plt.savefig('figures/'+exp_id+eval_name+'boxplot.jpeg', dpi=300,bbox_inches='tight')\n",
    "plt.show()"
   ]
  },
  {
   "cell_type": "code",
   "execution_count": null,
   "id": "9f4f0683",
   "metadata": {},
   "outputs": [],
   "source": [
    "medians = [item.get_ydata()[0] for item in bp['medians']]\n",
    "means = [item.get_ydata()[0] for item in bp['means']]\n",
    "print(f'Medians: {medians}\\n'\n",
    "      f'Means:   {means}')"
   ]
  },
  {
   "cell_type": "code",
   "execution_count": null,
   "id": "388ec0d1",
   "metadata": {},
   "outputs": [],
   "source": [
    "minimums = [round(item.get_ydata()[0], 1) for item in bp['caps']][::2]\n",
    "maximums = [round(item.get_ydata()[0], 1) for item in bp['caps']][1::2]\n",
    "print(f'Minimums: {minimums}\\n'\n",
    "      f'Maximums: {maximums}')"
   ]
  },
  {
   "cell_type": "code",
   "execution_count": null,
   "id": "133d7f66",
   "metadata": {},
   "outputs": [],
   "source": [
    "q1 = [round(min(item.get_ydata()), 1) for item in bp['boxes']]\n",
    "q3 = [round(max(item.get_ydata()), 1) for item in bp['boxes']]\n",
    "IQR = [q3[i] - q1[i] for i in range(len(q1))]\n",
    "print(IQR)"
   ]
  },
  {
   "cell_type": "code",
   "execution_count": null,
   "id": "d9f398b1",
   "metadata": {},
   "outputs": [],
   "source": [
    "(6820 + 6793 + 6828 + 6804)/4"
   ]
  },
  {
   "cell_type": "code",
   "execution_count": null,
   "id": "890843f7",
   "metadata": {},
   "outputs": [],
   "source": [
    "(6855+ 6869 + 6829 + 6778 + 6789)/5"
   ]
  },
  {
   "cell_type": "code",
   "execution_count": null,
   "id": "26af0657",
   "metadata": {},
   "outputs": [],
   "source": [
    "6100 - (10000 - 6100)"
   ]
  },
  {
   "cell_type": "code",
   "execution_count": null,
   "id": "b4413e6a",
   "metadata": {},
   "outputs": [],
   "source": [
    "6373 - 6295"
   ]
  },
  {
   "cell_type": "code",
   "execution_count": null,
   "id": "e982a692",
   "metadata": {},
   "outputs": [],
   "source": [
    "8300 - (10000 - 8300)"
   ]
  },
  {
   "cell_type": "markdown",
   "id": "9380aaee",
   "metadata": {},
   "source": [
    "**Accepted service path length distribution**:"
   ]
  },
  {
   "cell_type": "code",
   "execution_count": null,
   "id": "018c3791",
   "metadata": {},
   "outputs": [],
   "source": [
    "service_lengths_rl = get_all_accepted_service_lengths(accepted_service_lengths_rl, len(accepted_service_lengths_rl), 100)\n",
    "service_lengths_kspff = get_all_accepted_service_lengths(accepted_service_lengths_kspff, len(accepted_service_lengths_kspff), 100)\n",
    "service_lengths_ffksp = get_all_accepted_service_lengths(accepted_service_lengths_ffksp, len(accepted_service_lengths_ffksp), 100)\n",
    "service_lengths_kspmu = get_all_accepted_service_lengths(accepted_service_lengths_kspmu, len(accepted_service_lengths_kspmu), 100)"
   ]
  },
  {
   "cell_type": "code",
   "execution_count": null,
   "id": "79ebc51e",
   "metadata": {},
   "outputs": [],
   "source": [
    "plt.hist(service_lengths_rl[0])\n",
    "plt.show()"
   ]
  },
  {
   "cell_type": "code",
   "execution_count": null,
   "id": "85e25608",
   "metadata": {},
   "outputs": [],
   "source": [
    "plt.hist(service_lengths_kspff[0])\n",
    "plt.show()"
   ]
  },
  {
   "cell_type": "code",
   "execution_count": null,
   "id": "6536d730",
   "metadata": {},
   "outputs": [],
   "source": [
    "plt.hist(service_lengths_kspmu[0])\n",
    "plt.show()"
   ]
  },
  {
   "cell_type": "code",
   "execution_count": null,
   "id": "7488ebda",
   "metadata": {},
   "outputs": [],
   "source": [
    "plt.hist(service_lengths_ffksp[0])\n",
    "plt.show()"
   ]
  },
  {
   "cell_type": "code",
   "execution_count": null,
   "id": "941232ea",
   "metadata": {},
   "outputs": [],
   "source": [
    "def get_mean_lens(num_eval, service_lengths):\n",
    "    return [np.mean(service_lengths[i]) for i in range(num_eval)]"
   ]
  },
  {
   "cell_type": "code",
   "execution_count": null,
   "id": "a6b8b030",
   "metadata": {},
   "outputs": [],
   "source": [
    "mean_lens_rl = get_mean_lens(100, service_lengths_rl)\n",
    "mean_lens_kspff = get_mean_lens(100, service_lengths_kspff)\n",
    "mean_lens_kspmu = get_mean_lens(100, service_lengths_kspmu)\n",
    "mean_lens_ffksp = get_mean_lens(100, service_lengths_ffksp)"
   ]
  },
  {
   "cell_type": "code",
   "execution_count": null,
   "id": "f0e5ef34",
   "metadata": {},
   "outputs": [],
   "source": [
    "print(np.mean(mean_lens_rl))\n",
    "print(np.mean(mean_lens_kspff))\n",
    "print(np.mean(mean_lens_kspmu))\n",
    "print(np.mean(mean_lens_ffksp))"
   ]
  },
  {
   "cell_type": "markdown",
   "id": "b63803e7",
   "metadata": {},
   "source": [
    "**Random agent analysis**"
   ]
  },
  {
   "cell_type": "code",
   "execution_count": null,
   "id": "27ea3119",
   "metadata": {},
   "outputs": [],
   "source": [
    "rewards_rand, eval_eps_rand, sim_time_rand, services_accepted_ep_rand, services_processed_ep_rand, services_accepted_rand, services_processed_rand, throughput_rand  = get_info(eval_dir_r, 'rand', False)"
   ]
  },
  {
   "cell_type": "code",
   "execution_count": null,
   "id": "3a0e18d1",
   "metadata": {},
   "outputs": [],
   "source": [
    "print(\"Mean:\",np.mean(services_accepted_ep_rand))\n",
    "print(\"Median:\",np.median(services_accepted_ep_rand))\n",
    "print(\"Std:\",np.std(services_accepted_ep_rand))"
   ]
  },
  {
   "cell_type": "code",
   "execution_count": null,
   "id": "29372c49",
   "metadata": {},
   "outputs": [],
   "source": [
    "cum_services_accepted_rl, cum_services_processed_rl = get_cum_results(eval_dir, 'rl')\n",
    "cum_services_accepted_kspff, cum_services_processed_kspff = get_cum_results(eval_dir_h, 'kspff')\n",
    "cum_services_accepted_ffksp, cum_services_processed_ffksp = get_cum_results(eval_dir_h, 'ffksp')\n",
    "cum_services_accepted_kspmu, cum_services_processed_kspmu = get_cum_results(eval_dir_h, 'kspmu')"
   ]
  },
  {
   "cell_type": "code",
   "execution_count": null,
   "id": "19765bad",
   "metadata": {},
   "outputs": [],
   "source": [
    "# snap_inds = [1249, 2499, 3749, 4999, 6249, 7499, 8749]\n",
    "snap_inds = [1249, 2499, 3749, 4999, 6249, 7499]\n",
    "\n",
    "n_evals = 100\n",
    "services_accepted_snaps_mean_rl = np.mean(get_all_accepted_snaps(cum_services_accepted_rl, snap_inds, n_evals), axis=0)\n",
    "services_accepted_snaps_mean_kspff = np.mean(get_all_accepted_snaps(cum_services_accepted_kspff, snap_inds, n_evals),axis=0)\n",
    "services_accepted_snaps_mean_ffksp = np.mean(get_all_accepted_snaps(cum_services_accepted_ffksp, snap_inds, n_evals), axis=0)\n",
    "services_accepted_snaps_mean_kspmu = np.mean(get_all_accepted_snaps(cum_services_accepted_kspmu, snap_inds, n_evals), axis=0)"
   ]
  },
  {
   "cell_type": "code",
   "execution_count": null,
   "id": "fe061d0a",
   "metadata": {},
   "outputs": [],
   "source": [
    "print(services_accepted_snaps_mean_rl)\n",
    "print(services_accepted_snaps_mean_kspff)\n",
    "print(services_accepted_snaps_mean_ffksp)\n",
    "print(services_accepted_snaps_mean_kspmu)"
   ]
  },
  {
   "cell_type": "markdown",
   "id": "dddeec58",
   "metadata": {},
   "source": [
    "**Service distribution stuff!**  \n",
    "Questions to answer:  \n",
    "* how consistent is the placement of services across evaluation runs? Do any patterns emerge?\n",
    "* How similar is the RL agent allocation of services to the heuristics?\n",
    "* What is the trend with respect to edge length? "
   ]
  },
  {
   "cell_type": "code",
   "execution_count": null,
   "id": "945d56c2",
   "metadata": {},
   "outputs": [],
   "source": [
    "num_edges = 22\n",
    "num_wavelengths = 100\n",
    "serdist_rl = get_all_services(service_dist_rl, num_edges, num_wavelengths, num_wavelengths)\n",
    "serdist_kspff = get_all_services(service_dist_kspff, num_edges, num_wavelengths, num_wavelengths)\n",
    "serdist_ffksp = get_all_services(service_dist_ffksp, num_edges, num_wavelengths, num_wavelengths)\n",
    "serdist_kspmu = get_all_services(service_dist_kspmu, num_edges, num_wavelengths, num_wavelengths)\n",
    "\n",
    "serdist_rl_30pc = get_all_services(service_dist_rl_30pc, num_edges, num_wavelengths, num_wavelengths)\n",
    "serdist_kspff_30pc = get_all_services(service_dist_kspff_30pc, num_edges, num_wavelengths, num_wavelengths)\n",
    "serdist_ffksp_30pc = get_all_services(service_dist_ffksp_30pc, num_edges, num_wavelengths, num_wavelengths)\n",
    "serdist_kspmu_30pc = get_all_services(service_dist_kspmu_30pc, num_edges, num_wavelengths, num_wavelengths)\n",
    "\n",
    "serdist_rl_60pc = get_all_services(service_dist_rl_60pc, num_edges, num_wavelengths, num_wavelengths)\n",
    "serdist_kspff_60pc = get_all_services(service_dist_kspff_60pc, num_edges, num_wavelengths, num_wavelengths)\n",
    "serdist_ffksp_60pc = get_all_services(service_dist_ffksp_60pc, num_edges, num_wavelengths, num_wavelengths)\n",
    "serdist_kspmu_60pc = get_all_services(service_dist_kspmu_60pc, num_edges, num_wavelengths, num_wavelengths)"
   ]
  },
  {
   "cell_type": "code",
   "execution_count": null,
   "id": "5423f80a",
   "metadata": {},
   "outputs": [],
   "source": [
    "np.arange(0,10,1)"
   ]
  },
  {
   "cell_type": "code",
   "execution_count": null,
   "id": "bbfac135",
   "metadata": {},
   "outputs": [],
   "source": [
    "# len_ordered_edge_inds = [21,20,17,16,18,9,6,3,19,15,14,12,4,10,0,8,13,1,11,5,7,2] # NSFNET\n",
    "len_ordered_edge_inds = np.arange(0,num_edges,1)\n",
    "serdist_rl_mean = reorder_edges(np.mean(serdist_rl, axis=2), len_ordered_edge_inds)\n",
    "serdist_kspff_mean = reorder_edges(np.mean(serdist_kspff, axis=2), len_ordered_edge_inds)\n",
    "serdist_ffksp_mean = reorder_edges(np.mean(serdist_ffksp, axis=2), len_ordered_edge_inds)\n",
    "serdist_kspmu_mean = reorder_edges(np.mean(serdist_kspmu, axis=2), len_ordered_edge_inds)\n",
    "\n",
    "serdist_rl_mean_30pc = reorder_edges(np.mean(serdist_rl_30pc, axis=2), len_ordered_edge_inds)\n",
    "serdist_kspff_mean_30pc = reorder_edges(np.mean(serdist_kspff_30pc, axis=2), len_ordered_edge_inds)\n",
    "serdist_ffksp_mean_30pc = reorder_edges(np.mean(serdist_ffksp_30pc, axis=2), len_ordered_edge_inds)\n",
    "serdist_kspmu_mean_30pc = reorder_edges(np.mean(serdist_kspmu_30pc, axis=2), len_ordered_edge_inds)\n",
    "\n",
    "serdist_rl_mean_60pc = reorder_edges(np.mean(serdist_rl_60pc, axis=2), len_ordered_edge_inds)\n",
    "serdist_kspff_mean_60pc = reorder_edges(np.mean(serdist_kspff_60pc, axis=2), len_ordered_edge_inds)\n",
    "serdist_ffksp_mean_60pc = reorder_edges(np.mean(serdist_ffksp_60pc, axis=2), len_ordered_edge_inds)\n",
    "serdist_kspmu_mean_60pc = reorder_edges(np.mean(serdist_kspmu_60pc, axis=2), len_ordered_edge_inds)"
   ]
  },
  {
   "cell_type": "markdown",
   "id": "86622529",
   "metadata": {},
   "source": [
    "**Look at service distribution after 30% of the episode:**"
   ]
  },
  {
   "cell_type": "code",
   "execution_count": null,
   "id": "b9721b55",
   "metadata": {},
   "outputs": [],
   "source": [
    "ax = sns.heatmap(serdist_rl_mean_30pc, linewidth=0.)\n",
    "ax.invert_yaxis()\n",
    "ax.set_xlabel(\"Channel ID\")\n",
    "ax.set_ylabel(\"Link ID\")\n",
    "# plt.savefig('figures/heatmap_30pc_'+exp_id+'_ac.jpeg', dpi=300,bbox_inches='tight')\n",
    "plt.show()"
   ]
  },
  {
   "cell_type": "code",
   "execution_count": null,
   "id": "9b1926f1",
   "metadata": {},
   "outputs": [],
   "source": [
    "ax = sns.heatmap(serdist_kspff_mean_30pc, linewidth=0.)\n",
    "ax.invert_yaxis()\n",
    "ax.set_xlabel(\"Channel ID\")\n",
    "ax.set_ylabel(\"Link ID\")\n",
    "# plt.savefig('figures/heatmap_30pc_uniform_kspff_ac.jpeg', dpi=300,bbox_inches='tight')\n",
    "plt.show()"
   ]
  },
  {
   "cell_type": "code",
   "execution_count": null,
   "id": "02b35b2e",
   "metadata": {},
   "outputs": [],
   "source": [
    "ax = sns.heatmap(serdist_ffksp_mean_30pc, linewidth=0.)\n",
    "ax.invert_yaxis()\n",
    "ax.set_xlabel(\"Channel ID\")\n",
    "ax.set_ylabel(\"Link ID\")\n",
    "# plt.savefig('figures/heatmap_30pc_uniform_ffksp_ac.jpeg', dpi=300,bbox_inches='tight')\n",
    "plt.show()"
   ]
  },
  {
   "cell_type": "code",
   "execution_count": null,
   "id": "ed47b39b",
   "metadata": {},
   "outputs": [],
   "source": [
    "ax = sns.heatmap(serdist_kspmu_mean_30pc, linewidth=0.)\n",
    "ax.invert_yaxis()\n",
    "ax.set_xlabel(\"Channel ID\")\n",
    "ax.set_ylabel(\"Link ID\")\n",
    "# plt.savefig('figures/heatmap_30pc_uniform_kspmu_ac.jpeg', dpi=300,bbox_inches='tight')\n",
    "plt.show()"
   ]
  },
  {
   "cell_type": "markdown",
   "id": "24d71719",
   "metadata": {},
   "source": [
    "**Look at service distribution after 60% of the episode:**"
   ]
  },
  {
   "cell_type": "code",
   "execution_count": null,
   "id": "4effc426",
   "metadata": {},
   "outputs": [],
   "source": [
    "ax = sns.heatmap(serdist_rl_mean_60pc, linewidth=0.)\n",
    "ax.invert_yaxis()\n",
    "ax.set_xlabel(\"Channel ID\")\n",
    "ax.set_ylabel(\"Link ID\")\n",
    "# plt.savefig('figures/heatmap_60pc_'+exp_id+'_ac.jpeg', dpi=300,bbox_inches='tight')\n",
    "plt.show()"
   ]
  },
  {
   "cell_type": "code",
   "execution_count": null,
   "id": "f0eed28b",
   "metadata": {},
   "outputs": [],
   "source": [
    "ax = sns.heatmap(serdist_kspff_mean_60pc, linewidth=0.)\n",
    "ax.invert_yaxis()\n",
    "ax.set_xlabel(\"Channel ID\")\n",
    "ax.set_ylabel(\"Link ID\")\n",
    "# plt.savefig('figures/heatmap_60pc_uniform_kspff_ac.jpeg', dpi=300,bbox_inches='tight')\n",
    "plt.show()"
   ]
  },
  {
   "cell_type": "code",
   "execution_count": null,
   "id": "0d8eb2ce",
   "metadata": {},
   "outputs": [],
   "source": [
    "ax = sns.heatmap(serdist_ffksp_mean_60pc, linewidth=0.)\n",
    "ax.invert_yaxis()\n",
    "ax.set_xlabel(\"Channel ID\")\n",
    "ax.set_ylabel(\"Link ID\")\n",
    "# plt.savefig('figures/heatmap_60pc_uniform_ffksp_ac.jpeg', dpi=300,bbox_inches='tight')\n",
    "plt.show()"
   ]
  },
  {
   "cell_type": "code",
   "execution_count": null,
   "id": "db5ddcf4",
   "metadata": {},
   "outputs": [],
   "source": [
    "ax = sns.heatmap(serdist_kspmu_mean_60pc, linewidth=0.)\n",
    "ax.invert_yaxis()\n",
    "ax.set_xlabel(\"Channel ID\")\n",
    "ax.set_ylabel(\"Link ID\")\n",
    "# plt.savefig('figures/heatmap_60pc_uniform_kspmu_ac.jpeg', dpi=300,bbox_inches='tight')\n",
    "plt.show()"
   ]
  },
  {
   "cell_type": "markdown",
   "id": "9f5fb9f8",
   "metadata": {},
   "source": [
    "**Look at distribution across the channels - is it uniform?**"
   ]
  },
  {
   "cell_type": "code",
   "execution_count": null,
   "id": "e69ec458",
   "metadata": {},
   "outputs": [],
   "source": [
    "mean_channel_dist_30pc = np.mean(serdist_rl_mean_30pc, axis=0) / np.max(np.mean(serdist_rl_mean_30pc, axis=0))\n",
    "mean_channel_dist_60pc = np.mean(serdist_rl_mean_60pc, axis=0) / np.max(np.mean(serdist_rl_mean_60pc, axis=0))"
   ]
  },
  {
   "cell_type": "code",
   "execution_count": null,
   "id": "430d266b",
   "metadata": {},
   "outputs": [],
   "source": [
    "mean_channel_dist_ffksp_30pc = np.mean(serdist_ffksp_mean_30pc, axis=0) / np.max(np.mean(serdist_ffksp_mean_30pc, axis=0))\n",
    "mean_channel_dist_kspff_30pc = np.mean(serdist_kspff_mean_30pc, axis=0) / np.max(np.mean(serdist_kspff_mean_30pc, axis=0))\n",
    "mean_channel_dist_kspmu_30pc = np.mean(serdist_kspmu_mean_30pc, axis=0) / np.max(np.mean(serdist_kspmu_mean_30pc, axis=0))\n",
    "\n",
    "mean_channel_dist_ffksp_60pc = np.mean(serdist_ffksp_mean_60pc, axis=0) / np.max(np.mean(serdist_ffksp_mean_60pc, axis=0))\n",
    "mean_channel_dist_kspff_60pc = np.mean(serdist_kspff_mean_60pc, axis=0) / np.max(np.mean(serdist_kspff_mean_60pc, axis=0))\n",
    "mean_channel_dist_kspmu_60pc = np.mean(serdist_kspmu_mean_60pc, axis=0) / np.max(np.mean(serdist_kspmu_mean_60pc, axis=0))"
   ]
  },
  {
   "cell_type": "code",
   "execution_count": null,
   "id": "1fead2b5",
   "metadata": {},
   "outputs": [],
   "source": [
    "mean_channel_dist_30pc = np.mean(serdist_rl_mean_30pc, axis=0)\n",
    "mean_channel_dist_60pc = np.mean(serdist_rl_mean_60pc, axis=0) "
   ]
  },
  {
   "cell_type": "code",
   "execution_count": null,
   "id": "5f667e0f",
   "metadata": {},
   "outputs": [],
   "source": [
    "mean_channel_dist_ffksp_30pc = np.mean(serdist_ffksp_mean_30pc, axis=0) \n",
    "mean_channel_dist_kspff_30pc = np.mean(serdist_kspff_mean_30pc, axis=0) \n",
    "mean_channel_dist_kspmu_30pc = np.mean(serdist_kspmu_mean_30pc, axis=0) \n",
    "\n",
    "mean_channel_dist_ffksp_60pc = np.mean(serdist_ffksp_mean_60pc, axis=0) \n",
    "mean_channel_dist_kspff_60pc = np.mean(serdist_kspff_mean_60pc, axis=0) \n",
    "mean_channel_dist_kspmu_60pc = np.mean(serdist_kspmu_mean_60pc, axis=0) "
   ]
  },
  {
   "cell_type": "code",
   "execution_count": null,
   "id": "ce27e30c",
   "metadata": {},
   "outputs": [],
   "source": [
    "plt.plot(mean_channel_dist_30pc, 'x', label='RL')\n",
    "plt.plot(mean_channel_dist_kspff_30pc, '+', label='kSP-FF')\n",
    "plt.plot(mean_channel_dist_ffksp_30pc, '.', label='FF-kSP')\n",
    "plt.plot(mean_channel_dist_kspmu_30pc, '*', label='kSP-MU')\n",
    "plt.legend(ncol=2)\n",
    "plt.xlabel(\"Channel ID\")\n",
    "plt.ylabel(\"Normalised number of services\")\n",
    "# plt.ylim([0,10])\n",
    "plt.xlim([0,100])\n",
    "# plt.savefig('figures/channel_distribution_comp_30pc_nonnormalised_ac', dpi=500,bbox_inches='tight')\n",
    "plt.show() "
   ]
  },
  {
   "cell_type": "code",
   "execution_count": null,
   "id": "17fd3ba2",
   "metadata": {},
   "outputs": [],
   "source": [
    "# f, ax = plt.subplots()\n",
    "plt.plot(mean_channel_dist_60pc, 'x', label='RL')\n",
    "plt.plot(mean_channel_dist_kspff_60pc, '+', label='kSP-FF')\n",
    "plt.plot(mean_channel_dist_ffksp_60pc, '.', label='FF-kSP')\n",
    "plt.plot(mean_channel_dist_kspmu_60pc, '*', label='kSP-MU')\n",
    "plt.legend(ncol=2, loc=4)\n",
    "plt.xlabel(\"Channel ID\")\n",
    "plt.ylabel(\"Normalised number of services\")\n",
    "# plt.ylim([3,10])\n",
    "plt.xlim([0,100])\n",
    "# ax.set_aspect(1.0/ax.get_data_ratio(), adjustable='box')\n",
    "# f.patch.set_facecolor('w')\n",
    "# plt.savefig('figures/channel_distribution_comp_60pc_nonnormalised_ac', dpi=500,bbox_inches='tight')\n",
    "plt.show() "
   ]
  },
  {
   "cell_type": "markdown",
   "id": "12c14404",
   "metadata": {},
   "source": [
    "**Look at distribution across links**"
   ]
  },
  {
   "cell_type": "code",
   "execution_count": null,
   "id": "55731b0d",
   "metadata": {},
   "outputs": [],
   "source": [
    "mean_link_dist_30pc = np.mean(serdist_rl_mean_30pc, axis=1) / np.max(np.mean(serdist_rl_mean_30pc, axis=1))\n",
    "mean_link_dist_60pc = np.mean(serdist_rl_mean_60pc, axis=1) / np.max(np.mean(serdist_rl_mean_60pc, axis=1))"
   ]
  },
  {
   "cell_type": "code",
   "execution_count": null,
   "id": "2d4ed39b",
   "metadata": {},
   "outputs": [],
   "source": [
    "mean_link_dist_ffksp_30pc = np.mean(serdist_ffksp_mean_30pc, axis=1) / np.max(np.mean(serdist_ffksp_mean_30pc, axis=1))\n",
    "mean_link_dist_kspff_30pc = np.mean(serdist_kspff_mean_30pc, axis=1) / np.max(np.mean(serdist_kspff_mean_30pc, axis=1))\n",
    "mean_link_dist_kspmu_30pc = np.mean(serdist_kspmu_mean_30pc, axis=1) / np.max(np.mean(serdist_kspmu_mean_30pc, axis=1))\n",
    "mean_link_dist_ffksp_60pc = np.mean(serdist_ffksp_mean_60pc, axis=1) / np.max(np.mean(serdist_ffksp_mean_60pc, axis=1))\n",
    "mean_link_dist_kspff_60pc = np.mean(serdist_kspff_mean_60pc, axis=1) / np.max(np.mean(serdist_kspff_mean_60pc, axis=1))\n",
    "mean_link_dist_kspmu_60pc = np.mean(serdist_kspmu_mean_60pc, axis=1) / np.max(np.mean(serdist_kspmu_mean_60pc, axis=1))"
   ]
  },
  {
   "cell_type": "code",
   "execution_count": null,
   "id": "652fc1bc",
   "metadata": {},
   "outputs": [],
   "source": [
    "mean_link_dist_30pc = np.mean(serdist_rl_mean_30pc, axis=1)\n",
    "mean_link_dist_60pc = np.mean(serdist_rl_mean_60pc, axis=1) "
   ]
  },
  {
   "cell_type": "code",
   "execution_count": null,
   "id": "0685aea4",
   "metadata": {},
   "outputs": [],
   "source": [
    "mean_link_dist_ffksp_30pc = np.mean(serdist_ffksp_mean_30pc, axis=1) \n",
    "mean_link_dist_kspff_30pc = np.mean(serdist_kspff_mean_30pc, axis=1)\n",
    "mean_link_dist_kspmu_30pc = np.mean(serdist_kspmu_mean_30pc, axis=1) \n",
    "mean_link_dist_ffksp_60pc = np.mean(serdist_ffksp_mean_60pc, axis=1) \n",
    "mean_link_dist_kspff_60pc = np.mean(serdist_kspff_mean_60pc, axis=1) \n",
    "mean_link_dist_kspmu_60pc = np.mean(serdist_kspmu_mean_60pc, axis=1) "
   ]
  },
  {
   "cell_type": "markdown",
   "id": "261a0151",
   "metadata": {},
   "source": [
    "MAE of link distribution for RL vs heuristics - very different to FF-kSP at the start, similar at the end..."
   ]
  },
  {
   "cell_type": "code",
   "execution_count": null,
   "id": "8b13c01e",
   "metadata": {},
   "outputs": [],
   "source": [
    "# print(np.mean(abs(mean_link_dist_30pc - mean_link_dist_ffksp_30pc)))\n",
    "print(np.mean(abs(mean_link_dist_60pc - mean_link_dist_ffksp_60pc)))\n",
    "# print(np.mean(abs(mean_link_dist_30pc - mean_link_dist_kspff_30pc)))\n",
    "print(np.mean(abs(mean_link_dist_60pc - mean_link_dist_kspff_60pc)))\n",
    "# print(np.mean(abs(mean_link_dist_30pc - mean_link_dist_kspmu_30pc)))\n",
    "print(np.mean(abs(mean_link_dist_60pc - mean_link_dist_kspmu_60pc)))"
   ]
  },
  {
   "cell_type": "code",
   "execution_count": null,
   "id": "b32bc6f1",
   "metadata": {},
   "outputs": [],
   "source": [
    "0.24/0.08"
   ]
  },
  {
   "cell_type": "code",
   "execution_count": null,
   "id": "87991376",
   "metadata": {},
   "outputs": [],
   "source": [
    "0.10/0.06"
   ]
  },
  {
   "cell_type": "code",
   "execution_count": null,
   "id": "fab60a21",
   "metadata": {},
   "outputs": [],
   "source": [
    "0.06/0.04"
   ]
  },
  {
   "cell_type": "code",
   "execution_count": null,
   "id": "0339263e",
   "metadata": {},
   "outputs": [],
   "source": [
    "mean_link_dist_30pc"
   ]
  },
  {
   "cell_type": "code",
   "execution_count": null,
   "id": "c80657e6",
   "metadata": {},
   "outputs": [],
   "source": [
    "link_ids.astype('str')"
   ]
  },
  {
   "cell_type": "code",
   "execution_count": null,
   "id": "b6216d00",
   "metadata": {},
   "outputs": [],
   "source": [
    "link_ids = np.arange(0,num_edges,1)\n",
    "f, ax = plt.subplots()\n",
    "plt.plot(link_ids, mean_link_dist_30pc, marker='x', label='RL')\n",
    "plt.plot(link_ids, mean_link_dist_kspff_30pc, marker='+', label='kSP-FF')\n",
    "plt.plot(link_ids, mean_link_dist_ffksp_30pc, marker='.', label='FF-kSP')\n",
    "plt.plot(link_ids, mean_link_dist_kspmu_30pc, marker='*', label='kSP-MU')\n",
    "plt.xlabel(\"Link ID\")\n",
    "plt.ylabel(\"Number of services\")\n",
    "plt.xlim([0,num_edges-1])\n",
    "ax.set_xticks(link_ids)\n",
    "ax.set_xticklabels(link_ids.astype('str'))\n",
    "plt.legend(ncol=2, loc='upper center')\n",
    "plt.grid()\n",
    "# plt.savefig('figures/link_distribution_comp_30pc_marker_nonnormalised_ac', dpi=500,bbox_inches='tight')\n",
    "plt.show() "
   ]
  },
  {
   "cell_type": "code",
   "execution_count": null,
   "id": "c7e3e239",
   "metadata": {},
   "outputs": [],
   "source": [
    "link_ids = np.arange(0,num_edges,1)\n",
    "f, ax = plt.subplots()\n",
    "plt.plot(link_ids, mean_link_dist_60pc, marker='x', label='RL')\n",
    "plt.plot(link_ids, mean_link_dist_kspff_60pc, marker='+', label='kSP-FF')\n",
    "plt.plot(link_ids, mean_link_dist_ffksp_60pc, marker='.', label='FF-kSP')\n",
    "plt.plot(link_ids, mean_link_dist_kspmu_60pc, marker='*', label='kSP-MU')\n",
    "plt.xlabel(\"Link ID\")\n",
    "plt.ylabel(\"Number of services\")\n",
    "plt.xlim([0,num_edges-1])\n",
    "ax.set_xticks(link_ids)\n",
    "ax.set_xticklabels(link_ids.astype('str'))\n",
    "plt.grid()\n",
    "plt.legend(ncol=2)\n",
    "# ax.set_aspect(1.0/ax.get_data_ratio(), adjustable='box')\n",
    "# f.patch.set_facecolor('w')\n",
    "# plt.savefig('figures/link_distribution_comp_60pc_marker_nonnormalised_ac', dpi=500,bbox_inches='tight')\n",
    "plt.show() "
   ]
  },
  {
   "cell_type": "markdown",
   "id": "d10f30f8",
   "metadata": {},
   "source": [
    "Mapping of topology to edge indices and then to length ordered edge indices:  \n",
    "S D Length Original length-ordered  \n",
    "1 2 1000 -->   0  --> 14  \n",
    "1 3 1500 -->   1  --> 17  \n",
    "1 8 2400 -->   2  --> 21  \n",
    "2 3 600  -->   3   --> 7  \n",
    "2 4 700  -->   4   --> 12  \n",
    "3 6 1800 -->   5   --> 19  \n",
    "4 5 600  -->   6   --> 6  \n",
    "4 11 1900-->   7   --> 20  \n",
    "5 6 1200 -->   8   --> 15  \n",
    "5 7 600  -->   9   --> 5  \n",
    "6 10 1000-->   10  --> 13  \n",
    "6 14 1800-->   11  --> 18  \n",
    "7 8 700  -->   12  --> 11  \n",
    "7 10 1300-->   13  --> 16  \n",
    "8 9 700  -->   14  --> 10  \n",
    "9 10 700 -->   15  --> 9  \n",
    "9 12 300 -->   16  --> 3  \n",
    "9 13 300 -->   17  --> 2  \n",
    "11 12 600-->   18  --> 4  \n",
    "11 13 700-->   19  --> 8  \n",
    "12 14 300-->   20  --> 1  \n",
    "13 14 100-->   21  --> 0  "
   ]
  },
  {
   "cell_type": "code",
   "execution_count": null,
   "id": "120bd564",
   "metadata": {},
   "outputs": [],
   "source": [
    "len_ordered_edge_inds = [21,20,17,16,18,9,6,3,19,15,14,12,4,10,0,8,13,1,11,5,7,2]\n",
    "len(len_ordered_edge_inds)"
   ]
  },
  {
   "cell_type": "markdown",
   "id": "96639555",
   "metadata": {},
   "source": [
    "**Topology link utilisation plot**"
   ]
  },
  {
   "cell_type": "code",
   "execution_count": null,
   "id": "9167c845",
   "metadata": {},
   "outputs": [],
   "source": [
    "class MplColorHelper:\n",
    "\n",
    "  def __init__(self, cmap_name, start_val, stop_val):\n",
    "    self.cmap_name = cmap_name\n",
    "    self.cmap = plt.get_cmap(cmap_name)\n",
    "    self.norm = matplotlib.colors.Normalize(vmin=start_val, vmax=stop_val)\n",
    "    self.scalarMap = cm.ScalarMappable(norm=self.norm, cmap=self.cmap)\n",
    "\n",
    "  def get_rgb(self, val):\n",
    "    return self.scalarMap.to_rgba(val)\n",
    "import matplotlib.cm as cm\n",
    "import matplotlib.colors as colors\n",
    "from scipy.io import savemat, loadmat"
   ]
  },
  {
   "cell_type": "code",
   "execution_count": null,
   "id": "1ee8e68a",
   "metadata": {},
   "outputs": [],
   "source": [
    "COL_30pc = MplColorHelper('hot', np.min(mean_link_dist_30pc), np.max(mean_link_dist_30pc))\n",
    "COL_60pc = MplColorHelper('hot', np.min(mean_link_dist_60pc), np.max(mean_link_dist_60pc))"
   ]
  },
  {
   "cell_type": "code",
   "execution_count": null,
   "id": "2c62fd88",
   "metadata": {},
   "outputs": [],
   "source": [
    "fig, ax = plt.subplots()\n",
    "df = pd.DataFrame({\"x\": link_ids, \"y\": mean_link_dist_30pc})\n",
    "ax.scatter(df.x, df.y, color=COL_30pc.get_rgb(mean_link_dist_30pc))\n",
    "ax.set_xticks(df.x)\n",
    "plt.show()"
   ]
  },
  {
   "cell_type": "code",
   "execution_count": null,
   "id": "4a202a3c",
   "metadata": {},
   "outputs": [],
   "source": [
    "fig, ax = plt.subplots()\n",
    "df = pd.DataFrame({\"x\": link_ids, \"y\": mean_link_dist_60pc})\n",
    "ax.scatter(df.x, df.y, color=COL_60pc.get_rgb(mean_link_dist_60pc))\n",
    "ax.set_xticks(df.x)\n",
    "plt.show()"
   ]
  },
  {
   "cell_type": "code",
   "execution_count": null,
   "id": "6661d541",
   "metadata": {},
   "outputs": [],
   "source": [
    "COL_60pc.get_rgb(mean_link_dist_60pc)"
   ]
  },
  {
   "cell_type": "code",
   "execution_count": null,
   "id": "63613329",
   "metadata": {},
   "outputs": [],
   "source": [
    "colours_dict_30pc = {\"rgb_utils_30pc\": COL.get_rgb(mean_link_dist_30pc)}\n",
    "colours_dict_60pc = {\"rgb_utils_60pc\": COL.get_rgb(mean_link_dist_60pc)}\n",
    "\n",
    "savemat(\"results/rgb_link_utils_30pc.mat\", colours_dict_30pc)\n",
    "savemat(\"results/rgb_link_utils_60pc.mat\", colours_dict_60pc)"
   ]
  },
  {
   "cell_type": "code",
   "execution_count": null,
   "id": "5d4f4cf4",
   "metadata": {},
   "outputs": [],
   "source": [
    "mean_link_dist_30pc_dict = {\"link_utils_30pc\": mean_link_dist_30pc}\n",
    "mean_link_dist_60pc_dict = {\"link_utils_60pc\": mean_link_dist_60pc}\n",
    "\n",
    "savemat(\"results/link_utils_30pc.mat\", mean_link_dist_30pc_dict)\n",
    "savemat(\"results/link_utils_60pc.mat\", mean_link_dist_60pc_dict)"
   ]
  },
  {
   "cell_type": "markdown",
   "id": "4646c076",
   "metadata": {},
   "source": [
    "**Eval timing**"
   ]
  },
  {
   "cell_type": "code",
   "execution_count": null,
   "id": "a41ae881",
   "metadata": {},
   "outputs": [],
   "source": [
    "rl_timing = pickle.load(open(\"/Users/joshnevin/RL_FOCSLab/eval_timing/2022-03-10v45nsfU100GR2_rl.pkl\",'rb'))\n",
    "kspff_timing = pickle.load(open(\"/Users/joshnevin/RL_FOCSLab/eval_timing/2022-03-30nsfU100Gtiming_kspff.pkl\",'rb'))\n",
    "kspmu_timing = pickle.load(open(\"/Users/joshnevin/RL_FOCSLab/eval_timing/2022-03-30nsfU100Gtiming_kspmu.pkl\",'rb'))\n",
    "ffksp_timing = pickle.load(open(\"/Users/joshnevin/RL_FOCSLab/eval_timing/2022-03-30nsfU100Gtiming_ffksp.pkl\",'rb'))"
   ]
  },
  {
   "cell_type": "code",
   "execution_count": null,
   "id": "4da6667a",
   "metadata": {},
   "outputs": [],
   "source": [
    "print(rl_timing/60)\n",
    "print(kspff_timing/60)\n",
    "print(kspmu_timing/60)\n",
    "print(ffksp_timing/60)"
   ]
  },
  {
   "cell_type": "markdown",
   "id": "76fd89ee",
   "metadata": {},
   "source": [
    "Calculate average over multiple runs"
   ]
  },
  {
   "cell_type": "code",
   "execution_count": null,
   "id": "3af017eb",
   "metadata": {},
   "outputs": [],
   "source": [
    "exp_id_r1 = \"2022-03-07v7nsfU100G\"\n",
    "exp_id_r2 = \"2022-03-07v7nsfU100GR2\"\n",
    "exp_id_r3 = \"2022-03-07v7nsfU100GR3\"\n",
    "exp_id_r4 = \"2022-03-07v7nsfU100GR4\"\n",
    "exp_id_r5 = \"2022-03-07v7nsfU100GR5\"\n",
    "\n",
    "R1_mean = pickle.load(open(\"results/\"+exp_id_r1+\"_mean.pkl\",'rb'))\n",
    "R2_mean = pickle.load(open(\"results/\"+exp_id_r2+\"_mean.pkl\",'rb'))\n",
    "R3_mean = pickle.load(open(\"results/\"+exp_id_r3+\"_mean.pkl\",'rb'))\n",
    "R4_mean = pickle.load(open(\"results/\"+exp_id_r4+\"_mean.pkl\",'rb'))\n",
    "# R5_mean = pickle.load(open(\"results/\"+exp_id_r5+\"_mean.pkl\",'rb'))\n",
    "ave_mean = np.mean([R1_mean,R2_mean,R3_mean,R4_mean])\n",
    "R1_median = pickle.load(open(\"results/\"+exp_id_r1+\"_median.pkl\",'rb'))\n",
    "R2_median = pickle.load(open(\"results/\"+exp_id_r2+\"_median.pkl\",'rb'))\n",
    "R3_median = pickle.load(open(\"results/\"+exp_id_r3+\"_median.pkl\",'rb'))\n",
    "R4_median = pickle.load(open(\"results/\"+exp_id_r4+\"_median.pkl\",'rb'))\n",
    "# R5_median = pickle.load(open(\"results/\"+exp_id_r5+\"_median.pkl\",'rb'))\n",
    "ave_median = np.mean([R1_median,R2_median,R3_median,R4_median])\n",
    "R1_std = pickle.load(open(\"results/\"+exp_id_r1+\"_std.pkl\",'rb'))\n",
    "R2_std = pickle.load(open(\"results/\"+exp_id_r2+\"_std.pkl\",'rb'))\n",
    "R3_std = pickle.load(open(\"results/\"+exp_id_r3+\"_std.pkl\",'rb'))\n",
    "R4_std = pickle.load(open(\"results/\"+exp_id_r4+\"_std.pkl\",'rb'))\n",
    "# R5_std = pickle.load(open(\"results/\"+exp_id_r5+\"_std.pkl\",'rb'))\n",
    "ave_std = np.mean([R1_std,R2_std,R3_std,R4_std])"
   ]
  },
  {
   "cell_type": "code",
   "execution_count": null,
   "id": "a1c326c5",
   "metadata": {},
   "outputs": [],
   "source": [
    "print(\"Mean:\",ave_mean)\n",
    "print(\"Median:\",ave_median)\n",
    "print(\"Std:\",ave_std)"
   ]
  },
  {
   "cell_type": "markdown",
   "id": "45ee32f2",
   "metadata": {},
   "source": [
    "Plotting for multiple RL agents:"
   ]
  },
  {
   "cell_type": "code",
   "execution_count": null,
   "id": "87795532",
   "metadata": {},
   "outputs": [],
   "source": [
    "current_directory = os.getcwd()\n",
    "\n",
    "exp_id_m_u = \"2022-03-10v45nsfU100GR2\"  \n",
    "exp_id_nm_u = \"2022-03-15v45nsfU100GnomaskR3\"\n",
    "\n",
    "exp_id_m_nu = \"2022-03-15v45nsfUp5100GR3\"\n",
    "exp_id_nm_nu = \"2022-03-16v45nsfUp50100GnomaskR5\"  \n",
    "\n",
    "eval_name = \"_no_tfb\"\n",
    "route_dir = \"/Users/joshnevin/RL_FOCSLab/tmp/RWAFOCS-ppo/\"\n",
    "eval_dir_m_u = route_dir+exp_id_m_u+\"/_core_0/eval_results\"+eval_name\n",
    "eval_dir_nm_u = route_dir+exp_id_nm_u+\"/_core_0/eval_results\"+eval_name\n",
    "eval_dir_m_nu = route_dir+exp_id_m_nu+\"/_core_0/eval_results\"+eval_name\n",
    "eval_dir_nm_nu = route_dir+exp_id_nm_nu+\"/_core_0/eval_results\"+eval_name"
   ]
  },
  {
   "cell_type": "code",
   "execution_count": null,
   "id": "313597ed",
   "metadata": {},
   "outputs": [],
   "source": [
    "rewards_rl_m_u, eval_eps_rl_m_u, sim_time_rl_m_u, services_accepted_ep_rl_m_u, services_processed_ep_rl_m_u, services_accepted_rl_m_u, services_processed_rl_m_u, throughput_rl_m_u = get_info(eval_dir_m_u, 'rl', False)\n",
    "rewards_rl_nm_u, eval_eps_rl_nm_u, sim_time_rl_nm_u, services_accepted_ep_rl_nm_u, services_processed_ep_rl_nm_u, services_accepted_rl_nm_u, services_processed_rl_nm_u, throughput_rl_nm_u = get_info(eval_dir_nm_u, 'rl', False)\n",
    "rewards_rl_m_nu, eval_eps_rl_m_nu, sim_time_rl_m_nu, services_accepted_ep_rl_m_nu, services_processed_ep_rl_m_nu, services_accepted_rl_m_nu, services_processed_rl_m_nu, throughput_rl_m_nu = get_info(eval_dir_m_nu, 'rl', False)\n",
    "rewards_rl_nm_nu, eval_eps_rl_nm_nu, sim_time_rl_nm_nu, services_accepted_ep_rl_nm_nu, services_processed_ep_rl_nm_nu, services_accepted_rl_nm_nu, services_processed_rl_nm_nu, throughput_rl_nm_nu = get_info(eval_dir_nm_nu, 'rl', False)"
   ]
  },
  {
   "cell_type": "code",
   "execution_count": null,
   "id": "8cbdea88",
   "metadata": {},
   "outputs": [],
   "source": [
    "f, ax = plt.subplots()\n",
    "# dict_plt = {'IAM RL U':services_accepted_ep_rl_m_u,'Stan. RL U':services_accepted_ep_rl_nm_u,\n",
    "#                 'IAM RL non-U':services_accepted_ep_rl_m_nu,'Stan. RL non-U':services_accepted_ep_rl_nm_nu}\n",
    "dict_plt = {'Random':services_accepted_ep_rand,'St. RL':services_accepted_ep_rl_nm_u,'Masked RL':services_accepted_ep_rl_m_u,'kSP-FF':services_accepted_ep_kspff,'kSP-MU':services_accepted_ep_kspmu,'FF-kSP':services_accepted_ep_ffksp,}\n",
    "# dict_plt = {'kSP-FF':services_accepted_ep_kspff,'kSP-MU':services_accepted_ep_kspmu,'FF-kSP':services_accepted_ep_ffksp, 'RL':services_accepted_ep_rl}\n",
    "bp = plt.boxplot(dict_plt.values(),showfliers=False,showmeans=True)\n",
    "ax.set_xticklabels(dict_plt.keys())\n",
    "plt.ylabel(\"Services accepted\")\n",
    "# ax.set_aspect(1.0/ax.get_data_ratio(), adjustable='box')\n",
    "f.patch.set_facecolor('w')\n",
    "plt.grid()\n",
    "# plt.savefig('figures/masked_vs_unmasked_nonuniform_boxplot.png', dpi=500,bbox_inches='tight')\n",
    "# plt.savefig('figures/masked_vs_unmasked_uniform_boxplot.png', dpi=500,bbox_inches='tight')\n",
    "# plt.savefig('figures/masked_vs_unmasked_with_random_uniform_boxplot.png', dpi=500,bbox_inches='tight')\n",
    "plt.savefig('figures/masked_vs_unmasked_with_random_and_heuristics_uniform_boxplot.png', dpi=500,bbox_inches='tight')\n",
    "plt.show()"
   ]
  },
  {
   "cell_type": "code",
   "execution_count": null,
   "id": "3b26a31f",
   "metadata": {},
   "outputs": [],
   "source": [
    "topology = 'nsfnet'\n",
    "f, ax = plt.subplots()\n",
    "bp = dict_plt = {'kSP-FF':services_accepted_ep_kspff,'kSP-MU':services_accepted_ep_kspmu,'FF-kSP':services_accepted_ep_ffksp,\n",
    "            'RL':services_accepted_ep_rl_1}\n",
    "bp = plt.boxplot(dict_plt.values(),showfliers=False,showmeans=True)\n",
    "ax.set_xticklabels(dict_plt.keys())\n",
    "plt.ylabel(\"Services accepted\")\n",
    "# ax.set_aspect(1.0/ax.get_data_ratio(), adjustable='box')\n",
    "f.patch.set_facecolor('w')\n",
    "# plt.legend([bp[\"boxes\"][0]], ['A'], loc='upper right')\n",
    "plt.grid()\n",
    "#plt.savefig('figures/servicesaccepted_bestresults'+topology+eval_name_plot+'modelA.png', dpi=500,bbox_inches='tight')\n",
    "plt.show()"
   ]
  },
  {
   "cell_type": "code",
   "execution_count": null,
   "id": "45270b2f",
   "metadata": {},
   "outputs": [],
   "source": [
    "medians = [item.get_ydata()[0] for item in bp['medians']]\n",
    "means = [item.get_ydata()[0] for item in bp['means']]\n",
    "print(f'Medians: {medians}\\n'\n",
    "      f'Means:   {means}')"
   ]
  },
  {
   "cell_type": "code",
   "execution_count": null,
   "id": "737ca830",
   "metadata": {},
   "outputs": [],
   "source": [
    "minimums = [round(item.get_ydata()[0], 1) for item in bp['caps']][::2]\n",
    "maximums = [round(item.get_ydata()[0], 1) for item in bp['caps']][1::2]\n",
    "print(f'Minimums: {minimums}\\n'\n",
    "      f'Maximums: {maximums}')\n",
    "q1 = [round(min(item.get_ydata()), 1) for item in bp['boxes']]\n",
    "q3 = [round(max(item.get_ydata()), 1) for item in bp['boxes']]\n",
    "# print(f'Q1: {q1}\\n'\n",
    "#       f'Q3: {q3}')\n",
    "IQR = [q3[i] - q1[i] for i in range(len(q1))]\n",
    "print(IQR)"
   ]
  },
  {
   "cell_type": "markdown",
   "id": "672d5ec8",
   "metadata": {},
   "source": [
    "Timing results"
   ]
  },
  {
   "cell_type": "code",
   "execution_count": null,
   "id": "ed63cb68",
   "metadata": {},
   "outputs": [],
   "source": [
    "rl_time = pickle.load(open(\"/Users/joshnevin/RL_FOCSLab/eval_timing/\"+exp_id+\"_RL.pkl\", 'rb'))\n",
    "kspff_time = pickle.load(open(\"/Users/joshnevin/RL_FOCSLab/eval_timing/\"+exp_id+\"_kspff.pkl\", 'rb'))\n",
    "ffksp_time = pickle.load(open(\"/Users/joshnevin/RL_FOCSLab/eval_timing/\"+exp_id+\"_ffksp.pkl\", 'rb'))\n",
    "camu_time = pickle.load(open(\"/Users/joshnevin/RL_FOCSLab/eval_timing/\"+exp_id+\"_camu.pkl\", 'rb'))\n",
    "kspmu_time = pickle.load(open(\"/Users/joshnevin/RL_FOCSLab/eval_timing/\"+exp_id+\"_kspmu.pkl\", 'rb'))"
   ]
  },
  {
   "cell_type": "code",
   "execution_count": null,
   "id": "d87e85e1",
   "metadata": {},
   "outputs": [],
   "source": [
    "print(rl_time)\n",
    "print(kspff_time)\n",
    "print(ffksp_time)\n",
    "print(camu_time)\n",
    "print(kspmu_time)"
   ]
  },
  {
   "cell_type": "code",
   "execution_count": null,
   "id": "7601ce50",
   "metadata": {},
   "outputs": [],
   "source": []
  }
 ],
 "metadata": {
  "kernelspec": {
   "display_name": "Python 3 (ipykernel)",
   "language": "python",
   "name": "python3"
  },
  "language_info": {
   "codemirror_mode": {
    "name": "ipython",
    "version": 3
   },
   "file_extension": ".py",
   "mimetype": "text/x-python",
   "name": "python",
   "nbconvert_exporter": "python",
   "pygments_lexer": "ipython3",
   "version": "3.7.12"
  }
 },
 "nbformat": 4,
 "nbformat_minor": 5
}
